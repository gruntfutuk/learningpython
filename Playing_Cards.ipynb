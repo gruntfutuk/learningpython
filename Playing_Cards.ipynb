{
 "cells": [
  {
   "cell_type": "code",
   "execution_count": null,
   "metadata": {},
   "outputs": [],
   "source": [
    "''' unfinished code - prototype - dealing playing cards '''\n",
    "\n",
    "\n",
    "from random import choice\n",
    "from random import shuffle\n",
    "from pprint import pprint as pp\n",
    "\n",
    "def make_deck(aces_high = True):\n",
    "    ''' generate a new deck\n",
    "        return: List[List[str, str]]\n",
    "    '''\n",
    "    SUITS = ['H', 'S', 'D', 'C']\n",
    "    FACES = ([] if aces_high else ['A']) + \\\n",
    "            [f'{face}' for face in range(2, 11)] + ['J', 'Q', 'K'] + \\\n",
    "            (['A'] if aces_high else [])\n",
    "    deck = [(suit, face) for suit in SUITS for face in FACES]\n",
    "    return deck\n",
    "\n",
    "def player_names(players = [], num = 2):\n",
    "    ''' return list of players with their name, hand and score\n",
    "        return: List[Dict[\n",
    "            name: str,\n",
    "            hand: List[List[str, str]],\n",
    "            score: int\n",
    "            ]\n",
    "    '''\n",
    "    while True and len(players) < num:\n",
    "        name = input('Enter a new player name: ')\n",
    "        if name and not name in (p['name'] for p in players) and name != 'draw':\n",
    "            players.append({'name': name, 'hand': [], 'score': 0})\n",
    "        else:\n",
    "            print('Sorry, unique player name required.')\n",
    "    return players\n",
    "            \n",
    "def result(players, aces_high = True, trumps = 'H'):\n",
    "    ''' score current hand - play and remove cards '''\n",
    "    pass\n",
    "\n",
    "def deal(deck, players, cards = 6):\n",
    "    if len(deck) < ( cards * len(players)):\n",
    "        return False\n",
    "    for _ in range(cards):\n",
    "        for player in players:\n",
    "            player['hand'].append(deck.pop(0))\n",
    "    return True\n",
    "                \n",
    "players = player_names(num = 2)\n",
    "\n",
    "DECK = make_deck()\n",
    "game = DECK[:]\n",
    "shuffle(game)\n",
    "deal_size = 6\n",
    "while deal(game, players, deal_size):\n",
    "    result(players)\n",
    "    pp(players)"
   ]
  }
 ],
 "metadata": {
  "kernelspec": {
   "display_name": "Python 3",
   "language": "python",
   "name": "python3"
  },
  "language_info": {
   "codemirror_mode": {
    "name": "ipython",
    "version": 3
   },
   "file_extension": ".py",
   "mimetype": "text/x-python",
   "name": "python",
   "nbconvert_exporter": "python",
   "pygments_lexer": "ipython3",
   "version": "3.7.0"
  }
 },
 "nbformat": 4,
 "nbformat_minor": 2
}
