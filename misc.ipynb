{
 "cells": [
  {
   "cell_type": "code",
   "execution_count": 1,
   "metadata": {
    "scrolled": true
   },
   "outputs": [],
   "source": [
    "def write_files():\n",
    "    from random import randint\n",
    "    with open('d1.txt', 'w') as f1, open('d2.txt', 'w') as f2:\n",
    "        for _ in range(20):\n",
    "            rint = randint(1, 100)\n",
    "            f1.write(f'{rint}\\n')\n",
    "            '''if randint(1,10) > 7:\n",
    "                rint = randint(1, 100)'''\n",
    "            f2.write(f'{rint}\\n')\n",
    "        f2.write(f'999\\n')\n",
    "        \n",
    "write_files()"
   ]
  },
  {
   "cell_type": "code",
   "execution_count": 3,
   "metadata": {},
   "outputs": [],
   "source": [
    "def compare_files(f1, f2):\n",
    "    for count, (linef1, linef2) in enumerate(zip(f1, f2)):\n",
    "        if not linef1 == linef2:\n",
    "            return count, linef1, linef2\n",
    "    return None, None, None"
   ]
  },
  {
   "cell_type": "code",
   "execution_count": 4,
   "metadata": {},
   "outputs": [],
   "source": [
    "file1, file2 = 'd1.txt', 'd2.txt'\n",
    "with open(file1, 'r') as f1, open(file2, 'r') as f2:\n",
    "    line_num, f1line, f2line = compare_files(f1, f2)\n",
    "    if line_num:\n",
    "        print(f'Mismatch found at line #{line_num}')\n",
    "        print(f'{file1} had:\\n{f1line}')\n",
    "        print(f'{file2} had:\\n{f2line}')"
   ]
  },
  {
   "cell_type": "code",
   "execution_count": 52,
   "metadata": {
    "collapsed": true
   },
   "outputs": [
    {
     "name": "stdout",
     "output_type": "stream",
     "text": [
      "Difference found at line 5\n",
      "d1.txt contained:\n",
      "43\n",
      "d2.txt contained:\n",
      "43\n",
      "d3.txt contained:\n",
      "43\n",
      "d4.txt contained:\n",
      "46\n"
     ]
    }
   ],
   "source": [
    "def check_files(*file_handles):\n",
    "    '''line by line comparison of multiple text files, returns on first detection of\n",
    "    a difference between any of the files and returns the number of the line it was found\n",
    "    on and a copy of the line from each file in a list\n",
    "    \n",
    "    also detects if any of the files are longer, returns the number of the line where one or\n",
    "    more files stop, and a copy of the next line of all longer files\n",
    "    \n",
    "    if files are identical, returns None and None for the line count and list of lines\n",
    "    \n",
    "    arguments are the file handles'''\n",
    "    \n",
    "    def next_line(file_handle):\n",
    "        '''return next line of file or None if no more lines'''\n",
    "        try:\n",
    "            line = next(file_handle)\n",
    "        except StopIteration:  # reached end of file\n",
    "            return None\n",
    "        else:\n",
    "            return line\n",
    "\n",
    "    count = 0  # file(s) line number \n",
    "    while True:\n",
    "        lines = []  # to store copy of next line of each file\n",
    "        for file_handle in file_handles:\n",
    "            lines.append(next_line(file_handle))\n",
    "        if set(lines) == {None}:  # reached end of all files\n",
    "            return None, None\n",
    "        if None in lines:  # reached end of one or more but not all files\n",
    "            return -count, lines\n",
    "        if len(set(lines)) > 1:  # line differences found \n",
    "            return count, lines\n",
    "        count += 1\n",
    "\n",
    "if __name__ == '__main__':\n",
    "    \n",
    "    import contextlib\n",
    "\n",
    "    # need to make sure these files exist\n",
    "    filenames = 'd1.txt', 'd2.txt', 'd3.txt', 'd4.txt'\n",
    "    \n",
    "    with contextlib.ExitStack() as stack:\n",
    "        try:\n",
    "            files = [stack.enter_context(open(fname)) for fname in filenames]\n",
    "        except FileNotFoundError:\n",
    "            print(f'Could not open all files: {filenames}')\n",
    "        else:\n",
    "            count, lines = check_files(*files)\n",
    "            if count:\n",
    "                if count > 0:\n",
    "                    print(f'Difference found at line {count}')\n",
    "                    for file_handle, line in zip(files, lines):\n",
    "                        print(f'{file_handle.name} contained:\\n{line.rstrip()}')\n",
    "                elif count < 0:\n",
    "                    print(f'Different file lenghts found after line {-count-1}')\n",
    "                    for file_handle, line in zip(files, lines):\n",
    "                        if line:\n",
    "                            print(f'{file_handle.name} contained:\\n{line.rstrip()}')\n",
    "                        else:\n",
    "                            print(f'{file_handle.name} ended')\n",
    "            else:\n",
    "                print('No differences found')"
   ]
  },
  {
   "cell_type": "code",
   "execution_count": null,
   "metadata": {},
   "outputs": [],
   "source": [
    "length = None\n",
    "if len(sys.argv) > 1:\n",
    "    if not sys.argv[1].isnumeric():\n",
    "        print(\"You must enter a passphrase length ≥1\\n\\nTry again!\")\n",
    "    elif int(sys.argv[1]) < 1:\n",
    "        print(\"You must enter a passphrase length ≥1\\n\\nTry again!\")\n",
    "    else:\n",
    "        passphrase = ' '.join(generatePassphrase(sys.argv[1]));\n",
    "        sendToClipboard(passphrase)\n",
    "else:\n",
    "    passphrase = ' '.join(generatePassphrase());\n",
    "    sendToClipboard(passphrase)"
   ]
  }
 ],
 "metadata": {
  "kernelspec": {
   "display_name": "Python 3",
   "language": "python",
   "name": "python3"
  },
  "language_info": {
   "codemirror_mode": {
    "name": "ipython",
    "version": 3
   },
   "file_extension": ".py",
   "mimetype": "text/x-python",
   "name": "python",
   "nbconvert_exporter": "python",
   "pygments_lexer": "ipython3",
   "version": "3.7.1"
  }
 },
 "nbformat": 4,
 "nbformat_minor": 2
}
