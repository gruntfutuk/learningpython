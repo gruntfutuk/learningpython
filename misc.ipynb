{
 "cells": [
  {
   "cell_type": "code",
   "execution_count": 1,
   "metadata": {},
   "outputs": [
    {
     "name": "stdout",
     "output_type": "stream",
     "text": [
      "Help on method_descriptor:\n",
      "\n",
      "count(self, value, /)\n",
      "    Return number of occurrences of value.\n",
      "\n"
     ]
    }
   ],
   "source": [
    "help(list.count)"
   ]
  },
  {
   "cell_type": "code",
   "execution_count": 2,
   "metadata": {},
   "outputs": [
    {
     "name": "stdout",
     "output_type": "stream",
     "text": [
      "Help on method_descriptor:\n",
      "\n",
      "count(...)\n",
      "    S.count(sub[, start[, end]]) -> int\n",
      "    \n",
      "    Return the number of non-overlapping occurrences of substring sub in\n",
      "    string S[start:end].  Optional arguments start and end are\n",
      "    interpreted as in slice notation.\n",
      "\n"
     ]
    }
   ],
   "source": [
    "help(str.count)"
   ]
  },
  {
   "cell_type": "code",
   "execution_count": 3,
   "metadata": {},
   "outputs": [
    {
     "name": "stdout",
     "output_type": "stream",
     "text": [
      "Help on method_descriptor:\n",
      "\n",
      "count(self, value, /)\n",
      "    Return number of occurrences of value.\n",
      "\n"
     ]
    }
   ],
   "source": [
    "help(tuple.count)"
   ]
  },
  {
   "cell_type": "code",
   "execution_count": 5,
   "metadata": {},
   "outputs": [],
   "source": [
    "import pandas as pd"
   ]
  },
  {
   "cell_type": "code",
   "execution_count": 9,
   "metadata": {},
   "outputs": [
    {
     "name": "stdout",
     "output_type": "stream",
     "text": [
      "removing  Alpha\n",
      "removing  S from left\n"
     ]
    },
    {
     "ename": "IndexError",
     "evalue": "list index out of range",
     "output_type": "error",
     "traceback": [
      "\u001b[0;31m---------------------------------------------------------------------------\u001b[0m",
      "\u001b[0;31mIndexError\u001b[0m                                Traceback (most recent call last)",
      "\u001b[0;32m<ipython-input-9-cd8c59235960>\u001b[0m in \u001b[0;36m<module>\u001b[0;34m()\u001b[0m\n\u001b[1;32m      5\u001b[0m \u001b[0;32mwhile\u001b[0m\u001b[0;34m(\u001b[0m\u001b[0mi\u001b[0m\u001b[0;34m<\u001b[0m\u001b[0mmax\u001b[0m\u001b[0;34m(\u001b[0m\u001b[0mlen\u001b[0m\u001b[0;34m(\u001b[0m\u001b[0marmy_list1\u001b[0m\u001b[0;34m[\u001b[0m\u001b[0;34m:\u001b[0m\u001b[0;34m]\u001b[0m\u001b[0;34m)\u001b[0m\u001b[0;34m,\u001b[0m\u001b[0mlen\u001b[0m\u001b[0;34m(\u001b[0m\u001b[0marmy_list2\u001b[0m\u001b[0;34m[\u001b[0m\u001b[0;34m:\u001b[0m\u001b[0;34m]\u001b[0m\u001b[0;34m)\u001b[0m\u001b[0;34m)\u001b[0m\u001b[0;34m)\u001b[0m\u001b[0;34m:\u001b[0m\u001b[0;34m\u001b[0m\u001b[0m\n\u001b[1;32m      6\u001b[0m \u001b[0;34m\u001b[0m\u001b[0m\n\u001b[0;32m----> 7\u001b[0;31m     \u001b[0;32mif\u001b[0m\u001b[0;34m(\u001b[0m\u001b[0marmy_list1\u001b[0m\u001b[0;34m[\u001b[0m\u001b[0mi\u001b[0m\u001b[0;34m]\u001b[0m\u001b[0;34m==\u001b[0m\u001b[0marmy_list2\u001b[0m\u001b[0;34m[\u001b[0m\u001b[0mi\u001b[0m\u001b[0;34m]\u001b[0m\u001b[0;34m)\u001b[0m\u001b[0;34m:\u001b[0m\u001b[0;34m\u001b[0m\u001b[0m\n\u001b[0m\u001b[1;32m      8\u001b[0m         \u001b[0mprint\u001b[0m\u001b[0;34m(\u001b[0m\u001b[0;34m'removing '\u001b[0m\u001b[0;34m,\u001b[0m \u001b[0marmy_list1\u001b[0m\u001b[0;34m[\u001b[0m\u001b[0mi\u001b[0m\u001b[0;34m]\u001b[0m\u001b[0;34m)\u001b[0m\u001b[0;34m\u001b[0m\u001b[0m\n\u001b[1;32m      9\u001b[0m         \u001b[0marmy_list1\u001b[0m\u001b[0;34m.\u001b[0m\u001b[0mpop\u001b[0m\u001b[0;34m(\u001b[0m\u001b[0mi\u001b[0m\u001b[0;34m)\u001b[0m\u001b[0;34m\u001b[0m\u001b[0m\n",
      "\u001b[0;31mIndexError\u001b[0m: list index out of range"
     ]
    }
   ],
   "source": [
    "army_list1 = ['Alpha', 'Beta', 'S', 'Mike', 'Delta', 'Zulu', 'x-ray', 'yankee']\n",
    "army_list2 = ['Alpha', 'Charlie', 'A', 'November','Delta']\n",
    "\n",
    "i=0\n",
    "while(i<max(len(army_list1[:]),len(army_list2[:]))):\n",
    "    \n",
    "    if(army_list1[i]==army_list2[i]):\n",
    "        print('removing ', army_list1[i])\n",
    "        army_list1.pop(i)\n",
    "        army_list2.pop(i)\n",
    "        \n",
    "    elif(army_list1[i]==\"S\" and army_list2[i]==\"A\"):\n",
    "        print('removing ', army_list1[i], 'from left')\n",
    "        army_list1.pop(i)\n",
    "        \n",
    "    elif(army_list1[i]==\"A\" and army_list2[i]==\"S\"):\n",
    "        print('removing ', army_list2[i], 'from left')\n",
    "        army_list2.pop(i)\n",
    " \n",
    "    \n",
    "    i+=1\n",
    "\n",
    "print(army_list1)\n",
    "print(army_list2)"
   ]
  },
  {
   "cell_type": "code",
   "execution_count": 2,
   "metadata": {},
   "outputs": [
    {
     "data": {
      "text/plain": [
       "['Beta', 'Mike', 'Delta']"
      ]
     },
     "execution_count": 2,
     "metadata": {},
     "output_type": "execute_result"
    }
   ],
   "source": [
    "army_list1"
   ]
  },
  {
   "cell_type": "code",
   "execution_count": 3,
   "metadata": {},
   "outputs": [
    {
     "data": {
      "text/plain": [
       "['Charlie', 'A', 'November', 'Delta']"
      ]
     },
     "execution_count": 3,
     "metadata": {},
     "output_type": "execute_result"
    }
   ],
   "source": [
    "army_list2"
   ]
  },
  {
   "cell_type": "code",
   "execution_count": 10,
   "metadata": {},
   "outputs": [
    {
     "name": "stdout",
     "output_type": "stream",
     "text": [
      "['Beta', 'A', 'Mike']\n",
      "['Charlie', 'November']\n"
     ]
    }
   ],
   "source": [
    "army_list1 = ['Alpha', 'Beta', 'S', 'Mike', 'Delta']\n",
    "army_list2 = ['Alpha', 'Charlie', 'A', 'November','Delta']\n",
    "\n",
    "new_list1 = []\n",
    "new_list2 = []\n",
    "\n",
    "for left, right in zip(army_list1, army_list2):\n",
    "    if left == \"S\" and  right == \"A\":\n",
    "        new_list1.append(right)     \n",
    "    elif left == \"A\" and right == \"S\":\n",
    "        new_list2.append(left)\n",
    "    elif not left == right:\n",
    "        new_list1.append(left)\n",
    "        new_list2.append(right)\n",
    "\n",
    "print(new_list1)\n",
    "print(new_list2)\n",
    "        "
   ]
  },
  {
   "cell_type": "code",
   "execution_count": 12,
   "metadata": {},
   "outputs": [
    {
     "name": "stdout",
     "output_type": "stream",
     "text": [
      "And the age is ? 65\n",
      "This is a Old Geezer\n"
     ]
    }
   ],
   "source": [
    "import bisect\n",
    "\n",
    "age_borders = 2, 4, 13, 20, 65\n",
    "age_descriptions = ('Baby', 'Toddler', 'Kid', \n",
    "                    'Teenager', 'Adult', 'Old Geezer')\n",
    "\n",
    "age = float(input('And the age is ? '))\n",
    "\n",
    "age_index = bisect.bisect_right(age_borders, age)\n",
    "print(f'This is a {age_descriptions[age_index]}')"
   ]
  },
  {
   "cell_type": "code",
   "execution_count": 13,
   "metadata": {},
   "outputs": [],
   "source": [
    "def hello(func):\n",
    "    def inner():\n",
    "        print('Hello')\n",
    "        return func()\n",
    "    return inner\n",
    "\n",
    "def goodbye(func):\n",
    "    def inner():\n",
    "        result = func()\n",
    "        print('Goodbye')\n",
    "        return result\n",
    "    return inner\n",
    "\n",
    "@hello\n",
    "@goodbye\n",
    "def a():\n",
    "    print('I am \"a\"')\n",
    "\n",
    "@hello\n",
    "@goodbye\n",
    "def b():\n",
    "    print('I am \"b\"')"
   ]
  },
  {
   "cell_type": "code",
   "execution_count": 14,
   "metadata": {},
   "outputs": [
    {
     "name": "stdout",
     "output_type": "stream",
     "text": [
      "Hello\n",
      "I am \"a\"\n",
      "Goodbye\n",
      "Hello\n",
      "I am \"b\"\n",
      "Goodbye\n"
     ]
    }
   ],
   "source": [
    "a()\n",
    "b()"
   ]
  },
  {
   "cell_type": "code",
   "execution_count": 2,
   "metadata": {},
   "outputs": [],
   "source": [
    "AFFIRMATION = frozenset({'y', 'yes', 'yeh', 'k', 'si', 'ok', 'yeah', 'yup'})\n",
    "REJECTION = frozenset({'n', 'no', 'nope', 'nah', 'exit', 'quit', 'bye'})\n",
    "\n",
    "def yesno(msg: str = \"Yes or No? \") -> bool :\n",
    "    while True:  # valid response loop\n",
    "        response = input(msg)\n",
    "        if response:\n",
    "            if response.lower() in AFFIRMATION:\n",
    "                return True\n",
    "            elif response.lower() in REJECTION:\n",
    "                return False\n",
    "        print('Please answer Yes or No.')"
   ]
  },
  {
   "cell_type": "code",
   "execution_count": 4,
   "metadata": {},
   "outputs": [
    {
     "name": "stdout",
     "output_type": "stream",
     "text": [
      "Testing: nope\n",
      "False\n"
     ]
    }
   ],
   "source": [
    "print(yesno('Testing: '))"
   ]
  },
  {
   "cell_type": "code",
   "execution_count": 3,
   "metadata": {},
   "outputs": [
    {
     "name": "stdout",
     "output_type": "stream",
     "text": [
      "anakonda\n",
      "aanadnok\n"
     ]
    }
   ],
   "source": [
    "word = input()\n",
    "best = ''\n",
    "alphabet = 'abcdefghijklmnopqrstuvwxyz'\n",
    "\n",
    "for n in range(2):\n",
    "    sub = word[:-2+n]\n",
    "    for _ in alphabet:\n",
    "        if _ in sub:\n",
    "            ind = 0\n",
    "            while ind < len(sub):\n",
    "                if sub[ind] == _:\n",
    "                    best += sub[:ind+1][::-1]\n",
    "                    word = word[ind+1:]\n",
    "                    break\n",
    "                ind += 1\n",
    "            break\n",
    "\n",
    "best += word[::-1]\n",
    "print(best)"
   ]
  },
  {
   "cell_type": "code",
   "execution_count": 11,
   "metadata": {},
   "outputs": [
    {
     "name": "stdout",
     "output_type": "stream",
     "text": [
      "Age? (enter alone to exit) ggg\n",
      "Please enter a whole number\n",
      "Age? (enter alone to exit) 45.6\n",
      "Please enter a whole number\n",
      "Age? (enter alone to exit) 17\n",
      "Adult? False\n",
      "Age? (enter alone to exit) 20\n",
      "Adult? True\n",
      "Age? (enter alone to exit) \n"
     ]
    }
   ],
   "source": [
    "    bored = False\n",
    "    while not bored:\n",
    "        age_str = input('Age? (enter alone to exit) ')\n",
    "        if not age_str:\n",
    "            bored = True\n",
    "            continue\n",
    "        try:\n",
    "            age = int(age_str)\n",
    "        except ValueError as e:\n",
    "            print('Please enter a whole number')\n",
    "        else:\n",
    "            result = age >= 18\n",
    "            print('Adult?', result)"
   ]
  },
  {
   "cell_type": "code",
   "execution_count": 24,
   "metadata": {},
   "outputs": [
    {
     "name": "stdout",
     "output_type": "stream",
     "text": [
      "-----Welcome to the Age Calculator-----\n",
      "Year of birth: 1963\n",
      "Month of birth: 05\n",
      "What day in month 5 were you born: 23\n",
      "You are at least 28908000 minutes 1734480000 seconds old\n",
      "-----Welcome to the Heartbeat Calculator-----\n",
      "Your heart has beaten around 2081376000 times within your lifetime.\n",
      "-----Welcome to the Sneeze Calculator-----\n",
      "You have sneezed around 1927200 times within your lifetime.\n",
      "-----Welcome to the Calorie Calculator-----\n",
      "You have burned around 1059960000 calories within your lifetime.\n",
      "That's the equivalent of about 10094857.14 bananas!\n",
      "-----Welcome to the Blinking Calculator-----\n",
      "You have blinked around 578160000 times within your lifetime.\n"
     ]
    }
   ],
   "source": [
    "'''Hello! I'm very new to Python, I actually just started a few days ago and I'm mostly self teaching. \n",
    "I have to make an age calculator for my class and I've seem to have figured my own way to do it, \n",
    "however my professor wants us to use datetime.datime.now(), datetime.datetime(year), \n",
    "and datetime.datetime.timestamp() and begin the code using user_age_years = int(input'enter your age in years:\\n')) user_age_days = user_age_years * 365 print('You are at least %d days old.' % user_age_days)\n",
    "I dont necessarily know how to incorporate those into my code. \n",
    "If anyone can help simplify my code and use those commands that would be great. \n",
    "Also, ignore the comments with URLs that's my way of citing my source \n",
    "(yes I know it's not the proper comment symbol)\n",
    "'''\n",
    "\n",
    "from datetime import date\n",
    "\n",
    "today = date.today()\n",
    "\n",
    "def get_int(start, fini, msg):\n",
    "    ''' prompt user with msg for an integer within define range '''\n",
    "    while True:\n",
    "        response = input(msg)\n",
    "        if response:\n",
    "            try:\n",
    "                num = int(response)\n",
    "            except ValueError as e:\n",
    "                pass\n",
    "            else:\n",
    "                if start <= num <= fini:\n",
    "                    return num\n",
    "        print(f'You must enter a whole number between {start} and {fini}')\n",
    "\n",
    "def get_dob():\n",
    "    ''' get date of birth from user and return age'''\n",
    "    while True:\n",
    "        year = get_int(today.year - 105, today.year, 'Year of birth: ')\n",
    "        month = get_int(1, 12, 'Month of birth: ')\n",
    "        day = get_int(1, 31, f'What day in month {month} were you born: ')\n",
    "        try:\n",
    "            dob = date(year, month, day)\n",
    "        except:\n",
    "            pass\n",
    "        else:\n",
    "            if dob.year < today.year:\n",
    "                return dob\n",
    "        print('I think you need to try that again.')\n",
    "    \n",
    "def calc_age(dob):\n",
    "    return today.year - dob.year - ((today.month, today.day) < (dob.month, dob.day))   \n",
    "\n",
    "print(\"-----Welcome to the Age Calculator-----\")\n",
    "age = calc_age(get_dob())\n",
    "days = age * 365\n",
    "hours = days * 24\n",
    "minutes = hours * 60\n",
    "seconds = minutes * 60\n",
    "print(f\"You are at least {minutes} minutes {seconds} seconds old\")\n",
    "\n",
    "print(\"-----Welcome to the Heartbeat Calculator-----\")\n",
    "heartrate = 72 * 60 * 24 * 365\n",
    "heartbeat = heartrate * age\n",
    "print(f\"Your heart has beaten around {heartbeat} times within your lifetime.\")\n",
    "\n",
    "print(\"-----Welcome to the Sneeze Calculator-----\")\n",
    "sneeze = 4 * 24 * 365\n",
    "sneezeavg = sneeze * age\n",
    "print(f\"You have sneezed around {sneezeavg} times within your lifetime.\")\n",
    "\n",
    "print(\"-----Welcome to the Calorie Calculator-----\")\n",
    "cal = 2200 * 24 * 365\n",
    "calavg = cal * age\n",
    "print(f\"You have burned around {calavg} calories within your lifetime.\")\n",
    "\n",
    "#comment: estimates the number of calories expended (avg: 2200)\n",
    "bananas = float(105)\n",
    "avgbananas = float(calavg) / bananas\n",
    "avgbananas = round(avgbananas, 2)\n",
    "print(f\"That's the equivalent of about {avgbananas} bananas!\")\n",
    "\n",
    "print(\"-----Welcome to the Blinking Calculator-----\")\n",
    "blink = 1200 * 24 * 365\n",
    "blinkavg = blink * age\n",
    "print(f\"You have blinked around {blinkavg} times within your lifetime.\")"
   ]
  },
  {
   "cell_type": "code",
   "execution_count": 27,
   "metadata": {},
   "outputs": [
    {
     "name": "stdout",
     "output_type": "stream",
     "text": [
      "5 x 3.2 = 16.0\n",
      "5 x 3.2 = 16.0\n",
      " 5.0 x  3.2 =   16.0\n",
      " 5.0 x  3.2 =   16.0\n"
     ]
    }
   ],
   "source": [
    "num1=5\n",
    "num2=3.2\n",
    "print(f'{num1} x {num2} = {num1 * num2}')\n",
    "print('{} x {} = {}'.format(num1, num2, num1 * num2))\n",
    "print(f'{num1:4.1f} x {num2:4.1f} = {num1 * num2:6.1f}')\n",
    "print('{:4.1f} x {:4.1f} = {:6.1f}'.format(num1, num2, num1 * num2))"
   ]
  },
  {
   "cell_type": "code",
   "execution_count": 28,
   "metadata": {},
   "outputs": [
    {
     "name": "stdout",
     "output_type": "stream",
     "text": [
      "Next item: (enter to exit) f\n",
      "Next item: (enter to exit) ghj\n",
      "Next item: (enter to exit) o\n",
      "Next item: (enter to exit) \n",
      "['f', 'ghj', 'o']\n"
     ]
    }
   ],
   "source": [
    "items = []\n",
    "while True:\n",
    "    item = input('Next item: (enter to exit) ')\n",
    "    if not item:\n",
    "        break\n",
    "    items.append(item)\n",
    "\n",
    "print(items)"
   ]
  },
  {
   "cell_type": "code",
   "execution_count": 48,
   "metadata": {},
   "outputs": [
    {
     "name": "stdout",
     "output_type": "stream",
     "text": [
      "line 1 has bad data: Numbers to sum:\n",
      "\n",
      "line 2 has bad data: \n",
      "\n",
      "Average is 14.70\n"
     ]
    }
   ],
   "source": [
    "with open('/Users/stuartmoore/nums.txt') as nums:\n",
    "    total = 0  # running total of valid inputs\n",
    "    count = 0  # number of valid inputs\n",
    "    for line_no, line in enumerate(nums, start=1):\n",
    "        try:\n",
    "            total += float(line.strip())\n",
    "            count += 1\n",
    "        except ValueError as e:\n",
    "            print(f'line {line_no} has bad data: {line}')\n",
    "if count > 0:\n",
    "    print(f'Average is {total/count:.2f}')"
   ]
  },
  {
   "cell_type": "code",
   "execution_count": 38,
   "metadata": {},
   "outputs": [
    {
     "name": "stdout",
     "output_type": "stream",
     "text": [
      "/Users/stuartmoore/nums.txt         /Users/stuartmoore/requirements.txt\r\n"
     ]
    }
   ],
   "source": [
    "!ls /Users/stuartmoore/*.txt"
   ]
  },
  {
   "cell_type": "code",
   "execution_count": 36,
   "metadata": {},
   "outputs": [
    {
     "name": "stdout",
     "output_type": "stream",
     "text": [
      "/Users/stuartmoore/IDrive-Sync/pythonscratch\r\n"
     ]
    }
   ],
   "source": [
    "!pwd"
   ]
  },
  {
   "cell_type": "code",
   "execution_count": 40,
   "metadata": {},
   "outputs": [
    {
     "name": "stdout",
     "output_type": "stream",
     "text": [
      "Numbers to sum:\r\n",
      "\r\n",
      "23.4\r\n",
      "16.5\r\n",
      "4.2"
     ]
    }
   ],
   "source": [
    "cat /Users/stuartmoore/nums.txt"
   ]
  },
  {
   "cell_type": "code",
   "execution_count": 41,
   "metadata": {},
   "outputs": [
    {
     "data": {
      "text/plain": [
       "14.700000000000001"
      ]
     },
     "execution_count": 41,
     "metadata": {},
     "output_type": "execute_result"
    }
   ],
   "source": [
    "a=23.4+16.5+4.2\n",
    "a/3"
   ]
  },
  {
   "cell_type": "code",
   "execution_count": 2,
   "metadata": {},
   "outputs": [
    {
     "name": "stdout",
     "output_type": "stream",
     "text": [
      "Enter guess: \n",
      "Please enter an integer\n",
      "Enter guess: hhh\n",
      "Please enter an integer\n",
      "Enter guess: 45.6\n",
      "Please enter an integer\n",
      "Enter guess: 456789\n",
      "456789\n"
     ]
    }
   ],
   "source": [
    "\n",
    "while True:\n",
    "    response = input('Enter guess: ')\n",
    "    try:\n",
    "        user_input = int(response)\n",
    "        break\n",
    "    except ValueError as e:\n",
    "        print('Please enter an integer')"
   ]
  },
  {
   "cell_type": "code",
   "execution_count": null,
   "metadata": {},
   "outputs": [],
   "source": [
    "#! /usr/bin/env python3                                                                                                \n",
    "# rock paper scissors Spock lizard game, rules follow:\n",
    "'''                                                                                                                    \n",
    "scissors cuts paper                                                                                                    \n",
    "paper covers rock                                                                                                      \n",
    "rock crushes lizard                                                                                                    \n",
    "lizard poisons Spock                                                                                                   \n",
    "Spock smashes scissors                                                                                                 \n",
    "scissors decapitates lizard                                                                                            \n",
    "lizard eats paper                                                                                                      \n",
    "paper disproves Spock                                                                                                  \n",
    "Spock vaporizes rock                                                                                                   \n",
    "rock crushes scissors                                                                                                  \n",
    "'''\n",
    "\n",
    "from random import choice\n",
    "import readline\n",
    "\n",
    "RULES = list(map(str.split, __doc__.lower().strip().split('\\n')))\n",
    "\n",
    "OPTIONS = ({winner for winner, verb, loser in RULES}\n",
    "           | {loser for winner, verb, loser in RULES})\n",
    "\n",
    "PROMPT = f\"Make your choice from: {', '.join(sorted(OPTIONS))} \\n \" \\\n",
    "            f\"(or press return alone to exit)\\n\" \\\n",
    "            f\" choice: \"\n",
    "                                     \n",
    "def check(playera, playerb, rules=RULES):\n",
    "    for rule in rules:\n",
    "        winner, verb, loser = rule\n",
    "        if (playera, playerb) == (winner, loser):\n",
    "            return playera, ' '.join(rule)\n",
    "        if (playerb, playera) == (winner, loser):\n",
    "            return playerb, ' '.join(rule)\n",
    "\n",
    "print('\\n\\nWelcome to the game of rock paper scissors Spock lizard\\n\\nThe rules are:\\n')\n",
    "print(__doc__)\n",
    "print()\n",
    "while True:\n",
    "    while True:\n",
    "        player = input(PROMPT).lower()\n",
    "        if not player or player in OPTIONS:\n",
    "            break\n",
    "    if not player:\n",
    "        break\n",
    "    computer = choice(list(OPTIONS))    \n",
    "    try:\n",
    "        winner, rule = check(player, computer)\n",
    "        result = 'You WIN!' if player == winner else 'You Lose!'\n",
    "    except TypeError as e:\n",
    "        result, rule = \"TIED\", 'matched'\n",
    "    print(f'{player} v. {computer} -> {result} \\t{rule}')\n",
    "    print()"
   ]
  },
  {
   "cell_type": "code",
   "execution_count": null,
   "metadata": {},
   "outputs": [],
   "source": [
    "UNITS = [\n",
    "        \"zero\", \"one\", \"two\", \"three\", \"four\", \"five\", \"six\", \"seven\", \"eight\",\n",
    "        \"nine\", \"ten\", \"eleven\", \"twelve\", \"thirteen\", \"fourteen\", \"fifteen\",\n",
    "        \"sixteen\", \"seventeen\", \"eighteen\", \"nineteen\",\n",
    "        ]\n",
    "TENS = [\"\", \"\", \"twenty\", \"thirty\", \"forty\", \"fifty\", \"sixty\", \"seventy\", \"eighty\", \"ninety\"]\n",
    "SCALES = [\"hundred\", \"thousand\", \"million\", \"billion\", \"trillion\"]\n",
    "number_words = {\"and\": (1, 0)}\n",
    "for position, word in enumerate(UNITS):\n",
    "    number_words[word] = (1, position)\n",
    "for position, word in enumerate(TENS):\n",
    "    number_words[word] = (1, position * 10)\n",
    "for position, word in enumerate(SCALES):\n",
    "    number_words[word] = (10 ** (position * 3 or 2), 0)\n",
    "\n",
    "POSITION_WORDS = {'first':1, 'second':2, 'third':3, 'fifth':5, 'eighth':8, 'ninth':9, 'twelfth':12}\n",
    "SUFFIXES = [('ieth', 'y'), ('th', '')]"
   ]
  },
  {
   "cell_type": "code",
   "execution_count": null,
   "metadata": {},
   "outputs": [],
   "source": [
    "def words_to_num(words):\n",
    "    words = words.replace('-', ' ')\n",
    "    words = words.replace(',', ' ')\n",
    "    current = result = 0\n",
    "    for word in words.strip().split():\n",
    "        if word in POSITION_WORDS:\n",
    "            scale, increment = 1, POSITION_WORDS[word]\n",
    "        else:\n",
    "            for ending, replacement in SUFFIXES:\n",
    "                if word.endswith(ending):\n",
    "                    word = f\"{word[:-len(ending)]}{replacement}\"\n",
    "            if word not in number_words:\n",
    "                raise ValueError(f\"Illegal word: {word}\")\n",
    "            scale, increment = number_words[word]\n",
    "        current = current * scale + increment\n",
    "        if scale > 100:\n",
    "            result += current\n",
    "            current = 0\n",
    "    return result + current"
   ]
  },
  {
   "cell_type": "code",
   "execution_count": 42,
   "metadata": {},
   "outputs": [],
   "source": [
    "def num_to_words(num):\n",
    "    "
   ]
  },
  {
   "cell_type": "code",
   "execution_count": 43,
   "metadata": {},
   "outputs": [
    {
     "name": "stdout",
     "output_type": "stream",
     "text": [
      "4156\n"
     ]
    }
   ],
   "source": [
    "print(words_to_num(\"four thousand, one hundred, fifty-six\"))"
   ]
  },
  {
   "cell_type": "code",
   "execution_count": 52,
   "metadata": {},
   "outputs": [
    {
     "name": "stdout",
     "output_type": "stream",
     "text": [
      "Enter the quantity of items sold: 10\n",
      "Enter the vaule of the item sold: 23.45\n",
      "Enter the discount percentage: 5.6\n",
      "Enter the tax: 5\n",
      "*********BILL*********\n",
      "Quantity sold:           #  10.00\n",
      "Price per item:          $  23.45\n",
      "Amount:                  $ 234.50\n",
      "Discount:                $  13.13\n",
      "Discount Total:          $ 221.37\n",
      "Tax:                     $  11.07\n",
      "Total amount to be paid: $ 232.44\n"
     ]
    }
   ],
   "source": [
    "\n",
    "# Input and Data\n",
    "\n",
    "quantity = float(input(\"Enter the quantity of items sold: \"))\n",
    "value = float(input(\"Enter the vaule of the item sold: \"))\n",
    "disc = float(input(\"Enter the discount percentage: \"))\n",
    "tax = float(input(\"Enter the tax: \"))\n",
    "\n",
    "# Calculations\n",
    "\n",
    "amt = float(quantity * value)\n",
    "disc_amt = float(amt * disc / 100)\n",
    "sub_tot = float(amt - disc_amt)\n",
    "tax_amt = float(sub_tot * tax / 100)\n",
    "tot_amt = float(sub_tot + tax_amt)\n",
    "\n",
    "# Output\n",
    "bill = []\n",
    "bill.append((\"Quantity sold: \", \"#\", quantity, ''))\n",
    "bill.append((\"Price per item: \", \"$\", value, ''))\n",
    "bill.append((\"Amount: \", \"$\", amt, ''))\n",
    "bill.append((\"Discount: \", '$', disc_amt, ''))\n",
    "bill.append((\"Discount Total: \", '$', sub_tot, ''))\n",
    "bill.append((\"Tax: \", '$', tax_amt, ''))\n",
    "bill.append((\"Total amount to be paid: \", '$', tot_amt, ''))\n",
    "\n",
    "desc_width = max([len(desc) for desc, _, _, _ in bill])\n",
    "\n",
    "print(\"*********BILL*********\")\n",
    "for desc, pre, amount, pst in bill:\n",
    "    print(f'{desc:<{desc_width}}{pre}{amount:7.2f}{pst}')\n",
    "          "
   ]
  },
  {
   "cell_type": "code",
   "execution_count": 57,
   "metadata": {},
   "outputs": [
    {
     "name": "stdout",
     "output_type": "stream",
     "text": [
      "No  1 squared is   1 and cubed is    1\n",
      "No  2 squared is   4 and cubed is    8\n",
      "No  3 squared is   9 and cubed is   27\n",
      "No  4 squared is  16 and cubed is   64\n",
      "No  5 squared is  25 and cubed is  125\n",
      "No  6 squared is  36 and cubed is  216\n",
      "No  7 squared is  49 and cubed is  343\n",
      "No  8 squared is  64 and cubed is  512\n",
      "No  9 squared is  81 and cubed is  729\n",
      "No 10 squared is 100 and cubed is 1000\n",
      "No 11 squared is 121 and cubed is 1331\n"
     ]
    }
   ],
   "source": [
    "__author__ = 'anon'\n",
    "for i in range(1, 12):\n",
    "    print(f\"No {i:2} squared is {i**2:3} and cubed is {i**3:4}\")"
   ]
  },
  {
   "cell_type": "code",
   "execution_count": 62,
   "metadata": {},
   "outputs": [],
   "source": [
    "def check_value(msg, start=0, fini=100):\n",
    "    while True:\n",
    "        response = input(msg)\n",
    "        if response:\n",
    "            try:\n",
    "                value = int(response)\n",
    "                if start <= value <= fini:\n",
    "                    break\n",
    "            except ValueError as e:\n",
    "                pass\n",
    "        print(f'Please enter a number between {start} and {fini}')\n",
    "    return value"
   ]
  },
  {
   "cell_type": "code",
   "execution_count": 64,
   "metadata": {},
   "outputs": [
    {
     "name": "stdout",
     "output_type": "stream",
     "text": [
      "Num:34\n",
      "Please enter a number between -100 and -50\n",
      "Num:-20\n",
      "Please enter a number between -100 and -50\n",
      "Num:-55\n",
      "-55\n"
     ]
    }
   ],
   "source": [
    "print(check_value('Num:', -100, -50))"
   ]
  },
  {
   "cell_type": "code",
   "execution_count": 70,
   "metadata": {},
   "outputs": [
    {
     "name": "stdout",
     "output_type": "stream",
     "text": [
      "Enter next number, or just return to finish: 10\n",
      "Enter next number, or just return to finish: 20\n",
      "Enter next number, or just return to finish: 30\n",
      "Enter next number, or just return to finish: \n",
      "30, 20, 10\n",
      "30, 20, 10\n"
     ]
    }
   ],
   "source": [
    "numbers = []\n",
    "nums_to_reverse = []\n",
    "while True:\n",
    "    response = input('Enter next number, or just return to finish: ')\n",
    "    if not response:\n",
    "        break\n",
    "    try:\n",
    "        numbers.insert(0, int(response))\n",
    "        nums_to_reverse.append(int(response))\n",
    "    except ValueError as e:\n",
    "        print('Invalid response. Try again.')\n",
    "print(*numbers, sep=\", \")\n",
    "print(*reversed(nums_to_reverse), sep=\", \")"
   ]
  },
  {
   "cell_type": "code",
   "execution_count": 68,
   "metadata": {},
   "outputs": [
    {
     "name": "stdout",
     "output_type": "stream",
     "text": [
      "Enter next number, or just return to finish: 10\n",
      "Enter next number, or just return to finish: 20\n",
      "Enter next number, or just return to finish: 30\n",
      "Enter next number, or just return to finish: \n",
      "30, 20, 10\n"
     ]
    }
   ],
   "source": [
    "numbers = []\n",
    "while True:\n",
    "    response = input('Enter next number, or just return to finish: ')\n",
    "    if not response:\n",
    "        break\n",
    "    try:\n",
    "        numbers.append(int(response))\n",
    "    except ValueError as e:\n",
    "        print('Invalid response. Try again.')\n",
    "print(*reversed(numbers), sep=\", \")"
   ]
  },
  {
   "cell_type": "code",
   "execution_count": 71,
   "metadata": {},
   "outputs": [
    {
     "name": "stdout",
     "output_type": "stream",
     "text": [
      "g\n",
      "o\n",
      "o\n",
      "d\n",
      "_\n",
      "g\n",
      "a\n",
      "m\n",
      "e\n",
      "GGGGGGGGG\n"
     ]
    }
   ],
   "source": [
    "    word  = \"good_game\"\n",
    "    for character in word:\n",
    "        print(character)\n",
    "        word = word.replace(character,\"G\")\n",
    "    print(word)"
   ]
  },
  {
   "cell_type": "code",
   "execution_count": 72,
   "metadata": {},
   "outputs": [
    {
     "name": "stdout",
     "output_type": "stream",
     "text": [
      "enter an integer for x: \n",
      "integer input required. Please try again.\n",
      "enter an integer for x: 45.6\n",
      "integer input required. Please try again.\n",
      "enter an integer for x: hello\n",
      "integer input required. Please try again.\n",
      "enter an integer for x: 10\n",
      "enter a float (decimal) for y: \n",
      "floating point number input required. Please try again.\n",
      "enter a float (decimal) for y: hello\n",
      "floating point number input required. Please try again.\n",
      "enter a float (decimal) for y: 45.6\n",
      "x + y = 55.6\n",
      "x - y = -35.6\n",
      "x * y = 456.0\n",
      "x / y = 0.2193\n"
     ]
    }
   ],
   "source": [
    "''' simple calculations using basic operators and input validation v2'''\n",
    "\n",
    "    LABELS = {int: \"integer\", float: \"floating point number\", str: \"string\"}\n",
    "\n",
    "    def get_input(msg = '', type_req = int):\n",
    "        ''' prompt user for input with msg and return appropriately cast value '''   \n",
    "        if not LABELS.get(type_req):\n",
    "                raise TypeError(\"Unknown input type requested by calling code.\")\n",
    "        while True:\n",
    "            response = input(msg)\n",
    "            if response:\n",
    "                try:\n",
    "                    value = type_req(response)\n",
    "                except ValueError as e:\n",
    "                    pass\n",
    "                else:\n",
    "                    return value\n",
    "            print(f'{LABELS[type_req]} input required. Please try again.')\n",
    "\n",
    "\n",
    "num_x = get_input(\"enter an integer for x: \")\n",
    "num_y = get_input(\"enter a float (decimal) for y: \", float)\n",
    "print(f\"x + y = {num_x + num_y}\")\n",
    "print(f\"x - y = {num_x - num_y}\")\n",
    "print(f\"x * y = {num_x * num_y}\")\n",
    "try:\n",
    "    print(f\"x / y = {num_x / num_y:.4f}\")\n",
    "except ZeroDivisionError as e:\n",
    "    print('x / y not possible with 0 divisor')"
   ]
  },
  {
   "cell_type": "code",
   "execution_count": 93,
   "metadata": {},
   "outputs": [
    {
     "name": "stdout",
     "output_type": "stream",
     "text": [
      "Please enter your username: username3\n",
      "Please enter your password: password3\n",
      "Welcome!\n"
     ]
    }
   ],
   "source": [
    "    username = input(\"Please enter your username: \")\n",
    "    password = input(\"Please enter your password: \")\n",
    "\n",
    "    result = 0\n",
    "    if username and password:\n",
    "        with open(\"passwords.txt\") as f:\n",
    "            for line in f:\n",
    "                user, _ , pwd = line.strip().partition(\";\")\n",
    "                result = ((user == username) + (pwd == password)) or result\n",
    "                if result == 2:\n",
    "                    break\n",
    "    if result == 2:\n",
    "        print(\"Welcome!\")\n",
    "    elif result:\n",
    "        print(\"Wrong username or password\")\n",
    "    else:\n",
    "        print(\"Not Found!\")"
   ]
  },
  {
   "cell_type": "code",
   "execution_count": 78,
   "metadata": {},
   "outputs": [
    {
     "name": "stdout",
     "output_type": "stream",
     "text": [
      "/Users/stuartmoore/IDrive-Sync/pythonscratch\r\n"
     ]
    }
   ],
   "source": [
    "!pwd"
   ]
  },
  {
   "cell_type": "code",
   "execution_count": 108,
   "metadata": {},
   "outputs": [
    {
     "name": "stdout",
     "output_type": "stream",
     "text": [
      "using original [1900, 1902, 1904, 1906, 1908, 1910]\n",
      "using reversed: [1900, 1904, 1908]\n",
      "using shallow copy: [1900, 1904, 1908]\n",
      "using shallow copy: [1900, 1904, 1908]\n"
     ]
    }
   ],
   "source": [
    "    test_list = list(range(1900, 1911))\n",
    "    for year in reversed(test_list):\n",
    "        if year % 4:\n",
    "            test_list.remove(year)\n",
    "    print('using reversed:', test_list)\n",
    "\n",
    "    test_list = list(range(1900, 1911))\n",
    "    for year in test_list[:]:\n",
    "        if year % 4:\n",
    "            test_list.remove(year)\n",
    "    print('using shallow copy:', test_list)\n",
    "\n",
    "    test_list = list(range(1900, 1911))\n",
    "    for idx in range(len(test_list) -1 , -1, -1):\n",
    "        if test_list[idx] % 4:\n",
    "            test_list.pop(idx)\n",
    "    print('using shallow copy:', test_list)"
   ]
  },
  {
   "cell_type": "code",
   "execution_count": null,
   "metadata": {},
   "outputs": [],
   "source": [
    "def writelines(lines):\n",
    "    print('writing')\n",
    "    with open('random_new.txt', 'a') as f:\n",
    "        for line in lines:\n",
    "            f.write(line.strip() + \" is an excellent webcomic\\n\")\n",
    "        del lines[:]\n",
    "\n",
    "EMPTY = 3  # number of lines to process per batch\n",
    "lines = []\n",
    "with open('random.txt') as f:\n",
    "    for line in f:\n",
    "        lines.append(line)\n",
    "        if len(lines) >= EMPTY:\n",
    "            writelines(lines)"
   ]
  },
  {
   "cell_type": "code",
   "execution_count": 87,
   "metadata": {},
   "outputs": [
    {
     "name": "stdout",
     "output_type": "stream",
     "text": [
      "Welcome to this temperature conversion programme\n",
      "\n",
      "The following units are accepted: F, C, Ré\n",
      "and the following conversions:-\n",
      " * F to C\n",
      " * C to F\n",
      " * Ré to C\n",
      " * C to Ré\n",
      " * Ré to F\n",
      " * F to Ré\n",
      "What units to convert from? [C]  \n",
      "What units to convert to? [F] \n",
      "Temperature (C): 100\n",
      "100.00 degrees C is 212.00 degrees F\n",
      "Another? [Yes/no] n\n"
     ]
    }
   ],
   "source": [
    "''' temperature conversion '''\n",
    "\n",
    "def tempconv_F_to_C(temp):\n",
    "    return (temp - 32) / 1.8\n",
    "\n",
    "def tempconv_C_to_F(temp):\n",
    "    return (temp * 1.8) + 32\n",
    "\n",
    "def tempconv_Ré_to_C(temp):\n",
    "    return temp * 5/4\n",
    "\n",
    "def tempconv_C_to_Ré(temp):\n",
    "    return temp * 4/5\n",
    "\n",
    "def tempconv_Ré_to_F(temp):\n",
    "    return tempconv_C_to_F(tempconv_Ré_to_C(temp))\n",
    "\n",
    "def tempconv_F_to_Ré(temp):\n",
    "    return tempconv_C_to_Ré(tempconv_F_to_C(temp))\n",
    "\n",
    "# build dictionary of temperature conversion functions, \n",
    "# (dropping from the keys the prefix of tempconv_ and removing the _ before and after to)\n",
    "prefix = 'tempconv_'\n",
    "prefix_len = len(prefix)\n",
    "tempconv_funcs = {name[prefix_len:].replace('_to_', ' to '): func for name, func in globals().items() \n",
    "                 if callable(func) and name.startswith(prefix)\n",
    "                }\n",
    "# define set of temperature units available\n",
    "UNITS = set([unit for temp in [k.partition(' to ') \n",
    "                for k in tempconv_funcs.keys()] \n",
    "                for unit in temp if unit != ' to '])\n",
    "ORIG = 'C'  # default original temp\n",
    "NEW = 'F'  # default to convert to\n",
    "\n",
    "def temp_convert(temp, orig, new):\n",
    "    if not(isinstance(temp, int) or isinstance(temp, float)):\n",
    "        raise ValueError('Valid temperature not provided')\n",
    "    if not orig or not new:\n",
    "        raise ValueError('Original and/or New units not specified')\n",
    "    func = tempconv_funcs.get(f'{orig} to {new}')\n",
    "    if not func:\n",
    "        raise TypeError(f'No coversion available for {orig} to {new}')\n",
    "    return func(temp)\n",
    "\n",
    "print('Welcome to this temperature conversion programme\\n')\n",
    "print(f'The following units are accepted: {\", \".join(UNITS)}')\n",
    "print('and the following conversions:-', end='')\n",
    "print('', *tempconv_funcs.keys(), sep='\\n * ')\n",
    "\n",
    "while True:  # do another conversion loop\n",
    "    while True:  # get valid unit selections from user \n",
    "        orig = input(f'What units to convert from? [{ORIG}]  ')\n",
    "        if not orig:\n",
    "            orig = ORIG\n",
    "        new = input(f'What units to convert to? [{NEW if orig != NEW else ORIG}] ')\n",
    "        if not new:\n",
    "            new = NEW if orig != NEW else ORIG\n",
    "        if orig != new and orig in UNITS and new in UNITS:\n",
    "            break\n",
    "        print(f'You need to select from the following units: {\", \".join(UNITS)}')\n",
    "\n",
    "    while True:  # get a numeric input for temperature\n",
    "        try:\n",
    "            temp = float(input(f'Temperature ({orig}): '))\n",
    "            break\n",
    "        except:\n",
    "            print('Numeric value required')\n",
    "\n",
    "    try:\n",
    "        print(f'{temp:.2f} degrees {orig} is {temp_convert(temp, orig, new):.2f} degrees {new}')\n",
    "    except ValueError as e:\n",
    "        print(e)\n",
    "    except TypeError as e:\n",
    "        print(e)\n",
    "\n",
    "    if input('Another? [Yes/no] ').lower() not in ('y', 'yes', '1', 'yup', 'ok', ''):\n",
    "        break"
   ]
  },
  {
   "cell_type": "code",
   "execution_count": 84,
   "metadata": {},
   "outputs": [
    {
     "data": {
      "text/plain": [
       "dict_keys(['F to C', 'C to F', 'Ré to C', 'C to Ré', 'Ré to F', 'F to Ré'])"
      ]
     },
     "execution_count": 84,
     "metadata": {},
     "output_type": "execute_result"
    }
   ],
   "source": [
    "tempconv_funcs.keys()"
   ]
  },
  {
   "cell_type": "code",
   "execution_count": 86,
   "metadata": {},
   "outputs": [
    {
     "data": {
      "text/plain": [
       "9"
      ]
     },
     "execution_count": 86,
     "metadata": {},
     "output_type": "execute_result"
    }
   ],
   "source": [
    "prefix_len"
   ]
  },
  {
   "cell_type": "code",
   "execution_count": 91,
   "metadata": {},
   "outputs": [
    {
     "name": "stdout",
     "output_type": "stream",
     "text": [
      "5 6\n",
      "How much each? 100\n",
      "How many? 20\n",
      "Pay: 1980.0\n"
     ]
    }
   ],
   "source": [
    "    def double(x):\n",
    "        return x * 2\n",
    "\n",
    "    print(5, double(3))\n",
    "\n",
    "    def discount(unit_price, quantity):\n",
    "        'return discount $ amount, if any'\n",
    "        total = unit_price * quantity\n",
    "        if total > 20 and quantity > 4:\n",
    "            disc = total * 10 / 100\n",
    "        else:\n",
    "            disc = 0\n",
    "        return disc\n",
    "\n",
    "    ticket = float(input('How much each? '))\n",
    "    qty = int(input('How many? '))\n",
    "\n",
    "    to_pay = ticket * qty - discount(price, qty)\n",
    "\n",
    "    print('Pay:', to_pay)"
   ]
  },
  {
   "cell_type": "code",
   "execution_count": 106,
   "metadata": {},
   "outputs": [],
   "source": [
    "    def find_num(data, val):\n",
    "        low = 0\n",
    "        high = len(data) - 1  # we count from zero\n",
    "        while high - low > 0 and data[low] != val:\n",
    "            mid = int((high - low) / 2 ) + low\n",
    "            if data[mid] == val: \n",
    "                low = mid\n",
    "            elif val < data[mid]:\n",
    "                high = mid - 1\n",
    "            else:\n",
    "                low = mid + 1\n",
    "        return low if data[low] == val else -1"
   ]
  },
  {
   "cell_type": "code",
   "execution_count": 108,
   "metadata": {},
   "outputs": [
    {
     "name": "stdout",
     "output_type": "stream",
     "text": [
      "found 0 in position -1\n",
      "found 1 in position -1\n",
      "found 2 in position 0\n",
      "found 3 in position -1\n",
      "found 4 in position 1\n",
      "found 5 in position -1\n",
      "found 6 in position 2\n",
      "found 7 in position 3\n",
      "found 8 in position 4\n",
      "found 9 in position -1\n",
      "found 10 in position 5\n",
      "found 11 in position -1\n",
      "found 12 in position 6\n",
      "found 13 in position -1\n",
      "found 14 in position -1\n"
     ]
    }
   ],
   "source": [
    "nums = [2, 4, 6, 7, 8, 10, 12]\n",
    "for x in range(max(nums) + 3):\n",
    "    print(f'found {x} in position {find_num(nums, x)}')"
   ]
  },
  {
   "cell_type": "code",
   "execution_count": 114,
   "metadata": {},
   "outputs": [
    {
     "name": "stdout",
     "output_type": "stream",
     "text": [
      "[0, 1, 2, 3, 4, 5, 6, 7, 8, 9]\n",
      "[0, 1, 2, 3, 4, 5, 6, 7, 8, 9]\n",
      "[0, 1, 2, 3, 4, 5, 6, 7, 8, 9]\n"
     ]
    }
   ],
   "source": [
    "print(list(range(10)))\n",
    "\n",
    "nums = [x for x in range(10)]\n",
    "print(nums)\n",
    "\n",
    "nums = []\n",
    "for idx in range(10):\n",
    "    nums.append(idx)\n",
    "print(nums)\n"
   ]
  },
  {
   "cell_type": "markdown",
   "metadata": {},
   "source": [
    "(Financial application: compound value) Suppose you save $100 each month into a savings account with an annual interest rate of 5%. Therefore, the monthly interest rate is After the first month, the value in the account becomes 100 * (1 + 0.00417) = 100.417 After the second month, the value in the account becomes (100 + 100.417) * (1 + 0.00417) = 201.252 After the third month, the value in the account becomes (100 + 201.252) * (1 + 0.00417) = 302.507 and so on. Write a program that prompts the user to enter a monthly saving amount and displays the account value after the sixth month. Here is a sample run of the program:\n",
    "\n",
    "Enter the monthly saving amount: (WHATEVER NUMBER)\n",
    "\n",
    "After the sixth month, the account value is (WHATEVER NUMBER)"
   ]
  },
  {
   "cell_type": "code",
   "execution_count": 117,
   "metadata": {},
   "outputs": [
    {
     "name": "stdout",
     "output_type": "stream",
     "text": [
      "Amount to save each month? 100\n",
      "End of month: 1, interest earned: 0.42, balance: 100.42\n",
      "End of month: 2, interest earned: 0.84, balance: 201.25\n",
      "End of month: 3, interest earned: 1.26, balance: 302.51\n",
      "End of month: 4, interest earned: 1.68, balance: 404.18\n",
      "End of month: 5, interest earned: 2.10, balance: 506.28\n",
      "End of month: 6, interest earned: 2.53, balance: 608.81\n"
     ]
    }
   ],
   "source": [
    "saving = float(input('Amount to save each month? '))\n",
    "balance = saving\n",
    "rate = 5 # percent\n",
    "monthly_rate = rate / 12.0\n",
    "for month in range(1, 7):\n",
    "    interest = balance * monthly_rate / 100.0\n",
    "    balance += interest\n",
    "    print(f'End of month: {month}, interest earned: {interest:.2f}, balance: {balance:.2f}')\n",
    "    balance += saving"
   ]
  },
  {
   "cell_type": "code",
   "execution_count": 121,
   "metadata": {},
   "outputs": [
    {
     "ename": "SyntaxError",
     "evalue": "invalid syntax (<ipython-input-121-e6b903452971>, line 1)",
     "output_type": "error",
     "traceback": [
      "\u001b[0;36m  File \u001b[0;32m\"<ipython-input-121-e6b903452971>\"\u001b[0;36m, line \u001b[0;32m1\u001b[0m\n\u001b[0;31m    def test1()\u001b[0m\n\u001b[0m               ^\u001b[0m\n\u001b[0;31mSyntaxError\u001b[0m\u001b[0;31m:\u001b[0m invalid syntax\n"
     ]
    }
   ],
   "source": [
    "def test1():\n",
    "    return 1\n",
    " \n",
    "def test2():\n",
    "    return 2\n",
    " \n",
    "def test3():\n",
    "    return 3\n",
    " \n",
    "def testall(x, y, z):\n",
    "    print(x)\n",
    "    print(y)\n",
    "    print(z)\n",
    " \n",
    "if __name__ == '__main__':\n",
    "    x = test1()\n",
    "    y = test2()\n",
    "    z = test3()\n",
    "    testall(x, y, z)"
   ]
  },
  {
   "cell_type": "code",
   "execution_count": 123,
   "metadata": {},
   "outputs": [
    {
     "name": "stdout",
     "output_type": "stream",
     "text": [
      "['246817', '4461135', '0029911']\n"
     ]
    }
   ],
   "source": [
    "odds = ''.join([str(x) for x in range(1, 10, 2)])\n",
    "evens = ''.join([str(x) for x in range(0, 10, 2)])\n",
    "data = ['124678', '1134546', '9091102']\n",
    "output = [''.join([ch for ch in entry if ch in evens] + [ch for ch in entry if ch in odds]) for entry in data]\n",
    "print(output)"
   ]
  },
  {
   "cell_type": "code",
   "execution_count": 124,
   "metadata": {},
   "outputs": [],
   "source": [
    "?str.replace"
   ]
  },
  {
   "cell_type": "code",
   "execution_count": 129,
   "metadata": {},
   "outputs": [
    {
     "ename": "error",
     "evalue": "(25, 'Inappropriate ioctl for device')",
     "output_type": "error",
     "traceback": [
      "\u001b[0;31m---------------------------------------------------------------------------\u001b[0m",
      "\u001b[0;31merror\u001b[0m                                     Traceback (most recent call last)",
      "\u001b[0;32m<ipython-input-129-1977822bf109>\u001b[0m in \u001b[0;36m<module>\u001b[0;34m()\u001b[0m\n\u001b[1;32m     37\u001b[0m \u001b[0;34m\u001b[0m\u001b[0m\n\u001b[1;32m     38\u001b[0m \u001b[0mgetch\u001b[0m \u001b[0;34m=\u001b[0m \u001b[0m_Getch\u001b[0m\u001b[0;34m(\u001b[0m\u001b[0;34m)\u001b[0m\u001b[0;31m#origin\u001b[0m\u001b[0;34m\u001b[0m\u001b[0m\n\u001b[0;32m---> 39\u001b[0;31m \u001b[0mchar\u001b[0m \u001b[0;34m=\u001b[0m \u001b[0mgetch\u001b[0m\u001b[0;34m.\u001b[0m\u001b[0m__call__\u001b[0m\u001b[0;34m(\u001b[0m\u001b[0;34m)\u001b[0m\u001b[0;34m\u001b[0m\u001b[0m\n\u001b[0m",
      "\u001b[0;32m<ipython-input-129-1977822bf109>\u001b[0m in \u001b[0;36m__call__\u001b[0;34m(self)\u001b[0m\n\u001b[1;32m      8\u001b[0m             \u001b[0mself\u001b[0m\u001b[0;34m.\u001b[0m\u001b[0mimpl\u001b[0m \u001b[0;34m=\u001b[0m \u001b[0m_GetchUnix\u001b[0m\u001b[0;34m(\u001b[0m\u001b[0;34m)\u001b[0m\u001b[0;34m\u001b[0m\u001b[0m\n\u001b[1;32m      9\u001b[0m \u001b[0;34m\u001b[0m\u001b[0m\n\u001b[0;32m---> 10\u001b[0;31m     \u001b[0;32mdef\u001b[0m \u001b[0m__call__\u001b[0m\u001b[0;34m(\u001b[0m\u001b[0mself\u001b[0m\u001b[0;34m)\u001b[0m\u001b[0;34m:\u001b[0m \u001b[0;32mreturn\u001b[0m \u001b[0mself\u001b[0m\u001b[0;34m.\u001b[0m\u001b[0mimpl\u001b[0m\u001b[0;34m(\u001b[0m\u001b[0;34m)\u001b[0m\u001b[0;34m\u001b[0m\u001b[0m\n\u001b[0m\u001b[1;32m     11\u001b[0m \u001b[0;34m\u001b[0m\u001b[0m\n\u001b[1;32m     12\u001b[0m \u001b[0;34m\u001b[0m\u001b[0m\n",
      "\u001b[0;32m<ipython-input-129-1977822bf109>\u001b[0m in \u001b[0;36m__call__\u001b[0;34m(self)\u001b[0m\n\u001b[1;32m     18\u001b[0m         \u001b[0;32mimport\u001b[0m \u001b[0msys\u001b[0m\u001b[0;34m,\u001b[0m \u001b[0mtty\u001b[0m\u001b[0;34m,\u001b[0m \u001b[0mtermios\u001b[0m\u001b[0;34m\u001b[0m\u001b[0m\n\u001b[1;32m     19\u001b[0m         \u001b[0mfd\u001b[0m \u001b[0;34m=\u001b[0m \u001b[0msys\u001b[0m\u001b[0;34m.\u001b[0m\u001b[0mstdin\u001b[0m\u001b[0;34m.\u001b[0m\u001b[0mfileno\u001b[0m\u001b[0;34m(\u001b[0m\u001b[0;34m)\u001b[0m\u001b[0;34m\u001b[0m\u001b[0m\n\u001b[0;32m---> 20\u001b[0;31m         \u001b[0mold_settings\u001b[0m \u001b[0;34m=\u001b[0m \u001b[0mtermios\u001b[0m\u001b[0;34m.\u001b[0m\u001b[0mtcgetattr\u001b[0m\u001b[0;34m(\u001b[0m\u001b[0mfd\u001b[0m\u001b[0;34m)\u001b[0m\u001b[0;34m\u001b[0m\u001b[0m\n\u001b[0m\u001b[1;32m     21\u001b[0m         \u001b[0;32mtry\u001b[0m\u001b[0;34m:\u001b[0m\u001b[0;34m\u001b[0m\u001b[0m\n\u001b[1;32m     22\u001b[0m             \u001b[0mtty\u001b[0m\u001b[0;34m.\u001b[0m\u001b[0msetraw\u001b[0m\u001b[0;34m(\u001b[0m\u001b[0msys\u001b[0m\u001b[0;34m.\u001b[0m\u001b[0mstdin\u001b[0m\u001b[0;34m.\u001b[0m\u001b[0mfileno\u001b[0m\u001b[0;34m(\u001b[0m\u001b[0;34m)\u001b[0m\u001b[0;34m)\u001b[0m\u001b[0;34m\u001b[0m\u001b[0m\n",
      "\u001b[0;31merror\u001b[0m: (25, 'Inappropriate ioctl for device')"
     ]
    }
   ],
   "source": [
    "class _Getch:\n",
    "    \"\"\"Gets a single character from standard input.  Does not echo to the\n",
    "screen.\"\"\"\n",
    "    def __init__(self):\n",
    "        try:\n",
    "            self.impl = _GetchWindows()\n",
    "        except ImportError:\n",
    "            self.impl = _GetchUnix()\n",
    " \n",
    "    def __call__(self): return self.impl()\n",
    " \n",
    " \n",
    "class _GetchUnix:\n",
    "    def __init__(self):\n",
    "        import tty, sys\n",
    " \n",
    "    def __call__(self):\n",
    "        import sys, tty, termios\n",
    "        fd = sys.stdin.fileno()\n",
    "        old_settings = termios.tcgetattr(fd)\n",
    "        try:\n",
    "            tty.setraw(sys.stdin.fileno())\n",
    "            ch = sys.stdin.read(1)\n",
    "        finally:\n",
    "            termios.tcsetattr(fd, termios.TCSADRAIN, old_settings)\n",
    "        return ch\n",
    " \n",
    " \n",
    "class _GetchWindows:\n",
    "    def __init__(self):\n",
    "        import msvcrt\n",
    " \n",
    "    def __call__(self):\n",
    "        import msvcrt\n",
    "        return msvcrt.getch()\n",
    " \n",
    " \n",
    "getch = _Getch()#origin\n",
    "char = getch.__call__()"
   ]
  },
  {
   "cell_type": "code",
   "execution_count": 131,
   "metadata": {},
   "outputs": [
    {
     "name": "stdout",
     "output_type": "stream",
     "text": [
      "Enter choice: 4\n",
      "Write a number: 1\n",
      "Write a number: 2\n",
      "Write a number: 3\n",
      "Write a number: 4\n",
      "Write a number: 5\n",
      "Write a number: done\n",
      "15.0\n",
      "3.0\n"
     ]
    }
   ],
   "source": [
    "    while True:\n",
    "        choice = input('Enter choice: ')\n",
    "        if choice in \"1234\":\n",
    "            break\n",
    "\n",
    "    if choice == \"1\":\n",
    "        pass\n",
    "    elif choice == \"4\":\n",
    "        nums = []\n",
    "        while True:\n",
    "            variabel = input(\"Write a number: \")\n",
    "            if variabel == \"done\":\n",
    "                break\n",
    "            try:\n",
    "               nums.append(float(variabel))\n",
    "            except:\n",
    "                print('Invalid entry')\n",
    "        sumofallnumbers = sum(nums)\n",
    "        averagenumber = sumofallnumbers/len(nums)\n",
    "        print(sumofallnumbers)\n",
    "        print(averagenumber)"
   ]
  },
  {
   "cell_type": "code",
   "execution_count": 137,
   "metadata": {},
   "outputs": [
    {
     "name": "stdout",
     "output_type": "stream",
     "text": [
      "Enter name: Fred\n",
      "Hello Fred\n"
     ]
    }
   ],
   "source": [
    "    import string\n",
    "    ALLOWED = set(string.ascii_lowercase + '.' + \"'\" + ' ' )\n",
    "\n",
    "    def name_valid(test_str):\n",
    "        return set(test_str).issubset(ALLOWED)\n",
    "\n",
    "    while True:\n",
    "        name = input('Enter name: ')\n",
    "        if name_valid(name.lower()):\n",
    "            break\n",
    "        print('Does not look like a name to me. Try again.')\n",
    "\n",
    "    print('Hello', name)"
   ]
  },
  {
   "cell_type": "code",
   "execution_count": 140,
   "metadata": {},
   "outputs": [
    {
     "name": "stdout",
     "output_type": "stream",
     "text": [
      "Some prompt: \n",
      "Please enter a number\n",
      "Some prompt: hjhjh\n",
      "Please enter a number\n",
      "Some prompt: 56.7\n",
      "You entered 56.7\n"
     ]
    }
   ],
   "source": [
    "while True:    \n",
    "    response = input('Some prompt: ')\n",
    "    try:\n",
    "        num = float(response)\n",
    "        break  # execution breaks out of loop\n",
    "    except ValueError as e:\n",
    "        print('Please enter a number')\n",
    "\n",
    "print(f'You entered {num}')"
   ]
  },
  {
   "cell_type": "code",
   "execution_count": 149,
   "metadata": {},
   "outputs": [
    {
     "name": "stdout",
     "output_type": "stream",
     "text": [
      "Enter a number: 10\n",
      "Enter a number: 20\n",
      "Enter a number: 5\n",
      "Enter a number: 30\n",
      "Enter a number: 25\n",
      "Enter a number: done\n",
      "Maximum 30.0\n",
      "Minimum 5.0\n"
     ]
    }
   ],
   "source": [
    "largest = - 999999999999\n",
    "smallest = 999999999999\n",
    "while True:\n",
    "    num = input(\"Enter a number: \")\n",
    "    if num == \"done\":\n",
    "        break\n",
    "    try:\n",
    "        entryStuff = float(num)\n",
    "    except:\n",
    "        print(\"Invalid input\")\n",
    "    else:\n",
    "        if entryStuff > largest:\n",
    "            largest = entryStuff\n",
    "        if entryStuff < smallest:\n",
    "            smallest = entryStuff\n",
    " \n",
    "print(\"Maximum\", largest)\n",
    "print(\"Minimum\", smallest)"
   ]
  },
  {
   "cell_type": "code",
   "execution_count": 152,
   "metadata": {},
   "outputs": [
    {
     "data": {
      "text/plain": [
       "[1, 2, 3, 4, 5, 6, 7, 8, 9, 10]"
      ]
     },
     "execution_count": 152,
     "metadata": {},
     "output_type": "execute_result"
    }
   ],
   "source": [
    "a=10\n",
    "list(range(1,a+1))"
   ]
  },
  {
   "cell_type": "code",
   "execution_count": 154,
   "metadata": {},
   "outputs": [
    {
     "name": "stdout",
     "output_type": "stream",
     "text": [
      "Enter grade, or just return to finish: 10\n",
      "Enter grade, or just return to finish: 20\n",
      "Enter grade, or just return to finish: 34\n",
      "Enter grade, or just return to finish: \n",
      "[10, 20, 34]\n"
     ]
    }
   ],
   "source": [
    "    grades = []\n",
    "    while True:\n",
    "        grade = input('Enter grade, or just return to finish: ')\n",
    "        if not grade:\n",
    "            break\n",
    "        grades.append(int(grade))\n",
    "    print(grades)  # just outputting the list here, you need code to calc averages"
   ]
  },
  {
   "cell_type": "code",
   "execution_count": 155,
   "metadata": {},
   "outputs": [
    {
     "name": "stdout",
     "output_type": "stream",
     "text": [
      "Enter length: 10\n",
      "Enter heigth 5\n",
      "Press 1 for Squares, Press 2 for triangles, Press x to exit\n"
     ]
    },
    {
     "ename": "error",
     "evalue": "(25, 'Inappropriate ioctl for device')",
     "output_type": "error",
     "traceback": [
      "\u001b[0;31m----------------------------------------------------------------------\u001b[0m",
      "\u001b[0;31merror\u001b[0m                                Traceback (most recent call last)",
      "\u001b[0;32m<ipython-input-155-1861661358a1>\u001b[0m in \u001b[0;36m<module>\u001b[0;34m()\u001b[0m\n\u001b[1;32m     13\u001b[0m \u001b[0;34m\u001b[0m\u001b[0m\n\u001b[1;32m     14\u001b[0m     \u001b[0;32mwhile\u001b[0m \u001b[0;32mTrue\u001b[0m\u001b[0;34m:\u001b[0m\u001b[0;34m\u001b[0m\u001b[0m\n\u001b[0;32m---> 15\u001b[0;31m         \u001b[0mkey\u001b[0m \u001b[0;34m=\u001b[0m \u001b[0mreadchar\u001b[0m\u001b[0;34m.\u001b[0m\u001b[0mreadkey\u001b[0m\u001b[0;34m(\u001b[0m\u001b[0;34m)\u001b[0m\u001b[0;34m\u001b[0m\u001b[0m\n\u001b[0m\u001b[1;32m     16\u001b[0m         \u001b[0;32mif\u001b[0m \u001b[0mkey\u001b[0m \u001b[0;32min\u001b[0m \u001b[0mMENU_ENTRIES\u001b[0m\u001b[0;34m:\u001b[0m\u001b[0;34m\u001b[0m\u001b[0m\n\u001b[1;32m     17\u001b[0m             \u001b[0;32mbreak\u001b[0m\u001b[0;34m\u001b[0m\u001b[0m\n",
      "\u001b[0;32m/Library/Frameworks/Python.framework/Versions/3.7/lib/python3.7/site-packages/readchar/readchar.py\u001b[0m in \u001b[0;36mreadkey\u001b[0;34m(getchar_fn)\u001b[0m\n\u001b[1;32m     86\u001b[0m     \u001b[0;32mdef\u001b[0m \u001b[0mreadkey\u001b[0m\u001b[0;34m(\u001b[0m\u001b[0mgetchar_fn\u001b[0m\u001b[0;34m=\u001b[0m\u001b[0;32mNone\u001b[0m\u001b[0;34m)\u001b[0m\u001b[0;34m:\u001b[0m\u001b[0;34m\u001b[0m\u001b[0m\n\u001b[1;32m     87\u001b[0m         \u001b[0mgetchar\u001b[0m \u001b[0;34m=\u001b[0m \u001b[0mgetchar_fn\u001b[0m \u001b[0;32mor\u001b[0m \u001b[0mreadchar\u001b[0m\u001b[0;34m\u001b[0m\u001b[0m\n\u001b[0;32m---> 88\u001b[0;31m         \u001b[0mc1\u001b[0m \u001b[0;34m=\u001b[0m \u001b[0mgetchar\u001b[0m\u001b[0;34m(\u001b[0m\u001b[0;34m)\u001b[0m\u001b[0;34m\u001b[0m\u001b[0m\n\u001b[0m\u001b[1;32m     89\u001b[0m         \u001b[0;32mif\u001b[0m \u001b[0mord\u001b[0m\u001b[0;34m(\u001b[0m\u001b[0mc1\u001b[0m\u001b[0;34m)\u001b[0m \u001b[0;34m!=\u001b[0m \u001b[0;36m0x1b\u001b[0m\u001b[0;34m:\u001b[0m\u001b[0;34m\u001b[0m\u001b[0m\n\u001b[1;32m     90\u001b[0m             \u001b[0;32mreturn\u001b[0m \u001b[0mc1\u001b[0m\u001b[0;34m\u001b[0m\u001b[0m\n",
      "\u001b[0;32m/Library/Frameworks/Python.framework/Versions/3.7/lib/python3.7/site-packages/readchar/readchar_linux.py\u001b[0m in \u001b[0;36mreadchar\u001b[0;34m()\u001b[0m\n\u001b[1;32m     10\u001b[0m \u001b[0;32mdef\u001b[0m \u001b[0mreadchar\u001b[0m\u001b[0;34m(\u001b[0m\u001b[0;34m)\u001b[0m\u001b[0;34m:\u001b[0m\u001b[0;34m\u001b[0m\u001b[0m\n\u001b[1;32m     11\u001b[0m     \u001b[0mfd\u001b[0m \u001b[0;34m=\u001b[0m \u001b[0msys\u001b[0m\u001b[0;34m.\u001b[0m\u001b[0mstdin\u001b[0m\u001b[0;34m.\u001b[0m\u001b[0mfileno\u001b[0m\u001b[0;34m(\u001b[0m\u001b[0;34m)\u001b[0m\u001b[0;34m\u001b[0m\u001b[0m\n\u001b[0;32m---> 12\u001b[0;31m     \u001b[0mold_settings\u001b[0m \u001b[0;34m=\u001b[0m \u001b[0mtermios\u001b[0m\u001b[0;34m.\u001b[0m\u001b[0mtcgetattr\u001b[0m\u001b[0;34m(\u001b[0m\u001b[0mfd\u001b[0m\u001b[0;34m)\u001b[0m\u001b[0;34m\u001b[0m\u001b[0m\n\u001b[0m\u001b[1;32m     13\u001b[0m     \u001b[0;32mtry\u001b[0m\u001b[0;34m:\u001b[0m\u001b[0;34m\u001b[0m\u001b[0m\n\u001b[1;32m     14\u001b[0m         \u001b[0mtty\u001b[0m\u001b[0;34m.\u001b[0m\u001b[0msetraw\u001b[0m\u001b[0;34m(\u001b[0m\u001b[0msys\u001b[0m\u001b[0;34m.\u001b[0m\u001b[0mstdin\u001b[0m\u001b[0;34m.\u001b[0m\u001b[0mfileno\u001b[0m\u001b[0;34m(\u001b[0m\u001b[0;34m)\u001b[0m\u001b[0;34m)\u001b[0m\u001b[0;34m\u001b[0m\u001b[0m\n",
      "\u001b[0;31merror\u001b[0m: (25, 'Inappropriate ioctl for device')"
     ]
    }
   ],
   "source": [
    "    import readchar  # https://pypi.org/project/readchar/\n",
    "\n",
    "\n",
    "\n",
    "    MENU_ENTRIES = '12xX'\n",
    "\n",
    "    while True:\n",
    "\n",
    "        print('Press 1 for Squares, Press 2 for triangles, Press x to exit')\n",
    "\n",
    "        while True:\n",
    "            key = readchar.readkey()\n",
    "            if key in MENU_ENTRIES:\n",
    "                break\n",
    "\n",
    "        if key.lower() == 'x':\n",
    "            break\n",
    "\n",
    "        length = float(input('Enter length: '))\n",
    "        height = float(input('Enter heigth '))\n",
    "\n",
    "        if key == \"1\":\n",
    "            print(f'Square of length {length} x height {height} has area of {length * height}')\n",
    "\n",
    "        elif key == \"2\":\n",
    "            print(f'Triangle of length {length} x height {height} has area of {length * height / 2}')"
   ]
  },
  {
   "cell_type": "code",
   "execution_count": 164,
   "metadata": {},
   "outputs": [],
   "source": [
    "def is_prime(num):\n",
    "    if num == 1: return False\n",
    "    if num in (2, 3): return True\n",
    "    if not num % 2: return False\n",
    "    for value in range(3, int(num**0.5+1), 2):\n",
    "        if not num % value: return False\n",
    "    return True"
   ]
  },
  {
   "cell_type": "markdown",
   "metadata": {},
   "source": [
    "![formulae](https://cs.uwaterloo.ca/~alopez-o/math-faq/img297.gif)\n",
    "\n",
    "k is day (1 to 31)\n",
    "\n",
    "m is month (1 = March, ..., 10 = December, 11 = Jan, 12 = Feb) Treat Jan & Feb as months of the preceding year\n",
    "\n",
    "C is century (1987 has C = 19)\n",
    "\n",
    "Y is year (1987 has Y = 87 except Y = 86 for Jan & Feb)\n",
    "\n",
    "W is week day (0 = Sunday, ..., 6 = Saturday)\n",
    "\n",
    "From: https://cs.uwaterloo.ca/~alopez-o/math-faq/node73.html"
   ]
  },
  {
   "cell_type": "code",
   "execution_count": 213,
   "metadata": {},
   "outputs": [
    {
     "name": "stdout",
     "output_type": "stream",
     "text": [
      "Please enter date of birth in form: dd/mm/yyyy: 14/9/2018\n",
      "14/9/2018 is a Friday\n"
     ]
    }
   ],
   "source": [
    "''' determine day of week for any Gregorian date '''\n",
    "\n",
    "# based on formulae at https://cs.uwaterloo.ca/~alopez-o/math-faq/node73.html\n",
    "\n",
    "DOW = dict(enumerate(('Sunday', 'Monday', 'Tuesday', 'Wednesday', 'Thursday', 'Friday', 'Saturday')))\n",
    "MONTHS = dict(enumerate(('January', 'February', 'March', 'April',\n",
    "                       'May', 'June', 'July', 'August',\n",
    "                       'September', 'October', 'November', 'December'), start=1))\n",
    "\n",
    "\n",
    "\n",
    "def is_leap_year(year):\n",
    "    'return True/False if year is a leap year'\n",
    "    return year % 4 == 0 and (year % 100 != 0 or year % 400 == 0)\n",
    "\n",
    "def get_date(msg):\n",
    "    'get date from user and return tuple of dd, mm, yyyy'\n",
    "    while True:\n",
    "        response = input(msg).strip().split('/')\n",
    "        if response and len(response) == 3:\n",
    "            try:\n",
    "                dd, mm, yyyy = [int(x) for x in response]\n",
    "                if not 1 <= dd <= 31:\n",
    "                    raise IndexError('Day must be between 1 and 31')\n",
    "                if not 1 <= mm <= 12:\n",
    "                    raise IndexError('Month must be between 1 and 12')\n",
    "                if not 1582 <= yyyy <= 9999:\n",
    "                    raise IndexError('Year must be between 1582 and 9999')\n",
    "                if mm == 2 and dd > 28:\n",
    "                    if not is_leap_year(yyyy) or dd > 29:\n",
    "                        raise IndexError(f'Too many days for {MONTHS[2]} in {yyyy}')\n",
    "                if dd == 31 and mm not in (1, 3, 5, 7, 8, 10, 12):\n",
    "                    raise IndexError(f'Too many days for {MONTHS[mm]}')\n",
    "                return dd, mm, yyyy\n",
    "            except ValueError as e:\n",
    "                print(f'{response} can not be understood as a date such as 18/05/1958')\n",
    "            except IndexError as e:\n",
    "                print(e)\n",
    "        else:\n",
    "            print('A response in the required format is expected. Please try again.')\n",
    "\n",
    "def day_of_week(dd, mm, yyyy):\n",
    "    'return day of week for date dd/mm/yyyy'\n",
    "    mm = mm - 2  # march = 1, jan = 11\n",
    "    if mm < 1:\n",
    "        mm + 12\n",
    "    if mm >= 11:  # year - 1 if month is jan or feb\n",
    "        yyyy -= 1\n",
    "\n",
    "    C = int(yyyy / 100)\n",
    "    Y = yyyy % (C * 100)\n",
    "    W = (dd + int(2.6 * mm - 0.2) - 2 * C + Y + int(Y/4) + int(C/4)) % 7\n",
    "\n",
    "    return DOW[W]\n",
    "\n",
    "dd, mm, yyyy = get_date('Please enter date of birth in form: dd/mm/yyyy: ')\n",
    "print(f'{dd}/{mm}/{yyyy} is a {day_of_week(dd, mm, yyyy)}')"
   ]
  },
  {
   "cell_type": "code",
   "execution_count": 200,
   "metadata": {},
   "outputs": [
    {
     "data": {
      "text/plain": [
       "{0: 'Sunday',\n",
       " 1: 'Monday',\n",
       " 2: 'Tuesday',\n",
       " 3: 'Wednesday',\n",
       " 4: 'Thursday',\n",
       " 5: 'Friday',\n",
       " 6: 'Saturday'}"
      ]
     },
     "execution_count": 200,
     "metadata": {},
     "output_type": "execute_result"
    }
   ],
   "source": [
    "DOW"
   ]
  },
  {
   "cell_type": "code",
   "execution_count": 205,
   "metadata": {},
   "outputs": [
    {
     "data": {
      "text/plain": [
       "{1: 'January',\n",
       " 2: 'February',\n",
       " 3: 'March',\n",
       " 4: 'April',\n",
       " 5: 'May',\n",
       " 6: 'June',\n",
       " 7: 'July',\n",
       " 8: 'August',\n",
       " 9: 'September',\n",
       " 10: 'October',\n",
       " 11: 'November',\n",
       " 12: 'December'}"
      ]
     },
     "execution_count": 205,
     "metadata": {},
     "output_type": "execute_result"
    }
   ],
   "source": [
    "MONTHS"
   ]
  },
  {
   "cell_type": "code",
   "execution_count": null,
   "metadata": {},
   "outputs": [],
   "source": []
  }
 ],
 "metadata": {
  "kernelspec": {
   "display_name": "Python 3",
   "language": "python",
   "name": "python3"
  },
  "language_info": {
   "codemirror_mode": {
    "name": "ipython",
    "version": 3
   },
   "file_extension": ".py",
   "mimetype": "text/x-python",
   "name": "python",
   "nbconvert_exporter": "python",
   "pygments_lexer": "ipython3",
   "version": "3.7.0"
  }
 },
 "nbformat": 4,
 "nbformat_minor": 2
}
