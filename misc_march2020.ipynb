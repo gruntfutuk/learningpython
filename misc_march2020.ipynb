{
 "cells": [
  {
   "cell_type": "markdown",
   "metadata": {},
   "source": [
    "# Using itertools\n",
    "\n",
    "http://www.blog.pythonlibrary.org/2016/04/20/python-201-an-intro-to-itertools/"
   ]
  },
  {
   "cell_type": "code",
   "execution_count": 1,
   "metadata": {},
   "outputs": [
    {
     "name": "stdout",
     "output_type": "stream",
     "text": "(3, 7000), (6, 10000)\n(4, 3000), (6, 10000), (8, 4000)\n(6, 10000), (7, 3000), (8, 4000)\n(3, 7000), (4, 3000), (7, 3000), (8, 4000)\n"
    }
   ],
   "source": [
    "\"\"\"Index positions and amounts of all combinations adding up to the target amount\"\"\"\n",
    "\n",
    "from itertools import combinations\n",
    "\n",
    "dif = 17000\n",
    "amounts = [100000 , 65000 , 7000 , 3000 , 17000 , 10000 , 3000 , 4000]\n",
    "amounts = [(idx, amount) for idx, amount in enumerate(amounts, start=1)]\n",
    "totals = (comb for qty in range(2, len(amounts) + 1)\n",
    "          for comb in combinations(amounts, qty)\n",
    "          if sum(n[1] for n in comb) == dif\n",
    "              )\n",
    "for total in totals:\n",
    "    print(*total, sep=\", \")"
   ]
  },
  {
   "cell_type": "code",
   "execution_count": null,
   "metadata": {},
   "outputs": [],
   "source": [
    "#itertools\n",
    "\n",
    "from itertools import cycle,islice, count, repeat, accumulate, compress, chain\n",
    "\n",
    "for num in count(5):  # infinite counter\n",
    "    if num == 10:  # need an exit plan\n",
    "        break\n",
    "    print(num, end=\"; \")\n",
    "print()\n",
    "for num in islice(count(5), 5):  # limits iterations\n",
    "    print(num, end=\"; \")\n",
    "print()\n",
    "for letter in islice(cycle('xyz'), 5):\n",
    "    print(f'{letter}', end=\"; \")\n",
    "print()   \n",
    "for string in repeat('Stuart', 5):  # boring repititions\n",
    "    print(f'Hi {string}', end=\"; \")\n",
    "print()\n",
    "for num in accumulate(islice(count(0), 10)):\n",
    "    print(num, end=\"; \")\n",
    "print()\n",
    "\n",
    "nums = [1,2,3]\n",
    "names = 'fred', 'bob'\n",
    "for thing in chain(nums, names):\n",
    "    print(thing, end=\"; \")\n",
    "print()\n",
    "\n",
    "bools = [True, False, True]\n",
    "for num in compress(nums, bools):\n",
    "    print(num, end='; ')\n",
    "print()"
   ]
  },
  {
   "cell_type": "code",
   "execution_count": 1,
   "metadata": {},
   "outputs": [
    {
     "name": "stdout",
     "output_type": "stream",
     "text": "\n\nAmounts that sum to 17000:\n  (from: 100000, 65000, 7000, 3000, 17000, 10000, 3000, 4000)\n\n   3:  7000     6: 10000  \n   4:  3000     6: 10000     8:  4000  \n   6: 10000     7:  3000     8:  4000  \n   3:  7000     4:  3000     7:  3000     8:  4000  \n\n\nAmounts that sum to 10000:\n  (from: 100000, 65000, 7000, 3000, 17000, 10000, 3000, 4000)\n\n   3:  7000     4:  3000  \n   3:  7000     7:  3000  \n   4:  3000     7:  3000     8:  4000  \n"
    }
   ],
   "source": [
    "from itertools import combinations, filterfalse\n",
    "\n",
    "def off_target(nums):  # combinations that don't equal target\n",
    "    return not sum(n for _, n in nums) == dif\n",
    "\n",
    "def output_matches(totals, amounts):\n",
    "    print(f\"\\n\\nAmounts that sum to {dif}:\\n\"\n",
    "          f\"  (from: {', '.join(str(n) for n in amounts)})\\n\")\n",
    "    for total in totals:\n",
    "        for idx, num in total:\n",
    "            print(f'{idx:4}: {num:5}', end='  ')\n",
    "        print()\n",
    "\n",
    "\n",
    "difs = ((17000, [100000 , 65000 , 7000 , 3000 , 17000 , 10000 , 3000 , 4000]), # original\n",
    "        (10000, [100000 , 65000 , 7000 , 3000 , 17000 , 10000 , 3000 , 4000]), # test\n",
    "       )\n",
    "\n",
    "for dif, amounts in difs:\n",
    "    amounts_idx = [(idx, amount) for idx, amount in enumerate(amounts, start=1)]\n",
    "    totals = (comb for qty in range(2, len(amounts) + 1)\n",
    "                      for comb in filterfalse(off_target,\n",
    "                            (combinations(amounts_idx, qty))))\n",
    "    output_matches(totals, amounts)"
   ]
  },
  {
   "cell_type": "markdown",
   "metadata": {},
   "source": [
    "# RPN Calculator using Class\n",
    "\n",
    "https://www.reddit.com/r/learnpython/comments/fhk6nx/any_way_to_define_a_dictionary_of_methods_within/"
   ]
  },
  {
   "cell_type": "code",
   "execution_count": 28,
   "metadata": {},
   "outputs": [
    {
     "name": "stdout",
     "output_type": "stream",
     "text": "Welcome to our simple RPN Calculator\n\nOperators/Commands:\n\t+     add two numbers\n\t-     subtract top from next down\n\t*     multipple two numbers\n\t/     divide 2 down by top\n\tint   truncate top to integer\n\tround round 2 down to top decimal places\n\th     display hel\n\tdel   remove top number\n\tswap  swap top two numbers\n\tq     quit Calculator\n\n\n[1, 3, 2, 5]\n[1, 3, 7]\n"
    }
   ],
   "source": [
    "class Calculator:\n",
    "\n",
    "    GUIDE = ''  # placeholder for init\n",
    "\n",
    "    def __init__(self):\n",
    "        self.clear()\n",
    "        self.degrees = True\n",
    "        self.scimode = False\n",
    "        self.rpn = True\n",
    "        self.msg = \"h(elp) q(uit)\"\n",
    "        self.err = \"\"\n",
    "        self.prompt = \"> \"\n",
    "        print(Calculator.GUIDE)\n",
    "\n",
    "    def __str__(self):\n",
    "        elements = [self.err, self.msg, f'{self.stack}', self.prompt]\n",
    "        self.display = ' | '.join(elements)\n",
    "        return self.display\n",
    "\n",
    "    @staticmethod\n",
    "    def is_quit(text):\n",
    "        return text.lower() in ('q', 'quit', 'exit', 'x')\n",
    "\n",
    "    def stack_op(self, text):\n",
    "        if text.lower() in Calculator.OPS:\n",
    "            self.stack.append(Calculator.OPS[text.lower()][-1])\n",
    "            return True\n",
    "        return False\n",
    "\n",
    "    def stack_num(self, text):\n",
    "        num = None\n",
    "        try:\n",
    "            num = float(text)\n",
    "            num = int(text)\n",
    "        except ValueError:\n",
    "            pass\n",
    "        if num is None:\n",
    "            return False\n",
    "        self.stack.append(num)\n",
    "        return True                \n",
    "\n",
    "    def clear(self):\n",
    "        self.display = \"\"\n",
    "        self.memory = 0\n",
    "        self.stack = []\n",
    "\n",
    "    def clear_error(self):\n",
    "        self.err = \"\"\n",
    "\n",
    "    def set_msg(self, msg=\"\"):\n",
    "        self.msg = msg\n",
    "\n",
    "    def enough_nums(self, required=2):\n",
    "        \"\"\"confirm if stack holds sufficient numbers for an operation\"\"\"\n",
    "        if len(self.stack) >= required:\n",
    "            for n in range(required):\n",
    "                if not isinstance(self.stack[-1-n], (int, float)):\n",
    "                    return False\n",
    "            return True\n",
    "        return False    \n",
    "\n",
    "    def entry(self):\n",
    "        while True:\n",
    "            response = input(f'{self}')\n",
    "            self.clear_error()\n",
    "            if self.is_quit(response):\n",
    "                return None\n",
    "            elif self.stack_op(response):\n",
    "                return True\n",
    "            elif self.stack_num(response):\n",
    "                return False\n",
    "            self.err = 'ERR (unknown)'\n",
    "\n",
    "    def op_add(self):\n",
    "        if self.enough_nums():\n",
    "            print(self.stack)\n",
    "            self.stack.append(self.stack.pop() + self.stack.pop())\n",
    "        else:\n",
    "            self.err = f'ERR (not enough nums)'\n",
    "\n",
    "    def op_sub(self):\n",
    "        if self.enough_nums():\n",
    "            self.stack.append(- self.stack.pop() + self.stack.pop())\n",
    "        else:\n",
    "            self.err = f'ERR (not enough nums)'\n",
    "\n",
    "    def op_mul(self):\n",
    "        if self.enough_nums():\n",
    "            self.stack.append(self.stack.pop() * self.stack.pop())\n",
    "        else:\n",
    "            self.err = f'ERR (not enough nums)'\n",
    "\n",
    "    def op_div(self):\n",
    "        if self.enough_nums():            \n",
    "            if not self.stack[-1] == 0:\n",
    "                self.stack.append(self.stack.pop(-2) / self.stack.pop())\n",
    "            else:\n",
    "                self.err = f'ERR (div by 0 not allowed) {self.stack}'\n",
    "        else:\n",
    "            self.err = f'ERR (not enough nums)'\n",
    "\n",
    "    def op_del1(self):\n",
    "        if self.stack:\n",
    "            self.stack.pop()\n",
    "\n",
    "    def op_whole(self):\n",
    "        if self.enough_nums(1):\n",
    "            self.stack.append(int(self.stack.pop()))\n",
    "        else:\n",
    "            self.err = f'ERR (not enough nums)'\n",
    "\n",
    "    def op_round(self):\n",
    "        if self.enough_nums():\n",
    "            self.stack.append(round(self.stack.pop(-2), self.stack.pop()))\n",
    "        else:\n",
    "            self.err = f'ERR (not enough nums)'\n",
    "\n",
    "    def op_swap(self):\n",
    "        if self.enough_nums(2):\n",
    "            self.stack.extend((self.stack.pop(), self.stack.pop()))\n",
    "        else:\n",
    "            self.err = f'ERR (not enough nums)'\n",
    "\n",
    "    def op_help(self):\n",
    "        print(Calculator.GUIDE)\n",
    "\n",
    "    def work(self):\n",
    "        while True:\n",
    "            status = self.entry()\n",
    "            if status is None:\n",
    "                return\n",
    "            elif status:\n",
    "                op = self.stack.pop()\n",
    "                op(self)\n",
    "\n",
    "    OPS = {'+': ('add two numbers', op_add),\n",
    "        '-': ('subtract top from next down', op_sub),\n",
    "        '*': ('multipple two numbers', op_mul),\n",
    "        '/': ('divide 2 down by top', op_div),\n",
    "        'int': ('truncate top to integer', op_whole),\n",
    "        'round': ('round 2 down to top decimal places', op_round), \n",
    "        'h': ('display hel', op_help),\n",
    "        'del': ('remove top number', op_del1),\n",
    "        'swap': ('swap top two numbers', op_swap),\n",
    "        'q': ('quit Calculator', None),\n",
    "        }\n",
    "\n",
    "    DETAILS = ''.join(f'\\t{code:5} {desc}\\n' for code, (desc, _) in OPS.items()) \n",
    "\n",
    "    GUIDE = f'Welcome to our simple RPN Calculator\\n\\n' \\\n",
    "            f'Operators/Commands:\\n{DETAILS}\\n'\n",
    "\n",
    "\n",
    "calc1 = Calculator()\n",
    "calc1.work()"
   ]
  },
  {
   "cell_type": "markdown",
   "metadata": {},
   "source": [
    "I realise you've been given a few options already, but a slightly different approach is to put the method names in the dict:"
   ]
  },
  {
   "cell_type": "code",
   "execution_count": null,
   "metadata": {},
   "outputs": [],
   "source": [
    "class Calculator:\n",
    "    method_aliases = {'+': 'add', 'del': 'del1'} # and so on\n",
    "\n",
    "    def add(self):\n",
    "        ...\n",
    "\n",
    "    def del1(self):\n",
    "        ...\n",
    "\n",
    "    def get_method(self, string):\n",
    "        return getattr(self, self.method_aliases[string])\n",
    "\n",
    "calculator = Calculator()\n",
    "calculator.get_method('+')() # this calls calculator.add()"
   ]
  },
  {
   "cell_type": "markdown",
   "metadata": {},
   "source": [
    "This way you can populate the dict anywhere, regardless of whether the methods have been defined yet or not. This also plays nicely with subclasses. For example if you have a subclass that defines its own add method, that will be called instead of the parent class's method, without having to give the subclass a different method_aliases dict.\n",
    "\n",
    "Though if you're going to do this kind of thing often, it may be nicer to do some magic with decorators and/or metaclasses to get a nice API like the following:"
   ]
  },
  {
   "cell_type": "code",
   "execution_count": null,
   "metadata": {},
   "outputs": [],
   "source": [
    "@alias_class\n",
    "class Calculator:\n",
    "    @alias('+')\n",
    "    def add(self):\n",
    "        ...\n",
    "\n",
    "calculator = Calculator()\n",
    "calculator['+']()"
   ]
  },
  {
   "cell_type": "code",
   "execution_count": 25,
   "metadata": {},
   "outputs": [
    {
     "data": {
      "text/plain": "[1, 2, 3, 4, 5, 6]"
     },
     "execution_count": 25,
     "metadata": {},
     "output_type": "execute_result"
    }
   ],
   "source": [
    "x = [1,2,3]\n",
    "x.extend([4,5,6])\n",
    "x"
   ]
  },
  {
   "cell_type": "markdown",
   "metadata": {},
   "source": [
    "There are a number of ways of coding this up, depending on the exact semantics you want."
   ]
  },
  {
   "cell_type": "code",
   "execution_count": 1,
   "metadata": {},
   "outputs": [
    {
     "data": {
      "image/png": "[encoded data removed]",
      "image/svg+xml": "<?xml version=\"1.0\" encoding=\"utf-8\" standalone=\"no\"?>\n<!DOCTYPE svg PUBLIC \"-//W3C//DTD SVG 1.1//EN\"\n  \"http://www.w3.org/Graphics/SVG/1.1/DTD/svg11.dtd\">\n<!-- Created with matplotlib (https://matplotlib.org/) -->\n<svg height=\"248.518125pt\" version=\"1.1\" viewBox=\"0 0 386.845313 248.518125\" width=\"386.845313pt\" xmlns=\"http://www.w3.org/2000/svg\" xmlns:xlink=\"http://www.w3.org/1999/xlink\">\n <defs>\n  <style type=\"text/css\">\n*{stroke-linecap:butt;stroke-linejoin:round;}\n  </style>\n </defs>\n <g id=\"figure_1\">\n  <g id=\"patch_1\">\n   <path d=\"M 0 248.518125 \nL 386.845313 248.518125 \nL 386.845313 0 \nL 0 0 \nz\n\" style=\"fill:none;\"/>\n  </g>\n  <g id=\"axes_1\">\n   <g id=\"patch_2\">\n    <path d=\"M 44.845313 224.64 \nL 379.645313 224.64 \nL 379.645313 7.2 \nL 44.845313 7.2 \nz\n\" style=\"fill:#ffffff;\"/>\n   </g>\n   <g id=\"matplotlib.axis_1\">\n    <g id=\"xtick_1\">\n     <g id=\"line2d_1\">\n      <defs>\n       <path d=\"M 0 0 \nL 0 3.5 \n\" id=\"m98390b2d44\" style=\"stroke:#000000;stroke-width:0.8;\"/>\n      </defs>\n      <g>\n       <use style=\"stroke:#000000;stroke-width:0.8;\" x=\"60.063494\" xlink:href=\"#m98390b2d44\" y=\"224.64\"/>\n      </g>\n     </g>\n     <g id=\"text_1\">\n      <!-- 0.0 -->\n      <defs>\n       <path d=\"M 31.78125 66.40625 \nQ 24.171875 66.40625 20.328125 58.90625 \nQ 16.5 51.421875 16.5 36.375 \nQ 16.5 21.390625 20.328125 13.890625 \nQ 24.171875 6.390625 31.78125 6.390625 \nQ 39.453125 6.390625 43.28125 13.890625 \nQ 47.125 21.390625 47.125 36.375 \nQ 47.125 51.421875 43.28125 58.90625 \nQ 39.453125 66.40625 31.78125 66.40625 \nz\nM 31.78125 74.21875 \nQ 44.046875 74.21875 50.515625 64.515625 \nQ 56.984375 54.828125 56.984375 36.375 \nQ 56.984375 17.96875 50.515625 8.265625 \nQ 44.046875 -1.421875 31.78125 -1.421875 \nQ 19.53125 -1.421875 13.0625 8.265625 \nQ 6.59375 17.96875 6.59375 36.375 \nQ 6.59375 54.828125 13.0625 64.515625 \nQ 19.53125 74.21875 31.78125 74.21875 \nz\n\" id=\"DejaVuSans-48\"/>\n       <path d=\"M 10.6875 12.40625 \nL 21 12.40625 \nL 21 0 \nL 10.6875 0 \nz\n\" id=\"DejaVuSans-46\"/>\n      </defs>\n      <g transform=\"translate(52.111932 239.238437)scale(0.1 -0.1)\">\n       <use xlink:href=\"#DejaVuSans-48\"/>\n       <use x=\"63.623047\" xlink:href=\"#DejaVuSans-46\"/>\n       <use x=\"95.410156\" xlink:href=\"#DejaVuSans-48\"/>\n      </g>\n     </g>\n    </g>\n    <g id=\"xtick_2\">\n     <g id=\"line2d_2\">\n      <g>\n       <use style=\"stroke:#000000;stroke-width:0.8;\" x=\"98.108949\" xlink:href=\"#m98390b2d44\" y=\"224.64\"/>\n      </g>\n     </g>\n     <g id=\"text_2\">\n      <!-- 2.5 -->\n      <defs>\n       <path d=\"M 19.1875 8.296875 \nL 53.609375 8.296875 \nL 53.609375 0 \nL 7.328125 0 \nL 7.328125 8.296875 \nQ 12.9375 14.109375 22.625 23.890625 \nQ 32.328125 33.6875 34.8125 36.53125 \nQ 39.546875 41.84375 41.421875 45.53125 \nQ 43.3125 49.21875 43.3125 52.78125 \nQ 43.3125 58.59375 39.234375 62.25 \nQ 35.15625 65.921875 28.609375 65.921875 \nQ 23.96875 65.921875 18.8125 64.3125 \nQ 13.671875 62.703125 7.8125 59.421875 \nL 7.8125 69.390625 \nQ 13.765625 71.78125 18.9375 73 \nQ 24.125 74.21875 28.421875 74.21875 \nQ 39.75 74.21875 46.484375 68.546875 \nQ 53.21875 62.890625 53.21875 53.421875 \nQ 53.21875 48.921875 51.53125 44.890625 \nQ 49.859375 40.875 45.40625 35.40625 \nQ 44.1875 33.984375 37.640625 27.21875 \nQ 31.109375 20.453125 19.1875 8.296875 \nz\n\" id=\"DejaVuSans-50\"/>\n       <path d=\"M 10.796875 72.90625 \nL 49.515625 72.90625 \nL 49.515625 64.59375 \nL 19.828125 64.59375 \nL 19.828125 46.734375 \nQ 21.96875 47.46875 24.109375 47.828125 \nQ 26.265625 48.1875 28.421875 48.1875 \nQ 40.625 48.1875 47.75 41.5 \nQ 54.890625 34.8125 54.890625 23.390625 \nQ 54.890625 11.625 47.5625 5.09375 \nQ 40.234375 -1.421875 26.90625 -1.421875 \nQ 22.3125 -1.421875 17.546875 -0.640625 \nQ 12.796875 0.140625 7.71875 1.703125 \nL 7.71875 11.625 \nQ 12.109375 9.234375 16.796875 8.0625 \nQ 21.484375 6.890625 26.703125 6.890625 \nQ 35.15625 6.890625 40.078125 11.328125 \nQ 45.015625 15.765625 45.015625 23.390625 \nQ 45.015625 31 40.078125 35.4375 \nQ 35.15625 39.890625 26.703125 39.890625 \nQ 22.75 39.890625 18.8125 39.015625 \nQ 14.890625 38.140625 10.796875 36.28125 \nz\n\" id=\"DejaVuSans-53\"/>\n      </defs>\n      <g transform=\"translate(90.157386 239.238437)scale(0.1 -0.1)\">\n       <use xlink:href=\"#DejaVuSans-50\"/>\n       <use x=\"63.623047\" xlink:href=\"#DejaVuSans-46\"/>\n       <use x=\"95.410156\" xlink:href=\"#DejaVuSans-53\"/>\n      </g>\n     </g>\n    </g>\n    <g id=\"xtick_3\">\n     <g id=\"line2d_3\">\n      <g>\n       <use style=\"stroke:#000000;stroke-width:0.8;\" x=\"136.154403\" xlink:href=\"#m98390b2d44\" y=\"224.64\"/>\n      </g>\n     </g>\n     <g id=\"text_3\">\n      <!-- 5.0 -->\n      <g transform=\"translate(128.202841 239.238437)scale(0.1 -0.1)\">\n       <use xlink:href=\"#DejaVuSans-53\"/>\n       <use x=\"63.623047\" xlink:href=\"#DejaVuSans-46\"/>\n       <use x=\"95.410156\" xlink:href=\"#DejaVuSans-48\"/>\n      </g>\n     </g>\n    </g>\n    <g id=\"xtick_4\">\n     <g id=\"line2d_4\">\n      <g>\n       <use style=\"stroke:#000000;stroke-width:0.8;\" x=\"174.199858\" xlink:href=\"#m98390b2d44\" y=\"224.64\"/>\n      </g>\n     </g>\n     <g id=\"text_4\">\n      <!-- 7.5 -->\n      <defs>\n       <path d=\"M 8.203125 72.90625 \nL 55.078125 72.90625 \nL 55.078125 68.703125 \nL 28.609375 0 \nL 18.3125 0 \nL 43.21875 64.59375 \nL 8.203125 64.59375 \nz\n\" id=\"DejaVuSans-55\"/>\n      </defs>\n      <g transform=\"translate(166.248295 239.238437)scale(0.1 -0.1)\">\n       <use xlink:href=\"#DejaVuSans-55\"/>\n       <use x=\"63.623047\" xlink:href=\"#DejaVuSans-46\"/>\n       <use x=\"95.410156\" xlink:href=\"#DejaVuSans-53\"/>\n      </g>\n     </g>\n    </g>\n    <g id=\"xtick_5\">\n     <g id=\"line2d_5\">\n      <g>\n       <use style=\"stroke:#000000;stroke-width:0.8;\" x=\"212.245313\" xlink:href=\"#m98390b2d44\" y=\"224.64\"/>\n      </g>\n     </g>\n     <g id=\"text_5\">\n      <!-- 10.0 -->\n      <defs>\n       <path d=\"M 12.40625 8.296875 \nL 28.515625 8.296875 \nL 28.515625 63.921875 \nL 10.984375 60.40625 \nL 10.984375 69.390625 \nL 28.421875 72.90625 \nL 38.28125 72.90625 \nL 38.28125 8.296875 \nL 54.390625 8.296875 \nL 54.390625 0 \nL 12.40625 0 \nz\n\" id=\"DejaVuSans-49\"/>\n      </defs>\n      <g transform=\"translate(201.1125 239.238437)scale(0.1 -0.1)\">\n       <use xlink:href=\"#DejaVuSans-49\"/>\n       <use x=\"63.623047\" xlink:href=\"#DejaVuSans-48\"/>\n       <use x=\"127.246094\" xlink:href=\"#DejaVuSans-46\"/>\n       <use x=\"159.033203\" xlink:href=\"#DejaVuSans-48\"/>\n      </g>\n     </g>\n    </g>\n    <g id=\"xtick_6\">\n     <g id=\"line2d_6\">\n      <g>\n       <use style=\"stroke:#000000;stroke-width:0.8;\" x=\"250.290767\" xlink:href=\"#m98390b2d44\" y=\"224.64\"/>\n      </g>\n     </g>\n     <g id=\"text_6\">\n      <!-- 12.5 -->\n      <g transform=\"translate(239.157955 239.238437)scale(0.1 -0.1)\">\n       <use xlink:href=\"#DejaVuSans-49\"/>\n       <use x=\"63.623047\" xlink:href=\"#DejaVuSans-50\"/>\n       <use x=\"127.246094\" xlink:href=\"#DejaVuSans-46\"/>\n       <use x=\"159.033203\" xlink:href=\"#DejaVuSans-53\"/>\n      </g>\n     </g>\n    </g>\n    <g id=\"xtick_7\">\n     <g id=\"line2d_7\">\n      <g>\n       <use style=\"stroke:#000000;stroke-width:0.8;\" x=\"288.336222\" xlink:href=\"#m98390b2d44\" y=\"224.64\"/>\n      </g>\n     </g>\n     <g id=\"text_7\">\n      <!-- 15.0 -->\n      <g transform=\"translate(277.203409 239.238437)scale(0.1 -0.1)\">\n       <use xlink:href=\"#DejaVuSans-49\"/>\n       <use x=\"63.623047\" xlink:href=\"#DejaVuSans-53\"/>\n       <use x=\"127.246094\" xlink:href=\"#DejaVuSans-46\"/>\n       <use x=\"159.033203\" xlink:href=\"#DejaVuSans-48\"/>\n      </g>\n     </g>\n    </g>\n    <g id=\"xtick_8\">\n     <g id=\"line2d_8\">\n      <g>\n       <use style=\"stroke:#000000;stroke-width:0.8;\" x=\"326.381676\" xlink:href=\"#m98390b2d44\" y=\"224.64\"/>\n      </g>\n     </g>\n     <g id=\"text_8\">\n      <!-- 17.5 -->\n      <g transform=\"translate(315.248864 239.238437)scale(0.1 -0.1)\">\n       <use xlink:href=\"#DejaVuSans-49\"/>\n       <use x=\"63.623047\" xlink:href=\"#DejaVuSans-55\"/>\n       <use x=\"127.246094\" xlink:href=\"#DejaVuSans-46\"/>\n       <use x=\"159.033203\" xlink:href=\"#DejaVuSans-53\"/>\n      </g>\n     </g>\n    </g>\n    <g id=\"xtick_9\">\n     <g id=\"line2d_9\">\n      <g>\n       <use style=\"stroke:#000000;stroke-width:0.8;\" x=\"364.427131\" xlink:href=\"#m98390b2d44\" y=\"224.64\"/>\n      </g>\n     </g>\n     <g id=\"text_9\">\n      <!-- 20.0 -->\n      <g transform=\"translate(353.294318 239.238437)scale(0.1 -0.1)\">\n       <use xlink:href=\"#DejaVuSans-50\"/>\n       <use x=\"63.623047\" xlink:href=\"#DejaVuSans-48\"/>\n       <use x=\"127.246094\" xlink:href=\"#DejaVuSans-46\"/>\n       <use x=\"159.033203\" xlink:href=\"#DejaVuSans-48\"/>\n      </g>\n     </g>\n    </g>\n   </g>\n   <g id=\"matplotlib.axis_2\">\n    <g id=\"ytick_1\">\n     <g id=\"line2d_10\">\n      <defs>\n       <path d=\"M 0 0 \nL -3.5 0 \n\" id=\"ma24c5dc9ec\" style=\"stroke:#000000;stroke-width:0.8;\"/>\n      </defs>\n      <g>\n       <use style=\"stroke:#000000;stroke-width:0.8;\" x=\"44.845313\" xlink:href=\"#ma24c5dc9ec\" y=\"214.76439\"/>\n      </g>\n     </g>\n     <g id=\"text_10\">\n      <!-- −1.00 -->\n      <defs>\n       <path d=\"M 10.59375 35.5 \nL 73.1875 35.5 \nL 73.1875 27.203125 \nL 10.59375 27.203125 \nz\n\" id=\"DejaVuSans-8722\"/>\n      </defs>\n      <g transform=\"translate(7.2 218.563608)scale(0.1 -0.1)\">\n       <use xlink:href=\"#DejaVuSans-8722\"/>\n       <use x=\"83.789062\" xlink:href=\"#DejaVuSans-49\"/>\n       <use x=\"147.412109\" xlink:href=\"#DejaVuSans-46\"/>\n       <use x=\"179.199219\" xlink:href=\"#DejaVuSans-48\"/>\n       <use x=\"242.822266\" xlink:href=\"#DejaVuSans-48\"/>\n      </g>\n     </g>\n    </g>\n    <g id=\"ytick_2\">\n     <g id=\"line2d_11\">\n      <g>\n       <use style=\"stroke:#000000;stroke-width:0.8;\" x=\"44.845313\" xlink:href=\"#ma24c5dc9ec\" y=\"190.045267\"/>\n      </g>\n     </g>\n     <g id=\"text_11\">\n      <!-- −0.75 -->\n      <g transform=\"translate(7.2 193.844486)scale(0.1 -0.1)\">\n       <use xlink:href=\"#DejaVuSans-8722\"/>\n       <use x=\"83.789062\" xlink:href=\"#DejaVuSans-48\"/>\n       <use x=\"147.412109\" xlink:href=\"#DejaVuSans-46\"/>\n       <use x=\"179.199219\" xlink:href=\"#DejaVuSans-55\"/>\n       <use x=\"242.822266\" xlink:href=\"#DejaVuSans-53\"/>\n      </g>\n     </g>\n    </g>\n    <g id=\"ytick_3\">\n     <g id=\"line2d_12\">\n      <g>\n       <use style=\"stroke:#000000;stroke-width:0.8;\" x=\"44.845313\" xlink:href=\"#ma24c5dc9ec\" y=\"165.326145\"/>\n      </g>\n     </g>\n     <g id=\"text_12\">\n      <!-- −0.50 -->\n      <g transform=\"translate(7.2 169.125363)scale(0.1 -0.1)\">\n       <use xlink:href=\"#DejaVuSans-8722\"/>\n       <use x=\"83.789062\" xlink:href=\"#DejaVuSans-48\"/>\n       <use x=\"147.412109\" xlink:href=\"#DejaVuSans-46\"/>\n       <use x=\"179.199219\" xlink:href=\"#DejaVuSans-53\"/>\n       <use x=\"242.822266\" xlink:href=\"#DejaVuSans-48\"/>\n      </g>\n     </g>\n    </g>\n    <g id=\"ytick_4\">\n     <g id=\"line2d_13\">\n      <g>\n       <use style=\"stroke:#000000;stroke-width:0.8;\" x=\"44.845313\" xlink:href=\"#ma24c5dc9ec\" y=\"140.607022\"/>\n      </g>\n     </g>\n     <g id=\"text_13\">\n      <!-- −0.25 -->\n      <g transform=\"translate(7.2 144.406241)scale(0.1 -0.1)\">\n       <use xlink:href=\"#DejaVuSans-8722\"/>\n       <use x=\"83.789062\" xlink:href=\"#DejaVuSans-48\"/>\n       <use x=\"147.412109\" xlink:href=\"#DejaVuSans-46\"/>\n       <use x=\"179.199219\" xlink:href=\"#DejaVuSans-50\"/>\n       <use x=\"242.822266\" xlink:href=\"#DejaVuSans-53\"/>\n      </g>\n     </g>\n    </g>\n    <g id=\"ytick_5\">\n     <g id=\"line2d_14\">\n      <g>\n       <use style=\"stroke:#000000;stroke-width:0.8;\" x=\"44.845313\" xlink:href=\"#ma24c5dc9ec\" y=\"115.887899\"/>\n      </g>\n     </g>\n     <g id=\"text_14\">\n      <!-- 0.00 -->\n      <g transform=\"translate(15.579688 119.687118)scale(0.1 -0.1)\">\n       <use xlink:href=\"#DejaVuSans-48\"/>\n       <use x=\"63.623047\" xlink:href=\"#DejaVuSans-46\"/>\n       <use x=\"95.410156\" xlink:href=\"#DejaVuSans-48\"/>\n       <use x=\"159.033203\" xlink:href=\"#DejaVuSans-48\"/>\n      </g>\n     </g>\n    </g>\n    <g id=\"ytick_6\">\n     <g id=\"line2d_15\">\n      <g>\n       <use style=\"stroke:#000000;stroke-width:0.8;\" x=\"44.845313\" xlink:href=\"#ma24c5dc9ec\" y=\"91.168777\"/>\n      </g>\n     </g>\n     <g id=\"text_15\">\n      <!-- 0.25 -->\n      <g transform=\"translate(15.579688 94.967996)scale(0.1 -0.1)\">\n       <use xlink:href=\"#DejaVuSans-48\"/>\n       <use x=\"63.623047\" xlink:href=\"#DejaVuSans-46\"/>\n       <use x=\"95.410156\" xlink:href=\"#DejaVuSans-50\"/>\n       <use x=\"159.033203\" xlink:href=\"#DejaVuSans-53\"/>\n      </g>\n     </g>\n    </g>\n    <g id=\"ytick_7\">\n     <g id=\"line2d_16\">\n      <g>\n       <use style=\"stroke:#000000;stroke-width:0.8;\" x=\"44.845313\" xlink:href=\"#ma24c5dc9ec\" y=\"66.449654\"/>\n      </g>\n     </g>\n     <g id=\"text_16\">\n      <!-- 0.50 -->\n      <g transform=\"translate(15.579688 70.248873)scale(0.1 -0.1)\">\n       <use xlink:href=\"#DejaVuSans-48\"/>\n       <use x=\"63.623047\" xlink:href=\"#DejaVuSans-46\"/>\n       <use x=\"95.410156\" xlink:href=\"#DejaVuSans-53\"/>\n       <use x=\"159.033203\" xlink:href=\"#DejaVuSans-48\"/>\n      </g>\n     </g>\n    </g>\n    <g id=\"ytick_8\">\n     <g id=\"line2d_17\">\n      <g>\n       <use style=\"stroke:#000000;stroke-width:0.8;\" x=\"44.845313\" xlink:href=\"#ma24c5dc9ec\" y=\"41.730532\"/>\n      </g>\n     </g>\n     <g id=\"text_17\">\n      <!-- 0.75 -->\n      <g transform=\"translate(15.579688 45.529751)scale(0.1 -0.1)\">\n       <use xlink:href=\"#DejaVuSans-48\"/>\n       <use x=\"63.623047\" xlink:href=\"#DejaVuSans-46\"/>\n       <use x=\"95.410156\" xlink:href=\"#DejaVuSans-55\"/>\n       <use x=\"159.033203\" xlink:href=\"#DejaVuSans-53\"/>\n      </g>\n     </g>\n    </g>\n    <g id=\"ytick_9\">\n     <g id=\"line2d_18\">\n      <g>\n       <use style=\"stroke:#000000;stroke-width:0.8;\" x=\"44.845313\" xlink:href=\"#ma24c5dc9ec\" y=\"17.011409\"/>\n      </g>\n     </g>\n     <g id=\"text_18\">\n      <!-- 1.00 -->\n      <g transform=\"translate(15.579688 20.810628)scale(0.1 -0.1)\">\n       <use xlink:href=\"#DejaVuSans-49\"/>\n       <use x=\"63.623047\" xlink:href=\"#DejaVuSans-46\"/>\n       <use x=\"95.410156\" xlink:href=\"#DejaVuSans-48\"/>\n       <use x=\"159.033203\" xlink:href=\"#DejaVuSans-48\"/>\n      </g>\n     </g>\n    </g>\n   </g>\n   <g id=\"line2d_19\">\n    <path clip-path=\"url(#p926fe11d2b)\" d=\"M 60.063494 115.887899 \nL 63.137874 104.906673 \nL 66.212255 137.714487 \nL 69.286635 83.486004 \nL 72.361015 158.464208 \nL 75.435395 63.663957 \nL 78.509775 177.113329 \nL 81.584155 46.418501 \nL 84.658536 192.74175 \nL 87.732916 32.600479 \nL 90.807296 204.578408 \nL 93.881676 22.891636 \nL 96.956056 212.039313 \nL 100.030436 17.77098 \nL 103.104817 214.756364 \nL 106.179197 17.491151 \nL 109.253577 212.595509 \nL 112.327957 22.065954 \nL 115.402337 205.663359 \nL 118.476717 31.269682 \nL 121.551098 194.301928 \nL 124.625478 44.648246 \nL 127.699858 179.071758 \nL 130.774238 61.541585 \nL 133.848618 160.724265 \nL 136.922998 81.116225 \nL 139.997379 140.164666 \nL 143.071759 102.406407 \nL 146.146139 118.407316 \nL 149.220519 124.36173 \nL 152.294899 96.525665 \nL 155.369279 145.898977 \nL 158.44366 75.599295 \nL 161.51804 165.955557 \nL 164.59242 56.660657 \nL 167.6668 183.541933 \nL 170.74118 40.644132 \nL 173.81556 197.790439 \nL 176.889941 28.339935 \nL 179.964321 207.998093 \nL 183.038701 20.355119 \nL 186.113081 213.661277 \nL 189.187461 17.083636 \nL 192.261841 214.500583 \nL 195.336222 18.686892 \nL 198.410602 210.474602 \nL 201.484982 25.085785 \nL 204.559362 201.781967 \nL 207.633742 35.964612 \nL 210.708122 188.851548 \nL 213.782503 50.786641 \nL 216.856883 172.321297 \nL 219.931263 68.820592 \nL 223.005643 153.006773 \nL 226.080023 89.176717 \nL 229.154403 131.860903 \nL 232.228784 110.850702 \nL 235.303164 109.926968 \nL 238.377544 132.773208 \nL 241.451924 88.287129 \nL 244.526304 153.862638 \nL 247.600684 68.009039 \nL 250.675065 173.078496 \nL 253.749445 50.093163 \nL 256.823825 189.472723 \nL 259.898205 35.423424 \nL 262.972585 202.236471 \nL 266.046965 24.723588 \nL 269.121346 210.740012 \nL 272.195726 18.521555 \nL 275.270106 214.563802 \nL 278.344486 17.123317 \nL 281.418866 213.519187 \nL 284.493246 20.59786 \nL 287.567627 207.657706 \nL 290.642007 28.773758 \nL 293.716387 197.268547 \nL 296.790767 41.247636 \nL 299.865147 182.864284 \nL 302.939527 57.404065 \nL 306.013908 165.155586 \nL 309.088288 76.44593 \nL 312.162668 145.016152 \nL 315.237048 97.433757 \nL 318.311428 123.439607 \nL 321.385808 119.332061 \nL 324.460189 101.490481 \nL 327.534569 141.06044 \nL 330.608949 80.251686 \nL 333.683329 161.546873 \nL 336.757709 60.771086 \nL 339.832089 179.780614 \nL 342.90647 44.009802 \nL 345.98085 194.86206 \nL 349.05523 30.794792 \nL 352.12961 206.047131 \nL 355.20399 21.778048 \nL 358.27837 212.783986 \nL 361.352751 17.404433 \nL 364.427131 214.740248 \n\" style=\"fill:none;stroke:#1f77b4;stroke-linecap:square;stroke-width:1.5;\"/>\n   </g>\n   <g id=\"patch_3\">\n    <path d=\"M 44.845313 224.64 \nL 44.845313 7.2 \n\" style=\"fill:none;stroke:#000000;stroke-linecap:square;stroke-linejoin:miter;stroke-width:0.8;\"/>\n   </g>\n   <g id=\"patch_4\">\n    <path d=\"M 379.645313 224.64 \nL 379.645313 7.2 \n\" style=\"fill:none;stroke:#000000;stroke-linecap:square;stroke-linejoin:miter;stroke-width:0.8;\"/>\n   </g>\n   <g id=\"patch_5\">\n    <path d=\"M 44.845313 224.64 \nL 379.645313 224.64 \n\" style=\"fill:none;stroke:#000000;stroke-linecap:square;stroke-linejoin:miter;stroke-width:0.8;\"/>\n   </g>\n   <g id=\"patch_6\">\n    <path d=\"M 44.845313 7.2 \nL 379.645313 7.2 \n\" style=\"fill:none;stroke:#000000;stroke-linecap:square;stroke-linejoin:miter;stroke-width:0.8;\"/>\n   </g>\n  </g>\n </g>\n <defs>\n  <clipPath id=\"p926fe11d2b\">\n   <rect height=\"217.44\" width=\"334.8\" x=\"44.845313\" y=\"7.2\"/>\n  </clipPath>\n </defs>\n</svg>\n",
      "text/plain": "<Figure size 432x288 with 1 Axes>"
     },
     "metadata": {
      "needs_background": "light"
     },
     "output_type": "display_data"
    }
   ],
   "source": [
    "import pandas as pd \n",
    "import numpy as np \n",
    "import matplotlib.pyplot as plt \n",
    "\n",
    "p = np.linspace(0, 20, 100)\n",
    "plt.plot(p, np.sin(15*p))\n",
    "plt.show()\n",
    "\n"
   ]
  },
  {
   "cell_type": "code",
   "execution_count": 3,
   "metadata": {},
   "outputs": [
    {
     "name": "stdout",
     "output_type": "stream",
     "text": "[ True  True  True  True  True  True  True  True  True  True False False\n  True  True  True False False]\n"
    }
   ],
   "source": [
    "    density5_01 = np.array([ 0. , 0. , 0. , 0. ,\n",
    "                    0. , 0. , 0. , 0. ,\n",
    "                    0. , 0. , 30282.53606145, 26502.46914671,\n",
    "                    0. , 0. , 0. , 33493.91806271,\n",
    "                    15153.27538047])\n",
    "    mask2 = density5_01 == 0\n",
    "    print(mask2)"
   ]
  },
  {
   "cell_type": "code",
   "execution_count": 9,
   "metadata": {},
   "outputs": [
    {
     "data": {
      "text/plain": "array([ True,  True,  True,  True,  True,  True,  True,  True,  True,\n        True, False, False,  True,  True,  True, False, False])"
     },
     "execution_count": 9,
     "metadata": {},
     "output_type": "execute_result"
    }
   ],
   "source": [
    "test[:] == 0"
   ]
  },
  {
   "cell_type": "code",
   "execution_count": 37,
   "metadata": {},
   "outputs": [
    {
     "name": "stdout",
     "output_type": "stream",
     "text": "The cost of square is: $35.00\n"
    }
   ],
   "source": [
    "    shapes = {\"square\": 35, \"circle\": 35, \"rectangle\": 23}\n",
    "    shape = 'square'\n",
    "    if shape in shapes:\n",
    "        print(f'The cost of square is: ${shapes[\"square\"]:.2f}')"
   ]
  },
  {
   "cell_type": "code",
   "execution_count": 34,
   "metadata": {},
   "outputs": [
    {
     "name": "stdout",
     "output_type": "stream",
     "text": "['cbda', 'adcb', 'dcba', 'acdb', 'bcda', 'dacb', 'cdab', 'cabd', 'bdac', 'dcab', 'dabc', 'abcd', 'abdc', 'acbd', 'dbca', 'badc', 'cdba', 'dbac', 'cbad', 'bdca', 'cadb', 'bcad', 'adbc', 'bacd']\n"
    }
   ],
   "source": [
    "def permutations(string):\n",
    "    result = set([string])\n",
    "    if len(string) == 2:\n",
    "        result.add(string[1] + string[0])\n",
    "    elif len(string) > 2:\n",
    "        for i, c in enumerate(string):\n",
    "            for s in permutations(string[:i] + string[i+1:]):\n",
    "                result.add(c+s)\n",
    "    return list(result)\n",
    "\n",
    "print(permutations('abcd'))"
   ]
  },
  {
   "cell_type": "markdown",
   "metadata": {},
   "source": [
    "How do you write a Python program if you are given three numbers a, b, and c? Write a program to determine the largest number that is less than or equal to c and leaves a remainder b when divided by a"
   ]
  },
  {
   "cell_type": "code",
   "execution_count": 11,
   "metadata": {},
   "outputs": [
    {
     "name": "stdout",
     "output_type": "stream",
     "text": "19 is largest number <= 19 divisible by 10 leaving 9.\n"
    }
   ],
   "source": [
    "def get_num(msg):\n",
    "    while True:\n",
    "        try:\n",
    "            num = int(input(msg))\n",
    "            break\n",
    "        except ValueError:\n",
    "            pass\n",
    "        print('Integer number, please')\n",
    "    return num\n",
    "c = get_num('Limit? ')\n",
    "a = get_num('Divisor? ')\n",
    "b = get_num('Remainder? ')\n",
    "\n",
    "for num in range(c, b, -1):\n",
    "    if num % a == b:\n",
    "        print(f'{num} is largest number <= {c} divisible by {a} leaving {b}.')\n",
    "        break\n",
    "else:\n",
    "    print(f'Can\\t fine a number <= {c} divisible by {a} leaving {b}.')"
   ]
  },
  {
   "cell_type": "code",
   "execution_count": 5,
   "metadata": {},
   "outputs": [
    {
     "name": "stdout",
     "output_type": "stream",
     "text": "229 ns ± 4.84 ns per loop (mean ± std. dev. of 7 runs, 1000000 loops each)\n387 ns ± 6.72 ns per loop (mean ± std. dev. of 7 runs, 1000000 loops each)\n268 ns ± 3.11 ns per loop (mean ± std. dev. of 7 runs, 1000000 loops each)\n377 ns ± 3.77 ns per loop (mean ± std. dev. of 7 runs, 1000000 loops each)\n"
    }
   ],
   "source": [
    "    xs=range(10)\n",
    "    %timeit map(hex, xs)\n",
    "    %timeit (hex(x) for x in xs)\n",
    "    %timeit map(lambda x: x+2, xs)\n",
    "    %timeit (x+2 for x in xs)"
   ]
  },
  {
   "cell_type": "code",
   "execution_count": null,
   "metadata": {},
   "outputs": [],
   "source": [
    "\n",
    "    229 ns ± 4.84 ns per loop (mean ± std. dev. of 7 runs, 1000000 loops each)\n",
    "    387 ns ± 6.72 ns per loop (mean ± std. dev. of 7 runs, 1000000 loops each)\n",
    "    268 ns ± 3.11 ns per loop (mean ± std. dev. of 7 runs, 1000000 loops each)\n",
    "    377 ns ± 3.77 ns per loop (mean ± std. dev. of 7 runs, 1000000 loops each)"
   ]
  },
  {
   "cell_type": "code",
   "execution_count": 6,
   "metadata": {},
   "outputs": [
    {
     "name": "stdout",
     "output_type": "stream",
     "text": "20.0\n"
    }
   ],
   "source": [
    "    x = input(\"Enter numbers separated by comma \")\n",
    "    new_list = x.split(\",\") # note the use of split\n",
    "    sample_list = []\n",
    "    for item in new_list:\n",
    "        sample_list.append(int(item))\n",
    "    average = sum(sample_list) / (len(sample_list))\n",
    "    print(average)"
   ]
  },
  {
   "cell_type": "code",
   "execution_count": null,
   "metadata": {},
   "outputs": [],
   "source": [
    "\"\"\"\n",
    "# Imports CSV to dataframe with properly labeled columns\n",
    "CCsv2= pd.read_csv(r'G:\\GIS Maps\\my state \\company Projects\\my project folder\\organizing folder1 \\csv locations\\New Method\\Folder where its stored \\filename.csv', header = None, names= ['col1', 'col2', 'col3', 'col4', 'col5'], index_col = None)\n",
    "\n",
    "#save csv to dataframe with new column names\n",
    "\n",
    "CSV_df.to_csv(r'G:\\GIS Maps\\my state \\company Projects\\my project folder\\organizing folder1 \\csv locations\\New Method\\Folder where its stored \\filename.csv, index=False)\n",
    "\n",
    "\"\"\"\n",
    "\n",
    "files = [r\"G:\\GIS Maps\\my state \\company Projects\\my project folder\\organizing folder1 \\csv locations\\New Method\\Folder where its stored \\filename.csv\",\n",
    "         r\"G:\\GIS Maps\\my state \\company Projects\\my project folder\\organizing folder1 \\csv locations\\New Method\\Folder where its stored \\filename2.csv\",\n",
    "         r\"G:\\GIS Maps\\my state \\company Projects\\my project folder\\organizing folder1 \\csv locations\\New Method\\Folder where its stored \\filename3.csv\",\n",
    "         ]\n",
    "\n",
    "for filename in files:\n",
    "    print(filename)\n"
   ]
  },
  {
   "cell_type": "code",
   "execution_count": 11,
   "metadata": {},
   "outputs": [
    {
     "data": {
      "text/plain": "' this\\nis \\na \\ntest'"
     },
     "execution_count": 11,
     "metadata": {},
     "output_type": "execute_result"
    }
   ],
   "source": [
    "\"\"\" this\n",
    "is \n",
    "a \n",
    "test\"\"\""
   ]
  },
  {
   "cell_type": "code",
   "execution_count": null,
   "metadata": {},
   "outputs": [],
   "source": []
  }
 ],
 "metadata": {
  "kernelspec": {
   "display_name": "Python 3.8.2 64-bit",
   "language": "python",
   "name": "python38264bit04a3daf7468f42839eb2941c745052a1"
  },
  "language_info": {
   "codemirror_mode": {
    "name": "ipython",
    "version": 3
   },
   "file_extension": ".py",
   "mimetype": "text/x-python",
   "name": "python",
   "nbconvert_exporter": "python",
   "pygments_lexer": "ipython3",
   "version": "3.8.2-final"
  }
 },
 "nbformat": 4,
 "nbformat_minor": 4
}