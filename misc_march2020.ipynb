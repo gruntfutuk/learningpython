{
 "cells": [
  {
   "cell_type": "markdown",
   "metadata": {},
   "source": [
    "# Using itertools\n",
    "\n",
    "http://www.blog.pythonlibrary.org/2016/04/20/python-201-an-intro-to-itertools/"
   ],
   "execution_count": null,
   "outputs": []
  },
  {
   "cell_type": "code",
   "execution_count": null,
   "metadata": {},
   "outputs": [],
   "source": [
    "\"\"\"Index positions and amounts of all combinations adding up to the target amount\"\"\"\n",
    "\n",
    "from itertools import combinations\n",
    "\n",
    "dif = 17000\n",
    "amounts = [100000 , 65000 , 7000 , 3000 , 17000 , 10000 , 3000 , 4000]\n",
    "amounts = [(idx, amount) for idx, amount in enumerate(amounts, start=1)]\n",
    "totals = (comb for qty in range(2, len(amounts) + 1)\n",
    "          for comb in combinations(amounts, qty)\n",
    "          if sum(n[1] for n in comb) == dif\n",
    "              )\n",
    "for total in totals:\n",
    "    print(*total, sep=\", \")"
   ]
  },
  {
   "cell_type": "code",
   "execution_count": 1,
   "metadata": {},
   "outputs": [
    {
     "output_type": "stream",
     "name": "stdout",
     "text": "5; 6; 7; 8; 9; \n5; 6; 7; 8; 9; \nx; y; z; x; y; \nHi Stuart; Hi Stuart; Hi Stuart; Hi Stuart; Hi Stuart; \n0; 1; 3; 6; 10; 15; 21; 28; 36; 45; \n1; 2; 3; fred; bob; \n1; 3; \n"
    }
   ],
   "source": [
    "#itertools\n",
    "\n",
    "from itertools import cycle,islice, count, repeat, accumulate, compress, chain\n",
    "\n",
    "for num in count(5):  # infinite counter\n",
    "    if num == 10:  # need an exit plan\n",
    "        break\n",
    "    print(num, end=\"; \")\n",
    "print()\n",
    "for num in islice(count(5), 5):  # limits iterations\n",
    "    print(num, end=\"; \")\n",
    "print()\n",
    "for letter in islice(cycle('xyz'), 5):\n",
    "    print(f'{letter}', end=\"; \")\n",
    "print()   \n",
    "for string in repeat('Stuart', 5):  # boring repititions\n",
    "    print(f'Hi {string}', end=\"; \")\n",
    "print()\n",
    "for num in accumulate(islice(count(0), 10)):\n",
    "    print(num, end=\"; \")\n",
    "print()\n",
    "\n",
    "nums = [1,2,3]\n",
    "names = 'fred', 'bob'\n",
    "for thing in chain(nums, names):\n",
    "    print(thing, end=\"; \")\n",
    "print()\n",
    "\n",
    "bools = [True, False, True]\n",
    "for num in compress(nums, bools):\n",
    "    print(num, end='; ')\n",
    "print()"
   ]
  },
  {
   "cell_type": "code",
   "execution_count": 2,
   "metadata": {},
   "outputs": [
    {
     "output_type": "stream",
     "name": "stdout",
     "text": "\n\nAmounts that sum to 17000:\n  (from: 100000, 65000, 7000, 3000, 17000, 10000, 3000, 4000)\n\n   3:  7000     6: 10000  \n   4:  3000     6: 10000     8:  4000  \n   6: 10000     7:  3000     8:  4000  \n   3:  7000     4:  3000     7:  3000     8:  4000  \n\n\nAmounts that sum to 10000:\n  (from: 100000, 65000, 7000, 3000, 17000, 10000, 3000, 4000)\n\n   3:  7000     4:  3000  \n   3:  7000     7:  3000  \n   4:  3000     7:  3000     8:  4000  \n"
    }
   ],
   "source": [
    "from itertools import combinations, filterfalse\n",
    "\n",
    "def off_target(nums):  # combinations that don't equal target\n",
    "    return not sum(n for _, n in nums) == dif\n",
    "\n",
    "def output_matches(totals, amounts):\n",
    "    print(f\"\\n\\nAmounts that sum to {dif}:\\n\"\n",
    "          f\"  (from: {', '.join(str(n) for n in amounts)})\\n\")\n",
    "    for total in totals:\n",
    "        for idx, num in total:\n",
    "            print(f'{idx:4}: {num:5}', end='  ')\n",
    "        print()\n",
    "\n",
    "\n",
    "difs = ((17000, [100000 , 65000 , 7000 , 3000 , 17000 , 10000 , 3000 , 4000]), # original\n",
    "        (10000, [100000 , 65000 , 7000 , 3000 , 17000 , 10000 , 3000 , 4000]), # test\n",
    "       )\n",
    "\n",
    "for dif, amounts in difs:\n",
    "    amounts_idx = [(idx, amount) for idx, amount in enumerate(amounts, start=1)]\n",
    "    totals = (comb for qty in range(2, len(amounts) + 1)\n",
    "                      for comb in filterfalse(off_target,\n",
    "                            (combinations(amounts_idx, qty))))\n",
    "    output_matches(totals, amounts)"
   ]
  },
  {
   "cell_type": "markdown",
   "metadata": {},
   "source": [
    "# RPN Calculator using Class\n",
    "\n",
    "https://www.reddit.com/r/learnpython/comments/fhk6nx/any_way_to_define_a_dictionary_of_methods_within/"
   ],
   "execution_count": null,
   "outputs": []
  },
  {
   "cell_type": "code",
   "execution_count": null,
   "metadata": {},
   "outputs": [],
   "source": [
    "class Calculator:\n",
    "\n",
    "    GUIDE = ''  # placeholder for init\n",
    "\n",
    "    def __init__(self):\n",
    "        self.clear()\n",
    "        self.degrees = True\n",
    "        self.scimode = False\n",
    "        self.rpn = True\n",
    "        self.msg = \"h(elp) q(uit)\"\n",
    "        self.err = \"\"\n",
    "        self.prompt = \"> \"\n",
    "        print(Calculator.GUIDE)\n",
    "\n",
    "    def __str__(self):\n",
    "        elements = [self.err, self.msg, f'{self.stack}', self.prompt]\n",
    "        self.display = ' | '.join(elements)\n",
    "        return self.display\n",
    "\n",
    "    @staticmethod\n",
    "    def is_quit(text):\n",
    "        return text.lower() in ('q', 'quit', 'exit', 'x')\n",
    "\n",
    "    def stack_op(self, text):\n",
    "        if text.lower() in Calculator.OPS:\n",
    "            self.stack.append(Calculator.OPS[text.lower()][-1])\n",
    "            return True\n",
    "        return False\n",
    "\n",
    "    def stack_num(self, text):\n",
    "        num = None\n",
    "        try:\n",
    "            num = float(text)\n",
    "            num = int(text)\n",
    "        except ValueError:\n",
    "            pass\n",
    "        if num is None:\n",
    "            return False\n",
    "        self.stack.append(num)\n",
    "        return True                \n",
    "\n",
    "    def clear(self):\n",
    "        self.display = \"\"\n",
    "        self.memory = 0\n",
    "        self.stack = []\n",
    "\n",
    "    def clear_error(self):\n",
    "        self.err = \"\"\n",
    "\n",
    "    def set_msg(self, msg=\"\"):\n",
    "        self.msg = msg\n",
    "\n",
    "    def enough_nums(self, required=2):\n",
    "        \"\"\"confirm if stack holds sufficient numbers for an operation\"\"\"\n",
    "        if len(self.stack) >= required:\n",
    "            for n in range(required):\n",
    "                if not isinstance(self.stack[-1-n], (int, float)):\n",
    "                    return False\n",
    "            return True\n",
    "        return False    \n",
    "\n",
    "    def entry(self):\n",
    "        while True:\n",
    "            response = input(f'{self}')\n",
    "            self.clear_error()\n",
    "            if self.is_quit(response):\n",
    "                return None\n",
    "            elif self.stack_op(response):\n",
    "                return True\n",
    "            elif self.stack_num(response):\n",
    "                return False\n",
    "            self.err = 'ERR (unknown)'\n",
    "\n",
    "    def op_add(self):\n",
    "        if self.enough_nums():\n",
    "            print(self.stack)\n",
    "            self.stack.append(self.stack.pop() + self.stack.pop())\n",
    "        else:\n",
    "            self.err = f'ERR (not enough nums)'\n",
    "\n",
    "    def op_sub(self):\n",
    "        if self.enough_nums():\n",
    "            self.stack.append(- self.stack.pop() + self.stack.pop())\n",
    "        else:\n",
    "            self.err = f'ERR (not enough nums)'\n",
    "\n",
    "    def op_mul(self):\n",
    "        if self.enough_nums():\n",
    "            self.stack.append(self.stack.pop() * self.stack.pop())\n",
    "        else:\n",
    "            self.err = f'ERR (not enough nums)'\n",
    "\n",
    "    def op_div(self):\n",
    "        if self.enough_nums():            \n",
    "            if not self.stack[-1] == 0:\n",
    "                self.stack.append(self.stack.pop(-2) / self.stack.pop())\n",
    "            else:\n",
    "                self.err = f'ERR (div by 0 not allowed) {self.stack}'\n",
    "        else:\n",
    "            self.err = f'ERR (not enough nums)'\n",
    "\n",
    "    def op_del1(self):\n",
    "        if self.stack:\n",
    "            self.stack.pop()\n",
    "\n",
    "    def op_whole(self):\n",
    "        if self.enough_nums(1):\n",
    "            self.stack.append(int(self.stack.pop()))\n",
    "        else:\n",
    "            self.err = f'ERR (not enough nums)'\n",
    "\n",
    "    def op_round(self):\n",
    "        if self.enough_nums():\n",
    "            self.stack.append(round(self.stack.pop(-2), self.stack.pop()))\n",
    "        else:\n",
    "            self.err = f'ERR (not enough nums)'\n",
    "\n",
    "    def op_swap(self):\n",
    "        if self.enough_nums(2):\n",
    "            self.stack.extend((self.stack.pop(), self.stack.pop()))\n",
    "        else:\n",
    "            self.err = f'ERR (not enough nums)'\n",
    "\n",
    "    def op_help(self):\n",
    "        print(Calculator.GUIDE)\n",
    "\n",
    "    def work(self):\n",
    "        while True:\n",
    "            status = self.entry()\n",
    "            if status is None:\n",
    "                return\n",
    "            elif status:\n",
    "                op = self.stack.pop()\n",
    "                op(self)\n",
    "\n",
    "    OPS = {'+': ('add two numbers', op_add),\n",
    "        '-': ('subtract top from next down', op_sub),\n",
    "        '*': ('multipple two numbers', op_mul),\n",
    "        '/': ('divide 2 down by top', op_div),\n",
    "        'int': ('truncate top to integer', op_whole),\n",
    "        'round': ('round 2 down to top decimal places', op_round), \n",
    "        'h': ('display hel', op_help),\n",
    "        'del': ('remove top number', op_del1),\n",
    "        'swap': ('swap top two numbers', op_swap),\n",
    "        'q': ('quit Calculator', None),\n",
    "        }\n",
    "\n",
    "    DETAILS = ''.join(f'\\t{code:5} {desc}\\n' for code, (desc, _) in OPS.items()) \n",
    "\n",
    "    GUIDE = f'Welcome to our simple RPN Calculator\\n\\n' \\\n",
    "            f'Operators/Commands:\\n{DETAILS}\\n'\n",
    "\n",
    "\n",
    "calc1 = Calculator()\n",
    "calc1.work()"
   ]
  },
  {
   "cell_type": "markdown",
   "metadata": {},
   "source": [
    "I realise you've been given a few options already, but a slightly different approach is to put the method names in the dict:"
   ],
   "execution_count": null,
   "outputs": []
  },
  {
   "cell_type": "code",
   "execution_count": null,
   "metadata": {},
   "outputs": [],
   "source": [
    "class Calculator:\n",
    "    method_aliases = {'+': 'add', 'del': 'del1'} # and so on\n",
    "\n",
    "    def add(self):\n",
    "        ...\n",
    "\n",
    "    def del1(self):\n",
    "        ...\n",
    "\n",
    "    def get_method(self, string):\n",
    "        return getattr(self, self.method_aliases[string])\n",
    "\n",
    "calculator = Calculator()\n",
    "calculator.get_method('+')() # this calls calculator.add()"
   ]
  },
  {
   "cell_type": "markdown",
   "metadata": {},
   "source": [
    "This way you can populate the dict anywhere, regardless of whether the methods have been defined yet or not. This also plays nicely with subclasses. For example if you have a subclass that defines its own add method, that will be called instead of the parent class's method, without having to give the subclass a different method_aliases dict.\n",
    "\n",
    "Though if you're going to do this kind of thing often, it may be nicer to do some magic with decorators and/or metaclasses to get a nice API like the following:"
   ],
   "execution_count": null,
   "outputs": []
  },
  {
   "cell_type": "code",
   "execution_count": null,
   "metadata": {},
   "outputs": [],
   "source": [
    "@alias_class\n",
    "class Calculator:\n",
    "    @alias('+')\n",
    "    def add(self):\n",
    "        ...\n",
    "\n",
    "calculator = Calculator()\n",
    "calculator['+']()"
   ]
  },
  {
   "cell_type": "code",
   "execution_count": null,
   "metadata": {},
   "outputs": [],
   "source": [
    "x = [1,2,3]\n",
    "x.extend([4,5,6])\n",
    "x"
   ]
  },
  {
   "cell_type": "markdown",
   "metadata": {},
   "source": [
    "There are a number of ways of coding this up, depending on the exact semantics you want."
   ],
   "execution_count": null,
   "outputs": []
  },
  {
   "cell_type": "code",
   "execution_count": null,
   "metadata": {},
   "outputs": [],
   "source": [
    "import pandas as pd \n",
    "import numpy as np \n",
    "import matplotlib.pyplot as plt \n",
    "\n",
    "p = np.linspace(0, 20, 100)\n",
    "plt.plot(p, np.sin(15*p))\n",
    "plt.show()\n",
    "\n"
   ]
  },
  {
   "cell_type": "code",
   "execution_count": null,
   "metadata": {},
   "outputs": [],
   "source": [
    "    density5_01 = np.array([ 0. , 0. , 0. , 0. ,\n",
    "                    0. , 0. , 0. , 0. ,\n",
    "                    0. , 0. , 30282.53606145, 26502.46914671,\n",
    "                    0. , 0. , 0. , 33493.91806271,\n",
    "                    15153.27538047])\n",
    "    mask2 = density5_01 == 0\n",
    "    print(mask2)"
   ]
  },
  {
   "cell_type": "code",
   "execution_count": null,
   "metadata": {},
   "outputs": [],
   "source": [
    "test[:] == 0"
   ]
  },
  {
   "cell_type": "code",
   "execution_count": null,
   "metadata": {},
   "outputs": [],
   "source": [
    "    shapes = {\"square\": 35, \"circle\": 35, \"rectangle\": 23}\n",
    "    shape = 'square'\n",
    "    if shape in shapes:\n",
    "        print(f'The cost of square is: ${shapes[\"square\"]:.2f}')"
   ]
  },
  {
   "cell_type": "code",
   "execution_count": null,
   "metadata": {},
   "outputs": [],
   "source": [
    "def permutations(string):\n",
    "    result = set([string])\n",
    "    if len(string) == 2:\n",
    "        result.add(string[1] + string[0])\n",
    "    elif len(string) > 2:\n",
    "        for i, c in enumerate(string):\n",
    "            for s in permutations(string[:i] + string[i+1:]):\n",
    "                result.add(c+s)\n",
    "    return list(result)\n",
    "\n",
    "print(permutations('abcd'))"
   ]
  },
  {
   "cell_type": "markdown",
   "metadata": {},
   "source": [
    "How do you write a Python program if you are given three numbers a, b, and c? Write a program to determine the largest number that is less than or equal to c and leaves a remainder b when divided by a"
   ],
   "execution_count": null,
   "outputs": []
  },
  {
   "cell_type": "code",
   "execution_count": null,
   "metadata": {},
   "outputs": [],
   "source": [
    "def get_num(msg):\n",
    "    while True:\n",
    "        try:\n",
    "            num = int(input(msg))\n",
    "            break\n",
    "        except ValueError:\n",
    "            pass\n",
    "        print('Integer number, please')\n",
    "    return num\n",
    "c = get_num('Limit? ')\n",
    "a = get_num('Divisor? ')\n",
    "b = get_num('Remainder? ')\n",
    "\n",
    "for num in range(c, b, -1):\n",
    "    if num % a == b:\n",
    "        print(f'{num} is largest number <= {c} divisible by {a} leaving {b}.')\n",
    "        break\n",
    "else:\n",
    "    print(f'Can\\t fine a number <= {c} divisible by {a} leaving {b}.')"
   ]
  },
  {
   "cell_type": "code",
   "execution_count": null,
   "metadata": {},
   "outputs": [],
   "source": [
    "    xs=range(10)\n",
    "    %timeit map(hex, xs)\n",
    "    %timeit (hex(x) for x in xs)\n",
    "    %timeit map(lambda x: x+2, xs)\n",
    "    %timeit (x+2 for x in xs)"
   ]
  },
  {
   "cell_type": "code",
   "execution_count": null,
   "metadata": {},
   "outputs": [],
   "source": [
    "\n",
    "    229 ns ± 4.84 ns per loop (mean ± std. dev. of 7 runs, 1000000 loops each)\n",
    "    387 ns ± 6.72 ns per loop (mean ± std. dev. of 7 runs, 1000000 loops each)\n",
    "    268 ns ± 3.11 ns per loop (mean ± std. dev. of 7 runs, 1000000 loops each)\n",
    "    377 ns ± 3.77 ns per loop (mean ± std. dev. of 7 runs, 1000000 loops each)"
   ]
  },
  {
   "cell_type": "code",
   "execution_count": null,
   "metadata": {},
   "outputs": [],
   "source": [
    "    x = input(\"Enter numbers separated by comma \")\n",
    "    new_list = x.split(\",\") # note the use of split\n",
    "    sample_list = []\n",
    "    for item in new_list:\n",
    "        sample_list.append(int(item))\n",
    "    average = sum(sample_list) / (len(sample_list))\n",
    "    print(average)"
   ]
  },
  {
   "cell_type": "code",
   "execution_count": null,
   "metadata": {},
   "outputs": [],
   "source": [
    "    *trailing_qtrs, current_qtr = sales_record\n",
    "    trailing_avg = sum(trailing_qtrs) / len(trailing_qtrs)\n",
    "    return avg_comparison(trailing_avg, current_qtr)"
   ]
  },
  {
   "cell_type": "code",
   "execution_count": null,
   "metadata": {},
   "outputs": [],
   "source": [
    "    def avgComparison(salesRecord):\n",
    "        *trailingQtrs, currentQtr = salesRecord\n",
    "        trailingAvg = sum(trailingQtrs) / len(trailingQtrs)\n",
    "        return int(trailingAvg), currentQtr\n",
    "    sales_record = [10, 8, 7, 1, 9, 5, 10, 3]\n",
    "    print(avgComparison(sales_record))"
   ]
  },
  {
   "cell_type": "code",
   "execution_count": null,
   "metadata": {},
   "outputs": [],
   "source": [
    "    import csv\n",
    "\n",
    "    # test data\n",
    "    data = \"\"\"\"Scott, Mary\", 1300, food, lunch\n",
    "    \"Potts, Kev\", 0730, porridge, breakfast \n",
    "    \"Smith, Paul\", 2000, pulses, protein \n",
    "    \"Carol, Wendy\", 2100, gin, relaxing\"\"\"\n",
    "    # written to file\n",
    "    filename1 = 'in_file.csv'\n",
    "    with open(filename1, 'w') as f:\n",
    "        f.writelines(data)\n",
    "\n",
    "    readCSV = csv.reader(StringIO(data), delimiter=',')\n",
    "    with open(filename1) as in_file, open(filename2, \"w\") as out_file:\n",
    "        readCSV = csv.reader(in_file, delimiter=',')\n",
    "        for line in readCSV:  # line references a list object\n",
    "            name, time, item, something = line\n",
    "            out_file.write(f'Hello {name}, right now is {time}. You need {item} for {something}\\n')\n",
    "\n",
    "\n"
   ]
  },
  {
   "cell_type": "code",
   "execution_count": null,
   "metadata": {},
   "outputs": [],
   "source": [
    "cat csvtest.csv"
   ]
  },
  {
   "cell_type": "code",
   "execution_count": null,
   "metadata": {},
   "outputs": [],
   "source": [
    "    user_input = input(\"Enter a list of integers: \")\n",
    "    bounds = input(\"Enter the upper and lower bounds: \")\n",
    "    inBounds = []\n",
    "    try:\n",
    "        lower, upper = [int(num) for num in bounds.split()]\n",
    "        inBounds = [num for num in\n",
    "                            (int(string) \n",
    "                                for string in user_input.split()\n",
    "                            )\n",
    "                        if lower <  num < upper]\n",
    "    except ValueError as e:\n",
    "        print(f'invalid inputs: {e}')\n",
    "    else:\n",
    "        print(*inBounds, sep=\", \")"
   ]
  },
  {
   "cell_type": "code",
   "execution_count": null,
   "metadata": {},
   "outputs": [],
   "source": [
    "    character_name = \"Tom\"\n",
    "    character_age = 50.5678213\n",
    "    is_male = True\n",
    "    print(f\"There once was a man named {character_name}, \")\n",
    "    print(f\"he was {round(character_age)} years old. \")\n",
    "\n",
    "    character_name = \"Mike\"\n",
    "    print(f\"He really liked the name {character_name}, \")\n",
    "    print(f\"but he didn't like being {round(character_age)} years old.\")"
   ]
  },
  {
   "cell_type": "code",
   "execution_count": null,
   "metadata": {},
   "outputs": [],
   "source": [
    "\n",
    "    "
   ]
  },
  {
   "cell_type": "code",
   "execution_count": null,
   "metadata": {},
   "outputs": [],
   "source": [
    "    data =  ([1, 2, 3, 4,], [55, 34, 3, 19,]), \\\n",
    "            ([3, 4, 5, 6,], [12, 21, 67, 1,]),\n",
    "            \n",
    "    ddata = dict(zip(*data[0]))\n",
    "    for key, value in zip(*data[1]):\n",
    "        if key in data:\n",
    "            if value < ddata[key]:\n",
    "                continue\n",
    "        ddata[key] = value\n",
    "\n",
    "    print(ddata)\n",
    "    new_data = list(ddata.keys()), list(ddata.values())\n",
    "    print(new_data)"
   ]
  },
  {
   "cell_type": "code",
   "execution_count": null,
   "metadata": {},
   "outputs": [],
   "source": [
    "list(ddata.keys()), list(ddata.values())"
   ]
  },
  {
   "cell_type": "code",
   "execution_count": null,
   "metadata": {},
   "outputs": [],
   "source": [
    "new_data = [ ]"
   ]
  },
  {
   "cell_type": "code",
   "execution_count": 3,
   "metadata": {},
   "outputs": [],
   "source": [
    "# testing"
   ]
  },
  {
   "cell_type": "code",
   "execution_count": null,
   "metadata": {},
   "outputs": [],
   "source": []
  }
 ],
 "metadata": {
  "kernelspec": {
   "display_name": "Python 3.8.2 64-bit",
   "language": "python",
   "name": "python38264bitd8a84b18163d42ee9b3e12a3e6fa4e46"
  },
  "language_info": {
   "codemirror_mode": {
    "name": "ipython",
    "version": 3
   },
   "file_extension": ".py",
   "mimetype": "text/x-python",
   "name": "python",
   "nbconvert_exporter": "python",
   "pygments_lexer": "ipython3",
   "version": "3.8.2-final"
  }
 },
 "nbformat": 4,
 "nbformat_minor": 4
}