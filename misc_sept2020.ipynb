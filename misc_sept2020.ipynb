{
 "cells": [
  {
   "cell_type": "code",
   "execution_count": null,
   "metadata": {},
   "outputs": [],
   "source": [
    "def check_type(source:str):\n",
    "    # assuming source is assigned to the string entered by user\n",
    "    value = None\n",
    "    try:\n",
    "        value = float(source) # raises exception if not a float\n",
    "        value = int(source) # raises exception if not a int\n",
    "    except ValueError:\n",
    "        if value is None: # float failed, so must be a string\n",
    "            value = source\n",
    "    return type(value) # so value will be assigned either int, float, or str\n",
    "\n",
    "tests = '', '1', '-2', '-1.3', '  5.6 ', '.45', '-.45', '-.45f'\n",
    "\n",
    "for test in tests:\n",
    "    print(f'{test:6}: {check_type(test)}')"
   ]
  },
  {
   "cell_type": "code",
   "execution_count": null,
   "metadata": {},
   "outputs": [],
   "source": [
    "s = 'Python'\n",
    "s_sorted = sorted(s, key=lambda s: s.casefold())\n",
    "print(\"\".join(s_sorted))"
   ]
  },
  {
   "cell_type": "code",
   "execution_count": null,
   "metadata": {},
   "outputs": [],
   "source": [
    "def get_num(msg='Enter whole number: ', low=None, high=None):\n",
    "    while True:\n",
    "        response = input(msg)\n",
    "        try:\n",
    "            num = int(response)\n",
    "        except ValueError as err:\n",
    "            print('Not a number')\n",
    "        else:\n",
    "            if low is not None and num < low:\n",
    "                print('Number to low')\n",
    "            elif high is not None and num > high:\n",
    "                print('Number too high')\n",
    "            else:\n",
    "                return num          "
   ]
  },
  {
   "cell_type": "code",
   "execution_count": null,
   "metadata": {},
   "outputs": [],
   "source": [
    "\"\"\" Example dictionary based menu system\"\"\"\n",
    "\n",
    "from collections import namedtuple  # to refer to dictionary values easily\n",
    "\n",
    "def menu_option(menu):\n",
    "    header = \"\\nMenu\\n\"\n",
    "    __data__ = menu.get('__data__')\n",
    "    if __data__:\n",
    "        header = __data__.get('header', header)\n",
    "    print(header)\n",
    "    for option, details in menu.items():\n",
    "        if not option == \"__data__\":\n",
    "            print(f'{option}:  {details.desc}')\n",
    "    print('\\n')\n",
    "    while True:\n",
    "        option = input('Option? ').strip().lower()\n",
    "        if option in menu and option != \"__data__\":\n",
    "            return menu[option]\n",
    "        print('Sorry, that option is not available')\n",
    "\n",
    "# function for each menu option except quit/exit where None is assigned\n",
    "def option_1():\n",
    "    print('option_1')\n",
    "\n",
    "def option_2():\n",
    "    print('option_2')\n",
    "\n",
    "def option_3():\n",
    "    print('option_3')\n",
    "\n",
    "def option_2_1():\n",
    "    print('option_2_1')\n",
    "\n",
    "def option_2_2():\n",
    "    print('option_2_1')\n",
    "        \n",
    "        \n",
    "Menu = namedtuple('Menu', 'desc misc func')  # menu entries have three values, {<key>: (<desc>, <misc>, <func>)}\n",
    "                                             # can add whatever addition fields are required\n",
    "                                             # I used <func> to be the reference to the function to be called for\n",
    "                                             # the correspnding option\n",
    "\n",
    "menu1 = {\"1\": Menu(\"option 1\", \"misc\", option_1),\n",
    "         \"2\": Menu(\"option 2\", \"misc\", option_2),\n",
    "         \"3\": Menu('option 3', \"misc\", option_3),\n",
    "         \"q\": Menu(\"quit\", \"\", None),\n",
    "         \"__data__\": {\"header\": \"\\nExample top level menu\\n\"},\n",
    "           }\n",
    "menu2 = {\"1\": Menu(\"option 2.1\", \"misc\", option_2_1),\n",
    "         \"2\": Menu(\"option 2.2\", \"misc\", option_2_2),\n",
    "         \"q\": Menu(\"exit\", \"\", None),\n",
    "         \"__data__\":  {\"header\": \"\\nExample second level menu\\n\"},\n",
    "        }\n",
    "\n",
    "# example use\n",
    "while True:\n",
    "    menu1_choice = menu_option(menu1)\n",
    "    if not menu1_choice.func:\n",
    "        break\n",
    "    menu1_choice.func()"
   ]
  },
  {
   "cell_type": "code",
   "execution_count": null,
   "metadata": {},
   "outputs": [],
   "source": [
    "# rock paper scissors Spock lizard game, rules follow:\n",
    "'''\n",
    "scissors cuts paper\n",
    "paper covers rock\n",
    "rock crushes lizard\n",
    "lizard poisons Spock\n",
    "Spock smashes scissors\n",
    "scissors decapitates lizard\n",
    "lizard eats paper\n",
    "paper disproves Spock\n",
    "Spock vaporizes rock\n",
    "rock crushes scissors\n",
    "'''\n",
    "\n",
    "from random import choice\n",
    "\n",
    "RULES = list(map(str.split, __doc__.lower().strip().split('\\n')))\n",
    "\n",
    "OPTIONS = ({winner for winner, verb, loser in RULES}\n",
    "        | {loser for winner, verb, loser in RULES})\n",
    "\n",
    "PROMPT = f\"Make your choice from: {', '.join(sorted(OPTIONS))} \\n \" \\\n",
    "            f\"(or press return alone to exit)\\n\" \\\n",
    "            f\" choice: \"\n",
    "\n",
    "def check(playera, playerb, rules=None):\n",
    "    if rules is None:\n",
    "        rules = RULES\n",
    "    for rule in rules:\n",
    "        winner, verb, loser = rule\n",
    "        if (playera, playerb) == (winner, loser):\n",
    "            return playera, ' '.join(rule)\n",
    "        if (playerb, playera) == (winner, loser):\n",
    "            return playerb, ' '.join(rule)\n",
    "\n",
    "print('\\n\\nWelcome to the game of rock paper scissors Spock lizard\\n\\nThe rules are:\\n')\n",
    "print(__doc__)\n",
    "print()\n",
    "while True:\n",
    "    while True:\n",
    "        player = input(PROMPT).lower()\n",
    "        if not player or player in OPTIONS:\n",
    "            break\n",
    "    if not player:\n",
    "        break\n",
    "    computer = choice(list(OPTIONS))    \n",
    "    try:\n",
    "        winner, rule = check(player, computer)\n",
    "        result = 'You WIN!' if player == winner else 'You Lose!'\n",
    "    except TypeError as e:\n",
    "        result, rule = \"TIED\", 'matched'\n",
    "    print(f'{player} v. {computer} -> {result} \\t{rule}')\n",
    "    print()"
   ]
  },
  {
   "cell_type": "code",
   "execution_count": null,
   "metadata": {},
   "outputs": [],
   "source": [
    "data = (1, 12, -3.14, 5, 8, 3, 5, 21, 2, 34, 55, 1,)\n",
    "print(*[num for num in data if num < 5], sep=\", \")"
   ]
  },
  {
   "cell_type": "code",
   "execution_count": null,
   "metadata": {},
   "outputs": [],
   "source": [
    "times_table = ((f'{row * col:4}' for col in range(1, 11)) for row in range(1, 11))\n",
    "for row in times_table: print(*row)"
   ]
  },
  {
   "cell_type": "code",
   "execution_count": null,
   "metadata": {},
   "outputs": [],
   "source": [
    "lst1 = [1,1,2,3,5,8,13,21,34,55,89]\n",
    "lst2 = [1,1, 2,3,4,5,6,7,8,9,10,11,12,13]\n",
    "print(sorted(list(set(lst1).intersection(set(lst2)))))"
   ]
  },
  {
   "cell_type": "code",
   "execution_count": null,
   "metadata": {},
   "outputs": [],
   "source": [
    "    students = []  # an empty list object is created\n",
    "    # the variable students refers to the list object\n",
    "    # a reference is a memory location\n",
    "\n",
    "    for count in range(1, 6):  # loop 5 times\n",
    "        name = input(f\"Enter name of student #{count}: \")  # input returns a str object\n",
    "        age = int(input(f\"Enter whole age of student #{count}: \"))  # int converts str to int\n",
    "        students.append((name, age))  # add a tuple to the end of the list object\n",
    "\n",
    "    for name, age in students:  # loop through list, unpacking the tuple on each pass\n",
    "                                # to the two variables name and age          \n",
    "        print(f\"Student: {name:10}  age: {age:2}\")"
   ]
  },
  {
   "cell_type": "code",
   "execution_count": null,
   "metadata": {},
   "outputs": [],
   "source": [
    "class example:\n",
    "    \n",
    "    def __init__(self):\n",
    "        self.__a = 'here I am'\n",
    "        \n",
    "eg = example()\n",
    "print(eg._example__a)"
   ]
  },
  {
   "cell_type": "code",
   "execution_count": null,
   "metadata": {},
   "outputs": [],
   "source": [
    "import numpy as np\n",
    "\n",
    "b=1/np.arange(0.2, 3, 0.2)"
   ]
  },
  {
   "cell_type": "code",
   "execution_count": null,
   "metadata": {},
   "outputs": [],
   "source": [
    "np.arange(0.2, 3, 0.2)"
   ]
  },
  {
   "cell_type": "code",
   "execution_count": null,
   "metadata": {},
   "outputs": [],
   "source": [
    "b.size"
   ]
  },
  {
   "cell_type": "code",
   "execution_count": null,
   "metadata": {},
   "outputs": [],
   "source": [
    "np.linspace(0, 10, b.size)"
   ]
  },
  {
   "cell_type": "code",
   "execution_count": null,
   "metadata": {},
   "outputs": [],
   "source": [
    "rows = range(1, 4)\n",
    "cols = range(1, 3)\n",
    "for row in rows:\n",
    "    for col in cols:\n",
    "        print(row, col)"
   ]
  },
  {
   "cell_type": "code",
   "execution_count": null,
   "metadata": {},
   "outputs": [],
   "source": [
    "def list_10(lista):\n",
    "    \n",
    "    for x in range len(lista):\n",
    "        if x < 10:\n",
    "            lista.remove(x)\n",
    "    return lista\n",
    "\n",
    "\n",
    "lista = (list_10(lista)\n",
    "\n",
    "n = 0\n",
    "while rue while True:\n",
    "if lista[n] >= 10:\n",
    "    lista.remove(lista[n])\n",
    "\n",
    "elif lista[n] < 10 and n != len(lista)-1: n+= 1\n",
    "\n",
    "else:\n",
    "break"
   ]
  },
  {
   "cell_type": "code",
   "execution_count": null,
   "metadata": {},
   "outputs": [],
   "source": [
    "l = [10,20,30]\n",
    "l.remove(10)"
   ]
  },
  {
   "cell_type": "code",
   "execution_count": null,
   "metadata": {},
   "outputs": [],
   "source": [
    "    from random import randint  # function to give you random numbers\n",
    "    \n",
    "    my_list = []  # empty list\n",
    "    for _ in range(100):  # a loop that will go around 100 times\n",
    "        my_list.append(randint(1, 20))  # append a random integer to the list\n",
    "        \n",
    "    print(my_list)"
   ]
  },
  {
   "cell_type": "code",
   "execution_count": null,
   "metadata": {},
   "outputs": [],
   "source": [
    "def get_num(msg, exit=[\"END\"]):\n",
    "    while True:\n",
    "        response = input(msg)\n",
    "        if response.strip().upper() in exit:\n",
    "            return None\n",
    "        try:\n",
    "            return int(response)\n",
    "        except ValueError:\n",
    "            print('That was not a valid number')\n",
    "\n",
    "rooms = []\n",
    "room_num = 1\n",
    "while True:\n",
    "    qty = get_num(f'How many cans of paints for room #{room_num}? ')\n",
    "    if qty is None:\n",
    "        break\n",
    "    room_num += 1\n",
    "    rooms.append(qty)\n",
    "print('Total cans: ', sum(rooms))"
   ]
  },
  {
   "cell_type": "code",
   "execution_count": null,
   "metadata": {},
   "outputs": [],
   "source": [
    "class Pet:\n",
    "    \n",
    "    def __init__(self, name, age, gender, weight, sound):\n",
    "        self.name = name\n",
    "        self.age = age\n",
    "        self.gender = gender\n",
    "        self.weight = weight\n",
    "        self.sound = sound\n",
    "        \n",
    "    def eat(self, food):\n",
    "        print(self.name, \"is eating\", food)\n",
    "        if self.age > 10:\n",
    "            print('very slowly')\n",
    "            \n",
    "    def name(self):\n",
    "        print(f'my pet is called {self.name}')\n",
    "        \n",
    "    def noise(self):\n",
    "        print(self.sound)\n",
    "\n",
    "class Cat(Pet):\n",
    "    \n",
    "    def __init__(self, name, age, gender, weight, sound, fav_food='salmon'):\n",
    "        self.fav_food = fav_food\n",
    "        super().__init__(name, age, gender, weight, sound) \n",
    "    \n",
    "    def eat(self, food):\n",
    "        if food == 'salmon':\n",
    "            print(self.name, \"is eating\", food)\n",
    "            if self.age > 10:\n",
    "                print('very slowly')\n",
    "        else:\n",
    "            print(f\"{self.name} does not eat {food}, only {self.fav_food}\")\n",
    "            \n",
    "class Dog(Pet):\n",
    "    def noise(self):\n",
    "        print(self.sound * 5)\n",
    "        \n",
    "bob = Dog('Bob', 11, 'M', 4, 'woof')\n",
    "sophie = Cat('Sophie', 8, 'F', 1, 'meow')\n",
    "\n",
    "bob.noise()\n",
    "sophie.noise()\n",
    "for pet in bob, sophie:\n",
    "    pet.eat('crisps')"
   ]
  },
  {
   "cell_type": "code",
   "execution_count": null,
   "metadata": {},
   "outputs": [],
   "source": [
    "range?"
   ]
  },
  {
   "cell_type": "code",
   "execution_count": null,
   "metadata": {},
   "outputs": [],
   "source": [
    "nums = (1, 10), (2, 20), (2, 30)\n",
    "print(sum(n for _, n in nums))"
   ]
  },
  {
   "cell_type": "code",
   "execution_count": null,
   "metadata": {},
   "outputs": [],
   "source": [
    "b = [1,2,3,4]\n",
    "str(b)"
   ]
  },
  {
   "cell_type": "code",
   "execution_count": null,
   "metadata": {},
   "outputs": [],
   "source": [
    "str(1)"
   ]
  },
  {
   "cell_type": "code",
   "execution_count": null,
   "metadata": {},
   "outputs": [],
   "source": [
    "[1,2,3,4].__str__()"
   ]
  },
  {
   "cell_type": "code",
   "execution_count": null,
   "metadata": {},
   "outputs": [],
   "source": [
    "import os\n",
    "\n",
    "value='something'\n",
    "\n",
    "\n",
    "directory = os.path.join(\"notes\",value)\n",
    "\n",
    "directory"
   ]
  },
  {
   "cell_type": "code",
   "execution_count": null,
   "metadata": {},
   "outputs": [],
   "source": [
    "def collatz(num):\n",
    "    while num != 1:\n",
    "        print(num)\n",
    "        if num % 2 == 0:\n",
    "            num = int(num / 2)\n",
    "        else:\n",
    "            num = int(3 * num + 1)\n",
    "    else:\n",
    "        print(num)\n",
    "        print('Done!')\n",
    "\n",
    "def main():\n",
    "    num = int(input('Input an integer: '))\n",
    "    collatz(num)\n",
    "\n",
    "main()"
   ]
  },
  {
   "cell_type": "code",
   "execution_count": null,
   "metadata": {},
   "outputs": [],
   "source": [
    "tests = 2, 321, 1111111111111\n",
    "total = 0\n",
    "for test in tests:   \n",
    "    cycles = 1\n",
    "    num = test\n",
    "    while num != 1:\n",
    "        cycles += 1\n",
    "        if num % 2 == 0:\n",
    "            num //= 2\n",
    "        else:\n",
    "            num = num * 3 + 1\n",
    "    print(cycles) "
   ]
  },
  {
   "cell_type": "code",
   "execution_count": null,
   "metadata": {},
   "outputs": [],
   "source": [
    "for row in range(7):\n",
    "    for col in range(5):\n",
    "        if (( col == 0 or col == 4 ) and row == 0 ) or ( 0 < col < 4 and row != 0 and row != 3):\n",
    "            print(' ', end='')\n",
    "        else:\n",
    "            print('*', end=\"\")\n",
    "    print()        "
   ]
  },
  {
   "cell_type": "code",
   "execution_count": 1,
   "metadata": {},
   "outputs": [
    {
     "name": "stdout",
     "output_type": "stream",
     "text": [
      "a e i o\n"
     ]
    }
   ],
   "source": [
    "def is_it_vowel(letter):\n",
    "    return letter.lower() in ('a', 'e', 'i', 'o', 'u')\n",
    "\n",
    "\n",
    "letters = 'a', 'b', 'd', 'e', 'i', 'j', 'o'\n",
    "result = filter(is_it_vowel, letters)\n",
    "print(*result)"
   ]
  },
  {
   "cell_type": "code",
   "execution_count": null,
   "metadata": {},
   "outputs": [],
   "source": []
  }
 ],
 "metadata": {
  "kernelspec": {
   "display_name": "Python 3.8.2 64-bit",
   "language": "python",
   "name": "python38264bit04a3daf7468f42839eb2941c745052a1"
  },
  "language_info": {
   "codemirror_mode": {
    "name": "ipython",
    "version": 3
   },
   "file_extension": ".py",
   "mimetype": "text/x-python",
   "name": "python",
   "nbconvert_exporter": "python",
   "pygments_lexer": "ipython3",
   "version": "3.8.3rc1"
  }
 },
 "nbformat": 4,
 "nbformat_minor": 4
}
