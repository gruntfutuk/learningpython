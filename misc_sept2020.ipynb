{
 "cells": [
  {
   "cell_type": "code",
   "execution_count": null,
   "metadata": {},
   "outputs": [],
   "source": [
    "def check_type(source:str):\n",
    "....# assuming source is assigned to the string entered by user\n",
    "....value = None\n",
    "....try:\n",
    "........value = float(source) # raises exception if not a float\n",
    "........value = int(source) # raises exception if not a int\n",
    "....except ValueError:\n",
    "........if value is None: # float failed, so must be a string\n",
    "............value = source\n",
    "....return type(value) # so value will be assigned either int, float, or str\n",
    "\n",
    "tests = '', '1', '-2', '-1.3', '  5.6 ', '.45', '-.45', '-.45f'\n",
    "\n",
    "for test in tests:\n",
    "....print(f'{test:6}: {check_type(test)}')"
   ]
  },
  {
   "cell_type": "code",
   "execution_count": null,
   "metadata": {},
   "outputs": [],
   "source": [
    "s = 'Python'\n",
    "s_sorted = sorted(s, key=lambda s: s.casefold())\n",
    "print(\"\".join(s_sorted))"
   ]
  },
  {
   "cell_type": "code",
   "execution_count": null,
   "metadata": {},
   "outputs": [],
   "source": [
    "def get_num(msg='Enter whole number: ', low=None, high=None):\n",
    "....while True:\n",
    "........response = input(msg)\n",
    "........try:\n",
    "............num = int(response)\n",
    "........except ValueError as err:\n",
    "............print('Not a number')\n",
    "........else:\n",
    "............if low is not None and num < low:\n",
    "................print('Number to low')\n",
    "............elif high is not None and num > high:\n",
    "................print('Number too high')\n",
    "............else:\n",
    "................return num........  "
   ]
  },
  {
   "cell_type": "code",
   "execution_count": null,
   "metadata": {},
   "outputs": [],
   "source": [
    "\"\"\" Example dictionary based menu system\"\"\"\n",
    "\n",
    "from collections import namedtuple  # to refer to dictionary values easily\n",
    "\n",
    "def menu_option(menu):\n",
    "....header = \"\\nMenu\\n\"\n",
    "....__data__ = menu.get('__data__')\n",
    "....if __data__:\n",
    "........header = __data__.get('header', header)\n",
    "....print(header)\n",
    "....for option, details in menu.items():\n",
    "........if not option == \"__data__\":\n",
    "............print(f'{option}:  {details.desc}')\n",
    "....print('\\n')\n",
    "....while True:\n",
    "........option = input('Option? ').strip().lower()\n",
    "........if option in menu and option != \"__data__\":\n",
    "............return menu[option]\n",
    "........print('Sorry, that option is not available')\n",
    "\n",
    "# function for each menu option except quit/exit where None is assigned\n",
    "def option_1():\n",
    "....print('option_1')\n",
    "\n",
    "def option_2():\n",
    "....print('option_2')\n",
    "\n",
    "def option_3():\n",
    "....print('option_3')\n",
    "\n",
    "def option_2_1():\n",
    "....print('option_2_1')\n",
    "\n",
    "def option_2_2():\n",
    "....print('option_2_1')\n",
    "........\n",
    "........\n",
    "Menu = namedtuple('Menu', 'desc misc func')  # menu entries have three values, {<key>: (<desc>, <misc>, <func>)}\n",
    "............................................ # can add whatever addition fields are required\n",
    "............................................ # I used <func> to be the reference to the function to be called for\n",
    "............................................ # the correspnding option\n",
    "\n",
    "menu1 = {\"1\": Menu(\"option 1\", \"misc\", option_1),\n",
    "........ \"2\": Menu(\"option 2\", \"misc\", option_2),\n",
    "........ \"3\": Menu('option 3', \"misc\", option_3),\n",
    "........ \"q\": Menu(\"quit\", \"\", None),\n",
    "........ \"__data__\": {\"header\": \"\\nExample top level menu\\n\"},\n",
    "........   }\n",
    "menu2 = {\"1\": Menu(\"option 2.1\", \"misc\", option_2_1),\n",
    "........ \"2\": Menu(\"option 2.2\", \"misc\", option_2_2),\n",
    "........ \"q\": Menu(\"exit\", \"\", None),\n",
    "........ \"__data__\":  {\"header\": \"\\nExample second level menu\\n\"},\n",
    "........}\n",
    "\n",
    "# example use\n",
    "while True:\n",
    "....menu1_choice = menu_option(menu1)\n",
    "....if not menu1_choice.func:\n",
    "........break\n",
    "....menu1_choice.func()"
   ]
  },
  {
   "cell_type": "code",
   "execution_count": null,
   "metadata": {},
   "outputs": [],
   "source": [
    "# rock paper scissors Spock lizard game, rules follow:\n",
    "'''\n",
    "scissors cuts paper\n",
    "paper covers rock\n",
    "rock crushes lizard\n",
    "lizard poisons Spock\n",
    "Spock smashes scissors\n",
    "scissors decapitates lizard\n",
    "lizard eats paper\n",
    "paper disproves Spock\n",
    "Spock vaporizes rock\n",
    "rock crushes scissors\n",
    "'''\n",
    "\n",
    "from random import choice\n",
    "\n",
    "RULES = list(map(str.split, __doc__.lower().strip().split('\\n')))\n",
    "\n",
    "OPTIONS = ({winner for winner, verb, loser in RULES}\n",
    "        | {loser for winner, verb, loser in RULES})\n",
    "\n",
    "PROMPT = f\"Make your choice from: {', '.join(sorted(OPTIONS))} \\n \" \\\n",
    "            f\"(or press return alone to exit)\\n\" \\\n",
    "            f\" choice: \"\n",
    "\n",
    "def check(playera, playerb, rules=None):\n",
    "    if rules is None:\n",
    "        rules = RULES\n",
    "    for rule in rules:\n",
    "        winner, verb, loser = rule\n",
    "        if (playera, playerb) == (winner, loser):\n",
    "            return playera, ' '.join(rule)\n",
    "        if (playerb, playera) == (winner, loser):\n",
    "            return playerb, ' '.join(rule)\n",
    "\n",
    "print('\\n\\nWelcome to the game of rock paper scissors Spock lizard\\n\\nThe rules are:\\n')\n",
    "print(__doc__)\n",
    "print()\n",
    "while True:\n",
    "    while True:\n",
    "        player = input(PROMPT).lower()\n",
    "        if not player or player in OPTIONS:\n",
    "            break\n",
    "    if not player:\n",
    "        break\n",
    "    computer = choice(list(OPTIONS))    \n",
    "    try:\n",
    "        winner, rule = check(player, computer)\n",
    "        result = 'You WIN!' if player == winner else 'You Lose!'\n",
    "    except TypeError as e:\n",
    "        result, rule = \"TIED\", 'matched'\n",
    "    print(f'{player} v. {computer} -> {result} \\t{rule}')\n",
    "    print()"
   ]
  },
  {
   "cell_type": "code",
   "execution_count": null,
   "metadata": {},
   "outputs": [],
   "source": [
    "import csv\n",
    "with open('csvtest.csv') as animals:\n",
    "....contents = csv.reader(animals)\n",
    "....for row in contents:\n",
    "........if row[6] == \"\":\n",
    "............print(row)\n"
   ]
  },
  {
   "cell_type": "code",
   "execution_count": null,
   "metadata": {},
   "outputs": [],
   "source": [
    "['IDCJAC0009', '009021', '1944', '01', '01', '', '', ''], ['IDCJAC0009', '009021', '1944', '01', '02', '', '', ''], ['IDCJAC0009', '009021', '1944', '01', '03', '', '', ''], ['IDCJAC0009', '009021', '1944', '01', '04', '', '', ''] "
   ]
  },
  {
   "cell_type": "code",
   "execution_count": null,
   "metadata": {},
   "outputs": [],
   "source": [
    "data = (1, 12, -3.14, 5, 8, 3, 5, 21, 2, 34, 55, 1,)\n",
    "print(*[num for num in data if num < 5], sep=\", \")"
   ]
  },
  {
   "cell_type": "code",
   "execution_count": null,
   "metadata": {},
   "outputs": [],
   "source": [
    "times_table = ((f'{row * col:4}' for col in range(1, 11)) for row in range(1, 11))\n",
    "for row in times_table: print(*row)"
   ]
  },
  {
   "cell_type": "code",
   "execution_count": null,
   "metadata": {},
   "outputs": [],
   "source": [
    "lst1 = [1,1,2,3,5,8,13,21,34,55,89]\n",
    "lst2 = [1,1, 2,3,4,5,6,7,8,9,10,11,12,13]\n",
    "print(sorted(list(set(lst1).intersection(set(lst2)))))"
   ]
  },
  {
   "cell_type": "code",
   "execution_count": null,
   "metadata": {},
   "outputs": [],
   "source": [
    "from random import choice\n",
    "from itertools import cycle\n",
    "\n",
    "def get_user_choice(prompt=\"Enter option: \", options=None):\n",
    "    if options is None:\n",
    "        options = directions\n",
    "    while True:\n",
    "        option = input(prompt).strip().lower()\n",
    "        if option in options:\n",
    "            return option\n",
    "        print('That is not a valid choice.')\n",
    "        print(f'Options are: {\", \".join(option.title() for option in options)}')\n",
    "\n",
    "def report(action, user_option, computer_option, saved):\n",
    "\n",
    "    def reporting(team1, move1, team2, move2):\n",
    "        report_txt = f\"\\n{team1} team shoots to the {move1}\\n\" \\\n",
    "                f\"{team2} team goalkeeper dives to the {move2}\\n\"\n",
    "        if saved:\n",
    "            report_txt += \"SAVED!!!\\n\"\n",
    "        else:\n",
    "            report_txt += f\"GOAL !!! for {team1} team\\n\"\n",
    "        return report_txt\n",
    "\n",
    "    if action == \"Shoot\":\n",
    "        return reporting(\"User\", user_option, \"Computer\", computer_option)\n",
    "    else:\n",
    "        return reporting(\"Computer\", computer_option, \"User\", user_option)\n",
    "     \n",
    "def take_penalty_each():\n",
    "    user_goals = 0\n",
    "    computer_goals = 0\n",
    "    for _ in range(2): # loops twice, once for each team\n",
    "        user_action = next(action)\n",
    "        user_option = get_user_choice(action_prompt[user_action])\n",
    "        computer_option = choice(directions)\n",
    "        saved = (user_option, computer_option) in saves\n",
    "        outcome = report(user_action, user_option, computer_option, saved)\n",
    "        if not saved:\n",
    "            if user_action == \"Shoot\":\n",
    "                user_goals += 1\n",
    "            else:\n",
    "                computer_goals +=1\n",
    "        print(outcome)\n",
    "    return user_goals, computer_goals\n",
    "        \n",
    "def print_scores():\n",
    "    final = total_penalties == max_penalties\n",
    "    if final:\n",
    "        print('\\n\\nFINAL SCORES\\n')\n",
    "    else:\n",
    "        print('\\n\\nSCORES\\n')\n",
    "    print(f\"The score is now USER: {user_team_score} \"\n",
    "          f\"COMPUTER: {computer_team_score}\")\n",
    "    if final:\n",
    "        if user_team_score > computer_team_score:\n",
    "            print(\"Well done you won\")\n",
    "        elif user_team_score == computer_team_score:\n",
    "            print(\"A draw\")\n",
    "        else:\n",
    "            print(\"You Lose\")\n",
    "    print()\n",
    "\n",
    "\n",
    "directions = [\"left\", \"middle\", \"right\"]\n",
    "saves = ((\"right\", \"left\"), (\"middle\", \"middle\"), (\"left\", \"right\"))\n",
    "action = cycle(['Shoot', 'Keep'])\n",
    "action_prompt = {'Shoot': \"Pick your spot: \",\n",
    "                 'Keep': \"Choose dive direction: \" }\n",
    "\n",
    "total_penalties = 0\n",
    "user_team_score = 0\n",
    "computer_team_score = 0\n",
    "max_penalties = 10\n",
    "\n",
    "print(\"------WELCOME TO THE PYTHON PENALTY SHOOTOUT------\")\n",
    "print(\"The options you can choose are left,right or middle\")\n",
    "\n",
    "while total_penalties < max_penalties:\n",
    "    user_goals, computer_goals = take_penalty_each()\n",
    "    user_team_score += user_goals\n",
    "    computer_team_score += computer_goals\n",
    "    total_penalties += 2\n",
    "    print_scores()"
   ]
  },
  {
   "cell_type": "code",
   "execution_count": null,
   "metadata": {},
   "outputs": [],
   "source": [
    "from itertools import zip_longest\n",
    "\n",
    "data = 'ABC', 'ZYXW', 'EFGHI'\n",
    "for line in zip_longest(*data, fillvalue=\" \"):\n",
    "    print(*line)"
   ]
  },
  {
   "cell_type": "code",
   "execution_count": null,
   "metadata": {},
   "outputs": [],
   "source": [
    "messages = {'password1': \"message1\", 'password2': 'message2'}\n",
    "\n",
    "for _ in range(2):\n",
    "    password = input('Enter password: ').strip().lower()\n",
    "    if password not in messages:\n",
    "        break\n",
    "    print(messages[password])"
   ]
  },
  {
   "cell_type": "code",
   "execution_count": null,
   "metadata": {},
   "outputs": [],
   "source": [
    "people_age = {\"Anna\" : 70, \"Bob\" : 55, \"Carla\" : 23, \"David\" : 45, \"Elisabeth\" : 12, \"Frank\" : 37}\n",
    "all_people = {\"Anna\", \"Bob\", \"Carla\", \"David\", \"Elisabeth\", \"Frank\", \"Gisela\", \"Howard\" }\n",
    "\n",
    "for name in all_people:\n",
    "    print(f'{name}: {people_age.get(name, \"Unknown\")} years')"
   ]
  },
  {
   "cell_type": "code",
   "execution_count": null,
   "metadata": {},
   "outputs": [],
   "source": [
    "df"
   ]
  },
  {
   "cell_type": "code",
   "execution_count": null,
   "metadata": {},
   "outputs": [],
   "source": [
    "commands = 'ADD', 'SUBTRACT', 'MULTIPLY'\n",
    "\n",
    "instruction = input('Enter command and numbers (with spaces between each): ').strip().upper().split()\n",
    "if instruction[0] in commands:\n",
    "    if all(num_str.isnumeric() for num_str in instruction[1:]):\n",
    "        if instruction[0] == 'ADD':\n",
    "            answer = sum((int(num_str) for num_str in instruction[1:]))\n",
    "            print(f'Total is {answer}')"
   ]
  },
  {
   "cell_type": "code",
   "execution_count": 9,
   "metadata": {},
   "outputs": [
    {
     "name": "stdin",
     "output_type": "stream",
     "text": [
      "Enter an integer:  10000\n"
     ]
    },
    {
     "name": "stdout",
     "output_type": "stream",
     "text": [
      "1 is a narcissistic number\n",
      "2 is a narcissistic number\n",
      "3 is a narcissistic number\n",
      "4 is a narcissistic number\n",
      "5 is a narcissistic number\n",
      "6 is a narcissistic number\n",
      "7 is a narcissistic number\n",
      "8 is a narcissistic number\n",
      "9 is a narcissistic number\n",
      "153 is a narcissistic number\n",
      "370 is a narcissistic number\n",
      "371 is a narcissistic number\n",
      "407 is a narcissistic number\n",
      "1634 is a narcissistic number\n",
      "8208 is a narcissistic number\n",
      "9474 is a narcissistic number\n"
     ]
    }
   ],
   "source": [
    "target = int(input('Enter an integer: '))\n",
    "for num in range((1633, 1635):  # check every number from 1 to the entered numbers\n",
    "\n",
    "    # count number of digits in i\n",
    "    temp = num\n",
    "    num_digits = 0\n",
    "    while temp > 0:\n",
    "        num_digits += 1\n",
    "        temp //= 10\n",
    "    print(f'(ndigits {num_digits})')\n",
    "    #get the sum of the computed nth power of the digits \n",
    "    total = 0\n",
    "    temp = num\n",
    "    while temp > 0:\n",
    "        digit = temp % 10\n",
    "        print(f'i {num}, digit {digit}')\n",
    "        temp //= 10\n",
    "\n",
    "        # compute nth power of current digit\n",
    "        product = 1\n",
    "        for _ in range(num_digits):\n",
    "            product *= digit\n",
    "        total += product\n",
    "\n",
    "    if total == num:\n",
    "        print(num, \"is a narcissistic number\")"
   ]
  },
  {
   "cell_type": "code",
   "execution_count": 16,
   "metadata": {},
   "outputs": [
    {
     "name": "stdin",
     "output_type": "stream",
     "text": [
      "Enter a number:  10000\n"
     ]
    },
    {
     "name": "stdout",
     "output_type": "stream",
     "text": [
      "1 is a narcissistic number\n",
      "2 is a narcissistic number\n",
      "3 is a narcissistic number\n",
      "4 is a narcissistic number\n",
      "5 is a narcissistic number\n",
      "6 is a narcissistic number\n",
      "7 is a narcissistic number\n",
      "8 is a narcissistic number\n",
      "9 is a narcissistic number\n",
      "153 is a narcissistic number\n",
      "370 is a narcissistic number\n",
      "371 is a narcissistic number\n",
      "407 is a narcissistic number\n",
      "1634 is a narcissistic number\n",
      "8208 is a narcissistic number\n",
      "9474 is a narcissistic number\n"
     ]
    }
   ],
   "source": [
    "x = int(input(\"Enter a number: \"))\n",
    "i = 0\n",
    "for i in range (1, x + 1):  # you need x + 1 to get to x\n",
    "    temp = i\n",
    "    nDigits = 0\n",
    "    while temp > 0:\n",
    "        temp = temp // 10\n",
    "        nDigits += 1\n",
    "    sum_ = 0\n",
    "    temp = i\n",
    "    while temp > 0:\n",
    "        digit = temp % 10\n",
    "        temp //= 10\n",
    "        product = 1\n",
    "        for _ in range(nDigits):\n",
    "            product = product * digit\n",
    "        sum_ +=product\n",
    "    if i == sum_:\n",
    "        print(i,\"is a narcissistic number\")"
   ]
  },
  {
   "cell_type": "code",
   "execution_count": 21,
   "metadata": {},
   "outputs": [
    {
     "name": "stdin",
     "output_type": "stream",
     "text": [
      "Enter a number:  10000\n"
     ]
    },
    {
     "name": "stdout",
     "output_type": "stream",
     "text": [
      "1 is a narcissistic number\n",
      "2 is a narcissistic number\n",
      "3 is a narcissistic number\n",
      "4 is a narcissistic number\n",
      "5 is a narcissistic number\n",
      "6 is a narcissistic number\n",
      "7 is a narcissistic number\n",
      "8 is a narcissistic number\n",
      "9 is a narcissistic number\n",
      "25 is a narcissistic number\n",
      "36 is a narcissistic number\n",
      "125 is a narcissistic number\n",
      "153 is a narcissistic number\n",
      "216 is a narcissistic number\n",
      "370 is a narcissistic number\n",
      "371 is a narcissistic number\n",
      "407 is a narcissistic number\n",
      "729 is a narcissistic number\n",
      "1296 is a narcissistic number\n",
      "1634 is a narcissistic number\n",
      "5648 is a narcissistic number\n",
      "8208 is a narcissistic number\n",
      "9474 is a narcissistic number\n"
     ]
    }
   ],
   "source": []
  },
  {
   "cell_type": "code",
   "execution_count": 22,
   "metadata": {},
   "outputs": [
    {
     "data": {
      "text/plain": [
       "'I can show example?'"
      ]
     },
     "execution_count": 22,
     "metadata": {},
     "output_type": "execute_result"
    }
   ],
   "source": [
    "\"can you show example?\".replace('can you', 'I can')"
   ]
  },
  {
   "cell_type": "code",
   "execution_count": 24,
   "metadata": {},
   "outputs": [],
   "source": [
    "import time\n",
    "import sys\n",
    "\n",
    "def delay_print(s):\n",
    "    for c in s:\n",
    "        sys.stdout.write(c)\n",
    "        sys.stdout.flush()\n",
    "        time.sleep(0.05)"
   ]
  },
  {
   "cell_type": "code",
   "execution_count": 26,
   "metadata": {},
   "outputs": [
    {
     "name": "stdout",
     "output_type": "stream",
     "text": [
      "CLASSES for beginners\n",
      "\n",
      "(I posted this as a comment on another post, and thought it would be useful to share m"
     ]
    },
    {
     "ename": "KeyboardInterrupt",
     "evalue": "",
     "output_type": "error",
     "traceback": [
      "\u001b[0;31m---------------------------------------------------------------------------\u001b[0m",
      "\u001b[0;31mKeyboardInterrupt\u001b[0m                         Traceback (most recent call last)",
      "\u001b[0;32m<ipython-input-26-b2486da0304c>\u001b[0m in \u001b[0;36m<module>\u001b[0;34m\u001b[0m\n\u001b[0;32m----> 1\u001b[0;31m delay_print(\"\"\"CLASSES for beginners\n\u001b[0m\u001b[1;32m      2\u001b[0m \u001b[0;34m\u001b[0m\u001b[0m\n\u001b[1;32m      3\u001b[0m \u001b[0;34m(\u001b[0m\u001b[0mI\u001b[0m \u001b[0mposted\u001b[0m \u001b[0mthis\u001b[0m \u001b[0;32mas\u001b[0m \u001b[0ma\u001b[0m \u001b[0mcomment\u001b[0m \u001b[0mon\u001b[0m \u001b[0manother\u001b[0m \u001b[0mpost\u001b[0m\u001b[0;34m,\u001b[0m \u001b[0;32mand\u001b[0m \u001b[0mthought\u001b[0m \u001b[0mit\u001b[0m \u001b[0mwould\u001b[0m \u001b[0mbe\u001b[0m \u001b[0museful\u001b[0m \u001b[0mto\u001b[0m \u001b[0mshare\u001b[0m \u001b[0mmore\u001b[0m \u001b[0mwidely\u001b[0m\u001b[0;34m.\u001b[0m\u001b[0;34m)\u001b[0m\u001b[0;34m\u001b[0m\u001b[0;34m\u001b[0m\u001b[0m\n\u001b[1;32m      4\u001b[0m \u001b[0;34m\u001b[0m\u001b[0m\n\u001b[1;32m      5\u001b[0m \u001b[0mA\u001b[0m \u001b[0mlot\u001b[0m \u001b[0mof\u001b[0m \u001b[0mbeginners\u001b[0m \u001b[0mstruggle\u001b[0m \u001b[0mto\u001b[0m \u001b[0mget\u001b[0m \u001b[0mtheir\u001b[0m \u001b[0mheads\u001b[0m \u001b[0maround\u001b[0m \u001b[0mclasses\u001b[0m\u001b[0;34m,\u001b[0m \u001b[0mbut\u001b[0m \u001b[0mthey\u001b[0m \u001b[0mare\u001b[0m \u001b[0mpretty\u001b[0m \u001b[0mmuch\u001b[0m \u001b[0mfundamental\u001b[0m \u001b[0mto\u001b[0m \u001b[0mobject\u001b[0m \u001b[0morientated\u001b[0m \u001b[0mprogramming\u001b[0m\u001b[0;34m.\u001b[0m\u001b[0;34m\u001b[0m\u001b[0;34m\u001b[0m\u001b[0m\n",
      "\u001b[0;32m<ipython-input-24-e9a171c8b582>\u001b[0m in \u001b[0;36mdelay_print\u001b[0;34m(s)\u001b[0m\n\u001b[1;32m      6\u001b[0m         \u001b[0msys\u001b[0m\u001b[0;34m.\u001b[0m\u001b[0mstdout\u001b[0m\u001b[0;34m.\u001b[0m\u001b[0mwrite\u001b[0m\u001b[0;34m(\u001b[0m\u001b[0mc\u001b[0m\u001b[0;34m)\u001b[0m\u001b[0;34m\u001b[0m\u001b[0;34m\u001b[0m\u001b[0m\n\u001b[1;32m      7\u001b[0m         \u001b[0msys\u001b[0m\u001b[0;34m.\u001b[0m\u001b[0mstdout\u001b[0m\u001b[0;34m.\u001b[0m\u001b[0mflush\u001b[0m\u001b[0;34m(\u001b[0m\u001b[0;34m)\u001b[0m\u001b[0;34m\u001b[0m\u001b[0;34m\u001b[0m\u001b[0m\n\u001b[0;32m----> 8\u001b[0;31m         \u001b[0mtime\u001b[0m\u001b[0;34m.\u001b[0m\u001b[0msleep\u001b[0m\u001b[0;34m(\u001b[0m\u001b[0;36m0.05\u001b[0m\u001b[0;34m)\u001b[0m\u001b[0;34m\u001b[0m\u001b[0;34m\u001b[0m\u001b[0m\n\u001b[0m",
      "\u001b[0;31mKeyboardInterrupt\u001b[0m: "
     ]
    }
   ],
   "source": [
    "delay_print(\"\"\"CLASSES for beginners\n",
    "\n",
    "(I posted this as a comment on another post, and thought it would be useful to share more widely.)\n",
    "\n",
    "A lot of beginners struggle to get their heads around classes, but they are pretty much fundamental to object orientated programming.\n",
    "\n",
    "For community classes (no pun intended)  I teach, I usually describe them as the programming equal of moulds used in factories as a template for making lots of things that are identical. Imagine pouring molten iron into a mould to make a simple iron pot.\n",
    "\n",
    "You might produce a set of instructions to be sold with the pots that tell the owner how to cook using the pot, how to care for it, etc. The same instructions apply to every pot BUT what owners actually do is entirely up to them. Some might make soup, another person a stew, etc.\n",
    "\n",
    "In Python, a class defines the basics of a possible object and some methods that come with it. (Methods are like functions, but apply to things made using the class.)\n",
    "\n",
    "When we want create a Python object using a class, we call it 'creating an instance of a class'.\n",
    " \n",
    "If you have a class called Room, you would create instances like this:\n",
    "\n",
    "lounge = Room()\n",
    "kitchen = Room()\n",
    "hall = Room()\n",
    "\n",
    "As you typically want to store the main dimensions (height, length, width) of a room, whatever it is used for, it makes sense to define that when the instance is created.\n",
    "\n",
    "You would therefore have a method called __init__ that accepts height, length, width and when you create an instance of Room you would provide that information:\n",
    "\n",
    "lounge = Room(1300, 4000, 2000)\n",
    "\n",
    "The __init__ method is called automatically when you create an instance. It is short for initialise (intialize).\n",
    "\n",
    "You can reference the information using lounge.height and so on. These are attributes of the lounge instance.\n",
    "\n",
    "I provided the measurements in mm but you could include a method (function inside a class) that converts between mm and ft. Thus, I could say something like lounge.height_in_ft().\n",
    "\n",
    "Methods in classes are usually defined with a first parameter of self:\n",
    "\n",
    "def __init__(self, height, length, width):\n",
    "def height_in_ft(self):\n",
    "\n",
    "The self is a shorthand way of referring to an instance. \n",
    "\n",
    "When you use lounge.height_in_ft() the method knows that any reference to self means the lounge instance, so self.height means lounge.height but you don't have to write the code for each individual instance. Thus kitchen.height_in_ft() and bathroom.height_in_ft() use the same method, but you don't have to pass the height of the instance as the method can reference it using self.height.\n",
    "\n",
    "EXAMPLE Room class (see photo).\n",
    "\n",
    "This will generate the following output:\n",
    "\n",
    "Lounge 1300 4000 4000\n",
    "Snug 1300 2500 2500\n",
    "Lounge length in feet: 4.26509187\n",
    "Snug wall area: 11700000 in sq.mm., 125.94 in sq.ft.\n",
    "\n",
    "Note that a method definition that is preceded by the command, @staticmethod (a 'decorator') is really just a function that does not include the self reference to the calling instance. It is included in a class definition for convenience and can be called by reference to the class or the instance:\n",
    "\n",
    "Room.mm_to_ft(mm)\n",
    "lounge.mm_to_ft(mm)\n",
    "\n",
    "Another useful 'decorator' is @property, which allows you to refer to a method as if it is an attribute. Not used in the example below, but if I put that before the oheight_in_ft methods you could say, for example, lounge.height_in_ft instead of lounge.height_in_ft().\"\"\")"
   ]
  },
  {
   "cell_type": "code",
   "execution_count": null,
   "metadata": {},
   "outputs": [],
   "source": []
  }
 ],
 "metadata": {
  "kernelspec": {
   "display_name": "Python 3.8.2 64-bit",
   "language": "python",
   "name": "python38264bit04a3daf7468f42839eb2941c745052a1"
  },
  "language_info": {
   "codemirror_mode": {
    "name": "ipython",
    "version": 3
   },
   "file_extension": ".py",
   "mimetype": "text/x-python",
   "name": "python",
   "nbconvert_exporter": "python",
   "pygments_lexer": "ipython3",
   "version": "3.8.3rc1"
  }
 },
 "nbformat": 4,
 "nbformat_minor": 4
}
