{
 "metadata": {
  "language_info": {
   "codemirror_mode": {
    "name": "ipython",
    "version": 3
   },
   "file_extension": ".py",
   "mimetype": "text/x-python",
   "name": "python",
   "nbconvert_exporter": "python",
   "pygments_lexer": "ipython3",
   "version": "3.9.2"
  },
  "orig_nbformat": 2,
  "kernelspec": {
   "name": "python3",
   "display_name": "Python 3.9.2 64-bit",
   "metadata": {
    "interpreter": {
     "hash": "aee8b7b246df8f9039afb4144a1f6fd8d2ca17a180786b69acc140d282b71a49"
    }
   }
  }
 },
 "nbformat": 4,
 "nbformat_minor": 2,
 "cells": [
  {
   "source": [
    "# April bits of code usually to help others"
   ],
   "cell_type": "markdown",
   "metadata": {}
  },
  {
   "cell_type": "code",
   "execution_count": null,
   "metadata": {},
   "outputs": [],
   "source": [
    "from io import StringIO\n",
    "from random import randint, shuffle\n",
    "\n",
    "# generate random nums including some that sum to 2020\n",
    "nums = [randint(1, 2020) for _ in range(50)]\n",
    "nums = nums + [2020 - x for x in nums[:10]]\n",
    "shuffle(nums)\n",
    "# create a string of the nums to look like a file\n",
    "data = '\\n'.join([str(x) for x in nums])\n",
    "\n",
    "# using StringIO instead of reading a file, otherwise the same\n",
    "with StringIO(data) as file:\n",
    "    lines = [int(x) for x in file]\n",
    "\n",
    "results_table_1 = []\n",
    "results_table_1b = []\n",
    "\n",
    "for a in lines:\n",
    "    for b in lines:\n",
    "        if a + b == 2020:\n",
    "            results_table_1.append((a,b, a * b))\n",
    "\n",
    "print('Part 1 : ')\n",
    "for a, b, c in results_table_1:\n",
    "    print(f'{a:4} x {b:4} = {c:8}')\n",
    "\n",
    "for a in lines:\n",
    "    toFind = 2020 - a\n",
    "    if toFind in lines:\n",
    "        results_table_1b.append((a,toFind, a * toFind))\n",
    "\n",
    "print('Part 1B : ')\n",
    "for a, b, c in results_table_1b:\n",
    "    print(f'{a:4} x {b:4} = {c:8}')\n",
    "\n",
    "\n"
   ]
  },
  {
   "cell_type": "code",
   "execution_count": null,
   "metadata": {},
   "outputs": [],
   "source": []
  }
 ]
}