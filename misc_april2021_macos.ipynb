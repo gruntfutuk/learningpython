{
 "metadata": {
  "language_info": {
   "codemirror_mode": {
    "name": "ipython",
    "version": 3
   },
   "file_extension": ".py",
   "mimetype": "text/x-python",
   "name": "python",
   "nbconvert_exporter": "python",
   "pygments_lexer": "ipython3",
   "version": "3.9.2"
  },
  "orig_nbformat": 2,
  "kernelspec": {
   "name": "python392jvsc74a57bd0aee8b7b246df8f9039afb4144a1f6fd8d2ca17a180786b69acc140d282b71a49",
   "display_name": "Python 3.9.2 64-bit"
  }
 },
 "nbformat": 4,
 "nbformat_minor": 2,
 "cells": [
  {
   "source": [
    "# April bits of code usually to help others"
   ],
   "cell_type": "markdown",
   "metadata": {}
  },
  {
   "cell_type": "code",
   "execution_count": null,
   "metadata": {},
   "outputs": [],
   "source": [
    "from io import StringIO\n",
    "from random import randint, shuffle\n",
    "\n",
    "# generate random nums including some that sum to 2020\n",
    "nums = [randint(1, 2020) for _ in range(50)]\n",
    "nums = nums + [2020 - x for x in nums[:10]]\n",
    "shuffle(nums)\n",
    "# create a string of the nums to look like a file\n",
    "data = '\\n'.join([str(x) for x in nums])\n",
    "\n",
    "# using StringIO instead of reading a file, otherwise the same\n",
    "with StringIO(data) as file:\n",
    "    lines = [int(x) for x in file]\n",
    "\n",
    "results_table_1 = []\n",
    "results_table_1b = []\n",
    "\n",
    "for a in lines:\n",
    "    for b in lines:\n",
    "        if a + b == 2020:\n",
    "            results_table_1.append((a,b, a * b))\n",
    "\n",
    "print('Part 1 : ')\n",
    "for a, b, c in results_table_1:\n",
    "    print(f'{a:4} x {b:4} = {c:8}')\n",
    "\n",
    "for a in lines:\n",
    "    toFind = 2020 - a\n",
    "    if toFind in lines:\n",
    "        results_table_1b.append((a,toFind, a * toFind))\n",
    "\n",
    "print('Part 1B : ')\n",
    "for a, b, c in results_table_1b:\n",
    "    print(f'{a:4} x {b:4} = {c:8}')\n",
    "\n",
    "\n"
   ]
  },
  {
   "cell_type": "code",
   "execution_count": null,
   "metadata": {
    "tags": [
     "outputPrepend"
    ]
   },
   "outputs": [],
   "source": [
    "import requests\n",
    "import pandas as pd\n",
    "\n",
    "url = \"https://docoh.com/search/suggestions?q=MSFT&ctxType=company&ctxVal=1326801\"\n",
    "r = requests.get(url,headers={\"User-Agent\":\"Mozilla\"})\n",
    "id = r.json()[\"suggestions\"][0][\"companyId\"]\n",
    "symbol = r.json()[\"suggestions\"][0][\"TradingSymbol\"]\n",
    "tickerURL = \"https://docoh.com/company/\" + str(id) + \"/\" + symbol + \"/financials\"\n",
    "finData = requests.get(tickerURL,headers={\"User-Agent\":\"Mozilla\"})\n",
    "a = pd.read_html(finData.text)\n",
    "print (a)"
   ]
  },
  {
   "cell_type": "code",
   "execution_count": 37,
   "metadata": {},
   "outputs": [
    {
     "output_type": "stream",
     "name": "stdout",
     "text": [
      "fred 23 182\nwendy 21 175\nbert 31 190\nsi 30 187\n"
     ]
    }
   ],
   "source": [
    "from io import StringIO\n",
    "from csv import DictReader\n",
    "\n",
    "data = \"\"\"fred,23,182\n",
    "wendy,21,175\n",
    "bert,31,190\n",
    "si,30,187\"\"\"\n",
    "\n",
    "with StringIO(data) as f:\n",
    "    lines = DictReader(f, fieldnames=['name', 'age', 'height'])\n",
    "    for line in lines:\n",
    "        print(line['name'], line['age'], line['height'])"
   ]
  },
  {
   "cell_type": "code",
   "execution_count": 2,
   "metadata": {},
   "outputs": [
    {
     "output_type": "stream",
     "name": "stdout",
     "text": [
      "mbry absicblly hbd b little lbma\n"
     ]
    }
   ],
   "source": [
    "    x = 'mary basically had a little lamb'\n",
    "    transform = str.maketrans(\"ab\", \"ba\")\n",
    "    x = x.translate(transform)\n",
    "    print(x)"
   ]
  },
  {
   "cell_type": "code",
   "execution_count": null,
   "metadata": {},
   "outputs": [],
   "source": []
  },
  {
   "cell_type": "code",
   "execution_count": 10,
   "metadata": {},
   "outputs": [
    {
     "output_type": "stream",
     "name": "stdout",
     "text": [
      "Device\tName\tlocation\tx3\tname + suffix\nDSA2345\tBob\tDodge\txxx\tBob054\nDSA4563\tJones\tDodge\txxx\tJones055\nDSA8947\tHarry\tDodge\txxx\tHarry056\nDSA4235\tSally\tDodge\txxx\tSally057\n"
     ]
    }
   ],
   "source": [
    "    from io import StringIO\n",
    "    import csv\n",
    "\n",
    "    data = \"\"\"serial name pattern\n",
    "    2345\tBob\t84654\n",
    "    4563\tJones\t84655\n",
    "    8947\tHarry\t84656\n",
    "    4235\tSally\t84657\"\"\"\n",
    "\n",
    "    with StringIO(data) as f:\n",
    "        reader = csv.reader(f, delimiter='\\t')\n",
    "        headers = next(reader)  # ignore\n",
    "        print(*\"Device\tName\tlocation\tx3\t\tname + suffix\".split(maxsplit=4), sep=\"\\t\")\n",
    "        counter = 54\n",
    "        for line in reader:\n",
    "            serial, name, pattern = line\n",
    "            output = [f'DSA{serial}', name, 'Dodge', 'xxx', f'{name}{counter:0>3}']\n",
    "            counter += 1\n",
    "            print(*output, sep=\"\\t\")\n",
    "\n",
    "        "
   ]
  },
  {
   "cell_type": "code",
   "execution_count": 8,
   "metadata": {},
   "outputs": [
    {
     "output_type": "execute_result",
     "data": {
      "text/plain": [
       "'serial\\tname\\tpattern\\n2345\\tBob\\t\\t84654\\n4563\\tJones\\t84655\\n8947\\tHarry\\t84656\\n4235\\tSally\\t84657'"
      ]
     },
     "metadata": {},
     "execution_count": 8
    }
   ],
   "source": [
    "data"
   ]
  },
  {
   "cell_type": "code",
   "execution_count": 13,
   "metadata": {},
   "outputs": [
    {
     "output_type": "stream",
     "name": "stdout",
     "text": [
      "(6, 49, 91, 14, 88, 82, 65) 395\n(57, 15, 34, 76, 51, 15, 76) 324\n(42, 90, 69, 33, 42, 100, 63) 439\n(11, 66, 29, 46, 13, 50, 40) 255\n(15, 42, 41, 43, 76, 51, 62) 330\n(95, 28, 30, 13, 14, 73, 69) 322\n(96, 99, 53, 81, 15, 29, 53) 426\n(5, 12, 32, 16, 88, 32, 59) 244\n[395, 324, 439, 255, 330, 322, 426, 244]\n"
     ]
    }
   ],
   "source": [
    "from random import randint\n",
    "\n",
    "lists = [[randint(1,100) for _ in range(8)] for _ in range(7)]\n",
    "totals = []\n",
    "for nums in zip(*lists):\n",
    "    print(nums, sum(nums))\n",
    "    totals.append(sum(nums))\n",
    "print(totals)  "
   ]
  },
  {
   "cell_type": "code",
   "execution_count": 17,
   "metadata": {},
   "outputs": [
    {
     "output_type": "stream",
     "name": "stdout",
     "text": [
      "(6, 49, 91, 14, 88, 82, 65) 395 395\n(57, 15, 34, 76, 51, 15, 76) 324 324\n(42, 90, 69, 33, 42, 100, 63) 439 439\n(11, 66, 29, 46, 13, 50, 40) 255 255\n(15, 42, 41, 43, 76, 51, 62) 330 330\n(95, 28, 30, 13, 14, 73, 69) 322 322\n(96, 99, 53, 81, 15, 29, 53) 426 426\n(5, 12, 32, 16, 88, 32, 59) 244 244\n"
     ]
    }
   ],
   "source": [
    "data = [[(6, 49, 91, 14, 88, 82, 65), 395],\n",
    "[(57, 15, 34, 76, 51, 15, 76), 324],\n",
    "[(42, 90, 69, 33, 42, 100, 63), 439],\n",
    "[(11, 66, 29, 46, 13, 50, 40), 255],\n",
    "[(15, 42, 41, 43, 76, 51, 62), 330],\n",
    "[(95, 28, 30, 13, 14, 73, 69), 322],\n",
    "[(96, 99, 53, 81, 15, 29, 53), 426],\n",
    "[(5, 12, 32, 16, 88, 32, 59), 244]]\n",
    "\n",
    "for t, d in data:\n",
    "    print(t, d, sum(t))"
   ]
  },
  {
   "cell_type": "code",
   "execution_count": 29,
   "metadata": {},
   "outputs": [
    {
     "output_type": "execute_result",
     "data": {
      "text/plain": [
       "2"
      ]
     },
     "metadata": {},
     "execution_count": 29
    }
   ],
   "source": [
    "    def rec_dig_sum(x):\n",
    "        if x // 10 == 0:\n",
    "            return x\n",
    "        return rec_dig_sum(x % 10 + rec_dig_sum(x // 10))\n",
    "        \n",
    "\n",
    "    rec_dig_sum(9875)"
   ]
  },
  {
   "cell_type": "code",
   "execution_count": 35,
   "metadata": {},
   "outputs": [
    {
     "output_type": "stream",
     "name": "stdout",
     "text": [
      "9 False\n"
     ]
    }
   ],
   "source": [
    "    liste = [\" \", \" \", \" \", \" \", \" \", \" \", \" \", \" \", \" \", \" \",\n",
    "    \" \", \" \", \" \", \"a \", \" \", \" \", \" a\", \" \", \" \", \" \", \" \", \" \"]\n",
    "    notspaces = [c != \" \" for c in liste[1:20:2]]\n",
    "    totalnotspaces = sum(notspaces)\n",
    "    allnotspaces = all(notspaces)\n",
    "    print(totalnotspaces, allnotspaces)\n"
   ]
  },
  {
   "cell_type": "code",
   "execution_count": 33,
   "metadata": {},
   "outputs": [
    {
     "output_type": "execute_result",
     "data": {
      "text/plain": [
       "[False, False, False, False, False, False, True, False, False, False]"
      ]
     },
     "metadata": {},
     "execution_count": 33
    }
   ],
   "source": [
    "notspaces"
   ]
  },
  {
   "cell_type": "code",
   "execution_count": 36,
   "metadata": {},
   "outputs": [
    {
     "output_type": "execute_result",
     "data": {
      "text/plain": [
       "bool"
      ]
     },
     "metadata": {},
     "execution_count": 36
    }
   ],
   "source": [
    "type(True)"
   ]
  },
  {
   "cell_type": "code",
   "execution_count": 62,
   "metadata": {},
   "outputs": [
    {
     "output_type": "stream",
     "name": "stdout",
     "text": [
      "Value not found\n",
      "B\n",
      "A\n",
      "A\n",
      "A\n",
      "A\n",
      "A\n",
      "B\n",
      "B\n",
      "B\n",
      "C\n",
      "C\n",
      "D\n",
      "D\n",
      "Value not found\n"
     ]
    }
   ],
   "source": [
    "    gr_val = {'A' : (1,5), 'B' : (5,10), 'C' : (10,15), 'D' : (15,20), } \n",
    "\n",
    "    while True:\n",
    "        my_val = None\n",
    "        while (response := input('Grade value (or return to exit): ')):\n",
    "            try:\n",
    "                my_val = int(response)\n",
    "                break\n",
    "            except ValueError:\n",
    "                print('Not a valid input')\n",
    "        if my_val is None:\n",
    "            break\n",
    "        try:\n",
    "            letter = next(key for key, (low, high) in gr_val.items() if my_val in range(low, high + 1))\n",
    "            print(letter)\n",
    "        except StopIteration:\n",
    "            print('Value not found')"
   ]
  },
  {
   "cell_type": "code",
   "execution_count": 69,
   "metadata": {},
   "outputs": [
    {
     "output_type": "stream",
     "name": "stdout",
     "text": [
      "['Apple', 'Pear', 'Orange', 'Lemon'] <list_reverseiterator object at 0x7fd0d28efbb0>\n"
     ]
    }
   ],
   "source": [
    "fruit = ['Apple', 'Pear', 'Orange', 'Lemon']\n",
    "backwards = reversed(fruit)\n",
    "print(fruit, backwards)"
   ]
  },
  {
   "cell_type": "code",
   "execution_count": 71,
   "metadata": {},
   "outputs": [],
   "source": [
    "fruit.reverse()"
   ]
  },
  {
   "cell_type": "code",
   "execution_count": 75,
   "metadata": {},
   "outputs": [
    {
     "output_type": "stream",
     "name": "stdout",
     "text": [
      "['Apple', 'Pear', 'Orange', 'Lemon']\n['Lemon', 'Orange', 'Pear', 'Apple']\n"
     ]
    }
   ],
   "source": [
    "    fruit = ['Apple', 'Pear', 'Orange', 'Lemon']\n",
    "    print(fruit)\n",
    "    fruit.reverse()  # does an in-place reversal of list\n",
    "    print(fruit)"
   ]
  },
  {
   "cell_type": "code",
   "execution_count": 73,
   "metadata": {},
   "outputs": [
    {
     "output_type": "stream",
     "name": "stdout",
     "text": [
      "Help on class reversed in module builtins:\n\nclass reversed(object)\n |  reversed(sequence, /)\n |  \n |  Return a reverse iterator over the values of the given sequence.\n |  \n |  Methods defined here:\n |  \n |  __getattribute__(self, name, /)\n |      Return getattr(self, name).\n |  \n |  __iter__(self, /)\n |      Implement iter(self).\n |  \n |  __length_hint__(...)\n |      Private method returning an estimate of len(list(it)).\n |  \n |  __next__(self, /)\n |      Implement next(self).\n |  \n |  __reduce__(...)\n |      Return state information for pickling.\n |  \n |  __setstate__(...)\n |      Set state information for unpickling.\n |  \n |  ----------------------------------------------------------------------\n |  Static methods defined here:\n |  \n |  __new__(*args, **kwargs) from builtins.type\n |      Create and return a new object.  See help(type) for accurate signature.\n\n"
     ]
    }
   ],
   "source": [
    "help(reversed)"
   ]
  },
  {
   "cell_type": "code",
   "execution_count": 11,
   "metadata": {},
   "outputs": [],
   "source": [
    "country = {\"russia\":\"145934462\",\"usa\":\"311000000\",\"china\":\"1398000000\"}"
   ]
  },
  {
   "cell_type": "code",
   "execution_count": 13,
   "metadata": {},
   "outputs": [
    {
     "output_type": "stream",
     "name": "stdout",
     "text": [
      "{'usa': '311000000', 'russia': '145934462', 'china': '1398000000', 'key': <function <lambda> at 0x7fc9ae88d3a0>}\n"
     ]
    }
   ],
   "source": [
    "sorted_country = dict(sorted(country.items(),reverse=True), key=lambda item: item[0], )\n",
    "print(sorted_country)"
   ]
  },
  {
   "cell_type": "code",
   "execution_count": 9,
   "metadata": {},
   "outputs": [
    {
     "output_type": "execute_result",
     "data": {
      "text/plain": [
       "[('china', '1398000000'), ('russia', '145934462'), ('usa', '311000000')]"
      ]
     },
     "metadata": {},
     "execution_count": 9
    }
   ],
   "source": [
    "sorted(country.items())"
   ]
  },
  {
   "cell_type": "code",
   "execution_count": null,
   "metadata": {},
   "outputs": [],
   "source": [
    "def check_empty_channels():\n",
    "    result = slack_client.conversations_list()\n",
    "    channel_names_with_numbers = [(channel[\"name\"], channel[\"num_members\"]) \n",
    "    \n",
    "for channel in result[\"channels\"]\n",
    "    if\n",
    "                                  channel[\"is_channel\"]]\n",
    "\n",
    "    return \"\\n\".join(\"%s: %s\".format() % tup for tup in channel_names_with_numbers)"
   ]
  },
  {
   "cell_type": "code",
   "execution_count": 26,
   "metadata": {},
   "outputs": [],
   "source": [
    "    data = [(('Fred', 'Derrick', 'Smith'), '0123456789'),\n",
    "            (('William', 'Moore'), '01235556342'),\n",
    "            (('Helen', 'Linda', 'Bloggs'), '0754312345'),\n",
    "            (('Anthony', 'Angles'), '01023456789')\n",
    "            ]\n",
    "\n",
    "    data = sorted(data, key=lambda x: x[0][-1] + ' '.join(x[0][:-1]))"
   ]
  },
  {
   "cell_type": "code",
   "execution_count": 27,
   "metadata": {},
   "outputs": [],
   "source": []
  },
  {
   "cell_type": "code",
   "execution_count": 28,
   "metadata": {},
   "outputs": [
    {
     "output_type": "execute_result",
     "data": {
      "text/plain": [
       "[(('Anthony', 'Angles'), '01023456789'),\n",
       " (('Helen', 'Linda', 'Bloggs'), '0754312345'),\n",
       " (('William', 'Moore'), '01235556342'),\n",
       " (('Fred', 'Derrick', 'Smith'), '0123456789')]"
      ]
     },
     "metadata": {},
     "execution_count": 28
    }
   ],
   "source": [
    "data"
   ]
  },
  {
   "cell_type": "code",
   "execution_count": 31,
   "metadata": {},
   "outputs": [
    {
     "output_type": "stream",
     "name": "stdout",
     "text": [
      "Processing: SmithFred Derrick)\nProcessing: MooreWilliam)\nProcessing: BloggsHelen Linda)\nProcessing: AnglesAnthony)\n[(('Anthony', 'Angles'), '01023456789'), (('Helen', 'Linda', 'Bloggs'), '0754312345'), (('William', 'Moore'), '01235556342'), (('Fred', 'Derrick', 'Smith'), '0123456789')]\n"
     ]
    }
   ],
   "source": [
    "    def key_sort(entry):\n",
    "        names = entry[0]\n",
    "        last_name = names[-1]\n",
    "        other_names = ' '.join(names[:-1])\n",
    "        print(f'Processing: {last_name}{other_names})')\n",
    "        key = f'{last_name}{other_names}'\n",
    "        return key    \n",
    "\n",
    "    data = [(('Fred', 'Derrick', 'Smith'), '0123456789'),\n",
    "            (('William', 'Moore'), '01235556342'),\n",
    "            (('Helen', 'Linda', 'Bloggs'), '0754312345'),\n",
    "            (('Anthony', 'Angles'), '01023456789')\n",
    "            ]\n",
    "\n",
    "    data = sorted(data, key=key_sort)\n",
    "    print(data)"
   ]
  },
  {
   "cell_type": "code",
   "execution_count": 33,
   "metadata": {},
   "outputs": [
    {
     "output_type": "stream",
     "name": "stdout",
     "text": [
      "Biggie, Nipsey, Lebron, you have been invited to dinner with the president.\n"
     ]
    }
   ],
   "source": [
    "guests = ['Biggie','Nipsey','Lebron',]\n",
    "\n",
    "print(*guests, \"you have been invited to dinner with the president.\", sep=\", \")"
   ]
  },
  {
   "cell_type": "code",
   "execution_count": 49,
   "metadata": {},
   "outputs": [
    {
     "output_type": "stream",
     "name": "stdout",
     "text": [
      "Courses:\n\nCode  |                   Course Name                   | Number\n________________________________________________________________\nCS152 | Introduction to Python Programming              |   21\nCS369 | Operating Systems Administration                |    8\nCS352 | Data Structures                                 |   19\nCS208 | Discrete Mathematics                            |  124\nCS319 | Computer Architecture                           |   14\nMA221 | Calculus and Analytical Geometry for Majors I   |   12\nMA311 | Linear Algebra                                  |    7\nMA150 | Precalculus Mathematics                         |   27\nCS335 | Introduction to Cybersecurity                   |   20\nIS361 | Data Management Systems                         |   22\nMG315 | Advanced Business Statistics                    |    6\n"
     ]
    }
   ],
   "source": [
    "\n",
    "    courses = []\n",
    "    with open('courses.txt') as courses_file:\n",
    "        for line in courses_file:\n",
    "            data = line.strip()\n",
    "            code = data[:5]\n",
    "            digits = \"\"\n",
    "            for idx, digit in enumerate(data[::-1]):\n",
    "                if digit.isdigit():\n",
    "                    digits = digit + digits\n",
    "                else:\n",
    "                    break\n",
    "            if digits:\n",
    "                course = data[5:-idx]\n",
    "            else:\n",
    "                course = data[5:]\n",
    "            courses.append((code, course, digits))\n",
    "\n",
    "    longest = max(len(course) for _, course, _ in courses) + 2\n",
    "    print('Courses:\\n')\n",
    "    print(f'Code  | {\"Course Name\":^{longest}} | Number')\n",
    "    print('_' * (longest + 17))\n",
    "    for code, course, digits in courses:\n",
    "        print(f'{code} | {course:{longest}} | {digits:>4}')"
   ]
  },
  {
   "cell_type": "code",
   "execution_count": 43,
   "metadata": {},
   "outputs": [
    {
     "output_type": "execute_result",
     "data": {
      "text/plain": [
       "[('CS152', 'Introduction to Python Programming', '21'),\n",
       " ('CS369', 'Operating Systems Administration', '8'),\n",
       " ('CS352', 'Data Structures', '19'),\n",
       " ('CS208', 'Discrete Mathematics', '124'),\n",
       " ('CS319', 'Computer Architecture', '14'),\n",
       " ('MA221', 'Calculus and Analytical Geometry for Majors I', '12'),\n",
       " ('MA311', 'Linear Algebra', '7'),\n",
       " ('MA150', 'Precalculus Mathematics', '27'),\n",
       " ('CS335', 'Introduction to Cybersecurity', '20'),\n",
       " ('IS361', 'Data Management Systems', '22'),\n",
       " ('MG315', 'Advanced Business Statistics', '6')]"
      ]
     },
     "metadata": {},
     "execution_count": 43
    }
   ],
   "source": [
    "courses"
   ]
  },
  {
   "cell_type": "code",
   "execution_count": null,
   "metadata": {},
   "outputs": [],
   "source": [
    "courses = ['CS152Introduction to Python Programming21',\n",
    "'CS369Operating Systems Administration8',\n",
    "'CS352Data Structures19',\n",
    "'CS208Discrete Mathematics124',\n",
    "'CS319Computer Architecture14',\n",
    "'MA221Calculus and Analytical Geometry for Majors I12',\n",
    "'MA311Linear Algebra7',\n",
    "'MA150Precalculus Mathematics27',\n",
    "'CS335Introduction to Cybersecurity20',\n",
    "'IS361Data Management Systems22',\n",
    "'MG315Advanced Business Statistics6' ]"
   ]
  },
  {
   "cell_type": "code",
   "execution_count": 83,
   "metadata": {},
   "outputs": [
    {
     "output_type": "stream",
     "name": "stdout",
     "text": [
      "\n\nAge Group     Males  Females    Total\n0-14          97680    93991   191671\n15-19         32840    32479    65319\n20-24         38953    41206    80159\n25-29         36775    38205    74980\n30-34         37072    39197    76269\n35-39         30337    31464    61801\n40-44         28176    29271    57447\n45-54         57519    60283   117802\n55-64         52893    57669   110562\n65-74         28577    34212    62789\n75-84         13843    20222    34065\n85+            5775    12843    18618\nTotal        460340   491642   951982\nError          -100      600      500\n"
     ]
    }
   ],
   "source": [
    "    from io import StringIO\n",
    "\n",
    "    data = \"\"\"Age Group    Males    Females      Total\n",
    "    0-14        97,680     93,991    191,671\n",
    "    15-19       32,840     32,479     65,319\n",
    "    20-24       38,953     41,206     80,159\n",
    "    25-29       36,775     38,205     74,980\n",
    "    30-34       37,072     39,197     76,269\n",
    "    35-39       30,337     31,464     61,801\n",
    "    40-44       28,176     29,271     57,447\n",
    "    45-54       57,519     60,283    117,802\n",
    "    55-64       52,893     57,669    110,562\n",
    "    65-74       28,577     34,212     62,789\n",
    "    75-84       13,843     20,222     34,065\n",
    "    85+          5,775     12,843     18,618\n",
    "    Total      460,340    491,642    951,982\"\"\"\n",
    "\n",
    "    # accumulators\n",
    "    tot_males = 0\n",
    "    tot_females = 0\n",
    "\n",
    "    print(f'\\n\\n{\"Age Group\":^10} {\"Males\":>8} {\"Females\":>8} {\"Total\":>8}')\n",
    "    with StringIO(data) as infile:  # placeholder for open\n",
    "        # if a csv file, use csv.reader here instead of below\n",
    "        next(infile)  # skip header\n",
    "        for row in infile:\n",
    "            line = [field.strip().replace(',', '') for field in row.split()]  # clean whitespace\n",
    "            line = [line[0]] + [int(field) for field in line[1:]]\n",
    "            label, males, females, total = line\n",
    "            if line[0] != \"Total\":\n",
    "                tot_males += males\n",
    "                tot_females += females\n",
    "            print(f'{label:10} {males:>8} {females:>8} {total:>8}')\n",
    "\n",
    "        diff_males = males - tot_males\n",
    "        diff_females = females - tot_females\n",
    "        diff_total = total - (tot_males + tot_females)\n",
    "        print(f'{\"Error\":10} {diff_males:>8} {diff_females:>8} {diff_total:>8}')"
   ]
  },
  {
   "cell_type": "code",
   "execution_count": 84,
   "metadata": {},
   "outputs": [
    {
     "output_type": "stream",
     "name": "stdout",
     "text": [
      "3.0\n"
     ]
    }
   ],
   "source": [
    "    num_one = float(input(\"Input your first number: \"))\n",
    "    oper = input(\"Input your operator (In words): \").lower()\n",
    "    num_two = float(input(\"Input your second number: \"))\n",
    "    if oper in ('add', 'addition',  'plus'):\n",
    "        num_one += num_two\n",
    "        print(num_one)\n",
    "    elif oper in ('sub', 'subtraction', 'minus'):\n",
    "        num_one -= num_two\n",
    "        print(num_one)\n",
    "    elif oper in ('div', 'division', 'divide'):\n",
    "        num_one /= num_two\n",
    "        print(num_one)\n",
    "    elif oper in ('mul', 'multiply', 'multi', 'mult'):\n",
    "        num_one *= num_two\n",
    "        print(num_one)\n",
    "    else:\n",
    "        print(\"Invalid number or operator\")"
   ]
  },
  {
   "cell_type": "code",
   "execution_count": 97,
   "metadata": {},
   "outputs": [
    {
     "output_type": "stream",
     "name": "stdout",
     "text": [
      "{'a': 34, 's': 25, 'k': 2, 'i': 26, 'm': 13, 't': 29, 'd': 22, 'f': 10, 'u': 9, 'n': 23, 'b': 4, 'g': 10, 'l': 31, 'y': 7, 'h': 38, 'c': 4, 'p': 11, 'o': 28, 'v': 2, 'j': 1, 'w': 16, 'e': 60, 'r': 34}\n"
     ]
    }
   ],
   "source": [
    "    long_string = \"\"\"Lastly, she pictured to herself how this same little sister of\n",
    "    hers would, in the after-time, be herself a grown woman; and how\n",
    "    she would keep, through all her riper years, the simple and\n",
    "    loving heart of her childhood:  and how she would gather about\n",
    "    her other little children, and make THEIR eyes bright and eager\n",
    "    with many a strange tale, perhaps even with the dream of\n",
    "    Wonderland of long ago:  and how she would feel with all their\n",
    "    simple sorrows, and find a pleasure in all their simple joys,\n",
    "    remembering her own child-life, and the happy summer days.\"\"\"\n",
    "\n",
    "    long_string = long_string.lower()\n",
    "    punct = set(\"\\n\\t-.,;:!?'\\\" \")  # characters to ignore\n",
    "    letters = set(long_string) - punct # unique characters of interest\n",
    "    counts = {}\n",
    "    for letter in letters:\n",
    "        counts[letter] = long_string.count(letter)\n",
    "    print(counts)"
   ]
  },
  {
   "cell_type": "code",
   "execution_count": null,
   "metadata": {},
   "outputs": [],
   "source": [
    "num_one = float(input(\"Input your first number: \"))\n",
    "oper = input(\"Input your operator (In words): \").lower()\n",
    "num_two = float(input(\"Input your second number: \"))\n",
    "result = None\n",
    "if oper in ('add', 'addition',  'plus', '+'):\n",
    "    result = num_one + num_two \n",
    "elif oper in ('sub', 'subtraction', 'minus', '-'):\n",
    "    result = num_one - num_two\n",
    "elif oper in ('div', 'division', 'divide', '/'):\n",
    "    result = num_one / num_two\n",
    "elif oper in ('mul', 'multiply', 'multi', 'mult', '*'):\n",
    "    result = num_one * num_two\n",
    "else:\n",
    "    print(\"Invalid number or operator\")\n",
    "if result is not None:\n",
    "    print(f'{num_one} {oper} {num_two} = {result}')"
   ]
  },
  {
   "cell_type": "code",
   "execution_count": 117,
   "metadata": {},
   "outputs": [
    {
     "output_type": "stream",
     "name": "stdout",
     "text": [
      "3.0 + 2.0 = 5.0\n",
      "Sorry, did not understand that\n",
      "3.0 / 2.0 = 1.5\n",
      "Unrecognised operation\n",
      "Sorry, did not understand that\n",
      "8.0 * 2.1 = 16.8\n"
     ]
    }
   ],
   "source": [
    "# another calculator\n",
    "\n",
    "from operators import operator as op\n",
    "\n",
    "\n",
    "def get_expression():\n",
    "    while True:\n",
    "        try:\n",
    "            expression = input('Enter simple expression (return to quit): ').strip().lower()\n",
    "            if not expression:\n",
    "                return None\n",
    "            operand1, operation, operand2 = expression.split()\n",
    "        except ValueError:\n",
    "            print('Sorry, did not understand that')\n",
    "            continue\n",
    "\n",
    "        try:\n",
    "            num1 = float(operand1.strip())\n",
    "            num2 = float(operand2.strip())\n",
    "        except ValueError:\n",
    "            print('Unable to understand numbers')\n",
    "            continue\n",
    "\n",
    "        operation = operation.strip()\n",
    "        if not operation in available_ops:\n",
    "            print('Unrecognised operation')\n",
    "            continue\n",
    "\n",
    "        return num1, operation, num2\n",
    "\n",
    "# many to one mappings\n",
    "ops = { ('+', 'add', 'addition',  'plus'): op.add,\n",
    "        ('-', 'sub', 'subtraction', 'minus'): op.sub,\n",
    "        ('/', 'div', 'division', 'divide'): op.truediv,\n",
    "        ('*', 'mul', 'multiply', 'multi', 'mult'): op.mul}\n",
    "\n",
    "# one to one mappings\n",
    "available_ops = {}\n",
    "for k, v in ops.items():\n",
    "    for key in k:\n",
    "        available_ops[key] = v\n",
    "\n",
    "while True:\n",
    "    expression = get_expression()\n",
    "    if not expression:\n",
    "        break\n",
    "    num1, operation, num2 = expression\n",
    "    result = available_ops[operation](num1, num2)\n",
    "    print(f'{num1} {operation} {num2} = {result}')\n"
   ]
  },
  {
   "cell_type": "code",
   "execution_count": 116,
   "metadata": {},
   "outputs": [
    {
     "output_type": "execute_result",
     "data": {
      "text/plain": [
       "(2.0, '+', 3.0)"
      ]
     },
     "metadata": {},
     "execution_count": 116
    }
   ],
   "source": [
    "expression"
   ]
  },
  {
   "cell_type": "code",
   "execution_count": 128,
   "metadata": {},
   "outputs": [
    {
     "output_type": "stream",
     "name": "stdout",
     "text": [
      "     \n    *\n   ***\n  *****\n *******\n*********\n *******\n  *****\n   ***\n    *\n"
     ]
    }
   ],
   "source": [
    "    n = int(input())\n",
    "    n1 = n//2 +1\n",
    "    n2 = n1 - 1\n",
    "\n",
    "    for i in range(n1+1):\n",
    "        for spaces in range(n1-i):\n",
    "            print(' ',end='')\n",
    "        for stars in range(2*i-1):\n",
    "            print('*',end='')\n",
    "        print()\n",
    "\n",
    "    for i in range(n2, 0, -1):\n",
    "        for spaces in range(n2-i+1):\n",
    "            print(' ',end='')\n",
    "        for stars in range(2*i-1):\n",
    "            print('*',end='')\n",
    "        print()"
   ]
  },
  {
   "cell_type": "code",
   "execution_count": 120,
   "metadata": {},
   "outputs": [
    {
     "output_type": "execute_result",
     "data": {
      "text/plain": [
       "3"
      ]
     },
     "metadata": {},
     "execution_count": 120
    }
   ],
   "source": [
    "n1"
   ]
  },
  {
   "cell_type": "code",
   "execution_count": 121,
   "metadata": {},
   "outputs": [
    {
     "output_type": "execute_result",
     "data": {
      "text/plain": [
       "2"
      ]
     },
     "metadata": {},
     "execution_count": 121
    }
   ],
   "source": [
    "n2"
   ]
  },
  {
   "cell_type": "code",
   "execution_count": 132,
   "metadata": {},
   "outputs": [
    {
     "output_type": "stream",
     "name": "stdout",
     "text": [
      "      \n      *\n     * *\n    * * *\n   * * * *\n  * * * * *\n"
     ]
    }
   ],
   "source": [
    "print(*(\" \" * i + \" *\" * j for j, i in enumerate(range(int((int(input('Base size: ')) + 1) / 2) * 2, 0, -1))), sep=\"\\n\")"
   ]
  },
  {
   "cell_type": "code",
   "execution_count": 141,
   "metadata": {},
   "outputs": [
    {
     "output_type": "stream",
     "name": "stdout",
     "text": [
      "      \n      *\n     * *\n    * * *\n   * * * *\n  * * * * *\n * * * * * *\n  * * * * *\n   * * * *\n    * * *\n     * *\n      *\n"
     ]
    }
   ],
   "source": [
    "    base = 6\n",
    "    print(*(\" \" * i + \" *\" * j for j, i in enumerate(range(int((base + 1) / 2) * 2, 0, -1))), sep=\"\\n\")\n",
    "    print(*(\" \" * i + \" *\" * j for i, j in enumerate(range(int((base + 1) / 2) * 2, 0, -1))), sep=\"\\n\")"
   ]
  },
  {
   "cell_type": "code",
   "execution_count": 3,
   "metadata": {},
   "outputs": [],
   "source": [
    "prices = {\"lawn mower\":1.5, 'sprinkler':34.56, 'rake':21}\n",
    "total = 0\n",
    "\n",
    "for item, price in prices.items():\n",
    "    if input(f\"Will you buy a {item} for £{price:.2f}? \").lower() in [\"y\", \"yes\", \"yup\", \"ok\"]:\n",
    "       total += price"
   ]
  },
  {
   "cell_type": "code",
   "execution_count": 4,
   "metadata": {},
   "outputs": [
    {
     "output_type": "execute_result",
     "data": {
      "text/plain": [
       "57.06"
      ]
     },
     "metadata": {},
     "execution_count": 4
    }
   ],
   "source": [
    "total"
   ]
  },
  {
   "cell_type": "code",
   "execution_count": 10,
   "metadata": {},
   "outputs": [
    {
     "output_type": "stream",
     "name": "stdout",
     "text": [
      "\n",
      "\n",
      "Temperature convertion\n",
      "\n",
      "Enter temperature followed by C or F\n",
      "and the converted value shall be printed\n",
      "Enter <return> alone to exit the programme\n",
      "\n",
      "20.0°C = 68.0°F\n"
     ]
    }
   ],
   "source": [
    "\n",
    "    print('\\n\\nTemperature convertion\\n')\n",
    "    print('Enter temperature followed by C or F')\n",
    "    print('and the converted value shall be printed')\n",
    "    print('Enter <return> alone to exit the programme\\n')\n",
    "\n",
    "    def f_to_c(fahrenheit):\n",
    "        return (fahrenheit - 32) * 5/9\n",
    "\n",
    "    def c_to_f(celcius):\n",
    "        return celcius * 9/5 + 32\n",
    "\n",
    "    units = 'C', 'F'\n",
    "\n",
    "    while True:\n",
    "        data = input('Temperature? (return to exit): ').lower().strip()\n",
    "        if not data:\n",
    "            break\n",
    "        unit = 'C'\n",
    "        convert = c_to_f\n",
    "        if data.endswith('c'):\n",
    "            data = data[:-1]\n",
    "        elif data.endswith('f'):\n",
    "            data = data[:-1]\n",
    "            unit = 'F'\n",
    "            convert = f_to_c\n",
    "        try:\n",
    "            temp = float(data)\n",
    "        except ValueError:\n",
    "            print('Sorry, did not understand that')\n",
    "        else:\n",
    "            converted = convert(temp)\n",
    "            print(f\"{temp}°{unit} = {converted}°{units[unit=='C']}\")"
   ]
  },
  {
   "cell_type": "code",
   "execution_count": null,
   "metadata": {},
   "outputs": [],
   "source": [
    "First one does not allow you to specify a length, so the lenth attribute of any instance shall always be set to 0.\n",
    "\n",
    "    class LinkedList:\n",
    "\n",
    "        def __init__(self):\n",
    "            self.head = None\n",
    "            self.length = 0\n",
    "        \n",
    "Second one optionally allows you to specify a length. If it is not specified, it will default to 0.\n",
    "\n",
    "    class LinkedList:\n",
    "        \n",
    "        def __init__(self, head= None, length =0):\n",
    "            self.head = head\n",
    "            self.length = length"
   ]
  },
  {
   "cell_type": "code",
   "execution_count": 5,
   "metadata": {},
   "outputs": [
    {
     "output_type": "stream",
     "name": "stdout",
     "text": [
      "477848373 2\ndiff: 253311534\n362535363 3\n"
     ]
    }
   ],
   "source": [
    "    import csv\n",
    "    from io import StringIO\n",
    "\n",
    "    data_file = \"\"\"224536839 ; 1\n",
    "    477848373 ; 2\n",
    "    362535363 ; 3\"\"\"\n",
    "\n",
    "    with StringIO(data_file) as source:\n",
    "        data = csv.reader(source, delimiter=';')\n",
    "        first_line = next(data)\n",
    "        prev_x, prev_y = int(first_line[0]), int(first_line[1])\n",
    "        for line in data:\n",
    "            x, y = int(line[0]), int(line[1])\n",
    "            print(x, y)\n",
    "            if y == 2:\n",
    "                diff = x - prev_x\n",
    "                print('diff:', diff)\n",
    "            prev_x, prev_y = x, y\n",
    "\n"
   ]
  },
  {
   "cell_type": "code",
   "execution_count": 26,
   "metadata": {},
   "outputs": [
    {
     "output_type": "execute_result",
     "data": {
      "text/plain": [
       "253311534"
      ]
     },
     "metadata": {},
     "execution_count": 26
    }
   ],
   "source": [
    "477848373 - 224536839"
   ]
  },
  {
   "cell_type": "code",
   "execution_count": 3,
   "metadata": {},
   "outputs": [
    {
     "output_type": "stream",
     "name": "stdout",
     "text": [
      "['224536839 ', ' 1']\n['477848373 ', ' 2']\n['362535363 ', ' 3']\n"
     ]
    }
   ],
   "source": [
    "import csv\n",
    "from io import StringIO\n",
    "\n",
    "data_file = \"\"\"224536839 ; 1\n",
    "477848373 ; 2\n",
    "362535363 ; 3\"\"\"\n",
    "\n",
    "with StringIO(data_file) as source:\n",
    "    data = csv.reader(source, delimiter=';')\n",
    "    line = next(data)\n",
    "    print(line)\n",
    "    for line in data:\n",
    "        print(line)\n",
    "\n"
   ]
  },
  {
   "cell_type": "code",
   "execution_count": 39,
   "metadata": {},
   "outputs": [
    {
     "output_type": "stream",
     "name": "stdout",
     "text": [
      "\nArticle  Quantity\nDress      3\nJeans      5\nShirt      3\n"
     ]
    }
   ],
   "source": [
    "    from io import StringIO\n",
    "\n",
    "    data=\"\"\"Items,Colors\n",
    "    shirt,pink\n",
    "    shirt,red\n",
    "    shirt,grey\n",
    "    jeans,black\n",
    "    jeans,indigo\n",
    "    jeans,pink\n",
    "    jeans,blue\n",
    "    jeans,white\n",
    "    dress,green\n",
    "    dress,yellow\n",
    "    dress,orange\"\"\"\n",
    "\n",
    "    clothing = []\n",
    "    with StringIO(data) as clothes:\n",
    "        next(clothes)  # ignore header line\n",
    "        for line in clothes:\n",
    "            article, colour = line.split(',')\n",
    "            clothing.append(article.strip())\n",
    "\n",
    "    print('\\nArticle  Quantity')\n",
    "    for article in set(clothing):\n",
    "        print(f'{article.title():10} {clothing.count(article)}')"
   ]
  },
  {
   "cell_type": "code",
   "execution_count": null,
   "metadata": {},
   "outputs": [],
   "source": []
  },
  {
   "cell_type": "code",
   "execution_count": 31,
   "metadata": {},
   "outputs": [
    {
     "output_type": "execute_result",
     "data": {
      "text/plain": [
       "{'dress', 'jeans', 'shirt'}"
      ]
     },
     "metadata": {},
     "execution_count": 31
    }
   ],
   "source": [
    "set(clothing) ^ set(['Items'])"
   ]
  },
  {
   "cell_type": "code",
   "execution_count": 29,
   "metadata": {},
   "outputs": [],
   "source": [
    "a = set(clothing)\n",
    "b = set(['Items'])"
   ]
  },
  {
   "cell_type": "code",
   "execution_count": 30,
   "metadata": {},
   "outputs": [
    {
     "output_type": "execute_result",
     "data": {
      "text/plain": [
       "{'dress', 'jeans', 'shirt'}"
      ]
     },
     "metadata": {},
     "execution_count": 30
    }
   ],
   "source": [
    "a-b"
   ]
  },
  {
   "cell_type": "code",
   "execution_count": 10,
   "metadata": {},
   "outputs": [
    {
     "output_type": "stream",
     "name": "stdout",
     "text": [
      "Alabama, Alaska, Arizona, Arkansas, Idaho, Illinois, Indiana, Iowa, Ohio, Oklahoma, Oregon, Utah\n"
     ]
    }
   ],
   "source": [
    "    def openFile(infile):\n",
    "        infile = open(\"States.txt\", 'r')\n",
    "        return infile\n",
    "\n",
    "    def readFile(infile):\n",
    "        states = []\n",
    "        for line in infile:\n",
    "            states.append(line.strip())\n",
    "        return states\n",
    "\n",
    "    def removeNoVowel(states):\n",
    "        new_list = []\n",
    "        vowel = ['A', 'E', 'I', 'O', 'U']\n",
    "        for state in states:\n",
    "            if state[0].upper() in vowel:\n",
    "                new_list.append(state)\n",
    "        print(', '.join(new_list)) \n",
    "        return new_list\n",
    "\n",
    "    def writefile(vowelStates):\n",
    "        with open('states.txt', 'w') as outfile:\n",
    "            for item in vowelStates:\n",
    "                outfile.write(item + '\\n')\n",
    "\n",
    "    def deleteContent():\n",
    "        with open(\"States.txt\", 'r+') as empty:\n",
    "            empty.seek\n",
    "            empty.truncate(0)\n",
    "\n",
    "    def main():\n",
    "        infile = openFile(\"States.txt\")\n",
    "        states = readFile(infile)\n",
    "        # deleteContent()\n",
    "        states = removeNoVowel(states)\n",
    "        writefile(states)\n",
    "\n",
    "\n",
    "    main()"
   ]
  },
  {
   "cell_type": "code",
   "execution_count": 8,
   "metadata": {},
   "outputs": [
    {
     "output_type": "stream",
     "name": "stdout",
     "text": [
      "Alabama\nAlaska\nArizona\nArkansas\nIdaho\nIllinois\nIndiana\nIowa\nOhio\nOklahoma\nOregon\nUtah\n"
     ]
    }
   ],
   "source": [
    "!cat states.txt"
   ]
  },
  {
   "cell_type": "code",
   "execution_count": 11,
   "metadata": {},
   "outputs": [
    {
     "output_type": "execute_result",
     "data": {
      "text/plain": [
       "4"
      ]
     },
     "metadata": {},
     "execution_count": 11
    }
   ],
   "source": [
    "\"Mary had a little lamb\".find(' ')"
   ]
  },
  {
   "cell_type": "code",
   "execution_count": 16,
   "metadata": {},
   "outputs": [
    {
     "output_type": "stream",
     "name": "stdout",
     "text": [
      "4\n8\n10\n17\n"
     ]
    }
   ],
   "source": [
    "    sentence = input('Please type a sentence: ')\n",
    "    space = ' '\n",
    "\n",
    "    for space_position, character in enumerate(sentence):\n",
    "        if character == space:\n",
    "            print(space_position)\n"
   ]
  },
  {
   "cell_type": "code",
   "execution_count": 25,
   "metadata": {},
   "outputs": [],
   "source": [
    "    vowels = 'aeiou'\n",
    "\n",
    "    with open('States.txt') as states, open('vowel_states.txt', 'w') as vowel_states:\n",
    "        for state in states:\n",
    "            if state[0].lower() in vowels:\n",
    "                vowel_states.write(state)"
   ]
  },
  {
   "cell_type": "code",
   "execution_count": 26,
   "metadata": {},
   "outputs": [
    {
     "output_type": "stream",
     "name": "stdout",
     "text": [
      "Alabama\nAlaska\nArizona\nArkansas\nIdaho\nIllinois\nIndiana\nIowa\nOhio\nOklahoma\nOregon\nUtah\n"
     ]
    }
   ],
   "source": [
    "!cat vowel_states.txt"
   ]
  },
  {
   "cell_type": "code",
   "execution_count": null,
   "metadata": {},
   "outputs": [],
   "source": []
  }
 ]
}