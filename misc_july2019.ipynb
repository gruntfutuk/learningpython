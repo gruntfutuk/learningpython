{
 "cells": [
  {
   "cell_type": "code",
   "execution_count": null,
   "metadata": {},
   "outputs": [],
   "source": [
    "import bcrypt\n",
    "\n",
    "def gen_password(password, salt=12):\n",
    "    return bcrypt.hashpw(password.encode('utf-8'), bcrypt.gensalt(salt))\n",
    "\n",
    "def check_password(check_password, stored_password):\n",
    "    try:\n",
    "        return bcrypt.checkpw(check_password.encode('utf-8'), stored_password)\n",
    "    except ValueError:\n",
    "        return False\n",
    "\n",
    "def save_password(name, password):\n",
    "    if name not in passwords:\n",
    "        passwords[name] = gen_password(password)\n",
    "        return True\n",
    "    else:\n",
    "        return False\n",
    "\n",
    "def get_name_and_password():\n",
    "        name = input('Name? (enter to finish): ')\n",
    "        if not name:\n",
    "            return None, None\n",
    "        while True:\n",
    "            password = input('Password? ')\n",
    "            if password:\n",
    "                break\n",
    "            print('A password is require')\n",
    "        return name, password\n",
    "\n",
    "def add_users():\n",
    "    print('\\n\\nAdd new users and passwords to password database\\n')\n",
    "    while True:\n",
    "        name, password = get_name_and_password()\n",
    "        if not name:\n",
    "            return\n",
    "        stored = save_password(name, password)\n",
    "        if stored:\n",
    "            print(f'{name} password saved')\n",
    "        else:\n",
    "            print(f'{name} is not unique and cannot be saved')\n",
    "            \n",
    "def test():\n",
    "    print('\\n\\nEnter user names and passwords to test password database\\n')\n",
    "    while True:\n",
    "        name, password = get_name_and_password()\n",
    "        if not name:\n",
    "            return\n",
    "        if name in passwords:\n",
    "            valid = check_password(password, passwords[name])\n",
    "        else:\n",
    "            valid = False\n",
    "        print(f'Name and Password are {\"correct\" if valid else \"not correct\"}')\n",
    "        \n",
    "\n",
    "passwords = {}  # this would be stored in a file typically\n",
    "add_users()\n",
    "test()"
   ]
  },
  {
   "cell_type": "code",
   "execution_count": 3,
   "metadata": {},
   "outputs": [
    {
     "name": "stdout",
     "output_type": "stream",
     "text": [
      "[19, 8, 17, 7, 41, 5, 22, 11]\n",
      "[10, 21, 5, 42, 15, 11, 34, 12]\n",
      "[4, 9, 20, 43, 28, 41, 27, 22]\n",
      "[9, 4, 16, 27, 35, 20, 7, 36]\n",
      "[21, 38, 1, 32, 25, 33, 34, 19]\n",
      "[29, 22, 41, 14, 10, 25, 38, 4]\n",
      "[21, 3, 39, 22, 2, 13, 9, 29]\n",
      "[32, 33, 2, 10, 44, 18, 7, 15]\n"
     ]
    }
   ],
   "source": [
    "import random\n",
    "\n",
    "for _ in range(8):\n",
    "    print(random.sample(range(1, 45), 8))"
   ]
  },
  {
   "cell_type": "code",
   "execution_count": 63,
   "metadata": {},
   "outputs": [
    {
     "name": "stdout",
     "output_type": "stream",
     "text": [
      "\n",
      "   Column A       Column B\n",
      "0        20  abc, def, ghi\n",
      "1        30  bbc, bef, bhi\n",
      "2        40  cbc, cef, chi\n",
      "\n",
      "   Column A       Column B\n",
      "0        20  abc, def\\nghi\n",
      "1        30  bbc, bef\\nbhi\n",
      "2        40  cbc, cef\\nchi\n",
      "\n",
      "abc, def\n",
      "ghi\n"
     ]
    }
   ],
   "source": [
    "import pandas as pd\n",
    "\n",
    "regex = r\"(,[^,]*), \"\n",
    "subst = \"\\\\1\\\\n\"\n",
    "\n",
    "data = [ [20, \"abc, def, ghi\"], [30, \"bbc, bef, bhi\"], [40, \"cbc, cef, chi\"] ]\n",
    "df = pd.DataFrame(data, columns = ['Column A', 'Column B'])\n",
    "\n",
    "print()\n",
    "print(df)\n",
    "df['Column B'] = df['Column B'].str.replace(regex, subst)\n",
    "print()\n",
    "print(df)\n",
    "print()\n",
    "print(df['Column B'][0])"
   ]
  },
  {
   "cell_type": "code",
   "execution_count": 60,
   "metadata": {},
   "outputs": [
    {
     "name": "stdout",
     "output_type": "stream",
     "text": [
      "cbc\u0001\n",
      "chi\n"
     ]
    }
   ],
   "source": [
    "print(df['Column B'][2])"
   ]
  },
  {
   "cell_type": "code",
   "execution_count": null,
   "metadata": {},
   "outputs": [],
   "source": []
  },
  {
   "cell_type": "code",
   "execution_count": 12,
   "metadata": {},
   "outputs": [
    {
     "name": "stdout",
     "output_type": "stream",
     "text": [
      "Give me a number 8\n",
      "False\n"
     ]
    }
   ],
   "source": [
    "def IsThisNumberPrime(num):\n",
    "    if not isinstance(num, int):\n",
    "        raise TypeError('An integer is required to be passed to IsThisNumberPrime')\n",
    "    if num in (2, 3):\n",
    "        return True\n",
    "    if num <= 1 or num % 2 == 0:\n",
    "        return False\n",
    "    limit = int(num ** 0.5 + 1)\n",
    "    for test in range(3, limit, 2):\n",
    "        if num % test == 0:\n",
    "            print(f'{num} % {test} = {num % test}')\n",
    "            return False\n",
    "    return True\n",
    "            \n",
    "data = int(input(\"Give me a number \"))\n",
    "print(IsThisNumberPrime(data))"
   ]
  },
  {
   "cell_type": "code",
   "execution_count": 13,
   "metadata": {},
   "outputs": [
    {
     "name": "stdout",
     "output_type": "stream",
     "text": [
      "Primes:\n",
      "   2\n",
      "   3\n",
      "   5\n",
      "   7\n",
      "9 % 3 = 0\n",
      "  11\n",
      "  13\n",
      "15 % 3 = 0\n",
      "  17\n",
      "  19\n",
      "21 % 3 = 0\n",
      "  23\n",
      "25 % 5 = 0\n",
      "27 % 3 = 0\n",
      "  29\n",
      "  31\n",
      "33 % 3 = 0\n",
      "35 % 5 = 0\n",
      "  37\n",
      "39 % 3 = 0\n",
      "  41\n",
      "  43\n",
      "45 % 3 = 0\n",
      "  47\n",
      "49 % 7 = 0\n",
      "51 % 3 = 0\n",
      "  53\n",
      "55 % 5 = 0\n",
      "57 % 3 = 0\n",
      "  59\n",
      "  61\n",
      "63 % 3 = 0\n",
      "65 % 5 = 0\n",
      "  67\n",
      "69 % 3 = 0\n",
      "  71\n",
      "  73\n",
      "75 % 3 = 0\n",
      "77 % 7 = 0\n",
      "  79\n",
      "81 % 3 = 0\n",
      "  83\n",
      "85 % 5 = 0\n",
      "87 % 3 = 0\n",
      "  89\n",
      "91 % 7 = 0\n",
      "93 % 3 = 0\n",
      "95 % 5 = 0\n",
      "  97\n",
      "99 % 3 = 0\n"
     ]
    }
   ],
   "source": [
    "tests = range(0, 100)\n",
    "print('Primes:')\n",
    "for test in tests:\n",
    "    if IsThisNumberPrime(test):\n",
    "        print(f'{test:4}')"
   ]
  },
  {
   "cell_type": "code",
   "execution_count": 14,
   "metadata": {},
   "outputs": [
    {
     "name": "stdout",
     "output_type": "stream",
     "text": [
      "alpha NOOOO\n",
      "beta NOOOO\n",
      "charlie NOOOO\n",
      "seperator\n",
      "alpha yess\n",
      "beta yess\n",
      "charlie yess\n"
     ]
    }
   ],
   "source": [
    "    psnr_avg_dict = {'alpha': None, 'beta': None, 'charlie': None}\n",
    "    for i in psnr_avg_dict:\n",
    "        print(i + \" NOOOO\")\n",
    "    #Getting the speed\n",
    "    cmSpath = \"./gprof_data/\"\n",
    "    cmDict = get_gprof_values(cmSpath)\n",
    "    print(\"seperator\")\n",
    "\n",
    "    #Putting in to class including false proof\n",
    "    for i in psnr_avg_dict:\n",
    "        print(i + \" yess\")"
   ]
  },
  {
   "cell_type": "code",
   "execution_count": 84,
   "metadata": {},
   "outputs": [
    {
     "name": "stdout",
     "output_type": "stream",
     "text": [
      "\n",
      "test:   (123, 456)    (67,12) (54,67)   \n",
      "stack: [(123, 456), (67, 12), (54, 67)]\n",
      "\n",
      "test: ()\n",
      "stack: []\n",
      "Remaining buffer: ()\n",
      "Expecting coordinates between '()'\n",
      "\n",
      "test: (test)\n",
      "stack: []\n",
      "Remaining buffer: (test)\n",
      "Expecting coordinates between '()'\n",
      "\n",
      "test: (test, test)\n",
      "stack: []\n",
      "Remaining buffer: (test, test)\n",
      "Non-integer(s) found between '()'\n",
      "\n",
      "test: \n",
      "stack: []\n",
      "\n",
      "test:   hello\n",
      "stack: []\n",
      "Remaining buffer:   hello\n",
      "Expecting '(' token next\n",
      "\n",
      "test:   (   )\n",
      "stack: []\n",
      "Remaining buffer:   (   )\n",
      "Expecting coordinates between '()'\n",
      "\n",
      "test: ((34, 5))\n",
      "stack: []\n",
      "Remaining buffer: ((34, 5))\n",
      "Non-integer(s) found between '()'\n",
      "\n",
      "test: (23,4),(45,67)\n",
      "stack: [(23, 4)]\n",
      "Remaining buffer: ,(45,67)\n",
      "Expecting '(' token next\n",
      "\n",
      "test: (23,34)(34.5, 67)\n",
      "stack: [(23, 34)]\n",
      "Remaining buffer: (34.5, 67)\n",
      "Non-integer(s) found between '()'\n"
     ]
    }
   ],
   "source": [
    "'convert string of bracketed coordinate pairs to list of coordinate tuple integer pairs'\n",
    "'format (x1, y1) (x2, y2) ... (xn, yn)'\n",
    "\n",
    "def next_coords(slice):\n",
    "    'extract next coordinate pair and return that and remaining text'\n",
    "    slice = slice.strip()  # just in case\n",
    "    if not slice.startswith('('):\n",
    "        raise ValueError(\"Expecting '(' token next\")\n",
    "    pos_close = slice.find(')')  # find position of next )\n",
    "    if pos_close == -1:  # a -1 indicates a ) was not found\n",
    "        raise ValueError(\"Expecting ')' token next\")\n",
    "    x, _ , y = slice[1:pos_close].partition(',')\n",
    "    if not x or not y:\n",
    "        raise ValueError(\"Expecting coordinates between '()'\")\n",
    "    try:\n",
    "        coords = int(x), int(y)\n",
    "    except ValueError:\n",
    "        raise ValueError(\"Non-integer(s) found between '()'\")\n",
    "    return coords, slice[pos_close+1:]\n",
    "\n",
    "\n",
    "def parse_buffer(buffer):\n",
    "    'build & return list of coord integer pair tuples'\n",
    "    stack = []\n",
    "    err_message = ''\n",
    "    while buffer:\n",
    "        try:\n",
    "            coords, buffer = next_coords(buffer)\n",
    "        except ValueError as e:\n",
    "            err_message = e\n",
    "            break\n",
    "        else:\n",
    "            stack.append(coords)\n",
    "    return stack, err_message, buffer\n",
    "\n",
    "\n",
    "tests = ['  (123, 456)    (67,12) (54,67)   ',\n",
    "         '()', '(test)', '(test, test)', '', '  hello', '  (   )', '((34, 5))',\n",
    "         '(23,4),(45,67)', '(23,34)(34.5, 67)']\n",
    "for test in tests:\n",
    "    stack, err_message, buffer = parse_buffer(test)\n",
    "    print(f'\\ntest: {test}\\nstack: {stack}')\n",
    "    if err_message:\n",
    "        print(f'Remaining buffer: {buffer}\\n{err_message}')"
   ]
  },
  {
   "cell_type": "code",
   "execution_count": 125,
   "metadata": {},
   "outputs": [
    {
     "name": "stdout",
     "output_type": "stream",
     "text": [
      "Enter year (between 1932 and 2067): 2056\n",
      "total: 13\n"
     ]
    }
   ],
   "source": [
    "    lowest = 1932\n",
    "    highest = 2067\n",
    "    year = input(f\"Enter year (between {lowest} and {highest}): \")\n",
    "    if not year.isdigit() or not lowest <= int(year) <= highest:\n",
    "        print('That is not a valid year')\n",
    "    else:\n",
    "        total = 0\n",
    "        year = int(year)\n",
    "        while year > 0:\n",
    "            total, year = year % 10 + total, year // 10\n",
    "        print(f'total: {total}')"
   ]
  },
  {
   "cell_type": "code",
   "execution_count": 126,
   "metadata": {},
   "outputs": [
    {
     "name": "stdout",
     "output_type": "stream",
     "text": [
      "True\n"
     ]
    }
   ],
   "source": [
    "    VOWELS = set('abcde')\n",
    "    def check_for_a_to_e(test):\n",
    "        return any(char in VOWELS for char in test.lower())\n",
    "\n",
    "    print(check_for_a_to_e(\"reddit\"))"
   ]
  },
  {
   "cell_type": "code",
   "execution_count": 131,
   "metadata": {},
   "outputs": [
    {
     "data": {
      "text/plain": [
       "True"
      ]
     },
     "execution_count": 131,
     "metadata": {},
     "output_type": "execute_result"
    }
   ],
   "source": [
    "check_for_a_to_e('kbd')"
   ]
  },
  {
   "cell_type": "code",
   "execution_count": 136,
   "metadata": {},
   "outputs": [
    {
     "name": "stdout",
     "output_type": "stream",
     "text": [
      "The most common letter is e with 33 occurrences\n"
     ]
    }
   ],
   "source": [
    "    source = \"\"\"\n",
    "    peter piper picked a peck of pickled peppers;\n",
    "    a peck of pickled peppers peter picked;\n",
    "    if peter piper picked a peck of pickled peppers,\n",
    "    where's the peck of pickled peppers peter picked?\n",
    "    \"\"\"\n",
    "    freq_table = {}\n",
    "    for character in source:\n",
    "        freq_table[character] = freq_table.get(character, 0) + 1        \n",
    "    letter, most = None, 0\n",
    "    for character, count in freq_table.items():\n",
    "        if count > most:\n",
    "            letter, most = character, count\n",
    "    print(f\"The most common letter is {letter} with {most} occurrences\")"
   ]
  },
  {
   "cell_type": "code",
   "execution_count": 149,
   "metadata": {},
   "outputs": [],
   "source": [
    "    def extract(s: str, start: int, stop: int) -> str:\n",
    "        if 0 <= start <= stop <= len(s):\n",
    "            return s[start: stop]\n",
    "        else:\n",
    "            raise ValueError('Invalid substring size requested')"
   ]
  },
  {
   "cell_type": "code",
   "execution_count": 150,
   "metadata": {},
   "outputs": [
    {
     "data": {
      "text/plain": [
       "'irt'"
      ]
     },
     "execution_count": 150,
     "metadata": {},
     "output_type": "execute_result"
    }
   ],
   "source": [
    "extract('birthday', 1, 4)"
   ]
  },
  {
   "cell_type": "code",
   "execution_count": 151,
   "metadata": {},
   "outputs": [
    {
     "data": {
      "text/plain": [
       "'ron'"
      ]
     },
     "execution_count": 151,
     "metadata": {},
     "output_type": "execute_result"
    }
   ],
   "source": [
    "extract('toronto', 2, 5)"
   ]
  },
  {
   "cell_type": "code",
   "execution_count": 148,
   "metadata": {},
   "outputs": [
    {
     "data": {
      "text/plain": [
       "'01234'"
      ]
     },
     "execution_count": 148,
     "metadata": {},
     "output_type": "execute_result"
    }
   ],
   "source": [
    "'01234'[0:5]"
   ]
  },
  {
   "cell_type": "code",
   "execution_count": 154,
   "metadata": {},
   "outputs": [
    {
     "name": "stdout",
     "output_type": "stream",
     "text": [
      "{'\\n': 5, 'p': 32, 'e': 33, 't': 5, 'r': 11, ' ': 28, 'i': 11, 'c': 12, 'k': 12, 'd': 8, 'a': 3, 'o': 4, 'f': 5, 'l': 4, 's': 5, ';': 2, ',': 1, 'w': 1, 'h': 2, \"'\": 1, '?': 1}\n",
      "The most common letter is e with 33 occurrences\n"
     ]
    }
   ],
   "source": [
    "s = \"\"\"\n",
    "peter piper picked a peck of pickled peppers;\n",
    "a peck of pickled peppers peter picked;\n",
    "if peter piper picked a peck of pickled peppers,\n",
    "where's the peck of pickled peppers peter picked?\n",
    "\"\"\"\n",
    "x = {}\n",
    "for c in s:\n",
    "    if c not in x:\n",
    "        x[c] = 0\n",
    "    x[c] += 1\n",
    "print(x)\n",
    "\n",
    "keySet = list(x)  # .keys() not needed, and keySet is a bad name as it is a list\n",
    "HighestValKey = keySet[0]\n",
    "for char in keySet:\n",
    "    if x[char] > x[HighestValKey]:\n",
    "        HighestValKey = char  # you overwrote keySet here\n",
    "print(\"The most common letter is\", HighestValKey, \"with\", x[HighestValKey], \"occurrences\")"
   ]
  },
  {
   "cell_type": "code",
   "execution_count": 161,
   "metadata": {},
   "outputs": [
    {
     "name": "stdout",
     "output_type": "stream",
     "text": [
      "blah blah blah\n",
      "Enter (I)nstructions, (P)lay round, (Q)uit: q\n"
     ]
    }
   ],
   "source": [
    "    def instructions():\n",
    "        print('blah blah blah')\n",
    "\n",
    "    def game():\n",
    "        print('Playing ...')\n",
    "\n",
    "    MENU = {'I':('nstructions', instructions),\n",
    "            'P':('lay round', game),\n",
    "            'Q': ('uit', None)}\n",
    "\n",
    "    menu_display = [f'({key}){remainder}' for key, (remainder, _ ) in MENU.items()]\n",
    "    menu_option = instructions\n",
    "\n",
    "    while menu_option:\n",
    "        menu_option()\n",
    "        while True:\n",
    "            menu_choice = input(f\"Option {', '.join(menu_display)}: \").upper()\n",
    "            if menu_choice in MENU:\n",
    "                menu_option = MENU[menu_choice][1]\n",
    "                break\n",
    "            print('Not an available option')"
   ]
  }
 ],
 "metadata": {
  "kernelspec": {
   "display_name": "Python 3",
   "language": "python",
   "name": "python3"
  },
  "language_info": {
   "codemirror_mode": {
    "name": "ipython",
    "version": 3
   },
   "file_extension": ".py",
   "mimetype": "text/x-python",
   "name": "python",
   "nbconvert_exporter": "python",
   "pygments_lexer": "ipython3",
   "version": "3.7.4"
  }
 },
 "nbformat": 4,
 "nbformat_minor": 2
}
