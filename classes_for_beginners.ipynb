{
 "cells": [
  {
   "cell_type": "code",
   "execution_count": null,
   "metadata": {},
   "outputs": [],
   "source": [
    "class Room():\n",
    "    \n",
    "    def __init__(self, name, width, length, height):\n",
    "        self.name = name\n",
    "        self.width = width\n",
    "        self.length = length\n",
    "        self.height = height\n",
    "        \n",
    "    @staticmethod\n",
    "    def m_to_ft(m):\n",
    "        return m * 3.28084\n",
    "    \n",
    "    @property\n",
    "    def width_ft(self):\n",
    "        return Room.m_to_ft(self.width)\n",
    "\n",
    "lounge = Room('Lounge', 1.5, 2.5, 1.6)\n",
    "print(lounge.width, lounge.width_ft)\n",
    "\n",
    "window = 2, 1\n",
    "\n",
    "print(Room.m_to_ft(window[0]), Room.m_to_ft(window[1]))"
   ]
  }
 ],
 "metadata": {
  "kernelspec": {
   "display_name": "Python 3",
   "language": "python",
   "name": "python3"
  },
  "language_info": {
   "codemirror_mode": {
    "name": "ipython",
    "version": 3
   },
   "file_extension": ".py",
   "mimetype": "text/x-python",
   "name": "python",
   "nbconvert_exporter": "python",
   "pygments_lexer": "ipython3",
   "version": "3.7.0"
  }
 },
 "nbformat": 4,
 "nbformat_minor": 2
}
