{
 "cells": [
  {
   "cell_type": "markdown",
   "metadata": {},
   "source": [
    "# Python classes for beginners\n",
    "\n",
    "**&copy; Stuart Moore, June 2018 - reuse under CC BY 4.0**\n",
    "\n",
    "*originally written for a Python programming group on Facebook in response to someone having problems understanding classes*\n",
    "\n",
    "A lot of beginners struggle to get their heads around classes in Python, but they are a very important part of object orientated programming.\n",
    "\n",
    "For community classes (no pun intended)  I teach, I usually describe classes as the programming equivalent of moulds used in factories as a template for making lots of things that are identical.\n",
    "\n",
    "Imagine pouring molten iron into a mould to make a simple iron pot.\n",
    "\n",
    "![pouring melted iron](https://upload.wikimedia.org/wikipedia/commons/thumb/8/8d/Iron_-melting.JPG/208px-Iron_-melting.JPG \"pouring melted iron\")\n",
    "\n",
    "\n",
    "You might produce a set of instructions to be supplied with the pots that tell the owner how to cook using the pot, how to care for it, etc. The same instructions apply to every pot BUT what owners actually do is entirely up to them. Some might make soup, another person a stew, etc.\n",
    "\n",
    "In Python, a class defines the basic characteristics of a *possible* object and some *methods* that come with it. Methods are like functions, but apply to things made using a class.\n",
    "\n",
    "When we want create a Python object using a class, we call it *creating an instance of a class*.\n",
    " \n",
    "If you have a class called `Room`, you would create instances like this:\n",
    "\n",
    "    lounge = Room()\n",
    "    kitchen = Room()\n",
    "    hall = Room()\n",
    "\n",
    "As you typically want to store the main dimensions (height, length, width) of a room, whatever it is used for, it makes sense to define those when the instance is created.\n",
    "\n",
    "You would therefore have a method called `__init__` that accepts height, length, width and when you create an instance of Room you would provide that information:\n",
    "\n",
    "    lounge = Room(1300, 4000, 2000)"
   ]
  },
  {
   "cell_type": "markdown",
   "metadata": {},
   "source": [
    "The `__init__` method is called automatically when you create an instance. It is short for initialise (intialize).\n",
    "\n",
    "You can reference the information using `lounge.height`, `lounge.width`, and so on. These are attributes of the lounge instance. (Some class definitions allow you to set the attributes directly, e.g. `lounge.colour = 'red'`, but sometimes it is preferable to make sure all changes go through methods defined in the class.)\n",
    "\n",
    "I've assumed measurements will be provided in mm but a method can be included that converts between mm and ft. Thus, I could say something like lounge.height_in_ft().\n",
    "\n",
    "Methods in classes are usually defined with a first parameter of `self`:\n",
    "\n",
    "    def __init__(self, height, length, width):\n",
    "    def height_in_ft(self):\n",
    "\n",
    "The self is a shorthand way of referring to an instance. \n",
    "\n",
    "When you use `lounge.height_in_ft()` the method knows that any reference to `self` means the lounge instance, so `self.height` means `lounge.height` but you don't have to write the code for each individual instance. Thus `kitchen.height_in_ft()` and `bathroom.height_in_ft()` use the same method, but you don't have to pass the height of the instance as an argument because the method can reference it using `self.height`.\n",
    "\n",
    "## EXAMPLE Room class"
   ]
  },
  {
   "cell_type": "code",
   "execution_count": 11,
   "metadata": {},
   "outputs": [
    {
     "name": "stdout",
     "output_type": "stream",
     "text": [
      "Lounge: height 1300mm x length 4000mm x width 2000mm\n",
      "Snug: height 1300mm x length 2500mm x width 2000mm\n",
      "Lounge: length in feet: 4.26509187\n",
      "Snug wall area: 11700000 in sq.mm., 125.94 in sq.ft.\n"
     ]
    }
   ],
   "source": [
    "''' CLASSES for beginners - simple example '''\n",
    " \n",
    "class Room():\n",
    "    def __init__(self, name, height, length, width):\n",
    "        self.name = name\n",
    "        self.height = height\n",
    "        self.length = length\n",
    "        self.width = width\n",
    " \n",
    "    @staticmethod\n",
    "    def mm_to_ft(mm):\n",
    "        return mm * 0.0032808399\n",
    " \n",
    "    @staticmethod\n",
    "    def sqmm_to_sqft(sqmm):\n",
    "        return sqmm * 1.07639e-5\n",
    " \n",
    "    def height_in_ft(self):\n",
    "        return Room.mm_to_ft(self.height)\n",
    " \n",
    "    def width_in_ft(self):\n",
    "        return Room.mm_to_ft(self.width)\n",
    " \n",
    "    def length_in_ft(self):\n",
    "        return Room.mm_to_ft(self.length)\n",
    " \n",
    "    def wall_area(self):\n",
    "        return self.length * 2 * self.height \\\n",
    "                + self.width * 2 * self.height\n",
    " \n",
    " \n",
    "lounge = Room('Lounge', 1300, 4000, 2000)\n",
    "snug = Room('Snug', 1300, 2500, 2000)\n",
    "\n",
    "print(f'{lounge.name}: height {lounge.height}mm x '\n",
    "      f'length {lounge.length}mm x width {lounge.width}mm')\n",
    "print(f'{snug.name}: height {snug.height}mm x '\n",
    "      f'length {snug.length}mm x width {snug.width}mm') \n",
    "print(f'{lounge.name}: length in feet: {lounge.height_in_ft()}')\n",
    "print(f'{snug.name} wall area: {snug.wall_area()} in sq.mm., '\n",
    "      f'{snug.sqmm_to_sqft(snug.wall_area()):.2f} in sq.ft.')"
   ]
  },
  {
   "cell_type": "markdown",
   "metadata": {},
   "source": [
    "# Note\n",
    "\n",
    "A method definition that is preceded by the command, `@staticmethod` (a *decorator*) is really just a function that does not include the self reference to the calling instance. It is included in a class definition for convenience and can be called by reference to the class or the instance:\n",
    "\n",
    "    Room.mm_to_ft(mm)\n",
    "    lounge.mm_to_ft(mm)\n",
    "\n",
    "Another useful *decorator* is `@property`, which allows you to refer to a method as if it is an attribute. Not used in the example below, but if I put that before the `height_in_ft methods` you could say, for example, `lounge.height_in_ft` instead of `lounge.height_in_ft()`."
   ]
  },
  {
   "cell_type": "code",
   "execution_count": null,
   "metadata": {},
   "outputs": [],
   "source": []
  }
 ],
 "metadata": {
  "kernelspec": {
   "display_name": "Python 3",
   "language": "python",
   "name": "python3"
  },
  "language_info": {
   "codemirror_mode": {
    "name": "ipython",
    "version": 3
   },
   "file_extension": ".py",
   "mimetype": "text/x-python",
   "name": "python",
   "nbconvert_exporter": "python",
   "pygments_lexer": "ipython3",
   "version": "3.7.0b3"
  }
 },
 "nbformat": 4,
 "nbformat_minor": 2
}
