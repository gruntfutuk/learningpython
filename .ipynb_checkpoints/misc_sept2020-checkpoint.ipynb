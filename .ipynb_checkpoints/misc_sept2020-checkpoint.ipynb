{
 "cells": [
  {
   "cell_type": "code",
   "execution_count": null,
   "metadata": {},
   "outputs": [],
   "source": [
    "def check_type(source:str):\n",
    "....# assuming source is assigned to the string entered by user\n",
    "....value = None\n",
    "....try:\n",
    "........value = float(source) # raises exception if not a float\n",
    "........value = int(source) # raises exception if not a int\n",
    "....except ValueError:\n",
    "........if value is None: # float failed, so must be a string\n",
    "............value = source\n",
    "....return type(value) # so value will be assigned either int, float, or str\n",
    "\n",
    "tests = '', '1', '-2', '-1.3', '  5.6 ', '.45', '-.45', '-.45f'\n",
    "\n",
    "for test in tests:\n",
    "....print(f'{test:6}: {check_type(test)}')"
   ]
  },
  {
   "cell_type": "code",
   "execution_count": null,
   "metadata": {},
   "outputs": [],
   "source": [
    "s = 'Python'\n",
    "s_sorted = sorted(s, key=lambda s: s.casefold())\n",
    "print(\"\".join(s_sorted))"
   ]
  },
  {
   "cell_type": "code",
   "execution_count": null,
   "metadata": {},
   "outputs": [],
   "source": [
    "def get_num(msg='Enter whole number: ', low=None, high=None):\n",
    "....while True:\n",
    "........response = input(msg)\n",
    "........try:\n",
    "............num = int(response)\n",
    "........except ValueError as err:\n",
    "............print('Not a number')\n",
    "........else:\n",
    "............if low is not None and num < low:\n",
    "................print('Number to low')\n",
    "............elif high is not None and num > high:\n",
    "................print('Number too high')\n",
    "............else:\n",
    "................return num........  "
   ]
  },
  {
   "cell_type": "code",
   "execution_count": null,
   "metadata": {},
   "outputs": [],
   "source": [
    "\"\"\" Example dictionary based menu system\"\"\"\n",
    "\n",
    "from collections import namedtuple  # to refer to dictionary values easily\n",
    "\n",
    "def menu_option(menu):\n",
    "....header = \"\\nMenu\\n\"\n",
    "....__data__ = menu.get('__data__')\n",
    "....if __data__:\n",
    "........header = __data__.get('header', header)\n",
    "....print(header)\n",
    "....for option, details in menu.items():\n",
    "........if not option == \"__data__\":\n",
    "............print(f'{option}:  {details.desc}')\n",
    "....print('\\n')\n",
    "....while True:\n",
    "........option = input('Option? ').strip().lower()\n",
    "........if option in menu and option != \"__data__\":\n",
    "............return menu[option]\n",
    "........print('Sorry, that option is not available')\n",
    "\n",
    "# function for each menu option except quit/exit where None is assigned\n",
    "def option_1():\n",
    "....print('option_1')\n",
    "\n",
    "def option_2():\n",
    "....print('option_2')\n",
    "\n",
    "def option_3():\n",
    "....print('option_3')\n",
    "\n",
    "def option_2_1():\n",
    "....print('option_2_1')\n",
    "\n",
    "def option_2_2():\n",
    "....print('option_2_1')\n",
    "........\n",
    "........\n",
    "Menu = namedtuple('Menu', 'desc misc func')  # menu entries have three values, {<key>: (<desc>, <misc>, <func>)}\n",
    "............................................ # can add whatever addition fields are required\n",
    "............................................ # I used <func> to be the reference to the function to be called for\n",
    "............................................ # the correspnding option\n",
    "\n",
    "menu1 = {\"1\": Menu(\"option 1\", \"misc\", option_1),\n",
    "........ \"2\": Menu(\"option 2\", \"misc\", option_2),\n",
    "........ \"3\": Menu('option 3', \"misc\", option_3),\n",
    "........ \"q\": Menu(\"quit\", \"\", None),\n",
    "........ \"__data__\": {\"header\": \"\\nExample top level menu\\n\"},\n",
    "........   }\n",
    "menu2 = {\"1\": Menu(\"option 2.1\", \"misc\", option_2_1),\n",
    "........ \"2\": Menu(\"option 2.2\", \"misc\", option_2_2),\n",
    "........ \"q\": Menu(\"exit\", \"\", None),\n",
    "........ \"__data__\":  {\"header\": \"\\nExample second level menu\\n\"},\n",
    "........}\n",
    "\n",
    "# example use\n",
    "while True:\n",
    "....menu1_choice = menu_option(menu1)\n",
    "....if not menu1_choice.func:\n",
    "........break\n",
    "....menu1_choice.func()"
   ]
  },
  {
   "cell_type": "code",
   "execution_count": null,
   "metadata": {},
   "outputs": [],
   "source": [
    "# rock paper scissors Spock lizard game, rules follow:\n",
    "'''\n",
    "scissors cuts paper\n",
    "paper covers rock\n",
    "rock crushes lizard\n",
    "lizard poisons Spock\n",
    "Spock smashes scissors\n",
    "scissors decapitates lizard\n",
    "lizard eats paper\n",
    "paper disproves Spock\n",
    "Spock vaporizes rock\n",
    "rock crushes scissors\n",
    "'''\n",
    "\n",
    "from random import choice\n",
    "\n",
    "RULES = list(map(str.split, __doc__.lower().strip().split('\\n')))\n",
    "\n",
    "OPTIONS = ({winner for winner, verb, loser in RULES}\n",
    "        | {loser for winner, verb, loser in RULES})\n",
    "\n",
    "PROMPT = f\"Make your choice from: {', '.join(sorted(OPTIONS))} \\n \" \\\n",
    "            f\"(or press return alone to exit)\\n\" \\\n",
    "            f\" choice: \"\n",
    "\n",
    "def check(playera, playerb, rules=None):\n",
    "    if rules is None:\n",
    "        rules = RULES\n",
    "    for rule in rules:\n",
    "        winner, verb, loser = rule\n",
    "        if (playera, playerb) == (winner, loser):\n",
    "            return playera, ' '.join(rule)\n",
    "        if (playerb, playera) == (winner, loser):\n",
    "            return playerb, ' '.join(rule)\n",
    "\n",
    "print('\\n\\nWelcome to the game of rock paper scissors Spock lizard\\n\\nThe rules are:\\n')\n",
    "print(__doc__)\n",
    "print()\n",
    "while True:\n",
    "    while True:\n",
    "        player = input(PROMPT).lower()\n",
    "        if not player or player in OPTIONS:\n",
    "            break\n",
    "    if not player:\n",
    "        break\n",
    "    computer = choice(list(OPTIONS))    \n",
    "    try:\n",
    "        winner, rule = check(player, computer)\n",
    "        result = 'You WIN!' if player == winner else 'You Lose!'\n",
    "    except TypeError as e:\n",
    "        result, rule = \"TIED\", 'matched'\n",
    "    print(f'{player} v. {computer} -> {result} \\t{rule}')\n",
    "    print()"
   ]
  },
  {
   "cell_type": "code",
   "execution_count": null,
   "metadata": {},
   "outputs": [],
   "source": [
    "import csv\n",
    "with open('csvtest.csv') as animals:\n",
    "....contents = csv.reader(animals)\n",
    "....for row in contents:\n",
    "........if row[6] == \"\":\n",
    "............print(row)\n"
   ]
  },
  {
   "cell_type": "code",
   "execution_count": null,
   "metadata": {},
   "outputs": [],
   "source": [
    "['IDCJAC0009', '009021', '1944', '01', '01', '', '', ''], ['IDCJAC0009', '009021', '1944', '01', '02', '', '', ''], ['IDCJAC0009', '009021', '1944', '01', '03', '', '', ''], ['IDCJAC0009', '009021', '1944', '01', '04', '', '', ''] "
   ]
  },
  {
   "cell_type": "code",
   "execution_count": null,
   "metadata": {},
   "outputs": [],
   "source": [
    "data = (1, 12, -3.14, 5, 8, 3, 5, 21, 2, 34, 55, 1,)\n",
    "print(*[num for num in data if num < 5], sep=\", \")"
   ]
  },
  {
   "cell_type": "code",
   "execution_count": null,
   "metadata": {},
   "outputs": [],
   "source": [
    "times_table = ((f'{row * col:4}' for col in range(1, 11)) for row in range(1, 11))\n",
    "for row in times_table: print(*row)"
   ]
  },
  {
   "cell_type": "code",
   "execution_count": null,
   "metadata": {},
   "outputs": [],
   "source": [
    "lst1 = [1,1,2,3,5,8,13,21,34,55,89]\n",
    "lst2 = [1,1, 2,3,4,5,6,7,8,9,10,11,12,13]\n",
    "print(sorted(list(set(lst1).intersection(set(lst2)))))"
   ]
  },
  {
   "cell_type": "code",
   "execution_count": null,
   "metadata": {},
   "outputs": [],
   "source": [
    "from random import choice\n",
    "from itertools import cycle\n",
    "\n",
    "def get_user_choice(prompt=\"Enter option: \", options=None):\n",
    "    if options is None:\n",
    "        options = directions\n",
    "    while True:\n",
    "        option = input(prompt).strip().lower()\n",
    "        if option in options:\n",
    "            return option\n",
    "        print('That is not a valid choice.')\n",
    "        print(f'Options are: {\", \".join(option.title() for option in options)}')\n",
    "\n",
    "def report(action, user_option, computer_option, saved):\n",
    "\n",
    "    def reporting(team1, move1, team2, move2):\n",
    "        report_txt = f\"\\n{team1} team shoots to the {move1}\\n\" \\\n",
    "                f\"{team2} team goalkeeper dives to the {move2}\\n\"\n",
    "        if saved:\n",
    "            report_txt += \"SAVED!!!\\n\"\n",
    "        else:\n",
    "            report_txt += f\"GOAL !!! for {team1} team\\n\"\n",
    "        return report_txt\n",
    "\n",
    "    if action == \"Shoot\":\n",
    "        return reporting(\"User\", user_option, \"Computer\", computer_option)\n",
    "    else:\n",
    "        return reporting(\"Computer\", computer_option, \"User\", user_option)\n",
    "     \n",
    "def take_penalty_each():\n",
    "    user_goals = 0\n",
    "    computer_goals = 0\n",
    "    for _ in range(2): # loops twice, once for each team\n",
    "        user_action = next(action)\n",
    "        user_option = get_user_choice(action_prompt[user_action])\n",
    "        computer_option = choice(directions)\n",
    "        saved = (user_option, computer_option) in saves\n",
    "        outcome = report(user_action, user_option, computer_option, saved)\n",
    "        if not saved:\n",
    "            if user_action == \"Shoot\":\n",
    "                user_goals += 1\n",
    "            else:\n",
    "                computer_goals +=1\n",
    "        print(outcome)\n",
    "    return user_goals, computer_goals\n",
    "        \n",
    "def print_scores():\n",
    "    final = total_penalties == max_penalties\n",
    "    if final:\n",
    "        print('\\n\\nFINAL SCORES\\n')\n",
    "    else:\n",
    "        print('\\n\\nSCORES\\n')\n",
    "    print(f\"The score is now USER: {user_team_score} \"\n",
    "          f\"COMPUTER: {computer_team_score}\")\n",
    "    if final:\n",
    "        if user_team_score > computer_team_score:\n",
    "            print(\"Well done you won\")\n",
    "        elif user_team_score == computer_team_score:\n",
    "            print(\"A draw\")\n",
    "        else:\n",
    "            print(\"You Lose\")\n",
    "    print()\n",
    "\n",
    "\n",
    "directions = [\"left\", \"middle\", \"right\"]\n",
    "saves = ((\"right\", \"left\"), (\"middle\", \"middle\"), (\"left\", \"right\"))\n",
    "action = cycle(['Shoot', 'Keep'])\n",
    "action_prompt = {'Shoot': \"Pick your spot: \",\n",
    "                 'Keep': \"Choose dive direction: \" }\n",
    "\n",
    "total_penalties = 0\n",
    "user_team_score = 0\n",
    "computer_team_score = 0\n",
    "max_penalties = 10\n",
    "\n",
    "print(\"------WELCOME TO THE PYTHON PENALTY SHOOTOUT------\")\n",
    "print(\"The options you can choose are left,right or middle\")\n",
    "\n",
    "while total_penalties < max_penalties:\n",
    "    user_goals, computer_goals = take_penalty_each()\n",
    "    user_team_score += user_goals\n",
    "    computer_team_score += computer_goals\n",
    "    total_penalties += 2\n",
    "    print_scores()"
   ]
  },
  {
   "cell_type": "code",
   "execution_count": null,
   "metadata": {},
   "outputs": [],
   "source": [
    "from itertools import zip_longest\n",
    "\n",
    "data = 'ABC', 'ZYXW', 'EFGHI'\n",
    "for line in zip_longest(*data, fillvalue=\" \"):\n",
    "    print(*line)"
   ]
  },
  {
   "cell_type": "code",
   "execution_count": null,
   "metadata": {},
   "outputs": [],
   "source": [
    "messages = {'password1': \"message1\", 'password2': 'message2'}\n",
    "\n",
    "for _ in range(2):\n",
    "    password = input('Enter password: ').strip().lower()\n",
    "    if password not in messages:\n",
    "        break\n",
    "    print(messages[password])"
   ]
  },
  {
   "cell_type": "code",
   "execution_count": null,
   "metadata": {},
   "outputs": [],
   "source": [
    "people_age = {\"Anna\" : 70, \"Bob\" : 55, \"Carla\" : 23, \"David\" : 45, \"Elisabeth\" : 12, \"Frank\" : 37}\n",
    "all_people = {\"Anna\", \"Bob\", \"Carla\", \"David\", \"Elisabeth\", \"Frank\", \"Gisela\", \"Howard\" }\n",
    "\n",
    "for name in all_people:\n",
    "    print(f'{name}: {people_age.get(name, \"Unknown\")} years')"
   ]
  },
  {
   "cell_type": "code",
   "execution_count": null,
   "metadata": {},
   "outputs": [],
   "source": [
    "df"
   ]
  },
  {
   "cell_type": "code",
   "execution_count": null,
   "metadata": {},
   "outputs": [],
   "source": [
    "commands = 'ADD', 'SUBTRACT', 'MULTIPLY'\n",
    "\n",
    "instruction = input('Enter command and numbers (with spaces between each): ').strip().upper().split()\n",
    "if instruction[0] in commands:\n",
    "    if all(num_str.isnumeric() for num_str in instruction[1:]):\n",
    "        if instruction[0] == 'ADD':\n",
    "            answer = sum((int(num_str) for num_str in instruction[1:]))\n",
    "            print(f'Total is {answer}')"
   ]
  },
  {
   "cell_type": "code",
   "execution_count": null,
   "metadata": {},
   "outputs": [],
   "source": [
    "target = int(input('Enter an integer: '))\n",
    "for num in range((1633, 1635):  # check every number from 1 to the entered numbers\n",
    "\n",
    "    # count number of digits in i\n",
    "    temp = num\n",
    "    num_digits = 0\n",
    "    while temp > 0:\n",
    "        num_digits += 1\n",
    "        temp //= 10\n",
    "    print(f'(ndigits {num_digits})')\n",
    "    #get the sum of the computed nth power of the digits \n",
    "    total = 0\n",
    "    temp = num\n",
    "    while temp > 0:\n",
    "        digit = temp % 10\n",
    "        print(f'i {num}, digit {digit}')\n",
    "        temp //= 10\n",
    "\n",
    "        # compute nth power of current digit\n",
    "        product = 1\n",
    "        for _ in range(num_digits):\n",
    "            product *= digit\n",
    "        total += product\n",
    "\n",
    "    if total == num:\n",
    "        print(num, \"is a narcissistic number\")"
   ]
  },
  {
   "cell_type": "code",
   "execution_count": null,
   "metadata": {},
   "outputs": [],
   "source": [
    "x = int(input(\"Enter a number: \"))\n",
    "i = 0\n",
    "for i in range (1, x + 1):  # you need x + 1 to get to x\n",
    "    temp = i\n",
    "    nDigits = 0\n",
    "    while temp > 0:\n",
    "        temp = temp // 10\n",
    "        nDigits += 1\n",
    "    sum_ = 0\n",
    "    temp = i\n",
    "    while temp > 0:\n",
    "        digit = temp % 10\n",
    "        temp //= 10\n",
    "        product = 1\n",
    "        for _ in range(nDigits):\n",
    "            product = product * digit\n",
    "        sum_ +=product\n",
    "    if i == sum_:\n",
    "        print(i,\"is a narcissistic number\")"
   ]
  },
  {
   "cell_type": "code",
   "execution_count": null,
   "metadata": {},
   "outputs": [],
   "source": []
  },
  {
   "cell_type": "code",
   "execution_count": null,
   "metadata": {},
   "outputs": [],
   "source": [
    "\"can you show example?\".replace('can you', 'I can')"
   ]
  },
  {
   "cell_type": "code",
   "execution_count": null,
   "metadata": {},
   "outputs": [],
   "source": [
    "import time\n",
    "import sys\n",
    "\n",
    "def delay_print(s):\n",
    "    for c in s:\n",
    "        sys.stdout.write(c)\n",
    "        sys.stdout.flush()\n",
    "        time.sleep(0.05)"
   ]
  },
  {
   "cell_type": "code",
   "execution_count": null,
   "metadata": {},
   "outputs": [],
   "source": [
    "print('''\"I don't agree\", he said''')"
   ]
  },
  {
   "cell_type": "code",
   "execution_count": 1,
   "metadata": {},
   "outputs": [
    {
     "ename": "TypeError",
     "evalue": "unsupported operand type(s) for -: 'list' and 'list'",
     "output_type": "error",
     "traceback": [
      "\u001b[0;31m---------------------------------------------------------------------------\u001b[0m",
      "\u001b[0;31mTypeError\u001b[0m                                 Traceback (most recent call last)",
      "\u001b[0;32m<ipython-input-1-547d31648c1d>\u001b[0m in \u001b[0;36m<module>\u001b[0;34m\u001b[0m\n\u001b[1;32m      7\u001b[0m \u001b[0mnums\u001b[0m \u001b[0;34m=\u001b[0m \u001b[0mnum1\u001b[0m\u001b[0;34m,\u001b[0m \u001b[0mnum2\u001b[0m\u001b[0;34m\u001b[0m\u001b[0;34m\u001b[0m\u001b[0m\n\u001b[1;32m      8\u001b[0m \u001b[0;32mfor\u001b[0m \u001b[0mnumbers\u001b[0m \u001b[0;32min\u001b[0m \u001b[0mnums\u001b[0m\u001b[0;34m:\u001b[0m\u001b[0;34m\u001b[0m\u001b[0;34m\u001b[0m\u001b[0m\n\u001b[0;32m----> 9\u001b[0;31m     \u001b[0mprint\u001b[0m\u001b[0;34m(\u001b[0m\u001b[0msubs\u001b[0m\u001b[0;34m(\u001b[0m\u001b[0mnumbers\u001b[0m\u001b[0;34m)\u001b[0m\u001b[0;34m)\u001b[0m\u001b[0;34m\u001b[0m\u001b[0;34m\u001b[0m\u001b[0m\n\u001b[0m",
      "\u001b[0;32m<ipython-input-1-547d31648c1d>\u001b[0m in \u001b[0;36msubs\u001b[0;34m(data)\u001b[0m\n\u001b[1;32m      1\u001b[0m \u001b[0;32mdef\u001b[0m \u001b[0msubs\u001b[0m\u001b[0;34m(\u001b[0m\u001b[0mdata\u001b[0m\u001b[0;34m)\u001b[0m\u001b[0;34m:\u001b[0m\u001b[0;34m\u001b[0m\u001b[0;34m\u001b[0m\u001b[0m\n\u001b[0;32m----> 2\u001b[0;31m     \u001b[0;32mreturn\u001b[0m \u001b[0;34m[\u001b[0m\u001b[0mx\u001b[0m\u001b[0;34m-\u001b[0m\u001b[0my\u001b[0m \u001b[0;32mfor\u001b[0m \u001b[0mx\u001b[0m\u001b[0;34m,\u001b[0m \u001b[0my\u001b[0m \u001b[0;32min\u001b[0m \u001b[0mzip\u001b[0m\u001b[0;34m(\u001b[0m\u001b[0mdata\u001b[0m\u001b[0;34m,\u001b[0m \u001b[0mdata\u001b[0m\u001b[0;34m[\u001b[0m\u001b[0;36m1\u001b[0m\u001b[0;34m:\u001b[0m\u001b[0;34m]\u001b[0m\u001b[0;34m)\u001b[0m\u001b[0;34m]\u001b[0m\u001b[0;34m\u001b[0m\u001b[0;34m\u001b[0m\u001b[0m\n\u001b[0m\u001b[1;32m      3\u001b[0m \u001b[0;34m\u001b[0m\u001b[0m\n\u001b[1;32m      4\u001b[0m \u001b[0mnum1\u001b[0m \u001b[0;34m=\u001b[0m \u001b[0;34m[\u001b[0m\u001b[0;36m6\u001b[0m\u001b[0;34m,\u001b[0m\u001b[0;36m9\u001b[0m\u001b[0;34m,\u001b[0m\u001b[0;36m11\u001b[0m\u001b[0;34m]\u001b[0m\u001b[0;34m,\u001b[0m\u001b[0;34m[\u001b[0m\u001b[0;36m3\u001b[0m\u001b[0;34m,\u001b[0m\u001b[0;36m4\u001b[0m\u001b[0;34m,\u001b[0m\u001b[0;36m10\u001b[0m\u001b[0;34m]\u001b[0m\u001b[0;34m,\u001b[0m\u001b[0;34m[\u001b[0m\u001b[0;36m7\u001b[0m\u001b[0;34m,\u001b[0m\u001b[0;36m8\u001b[0m\u001b[0;34m,\u001b[0m\u001b[0;36m9\u001b[0m\u001b[0;34m]\u001b[0m\u001b[0;34m,\u001b[0m\u001b[0;34m[\u001b[0m\u001b[0;36m5\u001b[0m\u001b[0;34m,\u001b[0m\u001b[0;36m7\u001b[0m\u001b[0;34m,\u001b[0m\u001b[0;36m10\u001b[0m\u001b[0;34m]\u001b[0m\u001b[0;34m,\u001b[0m\u001b[0;34m[\u001b[0m\u001b[0;36m7\u001b[0m\u001b[0;34m,\u001b[0m\u001b[0;36m9\u001b[0m\u001b[0;34m,\u001b[0m\u001b[0;36m8\u001b[0m\u001b[0;34m]\u001b[0m\u001b[0;34m\u001b[0m\u001b[0;34m\u001b[0m\u001b[0m\n\u001b[1;32m      5\u001b[0m \u001b[0mnum2\u001b[0m \u001b[0;34m=\u001b[0m \u001b[0;34m[\u001b[0m\u001b[0;36m7\u001b[0m\u001b[0;34m,\u001b[0m\u001b[0;36m9\u001b[0m\u001b[0;34m,\u001b[0m\u001b[0;36m9\u001b[0m\u001b[0;34m,\u001b[0m\u001b[0;36m10\u001b[0m\u001b[0;34m]\u001b[0m\u001b[0;34m,\u001b[0m\u001b[0;34m[\u001b[0m\u001b[0;36m5\u001b[0m\u001b[0;34m,\u001b[0m\u001b[0;36m6\u001b[0m\u001b[0;34m,\u001b[0m\u001b[0;36m10\u001b[0m\u001b[0;34m,\u001b[0m\u001b[0;36m9\u001b[0m\u001b[0;34m]\u001b[0m\u001b[0;34m,\u001b[0m\u001b[0;34m[\u001b[0m\u001b[0;36m5\u001b[0m\u001b[0;34m,\u001b[0m\u001b[0;36m5\u001b[0m\u001b[0;34m,\u001b[0m\u001b[0;36m9\u001b[0m\u001b[0;34m,\u001b[0m\u001b[0;36m9\u001b[0m\u001b[0;34m]\u001b[0m\u001b[0;34m,\u001b[0m\u001b[0;34m[\u001b[0m\u001b[0;36m6\u001b[0m\u001b[0;34m,\u001b[0m\u001b[0;36m7\u001b[0m\u001b[0;34m,\u001b[0m\u001b[0;36m8\u001b[0m\u001b[0;34m,\u001b[0m\u001b[0;36m9\u001b[0m\u001b[0;34m]\u001b[0m\u001b[0;34m\u001b[0m\u001b[0;34m\u001b[0m\u001b[0m\n",
      "\u001b[0;32m<ipython-input-1-547d31648c1d>\u001b[0m in \u001b[0;36m<listcomp>\u001b[0;34m(.0)\u001b[0m\n\u001b[1;32m      1\u001b[0m \u001b[0;32mdef\u001b[0m \u001b[0msubs\u001b[0m\u001b[0;34m(\u001b[0m\u001b[0mdata\u001b[0m\u001b[0;34m)\u001b[0m\u001b[0;34m:\u001b[0m\u001b[0;34m\u001b[0m\u001b[0;34m\u001b[0m\u001b[0m\n\u001b[0;32m----> 2\u001b[0;31m     \u001b[0;32mreturn\u001b[0m \u001b[0;34m[\u001b[0m\u001b[0mx\u001b[0m\u001b[0;34m-\u001b[0m\u001b[0my\u001b[0m \u001b[0;32mfor\u001b[0m \u001b[0mx\u001b[0m\u001b[0;34m,\u001b[0m \u001b[0my\u001b[0m \u001b[0;32min\u001b[0m \u001b[0mzip\u001b[0m\u001b[0;34m(\u001b[0m\u001b[0mdata\u001b[0m\u001b[0;34m,\u001b[0m \u001b[0mdata\u001b[0m\u001b[0;34m[\u001b[0m\u001b[0;36m1\u001b[0m\u001b[0;34m:\u001b[0m\u001b[0;34m]\u001b[0m\u001b[0;34m)\u001b[0m\u001b[0;34m]\u001b[0m\u001b[0;34m\u001b[0m\u001b[0;34m\u001b[0m\u001b[0m\n\u001b[0m\u001b[1;32m      3\u001b[0m \u001b[0;34m\u001b[0m\u001b[0m\n\u001b[1;32m      4\u001b[0m \u001b[0mnum1\u001b[0m \u001b[0;34m=\u001b[0m \u001b[0;34m[\u001b[0m\u001b[0;36m6\u001b[0m\u001b[0;34m,\u001b[0m\u001b[0;36m9\u001b[0m\u001b[0;34m,\u001b[0m\u001b[0;36m11\u001b[0m\u001b[0;34m]\u001b[0m\u001b[0;34m,\u001b[0m\u001b[0;34m[\u001b[0m\u001b[0;36m3\u001b[0m\u001b[0;34m,\u001b[0m\u001b[0;36m4\u001b[0m\u001b[0;34m,\u001b[0m\u001b[0;36m10\u001b[0m\u001b[0;34m]\u001b[0m\u001b[0;34m,\u001b[0m\u001b[0;34m[\u001b[0m\u001b[0;36m7\u001b[0m\u001b[0;34m,\u001b[0m\u001b[0;36m8\u001b[0m\u001b[0;34m,\u001b[0m\u001b[0;36m9\u001b[0m\u001b[0;34m]\u001b[0m\u001b[0;34m,\u001b[0m\u001b[0;34m[\u001b[0m\u001b[0;36m5\u001b[0m\u001b[0;34m,\u001b[0m\u001b[0;36m7\u001b[0m\u001b[0;34m,\u001b[0m\u001b[0;36m10\u001b[0m\u001b[0;34m]\u001b[0m\u001b[0;34m,\u001b[0m\u001b[0;34m[\u001b[0m\u001b[0;36m7\u001b[0m\u001b[0;34m,\u001b[0m\u001b[0;36m9\u001b[0m\u001b[0;34m,\u001b[0m\u001b[0;36m8\u001b[0m\u001b[0;34m]\u001b[0m\u001b[0;34m\u001b[0m\u001b[0;34m\u001b[0m\u001b[0m\n\u001b[1;32m      5\u001b[0m \u001b[0mnum2\u001b[0m \u001b[0;34m=\u001b[0m \u001b[0;34m[\u001b[0m\u001b[0;36m7\u001b[0m\u001b[0;34m,\u001b[0m\u001b[0;36m9\u001b[0m\u001b[0;34m,\u001b[0m\u001b[0;36m9\u001b[0m\u001b[0;34m,\u001b[0m\u001b[0;36m10\u001b[0m\u001b[0;34m]\u001b[0m\u001b[0;34m,\u001b[0m\u001b[0;34m[\u001b[0m\u001b[0;36m5\u001b[0m\u001b[0;34m,\u001b[0m\u001b[0;36m6\u001b[0m\u001b[0;34m,\u001b[0m\u001b[0;36m10\u001b[0m\u001b[0;34m,\u001b[0m\u001b[0;36m9\u001b[0m\u001b[0;34m]\u001b[0m\u001b[0;34m,\u001b[0m\u001b[0;34m[\u001b[0m\u001b[0;36m5\u001b[0m\u001b[0;34m,\u001b[0m\u001b[0;36m5\u001b[0m\u001b[0;34m,\u001b[0m\u001b[0;36m9\u001b[0m\u001b[0;34m,\u001b[0m\u001b[0;36m9\u001b[0m\u001b[0;34m]\u001b[0m\u001b[0;34m,\u001b[0m\u001b[0;34m[\u001b[0m\u001b[0;36m6\u001b[0m\u001b[0;34m,\u001b[0m\u001b[0;36m7\u001b[0m\u001b[0;34m,\u001b[0m\u001b[0;36m8\u001b[0m\u001b[0;34m,\u001b[0m\u001b[0;36m9\u001b[0m\u001b[0;34m]\u001b[0m\u001b[0;34m\u001b[0m\u001b[0;34m\u001b[0m\u001b[0m\n",
      "\u001b[0;31mTypeError\u001b[0m: unsupported operand type(s) for -: 'list' and 'list'"
     ]
    }
   ],
   "source": [
    "def subs(data):\n",
    "    return [x-y for x, y in zip(data, data[1:])]\n",
    "\n",
    "num1 = [6,9,11],[3,4,10],[7,8,9],[5,7,10],[7,9,8]\n",
    "num2 = [7,9,9,10],[5,6,10,9],[5,5,9,9],[6,7,8,9]\n",
    "\n",
    "nums = num1, num2\n",
    "for numbers in nums:\n",
    "    print(subs(numbers))"
   ]
  },
  {
   "cell_type": "code",
   "execution_count": 2,
   "metadata": {},
   "outputs": [
    {
     "data": {
      "text/plain": [
       "[-1, -1]"
      ]
     },
     "execution_count": 2,
     "metadata": {},
     "output_type": "execute_result"
    }
   ],
   "source": [
    "subs([1,2,3])"
   ]
  },
  {
   "cell_type": "code",
   "execution_count": null,
   "metadata": {},
   "outputs": [],
   "source": [
    "num1"
   ]
  }
 ],
 "metadata": {
  "kernelspec": {
   "display_name": "Python 3.8.2 64-bit",
   "language": "python",
   "name": "python38264bit04a3daf7468f42839eb2941c745052a1"
  },
  "language_info": {
   "codemirror_mode": {
    "name": "ipython",
    "version": 3
   },
   "file_extension": ".py",
   "mimetype": "text/x-python",
   "name": "python",
   "nbconvert_exporter": "python",
   "pygments_lexer": "ipython3",
   "version": "3.8.3rc1"
  }
 },
 "nbformat": 4,
 "nbformat_minor": 4
}
