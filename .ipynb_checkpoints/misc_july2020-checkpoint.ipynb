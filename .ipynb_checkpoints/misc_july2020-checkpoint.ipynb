{
 "cells": [
  {
   "cell_type": "code",
   "execution_count": null,
   "metadata": {},
   "outputs": [],
   "source": [
    "def nlevels(levels):\n",
    "    if levels == 0:\n",
    "        return num\n",
    "    return num * 10 ** levels + nlevels(levels-1)\n",
    "\n",
    "LEVELS = 3\n",
    "\n",
    "try:\n",
    "    num = int(input('Enter single digit > 0: '))\n",
    "    if not 0 < num < 10:\n",
    "        raise ValueError\n",
    "except ValueError:\n",
    "    print('That is not going to work. Never mind.')\n",
    "else:\n",
    "    print(sum(nlevels(levels) for levels in range(LEVELS)))"
   ]
  },
  {
   "cell_type": "markdown",
   "metadata": {},
   "source": [
    "5 + 55 + 555"
   ]
  },
  {
   "cell_type": "code",
   "execution_count": null,
   "metadata": {},
   "outputs": [],
   "source": [
    "try:\n",
    "    parking = input('Enter car park space occupancy: ').strip()\n",
    "    if parking.startswith('[') and parking.endswith(']'):\n",
    "        parking = parking[1:-1]\n",
    "    parking = [int(slot) for slot in parking.split(',')]\n",
    "    if not parking or any(slot not in [0, 1] for slot in parking):\n",
    "        raise ValueError\n",
    "except ValueError:\n",
    "    print('Sorry, not valid input')\n",
    "else:\n",
    "    slots = len(parking)\n",
    "    spaces = parking.count(0)\n",
    "    filled = slots - spaces\n",
    "    occupied_percentage = int(round(filled / slots * 100))\n",
    "    print(f'There are {slots} slots, with {filled} filled and {spaces} free. '\n",
    "          f'Occupancy percentage: {occupied_percentage}%')"
   ]
  },
  {
   "cell_type": "code",
   "execution_count": null,
   "metadata": {},
   "outputs": [],
   "source": [
    "parking"
   ]
  },
  {
   "cell_type": "code",
   "execution_count": null,
   "metadata": {},
   "outputs": [],
   "source": [
    "def get_parking():\n",
    "    while True:\n",
    "        try:\n",
    "            parking = input('Enter car park space occupancy: ').strip()\n",
    "            if parking.startswith('[') and parking.endswith(']'):\n",
    "                parking = parking[1:-1]\n",
    "            parking = [int(slot) for slot in parking.split(',')]\n",
    "            if parking and all(slot in [0, 1] for slot in parking):\n",
    "                break\n",
    "        except ValueError:\n",
    "            pass\n",
    "        print('Sorry, not valid input')     \n",
    "    return parking\n",
    "        \n",
    "def calculate_occupancy(parking):\n",
    "    slots = len(parking)\n",
    "    spaces = parking.count(0)\n",
    "    filled = slots - spaces\n",
    "    occupied_percentage = int(round(filled / slots * 100))\n",
    "    return slots, filled, spaces, occupied_percentage\n",
    "\n",
    "\n",
    "parking = get_parking()\n",
    "slots, filled, spaces, occupied_percentage = calculate_occupancy(parking)\n",
    "print(f'There are {slots} slots, with {filled} filled and {spaces} free. '\n",
    "      f'Occupancy percentage: {occupied_percentage}%')"
   ]
  },
  {
   "cell_type": "code",
   "execution_count": null,
   "metadata": {},
   "outputs": [],
   "source": [
    "def validate_parking(parking):\n",
    "    parking = parking.strip()\n",
    "    try:\n",
    "        if parking.startswith('[') and parking.endswith(']'):\n",
    "            parking = parking[1:-1]\n",
    "        parking = [int(slot) for slot in parking.split(',')]\n",
    "        if parking and all(slot in [0, 1] for slot in parking):\n",
    "            return parking\n",
    "    except ValueError:\n",
    "        return None\n",
    "        \n",
    "def calculate_occupancy(parking):\n",
    "    slots = len(parking)\n",
    "    spaces = parking.count(0)\n",
    "    filled = slots - spaces\n",
    "    occupied_percentage = int(round(filled / slots * 100))\n",
    "    return slots, filled, spaces, occupied_percentage\n",
    "\n",
    "def report(car_parks):\n",
    "    print('Car park occupancy levels\\n')\n",
    "    print(\"Park| Slots| Occpd| Vacant| % occupied \")\n",
    "    print(\"----|------|------|-------|-------------\")\n",
    "    for park, car_park in enumerate(car_parks, start=1):\n",
    "        parking = validate_parking(car_park)\n",
    "        if parking:\n",
    "            slots, filled, spaces, occupied_percentage = calculate_occupancy(parking)\n",
    "            print(f'{park:3} | {slots:4} | {filled:4} | {spaces:4}  | '\n",
    "                  f'{occupied_percentage:3}%')\n",
    "        else:\n",
    "            print(f'{park:3} | invalid data: {car_park.strip()}')\n",
    "\n",
    "def car_parks_occupancy(filename):\n",
    "    try:\n",
    "        car_parks = open(filename).readlines()\n",
    "    except IOError:\n",
    "        print(f'Unable to open data file{filename}')\n",
    "    else:\n",
    "        report(car_parks)\n",
    "                   \n",
    "car_parks_occupancy('car_parks.csv')"
   ]
  },
  {
   "cell_type": "code",
   "execution_count": null,
   "metadata": {},
   "outputs": [],
   "source": [
    "def get_num(msg, fini=True):\n",
    "....while True:\n",
    "........data = input(msg)\n",
    "........if data:\n",
    "............try:\n",
    "................return int(data)\n",
    "............except ValueError:\n",
    "................print('bad input')\n",
    "........else:\n",
    "............if fini:\n",
    "................return None\n",
    "............else:\n",
    "................print('Input required')\n",
    "\n",
    "\n",
    "lowest = highest = num = get_num('Enter a number: ', False)\n",
    "while num is not None:............  \n",
    "....if num < lowest:\n",
    "........lowest = num\n",
    "....if num > highest:\n",
    "........highest = num\n",
    "....num = get_num('Enter a number (or just return to finish): ')\n",
    "print(lowest, highest)"
   ]
  },
  {
   "cell_type": "code",
   "execution_count": null,
   "metadata": {},
   "outputs": [],
   "source": [
    "!ls *.txt"
   ]
  },
  {
   "cell_type": "code",
   "execution_count": null,
   "metadata": {},
   "outputs": [],
   "source": [
    "with open('poem.txt') as inventory:  # read only is default\n",
    "    for line in inventory:  # loops ends automatically when all lines read\n",
    "        print(line.strip())\n"
   ]
  },
  {
   "cell_type": "code",
   "execution_count": null,
   "metadata": {},
   "outputs": [],
   "source": [
    "string = \"AJABBBCCDDDGGGFFLLKKKYLMNOPQRGHPTTTTBBB\"\n",
    "SAMPLE = 5\n",
    "\n",
    "while len(string) > SAMPLE:\n",
    "    print(string[:SAMPLE], end=\", \")\n",
    "    string = string[1:]\n",
    "print(string)"
   ]
  },
  {
   "cell_type": "code",
   "execution_count": null,
   "metadata": {},
   "outputs": [],
   "source": [
    "def chunk(source, size):\n",
    "    while len(source) >= size:\n",
    "        yield source[:size]\n",
    "        source = source[1:]\n",
    "\n",
    "string = \"AJABBBCCDDDGGGFFLLKKKYLMNOPQRGHPTTTTBBB\"\n",
    "SAMPLE = 5\n",
    "\n",
    "print(*chunk(string, SAMPLE), sep=\", \")"
   ]
  },
  {
   "cell_type": "code",
   "execution_count": null,
   "metadata": {},
   "outputs": [],
   "source": [
    "from datetime import datetime\n",
    "\n",
    "print(datetime.strptime('July 09, 2020','%B %d, %Y'))"
   ]
  },
  {
   "cell_type": "code",
   "execution_count": null,
   "metadata": {},
   "outputs": [],
   "source": [
    "\n",
    "name = int(input('prompt: '))"
   ]
  },
  {
   "cell_type": "code",
   "execution_count": null,
   "metadata": {},
   "outputs": [],
   "source": [
    "del input"
   ]
  },
  {
   "cell_type": "markdown",
   "metadata": {},
   "source": [
    "# Homework 3, part 1"
   ]
  },
  {
   "cell_type": "markdown",
   "metadata": {},
   "source": [
    "# Problem 1 - Lists,  split() function\n",
    "\n",
    "* You can create a list by simply surrounding a collection of comma separated objects with [ ], e.g.:\n",
    "    * `ages = [34, 22, 14]`, `names = ['Fred', 'Sarah', 'John']`\n",
    "        * the lists can contain different types of objects\n",
    "        * you assign the list object to a variable (which will keep a reference to where the list object resides in memory) so you can work on the list\n",
    " * You can define an empty list and assign the list object to a variable thus, e.g. `mylist = []`\n",
    " * You can add objects to the end of a list using the append method, e.g. `mylist.append[34]`\n",
    " * You can iterate through a list using a for loop:\n",
    " \n",
    "```\n",
    "    for age in ages:  # age will be assigned to reference each object in turn in ages\n",
    "        print(age)\n",
    "```\n",
    " \n",
    "* You can split a string into a list of strings using the `str.split()` method, e.g.:\n",
    "    * `'Hello Mary'.split()` will return a list object: `['Hello', 'Mary']`\n",
    "        * By default, `split()` does so on white space, you can specify alternatives by including a `str` object as an argument\n",
    " \n",
    "\n",
    " * To solve the problem:\n",
    "     * Create a `list` of movies assigned to a variable of your choice\n",
    "     * Create a new empty `list` assigned to a variable of your choice\n",
    "     * Iterate through the first `list` using a `for` loop\n",
    "     * For each assigned object (a `str`) in the loop,\n",
    "         * Create a new `list` by splitting the `str` object\n",
    "         * Append the first object in the new `list` to the second list your created\n",
    "     "
   ]
  },
  {
   "cell_type": "markdown",
   "metadata": {},
   "source": [
    "# Problem 2 - Lists, if condition\n",
    "\n",
    "*This is a poorly worded problem statement*\n",
    "\n",
    "* `if` statements take the form `if <condition>:` followed by an indented block of code of one or more lines that will be executed if the <condition> evaluates to `True`\n",
    "     * **note** the <> symbols used around `<condition>` in the above are not part of the condition but just a convention to show something that should be substituted\n",
    "    * A `<condition>` can be a simple expression like `4 < 10` using literal numbers, or more useful `age < max_child_age`\n",
    "* The length of `str` can be checked using the `len` function, e.g. `len('Hello')` will return `5`"
   ]
  },
  {
   "cell_type": "code",
   "execution_count": null,
   "metadata": {},
   "outputs": [],
   "source": [
    "def display_menu(menu):  # well, display the menu nicely\n",
    "    print('\\n\\nCalculator\\n')  # a banner / title first\n",
    "    for option, (desc, _) in menu.items():  # loop through menu entries\n",
    "        print(f'{option} {desc}')  # use f-string to print the menu option and the decription\n",
    "\n",
    "def get_menu_choice(menu):  # function to ask user to make a menu choice\n",
    "    display_menu(menu)  # firstly, display the menu\n",
    "    while True:  # this loop will make sure user makes a valid choice\n",
    "        option = input('Enter option: ')  # get the input from the user\n",
    "        if option in menu:  # if the user choice something in the list of menu keys,\n",
    "              return option  # return that option (key); this exits the function (and while loop)\n",
    "        print('Not a valid option, please try again')  # otherwise, error, got around again\n",
    "              \n",
    "def add():  # this is where code that will add to two numbers should be\n",
    "    print('this would do addition')\n",
    "\n",
    "def sub():  #this is where code that will subtract one numbers from another should be\n",
    "    print('this would do subtraction')\n",
    "\n",
    "# menu references a dictionary where, each menu option is\n",
    "# a key, e.g. 1, 2, ...7\n",
    "# and the corresponding value for each key is a tuple of two:\n",
    "# firstly, the name of the menu option, secondly the name of the function\n",
    "# that can be used to carry out that menu option (or None if no function)\n",
    "menu = {\"1\": (\"addition\", add),\n",
    "        \"2\": (\"substraction\", sub),  # etc\n",
    "        \"7\": (\"exit\", None),\n",
    "       }\n",
    "              \n",
    "while True:  # keep going until user chooses exit option\n",
    "    option = get_menu_choice(menu)  # get a valid menu option\n",
    "    _, operation = menu[option]  # get the value from dictionary corresponding to option\n",
    "                                 # don't need the description now, just the function name\n",
    "    if operation is None:  # if there was no function, just None, user choce exit\n",
    "              break  # break out of the while loop, we are finished here\n",
    "    operation()  # calls the selection operation function (add, subtract, etc)"
   ]
  },
  {
   "cell_type": "code",
   "execution_count": null,
   "metadata": {},
   "outputs": [],
   "source": [
    "def calculateAge(self,birthDate):\n",
    "    dob_list = birthDate.split('-')\n",
    "    today = date.today()\n",
    "    age_year = today.year - int(dob_list[0])\n",
    "    #print(age_year)\n",
    "    if age_year > 18:\n",
    "        return True\n",
    "    elif age_year < 18:\n",
    "        return False\n",
    "    elif age_year == 18:\n",
    "        if today.month < int(dob_list[1]):\n",
    "            return False\n",
    "        elif today.month > int(dob_list[1]):\n",
    "            return True\n",
    "        elif today.month == int(dob_list[1]):\n",
    "            if today.day == int(dob_list[2]):\n",
    "                return True\n",
    "            elif today.day > int(dob_list[2]):\n",
    "                return True\n",
    "            else:\n",
    "                return False"
   ]
  },
  {
   "cell_type": "code",
   "execution_count": null,
   "metadata": {},
   "outputs": [],
   "source": [
    "from datetime import datetime\n",
    "\n",
    "class Datestuff:  # dummy class\n",
    "    \n",
    "    isleap = lambda year: year % 4 == 0 and (year % 100 != 0 or year % 400 == 0)\n",
    "    \n",
    "    @staticmethod\n",
    "    def age_check(birth_date:str, cutoff_year:int=18) -> int:\n",
    "        \"\"\"return whole age of person given string date yyyy-mm-dd\"\"\"\n",
    "        try:\n",
    "            year, month, day = [int(numstr) for numstr in birth_date.split(\"-\")]\n",
    "        except ValueError:\n",
    "            raise ValueError(f'{birth_date} in not in required yyyy-mm-dd format')  # pass up the chain\n",
    "        \n",
    "        # further validations\n",
    "        if not 1910 <= year <= datetime.now().date().year:\n",
    "            raise ValueError(f'Someone born in {year} is not alive today')\n",
    "        if not 1 <= month <= 12:\n",
    "            raise ValueError(f'{month} is not a valid month number')\n",
    "        if not 1 <= day <= 31:\n",
    "            raise ValueError(f'{day} is not a valid day number')\n",
    "        if month == 2 and day == 29 and not isleap(year):\n",
    "            raise ValueError(f'invalid date - {year} is not a leap year')\n",
    "        if (day > 29 if month == 2 else 31) and month not in [1, 3, 5,7,8,10,12]:\n",
    "            raise ValueError(f'invalid date - not {day} days in month {month}')\n",
    "                \n",
    "        today = datetime.now().date()\n",
    "\n",
    "        age = 0\n",
    "        if today.year > year:\n",
    "            age = today.year - year\n",
    "            if today.month < month or (today.month == month and today.day < day):\n",
    "                age -= 1\n",
    "\n",
    "        return age\n",
    "    \n",
    "    @classmethod\n",
    "    def is_18(cls, birth_date:str) -> bool:\n",
    "        \"\"\"return if age determined from birthdate yyyy-mm-dd is >= 18 \"\"\" \n",
    "        return cls.age_check(birth_date) >= 18\n",
    "\n",
    "eg = Datestuff()\n",
    "tests = [\"1999/12/10\", \"1863-12-10\", \"1995-13-05\", \"1995-12-00\",\n",
    "         \"2019-02-29\", \"2019-02-30\", \"2016-07-29\",\n",
    "         \"2000-01-01\", \"2000-04-31\"\n",
    "        ]\n",
    "print('\\n\\nCheck for valid birthdates and return age:\\n')\n",
    "for test in tests:\n",
    "    try:\n",
    "        print(f'Born: {test}, age: {eg.age_check(test)}')\n",
    "    except ValueError as e:\n",
    "        print(f'Born: {test} - ERROR: {e}')\n",
    "\n",
    "print('\\n\\nCheck for valid birthdates and confirm if age >= 18:\\n')       \n",
    "for test in tests:\n",
    "    try:\n",
    "        print(f'Born: {test}, old enough: {\"yes\" if eg.is_18(test) else \"no\"}')\n",
    "    except ValueError as e:\n",
    "        print(f'Born: {test} - ERROR: {e}')"
   ]
  },
  {
   "cell_type": "code",
   "execution_count": null,
   "metadata": {},
   "outputs": [],
   "source": [
    "isleap = lambda year: year % 4 == 0 and (year % 100 != 0 or year % 400 == 0)"
   ]
  },
  {
   "cell_type": "code",
   "execution_count": null,
   "metadata": {},
   "outputs": [],
   "source": [
    "isleap(2020)"
   ]
  },
  {
   "cell_type": "code",
   "execution_count": null,
   "metadata": {},
   "outputs": [],
   "source": [
    "# emon pi\n",
    "\n",
    "import urllib, json\n",
    "from datetime import datetime\n",
    "\n",
    "def get_url(url):\n",
    "    operUrl = urllib.request.urlopen(url)\n",
    "    if(operUrl.getcode()==200):\n",
    "        data = operUrl.read()\n",
    "        jsonData = json.loads(data)\n",
    "    else:\n",
    "        print(\"Error receiving data\", operUrl.getcode())\n",
    "    return jsonData\n",
    "\n",
    "def make_url(op):\n",
    "    return f\"{BASE}{op}?{USERID}&{API}\"\n",
    "\n",
    "API = \"apikey=47b07d39a280c58466d5d427dec973a1\"\n",
    "BASE = \"http://emonpi.local/emoncms/feed/\"\n",
    "USERID = \"userid=1\"\n",
    "op = \"list.json\"\n",
    "START_YEAR = 2019\n",
    "START_MONTH = 1\n",
    "FINI_YEAR = 2019\n",
    "FINI_MONTH = 3\n",
    "\n",
    "url = make_url(op)\n",
    "print(f'Trying: {url}')\n",
    "data = get_url(url)\n",
    "if data:\n",
    "    for feed in data:\n",
    "        id = feed['id']\n",
    "        print(f'id: {id}')\n",
    "        year, month, day_start, day_end = 2020, 5, 1, 5\n",
    "        start = datetime(year, month, day_start).timestamp()\n",
    "        fini = datetime(year, month, day_end).timestamp()\n",
    "        # http://emonpi.local/emoncms/feed/data.json?id=0&start=UNIXTIME&end=UNIXTIME&interval=5\n",
    "        # op = \"data.json\"\n",
    "        op = \"histogram.json\"\n",
    "        feed_url = f\"{make_url(op)}&id={id}&start={start:.0f}&end={fini:.0f}&interval=5\"\n",
    "        feed_data = get_url(feed_url)\n",
    "        print(start, fini)\n",
    "        print(feed_url)\n",
    "        print(feed_data)"
   ]
  },
  {
   "cell_type": "code",
   "execution_count": null,
   "metadata": {},
   "outputs": [],
   "source": [
    "\"\"\"        for year in range(START_YEAR, FINI_YEAR + 1):\n",
    "            last_month = FINI_MONTH if year == FINI_YEAR else 12 \n",
    "            for month in range(1, last_month + 1):\"\"\""
   ]
  },
  {
   "cell_type": "code",
   "execution_count": null,
   "metadata": {},
   "outputs": [],
   "source": [
    "import time\n",
    "import datetime\n",
    "import json\n",
    "import requests\n",
    "\n",
    "from pytz import timezone\n",
    "\n",
    "\n",
    "def get_emoncms_data(FEED_ID):\n",
    "\n",
    "    TEXT_VALUES = '[nada]'\n",
    "    payload = {'userid': USER_ID, 'id': FEED_ID, 'apikey': EMONPI_APIKEY, 'start': UNIX_MILLI_START, 'end': UNIX_MILLI_END, 'interval': INTERVAL}\n",
    "\n",
    "    header = {'content-type': 'application/json'}\n",
    "    \n",
    "    try:\n",
    "        response = requests.get(\"http://emoncms.org/feed/data.json\", params=payload, headers=header)\n",
    "    except requests.exceptions.RequestException as e:\n",
    "        if DEBUG:\n",
    "            app_log.error('Feed ID: %s', FEED_ID)\n",
    "            app_log.error(e)\n",
    "\n",
    "    if response.status_code == 200:\n",
    "        \n",
    "        str_response = response.content.decode(\"utf-8\")\n",
    "  \n",
    "        if DEBUG:\n",
    "            app_log.info(str_response)\n",
    "            app_log.info(response.url)\n",
    "\n",
    "        mylist = json.loads(str_response)\n",
    "\n",
    "        READING = 0\n",
    "        COUNT = 1\n",
    "        TOTAL = 0\n",
    "        TEXT_VALUES = ''\n",
    "\n",
    "        for x in mylist: \n",
    "            READING = (x[1])\n",
    "            TOTAL = TOTAL + READING\n",
    "            COUNT += 1\n",
    "            TEXT_VALUES += f'{READING}, '\n",
    "\n",
    "        COUNT -= 1\n",
    "\n",
    "        app_log.info('Number of numbers pulled (COUNT): %s', COUNT)\n",
    "        app_log.info('Number of numbers (TOTAL): %s', TOTAL)\n",
    "\n",
    "        if COUNT != 0 or TOTAL != 0:\n",
    "            OUTPUT = (int(TOTAL/COUNT))\n",
    "        else:\n",
    "            OUTPUT = 0\n",
    "\n",
    "    else:\n",
    "        OUTPUT = 0\n",
    "\n",
    "    return (OUTPUT, TEXT_VALUES)\n",
    "\n",
    "\n",
    "\n",
    "import logging\n",
    "from logging.handlers import RotatingFileHandler\n",
    "\n",
    "log_formatter = logging.Formatter('%(asctime)s %(levelname)s %(funcName)s(%(lineno)d) %(message)s')\n",
    "logFile = 'log.txt'\n",
    "my_handler = RotatingFileHandler(logFile, mode='a', maxBytes=5*1024*1024, backupCount=2, encoding=None, delay=0)\n",
    "my_handler.setFormatter(log_formatter)\n",
    "my_handler.setLevel(logging.INFO)\n",
    "app_log = logging.getLogger('root')\n",
    "app_log.setLevel(logging.INFO)\n",
    "app_log.addHandler(my_handler)\n",
    "\n",
    "DEBUG = True\n",
    "\n",
    "# EmonCMS details\n",
    "EMONPI_APIKEY = \"47b07d39a280c58466d5d427dec973a1\"\n",
    "FEED_ID_USE = 4\n",
    "USER_ID = 1\n",
    "INTERVAL = 10\n",
    "\n",
    "UNIX_MILLI_END=int(round(time.time() * 1000))\n",
    "UNIX_MILLI_START=((UNIX_MILLI_END-300000))  # 5 mins before\n",
    "print('start', UNIX_MILLI_START)\n",
    "print('end', UNIX_MILLI_END)\n",
    "\n",
    "# Get Home Usage figure from EmonCMS API\n",
    "FEED_ID = FEED_ID_USE \n",
    "HOME_USAGE, TEXT_VALUES = get_emoncms_data(FEED_ID)\n",
    "if DEBUG:\n",
    "    app_log.info('Home Usage Raw %s', TEXT_VALUES)\n",
    "print (TEXT_VALUES)"
   ]
  },
  {
   "cell_type": "code",
   "execution_count": null,
   "metadata": {},
   "outputs": [],
   "source": [
    "!rm log.txt"
   ]
  },
  {
   "cell_type": "code",
   "execution_count": null,
   "metadata": {},
   "outputs": [],
   "source": [
    "from random import randint  # to generate a random number\n",
    "\n",
    "target = randint(1, 100)\n",
    "attempts = 0\n",
    "\n",
    "while True:  # keep going until they get the number\n",
    "....response = input('Guess: ')\n",
    "....if response.isdigit():  # make sure they entered an integer\n",
    "........attempts += 1\n",
    "........guess = int(response)\n",
    "........if guess == target:\n",
    "............break\n",
    "........if guess < target:\n",
    "............print('higher')\n",
    "........else:\n",
    "............print('lower')\n",
    "....else:\n",
    "........print('Need a number between 0 and 100')\n",
    "print(f'You guessed {guess} in {attempts} attempts')"
   ]
  },
  {
   "cell_type": "code",
   "execution_count": null,
   "metadata": {},
   "outputs": [],
   "source": [
    "secret_name = \"amy\"\n",
    "while (player_name := input('Enter your name').casefold()) != secret_name:\n",
    "    print(f'{player_name} is a loser')\n",
    "print(f'{secret_name} is a GENIUS')"
   ]
  },
  {
   "cell_type": "code",
   "execution_count": null,
   "metadata": {},
   "outputs": [],
   "source": []
  },
  {
   "cell_type": "code",
   "execution_count": null,
   "metadata": {},
   "outputs": [],
   "source": [
    "def create_matrix(source):\n",
    "    matrix = []\n",
    "    for row in source.split('\\n')[1:]:  # split string into list of strings on newline, and loop through each line\n",
    "        matrix.append(row[3:].split()) # split string from position 3 on space (default for split)\n",
    "    return matrix\n",
    "\n",
    "def print_matrix(matrix):\n",
    "    print('   ', end=\"\")\n",
    "    for idx in range(len(matrix[0])):\n",
    "        print(f'{idx: 2x} ', end=\"\")\n",
    "\n",
    "    print()\n",
    "    for idx, row in enumerate(matrix):\n",
    "        print(f'{idx * 10:0>2} ', end=\"\")\n",
    "        for cell in row:\n",
    "            print(f'{cell:>2} ', end=\"\")\n",
    "        print()\n",
    "\n",
    "def find_target(matrix, target):\n",
    "    locations = []\n",
    "    for idx_r, row in enumerate(matrix):\n",
    "       for idx_c, cell in enumerate(row):\n",
    "        if cell == target:\n",
    "            locations.append((idx_r, idx_c))\n",
    "    return locations\n",
    "\n",
    "def print_locations(locations):\n",
    "    for row, col in locations:\n",
    "        print(f'{row * 10:0>2}{col:0>2x}')\n",
    "\n",
    "ss = \"\"\"   0  1  2  3  4  5  6  7  8  9  a  b  c  d  e  f \n",
    "00 __ __ __ __ __ __ __ __ __ __ __ __ UU __ __ __ \n",
    "10 UU __ __ __ __ __ __ __ __ __ __ __ __ __ __ __ \n",
    "20 __ __ __ __ __ __ __ __ __ __ __ __ __ __ __ __ \n",
    "30 __ __ __ __ __ __ __ __ __ __ __ __ __ __ __ __ \n",
    "40 __ __ __ __ __ __ __ __ __ __ __ __ __ __ __ __ \n",
    "50 __ __ __ __ __ __ __ __ UU __ __ __ __ __ __ __ \n",
    "60 __ __ __ __ __ __ __ __ __ __ __ __ __ __ __ __ \n",
    "70 __ __ __ __ __ __ __ __ __ __ __ __ __ __ __ __ \"\"\"\n",
    "\n",
    "\n",
    "matrix = create_matrix(ss)\n",
    "print_matrix(matrix)\n",
    "locations = find_target(matrix, \"UU\")\n",
    "if locations:\n",
    "    print(\"\\nTarget UU found in locations:-\")\n",
    "    print_locations(locations)"
   ]
  },
  {
   "cell_type": "code",
   "execution_count": null,
   "metadata": {},
   "outputs": [],
   "source": [
    "locations"
   ]
  },
  {
   "cell_type": "code",
   "execution_count": null,
   "metadata": {},
   "outputs": [],
   "source": [
    "f\"{10: 2x}\""
   ]
  },
  {
   "cell_type": "code",
   "execution_count": null,
   "metadata": {},
   "outputs": [],
   "source": [
    "ss = [['__' for col in range(16)] for row in range(8)]\n",
    "ss[0][12] = 'UU'\n",
    "\n",
    "print('   ', end=\"\")\n",
    "for idx in range(len(ss[0])):\n",
    "    print(f'{idx: 2x} ', end=\"\")\n",
    "\n",
    "print()\n",
    "for idx, row in enumerate(ss):\n",
    "    print(f'{idx * 10:0>2} ', end=\"\")\n",
    "    for cell in row:\n",
    "        print(f'{cell:>2} ', end=\"\")\n",
    "    print()"
   ]
  },
  {
   "cell_type": "code",
   "execution_count": null,
   "metadata": {},
   "outputs": [],
   "source": [
    "from random import randint\n",
    "\n",
    "tries = 1\n",
    "while (num := randint(10000, 99999)) != 69420:\n",
    "    print(f'{tries:>5}: {num}')\n",
    "    tries += 1\n",
    "print(f'{tries:>5}: {num} - Success!')"
   ]
  },
  {
   "cell_type": "code",
   "execution_count": null,
   "metadata": {},
   "outputs": [],
   "source": [
    "num = int(input(\"Enter number \"))\n",
    "odd_or_even = f\"{num} is {'Odd' if num % 2 else 'Even'}\"\n",
    "print(odd_or_even)"
   ]
  },
  {
   "cell_type": "code",
   "execution_count": 10,
   "metadata": {},
   "outputs": [],
   "source": [
    "import ast, operator\n",
    "\n",
    "def calc(expression):\n",
    "    node = ast.parse(expression, mode='eval')\n",
    "\n",
    "    def _evaluate(node):\n",
    "        if isinstance(node, ast.Expression):\n",
    "            return _evaluate(node.body)\n",
    "        elif isinstance(node, ast.Str):\n",
    "            return node.expression\n",
    "        elif isinstance(node, ast.Num):\n",
    "            return node.n\n",
    "        elif isinstance(node, ast.BinOp):\n",
    "            return binary_operators[type(node.op)](_evaluate(node.left), _evaluate(node.right))\n",
    "        else:\n",
    "            raise Exception('Unsupported type {}'.format(node))\n",
    "\n",
    "    return _evaluate(node.body)\n",
    "\n",
    "binary_operators = {\n",
    "    ast.Add: operator.add,\n",
    "    ast.Sub: operator.sub,\n",
    "    ast.Mult: operator.mul,\n",
    "    ast.Div: operator.truediv,\n",
    "    ast.Mod: operator.mod\n",
    "}"
   ]
  },
  {
   "cell_type": "code",
   "execution_count": 14,
   "metadata": {},
   "outputs": [
    {
     "data": {
      "text/plain": [
       "4.5"
      ]
     },
     "execution_count": 14,
     "metadata": {},
     "output_type": "execute_result"
    }
   ],
   "source": [
    "calc('9/2')"
   ]
  },
  {
   "cell_type": "code",
   "execution_count": 15,
   "metadata": {},
   "outputs": [
    {
     "name": "stdout",
     "output_type": "stream",
     "text": [
      "['Neebum', 'Damha']\n"
     ]
    },
    {
     "data": {
      "text/plain": [
       "['Neebum', 'Damha']"
      ]
     },
     "execution_count": 15,
     "metadata": {},
     "output_type": "execute_result"
    }
   ],
   "source": [
    "def func(l, **kwargs):\n",
    "    if kwargs.get(\"reverse_str\") == True:\n",
    "        x = [name[::-1].title() for name in l]\n",
    "        print(x)\n",
    "        return x\n",
    "    else:\n",
    "        x = [name.title() for name in l]\n",
    "        print(x)\n",
    "        return x\n",
    "    \n",
    "func([\"mubeen\",\"ahmad\"],reverse_str = True)"
   ]
  },
  {
   "cell_type": "code",
   "execution_count": 23,
   "metadata": {},
   "outputs": [
    {
     "name": "stdout",
     "output_type": "stream",
     "text": [
      "['Neebum', 'Damha']\n"
     ]
    }
   ],
   "source": [
    "def name_wrangle(names, reverse_names=False):\n",
    "    reformat = lambda name: name[::-1].title() if reverse_names else name.title()\n",
    "    return [reformat(name) for name in names]\n",
    "\n",
    "print(name_wrangle([\"mubeen\",\"ahmad\"],reverse_names = True))"
   ]
  },
  {
   "cell_type": "code",
   "execution_count": 19,
   "metadata": {},
   "outputs": [
    {
     "data": {
      "text/plain": [
       "<reversed at 0x7fe16a0c5700>"
      ]
     },
     "execution_count": 19,
     "metadata": {},
     "output_type": "execute_result"
    }
   ],
   "source": [
    "reversed(\"abc\")"
   ]
  },
  {
   "cell_type": "code",
   "execution_count": 31,
   "metadata": {},
   "outputs": [
    {
     "name": "stdout",
     "output_type": "stream",
     "text": [
      "Brian is owed $234.00\n"
     ]
    }
   ],
   "source": [
    "name = \"Brian\"\n",
    "age = 27\n",
    "hourly_rate = 5.2  # multiple by 1.5 if age > 25\n",
    "hours_worked = 30\n",
    "\n",
    "print(f'{name} is owed ${hourly_rate * hours_worked * (1.5 if age > 25 else 1):.2f}')"
   ]
  },
  {
   "cell_type": "code",
   "execution_count": 26,
   "metadata": {},
   "outputs": [
    {
     "data": {
      "text/plain": [
       "156.0"
      ]
     },
     "execution_count": 26,
     "metadata": {},
     "output_type": "execute_result"
    }
   ],
   "source": [
    "5.2*30"
   ]
  },
  {
   "cell_type": "code",
   "execution_count": 27,
   "metadata": {},
   "outputs": [
    {
     "data": {
      "text/plain": [
       "234.0"
      ]
     },
     "execution_count": 27,
     "metadata": {},
     "output_type": "execute_result"
    }
   ],
   "source": [
    "5.2*30*1.5"
   ]
  },
  {
   "cell_type": "code",
   "execution_count": 32,
   "metadata": {},
   "outputs": [
    {
     "name": "stdout",
     "output_type": "stream",
     "text": [
      "<__main__.Example object at 0x7fe16a0a30a0> <__main__.Example object at 0x7fe16a0a30a0>\n"
     ]
    }
   ],
   "source": [
    "class Example:\n",
    "    pass\n",
    "\n",
    "s = Example()\n",
    "s.body=[Example()]\n",
    "s.body[0].y = 100\n",
    "prev = s.body[0]\n",
    "s.body[0].y += 25\n",
    "print(prev, s.body[0])"
   ]
  },
  {
   "cell_type": "code",
   "execution_count": null,
   "metadata": {},
   "outputs": [],
   "source": []
  },
  {
   "cell_type": "code",
   "execution_count": null,
   "metadata": {},
   "outputs": [],
   "source": []
  }
 ],
 "metadata": {
  "kernelspec": {
   "display_name": "Python 3.8.2 64-bit",
   "language": "python",
   "name": "python38264bit04a3daf7468f42839eb2941c745052a1"
  },
  "language_info": {
   "codemirror_mode": {
    "name": "ipython",
    "version": 3
   },
   "file_extension": ".py",
   "mimetype": "text/x-python",
   "name": "python",
   "nbconvert_exporter": "python",
   "pygments_lexer": "ipython3",
   "version": "3.8.3rc1"
  }
 },
 "nbformat": 4,
 "nbformat_minor": 4
}
