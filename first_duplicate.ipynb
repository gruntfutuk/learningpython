{
 "cells": [
  {
   "cell_type": "code",
   "execution_count": null,
   "metadata": {},
   "outputs": [],
   "source": [
    "def firstDuplicate(a):\n",
    "    for i in range(len(a)):\n",
    "        for l in range(i):\n",
    "            if a[i] == a[l]:\n",
    "                return a[i]\n",
    "    return -1\n",
    "\n",
    "def firstDuplicate2(data):\n",
    "    discovered = {}\n",
    "    for i in data:\n",
    "        if discovered.get(i, False) == False:\n",
    "            discovered[i] = True\n",
    "        else:\n",
    "            return i\n",
    "    return -1\n",
    "\n",
    "\n",
    "def first_duplicate(a: list):\n",
    "  checker = set()\n",
    "  res = -1\n",
    "  for elem in a:\n",
    "    before = len(checker)\n",
    "    checker.add(elem)\n",
    "    after = len(checker)\n",
    "    if after == before:\n",
    "      res = elem\n",
    "      break\n",
    "  return res\n",
    "\n",
    "def test_funcs(*funcs):\n",
    "    ''' test of supplied function to count occurences of last 2 char substring in source'''\n",
    "    tests = [([2, 1, 3, 5, 3, 2], 3),\n",
    "             ([400, 299, 170, 70, 40, 500, 60, 99, 299, 76], \n",
    "             [1, 2, 3, 4, 5, 6, 7, 8, 9, 33, 11, 23, 44, 54]]\n",
    "\n",
    "    for func in funcs:\n",
    "        print(f'\\nTesting function {func.__name__}\\n')\n",
    "        for test, assertion in tests:\n",
    "            count = func(test)\n",
    "            try:\n",
    "                assert count == assertion\n",
    "            except AssertionError:\n",
    "                print(\n",
    "                    f'*** ERROR **>> test data {test} returned a count of {count} instead of {assertion}')\n",
    "            else:\n",
    "                print(\n",
    "                    f'passed: {test[-2:]} found in {test} {count} times.')\n",
    "\n",
    "func_list = [func for name, func in globals().items() \n",
    "             if callable(func) and name[0:2] not in ('__')\n",
    "                and name[0:4] not in ('exit', 'quit', 'get_', 'test')]\n",
    "test_funcs(*func_list)"
   ]
  }
 ],
 "metadata": {
  "kernelspec": {
   "display_name": "Python 3",
   "language": "python",
   "name": "python3"
  },
  "language_info": {
   "codemirror_mode": {
    "name": "ipython",
    "version": 3
   },
   "file_extension": ".py",
   "mimetype": "text/x-python",
   "name": "python",
   "nbconvert_exporter": "python",
   "pygments_lexer": "ipython3",
   "version": "3.7.0"
  }
 },
 "nbformat": 4,
 "nbformat_minor": 2
}
