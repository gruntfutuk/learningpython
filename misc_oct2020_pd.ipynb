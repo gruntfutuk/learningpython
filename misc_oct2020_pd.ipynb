{
 "metadata": {
  "language_info": {
   "codemirror_mode": {
    "name": "ipython",
    "version": 3
   },
   "file_extension": ".py",
   "mimetype": "text/x-python",
   "name": "python",
   "nbconvert_exporter": "python",
   "pygments_lexer": "ipython3",
   "version": "3.8.5-final"
  },
  "orig_nbformat": 2,
  "kernelspec": {
   "name": "python38564bit2e744e9346c6461089744bf7aa37c452",
   "display_name": "Python 3.8.5 64-bit"
  }
 },
 "nbformat": 4,
 "nbformat_minor": 2,
 "cells": [
  {
   "cell_type": "code",
   "execution_count": 122,
   "metadata": {},
   "outputs": [],
   "source": [
    "original = [['Corinthians', '5', 'Flamengo', '1 '], ['São Paulo', '0', 'Botafogo', '2 '], ['Vasco da Gama', '4', 'Fluminense', '4 ']]\n",
    "\n",
    "names = [name for sub_original in original for name in sub_original[::2]]\n",
    "chapts = [chapt for sub_original in original for chapt in sub_original[1::2]]"
   ]
  },
  {
   "cell_type": "code",
   "execution_count": 123,
   "metadata": {},
   "outputs": [
    {
     "output_type": "execute_result",
     "data": {
      "text/plain": [
       "['Corinthians',\n",
       " 'Flamengo',\n",
       " 'São Paulo',\n",
       " 'Botafogo',\n",
       " 'Vasco da Gama',\n",
       " 'Fluminense']"
      ]
     },
     "metadata": {},
     "execution_count": 123
    }
   ],
   "source": [
    "names"
   ]
  },
  {
   "cell_type": "code",
   "execution_count": 124,
   "metadata": {},
   "outputs": [
    {
     "output_type": "execute_result",
     "data": {
      "text/plain": [
       "['5', '1 ', '0', '2 ', '4', '4 ']"
      ]
     },
     "metadata": {},
     "execution_count": 124
    }
   ],
   "source": [
    "chapts"
   ]
  },
  {
   "cell_type": "code",
   "execution_count": 125,
   "metadata": {},
   "outputs": [
    {
     "output_type": "execute_result",
     "data": {
      "text/plain": [
       "{1: 2, 3: 4, 5: 6}"
      ]
     },
     "metadata": {},
     "execution_count": 125
    }
   ],
   "source": [
    "l = (1,2,3,4,5,6)\n",
    "\n",
    "{a: b for a, b in zip(l[::2], l[1::2])}"
   ]
  },
  {
   "cell_type": "code",
   "execution_count": 126,
   "metadata": {},
   "outputs": [
    {
     "output_type": "stream",
     "name": "stdout",
     "text": [
      "['text1 ', ' text2 ', ' text3']\n['text4 ', ' text5 ', ' text6']\n['text7 ', ' text8 ', ' text9']\n"
     ]
    }
   ],
   "source": [
    "from io import StringIO\n",
    "import csv\n",
    "\n",
    "text = \"\"\"text1 | text2 | text3\n",
    "text4 | text5 | text6\n",
    "text7 | text8 | text9\n",
    "\"\"\"\n",
    "\n",
    "with StringIO(text) as csv_text:\n",
    "    lines =  csv.reader(csv_text, delimiter='|' )\n",
    "    for line in lines:\n",
    "        print(line)"
   ]
  },
  {
   "cell_type": "code",
   "execution_count": null,
   "metadata": {},
   "outputs": [],
   "source": []
  },
  {
   "cell_type": "code",
   "execution_count": 127,
   "metadata": {},
   "outputs": [
    {
     "output_type": "stream",
     "name": "stdout",
     "text": [
      "If you are 16 stones, then your weight in Kgs is: 101.60Kg\n"
     ]
    }
   ],
   "source": [
    "weight_stone = 16\n",
    "weight_kg = weight_stone * 6.35029\n",
    "\n",
    "print(f'If you are {weight_stone} stones, then your weight in Kgs is: {weight_kg:.2f}Kg')"
   ]
  },
  {
   "cell_type": "code",
   "execution_count": 128,
   "metadata": {},
   "outputs": [
    {
     "output_type": "execute_result",
     "data": {
      "text/plain": [
       "'abc'"
      ]
     },
     "metadata": {},
     "execution_count": 128
    }
   ],
   "source": [
    "a = ['A', 'B', 'C']\n",
    "''.join(ch.lower() for ch in a)"
   ]
  },
  {
   "cell_type": "code",
   "execution_count": 129,
   "metadata": {},
   "outputs": [
    {
     "output_type": "stream",
     "name": "stdout",
     "text": [
      "[['Corinthians', '5', 'Flamengo', '1 '], ['São Paulo', '0', 'Botafogo', '2 '], ['Vasco da Gama', '4', 'Fluminense', '4 ']]\nCorinthians, Flamengo, São Paulo, Botafogo, Vasco da Gama, Fluminense\n5, 1 , 0, 2 , 4, 4 \n"
     ]
    }
   ],
   "source": [
    "original = [['Corinthians', '5', 'Flamengo', '1 '], ['São Paulo', '0', 'Botafogo', '2 '], ['Vasco da Gama', '4', 'Fluminense', '4 ']]\n",
    "\n",
    "names = []\n",
    "chapts = []\n",
    "for sub in original:\n",
    "    for name, chapt in zip(sub[::2], sub[1::2]):\n",
    "        names.append(name)\n",
    "        chapts.append(chapt)\n",
    "print(original)\n",
    "print(*names, sep=', ')\n",
    "print(*chapts, sep=', ')"
   ]
  },
  {
   "cell_type": "code",
   "execution_count": 130,
   "metadata": {},
   "outputs": [
    {
     "output_type": "execute_result",
     "data": {
      "text/plain": [
       "13.0"
      ]
     },
     "metadata": {},
     "execution_count": 130
    }
   ],
   "source": [
    "24/6-9+3*6"
   ]
  },
  {
   "cell_type": "code",
   "execution_count": 131,
   "metadata": {},
   "outputs": [
    {
     "output_type": "execute_result",
     "data": {
      "text/plain": [
       "4.0"
      ]
     },
     "metadata": {},
     "execution_count": 131
    }
   ],
   "source": [
    "24/6"
   ]
  },
  {
   "cell_type": "code",
   "execution_count": 132,
   "metadata": {},
   "outputs": [
    {
     "output_type": "execute_result",
     "data": {
      "text/plain": [
       "18"
      ]
     },
     "metadata": {},
     "execution_count": 132
    }
   ],
   "source": [
    "3*6"
   ]
  },
  {
   "cell_type": "code",
   "execution_count": null,
   "metadata": {},
   "outputs": [],
   "source": []
  },
  {
   "cell_type": "code",
   "execution_count": 133,
   "metadata": {},
   "outputs": [
    {
     "output_type": "execute_result",
     "data": {
      "text/plain": [
       "13"
      ]
     },
     "metadata": {},
     "execution_count": 133
    }
   ],
   "source": [
    "4-9+18"
   ]
  },
  {
   "cell_type": "code",
   "execution_count": 134,
   "metadata": {},
   "outputs": [
    {
     "output_type": "stream",
     "name": "stdout",
     "text": [
      "1\n2\n3\n4\n"
     ]
    }
   ],
   "source": [
    "b = [1, 2, 3, 4]\n",
    "for num in b:\n",
    "    print(f'{num}')"
   ]
  },
  {
   "cell_type": "code",
   "execution_count": 135,
   "metadata": {},
   "outputs": [
    {
     "output_type": "stream",
     "name": "stdout",
     "text": [
      "1\n2\n3\n4\n"
     ]
    }
   ],
   "source": [
    "b = [1, 2, 3, 4]\n",
    "print('\\n'.join(f'{num}' for num in b))"
   ]
  },
  {
   "cell_type": "code",
   "execution_count": 136,
   "metadata": {},
   "outputs": [
    {
     "output_type": "stream",
     "name": "stdout",
     "text": [
      "\n{'Corinthians': '5', 'Flamengo': '1 ', 'São Paulo': '0', 'Botafogo': '2 ', 'Vasco da Gama': '4', 'Fluminense': '4 '}\n\nCorinthians____: 5\nFlamengo_______: 1 \nSão Paulo______: 0\nBotafogo_______: 2 \nVasco da Gama__: 4\nFluminense_____: 4 \n"
     ]
    }
   ],
   "source": [
    "original = [['Corinthians', '5', 'Flamengo', '1 '], \n",
    "            ['São Paulo', '0', 'Botafogo', '2 '],\n",
    "            ['Vasco da Gama', '4', 'Fluminense', '4 ']]\n",
    "\n",
    "flattened =  [item for sublist in original for item in sublist]\n",
    "names = flattened[::2]\n",
    "nums = flattened[1::2]\n",
    "revised = dict(zip(names, nums))\n",
    "\n",
    "print(f'\\n{revised}\\n')\n",
    "\n",
    "for name, num in revised.items():\n",
    "    print(f'{name:_<15}: {num}')"
   ]
  },
  {
   "cell_type": "code",
   "execution_count": 137,
   "metadata": {},
   "outputs": [
    {
     "output_type": "stream",
     "name": "stdout",
     "text": [
      "140 is louder than a jackhammer!\n131 is louder than a jackhammer!\n130 is the level of a jackhammer!\n109 is between a chainsaw and a jackhammer\n108 is the level of a chainsaw\n107 is between an hair dryer and a chainsaw\n91 is between an hair dryer and a chainsaw\n90 is the level of a hair dryer\n89 is the level of a hair dryer\n61 is the level of a hair dryer\n60 is the level of normal conversation\n59 is quieter than normal conversation\n50 is quieter than normal conversation\n30 is quieter than normal conversation\n10 is quieter than normal conversation\n0 is silent\n-1 is not possible\n"
     ]
    }
   ],
   "source": [
    "def display_sound_level(db):\n",
    "    for level, (above, equal) in thresholds.items():\n",
    "        if db >= level:\n",
    "            print(f'{db} {above if db > level else equal}')\n",
    "            break\n",
    "    else:\n",
    "        print(f'{db} is not possible')\n",
    "\n",
    "\n",
    "thresholds = {130: (\"is louder than a jackhammer!\", \"is the level of a jackhammer!\"),\n",
    "              108: (\"is between a chainsaw and a jackhammer\", \"is the level of a chainsaw\"),\n",
    "               90: (\"is between an hair dryer and a chainsaw\", \"is the level of a hair dryer\"),\n",
    "               60: (\"is the level of a hair dryer\", \"is the level of normal conversation\"),\n",
    "                0: (\"is quieter than normal conversation\", \"is silent\"),\n",
    "            }\n",
    "\n",
    "tests = 140, 131, 130, 109, 108, 107, 91, 90, 89, 61, 60, 59, 50, 30, 10, 0, -1\n",
    "\n",
    "for test in tests:\n",
    "    display_sound_level(test)"
   ]
  },
  {
   "source": [
    "from string import ascii_letters, digits, punctuation\n",
    "\n",
    "VOWELS = frozenset(('a', 'e', 'i', 'o', 'u'))\n",
    "\n",
    "while ch := input(\"Enter a character: \").strip().lower():\n",
    "\n",
    "....if len(ch) == 1:\n",
    "........if ch in VOWELS:\n",
    "............kind = 'vowel'\n",
    "........elif ch in ascii_letters:\n",
    "............kind = 'consonant'\n",
    "........elif ch in digits:\n",
    "............kind = 'digit'\n",
    "........elif ch in punctuation:\n",
    "............kind = 'punctuation or special'\n",
    "........else:\n",
    "............kind = None\n",
    "........if kind:\n",
    "............print(f'That was a {kind} character')\n",
    "........else:\n",
    "............print('I did not recognise that character')\n",
    "....else:\n",
    "........print('I asked for just one character')\n",
    "\n"
   ],
   "cell_type": "code",
   "metadata": {},
   "execution_count": 138,
   "outputs": [
    {
     "output_type": "stream",
     "name": "stdout",
     "text": [
      "That was a vowel character\n",
      "That was a vowel character\n",
      "That was a consonant character\n",
      "I asked for just one character\n",
      "That was a digit character\n",
      "That was a punctuation character\n",
      "That was a punctuation character\n",
      "That was a punctuation character\n",
      "That was a punctuation character\n",
      "That was a punctuation character\n",
      "That was a punctuation character\n"
     ]
    }
   ]
  },
  {
   "cell_type": "code",
   "execution_count": 139,
   "metadata": {},
   "outputs": [
    {
     "output_type": "execute_result",
     "data": {
      "text/plain": [
       "'!\"#$%&\\'()*+,-./:;<=>?@[\\\\]^_`{|}~'"
      ]
     },
     "metadata": {},
     "execution_count": 139
    }
   ],
   "source": [
    "punctuation"
   ]
  },
  {
   "cell_type": "code",
   "execution_count": 8,
   "metadata": {},
   "outputs": [
    {
     "output_type": "stream",
     "name": "stdout",
     "text": [
      "\nChecking [120, 532]\n[120, 532] too close to [122, 530]\n\nChecking [150, 160]\nno conflicts\n\nChecking [297, 170]\nno conflicts\n\nChecking [400, 722]\nno conflicts\n\nChecking [99, 99]\n[99, 99] too close to [100, 100]\n[99, 99] too close to [101, 101]\n"
     ]
    }
   ],
   "source": [
    "import numpy as np\n",
    "\n",
    "def close(next_point, existing_point):\n",
    "    diff = abs(np.array(next_point) - np.array(existing_point))\n",
    "    return not any(diff > threshold)\n",
    "\n",
    "threshold = np.array([3, 3])\n",
    "tests = [[120, 532], [150, 160], [297, 170], [400, 722], [99, 99]]\n",
    "existing = [[122,530],[294,739], [957,725], [100, 100], [101, 101]]\n",
    "\n",
    "for test in tests:\n",
    "    print(f'\\nChecking {test}')\n",
    "    good = True\n",
    "    for point in existing:\n",
    "        if close(test, point):\n",
    "            print(f'{test} too close to {point}')\n",
    "            good = False\n",
    "    if good:\n",
    "        print('no conflicts')\n",
    "\n",
    "\n"
   ]
  },
  {
   "cell_type": "code",
   "execution_count": 16,
   "metadata": {},
   "outputs": [
    {
     "output_type": "stream",
     "name": "stdout",
     "text": [
      "(1, 3)\n"
     ]
    }
   ],
   "source": [
    "nums = [1, 0, 0, 1, 1, 0, 1, 1, 1, 0, 1, 1, 0, 0]\n",
    "highest = nums[0], 1\n",
    "prev, counter = highest \n",
    "for num in nums[1:]:\n",
    "    if num == prev:\n",
    "        counter += 1\n",
    "        if counter > highest[1]:\n",
    "            highest = num, counter\n",
    "    else:\n",
    "        counter = 1\n",
    "    prev = num\n",
    "print(highest)"
   ]
  },
  {
   "cell_type": "code",
   "execution_count": null,
   "metadata": {},
   "outputs": [],
   "source": []
  }
 ]
}