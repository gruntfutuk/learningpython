{
 "cells": [
  {
   "cell_type": "code",
   "execution_count": 18,
   "metadata": {},
   "outputs": [],
   "source": [
    "import csv\n",
    "from urllib.request import urlopen\n",
    "from bs4 import BeautifulSoup as soup\n",
    "\n",
    "my_url = 'http://ravimaailma.fi/'\n",
    "\n",
    "# Opening up connection and grabbing the page\n",
    "uClient = urlopen(my_url)\n",
    "page_html = uClient.read()\n",
    "uClient.close()\n",
    "\n",
    "page_soup = soup(page_html, 'html.parser')\n",
    "\n",
    "containers = page_soup.findAll('a')\n",
    "\n",
    "Links = []\n",
    "Link_Text = []\n",
    "\n",
    "filename = \"Labels_And_Links.csv\""
   ]
  },
  {
   "cell_type": "code",
   "execution_count": 19,
   "metadata": {},
   "outputs": [],
   "source": [
    "with open(filename, 'w', encoding='utf-8') as csvfile:\n",
    "    csv = csv.writer(csvfile, delimiter=',',\n",
    "                            quotechar='\\'', quoting=csv.QUOTE_MINIMAL)\n",
    "    headers = ['Link_Text', 'Links']\n",
    "    csv.writerow(headers)\n",
    "    for container in containers:\n",
    "        href = container.get('href', None)\n",
    "        if href and href.startswith('http'):\n",
    "            csv.writerow([container['href'], container.text])"
   ]
  },
  {
   "cell_type": "code",
   "execution_count": 20,
   "metadata": {},
   "outputs": [
    {
     "data": {
      "text/plain": [
       "[<a href=\"#\">Oma tili</a>,\n",
       " <a href=\"#\">Kirjaudu ulos</a>,\n",
       " <a href=\"/\">Etusivu</a>,\n",
       " <a href=\"?action=getContent&amp;type=form&amp;name=registration&amp;spw\">Rekisteröidy</a>,\n",
       " <a class=\"ajax-login\" href=\"#\">Kirjaudu sisään</a>,\n",
       " <a href=\"http://www.hippos.fi\" target=\"_blank\"><img class=\"img-responsive image-center-header\" src=\"/assets/fintoto/images/hippos.png\"/></a>,\n",
       " <a href=\"http://ravimaailma.fi/\">\n",
       " <img alt=\"Ravimaailma.fi\" class=\"img-responsive image-center-header\" src=\"/assets/ravit/images/logoleft.png\" title=\"Ravimaailma.fi\"/></a>,\n",
       " <a class=\"social glyphicon-facebook\" href=\"https://www.facebook.com/ravimaailma\" target=\"_blank\"></a>,\n",
       " <a class=\"social glyphicon-instagram\" href=\"https://www.instagram.com/ravimaailma\" target=\"_blank\"></a>,\n",
       " <a class=\"social glyphicon-twitter\" href=\"https://www.twitter.com/ravimaailma\" target=\"_blank\"></a>,\n",
       " <a class=\"active\" href=\"/\"><span class=\"glyphicon glyphicon-home\"></span></a>,\n",
       " <a href=\"http://ravimaailma.fi/vihjepalvelut/118/\">Vihjepalvelut<b class=\"caret\"></b></a>,\n",
       " <a href=\"http://ravimaailma.fi/raviliiga/yleista-raviliigasta/72/\">Raviliiga<b class=\"caret\"></b></a>,\n",
       " <a href=\"http://ravimaailma.fi/cg/raviliiga/uutinen\">Uutiset</a>,\n",
       " <a href=\"http://ravimaailma.fi/raviliiga/joukkueet-2017/119/\">Joukkueet 2017</a>,\n",
       " <a href=\"http://ravimaailma.fi/raviliiga/yleista-raviliigasta/72/\">Yleistä Raviliigasta</a>,\n",
       " <a href=\"http://ravimaailma.fi/raviliiga/joukkueet-2014/78/\">Joukkueet 2014</a>,\n",
       " <a href=\"http://ravimaailma.fi/raviliiga/joukkueet-2013/97/\">JOUKKUEET 2013</a>,\n",
       " <a href=\"http://ravimaailma.fi/raviliiga/lahjakortit/126/\">LAHJAKORTIT</a>,\n",
       " <a href=\"http://ravimaailma.fi/raviliiga/tilanne/80/\">Tilanne</a>,\n",
       " <a href=\"http://ravimaailma.fi/cg/ennakot-ja-pelivihjeet/22/\">Vihjeet<b class=\"caret\"></b></a>,\n",
       " <a href=\"http://ravimaailma.fi/cg/uutinen/2/\">Uutiset<b class=\"caret\"></b></a>,\n",
       " <a href=\"/cg/tulokset/20/\">Tulokset<b class=\"caret\"></b></a>,\n",
       " <a href=\"http://ravimaailma.fi/edut/61/\">Edut<b class=\"caret\"></b></a>,\n",
       " <a href=\"http://ravimaailma.fi/suurkilpailut/17/\">Suurkilpailut<b class=\"caret\"></b></a>,\n",
       " <a href=\"http://ravimaailma.fi/suurkilpailut/kuninkuusravit/37/\">Kuninkuusravit</a>,\n",
       " <a href=\"http://ravimaailma.fi/suurkilpailut/seinajoki-race/42/\">Seinäjoki - Race</a>,\n",
       " <a href=\"http://ravimaailma.fi/suurkilpailut/kymi-gp/41/\">Kymi GP</a>,\n",
       " <a href=\"http://ravimaailma.fi/suurkilpailut/kriterium/45/\">Kriterium</a>,\n",
       " <a href=\"http://ravimaailma.fi/suurkilpailut/finlandia-ajo/39/\">Finlandia-ajo</a>,\n",
       " <a href=\"http://ravimaailma.fi/suurkilpailut/suur-hollola-ajo/44/\">Suur-Hollola-ajo</a>,\n",
       " <a href=\"http://ravimaailma.fi/suurkilpailut/st-michel/38/\">St Michel</a>,\n",
       " <a href=\"http://ravimaailma.fi/suurkilpailut/nordic-king/43/\">Nordic King</a>,\n",
       " <a href=\"http://ravimaailma.fi/suurkilpailut/suurkilpailuvoittajia/103/\">Suurkilpailuvoittajia</a>,\n",
       " <a href=\"http://ravimaailma.fi/suurkilpailut/derby/55/\">Derby</a>,\n",
       " <a href=\"http://ravimaailma.fi/suurkilpailut/pohjoismaiden-mestaruus/56/\">Pohjoismaiden Mestaruus</a>,\n",
       " <a href=\"http://ravimaailma.fi/raviradat/18/\">Raviradat<b class=\"caret\"></b></a>,\n",
       " <a href=\"http://ravimaailma.fi/raviradat/joensuu/27/\">Joensuu</a>,\n",
       " <a href=\"http://ravimaailma.fi/raviradat/forssa/26/\">Forssa</a>,\n",
       " <a href=\"http://ravimaailma.fi/raviradat/kaustinen/31/\">Kaustinen</a>,\n",
       " <a href=\"http://ravimaailma.fi/raviradat/kouvola/29/\">Kouvola</a>,\n",
       " <a href=\"http://ravimaailma.fi/raviradat/kajaani/87/\">Kajaani</a>,\n",
       " <a href=\"http://ravimaailma.fi/raviradat/jyvaskyla/28/\">Jyväskylä</a>,\n",
       " <a href=\"http://ravimaailma.fi/raviradat/kuopio/92/\">Kuopio</a>,\n",
       " <a href=\"http://ravimaailma.fi/raviradat/lahti/32/\">Lahti</a>,\n",
       " <a href=\"http://ravimaailma.fi/raviradat/lappeenranta/33/\">Lappeenranta</a>,\n",
       " <a href=\"http://ravimaailma.fi/raviradat/mikkeli/34/\">Mikkeli</a>,\n",
       " <a href=\"http://ravimaailma.fi/raviradat/oulu/35/\">Oulu</a>,\n",
       " <a href=\"http://ravimaailma.fi/raviradat/pori/22/\">Pori</a>,\n",
       " <a href=\"http://ravimaailma.fi/raviradat/seinajoki/93/\">Seinäjoki</a>,\n",
       " <a href=\"http://ravimaailma.fi/raviradat/rovaniemi/36/\">Rovaniemi</a>,\n",
       " <a href=\"http://ravimaailma.fi/raviradat/teivo/24/\">Teivo</a>,\n",
       " <a href=\"http://ravimaailma.fi/raviradat/turku/25/\">Turku</a>,\n",
       " <a href=\"http://ravimaailma.fi/raviradat/tornio/114/\">Tornio</a>,\n",
       " <a href=\"http://ravimaailma.fi/raviradat/vermo/23/\">Vermo</a>,\n",
       " <a href=\"http://ravimaailma.fi/raviradat/ylivieska/88/\">Ylivieska</a>,\n",
       " <a href=\"http://ravimaailma.fi/raviradat/kesaradat/94/\">Kesäradat</a>,\n",
       " <a href=\"http://ravimaailma.fi/raviurheilu/yleista-raviurheilusta/67/\">Raviurheilu<b class=\"caret\"></b></a>,\n",
       " <a href=\"http://ravimaailma.fi/raviurheilu/yleista-raviurheilusta/67/\">Yleistä raviurheilusta</a>,\n",
       " <a href=\"http://ravimaailma.fi/raviurheilu/tunnuslukuja/107/\">Tunnuslukuja</a>,\n",
       " <a href=\"http://ravimaailma.fi/raviurheilu/hevosenomistajaksi/95/\">Hevosenomistajaksi?</a>,\n",
       " <a href=\"http://ravimaailma.fi/raviurheilu/suomalaisia-menestyjia/101/\">Suomalaisia menestyjiä</a>,\n",
       " <a href=\"http://ravimaailma.fi/raviurheilu/nuorisotoiminta/104/\">Nuorisotoiminta</a>,\n",
       " <a href=\"http://ravimaailma.fi/raviurheilu/tilastot/116/\">Tilastot</a>,\n",
       " <a href=\"http://ravimaailma.fi/raviurheilu/ravikilpailusaannot/109/\">Ravikilpailusäännöt</a>,\n",
       " <a href=\"http://ravimaailma.fi/article/kesaravit/kesaravit-ovat-taalla/11876/\"><img alt=\"\" src=\"http://ravimaailma.fi/Fintoto?action=getContent&amp;type=image&amp;id=79611&amp;width=800&amp;height=450\"/></a>,\n",
       " <a href=\"http://ravimaailma.fi/article/kesaravit/kesaravit-ovat-taalla/11876/\"><h1 class=\"text-primary\"></h1></a>,\n",
       " <a href=\"http://ravimaailma.fi/article/uutinen/auta-meita-kehittamaan-ravitapahtumia-osallistut-samalla-huippupalkintojen-arvontaan/9520/\"><img alt=\"\" src=\"http://ravimaailma.fi/Fintoto?action=getContent&amp;type=image&amp;id=77470&amp;width=800&amp;height=450\"/></a>,\n",
       " <a href=\"http://ravimaailma.fi/article/uutinen/auta-meita-kehittamaan-ravitapahtumia-osallistut-samalla-huippupalkintojen-arvontaan/9520/\"><h1 class=\"text-primary\">Auta meitä kehittämään ravitapahtumia – osallistut samalla raviaiheisten palkintojen arvontaan</h1></a>,\n",
       " <a class=\"left carousel-control\" data-slide=\"prev\" href=\"#carousel-news\">\n",
       " <span class=\"glyphicon glyphicon-chevron-left\"></span>\n",
       " </a>,\n",
       " <a class=\"right carousel-control\" data-slide=\"next\" href=\"#carousel-news\">\n",
       " <span class=\"glyphicon glyphicon-chevron-right\"></span>\n",
       " </a>,\n",
       " <a href=\"http://ravimaailma.fi/article/etusivu/kuningatar-saaga-s-keskiviikkona-66-vermossa/12410/\"><img alt=\"Saaga S Vermon Kuninkuusravien 3100 metrin voittaja.\" src=\"http://ravimaailma.fi/Fintoto?action=getContent&amp;type=image&amp;id=80242&amp;width=650&amp;height=340\"/></a>,\n",
       " <a href=\"http://ravimaailma.fi/article/etusivu/kuningatar-saaga-s-keskiviikkona-66-vermossa/12410/\"><strong>Kuningatar Saaga S keskiviikkona 6.6. Vermossa </strong><br/></a>,\n",
       " <a href=\"http://ravimaailma.fi/cg/etusivu/1/\"><span class=\"label label-sm label-arrow label-primary label-arrow-right\" style=\"background-color: #; text-shadow: 1px 0px 1px rgba(0, 0, 0, 0.5); font-size: 90%;\"><span class=\"regular \"></span>Etusivu</span></a>,\n",
       " <a href=\"http://ravimaailma.fi/cg/uutinen/2/\"><span class=\"label label-sm label-arrow label-primary label-arrow-right\" style=\"background-color: #; text-shadow: 1px 0px 1px rgba(0, 0, 0, 0.5); font-size: 90%;\"><span class=\"regular \"></span>Uutinen</span></a>,\n",
       " <a href=\"http://ravimaailma.fi/cg/vermo/6/\"><span class=\"label label-sm label-arrow label-primary label-arrow-right\" style=\"background-color: #; text-shadow: 1px 0px 1px rgba(0, 0, 0, 0.5); font-size: 90%;\"><span class=\"regular \"></span>Vermo</span></a>,\n",
       " <a href=\"http://ravimaailma.fi/article/etusivu/kuningatar-saaga-s-keskiviikkona-66-vermossa/12410/\">Rovaniemen Kuninkuusravit – A.V. Marttilan Tammasarja –kilpailu on edennyt toiselle etapille. Keskiviikkona on vuorossa mailin matka. Toukokuussa ajettiin 2100. Heinäkuussa sarja huipentuu 3100 metrin matkalla ajettavaan lähtöön.<br/><br/></a>,\n",
       " <a class=\"btn btn-primary\" href=\"http://ravimaailma.fi/article/etusivu/kuningatar-saaga-s-keskiviikkona-66-vermossa/12410/\">Lue lisää</a>,\n",
       " <a href=\"http://ravimaailma.fi/article/tulokset/forssa-1-6-2018-tulokset/12425/\"><img alt=\"\" src=\"http://ravimaailma.fi/?action=getcontent&amp;type=image&amp;name=F_1_01062018.jpg&amp;width=650&amp;height=340\"/></a>,\n",
       " <a href=\"http://ravimaailma.fi/article/tulokset/forssa-1-6-2018-tulokset/12425/\">Forssa 1.6.2018 tulokset</a>,\n",
       " <a href=\"http://ravimaailma.fi/cg/forssa/7/\"><span class=\"label label-sm label-arrow label-primary label-arrow-right\" style=\"background-color: #; text-shadow: 1px 0px 1px rgba(0, 0, 0, 0.5); font-size: 90%;\"><span class=\"regular \"></span>Forssa</span></a>,\n",
       " <a href=\"http://ravimaailma.fi/cg/tulokset/20/\"><span class=\"label label-sm label-arrow label-primary label-arrow-right\" style=\"background-color: #; text-shadow: 1px 0px 1px rgba(0, 0, 0, 0.5); font-size: 90%;\"><span class=\"regular \"></span>Tulokset</span></a>,\n",
       " <a class=\"btn btn-primary\" href=\"http://ravimaailma.fi/article/tulokset/forssa-1-6-2018-tulokset/12425/\">Lue lisää</a>,\n",
       " <a href=\"http://ravimaailma.fi/article/etusivu/kuningatar-saaga-s-keskiviikkona-66-vermossa/12410/#\"><img alt=\"Saaga S Vermon Kuninkuusravien 3100 metrin voittaja.\" src=\"http://ravimaailma.fi/Fintoto?action=getContent&amp;type=image&amp;id=80242&amp;width=650&amp;height=340\"/></a>,\n",
       " <a href=\"http://ravimaailma.fi/article/etusivu/kuningatar-saaga-s-keskiviikkona-66-vermossa/12410/\"><strong>Kuningatar Saaga S keskiviikkona 6.6. Vermossa </strong><br/></a>,\n",
       " <a href=\"http://ravimaailma.fi/cg/etusivu/1/\"><span class=\"label label-sm label-arrow label-primary label-arrow-right\" style=\"background-color: #; text-shadow: 1px 0px 1px rgba(0, 0, 0, 0.5); font-size: 90%;\"><span class=\"regular \"></span>Etusivu</span></a>,\n",
       " <a href=\"http://ravimaailma.fi/cg/uutinen/2/\"><span class=\"label label-sm label-arrow label-primary label-arrow-right\" style=\"background-color: #; text-shadow: 1px 0px 1px rgba(0, 0, 0, 0.5); font-size: 90%;\"><span class=\"regular \"></span>Uutinen</span></a>,\n",
       " <a href=\"http://ravimaailma.fi/cg/vermo/6/\"><span class=\"label label-sm label-arrow label-primary label-arrow-right\" style=\"background-color: #; text-shadow: 1px 0px 1px rgba(0, 0, 0, 0.5); font-size: 90%;\"><span class=\"regular \"></span>Vermo</span></a>,\n",
       " <a href=\"http://ravimaailma.fi/article/etusivu/kuningatar-saaga-s-keskiviikkona-66-vermossa/12410/\">Rovaniemen Kuninkuusravit – A.V. Marttilan Tammasarja –kilpailu on edennyt toiselle etapille. Keskiviikkona on vuorossa mailin matka. Toukokuussa ajettiin 2100. Heinäkuussa sarja huipentuu 3100 metrin matkalla ajettavaan lähtöön.<br/><br/></a>,\n",
       " <a class=\"btn btn-primary\" href=\"http://ravimaailma.fi/article/etusivu/kuningatar-saaga-s-keskiviikkona-66-vermossa/12410/\">Lue lisää</a>,\n",
       " <a href=\"http://ravimaailma.fi/article/uutinen/perjantain-kesailta-forssan-terassilla/12407/#\"><img alt=\"Kuka kaartaa voittajarinkiin ensimmäisenä?\" src=\"http://ravimaailma.fi/Fintoto?action=getContent&amp;type=image&amp;id=80239&amp;width=650&amp;height=340\"/></a>,\n",
       " <a href=\"http://ravimaailma.fi/article/uutinen/perjantain-kesailta-forssan-terassilla/12407/\">Perjantain kesäilta Forssan terassilla</a>,\n",
       " <a href=\"http://ravimaailma.fi/cg/uutinen/2/\"><span class=\"label label-sm label-arrow label-primary label-arrow-right\" style=\"background-color: #; text-shadow: 1px 0px 1px rgba(0, 0, 0, 0.5); font-size: 90%;\"><span class=\"regular \"></span>Uutinen</span></a>,\n",
       " <a href=\"http://ravimaailma.fi/cg/forssa/7/\"><span class=\"label label-sm label-arrow label-primary label-arrow-right\" style=\"background-color: #; text-shadow: 1px 0px 1px rgba(0, 0, 0, 0.5); font-size: 90%;\"><span class=\"regular \"></span>Forssa</span></a>,\n",
       " <a href=\"http://ravimaailma.fi/article/uutinen/perjantain-kesailta-forssan-terassilla/12407/\">Suomen kesä on arvaamaton, mutta tänään perjantai-iltana Forssan pisimmällä terassilla on lämmin kesätunnelma. Ravit, mikä mainio tekosyy parille huurteiselle hiukopaloja unohtamatta. Ja koska Suomen kesä on arvaamaton, toista näin hyvää tilaisuutta ei välttämättä tule.</a>,\n",
       " <a class=\"btn btn-primary\" href=\"http://ravimaailma.fi/article/uutinen/perjantain-kesailta-forssan-terassilla/12407/\">Lue lisää</a>,\n",
       " <a href=\"http://ravimaailma.fi/article/oulu/maanantaina-46-toto5-pelin-paluu-aimarautiolla/12390/\"><img alt=\"Juhliiko Santtu Raitala myös Äimärautiolla!?  (kuva Suomen Hippos)\" src=\"http://ravimaailma.fi/Fintoto?action=getContent&amp;type=image&amp;id=80221&amp;width=650&amp;height=340\"/></a>,\n",
       " <a href=\"http://ravimaailma.fi/article/oulu/maanantaina-46-toto5-pelin-paluu-aimarautiolla/12390/\">Maanantaina 4.6. Toto5-pelin paluu! Äimärautiolla.</a>,\n",
       " <a href=\"http://ravimaailma.fi/cg/oulu/15/\"><span class=\"label label-sm label-arrow label-primary label-arrow-right\" style=\"background-color: #; text-shadow: 1px 0px 1px rgba(0, 0, 0, 0.5); font-size: 90%;\"><span class=\"regular \"></span>Oulu</span></a>,\n",
       " <a href=\"http://ravimaailma.fi/cg/uutinen/2/\"><span class=\"label label-sm label-arrow label-primary label-arrow-right\" style=\"background-color: #; text-shadow: 1px 0px 1px rgba(0, 0, 0, 0.5); font-size: 90%;\"><span class=\"regular \"></span>Uutinen</span></a>,\n",
       " <a href=\"http://ravimaailma.fi/cg/ennakko/3/\"><span class=\"label label-sm label-arrow label-primary label-arrow-right\" style=\"background-color: #; text-shadow: 1px 0px 1px rgba(0, 0, 0, 0.5); font-size: 90%;\"><span class=\"regular \"></span>Ennakko</span></a>,\n",
       " <a href=\"http://ravimaailma.fi/article/oulu/maanantaina-46-toto5-pelin-paluu-aimarautiolla/12390/\">Maanantaina 4.6. klo 18.00 jatkuu kiivas alkukesän ravitarjonta Oulun Äimärautiolla. Oulun OP-perheravit tarjoaa uusvanhan pelimuodon Toto5-pelin paluun arki-iltojen pääpeliksi.</a>,\n",
       " <a class=\"btn btn-primary\" href=\"http://ravimaailma.fi/article/oulu/maanantaina-46-toto5-pelin-paluu-aimarautiolla/12390/\">Lue lisää</a>,\n",
       " <a href=\"http://ravimaailma.fi/article/etusivu/kajaanissa-ajetaan-sunnuntaina-kovatasoinen-kainuu-ajo-seka-lamminveristen-maili-rataennatyskokeena/12377/\"><img alt=\"Kajaanin raviradan kavioura on Suomen kauneimpia. Kuva: Anu Kovalainen \" src=\"http://ravimaailma.fi/Fintoto?action=getContent&amp;type=image&amp;id=80206&amp;width=650&amp;height=340\"/></a>,\n",
       " <a href=\"http://ravimaailma.fi/article/etusivu/kajaanissa-ajetaan-sunnuntaina-kovatasoinen-kainuu-ajo-seka-lamminveristen-maili-rataennatyskokeena/12377/\">Kajaanissa ajetaan sunnuntaina kovatasoinen Kainuu-Ajo sekä lämminveristen maili rataennätyskokeena<br/><br/></a>,\n",
       " <a href=\"http://ravimaailma.fi/cg/etusivu/1/\"><span class=\"label label-sm label-arrow label-primary label-arrow-right\" style=\"background-color: #; text-shadow: 1px 0px 1px rgba(0, 0, 0, 0.5); font-size: 90%;\"><span class=\"regular \"></span>Etusivu</span></a>,\n",
       " <a href=\"http://ravimaailma.fi/cg/uutinen/2/\"><span class=\"label label-sm label-arrow label-primary label-arrow-right\" style=\"background-color: #; text-shadow: 1px 0px 1px rgba(0, 0, 0, 0.5); font-size: 90%;\"><span class=\"regular \"></span>Uutinen</span></a>,\n",
       " <a href=\"http://ravimaailma.fi/cg/kajaani/47/\"><span class=\"label label-sm label-arrow label-primary label-arrow-right\" style=\"background-color: #; text-shadow: 1px 0px 1px rgba(0, 0, 0, 0.5); font-size: 90%;\"><span class=\"regular \"></span>Kajaani</span></a>,\n",
       " <a href=\"http://ravimaailma.fi/article/etusivu/kajaanissa-ajetaan-sunnuntaina-kovatasoinen-kainuu-ajo-seka-lamminveristen-maili-rataennatyskokeena/12377/\">Kajaanissa ajetaan sunnuntaina Toto76-kierros. Kainuu-Ajossa pääpalkinto on 10 000€. Lämminveristen avoin maili tavoittelee rataennätyksen rikkomista. Ravit alkavat klo 14.</a>,\n",
       " <a class=\"btn btn-primary\" href=\"http://ravimaailma.fi/article/etusivu/kajaanissa-ajetaan-sunnuntaina-kovatasoinen-kainuu-ajo-seka-lamminveristen-maili-rataennatyskokeena/12377/\">Lue lisää</a>,\n",
       " <a href=\"http://ravimaailma.fi/article/uutiset/porissa-launtaina-angeliquen-muistoajo-ja-biofarm-cup-finaali/12372/\"><img alt=\"Arkistokuvassa vuosi sitten Oulu Number One -kilpailun voittanut Ranch Kelly, joka osallistuu Angeliquen muistoajoon lauantaina.\" src=\"http://ravimaailma.fi/Fintoto?action=getContent&amp;type=image&amp;id=80204&amp;width=650&amp;height=340\"/></a>,\n",
       " <a href=\"http://ravimaailma.fi/article/uutiset/porissa-launtaina-angeliquen-muistoajo-ja-biofarm-cup-finaali/12372/\">Porissa lauantaina Angeliquen muistoajo ja Biofarm Cup-finaali</a>,\n",
       " <a href=\"http://ravimaailma.fi/cg/uutiset/58/\"><span class=\"label label-sm label-arrow label-primary label-arrow-right\" style=\"background-color: #; text-shadow: 1px 0px 1px rgba(0, 0, 0, 0.5); font-size: 90%;\"><span class=\"regular \"></span>uutiset</span></a>,\n",
       " <a href=\"http://ravimaailma.fi/cg/etusivu/1/\"><span class=\"label label-sm label-arrow label-primary label-arrow-right\" style=\"background-color: #; text-shadow: 1px 0px 1px rgba(0, 0, 0, 0.5); font-size: 90%;\"><span class=\"regular \"></span>Etusivu</span></a>,\n",
       " <a href=\"http://ravimaailma.fi/cg/uutinen/2/\"><span class=\"label label-sm label-arrow label-primary label-arrow-right\" style=\"background-color: #; text-shadow: 1px 0px 1px rgba(0, 0, 0, 0.5); font-size: 90%;\"><span class=\"regular \"></span>Uutinen</span></a>,\n",
       " <a href=\"http://ravimaailma.fi/article/uutiset/porissa-launtaina-angeliquen-muistoajo-ja-biofarm-cup-finaali/12372/\">Porissa ravataan lauantaina 2. kesäkuuta klo 14 alkaen Angeliquen muistoajo &amp; Astora-Rakennus Oy -ravit. Kyseessä on Toto76-kierros, jonka huipentaa lämminveristen tammojen Angeliquen muistoajon lisäksi 4-vuotiaiden suomenhevosten Biofarm Cupin finaali. Kokonaisuudessaan päivä sisältää 11 hienoa toto-lähtöä.<br/></a>,\n",
       " <a class=\"btn btn-primary\" href=\"http://ravimaailma.fi/article/uutiset/porissa-launtaina-angeliquen-muistoajo-ja-biofarm-cup-finaali/12372/\">Lue lisää</a>,\n",
       " <a href=\"http://ravimaailma.fi/article/etusivu/derbyn-tammasuosikki-vermossa-ke-305-klo-18/12369/\"><img alt=\"\" src=\"http://ravimaailma.fi/Fintoto?action=getContent&amp;type=image&amp;id=80205&amp;width=650&amp;height=340\"/></a>,\n",
       " <a href=\"http://ravimaailma.fi/article/etusivu/derbyn-tammasuosikki-vermossa-ke-305-klo-18/12369/\">Derbyn Tammasuosikki Vermossa ke 30.5. klo 18</a>,\n",
       " <a href=\"http://ravimaailma.fi/cg/etusivu/1/\"><span class=\"label label-sm label-arrow label-primary label-arrow-right\" style=\"background-color: #; text-shadow: 1px 0px 1px rgba(0, 0, 0, 0.5); font-size: 90%;\"><span class=\"regular \"></span>Etusivu</span></a>,\n",
       " <a href=\"http://ravimaailma.fi/cg/uutinen/2/\"><span class=\"label label-sm label-arrow label-primary label-arrow-right\" style=\"background-color: #; text-shadow: 1px 0px 1px rgba(0, 0, 0, 0.5); font-size: 90%;\"><span class=\"regular \"></span>Uutinen</span></a>,\n",
       " <a href=\"http://ravimaailma.fi/cg/vermo/6/\"><span class=\"label label-sm label-arrow label-primary label-arrow-right\" style=\"background-color: #; text-shadow: 1px 0px 1px rgba(0, 0, 0, 0.5); font-size: 90%;\"><span class=\"regular \"></span>Vermo</span></a>,\n",
       " <a href=\"http://ravimaailma.fi/article/etusivu/derbyn-tammasuosikki-vermossa-ke-305-klo-18/12369/\">3vihjaajien tipsit keskiviikon Toto65-kierrokselle. Vihjaajina Juha Keskimaunu, Tuomo Pekonen ja Ilkka Nisula. Lehtien vihjaajien varmana päätöskohteen Daddy Boy.<br/><br/></a>,\n",
       " <a class=\"btn btn-primary\" href=\"http://ravimaailma.fi/article/etusivu/derbyn-tammasuosikki-vermossa-ke-305-klo-18/12369/\">Lue lisää</a>,\n",
       " <a href=\"http://ravimaailma.fi/article/uutinen/huusarin-talli-isossa-osassa-loviisan-kauden-avauksessa/12337/\"><img alt=\"Pinja Iltanen. Kuva Ravinetti.fi/ Anu Leppänen\" src=\"http://ravimaailma.fi/Fintoto?action=getContent&amp;type=image&amp;id=80133&amp;width=650&amp;height=340\"/></a>,\n",
       " <a href=\"http://ravimaailma.fi/article/uutinen/huusarin-talli-isossa-osassa-loviisan-kauden-avauksessa/12337/\"><strong>Huusarin talli isossa osassa Loviisan kauden avauksessa</strong><br/></a>,\n",
       " <a href=\"http://ravimaailma.fi/cg/uutinen/2/\"><span class=\"label label-sm label-arrow label-primary label-arrow-right\" style=\"background-color: #; text-shadow: 1px 0px 1px rgba(0, 0, 0, 0.5); font-size: 90%;\"><span class=\"regular \"></span>Uutinen</span></a>,\n",
       " <a href=\"http://ravimaailma.fi/cg/kesaradat/49/\"><span class=\"label label-sm label-arrow label-primary label-arrow-right\" style=\"background-color: #; text-shadow: 1px 0px 1px rgba(0, 0, 0, 0.5); font-size: 90%;\"><span class=\"regular \"></span>Kesaradat</span></a>,\n",
       " <a href=\"http://ravimaailma.fi/cg/kesaravit/54/\"><span class=\"label label-sm label-arrow label-primary label-arrow-right\" style=\"background-color: #; text-shadow: 1px 0px 1px rgba(0, 0, 0, 0.5); font-size: 90%;\"><span class=\"regular \"></span>kesäravit</span></a>,\n",
       " <a href=\"http://ravimaailma.fi/article/uutinen/huusarin-talli-isossa-osassa-loviisan-kauden-avauksessa/12337/\">Etelä-Suomen perinteisiin kesäratoihin kuuluva Loviisa aloittaa ravikautensa maanantaina 28.5. Loviisan ravit ovat aina vetäneet paljon katsojia paitsi lähialueelta, myös Helsingin seudulta.<br/></a>,\n",
       " <a class=\"btn btn-primary\" href=\"http://ravimaailma.fi/article/uutinen/huusarin-talli-isossa-osassa-loviisan-kauden-avauksessa/12337/\">Lue lisää</a>,\n",
       " <a href=\"http://ravimaailma.fi/article/etusivu/raviliigan-markkinointi-myynti-viestinta-hallinnointi-wisella/4357/\"><img alt=\"\" src=\"http://ravimaailma.fi/Fintoto?action=getContent&amp;type=image&amp;id=71331&amp;width=650&amp;height=340\"/></a>,\n",
       " <a href=\"http://ravimaailma.fi/article/etusivu/raviliigan-markkinointi-myynti-viestinta-hallinnointi-wisella/4357/\">Raviliigan markkinointi, myynti, viestintä ja hallinnointi Wise-järjestelmällä</a>,\n",
       " <a href=\"http://ravimaailma.fi/article/etusivu/raviliigan-markkinointi-myynti-viestinta-hallinnointi-wisella/4357/\">​Wise-järjestelmään on personoitu urheiluliiketoiminnassa tarvittavat ominaisuudet. Tuotekehitystä on tehty yhdessä Ässien, Jukureiden, Sportin, SaiPan, KalPan ja Hippoksen kanssa, jotka käyttävät Wise-järjestelmää.</a>,\n",
       " <a class=\"btn btn-primary\" href=\"http://ravimaailma.fi/article/etusivu/raviliigan-markkinointi-myynti-viestinta-hallinnointi-wisella/4357/\">Lue lisää</a>,\n",
       " <a class=\"btn btn-primary btn-xs pull-right\" href=\"http://ilmatieteenlaitos.fi/saa/\" target=\"_blank\">\n",
       "                                         Säätietoihin \n",
       "                                         <span class=\"glyphicon glyphicon-arrow-right\"></span>\n",
       " </a>,\n",
       " <a class=\"btn btn-secondary btn-xs pull-right text-secondary\" href=\"?action=getcontent&amp;type=listevents\" type=\"button\">Kalenteriin <span class=\"glyphicon glyphicon-arrow-right\"></span></a>,\n",
       " <a href=\"/?action=getcontent&amp;type=viewevent&amp;eventid=1211\">Forssa, Pilvenmäki , Tuplatonni-ravit</a>,\n",
       " <a href=\"/?action=getcontent&amp;type=viewevent&amp;eventid=1213\">Pori , Angeliquen muistoajo &amp; Astora-Rakennus Oy-ravit, Biofarm Cup</a>,\n",
       " <a href=\"/?action=getcontent&amp;type=viewevent&amp;eventid=1214\">Kajaani , Toto76-ravit, Kainuu ajo, Rataennätyskoe</a>,\n",
       " <a href=\"/?action=getcontent&amp;type=viewevent&amp;eventid=1216\">Riihimäki , Kauden avaus &amp; Riihimäen Raviseuran 90-v. juhlalähtö</a>,\n",
       " <a href=\"/?action=getcontent&amp;type=viewevent&amp;eventid=1215\">Maarianhamina</a>,\n",
       " <a href=\"http://ravimaailma.fi/article/tulokset/forssa-1-6-2018-tulokset/12425/\">Forssa 1.6.2018 tulokset </a>,\n",
       " <a href=\"http://ravimaailma.fi/article/tulokset/kuopio-1-6-2018-tulokset/12413/\">Kuopio 1.6.2018 tulokset </a>,\n",
       " <a href=\"http://ravimaailma.fi/article/etusivu/kuningatar-saaga-s-keskiviikkona-66-vermossa/12410/\"><strong>Kuningatar Saaga S keskiviikkona 6.6. Vermossa </strong><br/> </a>,\n",
       " <a href=\"http://ravimaailma.fi/article/uutinen/perjantain-kesailta-forssan-terassilla/12407/\">Perjantain kesäilta Forssan terassilla </a>,\n",
       " <a href=\"http://ravimaailma.fi/article/forssa/vihjeet-ja-tallikommentit-pe-16-forssa/12406/\">Vihjeet ja tallikommentit, pe 1.6. Forssa </a>,\n",
       " <a data-toggle=\"tab\" href=\"#profile82133078\" role=\"tab\"><span class=\"text-facebook social glyphicon-facebook\" style=\"font-size:40px;\"></span></a>,\n",
       " <a data-toggle=\"tab\" href=\"#twitter282133078\" role=\"tab\" style=\"border-radius: 0px;\"><span class=\"text-twitter social glyphicon-twitter\" style=\"font-size:40px;\"></span></a>,\n",
       " <a href=\"https://www.facebook.com/Suomen-Hippos-ry-301528176550277/\">Ravimaailma</a>,\n",
       " <a class=\"twitter-timeline\" data-chrome=\"nofooter noheader transparent\" data-widget-id=\"473231960077123584\" height=\"500\" href=\"https://twitter.com/HCAssatPori\" lang=\"fi\"></a>,\n",
       " <a class=\"twitter-timeline\" data-height=\"500\" href=\"https://twitter.com/raviurheilu\"></a>,\n",
       " <a data-toggle=\"tab\" href=\"#hevosurheilu\" role=\"tab\"><span><img src=\"/assets/rss/images/hevosurheilu.png\"/></span></a>,\n",
       " <a data-toggle=\"tab\" href=\"#is-ravit\" role=\"tab\"><span><img src=\"/assets/rss/images/iltasanomat.png\"/></span></a>,\n",
       " <a data-toggle=\"tab\" href=\"#ravinetti\" role=\"tab\"><span><img src=\"/assets/rss/images/RN.png\"/></span></a>,\n",
       " <a data-toggle=\"tab\" href=\"#maaseuduntulevaisuus\" role=\"tab\"><span><img src=\"/assets/rss/images/mt.png\"/></span></a>,\n",
       " <a href=\"https://wisenetwork.fi/fi-fi/article/etusivu/ravimaailmafiraviliiga-wise-jarjestelmalla/626/\" target=\"_blank\"><img class=\"img-responsive\" src=\"/assets/fintoto/images/raviliiiga.jpg\"/></a>,\n",
       " <a href=\"/\">\n",
       " <img alt=\"#\" class=\"img-responsive image-center-footer\" src=\"/assets/ravit/images/logoleft_footer.png\" title=\"#\"/></a>,\n",
       " <a href=\"#\"><span class=\"glyphicon glyphicon-circle-arrow-up pull-right\"></span></a>,\n",
       " <a href=\"https://facebook.com/ravimaailma\" target=\"_blank\">facebook.com/ravimaailma</a>,\n",
       " <a href=\"https://instagram.com/ravimaailma\" target=\"_blank\">instagram.com/ravimaailma</a>,\n",
       " <a href=\"https://twitter.com/ravimaailma\" target=\"_blank\">twitter.com/ravimaailma</a>,\n",
       " <a href=\"http://www.wisenetwork.fi\" target=\"_blank\">WiseNetwork Oy</a>,\n",
       " <a href=\"//ravimaailma.fi/article/etusivu/yhdistetty-rekisteriseloste-ja-informointiasiakirja/111/\">Rekisteriseloste</a>]"
      ]
     },
     "execution_count": 20,
     "metadata": {},
     "output_type": "execute_result"
    }
   ],
   "source": [
    "containers"
   ]
  },
  {
   "cell_type": "code",
   "execution_count": 25,
   "metadata": {},
   "outputs": [
    {
     "name": "stdout",
     "output_type": "stream",
     "text": [
      "4395294200 4395329120 4395294200\n",
      "4394155504 4395329120 4395294200\n",
      "4334280784 4334280784 4334280784\n",
      "4334281104 4334280784 4334280784\n"
     ]
    }
   ],
   "source": [
    "first = 'This is a string'\n",
    "second = 'This is a string'\n",
    "third = first\n",
    "print(id(first), id(second), id(third))\n",
    "first = first + ' that has been extended'\n",
    "print(id(first), id(second), id(third))\n",
    "one = 1\n",
    "two = 1\n",
    "three = one\n",
    "print(id(one), id(two), id(three))\n",
    "one = one + 10\n",
    "print(id(one), id(two), id(three))"
   ]
  },
  {
   "cell_type": "code",
   "execution_count": 27,
   "metadata": {},
   "outputs": [
    {
     "name": "stdout",
     "output_type": "stream",
     "text": [
      "Hello Sir\n",
      "Welcome to this exciting programme. I hope you enjoy it.\n",
      "Aye up\n",
      "Welcome to this exciting programme. I hope you enjoy it.\n",
      "Hello Sir\n",
      "Welcome to this exciting programme. I hope you enjoy it.\n"
     ]
    }
   ],
   "source": [
    "def say_hello(greeting):\n",
    "    print(greeting)\n",
    "    print(\"Welcome to this exciting programme. I hope you enjoy it.\")\n",
    "\n",
    "greeting = 'Hello Sir'\n",
    "\n",
    "say_hello(greeting)\n",
    "say_hello('Aye up')\n",
    "say_hello(greeting)\n"
   ]
  },
  {
   "cell_type": "code",
   "execution_count": 35,
   "metadata": {},
   "outputs": [
    {
     "name": "stdout",
     "output_type": "stream",
     "text": [
      "[5, 4, 3, 2]\n",
      "[8, 7, 6, 5]\n"
     ]
    }
   ],
   "source": [
    "def add_one(lst):\n",
    "    newlst = []\n",
    "    for element in lst:\n",
    "        newlst.append(element + 1)\n",
    "    lst = newlst\n",
    "    \n",
    "def add_two(lst):\n",
    "    for pos, _ in enumerate(lst):\n",
    "        lst[pos] += 2\n",
    "    \n",
    "list1 = [5, 4, 3, 2]\n",
    "list2 = [6, 5, 4, 3]\n",
    "\n",
    "add_one(list1)\n",
    "add_two(list2)\n",
    "\n",
    "print(list1)\n",
    "print(list2)"
   ]
  },
  {
   "cell_type": "code",
   "execution_count": 38,
   "metadata": {},
   "outputs": [
    {
     "data": {
      "text/plain": [
       "[123, 456, 'Barry']"
      ]
     },
     "execution_count": 38,
     "metadata": {},
     "output_type": "execute_result"
    }
   ],
   "source": [
    "items = [123, 'Fred', 456, 'Barry']\n",
    "items.remove('Fred')\n",
    "items"
   ]
  },
  {
   "cell_type": "code",
   "execution_count": 46,
   "metadata": {},
   "outputs": [
    {
     "name": "stdout",
     "output_type": "stream",
     "text": [
      "[[5, 6, 7], [100, 440, 201]]\n",
      "[[5, 6, 7], [100, 440, 201]]\n"
     ]
    }
   ],
   "source": [
    "a=5; b=6; c=7  # data for test purposes\n",
    "data = [[1,2,3], [1,6,7], [a,b,c], [100,440,201]]\n",
    "new_data = [item for item in data if not 1 in item]\n",
    "new_data2 = []\n",
    "for item in data:\n",
    "    if not 1 in item:\n",
    "        new_data2.append(item)\n",
    "print(new_data)\n",
    "print(new_data2)"
   ]
  },
  {
   "cell_type": "code",
   "execution_count": 47,
   "metadata": {},
   "outputs": [
    {
     "data": {
      "text/plain": [
       "[[1, 2, 3], [1, 6, 7], [5, 6, 7], [100, 440, 201]]"
      ]
     },
     "execution_count": 47,
     "metadata": {},
     "output_type": "execute_result"
    }
   ],
   "source": [
    "test"
   ]
  },
  {
   "cell_type": "code",
   "execution_count": 49,
   "metadata": {},
   "outputs": [
    {
     "name": "stdout",
     "output_type": "stream",
     "text": [
      "Enter item: \n",
      "Enter item: \n",
      "Enter item: \n",
      "Enter item: \n",
      "['34', 'Hello', 'Bye']\n"
     ]
    }
   ],
   "source": [
    "pList=[]\n",
    "def addItems():\n",
    "    print('Enter item: ')\n",
    "    obj=input()\n",
    "    if obj =='1':\n",
    "        return False\n",
    "    else:\n",
    "        pList.append(obj)\n",
    "        return True\n",
    "    \n",
    "while addItems():\n",
    "    pass\n",
    "\n",
    "print(pList)"
   ]
  },
  {
   "cell_type": "code",
   "execution_count": 50,
   "metadata": {},
   "outputs": [
    {
     "name": "stdout",
     "output_type": "stream",
     "text": [
      "Enter item: \n",
      "Enter item: \n",
      "Enter item: \n",
      "['1', '2']\n"
     ]
    }
   ],
   "source": [
    "pList=[]\n",
    "def addItems():\n",
    "    print('Enter item: ')\n",
    "    obj=input()\n",
    "    if obj:\n",
    "        pList.append(obj)\n",
    "        return True\n",
    "    return False\n",
    "    \n",
    "while addItems():\n",
    "    pass\n",
    "\n",
    "print(pList)"
   ]
  },
  {
   "cell_type": "code",
   "execution_count": 51,
   "metadata": {},
   "outputs": [
    {
     "ename": "NameError",
     "evalue": "name 'move' is not defined",
     "output_type": "error",
     "traceback": [
      "\u001b[0;31m---------------------------------------------------------------------------\u001b[0m",
      "\u001b[0;31mNameError\u001b[0m                                 Traceback (most recent call last)",
      "\u001b[0;32m<ipython-input-51-5bd3f0857c9f>\u001b[0m in \u001b[0;36m<module>\u001b[0;34m()\u001b[0m\n\u001b[1;32m      3\u001b[0m \u001b[0;34m\u001b[0m\u001b[0m\n\u001b[1;32m      4\u001b[0m \u001b[0mstatus\u001b[0m \u001b[0;34m=\u001b[0m \u001b[0;32mTrue\u001b[0m\u001b[0;34m\u001b[0m\u001b[0m\n\u001b[0;32m----> 5\u001b[0;31m \u001b[0;32mwhile\u001b[0m \u001b[0mstatus\u001b[0m \u001b[0;32mand\u001b[0m \u001b[0mmove\u001b[0m \u001b[0;34m<\u001b[0m \u001b[0;34m(\u001b[0m\u001b[0mheight\u001b[0m\u001b[0;34m*\u001b[0m\u001b[0mwidth\u001b[0m\u001b[0;34m)\u001b[0m\u001b[0;34m:\u001b[0m\u001b[0;34m\u001b[0m\u001b[0m\n\u001b[0m\u001b[1;32m      6\u001b[0m     \u001b[0;32mwhile\u001b[0m \u001b[0mmove\u001b[0m \u001b[0;34m%\u001b[0m \u001b[0;36m2\u001b[0m \u001b[0;34m==\u001b[0m \u001b[0;36m0\u001b[0m\u001b[0;34m:\u001b[0m\u001b[0;34m\u001b[0m\u001b[0m\n\u001b[1;32m      7\u001b[0m         \u001b[0mgrid_show\u001b[0m\u001b[0;34m(\u001b[0m\u001b[0;34m)\u001b[0m\u001b[0;34m\u001b[0m\u001b[0m\n",
      "\u001b[0;31mNameError\u001b[0m: name 'move' is not defined"
     ]
    }
   ],
   "source": [
    "height = 6\n",
    "width = 7\n",
    "\n",
    "status = True\n",
    "while status and move < (height*width):\n",
    "    while move % 2 == 0:\n",
    "        grid_show()\n",
    "        column = ''\n",
    "        while column not in range(width):\n",
    "            column = int(input('Give column: '))\n",
    "            if column not in range(width):\n",
    "                print('Error')\n",
    "        status_move = True\n",
    "        row = height - 1\n",
    "        while status_move and grid[row][column] != '_':\n",
    "            row = row - 1\n",
    "            if row == 0:\n",
    "                status_move = False\n",
    "        if grid[row][column] == '_':\n",
    "            movesign = sign(move)\n",
    "            grid[row][column] = movesign\n",
    "            winner = check_win_options()\n",
    "            if winner != 'No':\n",
    "                print('Winner: ', winner)\n",
    "                status = False\n",
    "                print(status) ############\n",
    "            else:\n",
    "                move = move + 1\n",
    "        #\n",
    "    while move % 2 == 1:\n",
    "        # SPELER 2\n",
    "        grid_show()\n",
    "        column = ''\n",
    "        while column not in range(width):\n",
    "            column = int(input('Give column: '))\n",
    "            if column not in range(width):\n",
    "                print('Error')\n",
    "        status_move = True\n",
    "        row = height - 1\n",
    "        while status_move and grid[row][column] != '_':\n",
    "            row = row - 1\n",
    "            if row == 0:\n",
    "                status_move = False\n",
    "        if grid[row][column] == '_':\n",
    "            movesign = sign(move)\n",
    "            grid[row][column] = movesign\n",
    "            winner = check_win_options()\n",
    "            if winner != 'No':\n",
    "                print('Winner:', winner)\n",
    "                status = False\n",
    "                print(status) ############\n",
    "            else:\n",
    "                move = move + 1"
   ]
  },
  {
   "cell_type": "code",
   "execution_count": 52,
   "metadata": {},
   "outputs": [
    {
     "ename": "UnicodeEncodeError",
     "evalue": "'ascii' codec can't encode character '\\xe4' in position 45: ordinal not in range(128)",
     "output_type": "error",
     "traceback": [
      "\u001b[0;31m---------------------------------------------------------------------------\u001b[0m",
      "\u001b[0;31mUnicodeEncodeError\u001b[0m                        Traceback (most recent call last)",
      "\u001b[0;32m<ipython-input-52-2725e0472744>\u001b[0m in \u001b[0;36m<module>\u001b[0;34m()\u001b[0m\n\u001b[1;32m      5\u001b[0m \u001b[0;34m\u001b[0m\u001b[0m\n\u001b[1;32m      6\u001b[0m \u001b[0;31m# Opening up connection and grabbing the page\u001b[0m\u001b[0;34m\u001b[0m\u001b[0;34m\u001b[0m\u001b[0m\n\u001b[0;32m----> 7\u001b[0;31m \u001b[0muClient\u001b[0m \u001b[0;34m=\u001b[0m \u001b[0murlopen\u001b[0m\u001b[0;34m(\u001b[0m\u001b[0mmy_url\u001b[0m\u001b[0;34m)\u001b[0m\u001b[0;34m\u001b[0m\u001b[0m\n\u001b[0m\u001b[1;32m      8\u001b[0m \u001b[0mpage_html\u001b[0m \u001b[0;34m=\u001b[0m \u001b[0muClient\u001b[0m\u001b[0;34m.\u001b[0m\u001b[0mread\u001b[0m\u001b[0;34m(\u001b[0m\u001b[0;34m)\u001b[0m\u001b[0;34m\u001b[0m\u001b[0m\n\u001b[1;32m      9\u001b[0m \u001b[0muClient\u001b[0m\u001b[0;34m.\u001b[0m\u001b[0mclose\u001b[0m\u001b[0;34m(\u001b[0m\u001b[0;34m)\u001b[0m\u001b[0;34m\u001b[0m\u001b[0m\n",
      "\u001b[0;32m/Library/Frameworks/Python.framework/Versions/3.7/lib/python3.7/urllib/request.py\u001b[0m in \u001b[0;36murlopen\u001b[0;34m(url, data, timeout, cafile, capath, cadefault, context)\u001b[0m\n\u001b[1;32m    220\u001b[0m     \u001b[0;32melse\u001b[0m\u001b[0;34m:\u001b[0m\u001b[0;34m\u001b[0m\u001b[0m\n\u001b[1;32m    221\u001b[0m         \u001b[0mopener\u001b[0m \u001b[0;34m=\u001b[0m \u001b[0m_opener\u001b[0m\u001b[0;34m\u001b[0m\u001b[0m\n\u001b[0;32m--> 222\u001b[0;31m     \u001b[0;32mreturn\u001b[0m \u001b[0mopener\u001b[0m\u001b[0;34m.\u001b[0m\u001b[0mopen\u001b[0m\u001b[0;34m(\u001b[0m\u001b[0murl\u001b[0m\u001b[0;34m,\u001b[0m \u001b[0mdata\u001b[0m\u001b[0;34m,\u001b[0m \u001b[0mtimeout\u001b[0m\u001b[0;34m)\u001b[0m\u001b[0;34m\u001b[0m\u001b[0m\n\u001b[0m\u001b[1;32m    223\u001b[0m \u001b[0;34m\u001b[0m\u001b[0m\n\u001b[1;32m    224\u001b[0m \u001b[0;32mdef\u001b[0m \u001b[0minstall_opener\u001b[0m\u001b[0;34m(\u001b[0m\u001b[0mopener\u001b[0m\u001b[0;34m)\u001b[0m\u001b[0;34m:\u001b[0m\u001b[0;34m\u001b[0m\u001b[0m\n",
      "\u001b[0;32m/Library/Frameworks/Python.framework/Versions/3.7/lib/python3.7/urllib/request.py\u001b[0m in \u001b[0;36mopen\u001b[0;34m(self, fullurl, data, timeout)\u001b[0m\n\u001b[1;32m    523\u001b[0m             \u001b[0mreq\u001b[0m \u001b[0;34m=\u001b[0m \u001b[0mmeth\u001b[0m\u001b[0;34m(\u001b[0m\u001b[0mreq\u001b[0m\u001b[0;34m)\u001b[0m\u001b[0;34m\u001b[0m\u001b[0m\n\u001b[1;32m    524\u001b[0m \u001b[0;34m\u001b[0m\u001b[0m\n\u001b[0;32m--> 525\u001b[0;31m         \u001b[0mresponse\u001b[0m \u001b[0;34m=\u001b[0m \u001b[0mself\u001b[0m\u001b[0;34m.\u001b[0m\u001b[0m_open\u001b[0m\u001b[0;34m(\u001b[0m\u001b[0mreq\u001b[0m\u001b[0;34m,\u001b[0m \u001b[0mdata\u001b[0m\u001b[0;34m)\u001b[0m\u001b[0;34m\u001b[0m\u001b[0m\n\u001b[0m\u001b[1;32m    526\u001b[0m \u001b[0;34m\u001b[0m\u001b[0m\n\u001b[1;32m    527\u001b[0m         \u001b[0;31m# post-process response\u001b[0m\u001b[0;34m\u001b[0m\u001b[0;34m\u001b[0m\u001b[0m\n",
      "\u001b[0;32m/Library/Frameworks/Python.framework/Versions/3.7/lib/python3.7/urllib/request.py\u001b[0m in \u001b[0;36m_open\u001b[0;34m(self, req, data)\u001b[0m\n\u001b[1;32m    541\u001b[0m         \u001b[0mprotocol\u001b[0m \u001b[0;34m=\u001b[0m \u001b[0mreq\u001b[0m\u001b[0;34m.\u001b[0m\u001b[0mtype\u001b[0m\u001b[0;34m\u001b[0m\u001b[0m\n\u001b[1;32m    542\u001b[0m         result = self._call_chain(self.handle_open, protocol, protocol +\n\u001b[0;32m--> 543\u001b[0;31m                                   '_open', req)\n\u001b[0m\u001b[1;32m    544\u001b[0m         \u001b[0;32mif\u001b[0m \u001b[0mresult\u001b[0m\u001b[0;34m:\u001b[0m\u001b[0;34m\u001b[0m\u001b[0m\n\u001b[1;32m    545\u001b[0m             \u001b[0;32mreturn\u001b[0m \u001b[0mresult\u001b[0m\u001b[0;34m\u001b[0m\u001b[0m\n",
      "\u001b[0;32m/Library/Frameworks/Python.framework/Versions/3.7/lib/python3.7/urllib/request.py\u001b[0m in \u001b[0;36m_call_chain\u001b[0;34m(self, chain, kind, meth_name, *args)\u001b[0m\n\u001b[1;32m    501\u001b[0m         \u001b[0;32mfor\u001b[0m \u001b[0mhandler\u001b[0m \u001b[0;32min\u001b[0m \u001b[0mhandlers\u001b[0m\u001b[0;34m:\u001b[0m\u001b[0;34m\u001b[0m\u001b[0m\n\u001b[1;32m    502\u001b[0m             \u001b[0mfunc\u001b[0m \u001b[0;34m=\u001b[0m \u001b[0mgetattr\u001b[0m\u001b[0;34m(\u001b[0m\u001b[0mhandler\u001b[0m\u001b[0;34m,\u001b[0m \u001b[0mmeth_name\u001b[0m\u001b[0;34m)\u001b[0m\u001b[0;34m\u001b[0m\u001b[0m\n\u001b[0;32m--> 503\u001b[0;31m             \u001b[0mresult\u001b[0m \u001b[0;34m=\u001b[0m \u001b[0mfunc\u001b[0m\u001b[0;34m(\u001b[0m\u001b[0;34m*\u001b[0m\u001b[0margs\u001b[0m\u001b[0;34m)\u001b[0m\u001b[0;34m\u001b[0m\u001b[0m\n\u001b[0m\u001b[1;32m    504\u001b[0m             \u001b[0;32mif\u001b[0m \u001b[0mresult\u001b[0m \u001b[0;32mis\u001b[0m \u001b[0;32mnot\u001b[0m \u001b[0;32mNone\u001b[0m\u001b[0;34m:\u001b[0m\u001b[0;34m\u001b[0m\u001b[0m\n\u001b[1;32m    505\u001b[0m                 \u001b[0;32mreturn\u001b[0m \u001b[0mresult\u001b[0m\u001b[0;34m\u001b[0m\u001b[0m\n",
      "\u001b[0;32m/Library/Frameworks/Python.framework/Versions/3.7/lib/python3.7/urllib/request.py\u001b[0m in \u001b[0;36mhttps_open\u001b[0;34m(self, req)\u001b[0m\n\u001b[1;32m   1358\u001b[0m         \u001b[0;32mdef\u001b[0m \u001b[0mhttps_open\u001b[0m\u001b[0;34m(\u001b[0m\u001b[0mself\u001b[0m\u001b[0;34m,\u001b[0m \u001b[0mreq\u001b[0m\u001b[0;34m)\u001b[0m\u001b[0;34m:\u001b[0m\u001b[0;34m\u001b[0m\u001b[0m\n\u001b[1;32m   1359\u001b[0m             return self.do_open(http.client.HTTPSConnection, req,\n\u001b[0;32m-> 1360\u001b[0;31m                 context=self._context, check_hostname=self._check_hostname)\n\u001b[0m\u001b[1;32m   1361\u001b[0m \u001b[0;34m\u001b[0m\u001b[0m\n\u001b[1;32m   1362\u001b[0m         \u001b[0mhttps_request\u001b[0m \u001b[0;34m=\u001b[0m \u001b[0mAbstractHTTPHandler\u001b[0m\u001b[0;34m.\u001b[0m\u001b[0mdo_request_\u001b[0m\u001b[0;34m\u001b[0m\u001b[0m\n",
      "\u001b[0;32m/Library/Frameworks/Python.framework/Versions/3.7/lib/python3.7/urllib/request.py\u001b[0m in \u001b[0;36mdo_open\u001b[0;34m(self, http_class, req, **http_conn_args)\u001b[0m\n\u001b[1;32m   1315\u001b[0m             \u001b[0;32mtry\u001b[0m\u001b[0;34m:\u001b[0m\u001b[0;34m\u001b[0m\u001b[0m\n\u001b[1;32m   1316\u001b[0m                 h.request(req.get_method(), req.selector, req.data, headers,\n\u001b[0;32m-> 1317\u001b[0;31m                           encode_chunked=req.has_header('Transfer-encoding'))\n\u001b[0m\u001b[1;32m   1318\u001b[0m             \u001b[0;32mexcept\u001b[0m \u001b[0mOSError\u001b[0m \u001b[0;32mas\u001b[0m \u001b[0merr\u001b[0m\u001b[0;34m:\u001b[0m \u001b[0;31m# timeout error\u001b[0m\u001b[0;34m\u001b[0m\u001b[0m\n\u001b[1;32m   1319\u001b[0m                 \u001b[0;32mraise\u001b[0m \u001b[0mURLError\u001b[0m\u001b[0;34m(\u001b[0m\u001b[0merr\u001b[0m\u001b[0;34m)\u001b[0m\u001b[0;34m\u001b[0m\u001b[0m\n",
      "\u001b[0;32m/Library/Frameworks/Python.framework/Versions/3.7/lib/python3.7/http/client.py\u001b[0m in \u001b[0;36mrequest\u001b[0;34m(self, method, url, body, headers, encode_chunked)\u001b[0m\n\u001b[1;32m   1227\u001b[0m                 encode_chunked=False):\n\u001b[1;32m   1228\u001b[0m         \u001b[0;34m\"\"\"Send a complete request to the server.\"\"\"\u001b[0m\u001b[0;34m\u001b[0m\u001b[0m\n\u001b[0;32m-> 1229\u001b[0;31m         \u001b[0mself\u001b[0m\u001b[0;34m.\u001b[0m\u001b[0m_send_request\u001b[0m\u001b[0;34m(\u001b[0m\u001b[0mmethod\u001b[0m\u001b[0;34m,\u001b[0m \u001b[0murl\u001b[0m\u001b[0;34m,\u001b[0m \u001b[0mbody\u001b[0m\u001b[0;34m,\u001b[0m \u001b[0mheaders\u001b[0m\u001b[0;34m,\u001b[0m \u001b[0mencode_chunked\u001b[0m\u001b[0;34m)\u001b[0m\u001b[0;34m\u001b[0m\u001b[0m\n\u001b[0m\u001b[1;32m   1230\u001b[0m \u001b[0;34m\u001b[0m\u001b[0m\n\u001b[1;32m   1231\u001b[0m     \u001b[0;32mdef\u001b[0m \u001b[0m_send_request\u001b[0m\u001b[0;34m(\u001b[0m\u001b[0mself\u001b[0m\u001b[0;34m,\u001b[0m \u001b[0mmethod\u001b[0m\u001b[0;34m,\u001b[0m \u001b[0murl\u001b[0m\u001b[0;34m,\u001b[0m \u001b[0mbody\u001b[0m\u001b[0;34m,\u001b[0m \u001b[0mheaders\u001b[0m\u001b[0;34m,\u001b[0m \u001b[0mencode_chunked\u001b[0m\u001b[0;34m)\u001b[0m\u001b[0;34m:\u001b[0m\u001b[0;34m\u001b[0m\u001b[0m\n",
      "\u001b[0;32m/Library/Frameworks/Python.framework/Versions/3.7/lib/python3.7/http/client.py\u001b[0m in \u001b[0;36m_send_request\u001b[0;34m(self, method, url, body, headers, encode_chunked)\u001b[0m\n\u001b[1;32m   1238\u001b[0m             \u001b[0mskips\u001b[0m\u001b[0;34m[\u001b[0m\u001b[0;34m'skip_accept_encoding'\u001b[0m\u001b[0;34m]\u001b[0m \u001b[0;34m=\u001b[0m \u001b[0;36m1\u001b[0m\u001b[0;34m\u001b[0m\u001b[0m\n\u001b[1;32m   1239\u001b[0m \u001b[0;34m\u001b[0m\u001b[0m\n\u001b[0;32m-> 1240\u001b[0;31m         \u001b[0mself\u001b[0m\u001b[0;34m.\u001b[0m\u001b[0mputrequest\u001b[0m\u001b[0;34m(\u001b[0m\u001b[0mmethod\u001b[0m\u001b[0;34m,\u001b[0m \u001b[0murl\u001b[0m\u001b[0;34m,\u001b[0m \u001b[0;34m**\u001b[0m\u001b[0mskips\u001b[0m\u001b[0;34m)\u001b[0m\u001b[0;34m\u001b[0m\u001b[0m\n\u001b[0m\u001b[1;32m   1241\u001b[0m \u001b[0;34m\u001b[0m\u001b[0m\n\u001b[1;32m   1242\u001b[0m         \u001b[0;31m# chunked encoding will happen if HTTP/1.1 is used and either\u001b[0m\u001b[0;34m\u001b[0m\u001b[0;34m\u001b[0m\u001b[0m\n",
      "\u001b[0;32m/Library/Frameworks/Python.framework/Versions/3.7/lib/python3.7/http/client.py\u001b[0m in \u001b[0;36mputrequest\u001b[0;34m(self, method, url, skip_host, skip_accept_encoding)\u001b[0m\n\u001b[1;32m   1105\u001b[0m \u001b[0;34m\u001b[0m\u001b[0m\n\u001b[1;32m   1106\u001b[0m         \u001b[0;31m# Non-ASCII characters should have been eliminated earlier\u001b[0m\u001b[0;34m\u001b[0m\u001b[0;34m\u001b[0m\u001b[0m\n\u001b[0;32m-> 1107\u001b[0;31m         \u001b[0mself\u001b[0m\u001b[0;34m.\u001b[0m\u001b[0m_output\u001b[0m\u001b[0;34m(\u001b[0m\u001b[0mrequest\u001b[0m\u001b[0;34m.\u001b[0m\u001b[0mencode\u001b[0m\u001b[0;34m(\u001b[0m\u001b[0;34m'ascii'\u001b[0m\u001b[0;34m)\u001b[0m\u001b[0;34m)\u001b[0m\u001b[0;34m\u001b[0m\u001b[0m\n\u001b[0m\u001b[1;32m   1108\u001b[0m \u001b[0;34m\u001b[0m\u001b[0m\n\u001b[1;32m   1109\u001b[0m         \u001b[0;32mif\u001b[0m \u001b[0mself\u001b[0m\u001b[0;34m.\u001b[0m\u001b[0m_http_vsn\u001b[0m \u001b[0;34m==\u001b[0m \u001b[0;36m11\u001b[0m\u001b[0;34m:\u001b[0m\u001b[0;34m\u001b[0m\u001b[0m\n",
      "\u001b[0;31mUnicodeEncodeError\u001b[0m: 'ascii' codec can't encode character '\\xe4' in position 45: ordinal not in range(128)"
     ]
    }
   ],
   "source": [
    "from urllib.request import urlopen\n",
    "from bs4 import BeautifulSoup as soup\n",
    "\n",
    "my_url = 'https://www.booli.se/slutpriser/frosunda/874692/?objectType=Lägenhet&page=1'\n",
    "\n",
    "# Opening up connection and grabbing the page\n",
    "uClient = urlopen(my_url)\n",
    "page_html = uClient.read()\n",
    "uClient.close()\n",
    "\n",
    "page_soup = soup(page_html, 'html.parser')"
   ]
  },
  {
   "cell_type": "code",
   "execution_count": null,
   "metadata": {},
   "outputs": [],
   "source": []
  }
 ],
 "metadata": {
  "kernelspec": {
   "display_name": "Python 3",
   "language": "python",
   "name": "python3"
  },
  "language_info": {
   "codemirror_mode": {
    "name": "ipython",
    "version": 3
   },
   "file_extension": ".py",
   "mimetype": "text/x-python",
   "name": "python",
   "nbconvert_exporter": "python",
   "pygments_lexer": "ipython3",
   "version": "3.7.0b3"
  }
 },
 "nbformat": 4,
 "nbformat_minor": 2
}
