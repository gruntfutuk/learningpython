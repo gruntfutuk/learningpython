{
 "cells": [
  {
   "cell_type": "code",
   "execution_count": null,
   "metadata": {},
   "outputs": [],
   "source": [
    "from itertools import cycle\n",
    "\n",
    "def print_board(board):\n",
    "    for ridx, row in enumerate(board, start=1):\n",
    "        for cidx, col in enumerate(row, start=1):\n",
    "            print(f\"{col}{'|' if cidx in (1, 2) else ''}\", end=\"\")\n",
    "        print(f\"\\n{LINE if ridx in (1, 2) else NULL}\")\n",
    "\n",
    "LINE = \"-|-|-\"\n",
    "NULL = \"\"\n",
    "X = \"X\"\n",
    "O = \"O\"\n",
    "\n",
    "board = [[' ' for _ in range(3)] for _ in range(3)]  # initialise\n",
    "moves = ((1, 1), (0,2), (2,1), (0,1), (0,0))  # testing\n",
    "players = cycle((X, O))  # to alternate between players for testing\n",
    "\n",
    "print_board(board)\n",
    "for row,col in moves:\n",
    "    board[row][col] = next(players)\n",
    "    print_board(board)"
   ]
  },
  {
   "cell_type": "code",
   "execution_count": null,
   "metadata": {},
   "outputs": [],
   "source": []
  },
  {
   "cell_type": "code",
   "execution_count": null,
   "metadata": {},
   "outputs": [],
   "source": []
  },
  {
   "cell_type": "code",
   "execution_count": null,
   "metadata": {},
   "outputs": [],
   "source": [
    "def get_nums():\n",
    "    nums = input('5 comma sep ints: ')\n",
    "    try:\n",
    "        if not nums:\n",
    "            raise EOFError\n",
    "        nums = [int(num) for num in nums.strip().split(',')]\n",
    "        if len(nums) != 5:\n",
    "            raise IndexError('few' if len(nums) < 5 else 'many')\n",
    "    except EOFError:\n",
    "        print('No data provided')\n",
    "    except ValueError:\n",
    "        print('Input contained a non-integer value')\n",
    "    except IndexError as e:\n",
    "        print(f'Too {e} values')\n",
    "    else:\n",
    "        return nums"
   ]
  },
  {
   "cell_type": "code",
   "execution_count": null,
   "metadata": {},
   "outputs": [],
   "source": [
    "def find_type(source):\n",
    "    'function to examine string and determine if it contains'\n",
    "    'a viable float, integer or string and return appropriate'\n",
    "    'type accordingly'\n",
    "    try:\n",
    "        value = None\n",
    "        value = float(source)  # try to convert source to float\n",
    "        value = int(source)  # float worked, let's try integer\n",
    "    except ValueError:  # not float or integer\n",
    "        if not value:  # cast to float failed so neither float nor string\n",
    "            value = source\n",
    "    return value\n",
    "\n",
    "mylist = ['Hello', 123, 456.7]\n",
    "\n",
    "while True:\n",
    "    response = input('Enter something (or just return to exit: ')\n",
    "    if not response:\n",
    "        break\n",
    "    value = find_type(response)\n",
    "    print(f'You entered {value} ({type(value).__name__}), which is '\n",
    "          f'{\"\" if value in mylist else \"not \"}in my list')"
   ]
  },
  {
   "cell_type": "code",
   "execution_count": null,
   "metadata": {},
   "outputs": [],
   "source": []
  },
  {
   "cell_type": "code",
   "execution_count": null,
   "metadata": {},
   "outputs": [],
   "source": [
    "class Animals():  \n",
    "    def __init__(self, name, age, gender):\n",
    "        self.name = name\n",
    "        self.age = age\n",
    "        self.gender = gender\n",
    "    def shout(self):\n",
    "        print(self.noise())\n",
    "\n",
    "class Dog(Animals):\n",
    "    def noise(self):\n",
    "        return \"barks\"\n",
    "    def sniff(self):\n",
    "        return 'nose in air'\n",
    "    \n",
    "class Cat(Animals):\n",
    "    def noise(self):\n",
    "        return \"meows\"   \n",
    "    def jumps(self):\n",
    "        return 'jumps on head'\n",
    "    \n",
    "class Mutant(Cat, Dog):\n",
    "    \n",
    "    def noise(self):\n",
    "        return 'barky meow'\n",
    "    \n",
    "    def shout(self):\n",
    "        print(self.noise() * 4)\n",
    "    \n",
    "    \n",
    "rex = Dog('Rex', 5, 'male')\n",
    "puss = Cat('Sophie', 2, 'female')\n",
    "weird = Mutant('Arghh', 1, 'unknown')\n",
    "\n",
    "pets = rex, puss, weird\n",
    "\n",
    "for pet in pets:\n",
    "    pet.shout()\n",
    "    \n",
    "print(rex.sniff())\n",
    "print(puss.jumps())\n",
    "print(weird.sniff(), weird.jumps())"
   ]
  },
  {
   "cell_type": "code",
   "execution_count": null,
   "metadata": {},
   "outputs": [],
   "source": [
    "def weird():\n",
    "    stuff = [50, 39, 58, 16, 45, 38, 27]\n",
    "    other = 'abcdefghijk'\n",
    "    for num, letter in zip(stuff, other):\n",
    "        yield num, letter\n",
    "        \n",
    "for n, l in weird():\n",
    "    print(f'{n}{l}')"
   ]
  },
  {
   "cell_type": "code",
   "execution_count": null,
   "metadata": {},
   "outputs": [],
   "source": [
    "class Car:\n",
    "    \n",
    "    def __init__(self, make, model, year):\n",
    "        self.make = make\n",
    "        self.model = model\n",
    "        self.year = year\n",
    "        \n",
    "    def __str__(self):\n",
    "        return f'{self.make} {self.model} {self.year}'\n",
    "    \n",
    "transport = Car('Audi', 'A5', 2015)  # my previous car :-)\n",
    "\n",
    "print(transport)"
   ]
  },
  {
   "cell_type": "code",
   "execution_count": null,
   "metadata": {},
   "outputs": [],
   "source": [
    "prices = [4.5, 7.2, 1.13, 8.29, 5.87]\n",
    "quantities = [10, 5, 8, 4, 5]\n",
    "sub_totals = []  # empty list, not done it yet\n",
    "\n",
    "for price, quantity in zip(prices, quantities):\n",
    "    sub_totals.append(price * quantity)\n",
    "\n",
    "total = sum(sub_totals)\n",
    "\n",
    "for price, quantity, sub_total in zip(prices, quantities, sub_totals):\n",
    "    print(f'{price:5.2f} x {quantity:2} = £{sub_total:6.2f}')\n",
    "print(f'Total = {total:0.2f}')"
   ]
  },
  {
   "cell_type": "code",
   "execution_count": null,
   "metadata": {},
   "outputs": [],
   "source": [
    "Days = 'Mon Tue Wed Thu Fri Sat Sun'\n",
    "print(*(_[-1] for _ in Days.split()), sep='')"
   ]
  },
  {
   "cell_type": "code",
   "execution_count": null,
   "metadata": {},
   "outputs": [],
   "source": [
    "'Take two integers from the user'\n",
    "def get_num(prompt='Enter integer: ', fail_msg=\"Not a valid integer.\"):\n",
    "    while True:\n",
    "        try:\n",
    "            return int(input(prompt))\n",
    "        except:\n",
    "            print(fail_msg)\n",
    "\n",
    "'Save the lower number as x, Save the largest integer as y'          \n",
    "x, y = sorted((get_num(), get_num()))\n",
    "\n",
    "'Write a loop that counts from x to y by twos.'\n",
    "for counter in range(x, y + 1, 2):\n",
    "    'Print out the values of that loop - ???means counter??? - using the Print function in Python'\n",
    "    print(f'counter: {counter}')\n",
    "    \n",
    "'Write another loop that adds x and y, and saves the value as Z'\n",
    "'???Do not understand the requirement, guess it means add values from x to y'\n",
    "z = 0 # starter value for z\n",
    "for idx in range(x, y + 1):  # count from x to y and add values\n",
    "    z += idx # increment current value referenced by current count\n",
    "    'Print out the values of Z using the Print function in Python.'\n",
    "    print(f'index: {idx}, z is now: {z}')"
   ]
  },
  {
   "cell_type": "code",
   "execution_count": null,
   "metadata": {},
   "outputs": [],
   "source": [
    "def get_num(prompt='Enter integer: ', fail_msg=\"Not a valid integer.\", low=None, high=None):\n",
    "    while True:\n",
    "        try:\n",
    "            num = int(input(prompt))\n",
    "            if low and num < low: raise ValueError\n",
    "            if high and num > high: raise ValueError\n",
    "            return num\n",
    "        except ValueError:\n",
    "            print(fail_msg)"
   ]
  },
  {
   "cell_type": "code",
   "execution_count": null,
   "metadata": {},
   "outputs": [],
   "source": [
    "print(get_num(low=100))"
   ]
  },
  {
   "cell_type": "code",
   "execution_count": null,
   "metadata": {},
   "outputs": [],
   "source": [
    "PHONE_LETTERS = \"abcdefghijklmnopqrstuvwxyzABCDEFGHIJKLMNOPQRSTUVWXYZ\"\n",
    "PHONE_DIGITS = \"2223334445556667777888999922233344455566677778889999\"\n",
    "PHONE_MAPPING = str.maketrans(PHONE_LETTERS, PHONE_DIGITS)\n",
    "\n",
    "phone = input('Phone number: ')\n",
    "digits = phone.translate(PHONE_MAPPING)\n",
    "print(digits)"
   ]
  },
  {
   "cell_type": "code",
   "execution_count": null,
   "metadata": {},
   "outputs": [],
   "source": [
    "PHONE_LETTERS = \"abcdefghijklmnopqrstuvwxyzABCDEFGHIJKLMNOPQRSTUVWXYZ\"\n",
    "PHONE_DIGITS = \"2223334445556667777888999922233344455566677778889999\"\n",
    "phone_mapping = dict(zip(PHONE_LETTERS, PHONE_DIGITS))"
   ]
  },
  {
   "cell_type": "code",
   "execution_count": null,
   "metadata": {},
   "outputs": [],
   "source": [
    "for key, value in phone_mapping.items():\n",
    "    if key <= 'Z':\n",
    "        print(f'\"{key}\": \"{value}\"', end=', ')\n",
    "print()"
   ]
  },
  {
   "cell_type": "code",
   "execution_count": null,
   "metadata": {},
   "outputs": [],
   "source": [
    "phone_mapping = {'A': '2',\n",
    "                 'B': '2',\n",
    "                 'C': '2',\n",
    "                 'D': '3',\n",
    "                 'E': '3',\n",
    "                 'F': '3',\n",
    "                 'G': '4',\n",
    "                 'H': '4',\n",
    "                 'I': '4',\n",
    "                 'J': '5',\n",
    "                 'K': '5',\n",
    "                 'L': '5',\n",
    "                 'M': '6',\n",
    "                 'N': '6',\n",
    "                 'O': '6',\n",
    "                 'P': '7',\n",
    "                 'Q': '7',\n",
    "                 'R': '7',\n",
    "                 'S': '7',\n",
    "                 'T': '8',\n",
    "                 'U': '8',\n",
    "                 'V': '8',\n",
    "                 'W': '9',\n",
    "                 'X': '9',\n",
    "                 'Y': '9',\n",
    "                 'Z': '9'\n",
    "                }"
   ]
  },
  {
   "cell_type": "code",
   "execution_count": null,
   "metadata": {},
   "outputs": [],
   "source": [
    "def phone_convert(phone):\n",
    "    digits = ''\n",
    "    for character in phone:\n",
    "        digits += phone_mapping.get(character.upper(), character)\n",
    "    return digits\n",
    "\n",
    "phone = input('Phone number: ')\n",
    "digits = phone_convert(phone)\n",
    "print(digits)"
   ]
  },
  {
   "cell_type": "code",
   "execution_count": null,
   "metadata": {},
   "outputs": [],
   "source": []
  },
  {
   "cell_type": "code",
   "execution_count": null,
   "metadata": {},
   "outputs": [],
   "source": [
    "import bcrypt  # install using pip install bcrypt  - might need to use pip3\n",
    "\n",
    "def gen_password(password, salt=12):\n",
    "    return bcrypt.hashpw(password.encode('utf-8'), bcrypt.gensalt(salt))\n",
    "\n",
    "def check_password(check_password, stored_password):\n",
    "    try:\n",
    "        return bcrypt.checkpw(check_password.encode('utf-8'), stored_password)\n",
    "    except ValueError:\n",
    "        return False\n",
    "\n",
    "def save_password(name, password):\n",
    "    if name not in passwords:\n",
    "        passwords[name] = gen_password(password)\n",
    "        return True\n",
    "    else:\n",
    "        return False\n",
    "\n",
    "def get_name_and_password():\n",
    "        name = input('Name? (enter to finish): ')\n",
    "        if not name:\n",
    "            return None, None\n",
    "        while True:\n",
    "            password = input('Password? ')\n",
    "            if password:\n",
    "                break\n",
    "            print('A password is require')\n",
    "        return name, password\n",
    "\n",
    "def add_users():\n",
    "    print('\\n\\nAdd new users and passwords to password database\\n')\n",
    "    while True:\n",
    "        name, password = get_name_and_password()\n",
    "        if not name:\n",
    "            return\n",
    "        stored = save_password(name, password)\n",
    "        if stored:\n",
    "            print(f'{name} password saved')\n",
    "        else:\n",
    "            print(f'{name} is not unique and cannot be saved')\n",
    "            \n",
    "def test():\n",
    "    print('\\n\\nEnter user names and passwords to test password database\\n')\n",
    "    while True:\n",
    "        name, password = get_name_and_password()\n",
    "        if not name:\n",
    "            return\n",
    "        if name in passwords:\n",
    "            valid = check_password(password, passwords[name])\n",
    "        else:\n",
    "            valid = False\n",
    "        print(f'Name and Password are {\"correct\" if valid else \"not correct\"}')\n",
    "        \n",
    "\n",
    "passwords = {}  # this would be stored in a file typically\n",
    "add_users()\n",
    "test()"
   ]
  },
  {
   "cell_type": "code",
   "execution_count": null,
   "metadata": {},
   "outputs": [],
   "source": [
    "result = [0, 0, 1, 2, 3]\n",
    "print(result)\n",
    "result = result[next((i for i, x in enumerate(result) if x != 0), len(result)):] or [0]\n",
    "print(result)"
   ]
  },
  {
   "cell_type": "code",
   "execution_count": null,
   "metadata": {},
   "outputs": [],
   "source": [
    "result = [0, 0, 1, 2, 3]\n",
    "print(result)\n",
    "result = [n for n in result if n != 0]\n",
    "print(result)"
   ]
  },
  {
   "cell_type": "code",
   "execution_count": null,
   "metadata": {},
   "outputs": [],
   "source": [
    "#this not question\n",
    "\n",
    "a = [\"gopi\",\"krishna\",\"love\",\"python\"]\n",
    "b_even = []\n",
    "c_odd = []\n",
    "index = 0\n",
    "for item in a:\n",
    "    if index % 2 != 0:\n",
    "        b_even.append(item)\n",
    "    else:\n",
    "        c_odd.append(item)\n",
    "    index+=1\n",
    "print (\"even index words\",b_even)\n",
    "print (\"odd index words\",c_odd)"
   ]
  },
  {
   "cell_type": "code",
   "execution_count": null,
   "metadata": {},
   "outputs": [],
   "source": [
    "a = [\"gopi\",\"krishna\",\"love\",\"python\"]\n",
    "print('even index words: ', a[::2])\n",
    "print('odd index words: ', a[1::2])"
   ]
  },
  {
   "cell_type": "code",
   "execution_count": null,
   "metadata": {},
   "outputs": [],
   "source": [
    "import os\n",
    "\n",
    "with open('output.html', 'w') as f:\n",
    "    f.write(\n",
    "\"\"\"<html>\n",
    "<head>\n",
    "<style>\n",
    "h1 { line-height: 3 }\n",
    "p { line-height: 1.5 }\n",
    ".charge {\n",
    "    position: relative;\n",
    "    bottom: 0.5em;\n",
    "    color: red;\n",
    "    font-size: 0.8em;\n",
    "}\n",
    ".atoms {\n",
    "    position: relative;\n",
    "    top: 0.3em;\n",
    "    color: blue;\n",
    "    font-size: 0.8em;\n",
    "}\n",
    "</style>\n",
    "</head>\n",
    "<body>\n",
    "<h1>Superscripts and Subscripts</h1>\n",
    "<p>H<span class=\"atoms\">2</span>SO<span class=\"atoms\">4</span> is the chemical formula for sulphuric acid.\n",
    "But how is this gold Au<span class=\"charge\">2+</span>?</p>\n",
    "</body>\n",
    "<html>\"\"\"\n",
    ")\n",
    "os.system('open output.html')"
   ]
  },
  {
   "cell_type": "code",
   "execution_count": null,
   "metadata": {},
   "outputs": [],
   "source": [
    "from random import randint\n",
    "arr2 = [randint(1, 100) for _ in range(1000)]\n",
    "%timeit max(arr2, key=arr2.count)\n",
    "%timeit max(set(arr2), key=arr2.count)"
   ]
  },
  {
   "cell_type": "code",
   "execution_count": null,
   "metadata": {},
   "outputs": [],
   "source": [
    "'deck of cards'\n",
    "\n",
    "from itertools import product\n",
    "from random import shuffle\n",
    "\n",
    "def present(card):\n",
    "    return f'{faces.get(card[0], card[0]):>5} of {card[1]}'\n",
    "\n",
    "\n",
    "faces = {1: \"Ace\", 11: \"Jack\", 12: \"Queen\", 14: \"King\"}\n",
    "deck = list(product(range(1, 14), ['Spades', 'Diamonds', 'Hearts', 'Clubs']))\n",
    "shuffle(deck)\n",
    "\n",
    "while True:    \n",
    "    for _ in range(5):\n",
    "        print(present(deck.pop()))\n",
    "    print(f'{len(deck)} card(s) left')\n",
    "    if len(deck) < 5 or not input('Again? ').lower().strip() in ['', 'y', 'yes', 'yup', 'ok']:\n",
    "        break\n",
    "if deck:\n",
    "    print('Cards left:')\n",
    "    for card in deck:\n",
    "        print(present(card))"
   ]
  },
  {
   "cell_type": "code",
   "execution_count": null,
   "metadata": {},
   "outputs": [],
   "source": [
    "try:\n",
    "    prices = [int(price) for price in input('10x cost, price: ').strip().split(',')]\n",
    "    if len(prices) != 20:\n",
    "        raise IndexError\n",
    "except ValueError:\n",
    "    print('You entered invalid data')\n",
    "except IndexError:\n",
    "    print('You entered wrong amount of data')\n",
    "else:\n",
    "    print(sum(prices[1::2]) - sum(prices[::2]))    \n",
    "    "
   ]
  },
  {
   "cell_type": "code",
   "execution_count": null,
   "metadata": {},
   "outputs": [],
   "source": []
  },
  {
   "cell_type": "code",
   "execution_count": null,
   "metadata": {},
   "outputs": [],
   "source": [
    "\n"
   ]
  },
  {
   "cell_type": "code",
   "execution_count": null,
   "metadata": {},
   "outputs": [],
   "source": [
    "while True:\n",
    "    try: n = abs(int(input('Highest: ')));break\n",
    "    except: pass\n",
    "p = [0,0]+([1]*(n-1))\n",
    "for c in range(2, int(n**(0.5)+1)):\n",
    "    if p[c]:\n",
    "        for s in range(c*2,n+1,c):\n",
    "            p[s]=0\n",
    "print(f'range 0 to {n} contains {p.count(1)} primes')"
   ]
  },
  {
   "cell_type": "code",
   "execution_count": null,
   "metadata": {},
   "outputs": [],
   "source": [
    "for n in 100, 1000, 10000:\n",
    "    p = [0,0]+([1]*(n-1))\n",
    "    for c in range(2, int(n**(0.5)+1)):\n",
    "        if p[c]:\n",
    "            for s in range(c*2,n+1,c):\n",
    "                p[s]=0\n",
    "    print(f'range 0 to {n} contains {p.count(1)} primes')"
   ]
  },
  {
   "cell_type": "code",
   "execution_count": null,
   "metadata": {},
   "outputs": [],
   "source": [
    "from random import randint\n",
    "\n",
    "secret_number = randint(1, 100)\n",
    "guess_num = 0\n",
    "guess_count = 10\n",
    "while guess_num < guess_count:\n",
    "    guess_num += 1\n",
    "    guess = int(input(f\"Guess #{guess_num}: \"))\n",
    "    if guess == secret_number:\n",
    "        print(f'You won! Used {guess_num} guesses')\n",
    "        break\n",
    "    elif guess < secret_number:\n",
    "        print('Too low')\n",
    "    else:\n",
    "        print('Too high')\n",
    "else:\n",
    "    print('You ran out of guesses')"
   ]
  },
  {
   "cell_type": "code",
   "execution_count": null,
   "metadata": {},
   "outputs": [],
   "source": [
    "def how(): # define a function object, with no parameters, referenced by name <how>\n",
    "    a = 1  # assign reference to integer object <1> to variable <a>\n",
    "    to = 0 # assign reference to integr object <0> to variable <to>\n",
    "    while a <= 2:   # if object referenced by <a> has value less than\n",
    "                    # or equal to the integer value <2>, then execute\n",
    "                    # instructions inside loop (indented under while)\n",
    "        a += 1      # add <1> to object referenced by <a> and assign result to <a>\n",
    "        to += ++a   # add value of object referenced by <a>, to the value of the\n",
    "                    # object referenced by <to> and assign resulting object to the\n",
    "                    # variable <to>\n",
    "                    # note, in Python <++a> means the same as <a>\n",
    "    return 'x'* to  # return the string <'*'> repeated the number of times \n",
    "                    # of the value in the object referenced by the variable <to>\n",
    "\n",
    "print(how())  # call function <print> with argument that is result of calling\n",
    "              # function object referenced by the name <how>."
   ]
  },
  {
   "cell_type": "code",
   "execution_count": null,
   "metadata": {},
   "outputs": [],
   "source": [
    "a = 1\n",
    "to = 0\n",
    "while a <= 2:\n",
    "    a += 1\n",
    "    to += a\n",
    "    print(f'a is now: {a}\\nto is now: {to}')"
   ]
  },
  {
   "cell_type": "code",
   "execution_count": null,
   "metadata": {},
   "outputs": [],
   "source": [
    "import random as rnd\n",
    "\n",
    "fPlayerCount = 0\n",
    "splayerCount = 0\n",
    "matchCount = 0\n",
    "\n",
    "while True:\n",
    "  check = input('enter start or exit game: ')\n",
    "  if check == 'start':\n",
    "    firstPlayerName = input('First Player: ')\n",
    "    firstPlayerNumber = rnd.randrange(1,7)\n",
    "    secondPlayerName = input('Second PLayer: ')\n",
    "    secondPlayerNumber = rnd.randrange(1,7)\n",
    "    if firstPlayerNumber > secondPlayerNumber:\n",
    "         print('Won {} Points: {}, {} Points: {}'.format(firstPlayerName,firstPlayerNumber, secondPlayerName,secondPlayerNumber))\n",
    "         fPlayerCount += 1\n",
    "    elif firstPlayerNumber < secondPlayerNumber:\n",
    "         print('Won {} Points: {}, {} Points: {}'.format(secondPlayerName,secondPlayerNumber,firstPlayerName,firstPlayerNumber))\n",
    "         splayerCount += 1\n",
    "    else:\n",
    "         print('Draw {} Points: {} {} Points: {} '.format(firstPlayerName,firstPlayerNumber, secondPlayerName,secondPlayerNumber))\n",
    "    matchCount += 1\n",
    "  else:\n",
    "       if fPlayerCount > splayerCount:\n",
    "         print('After {} Matches First Player Won {} Times'.format(matchCount,fPlayerCount))\n",
    "       elif fPlayerCount == splayerCount:\n",
    "         print('After {} Matches DRAW ! Try Again'.format(matchCount))\n",
    "       else:\n",
    "         print('After {} Matches Second Player Won {} Times'.format(matchCount,splayerCount))\n",
    "       break "
   ]
  },
  {
   "cell_type": "code",
   "execution_count": null,
   "metadata": {},
   "outputs": [],
   "source": [
    "for product, qty, cost, fr_currency, fr_cost in zip(\n",
    "            product_list,\n",
    "            quantities,\n",
    "            costs,\n",
    "            currency,\n",
    "            foriegn_cost):\n",
    "    product_obj = Product.objects.get(id=int(product))                                        \n",
    "    OrderProduct.objects.create(product=product_obj,\n",
    "                                ordered_quantity=int(qty),\n",
    "                                cost=cost*2,\n",
    "                                currency=fr_currency,\n",
    "                                foriegn_cost=fr_cost,\n",
    "                                actual_cost=cost)"
   ]
  },
  {
   "cell_type": "code",
   "execution_count": null,
   "metadata": {},
   "outputs": [],
   "source": [
    "a=[1,2,3,4]\n",
    "b=[5,6,7,8]\n",
    "c=[9,10,11,12]\n",
    "for alpha, beta, charlie in zip(\n",
    "            a,\n",
    "            b,\n",
    "            c):\n",
    "    print(alpha, beta, charlie)"
   ]
  },
  {
   "cell_type": "code",
   "execution_count": null,
   "metadata": {},
   "outputs": [],
   "source": [
    "def done(largest, smallest):\n",
    "    print('Maximum is', largest)\n",
    "    print('Smallest is', smallest)\n",
    "\n",
    "largest = None\n",
    "smallest = None\n",
    "\n",
    "while True:\n",
    "    inp = input('Enter a number: ')\n",
    "    if inp == 'done':\n",
    "        break\n",
    "    try:\n",
    "        num = float(inp)\n",
    "    except ValueError:\n",
    "        print('Invalid input. Try again.')\n",
    "        continue\n",
    "\n",
    "    if smallest is None:\n",
    "        smallest = num\n",
    "    if largest is None:\n",
    "        largest = num\n",
    "    if num > largest:\n",
    "        largest = num\n",
    "    elif num < smallest:\n",
    "        smallest = num\n",
    "   \n",
    "done(largest, smallest)        "
   ]
  },
  {
   "cell_type": "code",
   "execution_count": null,
   "metadata": {},
   "outputs": [],
   "source": [
    "def get_num(prompt, qty=1):\n",
    "    responses = []\n",
    "    for _ in range(qty):\n",
    "        while True:\n",
    "            try:\n",
    "                num = int(input(prompt))\n",
    "                responses.append(num)\n",
    "                break\n",
    "            except ValueError:\n",
    "                print('Not a valid integer input. Please try again.')\n",
    "    return responses\n",
    "\n",
    "a,b = get_num('Enter an integer: ', 2)\n",
    "\n",
    "adivb = False if 0 in (a, b) else a % b == 0\n",
    "bdiva = False if 0 in (a, b) else b % a == 0\n",
    "\n",
    "print(f'{a} is {\"\" if adivb else \"not \"}exactly divisible by {b}')\n",
    "print(f'{b} is {\"\" if bdiva else \"not \"}exactly divisible by {a}')  "
   ]
  },
  {
   "cell_type": "code",
   "execution_count": null,
   "metadata": {},
   "outputs": [],
   "source": [
    "num = input('Integer? ')\n",
    "if num.isdigit():\n",
    "    print(f'{num} is {\"odd\" if int(num) % 2 else \"even\"}')\n",
    "else:\n",
    "    print(f'{num} is not an integer')"
   ]
  },
  {
   "cell_type": "code",
   "execution_count": 8,
   "metadata": {},
   "outputs": [
    {
     "name": "stdout",
     "output_type": "stream",
     "text": [
      "Sent email for id 1854\n",
      "Sent email for id 1827\n",
      "Sent email for id 1364\n"
     ]
    }
   ],
   "source": [
    "from random import randint\n",
    "from pathlib import Path\n",
    "import smtplib\n",
    "from email.mime.text import MIMEText\n",
    "from email.mime.multipart import MIMEMultipart\n",
    "from email.mime.base import MIMEBase\n",
    "from email import encoders\n",
    "import os.path\n",
    "\n",
    "email_server_credentials = r'../.ssh/email_server_credentials.csv'  # keeping a secret\n",
    "\n",
    "def send_email(send_to_email, file_location, subject):   \n",
    "    # Setup headers\n",
    "    message = subject\n",
    "    msg = MIMEMultipart()\n",
    "    msg['From'] = email\n",
    "    msg['To'] = send_to_email\n",
    "    msg['Subject'] = subject\n",
    "    msg.attach(MIMEText(message, 'plain'))\n",
    "\n",
    "    # Setup the attachment\n",
    "    filename = os.path.basename(file_location)\n",
    "    attachment = open(file_location, \"rb\")\n",
    "    part = MIMEBase('application', 'octet-stream')\n",
    "    part.set_payload(attachment.read())\n",
    "    encoders.encode_base64(part)\n",
    "    part.add_header('Content-Disposition', \"attachment; filename= %s\" % filename)\n",
    "\n",
    "    # Attach the attachment to the MIMEMultipart object\n",
    "    msg.attach(part)\n",
    "    server = smtplib.SMTP(smtpserver, 587)\n",
    "    server.starttls()\n",
    "    server.login(email, password)\n",
    "    text = msg.as_string()\n",
    "    server.sendmail(email, send_to_email, text)\n",
    "    server.quit()\n",
    "\n",
    "# get my email server credentials\n",
    "with open(email_server_credentials) as f:\n",
    "        smtpserver, email, password, email_prefix, email_domain = f.read().split(',')\n",
    "        \n",
    "number_of_ids = 3\n",
    "ids = []\n",
    "\n",
    "# generate list of random numbers\n",
    "while len(ids) < number_of_ids:\n",
    "    id = randint(1000, 1999)\n",
    "    if not id in ids:\n",
    "        ids.append(id)\n",
    "        \n",
    "# create files\n",
    "for id in ids:\n",
    "    Path(f'{id}.pdf').touch()\n",
    "\n",
    "# send messages\n",
    "for id in ids:\n",
    "    if os.path.isfile(f'{id}.pdf'):\n",
    "        send_email(f'{email_prefix}{id}{email_domain}', f'{id}.pdf', f'pdf for {id}')\n",
    "        print(f'Sent email for id {id}')"
   ]
  },
  {
   "cell_type": "code",
   "execution_count": 12,
   "metadata": {},
   "outputs": [
    {
     "name": "stdout",
     "output_type": "stream",
     "text": [
      "Enter choice 1-4 (or x to exit): Hello\n",
      "Not a valid choice, try again.\n",
      "Enter choice 1-4 (or x to exit): \n",
      "Not a valid choice, try again.\n",
      "Enter choice 1-4 (or x to exit): 7\n",
      "Not a valid choice, try again.\n",
      "Enter choice 1-4 (or x to exit): 1\n",
      "doing menu 1 stuff\n",
      "Enter choice 1-4 (or x to exit): 2\n",
      "doing menu 2 stuff\n",
      "Enter choice 1-4 (or x to exit): 3\n",
      "doing menu 3 stuff\n",
      "Enter choice 1-4 (or x to exit): 4\n",
      "doing menu 4 stuff\n",
      "Enter choice 1-4 (or x to exit): x\n"
     ]
    }
   ],
   "source": [
    "MENU_CHOICES = \"1234x\"\n",
    "\n",
    "while True:  # menu loop\n",
    "    while True:  # validation loop\n",
    "        choice = input('Enter choice 1-4 (or x to exit): ').lower()\n",
    "        if choice and choice in MENU_CHOICES:\n",
    "            break  # break out of validation loop\n",
    "        print('Not a valid choice, try again.')\n",
    "    if choice == 'x':  # break out of menu loop\n",
    "        break\n",
    "    if choice == \"1\":\n",
    "        print('doing menu 1 stuff')\n",
    "    elif choice == \"2\":\n",
    "        print('doing menu 2 stuff')\n",
    "    elif choice == \"3\":\n",
    "        print('doing menu 3 stuff')\n",
    "    else:  # must be 4\n",
    "        print('doing menu 4 stuff')"
   ]
  },
  {
   "cell_type": "code",
   "execution_count": 21,
   "metadata": {},
   "outputs": [
    {
     "name": "stdout",
     "output_type": "stream",
     "text": [
      "80, 45, 26, 15, 15, 10, 9\n"
     ]
    }
   ],
   "source": [
    "data = [[1, 'Australia', 80],\n",
    "        [2, 'England', 45],\n",
    "        [3, 'India', 26],\n",
    "        [4, 'Canada', 15],\n",
    "        [5, 'New Zealand', 15],\n",
    "        [7, 'Wales', 10],\n",
    "        [8, 'Scotland', 9]]\n",
    "\n",
    "# *Expected Output:**[80, 45, 26, 15, 10, 9]\n",
    "values = [value for _, _, value in data]\n",
    "sorted(values)\n",
    "print(*values, sep=\", \")"
   ]
  },
  {
   "cell_type": "code",
   "execution_count": 32,
   "metadata": {},
   "outputs": [
    {
     "name": "stdout",
     "output_type": "stream",
     "text": [
      "line # 5 \"#define test 6.8\" not valid\n",
      "line # 6 \"#define oops\" not valid\n",
      "{'myvalue': 5, 'hervalue': 6, 'hisvalue': 7}\n"
     ]
    }
   ],
   "source": [
    "from io import StringIO\n",
    "\n",
    "sample = \"\"\"\n",
    "#define myvalue 5\n",
    "#define hervalue 6\n",
    "#define hisvalue 7\n",
    "#define test 6.8\n",
    "#define oops\n",
    "\"\"\"\n",
    "\n",
    "defines = {}\n",
    "with StringIO(sample) as file:\n",
    "    for idx, line in enumerate(file, start=1):\n",
    "        line = line.strip()\n",
    "        if line.startswith('#define'):\n",
    "            try:\n",
    "                define, var, value = line.split()\n",
    "                defines[var] = int(value)\n",
    "            except ValueError: # wrong one\n",
    "                print(f'line # {idx} \"{line}\" not valid')\n",
    "print(defines)"
   ]
  },
  {
   "cell_type": "code",
   "execution_count": 3,
   "metadata": {},
   "outputs": [],
   "source": [
    "import pandas as pd\n",
    "\n",
    "data = [[1, 'Australia', 80],\n",
    "        [2, 'England', 45],\n",
    "        [3, 'India', 26],\n",
    "        [4, 'Canada', 15],\n",
    "        [5, 'New Zealand', 15],\n",
    "        [7, 'Wales', 10],\n",
    "        [8, 'Scotland', 9]]\n",
    "\n",
    "df = pd.DataFrame(data, columns=['id','country','num'])\n",
    "df.drop(df[df.country == 'Wales'].index, inplace=True)"
   ]
  },
  {
   "cell_type": "code",
   "execution_count": 14,
   "metadata": {},
   "outputs": [
    {
     "ename": "TypeError",
     "evalue": "list expected at most 1 arguments, got 7",
     "output_type": "error",
     "traceback": [
      "\u001b[0;31m---------------------------------------------------------------------------\u001b[0m",
      "\u001b[0;31mTypeError\u001b[0m                                 Traceback (most recent call last)",
      "\u001b[0;32m<ipython-input-14-bbff25748d09>\u001b[0m in \u001b[0;36m<module>\u001b[0;34m\u001b[0m\n\u001b[0;32m----> 1\u001b[0;31m \u001b[0mlist\u001b[0m\u001b[0;34m(\u001b[0m\u001b[0;34m(\u001b[0m\u001b[0;34m*\u001b[0m\u001b[0mdata\u001b[0m\u001b[0;34m)\u001b[0m\u001b[0;34m)\u001b[0m\u001b[0;34m[\u001b[0m\u001b[0;36m2\u001b[0m\u001b[0;34m]\u001b[0m\u001b[0;34m\u001b[0m\u001b[0;34m\u001b[0m\u001b[0m\n\u001b[0m",
      "\u001b[0;31mTypeError\u001b[0m: list expected at most 1 arguments, got 7"
     ]
    }
   ],
   "source": [
    "list((*data))[2]"
   ]
  },
  {
   "cell_type": "code",
   "execution_count": 83,
   "metadata": {},
   "outputs": [
    {
     "data": {
      "text/plain": [
       "'{\"active\": true, \"age\": 78, \"balance\": 354.8, \"friends\": [\"Jane\", \"John\"], \"name\": \"Foo 2 Bar\", \"other_names\": [\"Doe\", \"John\"], \"spouse\": null}'"
      ]
     },
     "execution_count": 83,
     "metadata": {},
     "output_type": "execute_result"
    }
   ],
   "source": [
    "import json\n",
    "\n",
    "json.dumps({'name': 'Foo 2 Bar',\n",
    "        'age': 78,\n",
    "        'friends': ['Jane', 'John'],\n",
    "        'balance': 354.80,\n",
    "        'other_names': ('Doe', 'John'),\n",
    "        'active': True,\n",
    "        'spouse': None\n",
    "       }, sort_keys=True, indent=None)"
   ]
  },
  {
   "cell_type": "code",
   "execution_count": 2,
   "metadata": {},
   "outputs": [
    {
     "name": "stdout",
     "output_type": "stream",
     "text": [
      "Play again? test\n",
      "Please respond either Yes or No.\n",
      "Play again? \n",
      "Please respond either Yes or No.\n",
      "Play again? Yeh\n",
      "Play again? Nope\n",
      "bye\n"
     ]
    }
   ],
   "source": [
    "# simple function to prompt user for a yes or no response\n",
    "# and return True or False accordingly\n",
    "\n",
    "# pre-define sets of acceptable responses for yes or no\n",
    "AFFIRMATION = frozenset(('yes','y', 'yeh', 'yup', 'ok'))\n",
    "REJECTION = frozenset(('no', 'nah', 'nope', 'ney'))\n",
    "\n",
    "def yes_no(prompt=\"Yes or No? \"):\n",
    "    'return True/False for affirmative/rejection response'\n",
    "    'do not accept an empty response or a response not in pre-defined sets'\n",
    "    while True:\n",
    "        response = input(prompt).lower()\n",
    "        if response and response in AFFIRMATION:\n",
    "            return True\n",
    "        if response and response in REJECTION:\n",
    "            return False\n",
    "        print('Please respond either Yes or No.')\n",
    "        \n",
    "# example usage\n",
    "while True:  # main loop\n",
    "    # do stuff\n",
    "    if not yes_no('Play again? '):\n",
    "        break\n",
    "print('bye')"
   ]
  },
  {
   "cell_type": "code",
   "execution_count": 93,
   "metadata": {},
   "outputs": [
    {
     "name": "stdout",
     "output_type": "stream",
     "text": [
      "Incorrect result for 0 which should be False\n"
     ]
    }
   ],
   "source": [
    "def is_leap(year):\n",
    "    return True if year % 4 == 0 and (year % 100 != 0 or year % 400 == 0) else False\n",
    "\n",
    "tests = [(2017, False),\n",
    "        (1900, False),\n",
    "        (2012, True),\n",
    "        (2000, True),\n",
    "        (0, False)] # last one is, technically, wrong, just checking assert fails correctly\n",
    "\n",
    "for year, outcome in tests:\n",
    "    try:\n",
    "        assert is_leap(year) == outcome\n",
    "    except AssertionError:\n",
    "        print(f'Incorrect result for {year} which should be {outcome}')"
   ]
  },
  {
   "cell_type": "code",
   "execution_count": null,
   "metadata": {},
   "outputs": [],
   "source": []
  }
 ],
 "metadata": {
  "kernelspec": {
   "display_name": "Python 3",
   "language": "python",
   "name": "python3"
  },
  "language_info": {
   "codemirror_mode": {
    "name": "ipython",
    "version": 3
   },
   "file_extension": ".py",
   "mimetype": "text/x-python",
   "name": "python",
   "nbconvert_exporter": "python",
   "pygments_lexer": "ipython3",
   "version": "3.7.1"
  }
 },
 "nbformat": 4,
 "nbformat_minor": 2
}
