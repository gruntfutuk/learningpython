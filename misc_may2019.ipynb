{
 "cells": [
  {
   "cell_type": "code",
   "execution_count": null,
   "metadata": {},
   "outputs": [],
   "source": [
    "from itertools import cycle\n",
    "\n",
    "def print_board(board):\n",
    "    for ridx, row in enumerate(board, start=1):\n",
    "        for cidx, col in enumerate(row, start=1):\n",
    "            print(f\"{col}{'|' if cidx in (1, 2) else ''}\", end=\"\")\n",
    "        print(f\"\\n{LINE if ridx in (1, 2) else NULL}\")\n",
    "\n",
    "LINE = \"-|-|-\"\n",
    "NULL = \"\"\n",
    "X = \"X\"\n",
    "O = \"O\"\n",
    "\n",
    "board = [[' ' for _ in range(3)] for _ in range(3)]  # initialise\n",
    "moves = ((1, 1), (0,2), (2,1), (0,1), (0,0))  # testing\n",
    "players = cycle((X, O))  # to alternate between players for testing\n",
    "\n",
    "print_board(board)\n",
    "for row,col in moves:\n",
    "    board[row][col] = next(players)\n",
    "    print_board(board)"
   ]
  },
  {
   "cell_type": "code",
   "execution_count": null,
   "metadata": {},
   "outputs": [],
   "source": [
    "def get_nums():\n",
    "    nums = input('5 comma sep ints: ')\n",
    "    try:\n",
    "        if not nums:\n",
    "            raise EOFError\n",
    "        nums = [int(num) for num in nums.strip().split(',')]\n",
    "        if len(nums) != 5:\n",
    "            raise IndexError('few' if len(nums) < 5 else 'many')\n",
    "    except EOFError:\n",
    "        print('No data provided')\n",
    "    except ValueError:\n",
    "        print('Input contained a non-integer value')\n",
    "    except IndexError as e:\n",
    "        print(f'Too {e} values')\n",
    "    else:\n",
    "        return nums"
   ]
  },
  {
   "cell_type": "code",
   "execution_count": null,
   "metadata": {},
   "outputs": [],
   "source": [
    "def find_type(source):\n",
    "    'function to examine string and determine if it contains'\n",
    "    'a viable float, integer or string and return appropriate'\n",
    "    'type accordingly'\n",
    "    try:\n",
    "        value = None\n",
    "        value = float(source)  # try to convert source to float\n",
    "        value = int(source)  # float worked, let's try integer\n",
    "    except ValueError:  # not float or integer\n",
    "        if not value:  # cast to float failed so neither float nor string\n",
    "            value = source\n",
    "    return value\n",
    "\n",
    "mylist = ['Hello', 123, 456.7]\n",
    "\n",
    "while True:\n",
    "    response = input('Enter something (or just return to exit: ')\n",
    "    if not response:\n",
    "        break\n",
    "    value = find_type(response)\n",
    "    print(f'You entered {value} ({type(value).__name__}), which is '\n",
    "          f'{\"\" if value in mylist else \"not \"}in my list')"
   ]
  },
  {
   "cell_type": "code",
   "execution_count": null,
   "metadata": {},
   "outputs": [],
   "source": []
  },
  {
   "cell_type": "code",
   "execution_count": null,
   "metadata": {},
   "outputs": [],
   "source": [
    "class Animals():  \n",
    "    def __init__(self, name, age, gender):\n",
    "        self.name = name\n",
    "        self.age = age\n",
    "        self.gender = gender\n",
    "    def shout(self):\n",
    "        print(self.noise())\n",
    "\n",
    "class Dog(Animals):\n",
    "    def noise(self):\n",
    "        return \"barks\"\n",
    "    def sniff(self):\n",
    "        return 'nose in air'\n",
    "    \n",
    "class Cat(Animals):\n",
    "    def noise(self):\n",
    "        return \"meows\"   \n",
    "    def jumps(self):\n",
    "        return 'jumps on head'\n",
    "    \n",
    "class Mutant(Cat, Dog):\n",
    "    \n",
    "    def noise(self):\n",
    "        return 'barky meow'\n",
    "    \n",
    "    def shout(self):\n",
    "        print(self.noise() * 4)\n",
    "    \n",
    "    \n",
    "rex = Dog('Rex', 5, 'male')\n",
    "puss = Cat('Sophie', 2, 'female')\n",
    "weird = Mutant('Arghh', 1, 'unknown')\n",
    "\n",
    "pets = rex, puss, weird\n",
    "\n",
    "for pet in pets:\n",
    "    pet.shout()\n",
    "    \n",
    "print(rex.sniff())\n",
    "print(puss.jumps())\n",
    "print(weird.sniff(), weird.jumps())"
   ]
  },
  {
   "cell_type": "code",
   "execution_count": null,
   "metadata": {},
   "outputs": [],
   "source": [
    "def weird():\n",
    "    stuff = [50, 39, 58, 16, 45, 38, 27]\n",
    "    other = 'abcdefghijk'\n",
    "    for num, letter in zip(stuff, other):\n",
    "        yield num, letter\n",
    "        \n",
    "for n, l in weird():\n",
    "    print(f'{n}{l}')"
   ]
  },
  {
   "cell_type": "code",
   "execution_count": null,
   "metadata": {},
   "outputs": [],
   "source": [
    "class Car:\n",
    "    \n",
    "    def __init__(self, make, model, year):\n",
    "        self.make = make\n",
    "        self.model = model\n",
    "        self.year = year\n",
    "        \n",
    "    def __str__(self):\n",
    "        return f'{self.make} {self.model} {self.year}'\n",
    "    \n",
    "transport = Car('Audi', 'A5', 2015)  # my previous car :-)\n",
    "\n",
    "print(transport)"
   ]
  },
  {
   "cell_type": "code",
   "execution_count": null,
   "metadata": {},
   "outputs": [],
   "source": [
    "prices = [4.5, 7.2, 1.13, 8.29, 5.87]\n",
    "quantities = [10, 5, 8, 4, 5]\n",
    "sub_totals = []  # empty list, not done it yet\n",
    "\n",
    "for price, quantity in zip(prices, quantities):\n",
    "    sub_totals.append(price * quantity)\n",
    "\n",
    "total = sum(sub_totals)\n",
    "\n",
    "for price, quantity, sub_total in zip(prices, quantities, sub_totals):\n",
    "    print(f'{price:5.2f} x {quantity:2} = £{sub_total:6.2f}')\n",
    "print(f'Total = {total:0.2f}')"
   ]
  },
  {
   "cell_type": "code",
   "execution_count": null,
   "metadata": {},
   "outputs": [],
   "source": [
    "Days = 'Mon Tue Wed Thu Fri Sat Sun'\n",
    "print(*(_[-1] for _ in Days.split()), sep='')"
   ]
  },
  {
   "cell_type": "code",
   "execution_count": null,
   "metadata": {},
   "outputs": [],
   "source": [
    "'Take two integers from the user'\n",
    "def get_num(prompt='Enter integer: ', fail_msg=\"Not a valid integer.\"):\n",
    "    while True:\n",
    "        try:\n",
    "            return int(input(prompt))\n",
    "        except:\n",
    "            print(fail_msg)\n",
    "\n",
    "'Save the lower number as x, Save the largest integer as y'          \n",
    "x, y = sorted((get_num(), get_num()))\n",
    "\n",
    "'Write a loop that counts from x to y by twos.'\n",
    "for counter in range(x, y + 1, 2):\n",
    "    'Print out the values of that loop - ???means counter??? - using the Print function in Python'\n",
    "    print(f'counter: {counter}')\n",
    "    \n",
    "'Write another loop that adds x and y, and saves the value as Z'\n",
    "'???Do not understand the requirement, guess it means add values from x to y'\n",
    "z = 0 # starter value for z\n",
    "for idx in range(x, y + 1):  # count from x to y and add values\n",
    "    z += idx # increment current value referenced by current count\n",
    "    'Print out the values of Z using the Print function in Python.'\n",
    "    print(f'index: {idx}, z is now: {z}')"
   ]
  },
  {
   "cell_type": "code",
   "execution_count": 5,
   "metadata": {},
   "outputs": [],
   "source": [
    "def get_num(prompt='Enter integer: ', fail_msg=\"Not a valid integer.\", low=None, high=None):\n",
    "    while True:\n",
    "        try:\n",
    "            num = int(input(prompt))\n",
    "            if low and num < low: raise ValueError\n",
    "            if high and num > high: raise ValueError\n",
    "            return num\n",
    "        except ValueError:\n",
    "            print(fail_msg)"
   ]
  },
  {
   "cell_type": "code",
   "execution_count": 7,
   "metadata": {},
   "outputs": [
    {
     "name": "stdout",
     "output_type": "stream",
     "text": [
      "Enter integer: 56\n",
      "Not a valid integer.\n",
      "Enter integer: 121\n",
      "121\n"
     ]
    }
   ],
   "source": [
    "print(get_num(low=100))"
   ]
  },
  {
   "cell_type": "code",
   "execution_count": 15,
   "metadata": {},
   "outputs": [
    {
     "name": "stdout",
     "output_type": "stream",
     "text": [
      "Phone number: 555-get-food\n",
      "555-438-3663\n"
     ]
    }
   ],
   "source": [
    "PHONE_LETTERS = \"abcdefghijklmnopqrstuvwxyzABCDEFGHIJKLMNOPQRSTUVWXYZ\"\n",
    "PHONE_DIGITS = \"2223334445556667777888999922233344455566677778889999\"\n",
    "PHONE_MAPPING = str.maketrans(PHONE_LETTERS, PHONE_DIGITS)\n",
    "\n",
    "phone = input('Phone number: ')\n",
    "digits = phone.translate(PHONE_MAPPING)\n",
    "print(digits)"
   ]
  },
  {
   "cell_type": "code",
   "execution_count": 21,
   "metadata": {},
   "outputs": [],
   "source": [
    "PHONE_LETTERS = \"abcdefghijklmnopqrstuvwxyzABCDEFGHIJKLMNOPQRSTUVWXYZ\"\n",
    "PHONE_DIGITS = \"2223334445556667777888999922233344455566677778889999\"\n",
    "phone_mapping = dict(zip(PHONE_LETTERS, PHONE_DIGITS))"
   ]
  },
  {
   "cell_type": "code",
   "execution_count": 31,
   "metadata": {},
   "outputs": [
    {
     "name": "stdout",
     "output_type": "stream",
     "text": [
      "\"A\": \"2\", \"B\": \"2\", \"C\": \"2\", \"D\": \"3\", \"E\": \"3\", \"F\": \"3\", \"G\": \"4\", \"H\": \"4\", \"I\": \"4\", \"J\": \"5\", \"K\": \"5\", \"L\": \"5\", \"M\": \"6\", \"N\": \"6\", \"O\": \"6\", \"P\": \"7\", \"Q\": \"7\", \"R\": \"7\", \"S\": \"7\", \"T\": \"8\", \"U\": \"8\", \"V\": \"8\", \"W\": \"9\", \"X\": \"9\", \"Y\": \"9\", \"Z\": \"9\", \n"
     ]
    }
   ],
   "source": [
    "for key, value in phone_mapping.items():\n",
    "    if key <= 'Z':\n",
    "        print(f'\"{key}\": \"{value}\"', end=', ')\n",
    "print()"
   ]
  },
  {
   "cell_type": "code",
   "execution_count": null,
   "metadata": {},
   "outputs": [],
   "source": [
    "phone_mapping = {'A': '2',\n",
    "                 'B': '2',\n",
    "                 'C': '2',\n",
    "                 'D': '3',\n",
    "                 'E': '3',\n",
    "                 'F': '3',\n",
    "                 'G': '4',\n",
    "                 'H': '4',\n",
    "                 'I': '4',\n",
    "                 'J': '5',\n",
    "                 'K': '5',\n",
    "                 'L': '5',\n",
    "                 'M': '6',\n",
    "                 'N': '6',\n",
    "                 'O': '6',\n",
    "                 'P': '7',\n",
    "                 'Q': '7',\n",
    "                 'R': '7',\n",
    "                 'S': '7',\n",
    "                 'T': '8',\n",
    "                 'U': '8',\n",
    "                 'V': '8',\n",
    "                 'W': '9',\n",
    "                 'X': '9',\n",
    "                 'Y': '9',\n",
    "                 'Z': '9'\n",
    "                }"
   ]
  },
  {
   "cell_type": "code",
   "execution_count": 20,
   "metadata": {},
   "outputs": [
    {
     "name": "stdout",
     "output_type": "stream",
     "text": [
      "Phone number: 555-geT-Food\n",
      "555-438-3663\n"
     ]
    }
   ],
   "source": [
    "def phone_convert(phone):\n",
    "    digits = ''\n",
    "    for character in phone:\n",
    "        digits += phone_mapping.get(character.upper(), character)\n",
    "    return digits\n",
    "\n",
    "phone = input('Phone number: ')\n",
    "digits = phone_convert(phone)\n",
    "print(digits)"
   ]
  },
  {
   "cell_type": "code",
   "execution_count": null,
   "metadata": {},
   "outputs": [],
   "source": []
  },
  {
   "cell_type": "code",
   "execution_count": 49,
   "metadata": {},
   "outputs": [
    {
     "name": "stdout",
     "output_type": "stream",
     "text": [
      "\n",
      "\n",
      "Add new users and passwords to password database\n",
      "\n",
      "Name? (enter to finish): Fred\n",
      "Password? pass\n",
      "Fred password saved\n",
      "Name? (enter to finish): \n",
      "\n",
      "\n",
      "Enter user names and passwords to test password database\n",
      "\n",
      "Name? (enter to finish): Fred\n",
      "Password? pass\n",
      "Name and Password are correct\n",
      "Name? (enter to finish): \n"
     ]
    }
   ],
   "source": [
    "import bcrypt  # install using pip install bcrypt  - might need to use pip3\n",
    "\n",
    "def gen_password(password, salt=12):\n",
    "    return bcrypt.hashpw(password.encode('utf-8'), bcrypt.gensalt(salt))\n",
    "\n",
    "def check_password(check_password, stored_password):\n",
    "    try:\n",
    "        return bcrypt.checkpw(check_password.encode('utf-8'), stored_password)\n",
    "    except ValueError:\n",
    "        return False\n",
    "\n",
    "def save_password(name, password):\n",
    "    if name not in passwords:\n",
    "        passwords[name] = gen_password(password)\n",
    "        return True\n",
    "    else:\n",
    "        return False\n",
    "\n",
    "def get_name_and_password():\n",
    "        name = input('Name? (enter to finish): ')\n",
    "        if not name:\n",
    "            return None, None\n",
    "        while True:\n",
    "            password = input('Password? ')\n",
    "            if password:\n",
    "                break\n",
    "            print('A password is require')\n",
    "        return name, password\n",
    "\n",
    "def add_users():\n",
    "    print('\\n\\nAdd new users and passwords to password database\\n')\n",
    "    while True:\n",
    "        name, password = get_name_and_password()\n",
    "        if not name:\n",
    "            return\n",
    "        stored = save_password(name, password)\n",
    "        if stored:\n",
    "            print(f'{name} password saved')\n",
    "        else:\n",
    "            print(f'{name} is not unique and cannot be saved')\n",
    "            \n",
    "def test():\n",
    "    print('\\n\\nEnter user names and passwords to test password database\\n')\n",
    "    while True:\n",
    "        name, password = get_name_and_password()\n",
    "        if not name:\n",
    "            return\n",
    "        if name in passwords:\n",
    "            valid = check_password(password, passwords[name])\n",
    "        else:\n",
    "            valid = False\n",
    "        print(f'Name and Password are {\"correct\" if valid else \"not correct\"}')\n",
    "        \n",
    "\n",
    "passwords = {}  # this would be stored in a file typically\n",
    "add_users()\n",
    "test()"
   ]
  }
 ],
 "metadata": {
  "kernelspec": {
   "display_name": "Python 3",
   "language": "python",
   "name": "python3"
  },
  "language_info": {
   "codemirror_mode": {
    "name": "ipython",
    "version": 3
   },
   "file_extension": ".py",
   "mimetype": "text/x-python",
   "name": "python",
   "nbconvert_exporter": "python",
   "pygments_lexer": "ipython3",
   "version": "3.7.1"
  }
 },
 "nbformat": 4,
 "nbformat_minor": 2
}
