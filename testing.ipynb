{
 "nbformat": 4,
 "nbformat_minor": 2,
 "metadata": {
  "language_info": {
   "name": "python",
   "codemirror_mode": {
    "name": "ipython",
    "version": 3
   },
   "version": "3.8.2-final"
  },
  "orig_nbformat": 2,
  "file_extension": ".py",
  "mimetype": "text/x-python",
  "name": "python",
  "npconvert_exporter": "python",
  "pygments_lexer": "ipython3",
  "version": 3,
  "kernelspec": {
   "name": "python38264bit04a3daf7468f42839eb2941c745052a1",
   "display_name": "Python 3.8.2 64-bit"
  }
 },
 "cells": [
  {
   "cell_type": "code",
   "execution_count": 7,
   "metadata": {},
   "outputs": [
    {
     "output_type": "stream",
     "name": "stdout",
     "text": "True\n"
    }
   ],
   "source": [
    "from random import randint\n",
    "\n",
    "def seen_before(lst):\n",
    "    new_list = []\n",
    "    for item in lst:\n",
    "        if item not in new_list:\n",
    "            new_list.append(item)\n",
    "    return new_list\n",
    "\n",
    "def comp(lst):\n",
    "    return [item for idx, item in enumerate(lst) if item not in lst[:idx]]\n",
    "\n",
    "lst = [randint(1,100) for _ in range(1000)]\n",
    "\n",
    "list_by_seen = seen_before(lst)\n",
    "list_by_comp = comp(lst)\n",
    "\n",
    "print(list_by_seen == list_by_comp)"
   ]
  },
  {
   "cell_type": "code",
   "execution_count": 8,
   "metadata": {},
   "outputs": [
    {
     "output_type": "stream",
     "name": "stdout",
     "text": "740 µs ± 15 µs per loop (mean ± std. dev. of 7 runs, 1000 loops each)\n2.29 ms ± 30.3 µs per loop (mean ± std. dev. of 7 runs, 100 loops each)\n"
    }
   ],
   "source": [
    "%timeit seen_before(lst)\n",
    "%timeit comp(lst)"
   ]
  },
  {
   "cell_type": "code",
   "execution_count": 4,
   "metadata": {},
   "outputs": [],
   "source": [
    "list_by_seen"
   ]
  },
  {
   "cell_type": "code",
   "execution_count": 6,
   "metadata": {},
   "outputs": [
    {
     "output_type": "stream",
     "name": "stdout",
     "text": "Major: Cyber      - number of students:   3\nMajor: IT         - number of students:   0\nMajor: CS         - number of students:   0\n"
    }
   ],
   "source": [
    "poll = {\n",
    "    'Cyber': 0,\n",
    "    'IT': 0,\n",
    "    'CS': 0,\n",
    "    }\n",
    "\n",
    "while True:\n",
    "    major = input(\"Enter the next student's major! Enter 'q' to quit.  \")\n",
    "    if major in poll:\n",
    "        poll[major] += 1\n",
    "    elif major == 'q':\n",
    "        break\n",
    "    else:\n",
    "        print('Major not recognised')\n",
    "        \n",
    "for major, tally in poll.items():\n",
    "        print(f\"Major: {major:10} - number of students: {tally:3}\")"
   ]
  },
  {
   "cell_type": "code",
   "execution_count": null,
   "metadata": {},
   "outputs": [],
   "source": []
  }
 ]
}