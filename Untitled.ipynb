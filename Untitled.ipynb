{
 "cells": [
  {
   "cell_type": "code",
   "execution_count": 17,
   "metadata": {},
   "outputs": [
    {
     "name": "stdout",
     "output_type": "stream",
     "text": [
      "3\n"
     ]
    }
   ],
   "source": [
    "    count = 0\n",
    "    for word in ['thought', 'snickers', 'breath', 'laptop', 'pen', 'discord']:    \n",
    "        if next((pos for pos, ch in enumerate(word) if ch in 'aeiou'), None) > 1:\n",
    "            count +=1\n",
    "    print(count)"
   ]
  },
  {
   "cell_type": "code",
   "execution_count": 24,
   "metadata": {},
   "outputs": [
    {
     "name": "stdout",
     "output_type": "stream",
     "text": [
      "Here is your list:  [1]\n",
      "Here is your list:  [2]\n",
      "Here is your list:  [3]\n",
      "Here is your list:  [4]\n",
      "Here is your list:  [1, 2, 3]\n",
      "Here is your list:  [1, 2, 3, 4, 5, 6, 7, 8]\n"
     ]
    }
   ],
   "source": [
    "def add_integer(lst):\n",
    "    while True:\n",
    "        value = input('Enter a list value (return to exit): ')\n",
    "        if not value:\n",
    "            return False\n",
    "        if value.isnumeric():\n",
    "            lst.append(int(value))\n",
    "            return True\n",
    "        print('That is not a valid entry. Please try again.')\n",
    "\n",
    "while True:\n",
    "    lst = []\n",
    "    while len(lst) < 8:\n",
    "        if not add_integer(lst):\n",
    "            break\n",
    "    if not lst:\n",
    "        break\n",
    "    print('Here is your list: ', lst)\n"
   ]
  },
  {
   "cell_type": "code",
   "execution_count": null,
   "metadata": {},
   "outputs": [],
   "source": []
  }
 ],
 "metadata": {
  "kernelspec": {
   "display_name": "Python 3",
   "language": "python",
   "name": "python3"
  },
  "language_info": {
   "codemirror_mode": {
    "name": "ipython",
    "version": 3
   },
   "file_extension": ".py",
   "mimetype": "text/x-python",
   "name": "python",
   "nbconvert_exporter": "python",
   "pygments_lexer": "ipython3",
   "version": "3.7.0b3"
  }
 },
 "nbformat": 4,
 "nbformat_minor": 2
}
