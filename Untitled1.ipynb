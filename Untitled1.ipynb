{
 "cells": [
  {
   "cell_type": "code",
   "execution_count": null,
   "metadata": {},
   "outputs": [],
   "source": [
    "''' check if number is prime using sieve approach'''\n",
    "\n",
    "def is_prime_num(n):\n",
    "\n",
    "    def sieve(is_prime):\n",
    "        ''' Cross out all composites from 2 to sqrt(n) '''\n",
    "        i = 2\n",
    "        while i*i <= n:\n",
    "            # If we already crossed out this number, then continue\n",
    "            if is_prime[i] == 0:\n",
    "                i += 1\n",
    "                continue\n",
    "\n",
    "            j = 2*i\n",
    "            while j < n:\n",
    "                # Cross out this as it is composite\n",
    "                is_prime[j] = 0\n",
    "                # j is incremented by i, because we want to cover all multiples of i\n",
    "                j += i\n",
    "\n",
    "            i += 1\n",
    "\n",
    "    is_prime = [1] * (n + 1)\n",
    "    is_prime[0] = 0\n",
    "    is_prime[1] = 0           \n",
    "    sieve(is_prime)\n",
    "    \n",
    "    for i in range(1, n + 1):\n",
    "        if is_prime[i] == 1:\n",
    "            print(i,) \n",
    "    print(is_prime)\n",
    "    \n",
    "    return bool(is_prime[n])"
   ]
  },
  {
   "cell_type": "code",
   "execution_count": null,
   "metadata": {},
   "outputs": [],
   "source": [
    "is_prime_num(6)"
   ]
  },
  {
   "cell_type": "code",
   "execution_count": null,
   "metadata": {},
   "outputs": [],
   "source": [
    "def is_prime_num(num, prime_table = []):\n",
    "    ''' return True/False accordingly is argument n is prime number or not '''\n",
    "    if not prime_table:\n",
    "        prime_table = prime_num_table(num)\n",
    "    return prime_table[num] == 1\n",
    "\n",
    "\n",
    "# importing the required module\n",
    "import timeit\n",
    " \n",
    "# code snippet to be executed only once\n",
    "mysetup = '''\n",
    "def prime_num_table(num):\n",
    "    \"\"\" Find all primes in the range 1 to argument n\n",
    "        is_prime[i] = 1 means that i is prime and is_prime[i] = 0 means that i is composite\n",
    "        Initially, we say all of them are prime\n",
    "    \"\"\"\n",
    "    print('Generating prime table ...')\n",
    "    is_prime = [1] * (num + 1)\n",
    "    # Mark 0 and 1 as composites\n",
    "    is_prime[0] = 0\n",
    "    is_prime[1] = 0\n",
    "\n",
    "    def sieve(is_prime):\n",
    "        \"\"\"\n",
    "        Cross out all composites from 2 to sqrt(n)\n",
    "        \"\"\"\n",
    "        check_num = 2\n",
    "        # This will loop from 2 to int(sqrt(x))\n",
    "        for check_num in range(2, int(num**(0.5)+1)):\n",
    "            # If number crossed out, move onto next number\n",
    "            if is_prime[check_num] == 0:\n",
    "                continue\n",
    "\n",
    "            for check_multiple in range(check_num * 2, num + 1, check_num):\n",
    "                # Cross out this as it is composite\n",
    "                is_prime[check_multiple] = 0\n",
    "\n",
    "    sieve(is_prime)\n",
    "\n",
    "    return is_prime\n",
    "    \n",
    "    test_data = [2, 3, 5, 7, 11, 13, 17, 19, 23, 29, 31, 37, 41, 43, \n",
    "            47, 53, 59, 61, 67, 71, 73, 79, 83, 89, 97, 101, 103, 107]\n",
    "'''\n",
    " \n",
    "# code snippet whose execution time is to be measured\n",
    "mycode = '''\n",
    "prime_table = prime_num_table(100000)\n",
    "'''\n",
    " \n",
    "# timeit statement\n",
    "print(timeit.timeit(setup = mysetup,\n",
    "                    stmt = mycode,\n",
    "                    number = 1000))"
   ]
  },
  {
   "cell_type": "code",
   "execution_count": null,
   "metadata": {},
   "outputs": [],
   "source": [
    "for num, status in enumerate(primes):\n",
    "    if status:\n",
    "        print(num, ' is prime')"
   ]
  },
  {
   "cell_type": "code",
   "execution_count": 1,
   "metadata": {},
   "outputs": [
    {
     "name": "stdout",
     "output_type": "stream",
     "text": [
      "3.9.4 (v3.9.4:1f2e3088f3, Apr  4 2021, 12:32:44) \n",
      "[Clang 6.0 (clang-600.0.57)]\n"
     ]
    }
   ],
   "source": [
    "import sys\n",
    "\n",
    "print(sys.version)"
   ]
  },
  {
   "cell_type": "code",
   "execution_count": 3,
   "metadata": {},
   "outputs": [
    {
     "data": {
      "text/plain": [
       "['__breakpointhook__',\n",
       " '__displayhook__',\n",
       " '__doc__',\n",
       " '__excepthook__',\n",
       " '__interactivehook__',\n",
       " '__loader__',\n",
       " '__name__',\n",
       " '__package__',\n",
       " '__spec__',\n",
       " '__stderr__',\n",
       " '__stdin__',\n",
       " '__stdout__',\n",
       " '__unraisablehook__',\n",
       " '_base_executable',\n",
       " '_clear_type_cache',\n",
       " '_current_frames',\n",
       " '_debugmallocstats',\n",
       " '_framework',\n",
       " '_getframe',\n",
       " '_git',\n",
       " '_home',\n",
       " '_xoptions',\n",
       " 'abiflags',\n",
       " 'addaudithook',\n",
       " 'api_version',\n",
       " 'argv',\n",
       " 'audit',\n",
       " 'base_exec_prefix',\n",
       " 'base_prefix',\n",
       " 'breakpointhook',\n",
       " 'builtin_module_names',\n",
       " 'byteorder',\n",
       " 'call_tracing',\n",
       " 'copyright',\n",
       " 'displayhook',\n",
       " 'dont_write_bytecode',\n",
       " 'exc_info',\n",
       " 'excepthook',\n",
       " 'exec_prefix',\n",
       " 'executable',\n",
       " 'exit',\n",
       " 'flags',\n",
       " 'float_info',\n",
       " 'float_repr_style',\n",
       " 'get_asyncgen_hooks',\n",
       " 'get_coroutine_origin_tracking_depth',\n",
       " 'getallocatedblocks',\n",
       " 'getdefaultencoding',\n",
       " 'getdlopenflags',\n",
       " 'getfilesystemencodeerrors',\n",
       " 'getfilesystemencoding',\n",
       " 'getprofile',\n",
       " 'getrecursionlimit',\n",
       " 'getrefcount',\n",
       " 'getsizeof',\n",
       " 'getswitchinterval',\n",
       " 'gettrace',\n",
       " 'hash_info',\n",
       " 'hexversion',\n",
       " 'implementation',\n",
       " 'int_info',\n",
       " 'intern',\n",
       " 'is_finalizing',\n",
       " 'maxsize',\n",
       " 'maxunicode',\n",
       " 'meta_path',\n",
       " 'modules',\n",
       " 'path',\n",
       " 'path_hooks',\n",
       " 'path_importer_cache',\n",
       " 'platform',\n",
       " 'platlibdir',\n",
       " 'prefix',\n",
       " 'ps1',\n",
       " 'ps2',\n",
       " 'ps3',\n",
       " 'pycache_prefix',\n",
       " 'set_asyncgen_hooks',\n",
       " 'set_coroutine_origin_tracking_depth',\n",
       " 'setdlopenflags',\n",
       " 'setprofile',\n",
       " 'setrecursionlimit',\n",
       " 'setswitchinterval',\n",
       " 'settrace',\n",
       " 'stderr',\n",
       " 'stdin',\n",
       " 'stdout',\n",
       " 'thread_info',\n",
       " 'unraisablehook',\n",
       " 'version',\n",
       " 'version_info',\n",
       " 'warnoptions']"
      ]
     },
     "execution_count": 3,
     "metadata": {},
     "output_type": "execute_result"
    }
   ],
   "source": [
    "dir(sys)"
   ]
  },
  {
   "cell_type": "code",
   "execution_count": 4,
   "metadata": {},
   "outputs": [
    {
     "data": {
      "text/plain": [
       "['/Users/stuartmoore/pythonscratch',\n",
       " '/Library/Frameworks/Python.framework/Versions/3.9/lib/python39.zip',\n",
       " '/Library/Frameworks/Python.framework/Versions/3.9/lib/python3.9',\n",
       " '/Library/Frameworks/Python.framework/Versions/3.9/lib/python3.9/lib-dynload',\n",
       " '',\n",
       " '/Users/stuartmoore/Library/Python/3.9/lib/python/site-packages',\n",
       " '/Library/Frameworks/Python.framework/Versions/3.9/lib/python3.9/site-packages',\n",
       " '/Library/Frameworks/Python.framework/Versions/3.9/lib/python3.9/site-packages/IPython/extensions',\n",
       " '/Users/stuartmoore/.ipython']"
      ]
     },
     "execution_count": 4,
     "metadata": {},
     "output_type": "execute_result"
    }
   ],
   "source": [
    "sys.path"
   ]
  },
  {
   "cell_type": "code",
   "execution_count": null,
   "metadata": {},
   "outputs": [],
   "source": []
  }
 ],
 "metadata": {
  "kernelspec": {
   "display_name": "Python 3",
   "language": "python",
   "name": "python3"
  },
  "language_info": {
   "codemirror_mode": {
    "name": "ipython",
    "version": 3
   },
   "file_extension": ".py",
   "mimetype": "text/x-python",
   "name": "python",
   "nbconvert_exporter": "python",
   "pygments_lexer": "ipython3",
   "version": "3.9.4"
  }
 },
 "nbformat": 4,
 "nbformat_minor": 4
}
