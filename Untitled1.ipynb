{
 "cells": [
  {
   "cell_type": "code",
   "execution_count": 14,
   "metadata": {},
   "outputs": [],
   "source": [
    "USD =  {'2017-01-01': 979.56, '2017-01-02': 1013.13}\n",
    "INR =  {'2017-01-01': 66065.76, '2017-01-02': 68329.86}\n",
    "EUR =  {'2017-01-01': 842.22, '2017-01-02': 871.08}\n",
    "\n",
    "counties = [USD, INR, EUR]\n",
    "filename = []\n",
    "\n",
    "for country in counties:\n",
    "    prefix = [k for k,v in locals().items() \\\n",
    "              if v is country and not k.startswith('_')][0]\n",
    "    filename.append(prefix + '.csv')\n",
    "\n",
    "for x, y in zip(counties, filename):\n",
    "    with open(y, 'w') as f:\n",
    "        [f.write('{0},{1}\\n'.format(key, value))\n",
    "         for key, value in x.items()]"
   ]
  },
  {
   "cell_type": "code",
   "execution_count": 17,
   "metadata": {},
   "outputs": [
    {
     "data": {
      "text/plain": [
       "['USD.csv', 'INR.csv', 'EUR.csv']"
      ]
     },
     "execution_count": 17,
     "metadata": {},
     "output_type": "execute_result"
    }
   ],
   "source": [
    "filename"
   ]
  },
  {
   "cell_type": "code",
   "execution_count": null,
   "metadata": {},
   "outputs": [],
   "source": []
  }
 ],
 "metadata": {
  "kernelspec": {
   "display_name": "Python 3",
   "language": "python",
   "name": "python3"
  },
  "language_info": {
   "codemirror_mode": {
    "name": "ipython",
    "version": 3
   },
   "file_extension": ".py",
   "mimetype": "text/x-python",
   "name": "python",
   "nbconvert_exporter": "python",
   "pygments_lexer": "ipython3",
   "version": "3.7.0b3"
  }
 },
 "nbformat": 4,
 "nbformat_minor": 2
}
