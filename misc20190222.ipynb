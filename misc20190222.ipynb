{
 "cells": [
  {
   "cell_type": "code",
   "execution_count": null,
   "metadata": {},
   "outputs": [],
   "source": [
    "'Example binary chop search'\n",
    "\n",
    "def search(source, matching):\n",
    "    'search container <source> to find position of <matching>'\n",
    "    'return 0 for not found or position where found starting from 1'\n",
    "    lower = 0\n",
    "    upper = len(source) - 1\n",
    "    while lower <= upper:  # note the addition of the = sign\n",
    "        middle = (lower + upper) // 2\n",
    "        if source[middle] == matching:\n",
    "            return middle + 1  # human's count from 1\n",
    "        else:\n",
    "            if source[middle] < matching:\n",
    "                lower = middle + 1\n",
    "            else:\n",
    "                upper = middle - 1\n",
    "    return 0\n",
    "\n",
    "\n",
    "original = [120,158,78,52,1859,2000,15,14,22,24,56]\n",
    "tests = original[:]\n",
    "tests.insert(3, 999)  #  number not in list, to check not found works\n",
    "\n",
    "original.sort()\n",
    "print('Sorted lists of numbers: ', end='')\n",
    "print(*original, sep=\", \")\n",
    "print()\n",
    "\n",
    "for target in tests:\n",
    "    pos = search(original, target)\n",
    "    if pos:  # 0 == False, not 0 == True\n",
    "        print (f\"{target:4} found at position {pos:3}\")\n",
    "    else:\n",
    "        print(f\"{target:4} not found\")"
   ]
  },
  {
   "cell_type": "code",
   "execution_count": null,
   "metadata": {},
   "outputs": [],
   "source": [
    "import json\n",
    "from difflib import get_close_matches\n",
    "\n",
    "'''\n",
    "Imports WebstersEnglishDictionary and uses that to look up definitions of words\n",
    "entered by user. If entered word not found, any close matches are presented and\n",
    "user is given opportunity to select one of those.\n",
    "'''\n",
    "\n",
    "dictionary_name = \"WebstersEnglishDictionary/dictionary.json\"\n",
    "dictionary = json.load(open(dictionary_name))\n",
    "\n",
    "def get_definition(word):\n",
    "    return dictionary[word]\n",
    "\n",
    "def is_word_in_dictionary(word):\n",
    "    return word in dictionary\n",
    "\n",
    "def close_matches(word):\n",
    "    return get_close_matches(word, data.keys(), 5, cutoff=0.6)\n",
    "\n",
    "def print_definition(word):\n",
    "    print(f\"\\n\\nDefinition of {word}:\\n{'-' * 80}\")\n",
    "    print(f\"\\n{get_definition(word)}\\n\")\n",
    "    print('-' * 80)\n",
    "    \n",
    "def yes_no(prompt):\n",
    "    AFFIRMATION = ['yes', 'y', 'yeh', 'ok', '1']\n",
    "    NEGATION = ['no', 'n', 'nah', 'nope', '0']\n",
    "    while True:\n",
    "        response = input(prompt).lower()\n",
    "        if response in AFFIRMATION:\n",
    "            return True\n",
    "        if response in NEGATION:\n",
    "            return False\n",
    "        print('Please provide a yes or no response.')\n",
    "\n",
    "\n",
    "while True:   \n",
    "    word = input(\"\\nEnter a word (or just enter to exit) :\\n\").strip().lower()\n",
    "    if not word:\n",
    "        break\n",
    "    if is_word_in_dictionary(word):\n",
    "        print_definition(word)\n",
    "    else:\n",
    "        candidates = close_matches(word)    \n",
    "        if candidates:\n",
    "            print(f'\\nCannot find {word} in dictionary, but there are some words with similar spelling: ', end='')\n",
    "            print(*candidates, sep=', ')\n",
    "            for candidate in candidates:\n",
    "                if yes_no(f\"Is this your word? {candidate}\\n\"):\n",
    "                    print_definition(candidate)\n",
    "                    break\n",
    "        else:\n",
    "            print(f\"Could not find a definition for {word}.\")"
   ]
  },
  {
   "cell_type": "code",
   "execution_count": null,
   "metadata": {},
   "outputs": [],
   "source": [
    "import requests\n",
    "\n",
    "\n",
    "url = \"https://github.com/matthewreagan/WebstersEnglishDictionary/blob/master/dictionary.json\"\n",
    "\n",
    "def download_file(url):\n",
    "    local_filename = url.split('/')[-1]\n",
    "    # NOTE the stream=True parameter below\n",
    "    with requests.get(url, stream=True) as r:\n",
    "        r.raise_for_status()\n",
    "        with open(local_filename, 'wb') as f:\n",
    "            for chunk in r.iter_content(chunk_size=8192): \n",
    "                if chunk: # filter out keep-alive new chunks\n",
    "                    f.write(chunk)\n",
    "                    # f.flush()\n",
    "    return local_filename\n",
    "\n",
    "file_name = download_file(url)\n",
    "print(f'filename is: {file_name}')"
   ]
  },
  {
   "cell_type": "code",
   "execution_count": null,
   "metadata": {},
   "outputs": [],
   "source": [
    "def get_numbers(prompt, min_qty=10, low=1, high=100):\n",
    "    'return list of at least <min_qty> integers each in range <low> <= n <= <high>'\n",
    "    while True:\n",
    "        response = input(prompt).strip()\n",
    "        if response:\n",
    "            try:\n",
    "                numbers_all = [int(number) for number in response.split()]\n",
    "            except ValueError:\n",
    "                print('That contained one or more none integer characters.')\n",
    "            else:\n",
    "                numbers = [number for number in numbers_all if low <= number <= high]\n",
    "                if not numbers_all == numbers:\n",
    "                    print(f'Numbers outside range {low} <= n <= {high} are not acceptable.')\n",
    "                elif len(numbers) < min_qty:\n",
    "                    print('Too few numbers.')\n",
    "                else:\n",
    "                    break           \n",
    "        else:\n",
    "            print('An input is required.')   \n",
    "    return numbers\n",
    "\n",
    "\n",
    "tests = [(3, 1, 100), (6, 10, 15), (3, -20, -10), (4, 100, 1000)]\n",
    "for qty, bottom, top in tests:\n",
    "    print(*(get_numbers(f\"Enter at least {qty} integers between {bottom} and {top}: \", qty, bottom, top)), sep=', ')"
   ]
  },
  {
   "cell_type": "code",
   "execution_count": null,
   "metadata": {},
   "outputs": [],
   "source": [
    "capital = 0\n",
    "month = 0\n",
    "mth_int = 0.08 / 12\n",
    "savings = 1000\n",
    "presents = 200 + 800\n",
    "target = 1_000_000\n",
    "while capital < target:\n",
    "    capital += capital * mth_int + savings + (0 if month % 12 else presents)\n",
    "    month += 1\n",
    "print(f'After {month} months ({month/12:.2f} years) you have reached ${capital:.2f}')"
   ]
  },
  {
   "cell_type": "code",
   "execution_count": null,
   "metadata": {},
   "outputs": [],
   "source": [
    "class super_str(str):\n",
    "    pass\n",
    "\n",
    "test = super_str('This is a test')\n",
    "test.age = 22\n",
    "print(test, test.age)"
   ]
  },
  {
   "cell_type": "code",
   "execution_count": null,
   "metadata": {},
   "outputs": [],
   "source": [
    "    with open('testdata.csv') as file:\n",
    "        keys = file.readline().strip().split('\\t')\n",
    "        patients = []\n",
    "        for line in file:\n",
    "            patients.append(dict(zip(keys, line.strip().split('\\t'))))\n",
    "    for patient in patients:\n",
    "        print(patient)"
   ]
  },
  {
   "cell_type": "code",
   "execution_count": null,
   "metadata": {},
   "outputs": [],
   "source": [
    "    with open('testdata.csv','w') as file:\n",
    "        file.write(\"Age\\tGender\\ttumor_size\\thospital_time\\n\")\n",
    "        file.write(\"13\\tM\\t3\\t2\\n\")\n",
    "        file.write(\"41\\tF\\t4\\t0\\n\")\n",
    "        file.write(\"51\\tM\\t4\\t2\\n\")"
   ]
  },
  {
   "cell_type": "code",
   "execution_count": null,
   "metadata": {},
   "outputs": [],
   "source": [
    "cat testdata.csv"
   ]
  },
  {
   "cell_type": "code",
   "execution_count": null,
   "metadata": {},
   "outputs": [],
   "source": [
    "    {'Age': '13', 'Gender': 'M', 'tumor_size': '3', 'hospital_time': '2'}\n",
    "    {'Age': '41', 'Gender': 'F', 'tumor_size': '4', 'hospital_time': '0'}\n",
    "    {'Age': '51', 'Gender': 'M', 'tumor_size': '4', 'hospital_time': '2'}"
   ]
  },
  {
   "cell_type": "code",
   "execution_count": null,
   "metadata": {},
   "outputs": [],
   "source": [
    "    subject_scores = {'Alice': [10, -1, 8, 4, 6, 10, -1, 5, 9, 9],\n",
    "                      'Bob': [9, 8, 8, -3, 9, 7, 4, -5, 10, 9]}\n",
    "\n",
    "    for test, (alice, bob) in enumerate(zip(subject_scores['Alice'], subject_scores['Bob']), start=1):\n",
    "        if alice != bob:\n",
    "            winner = 'Alice' if alice > bob else \"Bob\"\n",
    "            loser = 'Alice' if alice < bob else \"Bob\"\n",
    "            print(f'{winner} did better than {loser} on test #{test:0>2}')\n",
    "        if alice < 0:\n",
    "            print(f'Alice scored less than 0 on test #{test:0>2}')\n",
    "        if bob < 0:\n",
    "            print(f'Bob scored less than 0 on test #{test:0>2}')"
   ]
  },
  {
   "cell_type": "code",
   "execution_count": null,
   "metadata": {},
   "outputs": [],
   "source": [
    "    one_test_list = [[1,2,3], [4,5,6]]\n",
    "    second_test_list = [['a'], ['b']]\n",
    "    combined = zip(second_test_list, one_test_list)\n",
    "    my_stuff = {key[0]: value for key, value in combined}"
   ]
  },
  {
   "cell_type": "code",
   "execution_count": null,
   "metadata": {},
   "outputs": [],
   "source": [
    "third"
   ]
  },
  {
   "cell_type": "code",
   "execution_count": null,
   "metadata": {},
   "outputs": [],
   "source": [
    "    import re\n",
    "\n",
    "    regex = r\"[A-Za-z0-9]{4}-[A-Za-z0-9]{3}-[A-Za-z0-9]{3}\"\n",
    "    NumTooAlph = {**{'a': '2', 'b': '2', 'c': '2', 'd': '3',\n",
    "                  'e': '3', 'f': '3', 'g': '4', 'h': '4',\n",
    "                  'i': '4', 'j': '5', 'k': '5', 'l': '5',\n",
    "                  'm': '6', 'n': '6', 'o': '6', 'p': '7',\n",
    "                  'q': '7', 'r': '7', 's': '7', 't': '8',\n",
    "                  'u': '8', 'v': '8', 'w': '9', 'x': '9',\n",
    "                  'y':'9', 'z': '9', \n",
    "                  '-': '-'},\n",
    "                  **{str(num):str(num) for num in range(10)}}\n",
    "\n",
    "    while True:\n",
    "        Number = input(\"Enter phone number in the format xxxx-xxx-xxx\").lower()\n",
    "        if re.search(regex, Number):\n",
    "            break\n",
    "        print('Do not recognise that as a valid number')\n",
    "\n",
    "\n",
    "    with open(\"tlf.txt\",\"w+\") as NumberFile:\n",
    "        for num in Number:\n",
    "            replacement = NumTooAlph.get(num)\n",
    "            NumberFile.write(replacement)\n",
    "\n",
    "    with open(\"tlf.txt\",\"r\") as NF:\n",
    "        numb=NF.read()\n",
    "    print(numb)"
   ]
  },
  {
   "cell_type": "code",
   "execution_count": null,
   "metadata": {},
   "outputs": [],
   "source": [
    "str(self.id) + '%.2s' % self.lastName + '%.5s' % self.firstName + '%.5d' % self.phone + '%.2s' % self.city + '%.10s' % self.membership\n",
    "f'(self.id)"
   ]
  },
  {
   "cell_type": "code",
   "execution_count": null,
   "metadata": {},
   "outputs": [],
   "source": [
    "    class ClubMember:\n",
    "\n",
    "        total = 0\n",
    "        def __init__(self,mID=0,lName=\"lName\",fName=\"fName\",pNum=\"888-8888\",city=\"City\",mem=\"Silver\"):\n",
    "            self.id = mID\n",
    "            self.lastName = lName\n",
    "            self.firstName = fName\n",
    "            self.phone = pNum\n",
    "            self.city = city\n",
    "            self.membership = mem\n",
    "            ClubMember.total = ClubMember.total + 1\n",
    "\n",
    "        def __str__(self):\n",
    "            return f'{self.id:6}  {self.lastName:10} {self.firstName:10} {self.phone:8} {self.city:10} {self.membership}'\n",
    "\n",
    "    def printMembership(members):\n",
    "        for member in members:\n",
    "            print(member)\n",
    "\n",
    "    def main():\n",
    "        #fileName = input(\"Enter the name of the file: \")\n",
    "        fileName = \"memberships.csv\"\n",
    "        membersList = []\n",
    "        with open(fileName, \"r\") as inFile:\n",
    "            for count, line in enumerate(inFile):\n",
    "                try:\n",
    "                    idNum, last, first, phoneNum, city, membership = line.strip().split(',')\n",
    "                except ValueError:\n",
    "                    print(f'ERROR in row #{count} ignored: {line}')\n",
    "                else:\n",
    "                    membersList.append(ClubMember(idNum,last,first,phoneNum,city,membership))\n",
    "        printMembership(membersList)\n",
    "\n",
    "    main()"
   ]
  },
  {
   "cell_type": "code",
   "execution_count": 2,
   "metadata": {},
   "outputs": [
    {
     "name": "stdin",
     "output_type": "stream",
     "text": [
      "Enter the rain in mm for January:  20\n",
      "Enter the rain in mm for February:  15\n",
      "Enter the rain in mm for March:  10\n",
      "Enter the rain in mm for April:  5\n",
      "Enter the rain in mm for May:  0\n",
      "Enter the rain in mm for June:  0\n",
      "Enter the rain in mm for July:  0\n",
      "Enter the rain in mm for August:  5\n",
      "Enter the rain in mm for September:  10\n",
      "Enter the rain in mm for October:  15\n",
      "Enter the rain in mm for November:  20\n",
      "Enter the rain in mm for December:  25\n"
     ]
    },
    {
     "name": "stdout",
     "output_type": "stream",
     "text": [
      "Average rain fall: 10.42mm\n"
     ]
    }
   ],
   "source": [
    "    def main():\n",
    "        rainFall = []\n",
    "        months = [\"January\", \"February\",\"March\", \"April\", \"May\", \"June\", \"July\", \"August\", \\\n",
    "                 \"September\", \"October\", \"November\", \"December\"]\n",
    "        averageMonth = \"\"\n",
    "\n",
    "        for index, month in enumerate(months):\n",
    "            while True:  # input validation loop\n",
    "                try:\n",
    "                    rain = float(input(f\"Enter the rain in mm for {month}: \"))\n",
    "                except ValueError:  # could not convert to float\n",
    "                    pass\n",
    "                else:\n",
    "                    if 0.0 <= rain < 60.0:  # within acceptable range?\n",
    "                        break  # get out of validation loop\n",
    "                print(f'That was not a valid rainfall amount for {month}.')\n",
    "            rainFall.append(rain)\n",
    "\n",
    "        averageRain = sum(rainFall)/len(rainFall)\n",
    "        print(f'Average rain fall: {averageRain:3.2f}mm')\n",
    "\n",
    "\n",
    "    main()"
   ]
  },
  {
   "cell_type": "code",
   "execution_count": 1,
   "metadata": {},
   "outputs": [],
   "source": [
    "def to_digit(n):\n",
    "    while n:\n",
    "        yield n % 10\n",
    "        n //= 10"
   ]
  },
  {
   "cell_type": "code",
   "execution_count": 2,
   "metadata": {},
   "outputs": [
    {
     "name": "stdout",
     "output_type": "stream",
     "text": [
      "654321\n"
     ]
    }
   ],
   "source": [
    "numstr = '123456'\n",
    "for digit in to_digit(int(numstr)):\n",
    "    print(f'{digit}', end='')\n",
    "print()"
   ]
  },
  {
   "cell_type": "code",
   "execution_count": 6,
   "metadata": {},
   "outputs": [
    {
     "name": "stdout",
     "output_type": "stream",
     "text": [
      "Please enter a positive integer: 58246\n",
      "64285\n"
     ]
    }
   ],
   "source": [
    "    def displayReverseDigits():\n",
    "\n",
    "        def extract_least_sig_digit(num):\n",
    "            while num:\n",
    "                yield num % 10\n",
    "                num //= 10\n",
    "\n",
    "        while True:\n",
    "            try:\n",
    "                integer = int(input(\"Please enter a positive integer: \"))\n",
    "            except ValueError:\n",
    "                pass\n",
    "            else:\n",
    "                if integer > 0:\n",
    "                    break\n",
    "            print('That was not a valid positive integer. Please try again.')\n",
    "\n",
    "        for reverse in extract_least_sig_digit(integer):\n",
    "            print(reverse, end = \"\")\n",
    "        else:\n",
    "            print()\n",
    "\n",
    "    displayReverseDigits()"
   ]
  },
  {
   "cell_type": "code",
   "execution_count": null,
   "metadata": {},
   "outputs": [],
   "source": [
    "    downPaymentRate = .10\n",
    "    monthlyPayRate = 0.5\n",
    "    annualInterestRate = .01\n",
    "    purchasePrice = float(input(\"Input Purchase Price: \"))\n",
    "    downPayment = purchasePrice * downPaymentRate\n",
    "    baseCreditPrice = Purchase - downPayment\n",
    "    currentBalance = baseCreditPrice\n",
    "    monthlyPrincipal = baseCreditPrice * monthlyPayRate\n",
    "    monthlyInterest = currentBalance * annualInterestRate\n",
    "    monthlyPayment = monthlyPrincipal + monthlyInterest\n",
    "    principalVowed = monthlyPayment - monthlyInterest\n",
    "\n",
    "    month = 1"
   ]
  },
  {
   "cell_type": "code",
   "execution_count": 13,
   "metadata": {},
   "outputs": [],
   "source": [
    "class Phone:\n",
    "\n",
    "    _phone_id = 0\n",
    "\n",
    "    def __init__(self, phone_num, phone_type='cell', person_id=0):\n",
    "        self._person_id = person_id\n",
    "        self._phone_type = phone_type\n",
    "        self._phone_num = phone_num\n",
    "        Phone._phone_id += 1\n",
    "\n",
    "    @property\n",
    "    def phone_num(self):\n",
    "        return self._phone_num\n",
    "\n",
    "    @phone_num.setter\n",
    "    def phone_num(self, phone_num):\n",
    "        self._phone_num = phone_num\n",
    "\n",
    "    @property\n",
    "    def phone_type(self):\n",
    "        return self._phone_type\n",
    "\n",
    "    @phone_type.setter\n",
    "    def phone_type(self, phone_type):\n",
    "        self._phone_type = phone_type\n",
    "\n",
    "    def __repr__(self):\n",
    "        return f\"'{self._phone_id}','{self._phone_num}','{self._phone_type}','{self._person_id}'\""
   ]
  },
  {
   "cell_type": "code",
   "execution_count": 40,
   "metadata": {},
   "outputs": [],
   "source": [
    "class Person:\n",
    "\n",
    "    _person_id = 0\n",
    "\n",
    "    def __init__(self, first_name, last_name, dob, _person_id=None):\n",
    "        self._first_name = first_name\n",
    "        self._last_name = last_name\n",
    "        self._dob = dob\n",
    "        Person._person_id += 1\n",
    "        self._phones = []\n",
    "\n",
    "    @property\n",
    "    def lastname(self):\n",
    "        return self._last_name\n",
    "\n",
    "    @lastname.setter\n",
    "    def lastname(self, last_name):\n",
    "        self._last_name = last_name\n",
    "\n",
    "    @property\n",
    "    def firstname(self):\n",
    "        return self._first_name\n",
    "\n",
    "    @firstname.setter\n",
    "    def firstname(self, first_name):\n",
    "        self._first_name = first_name\n",
    "\n",
    "    def add_phone(self, phone_num, phone_type='cell'):\n",
    "        p = Phone(phone_num, phone_type, Person._person_id)\n",
    "        self._phones.append(p)\n",
    "\n",
    "    def get_phones(self):\n",
    "        return _phones\n",
    "\n",
    "    def __repr__(self):\n",
    "        return f\"{self._person_id},{self._first_name},{self._last_name}, {self._dob}, \" \\\n",
    "            f\"{'|'.join(phone.__repr__() for phone in self._phones)}\"\n",
    "    \n",
    "    def return_list(self):\n",
    "        list_ = []\n",
    "        list_.append(f'{self._first_name}')\n",
    "        list_.append(f'{self._last_name}')\n",
    "        list_.append(f'{self._dob}')\n",
    "        list_.append(f'{Person._person_id}')\n",
    "        for phone in self._phones:\n",
    "            list_.append(f'{phone}')\n",
    "        return list_ "
   ]
  },
  {
   "cell_type": "code",
   "execution_count": 41,
   "metadata": {},
   "outputs": [],
   "source": [
    "    def write_csv(person_data):\n",
    "        with open('contacts.csv', mode='w') as csvfile:\n",
    "            contact_writer = csv.writer(csvfile)\n",
    "            contact_writer.writerow(person_data.return_list())"
   ]
  },
  {
   "cell_type": "code",
   "execution_count": 42,
   "metadata": {},
   "outputs": [],
   "source": [
    "p1 = Person('Tom', 'Hess', '03/18/2018')\n",
    "p1.add_phone('707-201-4081', 'work')\n",
    "p1.add_phone('707-201-4082', 'cell')\n",
    "\n",
    "write_csv(p1)"
   ]
  },
  {
   "cell_type": "code",
   "execution_count": 43,
   "metadata": {},
   "outputs": [
    {
     "name": "stdout",
     "output_type": "stream",
     "text": [
      "Tom,Hess,03/18/2018,1,\"'14','707-201-4081','work','1'\",\"'14','707-201-4082','cell','1'\"\n"
     ]
    }
   ],
   "source": [
    "cat contacts.csv"
   ]
  },
  {
   "cell_type": "code",
   "execution_count": 34,
   "metadata": {},
   "outputs": [],
   "source": [
    "with open('testme.csv', mode='w') as csvfile:\n",
    "    contact_writer = csv.writer(csvfile)\n",
    "    contact_writer.writerow(x)"
   ]
  },
  {
   "cell_type": "code",
   "execution_count": 33,
   "metadata": {},
   "outputs": [],
   "source": [
    "x = ['4', ' Danny', ' New York']"
   ]
  },
  {
   "cell_type": "code",
   "execution_count": 36,
   "metadata": {},
   "outputs": [
    {
     "name": "stdout",
     "output_type": "stream",
     "text": [
      "4\n",
      " ,D,a,n,n,y\n",
      " ,N,e,w, ,Y,o,r,k\n"
     ]
    }
   ],
   "source": [
    "cat testme.csv"
   ]
  },
  {
   "cell_type": "code",
   "execution_count": null,
   "metadata": {},
   "outputs": [],
   "source": []
  }
 ],
 "metadata": {
  "kernelspec": {
   "display_name": "Python 3",
   "language": "python",
   "name": "python3"
  },
  "language_info": {
   "codemirror_mode": {
    "name": "ipython",
    "version": 3
   },
   "file_extension": ".py",
   "mimetype": "text/x-python",
   "name": "python",
   "nbconvert_exporter": "python",
   "pygments_lexer": "ipython3",
   "version": "3.7.4"
  }
 },
 "nbformat": 4,
 "nbformat_minor": 2
}
