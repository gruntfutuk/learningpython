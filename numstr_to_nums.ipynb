{
 "cells": [
  {
   "cell_type": "code",
   "execution_count": null,
   "metadata": {},
   "outputs": [],
   "source": [
    "def numstr_to_numlst(sample: str):\n",
    "    ''' returns list of numbers from string of numbers and ranges of the format x-y\n",
    "    separated by commas, returns error message in ValueError if bad data given\n",
    "    '''\n",
    "    result = []\n",
    "    errmsg = ''\n",
    "    source = \"\".join(sample.split())\n",
    "    for comma_sep in source.split(','):\n",
    "        before, hyphen, after = comma_sep.partition('-')\n",
    "        if (before and not before.isnumeric()) or \\\n",
    "                (hyphen and not after) or \\\n",
    "                (after and not after.isnumeric()):\n",
    "            errmsg += f'   ***>> {comma_sep} bad int/range'\n",
    "        else:\n",
    "            if before:\n",
    "                start = int(before)\n",
    "                fini = int(after) if after else start\n",
    "                if start > fini:\n",
    "                    start, fini = fini, start\n",
    "            else:\n",
    "                fini = start = - int(after)\n",
    "            for num in range(start, fini + 1):\n",
    "                result.append(num)\n",
    "    if errmsg:\n",
    "        raise ValueError(errmsg)\n",
    "    return result"
   ]
  }
 ],
 "metadata": {
  "kernelspec": {
   "display_name": "Python 3",
   "language": "python",
   "name": "python3"
  },
  "language_info": {
   "codemirror_mode": {
    "name": "ipython",
    "version": 3
   },
   "file_extension": ".py",
   "mimetype": "text/x-python",
   "name": "python",
   "nbconvert_exporter": "python",
   "pygments_lexer": "ipython3",
   "version": "3.7.0"
  }
 },
 "nbformat": 4,
 "nbformat_minor": 2
}
