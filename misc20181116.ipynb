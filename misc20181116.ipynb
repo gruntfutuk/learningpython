{
 "cells": [
  {
   "cell_type": "code",
   "execution_count": null,
   "metadata": {},
   "outputs": [],
   "source": [
    "from itertools import islice\n",
    "\n",
    "def chunk(it, size):\n",
    "    'split a sequence into tuple chunks of same size'\n",
    "    it = iter(it)\n",
    "    return iter(lambda: tuple(islice(it, size)), ())\n",
    "\n",
    "    test = 'letslearnpython' \n",
    "\n",
    "    for seg in chunk(test, 3):\n",
    "        print(''.join(seg))"
   ]
  },
  {
   "cell_type": "code",
   "execution_count": null,
   "metadata": {},
   "outputs": [],
   "source": [
    "    with open('names.txt', 'r') as names:\n",
    "        names_list = names.read().split(',')\n",
    "\n",
    "    fnames = {}\n",
    "    names = iter(names_list)\n",
    "    while True:\n",
    "        try:\n",
    "            _ = next(names)\n",
    "            fname = next(names)\n",
    "        except StopIteration as e:\n",
    "            break\n",
    "        else:\n",
    "            if fnames.get(fname, None):\n",
    "                fnames[fname] += 1\n",
    "            else:\n",
    "                fnames[fname] = 1\n",
    "    print(*[v[0] for v in sorted(fnames.items(), key=lambda kv: (-kv[1], kv[0]))], sep=\", \")"
   ]
  },
  {
   "cell_type": "code",
   "execution_count": null,
   "metadata": {},
   "outputs": [],
   "source": [
    "    from collections import Counter\n",
    "\n",
    "    important_words = {'zombie':1 , 'vampire':1 , 'clown':1,\n",
    "                       'orange':2, 'apple':2, 'banana':2,\n",
    "                       'toilet':3, 'sink':3, 'plunger':3, }\n",
    "\n",
    "    the_string_you_wonna_know_about = \"I am a zombie that lives in a sink\"\n",
    "\n",
    "    words = Counter(the_string_you_wonna_know_about.split())\n",
    "\n",
    "    words_weighted = {}\n",
    "    for word, frequency in words.items():\n",
    "        words_weighted[word] = (frequency, important_words.get(word, 0))\n",
    "\n",
    "    print(words_weighted)"
   ]
  },
  {
   "cell_type": "code",
   "execution_count": null,
   "metadata": {},
   "outputs": [],
   "source": [
    "word, weight_str = \"test, 10\".split(',')  # you know this returns two values"
   ]
  },
  {
   "cell_type": "code",
   "execution_count": null,
   "metadata": {},
   "outputs": [],
   "source": [
    "word"
   ]
  },
  {
   "cell_type": "code",
   "execution_count": null,
   "metadata": {},
   "outputs": [],
   "source": [
    "weight_str"
   ]
  },
  {
   "cell_type": "code",
   "execution_count": null,
   "metadata": {},
   "outputs": [],
   "source": [
    "!ls *.txt\n"
   ]
  },
  {
   "cell_type": "code",
   "execution_count": null,
   "metadata": {},
   "outputs": [],
   "source": [
    "!cat random.txt"
   ]
  },
  {
   "cell_type": "code",
   "execution_count": null,
   "metadata": {},
   "outputs": [],
   "source": [
    "while True:\n",
    "    with open('alpha.txt') as f:\n",
    "        if 'echo' in f.read():\n",
    "            print('found echo, breaking')\n",
    "            break\n",
    "        else:\n",
    "            print('not breaking')\n",
    "    print('still in while')\n",
    "print('done')"
   ]
  },
  {
   "cell_type": "code",
   "execution_count": null,
   "metadata": {},
   "outputs": [],
   "source": [
    "hash_list"
   ]
  },
  {
   "cell_type": "code",
   "execution_count": null,
   "metadata": {},
   "outputs": [],
   "source": [
    "    words = ['apple', 'pear', 'orange']\n",
    "    phrase = \"I like: \" + \", \".join(words) + \" lunch options\"\n",
    "    print(phrase)"
   ]
  },
  {
   "cell_type": "code",
   "execution_count": null,
   "metadata": {},
   "outputs": [],
   "source": [
    "nest6 = nest4 = nest3 = nest2 = nest1 = None\n",
    "element = \n",
    "\n",
    "\n",
    "elements = [element[nest1, nest2], element2[nest3, nest4], element3[nest5, nest6]]\n",
    "\n",
    "    counter = 1\n",
    "    for outer in elements:\n",
    "        for inner in outer:\n",
    "            print(inner, 'is element number', counter)\n",
    "            counter += 1\n"
   ]
  },
  {
   "cell_type": "code",
   "execution_count": null,
   "metadata": {},
   "outputs": [],
   "source": [
    "    def str2bin(letter):\n",
    "        number = ord(letter) # 80\n",
    "        binary = '{0:b}'.format(number).zfill(8)[-8:] # 01010000\n",
    "        return binary\n",
    "\n",
    "    def bin2str(binary):\n",
    "        number = int(binary, 2) # 80\n",
    "        letter = chr(number) # \"P\"\n",
    "        return letter\n",
    "\n",
    "    tests = \"P\", \"01010000\", \"A\", \"Example\"\n",
    "\n",
    "    for test in tests:\n",
    "        if set(test) <= {'0', '1'}:\n",
    "            result = bin2str(test)\n",
    "        else:\n",
    "            result_ = []\n",
    "            for letter in test:\n",
    "                result_.append(str2bin(letter))\n",
    "            result = '_'.join(result_)\n",
    "            \n",
    "        print(f'{test} is {result}')"
   ]
  },
  {
   "cell_type": "code",
   "execution_count": null,
   "metadata": {},
   "outputs": [],
   "source": [
    "ord('P')"
   ]
  },
  {
   "cell_type": "code",
   "execution_count": null,
   "metadata": {},
   "outputs": [],
   "source": [
    "set('01010000')"
   ]
  },
  {
   "cell_type": "code",
   "execution_count": null,
   "metadata": {},
   "outputs": [],
   "source": [
    "var1, var2 = \"hi\", \"hello\"\n",
    "print(id(var1), var1, id(var2), var2)\n",
    "var1, var2 = [\"hi\", \"hello\" ]\n",
    "print(id(var1), var1, id(var2), var2)"
   ]
  },
  {
   "cell_type": "code",
   "execution_count": null,
   "metadata": {},
   "outputs": [],
   "source": [
    "    string1 = 'Unicorn zombie apocalypse Mary had a little lamb its fleece as white as snow'\n",
    "\n",
    "    def print_me(string, reverse=False):\n",
    "        if reverse:\n",
    "            direction = -1\n",
    "            start = len(string) - 1\n",
    "            stop = 0\n",
    "        else:\n",
    "            direction = 1\n",
    "            start = 1\n",
    "            stop = len(string)\n",
    "        print(*[string[:pos]\n",
    "                for pos in range(start, stop, direction)\n",
    "                    if string[pos] != \" \"], sep=\"\\n\")\n",
    "\n",
    "\n",
    "    print_me(string1)\n",
    "    print_me(string1[:-1], reverse=True)"
   ]
  },
  {
   "cell_type": "code",
   "execution_count": null,
   "metadata": {},
   "outputs": [],
   "source": [
    "    parentList = []\n",
    "    counter = 0\n",
    "    while True:\n",
    "        element = input('enter element: ')\n",
    "        if element:\n",
    "            parentList.append(element)\n",
    "            print(parentList)\n",
    "            counter += 1\n",
    "            nestList = []\n",
    "            while True:\n",
    "                inputNest = input('enter nest: ')\n",
    "                if inputNest:\n",
    "                    nestList.append(inputNest)\n",
    "                    print(nestList)\n",
    "                else:\n",
    "                    nestList += [''] * counter\n",
    "                    parentList.append(nestList)\n",
    "                    break\n",
    "        else:\n",
    "            break\n",
    "    print(parentList)"
   ]
  },
  {
   "cell_type": "code",
   "execution_count": null,
   "metadata": {},
   "outputs": [],
   "source": [
    "    def strchop(string, cut):\n",
    "        return ''.join([f'{left}{right}'\n",
    "                        for left, right in\n",
    "                            zip(string[:-cut], string[-cut:])\n",
    "                       ]) + string[cut:-cut]                \n",
    "\n",
    "    string = 'string123'\n",
    "    print(strchop(string, 3))"
   ]
  },
  {
   "cell_type": "code",
   "execution_count": null,
   "metadata": {},
   "outputs": [],
   "source": [
    "    class User:\n",
    "        def __init__(self, name, profession=\"\"):\n",
    "            self.name = name\n",
    "            self.profession = profession\n",
    "\n",
    "        def __repr__(self):\n",
    "            return f\"{self.name} the {self.profession}\"\n",
    "\n",
    "    class Warrior(User):\n",
    "        def __init__(self, name, profession=\"Warrior\"):\n",
    "            super().__init__(name, profession)\n",
    "\n",
    "    class Mage(User):\n",
    "        def __init__(self, name, profession=\"Mage\"):\n",
    "            super().__init__(name, profession)\n",
    "\n",
    "    #ask for player name & pass input to userJob()\n",
    "    def userName():\n",
    "        userNameInput = input(\"Enter your name\\n>>>\")\n",
    "        print(\"\")\n",
    "        return userNameInput\n",
    "        #confirmCharacter(userNameInput) <-- added in next part\n",
    "\n",
    "    #ask for player job & pass input to confirmCharacter()\n",
    "    def userJob(userNameInput):\n",
    "        while True:\n",
    "            userJobInput = input(\"[1]Warrior  [2]Mage\\n>>>\")\n",
    "            print(\"\")\n",
    "            if userJobInput in ('1', '2'):\n",
    "                break\n",
    "            print(\"*** INVALID ENTRY ***\")\n",
    "\n",
    "        if userJobInput == \"1\":\n",
    "            userProfession = \"warrior\"\n",
    "        elif userJobInput == \"2\":\n",
    "            userProfession = \"mage\"\n",
    "        return userProfession\n",
    "\n",
    "        print(f\"Play as {userNameInput} the {userProfession}\")\n",
    "\n",
    "    character_class = {'warrior': Warrior, 'mage': Mage}    \n",
    "\n",
    "    def createPlayer():\n",
    "        new_user_name = userName()\n",
    "        type_of_character = userJob(new_user_name)\n",
    "        return character_class[type_of_character](new_user_name, type_of_character)\n",
    "\n",
    "    players = []\n",
    "    while True:\n",
    "        players.append(createPlayer())\n",
    "        if input('Create another player? ').lower() not in ('y', 'yes', 'ok'):\n",
    "                 break\n",
    "\n",
    "    print(*players, sep=', ')"
   ]
  },
  {
   "cell_type": "code",
   "execution_count": null,
   "metadata": {},
   "outputs": [],
   "source": [
    "    allships = {\"destroyer\": [\"2c\",\"2b\"],\n",
    "            \"cruiser\": [\"5b\",\"5c\",\"5d\"],\n",
    "            \"aircraft_carrier\": ['1a', '1b', '1c', '1d'],\n",
    "           }\n",
    "    while True:\n",
    "        guess = input(\"chooses a spot: \")\n",
    "        if not guess:\n",
    "            break\n",
    "        for ship_name, coords in allships.items():\n",
    "            if guess in coords:\n",
    "                coords.remove(guess)\n",
    "                print('Well done, a hit')\n",
    "                if coords == []:\n",
    "                    print(f'Well done, you sank {ship_name}')\n",
    "                break"
   ]
  },
  {
   "cell_type": "code",
   "execution_count": null,
   "metadata": {},
   "outputs": [],
   "source": [
    "allships"
   ]
  },
  {
   "cell_type": "code",
   "execution_count": null,
   "metadata": {},
   "outputs": [],
   "source": [
    "    import re\n",
    "\n",
    "    MONTHS = [\"\", \"January\", \"February\", \"March\",\n",
    "              \"April\", \"May\", \"June\", \"July\", \n",
    "              \"August\", \"September\", \"October\", \n",
    "              \"November\", \"December\"]\n",
    "\n",
    "    def clean_up(date_str):\n",
    "        date_str = str.lower(date_str)\n",
    "        return re.sub(r\"[\\.\\?!,; ]\", r\"\", date_str)\n",
    "\n",
    "    def month_day_year(date_str):\n",
    "        try:\n",
    "            mm, dd, yyyy = re.findall(r\"\\d+\", date_str)\n",
    "            month = MONTHS[int(mm)]\n",
    "            return month, dd, yyyy\n",
    "        except (TypeError, ValueError, IndexError):\n",
    "            print(f'{date_str} is not a valid date')\n",
    "            return None\n",
    "\n",
    "    while True:\n",
    "        date = input(\"Please enter a date in the form mm/dd/yyyy: (or no to finish) \")\n",
    "        if user_entered.lower() == \"no\":\n",
    "            break\n",
    "        try:\n",
    "            month, dd, yyyy = month_day_year(clean_up(date))\n",
    "            print(f\"It is {month} {dd}, {yyyy}\")\n",
    "        except TypeError as e:\n",
    "            print('Please try another date.')"
   ]
  },
  {
   "cell_type": "code",
   "execution_count": null,
   "metadata": {},
   "outputs": [],
   "source": [
    "print('Hello')"
   ]
  },
  {
   "cell_type": "code",
   "execution_count": 5,
   "metadata": {},
   "outputs": [
    {
     "name": "stdout",
     "output_type": "stream",
     "text": [
      "creating a deck and removing a card\n",
      "creating deck\n",
      "shuffling deck\n",
      "looking for missing card\n",
      "['Diamonds', 'Diamonds', 'Diamonds', 'Diamonds', 'Diamonds', 'Diamonds', 'Diamonds', 'Diamonds', 'Diamonds', 'Diamonds', 'Diamonds', 'Diamonds', 'Diamonds']\n"
     ]
    }
   ],
   "source": [
    "import random\n",
    "\n",
    "\n",
    "def createDeck():\n",
    "    print('creating deck')\n",
    "    ranks = (\"Ace\",\"2\",\"3\",\"4\",\"5\",\"6\",\"7\",\"8\",\"9\",\"10\",\"Jack\",\"Queen\",\"King\")\n",
    "    suits = (\"Spades\",\"Clubs\",\"Diamonds\",\"Hearts\")\n",
    "    deck = []\n",
    "\n",
    "    for suit in suits:\n",
    "        for rank in ranks:\n",
    "            deck.append((rank,suit))\n",
    "  \n",
    "    return deck\n",
    "\n",
    "def displaydeck(deck):\n",
    "    print('displaying deck')\n",
    "\n",
    "    for cards in deck:\n",
    "        print (\"{} of {}.\".format(cards[0],cards[1]))\n",
    "\n",
    "def Shuffle(deck):\n",
    "    print('shuffling deck')\n",
    "    random.shuffle(deck)\n",
    "\n",
    "def cardTrick():\n",
    "    print('creating a deck and removing a card')\n",
    "    d=createDeck()\n",
    "    Shuffle(d)\n",
    "    MPcard = []\n",
    "\n",
    "    Tcard= d.pop(0) \n",
    "    MPcard.append(Tcard)\n",
    "\n",
    "    return d\n",
    "\n",
    "def findTheMissingCard(partialDeck):\n",
    "    print('looking for missing card')\n",
    "    DiamondsC = []\n",
    "    HeartsC = []\n",
    "    ClubsC = []\n",
    "    SpadesC = []\n",
    "    \n",
    "    for value, card in partialDeck:\n",
    "        if card == \"Diamonds\":\n",
    "            DiamondsC.append(card)\n",
    "        elif card == \"Hearts\":\n",
    "            HeartsC.append(card)\n",
    "        elif card == \"Clubs\":\n",
    "            ClubsC.append(card)\n",
    "        elif card == \"Spades\":\n",
    "            SpadesC.append(card)\n",
    "\n",
    "    print (DiamondsC)\n",
    "    \n",
    "cards = cardTrick()\n",
    "findTheMissingCard(cards)"
   ]
  },
  {
   "cell_type": "code",
   "execution_count": null,
   "metadata": {},
   "outputs": [],
   "source": [
    "def get_a_vote(voters, votes):\n",
    "    while True:  # get a valid name\n",
    "        vote_for = input(f'{votes[0]}, enter name of person you are voting for: ')\n",
    "        if vote_for and vote_for not in votes and vote_for in  voters:\n",
    "            break\n",
    "        print('Please vote for someone on the roster, excluding yourself.')\n",
    "    while True:  # get an integer between 0 and 100\n",
    "        points_str = input(f'How many points do you want to allocate to {vote_for}? ')\n",
    "        try:\n",
    "            points = int(points_str)\n",
    "            if points < 0 or points > 100:\n",
    "                raise ValueError('Not a valid number of points.')\n",
    "            break\n",
    "        except ValueError as e:\n",
    "            print('Not a valid number of points')\n",
    "    return vote_for, points\n",
    "\n",
    "def get_two_votes(voters, voter):\n",
    "    while True:\n",
    "        votes = [voter]  # list of people you cannot vote for\n",
    "        vote1, points1 = get_a_vote(voters, votes)\n",
    "        votes.append(vote1)\n",
    "        vote2, points2 = get_a_vote(voters, votes)\n",
    "        if points1 + points2 == 100:\n",
    "            return {vote1: points1, vote2: points2}\n",
    "        print('Sorry. You votes must add up to 100. Please vote again.')\n",
    "\n",
    "voters = ['Alec', 'Joe', 'Wendy']\n",
    "votes = {}  # the results of voting\n",
    "for voter in voters:\n",
    "    votes[voter] = get_two_votes(voters, voter)\n",
    "\n",
    "print(votes)"
   ]
  }
 ],
 "metadata": {
  "kernelspec": {
   "display_name": "Python 3",
   "language": "python",
   "name": "python3"
  },
  "language_info": {
   "codemirror_mode": {
    "name": "ipython",
    "version": 3
   },
   "file_extension": ".py",
   "mimetype": "text/x-python",
   "name": "python",
   "nbconvert_exporter": "python",
   "pygments_lexer": "ipython3",
   "version": "3.7.0"
  }
 },
 "nbformat": 4,
 "nbformat_minor": 2
}
