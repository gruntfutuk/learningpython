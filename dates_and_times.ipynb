{
 "cells": [
  {
   "cell_type": "code",
   "execution_count": null,
   "metadata": {},
   "outputs": [],
   "source": [
    "def is_leap(year):\n",
    "    return year % 400 == 0 or \\\n",
    "            (year % 4 == 0 and not year % 100 == 0)\n",
    "\n",
    "def get_num(msg, start, fini):\n",
    "    while True:\n",
    "        try:\n",
    "            num = int(input(msg))\n",
    "            if not start <= num <= fini: raise ValueError('Number out of range')\n",
    "        except ValueError as e:\n",
    "            print(e)\n",
    "        else:\n",
    "            return num\n",
    "            \n",
    "months = {  1: ('January', 31), 2: ('February', 28), 3: ('March', 31), \n",
    "            4: ('April', 30), 5: ('May', 31), 6: ('June', 30),\n",
    "            7: ('July', 31), 8: ('August', 31), 9: ('September', 30),\n",
    "            10: ('October', 31), 11: ('November', 30), 12: ('December', 31)\n",
    "          }\n",
    "\n",
    "month = get_num('Enter a month: ', 1, 12)\n",
    "year = get_num('Enter a year: ', 1800, 2400)\n",
    "\n",
    "leap = is_leap(year)\n",
    "days = months[month][1] + leap\n",
    "month_name = months[month][0]\n",
    "\n",
    "print(f'{month_name}({month}) {year}{\"(leap)\" if leap else \"\"} has {days} days.')"
   ]
  }
 ],
 "metadata": {
  "kernelspec": {
   "display_name": "Python 3",
   "language": "python",
   "name": "python3"
  },
  "language_info": {
   "codemirror_mode": {
    "name": "ipython",
    "version": 3
   },
   "file_extension": ".py",
   "mimetype": "text/x-python",
   "name": "python",
   "nbconvert_exporter": "python",
   "pygments_lexer": "ipython3",
   "version": "3.7.0"
  }
 },
 "nbformat": 4,
 "nbformat_minor": 2
}
