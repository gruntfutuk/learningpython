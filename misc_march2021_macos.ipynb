{
 "cells": [
  {
   "cell_type": "code",
   "execution_count": 47,
   "metadata": {},
   "outputs": [],
   "source": [
    "    import openpyxl\n",
    "\n",
    "    wb1 = openpyxl.load_workbook('pytest.xlsx')\n",
    "    wb1.active = 1\n",
    "    sheet = wb1.active\n",
    "    sheet['A1'].value = 'new1'\n",
    "    sheet['A3'].value = 'new2'\n",
    "    sheet['B1'].value = 10\n",
    "    sheet['B3'].value = 20\n",
    "    wb1.create_sheet('newfirst', 0)\n",
    "\n",
    "    wb1.save('pytest.xlsx')"
   ]
  },
  {
   "cell_type": "code",
   "execution_count": 78,
   "metadata": {},
   "outputs": [],
   "source": [
    "# battleships\n",
    "\n",
    "from random import randint\n",
    "from itertools import cycle\n",
    "\n",
    "crafts = {  \"aircraft carrier\": ('c', 5),\n",
    "            \"battleship\": ('b',4) ,\n",
    "            \"destroyer\":  ('d', 3),\n",
    "            \"submarine\":  ('s', 3),\n",
    "            \"patrol boat\": ('p', 2),\n",
    "          }\n",
    "\n",
    "def empty_grid(size=10):\n",
    "    return [[['', -1, -1] for _ in range(size)] for _ in range(size)]\n",
    "\n",
    "def populate(player, player2):\n",
    "    grid = cycle([player1, player2])\n",
    "    for craft, (letter, size) in crafts.items():\n",
    "        x, y = randint(1, 11), randint(1, 11)\n",
    "        \n",
    "\n",
    "player1, player2 = empty_grid(), empty_grid()"
   ]
  },
  {
   "cell_type": "code",
   "execution_count": 10,
   "metadata": {},
   "outputs": [
    {
     "name": "stdout",
     "output_type": "stream",
     "text": [
      "6 -> 10    (10)\n",
      "7 -> 17    (17)\n",
      "8 -> 17    (17)\n",
      "11 -> 28    (28)\n"
     ]
    }
   ],
   "source": [
    "def is_prime(n):\n",
    "    from itertools import count, islice\n",
    "    return ( n > 1 and all(n % i for i in islice(count(2), int(n**0.5)-1)))\n",
    "\n",
    "def sum_of_prime(num):\n",
    "    total = 0\n",
    "    if num > 1:\n",
    "        for n in range(2, num + 1):\n",
    "            if is_prime(n):\n",
    "                total += n\n",
    "    return total\n",
    "\n",
    "\n",
    "tests = (6, 10), (7, 17), (8, 17), (11, 28)\n",
    "\n",
    "for test, correct in tests:\n",
    "    answer = sum_of_prime(test)\n",
    "    print(f'{test} -> {answer}    ({correct})')"
   ]
  },
  {
   "cell_type": "code",
   "execution_count": 1,
   "metadata": {},
   "outputs": [
    {
     "name": "stdin",
     "output_type": "stream",
     "text": [
      "\n",
      "How old are you?\n",
      "Enter 'quit' when done:  4\n"
     ]
    },
    {
     "name": "stdout",
     "output_type": "stream",
     "text": [
      "Your ticket is $10.00\n"
     ]
    },
    {
     "name": "stdin",
     "output_type": "stream",
     "text": [
      "\n",
      "How old are you?\n",
      "Enter 'quit' when done:  10\n"
     ]
    },
    {
     "name": "stdout",
     "output_type": "stream",
     "text": [
      "Your ticket is $10.00\n"
     ]
    },
    {
     "name": "stdin",
     "output_type": "stream",
     "text": [
      "\n",
      "How old are you?\n",
      "Enter 'quit' when done:  20\n"
     ]
    },
    {
     "name": "stdout",
     "output_type": "stream",
     "text": [
      "Your ticket is $15.00\n"
     ]
    },
    {
     "name": "stdin",
     "output_type": "stream",
     "text": [
      "\n",
      "How old are you?\n",
      "Enter 'quit' when done:  quit\n"
     ]
    }
   ],
   "source": [
    "prompt = \"\"\"\n",
    "How old are you?\n",
    "Enter 'quit' when done: \"\"\"\n",
    "\n",
    "active = True\n",
    "\n",
    "while active:\n",
    "    age = input(prompt)\n",
    "    if age == 'quit':\n",
    "        active = False\n",
    "    else:\n",
    "        age = int(age)\n",
    "        if age < 3:\n",
    "            print(\"Your ticket is free!\")\n",
    "        elif age < 13:\n",
    "            print(\"Your ticket is $10.00\")\n",
    "        else:\n",
    "            print(\"Your ticket is $15.00\")"
   ]
  },
  {
   "cell_type": "code",
   "execution_count": null,
   "metadata": {},
   "outputs": [],
   "source": []
  }
 ],
 "metadata": {
  "kernelspec": {
   "display_name": "Python 3",
   "language": "python",
   "name": "python3"
  },
  "language_info": {
   "codemirror_mode": {
    "name": "ipython",
    "version": 3
   },
   "file_extension": ".py",
   "mimetype": "text/x-python",
   "name": "python",
   "nbconvert_exporter": "python",
   "pygments_lexer": "ipython3",
   "version": "3.8.3rc1"
  }
 },
 "nbformat": 4,
 "nbformat_minor": 4
}
