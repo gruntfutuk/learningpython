{
 "metadata": {
  "language_info": {
   "codemirror_mode": {
    "name": "ipython",
    "version": 3
   },
   "file_extension": ".py",
   "mimetype": "text/x-python",
   "name": "python",
   "nbconvert_exporter": "python",
   "pygments_lexer": "ipython3",
   "version": "3.8.3-candidate"
  },
  "orig_nbformat": 2,
  "kernelspec": {
   "name": "python3",
   "display_name": "Python 3",
   "language": "python"
  }
 },
 "nbformat": 4,
 "nbformat_minor": 2,
 "cells": [
  {
   "cell_type": "code",
   "execution_count": 47,
   "metadata": {},
   "outputs": [],
   "source": [
    "    import openpyxl\n",
    "\n",
    "    wb1 = openpyxl.load_workbook('pytest.xlsx')\n",
    "    wb1.active = 1\n",
    "    sheet = wb1.active\n",
    "    sheet['A1'].value = 'new1'\n",
    "    sheet['A3'].value = 'new2'\n",
    "    sheet['B1'].value = 10\n",
    "    sheet['B3'].value = 20\n",
    "    wb1.create_sheet('newfirst', 0)\n",
    "\n",
    "    wb1.save('pytest.xlsx')\n",
    "\n"
   ]
  },
  {
   "cell_type": "code",
   "execution_count": 78,
   "metadata": {},
   "outputs": [],
   "source": [
    "# battleships\n",
    "\n",
    "from random import randint\n",
    "from itertools import cycle\n",
    "\n",
    "crafts = {  \"aircraft carrier\": ('c', 5),\n",
    "            \"battleship\": ('b',4) ,\n",
    "            \"destroyer\":  ('d', 3),\n",
    "            \"submarine\":  ('s', 3),\n",
    "            \"patrol boat\": ('p', 2),\n",
    "          }\n",
    "\n",
    "def empty_grid(size=10):\n",
    "    return [[['', -1, -1] for _ in range(size)] for _ in range(size)]\n",
    "\n",
    "def populate(player, player2):\n",
    "    grid = cycle([player1, player2])\n",
    "    for craft, (letter, size) in crafts.items():\n",
    "        x, y = randint(1, 11), randint(1, 11)\n",
    "        \n",
    "\n",
    "player1, player2 = empty_grid(), empty_grid()\n",
    "\n"
   ]
  },
  {
   "cell_type": "code",
   "execution_count": null,
   "metadata": {},
   "outputs": [],
   "source": []
  }
 ]
}