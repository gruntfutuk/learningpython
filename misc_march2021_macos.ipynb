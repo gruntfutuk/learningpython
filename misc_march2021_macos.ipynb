{
 "metadata": {
  "language_info": {
   "codemirror_mode": {
    "name": "ipython",
    "version": 3
   },
   "file_extension": ".py",
   "mimetype": "text/x-python",
   "name": "python",
   "nbconvert_exporter": "python",
   "pygments_lexer": "ipython3",
   "version": "3.8.3-candidate"
  },
  "orig_nbformat": 2,
  "kernelspec": {
   "name": "python3",
   "display_name": "Python 3",
   "language": "python"
  }
 },
 "nbformat": 4,
 "nbformat_minor": 2,
 "cells": [
  {
   "cell_type": "code",
   "execution_count": null,
   "metadata": {},
   "outputs": [],
   "source": [
    "    import time\n",
    "    from random import randint\n",
    "\n",
    "    game = True\n",
    "\n",
    "    while game:\n",
    "\n",
    "        while True:  # get validated user input of number\n",
    "            try:    \n",
    "                user_number = int(input(\"Enter a number for the CPU to guess between 1-10: \"))\n",
    "                if 1 <= user_number <= 10:\n",
    "                    break  # input validation\n",
    "            except ValueError:\n",
    "                pass\n",
    "            print('Invalid input, need number between 1 and 10')\n",
    "\n",
    "        cpu_guesses = []\n",
    "        cpu_counter = 0\n",
    "        guessed = False\n",
    "\n",
    "        while not guessed:\n",
    "\n",
    "            while True:  # cpu keeps guessing for unique number\n",
    "                cpu_number = randint(1, 10)\n",
    "                if not cpu_number in cpu_guesses:\n",
    "                    cpu_guesses.append(cpu_number)\n",
    "                    break  # leave unique guess loop\n",
    "            cpu_counter += 1\n",
    "\n",
    "            guessed = cpu_number == user_number\n",
    "            \n",
    "        print(f\"The CPU guessed in {cpu_counter} turns!\")\n",
    "        choice = input(\"Would you like to play again? (y/n): \").strip().lower()\n",
    "        game = choice in [\"y\", \"yes\", \"yeh\", \"ok\", \"yup\", \"1\"]"
   ]
  },
  {
   "cell_type": "code",
   "execution_count": null,
   "metadata": {},
   "outputs": [],
   "source": [
    "    import time\n",
    "    from random import shuffle\n",
    "\n",
    "    game = True\n",
    "\n",
    "    while game:\n",
    "\n",
    "        while True:  # get validated user input of number\n",
    "            try:    \n",
    "                user_number = int(input(\"Enter a number for the CPU to guess between 1-10: \"))\n",
    "                if 1 <= user_number <= 10:\n",
    "                    break  # input validation\n",
    "            except ValueError:\n",
    "                pass\n",
    "            print('Invalid input, need number between 1 and 10')\n",
    "\n",
    "        cpu_guesses_left = list(range(1, 11))\n",
    "        shuffle(cpu_guesses_left)\n",
    "        cpu_counter = 0\n",
    "        guessed = False\n",
    "\n",
    "        while not guessed:\n",
    "\n",
    "            cpu_number = cpu_guesses_left.pop()\n",
    "            cpu_counter += 1\n",
    "            guessed = cpu_number == user_number\n",
    "            \n",
    "        print(f\"The CPU guessed in {cpu_counter} turns!\")\n",
    "        choice = input(\"Would you like to play again? (y/n): \").strip().lower()\n",
    "        game = choice in [\"y\", \"yes\", \"yeh\", \"ok\", \"yup\", \"1\"]"
   ]
  },
  {
   "cell_type": "code",
   "execution_count": 17,
   "metadata": {},
   "outputs": [
    {
     "output_type": "error",
     "ename": "ModuleNotFoundError",
     "evalue": "No module named 'pynput'",
     "traceback": [
      "\u001b[0;31m---------------------------------------------------------------------------\u001b[0m",
      "\u001b[0;31mModuleNotFoundError\u001b[0m                       Traceback (most recent call last)",
      "\u001b[0;32m<ipython-input-17-647deee2930e>\u001b[0m in \u001b[0;36m<module>\u001b[0;34m\u001b[0m\n\u001b[0;32m----> 1\u001b[0;31m \u001b[0;32mimport\u001b[0m \u001b[0mpynput\u001b[0m\u001b[0;34m\u001b[0m\u001b[0;34m\u001b[0m\u001b[0m\n\u001b[0m",
      "\u001b[0;31mModuleNotFoundError\u001b[0m: No module named 'pynput'"
     ]
    }
   ],
   "source": [
    "import pynput"
   ]
  },
  {
   "cell_type": "code",
   "execution_count": 47,
   "metadata": {},
   "outputs": [],
   "source": [
    "    import openpyxl\n",
    "\n",
    "    wb1 = openpyxl.load_workbook('pytest.xlsx')\n",
    "    wb1.active = 1\n",
    "    sheet = wb1.active\n",
    "    sheet['A1'].value = 'new1'\n",
    "    sheet['A3'].value = 'new2'\n",
    "    sheet['B1'].value = 10\n",
    "    sheet['B3'].value = 20\n",
    "    wb1.create_sheet('newfirst', 0)\n",
    "\n",
    "    wb1.save('pytest.xlsx')\n",
    "\n"
   ]
  },
  {
   "cell_type": "code",
   "execution_count": 56,
   "metadata": {},
   "outputs": [
    {
     "output_type": "stream",
     "name": "stdout",
     "text": [
      "Bank Account: Fred\n1     20 01/01/2021\n2     10 05/01/2021\n2     55 03/02/2021\n"
     ]
    }
   ],
   "source": [
    "    class BankAccount:\n",
    "        def __init__(self, name):\n",
    "            self.name = name\n",
    "            self.transactions = []\n",
    "\n",
    "        def transact(self, transaction):\n",
    "            self.transactions.append(transaction)\n",
    "\n",
    "        def __str__(self):\n",
    "            output = f\"Bank Account: {self.name}\"\n",
    "            for trans in self.transactions:\n",
    "                output += f'\\n{trans.ref:3} {trans.value:4} {trans.date:6}'\n",
    "            return output\n",
    "\n",
    "    class Transaction:\n",
    "        def __init__(self, ref, value, date):\n",
    "            self.ref = ref\n",
    "            self.value = value\n",
    "            self.date = date\n",
    "\n",
    "    current = BankAccount('Fred')\n",
    "    tests = [('1', 20, '01/01/2021'),\n",
    "            ('2', 10, '05/01/2021'),\n",
    "            ('2', 55, '03/02/2021')]\n",
    "\n",
    "    for test in tests:\n",
    "        current.transact(Transaction(*test))\n",
    "\n",
    "    print(current)\n"
   ]
  },
  {
   "cell_type": "code",
   "execution_count": 53,
   "metadata": {},
   "outputs": [
    {
     "output_type": "execute_result",
     "data": {
      "text/plain": [
       "{'name': 'Fred',\n",
       " 'transactions': [<__main__.Transaction at 0x7f9b1ca45520>,\n",
       "  <__main__.Transaction at 0x7f9b1ca45a60>,\n",
       "  <__main__.Transaction at 0x7f9b1a7ca760>]}"
      ]
     },
     "metadata": {},
     "execution_count": 53
    }
   ],
   "source": [
    "vars(current)"
   ]
  },
  {
   "cell_type": "code",
   "execution_count": 37,
   "metadata": {},
   "outputs": [],
   "source": []
  },
  {
   "cell_type": "code",
   "execution_count": 41,
   "metadata": {},
   "outputs": [],
   "source": [
    "wb1.save('pytest.xlsx')"
   ]
  },
  {
   "cell_type": "code",
   "execution_count": 67,
   "metadata": {},
   "outputs": [],
   "source": [
    "class Transaction:\n",
    "\n",
    "    def __init__(self, from_account, to_account, amount):\n",
    "        try: float(amount)\n",
    "        except: raise TypeError('TypeError: Must be a float')\n",
    "        self.__from_account = from_account\n",
    "        self.__to_account = to_account\n",
    "        self.amount = float(amount)\n",
    "        self.withdraw()\n",
    "        self.__status = None\n",
    "\n",
    "    @property\n",
    "    def status(self):\n",
    "        return self.__status\n",
    "\n",
    "    def withdraw(self):\n",
    "        if self.amount > self.__from_account.balance:\n",
    "            self.__status = \"Declined: Insufficient Funds\"\n",
    "            raise ValueError(self.__status)\n",
    "        else:\n",
    "            self.__from_account.withdraw(self.amount)\n",
    "            self.deposit()\n",
    "            self.__status = \"Approved\"\n",
    "\n",
    "    def deposit(self):\n",
    "        self.__to_account.deposit(self.amount)\n",
    "    "
   ]
  },
  {
   "cell_type": "code",
   "execution_count": 73,
   "metadata": {},
   "outputs": [],
   "source": [
    "class BankAccount:\n",
    "\n",
    "    def __init__(self, account_id, balance):\n",
    "        if type(account_id) != str: raise TypeError('TypeError: Requires String')\n",
    "        if  type(balance) != int and type(balance) != float: raise TypeError('TypeError: Requires Float')\n",
    "        self.__account_id = account_id\n",
    "        self.__balance = float(balance)\n",
    "        self.transaction_list = []\n",
    "\n",
    "    @property\n",
    "    def account_id(self):\n",
    "        return self.__account_id\n",
    "\n",
    "    @property\n",
    "    def balance(self):\n",
    "        return self.__balance\n",
    "\n",
    "\n",
    "    def deposit(self,amount):\n",
    "        try:\n",
    "            self.__balance += amount\n",
    "        except:\n",
    "            return False\n",
    "\n",
    "    def withdraw(self,amount):\n",
    "        try: self.__balance -= amount\n",
    "        except:\n",
    "            return False\n",
    "\n",
    "    def transact_deposit(self, trans):\n",
    "        self.transaction_list.append(trans)\n",
    "        self.deposit(trans.amount)\n",
    "\n",
    "    def transact_withdraw(self, trans):\n",
    "        self.transaction_list.append(trans)\n",
    "        self.withdraw(trans.amount)\n",
    "\n",
    "    def __str__(self):\n",
    "        output =  f'\\nAccount ID: {self.account_id}' \\\n",
    "               f'\\nBalance: {self.balance}' \\\n",
    "               f'\\nTransactions: '\n",
    "        details = \"\"\n",
    "        for tran in self.transaction_list:\n",
    "            details += f\"{tran.amount}\"  # replace with __str__\n",
    "        return output + details"
   ]
  },
  {
   "cell_type": "code",
   "execution_count": 74,
   "metadata": {},
   "outputs": [
    {
     "output_type": "stream",
     "name": "stdout",
     "text": [
      "\nAccount ID: acc_0001\nBalance: 5000.0\nTransactions:  \nAccount ID: acc_0002\nBalance: 15000.0\nTransactions:  \nAccount ID: acc_0003\nBalance: 25000.0\nTransactions: \n\nAccount ID: acc_0001\nBalance: 3948.5\nTransactions: 525.75 \nAccount ID: acc_0002\nBalance: 16051.5\nTransactions: 525.75 \nAccount ID: acc_0003\nBalance: 25000.0\nTransactions: \n"
     ]
    }
   ],
   "source": [
    "Bank = BankAccount\n",
    "Trans = Transaction\n",
    "\n",
    "\n",
    "# Create bank accounts\n",
    "account1 = Bank('acc_0001', 5000)\n",
    "account2 = Bank('acc_0002', 15000)\n",
    "account3 = Bank('acc_0003', 25000)\n",
    "\n",
    "# check account balance and transactions\n",
    "print(account1, account2, account3)\n",
    "\n",
    "# try transactions\n",
    "\n",
    "trans1 = Trans(account1, account2, 525.75)\n",
    "\n",
    "# check account balance and transactions\n",
    "print(account1, account2, account3)"
   ]
  },
  {
   "cell_type": "code",
   "execution_count": 78,
   "metadata": {},
   "outputs": [],
   "source": [
    "# battleships\n",
    "\n",
    "from random import randint\n",
    "from itertools import cycle\n",
    "\n",
    "crafts = {  \"aircraft carrier\": ('c', 5),\n",
    "            \"battleship\": ('b',4) ,\n",
    "            \"destroyer\":  ('d', 3),\n",
    "            \"submarine\":  ('s', 3),\n",
    "            \"patrol boat\": ('p', 2),\n",
    "          }\n",
    "\n",
    "def empty_grid(size=10):\n",
    "    return [[['', -1, -1] for _ in range(size)] for _ in range(size)]\n",
    "\n",
    "def populate(player, player2):\n",
    "    grid = cycle([player1, player2])\n",
    "    for craft, (letter, size) in crafts.items():\n",
    "        x, y = randint(1, 11), randint(1, 11)\n",
    "        \n",
    "\n",
    "player1, player2 = empty_grid(), empty_grid()\n",
    "\n"
   ]
  },
  {
   "cell_type": "code",
   "execution_count": 81,
   "metadata": {},
   "outputs": [
    {
     "output_type": "stream",
     "name": "stdout",
     "text": [
      "['6', '20', '15', '12']\n"
     ]
    }
   ],
   "source": [
    "    i=int(input('How many pairs? '))\n",
    "    products = []\n",
    "    for l in range(i):\n",
    "        a,b=input(\"Two nums (space between): \").split()\n",
    "        c=int(a)*int(b)\n",
    "        d=str(c)  # why bother converting back to str?\n",
    "        products.append(d)\n",
    "    print(products)"
   ]
  },
  {
   "cell_type": "code",
   "execution_count": 91,
   "metadata": {},
   "outputs": [
    {
     "output_type": "stream",
     "name": "stdout",
     "text": [
      "what is 6 times 2?\n",
      "correct\n",
      "what is 0 times 2?\n",
      "correct\n",
      "what is 7 times 6?\n",
      "incorrect,the answer is 42\n",
      "what is 2 times 6?\n",
      "correct\n",
      "what is 5 times 3?\n"
     ]
    }
   ],
   "source": [
    "    import random\n",
    "\n",
    "    while True:\n",
    "        x = random.randint(0,9)\n",
    "        y = random.randint(0,9)\n",
    "        print (\"what is \" + str(x) + \" times \" + str(y) + \"?\")\n",
    "        svar = int(input(\"what’s your answer: \"))\n",
    "        if svar == -999:\n",
    "            break\n",
    "        if svar == x * y:\n",
    "            print (\"correct\")\n",
    "        else:\n",
    "            print (\"incorrect,the answer is \" + str (x*y))"
   ]
  },
  {
   "cell_type": "code",
   "execution_count": 93,
   "metadata": {},
   "outputs": [
    {
     "output_type": "stream",
     "name": "stdout",
     "text": [
      "fred       is 4  years old\nbrian      is 5  years old\nwendy      is 6  years old\n"
     ]
    }
   ],
   "source": [
    "    names = []\n",
    "    ages = []\n",
    "    while True:\n",
    "        name = input('Enter name, or just return to fini: ')\n",
    "        if not name:\n",
    "            break\n",
    "        names.append(name)\n",
    "\n",
    "    for name in names:\n",
    "        age = input(f'Age of {name}: ')\n",
    "        ages.append(age)\n",
    "\n",
    "    for name, age in zip(names, ages):\n",
    "        print(f'{name:10} is {age:2} years old')"
   ]
  },
  {
   "cell_type": "code",
   "execution_count": null,
   "metadata": {},
   "outputs": [],
   "source": []
  }
 ]
}