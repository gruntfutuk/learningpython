{
 "cells": [
  {
   "cell_type": "code",
   "execution_count": null,
   "metadata": {},
   "outputs": [],
   "source": [
    "''' prime number table generator and test using sieve method '''\n",
    "\n",
    "def prime_num_table(num):\n",
    "    ''' Return list of flags 1 for prime, 0 for not prime indexed for range 0 to n '''\n",
    "\n",
    "    def sieve(prime_table):\n",
    "        ''' modify flags for all numbers that are not prime from 4 to sqrt(num) '''\n",
    "        for check_num in range(2, int(num**(0.5)+1)):\n",
    "            if prime_table[check_num]:\n",
    "                for set_multiple in range(check_num * 2, num + 1, check_num):  # set all multiples of check_num\n",
    "                    prime_table[set_multiple] = 0\n",
    "        return prime_table\n",
    "    \n",
    "    if isinstance(num, int) and num > 0:\n",
    "        prime_table = [1] * (num + 1)  # pre-populate table (list) as all primes\n",
    "        prime_table[0] = 0  # neither prime nor composite technically\n",
    "        prime_table[1] = 0  # neither prime nor composite technically\n",
    "        sieve(prime_table)\n",
    "        return prime_table\n",
    "    else:\n",
    "        raise ValueError(f'{num} argument provided. Postive integer argument required.')\n",
    "\n",
    "def stuart(num = 100):\n",
    "    table = prime_num_table(100)\n",
    "    return [x for x, y in enumerate(table) if y]\n",
    "    "
   ]
  }
 ],
 "metadata": {
  "kernelspec": {
   "display_name": "Python 3",
   "language": "python",
   "name": "python3"
  },
  "language_info": {
   "codemirror_mode": {
    "name": "ipython",
    "version": 3
   },
   "file_extension": ".py",
   "mimetype": "text/x-python",
   "name": "python",
   "nbconvert_exporter": "python",
   "pygments_lexer": "ipython3",
   "version": "3.7.0"
  }
 },
 "nbformat": 4,
 "nbformat_minor": 2
}
