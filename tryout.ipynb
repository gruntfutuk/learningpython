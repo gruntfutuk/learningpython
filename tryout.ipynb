{
 "nbformat": 4,
 "nbformat_minor": 2,
 "metadata": {
  "language_info": {
   "name": "python",
   "codemirror_mode": {
    "name": "ipython",
    "version": 3
   },
   "version": "3.8.2-final"
  },
  "orig_nbformat": 2,
  "file_extension": ".py",
  "mimetype": "text/x-python",
  "name": "python",
  "npconvert_exporter": "python",
  "pygments_lexer": "ipython3",
  "version": 3,
  "kernelspec": {
   "name": "python38264bit04a3daf7468f42839eb2941c745052a1",
   "display_name": "Python 3.8.2 64-bit"
  }
 },
 "cells": [
  {
   "cell_type": "code",
   "execution_count": 1,
   "metadata": {},
   "outputs": [],
   "source": [
    "newMarkList = [\n",
    "    ['ABDIHAFITH', 'M', '55', '45', '56', '87', '21', '52', '89', '65'],\n",
    "    ['ADAM', 'M', '75', '55', '45', '64', '90', '61', '58', '2'],\n",
    "    ['ADAMA', 'M', '25', '54', '89', '76', '95', '87', '56', '74'],\n",
    "    ['ADITYA', 'M', '78', '55', '86', '63', '54', '89', '75', '45'],\n",
    "    ['AHBAR', 'M', '58', '96', '78', '46', '96', '77', '83', '53'],\n",
    "    ['AHMAD', 'M', '0', '71', '80', '77', '35', '74', '80', '96'],\n",
    "    ['AIDEN', 'M', '65', '35', '42', '83', '81', '45', '24', '38'],\n",
    "    ['AKRAM', 'M', '38', '6', '92', '92', '78', '21', '37', '100'], ['ALASTAIR', 'M', '10', '23', '81', '21', '94', '84', '17', '41'],\n",
    "    ['ALEX', 'M', '95', '65', '50', '25', '69', '51', '70', '9'],\n",
    "    ['ALEXANDAR', 'M', '47', '58', '91', '83', '84', '7', '30', '50'], ['ALEXANDER', 'M', '11', '14', '69', '61', '5', '64', '45', '70'],\n",
    "    ]\n",
    "\n",
    "subjects = 'Mathematics', 'English', 'Physics', 'Chemistry', 'Biology', 'French', 'History', 'Geography'"
   ]
  },
  {
   "cell_type": "code",
   "execution_count": 10,
   "metadata": {},
   "outputs": [
    {
     "output_type": "execute_result",
     "data": {
      "text/plain": "557"
     },
     "metadata": {},
     "execution_count": 10
    }
   ],
   "source": [
    "sum(int(sub_mark[2]) for sub_mark in newMarkList)"
   ]
  },
  {
   "cell_type": "code",
   "execution_count": 11,
   "metadata": {},
   "outputs": [
    {
     "output_type": "execute_result",
     "data": {
      "text/plain": "46.416666666666664"
     },
     "metadata": {},
     "execution_count": 11
    }
   ],
   "source": [
    "557/12"
   ]
  },
  {
   "cell_type": "code",
   "execution_count": 6,
   "metadata": {},
   "outputs": [
    {
     "output_type": "execute_result",
     "data": {
      "text/plain": "12"
     },
     "metadata": {},
     "execution_count": 6
    }
   ],
   "source": [
    "len(newMarkList)"
   ]
  },
  {
   "cell_type": "code",
   "execution_count": 8,
   "metadata": {},
   "outputs": [
    {
     "output_type": "stream",
     "name": "stdout",
     "text": "0 ['ABDIHAFITH', 'M', '55', '45', '56', '87', '21', '52', '89', '65']\n 1 ['ADAM', 'M', '75', '55', '45', '64', '90', '61', '58', '2']\n 2 ['ADAMA', 'M', '25', '54', '89', '76', '95', '87', '56', '74']\n 3 ['ADITYA', 'M', '78', '55', '86', '63', '54', '89', '75', '45']\n 4 ['AHBAR', 'M', '58', '96', '78', '46', '96', '77', '83', '53']\n 5 ['AHMAD', 'M', '0', '71', '80', '77', '35', '74', '80', '96']\n 6 ['AIDEN', 'M', '65', '35', '42', '83', '81', '45', '24', '38']\n 7 ['AKRAM', 'M', '38', '6', '92', '92', '78', '21', '37', '100']\n 8 ['ALASTAIR', 'M', '10', '23', '81', '21', '94', '84', '17', '41']\n 9 ['ALEX', 'M', '95', '65', '50', '25', '69', '51', '70', '9']\n10 ['ALEXANDAR', 'M', '47', '58', '91', '83', '84', '7', '30', '50']\n11 ['ALEXANDER', 'M', '11', '14', '69', '61', '5', '64', '45', '70']\n"
    }
   ],
   "source": [
    "for idx, data in enumerate(newMarkList):\n",
    "    print(f'{idx:2} {data}')"
   ]
  },
  {
   "cell_type": "code",
   "execution_count": null,
   "metadata": {},
   "outputs": [],
   "source": []
  },
  {
   "cell_type": "code",
   "execution_count": 14,
   "metadata": {},
   "outputs": [
    {
     "output_type": "execute_result",
     "data": {
      "text/plain": "   A  B  C\n0  5  0  3\n1  3  7  9\n2  3  5  2\n3  4  7  6\n4  8  8  1",
      "text/html": "<div>\n<style scoped>\n    .dataframe tbody tr th:only-of-type {\n        vertical-align: middle;\n    }\n\n    .dataframe tbody tr th {\n        vertical-align: top;\n    }\n\n    .dataframe thead th {\n        text-align: right;\n    }\n</style>\n<table border=\"1\" class=\"dataframe\">\n  <thead>\n    <tr style=\"text-align: right;\">\n      <th></th>\n      <th>A</th>\n      <th>B</th>\n      <th>C</th>\n    </tr>\n  </thead>\n  <tbody>\n    <tr>\n      <th>0</th>\n      <td>5</td>\n      <td>0</td>\n      <td>3</td>\n    </tr>\n    <tr>\n      <th>1</th>\n      <td>3</td>\n      <td>7</td>\n      <td>9</td>\n    </tr>\n    <tr>\n      <th>2</th>\n      <td>3</td>\n      <td>5</td>\n      <td>2</td>\n    </tr>\n    <tr>\n      <th>3</th>\n      <td>4</td>\n      <td>7</td>\n      <td>6</td>\n    </tr>\n    <tr>\n      <th>4</th>\n      <td>8</td>\n      <td>8</td>\n      <td>1</td>\n    </tr>\n  </tbody>\n</table>\n</div>"
     },
     "metadata": {},
     "execution_count": 14
    }
   ],
   "source": [
    "import numpy as np\n",
    "import pandas as pd\n",
    "\n",
    "np.random.seed(0)\n",
    "df = pd.DataFrame(np.random.choice(10, (5, 3)), columns=list('ABC'))\n",
    "df"
   ]
  },
  {
   "cell_type": "code",
   "execution_count": 23,
   "metadata": {},
   "outputs": [
    {
     "output_type": "stream",
     "name": "stdout",
     "text": "A\nB\nC\n"
    }
   ],
   "source": [
    "df1 = pd.DataFrame(np.random.choice(10, (5, 3)), columns=list('ABC'))\n",
    "df2 = df1['A']\n",
    "df3 = df1['B']\n",
    "for data in df1:\n",
    "    print(data)"
   ]
  },
  {
   "cell_type": "code",
   "execution_count": 24,
   "metadata": {},
   "outputs": [
    {
     "output_type": "execute_result",
     "data": {
      "text/plain": "   A  B  C\n0  5  0  3\n1  3  7  9\n2  3  5  2\n3  4  7  6\n4  8  8  1",
      "text/html": "<div>\n<style scoped>\n    .dataframe tbody tr th:only-of-type {\n        vertical-align: middle;\n    }\n\n    .dataframe tbody tr th {\n        vertical-align: top;\n    }\n\n    .dataframe thead th {\n        text-align: right;\n    }\n</style>\n<table border=\"1\" class=\"dataframe\">\n  <thead>\n    <tr style=\"text-align: right;\">\n      <th></th>\n      <th>A</th>\n      <th>B</th>\n      <th>C</th>\n    </tr>\n  </thead>\n  <tbody>\n    <tr>\n      <th>0</th>\n      <td>5</td>\n      <td>0</td>\n      <td>3</td>\n    </tr>\n    <tr>\n      <th>1</th>\n      <td>3</td>\n      <td>7</td>\n      <td>9</td>\n    </tr>\n    <tr>\n      <th>2</th>\n      <td>3</td>\n      <td>5</td>\n      <td>2</td>\n    </tr>\n    <tr>\n      <th>3</th>\n      <td>4</td>\n      <td>7</td>\n      <td>6</td>\n    </tr>\n    <tr>\n      <th>4</th>\n      <td>8</td>\n      <td>8</td>\n      <td>1</td>\n    </tr>\n  </tbody>\n</table>\n</div>"
     },
     "metadata": {},
     "execution_count": 24
    }
   ],
   "source": []
  }
 ]
}