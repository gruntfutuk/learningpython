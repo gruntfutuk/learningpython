{
 "cells": [
  {
   "cell_type": "code",
   "execution_count": 2,
   "metadata": {},
   "outputs": [
    {
     "name": "stdout",
     "output_type": "stream",
     "text": [
      "Item name:\n",
      "alpha\n",
      "Quantity purchased:\n",
      " 10\n",
      "Price per item:\n",
      "2.5\n",
      "Would you like to enter another item?\n",
      "Type 'c' for continue or 'q' to quit:\n",
      "c\n",
      "Item name:\n",
      "beta\n",
      "Quantity purchased:\n",
      " 5\n",
      "Price per item:\n",
      "5\n",
      "Would you like to enter another item?\n",
      "Type 'c' for continue or 'q' to quit:\n",
      "q\n",
      "10 alpha @ $2.5 ea $25.0\n",
      "5 beta @ $5.0 ea $25.0\n",
      "Grand total :  50.0\n"
     ]
    }
   ],
   "source": [
    "grocery_item = {}\n",
    "grocery_history = []\n",
    "\n",
    "#Variable used to check if the while loop condition is met\n",
    "stop = 'go'\n",
    "\n",
    "while stop!= 'q':\n",
    "\n",
    "    item_name = input(\"Item name:\\n\")\n",
    "    quantity = input(\"Quantity purchased:\\n \")\n",
    "    cost = input(\"Price per item:\\n\")\n",
    "    grocery_item['name'] = item_name\n",
    "    grocery_item['number'] = int(quantity)\n",
    "    grocery_item['price'] = float(cost)\n",
    "    grocery_history.append(grocery_item.copy())\n",
    "    stop = input(\"Would you like to enter another item?\\nType 'c' for continue or 'q' to quit:\\n\")\n",
    "\n",
    "\n",
    "grand_total = 0 \n",
    "for grocery_item in grocery_history:\n",
    "  \n",
    "  #Calculate the total cost for the grocery_item.\n",
    "  item_total = grocery_item['number'] * grocery_item['price']\n",
    "  #Add the item_total to the grand_total\n",
    "  grand_total += item_total\n",
    "  #Output the information for the grocery item to match this example:\n",
    "  #2 apple\t@\t$1.49\tea\t$2.98\n",
    "  print(\"{} {} @ ${} ea ${}\".format(grocery_item['number'], grocery_item['name'], grocery_item['price'], item_total)) \n",
    "  \n",
    "  #Set the item_total equal to 0\n",
    "item_total = 0\n",
    "#Print the grand total\n",
    "print(\"Grand total : \",grand_total)"
   ]
  },
  {
   "cell_type": "code",
   "execution_count": 8,
   "metadata": {},
   "outputs": [],
   "source": [
    "    list1 = ['hi', 'hello']\n",
    "    list2 = [1, 2]\n",
    "    list_zip = list(zip(list1, list2))\n",
    "    list3 = ['test1', 'test2']\n",
    "    list4 = [(l1, l2, l3) for (l1, l2), l3 in zip(list_zip, list3)]"
   ]
  },
  {
   "cell_type": "code",
   "execution_count": 9,
   "metadata": {},
   "outputs": [
    {
     "data": {
      "text/plain": [
       "[('hi', 1, 'test1'), ('hello', 2, 'test2')]"
      ]
     },
     "execution_count": 9,
     "metadata": {},
     "output_type": "execute_result"
    }
   ],
   "source": [
    "list4"
   ]
  },
  {
   "cell_type": "code",
   "execution_count": null,
   "metadata": {},
   "outputs": [],
   "source": []
  }
 ],
 "metadata": {
  "kernelspec": {
   "display_name": "Python 3",
   "language": "python",
   "name": "python3"
  },
  "language_info": {
   "codemirror_mode": {
    "name": "ipython",
    "version": 3
   },
   "file_extension": ".py",
   "mimetype": "text/x-python",
   "name": "python",
   "nbconvert_exporter": "python",
   "pygments_lexer": "ipython3",
   "version": "3.7.4"
  }
 },
 "nbformat": 4,
 "nbformat_minor": 2
}
