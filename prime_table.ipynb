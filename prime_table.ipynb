{
 "cells": [
  {
   "cell_type": "code",
   "execution_count": 48,
   "metadata": {},
   "outputs": [
    {
     "name": "stdout",
     "output_type": "stream",
     "text": [
      "   2 is a prime number.\n",
      "   3 is a prime number.\n",
      "   5 is a prime number.\n",
      "   7 is a prime number.\n",
      "  11 is a prime number.\n",
      "  13 is a prime number.\n",
      "  17 is a prime number.\n",
      "  19 is a prime number.\n",
      "  23 is a prime number.\n",
      "  29 is a prime number.\n",
      "  31 is a prime number.\n",
      "  37 is a prime number.\n",
      "  41 is a prime number.\n",
      "  43 is a prime number.\n",
      "  47 is a prime number.\n",
      "  53 is a prime number.\n",
      "  59 is a prime number.\n",
      "  61 is a prime number.\n",
      "  67 is a prime number.\n",
      "  71 is a prime number.\n",
      "  73 is a prime number.\n",
      "  79 is a prime number.\n",
      "  83 is a prime number.\n",
      "  89 is a prime number.\n",
      "  97 is a prime number.\n",
      " 101 is a prime number.\n",
      " 103 is a prime number.\n",
      " 107 is a prime number.\n"
     ]
    }
   ],
   "source": [
    "''' prime number table generator and test using sieve method '''\n",
    "\n",
    "def prime_num_table(num):\n",
    "    ''' Return list of flags 1 for prime, 0 for not prime indexed for range 0 to n '''\n",
    "\n",
    "    def sieve(prime_table):\n",
    "        ''' modify flags for all numbers that are not prime from 4 to sqrt(num) '''\n",
    "        for check_num in range(2, int(num**(0.5)+1)):\n",
    "            if prime_table[check_num]:\n",
    "                for set_multiple in range(check_num * 2, num + 1, check_num):  # set all multiples of check_num\n",
    "                    prime_table[set_multiple] = 0\n",
    "        return prime_table\n",
    "    \n",
    "    if isinstance(num, int) and num > 0:\n",
    "        prime_table = [1] * (num + 1)  # pre-populate table (list) as all primes\n",
    "        prime_table[0] = 0  # neither prime not composite technically\n",
    "        prime_table[1] = 0  # neither prime not composite technically\n",
    "        sieve(prime_table)\n",
    "        return prime_table\n",
    "    else:\n",
    "        raise ValueError(f'{num} argument provided. Postive integer argument required.')\n",
    "\n",
    "def is_prime_num(num, prime_table = []):\n",
    "    ''' return True/False accordingly is argument n is prime number or not\n",
    "        using table generated with the sieve method if table not supplied '''\n",
    "    if isinstance(num, int) and num > 0:\n",
    "        if isinstance(prime_table, list):\n",
    "            if not prime_table:\n",
    "                prime_table = prime_num_table(num)\n",
    "            return bool(prime_table[num])\n",
    "        else:\n",
    "            raise ValueError(f'Truth table of primes from 0 to {num} required.')\n",
    "    else:\n",
    "        raise ValueError(f'{num} argument provided. Postive integer argument required.')\n",
    "\n",
    "if __name__ == \"__main__\":\n",
    "    test_data = [2, 3, 5, 7, 11, 13, 17, 19, 23, 29, 31, 37, 41, 43, \n",
    "            47, 53, 59, 61, 67, 71, 73, 79, 83, 89, 97, 101, 103, 107]\n",
    "    prime_table = prime_num_table(max(test_data))\n",
    "    for test in test_data:\n",
    "        print(f\"{test:>4d} is{'' if is_prime_num(test, prime_table) else 'not'} a prime number.\")"
   ]
  },
  {
   "cell_type": "code",
   "execution_count": 47,
   "metadata": {},
   "outputs": [
    {
     "data": {
      "text/plain": [
       "True"
      ]
     },
     "execution_count": 47,
     "metadata": {},
     "output_type": "execute_result"
    }
   ],
   "source": []
  },
  {
   "cell_type": "code",
   "execution_count": null,
   "metadata": {},
   "outputs": [],
   "source": []
  }
 ],
 "metadata": {
  "kernelspec": {
   "display_name": "Python 3",
   "language": "python",
   "name": "python3"
  },
  "language_info": {
   "codemirror_mode": {
    "name": "ipython",
    "version": 3
   },
   "file_extension": ".py",
   "mimetype": "text/x-python",
   "name": "python",
   "nbconvert_exporter": "python",
   "pygments_lexer": "ipython3",
   "version": "3.7.0b3"
  }
 },
 "nbformat": 4,
 "nbformat_minor": 2
}
