{
 "cells": [
  {
   "cell_type": "code",
   "execution_count": 1,
   "metadata": {
    "colab": {},
    "colab_type": "code",
    "id": "7PccxOc75EHq"
   },
   "outputs": [],
   "source": [
    "import pandas as pd\n",
    "import numpy as np\n"
   ]
  },
  {
   "cell_type": "code",
   "execution_count": 3,
   "metadata": {
    "colab": {},
    "colab_type": "code",
    "id": "B1p0CWs2wFRm"
   },
   "outputs": [],
   "source": [
    "so = pd.read_csv(r\"stackoverflow.csv\")"
   ]
  },
  {
   "cell_type": "code",
   "execution_count": 4,
   "metadata": {
    "colab": {
     "base_uri": "https://localhost:8080/",
     "height": 34
    },
    "colab_type": "code",
    "id": "S-iVhUw85gQs",
    "outputId": "ee17c0ab-a81f-42c5-f3c1-cfa0581675a2"
   },
   "outputs": [
    {
     "data": {
      "text/plain": [
       "(9484, 12)"
      ]
     },
     "execution_count": 4,
     "metadata": {},
     "output_type": "execute_result"
    }
   ],
   "source": [
    "so.shape"
   ]
  },
  {
   "cell_type": "code",
   "execution_count": 5,
   "metadata": {
    "colab": {
     "base_uri": "https://localhost:8080/",
     "height": 85
    },
    "colab_type": "code",
    "id": "_ozktepH5i2c",
    "outputId": "a79c2078-9a1f-416a-f84a-5b068d7cc558"
   },
   "outputs": [
    {
     "data": {
      "text/plain": [
       "Index(['id', 'creationdate', 'score', 'viewcount', 'title', 'answercount',\n",
       "       'commentcount', 'favoritecount', 'quest_name', 'quest_rep', 'ans_name',\n",
       "       'ans_rep'],\n",
       "      dtype='object')"
      ]
     },
     "execution_count": 5,
     "metadata": {},
     "output_type": "execute_result"
    }
   ],
   "source": [
    "so.columns"
   ]
  },
  {
   "cell_type": "code",
   "execution_count": 6,
   "metadata": {
    "colab": {
     "base_uri": "https://localhost:8080/",
     "height": 204
    },
    "colab_type": "code",
    "id": "pUUoVLE15lI0",
    "outputId": "fc7ccff5-8bd7-492e-f39a-d18be823fd34"
   },
   "outputs": [
    {
     "data": {
      "text/html": [
       "<div>\n",
       "<style scoped>\n",
       "    .dataframe tbody tr th:only-of-type {\n",
       "        vertical-align: middle;\n",
       "    }\n",
       "\n",
       "    .dataframe tbody tr th {\n",
       "        vertical-align: top;\n",
       "    }\n",
       "\n",
       "    .dataframe thead th {\n",
       "        text-align: right;\n",
       "    }\n",
       "</style>\n",
       "<table border=\"1\" class=\"dataframe\">\n",
       "  <thead>\n",
       "    <tr style=\"text-align: right;\">\n",
       "      <th></th>\n",
       "      <th>score</th>\n",
       "      <th>viewcount</th>\n",
       "    </tr>\n",
       "  </thead>\n",
       "  <tbody>\n",
       "    <tr>\n",
       "      <th>0</th>\n",
       "      <td>2</td>\n",
       "      <td>8045</td>\n",
       "    </tr>\n",
       "    <tr>\n",
       "      <th>1</th>\n",
       "      <td>1</td>\n",
       "      <td>916</td>\n",
       "    </tr>\n",
       "    <tr>\n",
       "      <th>2</th>\n",
       "      <td>1</td>\n",
       "      <td>2413</td>\n",
       "    </tr>\n",
       "    <tr>\n",
       "      <th>3</th>\n",
       "      <td>4</td>\n",
       "      <td>1020</td>\n",
       "    </tr>\n",
       "    <tr>\n",
       "      <th>4</th>\n",
       "      <td>35</td>\n",
       "      <td>25498</td>\n",
       "    </tr>\n",
       "  </tbody>\n",
       "</table>\n",
       "</div>"
      ],
      "text/plain": [
       "   score  viewcount\n",
       "0      2       8045\n",
       "1      1        916\n",
       "2      1       2413\n",
       "3      4       1020\n",
       "4     35      25498"
      ]
     },
     "execution_count": 6,
     "metadata": {},
     "output_type": "execute_result"
    }
   ],
   "source": [
    "so[['score', 'viewcount']].head()\n"
   ]
  },
  {
   "cell_type": "code",
   "execution_count": 7,
   "metadata": {
    "colab": {},
    "colab_type": "code",
    "id": "7XGyAz7VMC66"
   },
   "outputs": [],
   "source": [
    "data_array = np.array([['NY', 'blue', 'Steak', 30, 165, 4.6],\n",
    "       ['TX', 'green', 'Lamb', 2, 70, 8.3],\n",
    "       ['FL', 'red', 'Mango', 12, 120, 9.0],\n",
    "       ['AL', 'white', 'Apple', 4, 80, 3.3],\n",
    "       ['AK', 'gray', 'Cheese', 32, 180, 1.8],\n",
    "       ['TX', 'black', 'Melon', 33, 172, 9.5],\n",
    "       ['TX', 'red', 'Beans', 69, 150, 2.2]], dtype=object)\n",
    "\n",
    "data = pd.DataFrame(data_array, index=['Jane', 'Niko', 'Aaron', 'Penelope', 'Dean', 'Christina', \n",
    "       'Cornelia'], columns = ['state', 'color', 'food', 'age', 'height', 'score'])"
   ]
  },
  {
   "cell_type": "code",
   "execution_count": 8,
   "metadata": {
    "colab": {},
    "colab_type": "code",
    "id": "sQJhcl2EM9VP"
   },
   "outputs": [
    {
     "data": {
      "text/html": [
       "<div>\n",
       "<style scoped>\n",
       "    .dataframe tbody tr th:only-of-type {\n",
       "        vertical-align: middle;\n",
       "    }\n",
       "\n",
       "    .dataframe tbody tr th {\n",
       "        vertical-align: top;\n",
       "    }\n",
       "\n",
       "    .dataframe thead th {\n",
       "        text-align: right;\n",
       "    }\n",
       "</style>\n",
       "<table border=\"1\" class=\"dataframe\">\n",
       "  <thead>\n",
       "    <tr style=\"text-align: right;\">\n",
       "      <th></th>\n",
       "      <th>state</th>\n",
       "      <th>color</th>\n",
       "      <th>food</th>\n",
       "      <th>age</th>\n",
       "      <th>height</th>\n",
       "      <th>score</th>\n",
       "    </tr>\n",
       "  </thead>\n",
       "  <tbody>\n",
       "    <tr>\n",
       "      <th>Jane</th>\n",
       "      <td>NY</td>\n",
       "      <td>blue</td>\n",
       "      <td>Steak</td>\n",
       "      <td>30</td>\n",
       "      <td>165</td>\n",
       "      <td>4.6</td>\n",
       "    </tr>\n",
       "    <tr>\n",
       "      <th>Niko</th>\n",
       "      <td>TX</td>\n",
       "      <td>green</td>\n",
       "      <td>Lamb</td>\n",
       "      <td>2</td>\n",
       "      <td>70</td>\n",
       "      <td>8.3</td>\n",
       "    </tr>\n",
       "    <tr>\n",
       "      <th>Aaron</th>\n",
       "      <td>FL</td>\n",
       "      <td>red</td>\n",
       "      <td>Mango</td>\n",
       "      <td>12</td>\n",
       "      <td>120</td>\n",
       "      <td>9</td>\n",
       "    </tr>\n",
       "    <tr>\n",
       "      <th>Penelope</th>\n",
       "      <td>AL</td>\n",
       "      <td>white</td>\n",
       "      <td>Apple</td>\n",
       "      <td>4</td>\n",
       "      <td>80</td>\n",
       "      <td>3.3</td>\n",
       "    </tr>\n",
       "    <tr>\n",
       "      <th>Dean</th>\n",
       "      <td>AK</td>\n",
       "      <td>gray</td>\n",
       "      <td>Cheese</td>\n",
       "      <td>32</td>\n",
       "      <td>180</td>\n",
       "      <td>1.8</td>\n",
       "    </tr>\n",
       "    <tr>\n",
       "      <th>Christina</th>\n",
       "      <td>TX</td>\n",
       "      <td>black</td>\n",
       "      <td>Melon</td>\n",
       "      <td>33</td>\n",
       "      <td>172</td>\n",
       "      <td>9.5</td>\n",
       "    </tr>\n",
       "    <tr>\n",
       "      <th>Cornelia</th>\n",
       "      <td>TX</td>\n",
       "      <td>red</td>\n",
       "      <td>Beans</td>\n",
       "      <td>69</td>\n",
       "      <td>150</td>\n",
       "      <td>2.2</td>\n",
       "    </tr>\n",
       "  </tbody>\n",
       "</table>\n",
       "</div>"
      ],
      "text/plain": [
       "          state  color    food age height score\n",
       "Jane         NY   blue   Steak  30    165   4.6\n",
       "Niko         TX  green    Lamb   2     70   8.3\n",
       "Aaron        FL    red   Mango  12    120     9\n",
       "Penelope     AL  white   Apple   4     80   3.3\n",
       "Dean         AK   gray  Cheese  32    180   1.8\n",
       "Christina    TX  black   Melon  33    172   9.5\n",
       "Cornelia     TX    red   Beans  69    150   2.2"
      ]
     },
     "execution_count": 8,
     "metadata": {},
     "output_type": "execute_result"
    }
   ],
   "source": [
    "data"
   ]
  },
  {
   "cell_type": "code",
   "execution_count": 9,
   "metadata": {
    "colab": {},
    "colab_type": "code",
    "id": "JibTZtIoNSPo"
   },
   "outputs": [
    {
     "data": {
      "text/html": [
       "<div>\n",
       "<style scoped>\n",
       "    .dataframe tbody tr th:only-of-type {\n",
       "        vertical-align: middle;\n",
       "    }\n",
       "\n",
       "    .dataframe tbody tr th {\n",
       "        vertical-align: top;\n",
       "    }\n",
       "\n",
       "    .dataframe thead th {\n",
       "        text-align: right;\n",
       "    }\n",
       "</style>\n",
       "<table border=\"1\" class=\"dataframe\">\n",
       "  <thead>\n",
       "    <tr style=\"text-align: right;\">\n",
       "      <th></th>\n",
       "      <th>food</th>\n",
       "      <th>score</th>\n",
       "    </tr>\n",
       "  </thead>\n",
       "  <tbody>\n",
       "    <tr>\n",
       "      <th>Jane</th>\n",
       "      <td>Steak</td>\n",
       "      <td>4.6</td>\n",
       "    </tr>\n",
       "    <tr>\n",
       "      <th>Niko</th>\n",
       "      <td>Lamb</td>\n",
       "      <td>8.3</td>\n",
       "    </tr>\n",
       "    <tr>\n",
       "      <th>Aaron</th>\n",
       "      <td>Mango</td>\n",
       "      <td>9</td>\n",
       "    </tr>\n",
       "    <tr>\n",
       "      <th>Penelope</th>\n",
       "      <td>Apple</td>\n",
       "      <td>3.3</td>\n",
       "    </tr>\n",
       "    <tr>\n",
       "      <th>Dean</th>\n",
       "      <td>Cheese</td>\n",
       "      <td>1.8</td>\n",
       "    </tr>\n",
       "  </tbody>\n",
       "</table>\n",
       "</div>"
      ],
      "text/plain": [
       "            food score\n",
       "Jane       Steak   4.6\n",
       "Niko        Lamb   8.3\n",
       "Aaron      Mango     9\n",
       "Penelope   Apple   3.3\n",
       "Dean      Cheese   1.8"
      ]
     },
     "execution_count": 9,
     "metadata": {},
     "output_type": "execute_result"
    }
   ],
   "source": [
    "data.loc['Jane':'Dean', ['food', 'score']]\n",
    "# data.loc[['Dean', 'Cornelia'], ['age', 'state', 'score']]"
   ]
  },
  {
   "cell_type": "code",
   "execution_count": 10,
   "metadata": {
    "colab": {},
    "colab_type": "code",
    "id": "u60Yw1B2N6Hc"
   },
   "outputs": [
    {
     "data": {
      "text/plain": [
       "state        TX\n",
       "color     green\n",
       "food       Lamb\n",
       "age           2\n",
       "height       70\n",
       "score       8.3\n",
       "Name: Niko, dtype: object"
      ]
     },
     "execution_count": 10,
     "metadata": {},
     "output_type": "execute_result"
    }
   ],
   "source": [
    "data.loc['Niko']"
   ]
  },
  {
   "cell_type": "code",
   "execution_count": 11,
   "metadata": {
    "colab": {},
    "colab_type": "code",
    "id": "eyI9dYoON9Sv"
   },
   "outputs": [
    {
     "data": {
      "text/html": [
       "<div>\n",
       "<style scoped>\n",
       "    .dataframe tbody tr th:only-of-type {\n",
       "        vertical-align: middle;\n",
       "    }\n",
       "\n",
       "    .dataframe tbody tr th {\n",
       "        vertical-align: top;\n",
       "    }\n",
       "\n",
       "    .dataframe thead th {\n",
       "        text-align: right;\n",
       "    }\n",
       "</style>\n",
       "<table border=\"1\" class=\"dataframe\">\n",
       "  <thead>\n",
       "    <tr style=\"text-align: right;\">\n",
       "      <th></th>\n",
       "      <th>state</th>\n",
       "      <th>color</th>\n",
       "      <th>food</th>\n",
       "      <th>age</th>\n",
       "      <th>height</th>\n",
       "      <th>score</th>\n",
       "    </tr>\n",
       "  </thead>\n",
       "  <tbody>\n",
       "    <tr>\n",
       "      <th>Dean</th>\n",
       "      <td>AK</td>\n",
       "      <td>gray</td>\n",
       "      <td>Cheese</td>\n",
       "      <td>32</td>\n",
       "      <td>180</td>\n",
       "      <td>1.8</td>\n",
       "    </tr>\n",
       "    <tr>\n",
       "      <th>Christina</th>\n",
       "      <td>TX</td>\n",
       "      <td>black</td>\n",
       "      <td>Melon</td>\n",
       "      <td>33</td>\n",
       "      <td>172</td>\n",
       "      <td>9.5</td>\n",
       "    </tr>\n",
       "    <tr>\n",
       "      <th>Cornelia</th>\n",
       "      <td>TX</td>\n",
       "      <td>red</td>\n",
       "      <td>Beans</td>\n",
       "      <td>69</td>\n",
       "      <td>150</td>\n",
       "      <td>2.2</td>\n",
       "    </tr>\n",
       "  </tbody>\n",
       "</table>\n",
       "</div>"
      ],
      "text/plain": [
       "          state  color    food age height score\n",
       "Dean         AK   gray  Cheese  32    180   1.8\n",
       "Christina    TX  black   Melon  33    172   9.5\n",
       "Cornelia     TX    red   Beans  69    150   2.2"
      ]
     },
     "execution_count": 11,
     "metadata": {},
     "output_type": "execute_result"
    }
   ],
   "source": [
    "data.loc['Dean':'Cornelia']"
   ]
  },
  {
   "cell_type": "code",
   "execution_count": 12,
   "metadata": {
    "colab": {},
    "colab_type": "code",
    "id": "3mraqDNYPdeE"
   },
   "outputs": [
    {
     "data": {
      "text/html": [
       "<div>\n",
       "<style scoped>\n",
       "    .dataframe tbody tr th:only-of-type {\n",
       "        vertical-align: middle;\n",
       "    }\n",
       "\n",
       "    .dataframe tbody tr th {\n",
       "        vertical-align: top;\n",
       "    }\n",
       "\n",
       "    .dataframe thead th {\n",
       "        text-align: right;\n",
       "    }\n",
       "</style>\n",
       "<table border=\"1\" class=\"dataframe\">\n",
       "  <thead>\n",
       "    <tr style=\"text-align: right;\">\n",
       "      <th></th>\n",
       "      <th>state</th>\n",
       "      <th>color</th>\n",
       "      <th>food</th>\n",
       "      <th>age</th>\n",
       "      <th>height</th>\n",
       "      <th>score</th>\n",
       "    </tr>\n",
       "  </thead>\n",
       "  <tbody>\n",
       "    <tr>\n",
       "      <th>Jane</th>\n",
       "      <td>NY</td>\n",
       "      <td>blue</td>\n",
       "      <td>Steak</td>\n",
       "      <td>30</td>\n",
       "      <td>165</td>\n",
       "      <td>4.6</td>\n",
       "    </tr>\n",
       "    <tr>\n",
       "      <th>Aaron</th>\n",
       "      <td>FL</td>\n",
       "      <td>red</td>\n",
       "      <td>Mango</td>\n",
       "      <td>12</td>\n",
       "      <td>120</td>\n",
       "      <td>9</td>\n",
       "    </tr>\n",
       "    <tr>\n",
       "      <th>Dean</th>\n",
       "      <td>AK</td>\n",
       "      <td>gray</td>\n",
       "      <td>Cheese</td>\n",
       "      <td>32</td>\n",
       "      <td>180</td>\n",
       "      <td>1.8</td>\n",
       "    </tr>\n",
       "    <tr>\n",
       "      <th>Cornelia</th>\n",
       "      <td>TX</td>\n",
       "      <td>red</td>\n",
       "      <td>Beans</td>\n",
       "      <td>69</td>\n",
       "      <td>150</td>\n",
       "      <td>2.2</td>\n",
       "    </tr>\n",
       "  </tbody>\n",
       "</table>\n",
       "</div>"
      ],
      "text/plain": [
       "         state color    food age height score\n",
       "Jane        NY  blue   Steak  30    165   4.6\n",
       "Aaron       FL   red   Mango  12    120     9\n",
       "Dean        AK  gray  Cheese  32    180   1.8\n",
       "Cornelia    TX   red   Beans  69    150   2.2"
      ]
     },
     "execution_count": 12,
     "metadata": {},
     "output_type": "execute_result"
    }
   ],
   "source": [
    "data.loc['Jane'::2]"
   ]
  },
  {
   "cell_type": "code",
   "execution_count": 13,
   "metadata": {
    "colab": {},
    "colab_type": "code",
    "id": "6hkbQgyawz4V"
   },
   "outputs": [
    {
     "data": {
      "text/html": [
       "<div>\n",
       "<style scoped>\n",
       "    .dataframe tbody tr th:only-of-type {\n",
       "        vertical-align: middle;\n",
       "    }\n",
       "\n",
       "    .dataframe tbody tr th {\n",
       "        vertical-align: top;\n",
       "    }\n",
       "\n",
       "    .dataframe thead th {\n",
       "        text-align: right;\n",
       "    }\n",
       "</style>\n",
       "<table border=\"1\" class=\"dataframe\">\n",
       "  <thead>\n",
       "    <tr style=\"text-align: right;\">\n",
       "      <th></th>\n",
       "      <th>height</th>\n",
       "      <th>food</th>\n",
       "      <th>color</th>\n",
       "    </tr>\n",
       "  </thead>\n",
       "  <tbody>\n",
       "    <tr>\n",
       "      <th>Niko</th>\n",
       "      <td>70</td>\n",
       "      <td>Lamb</td>\n",
       "      <td>green</td>\n",
       "    </tr>\n",
       "    <tr>\n",
       "      <th>Penelope</th>\n",
       "      <td>80</td>\n",
       "      <td>Apple</td>\n",
       "      <td>white</td>\n",
       "    </tr>\n",
       "    <tr>\n",
       "      <th>Christina</th>\n",
       "      <td>172</td>\n",
       "      <td>Melon</td>\n",
       "      <td>black</td>\n",
       "    </tr>\n",
       "  </tbody>\n",
       "</table>\n",
       "</div>"
      ],
      "text/plain": [
       "          height   food  color\n",
       "Niko          70   Lamb  green\n",
       "Penelope      80  Apple  white\n",
       "Christina    172  Melon  black"
      ]
     },
     "execution_count": 13,
     "metadata": {},
     "output_type": "execute_result"
    }
   ],
   "source": [
    "data.iloc[[1, 3, 5], [4, 2, 1]]"
   ]
  },
  {
   "cell_type": "code",
   "execution_count": 14,
   "metadata": {
    "colab": {},
    "colab_type": "code",
    "id": "Y40dynI9w8zw"
   },
   "outputs": [
    {
     "data": {
      "text/html": [
       "<div>\n",
       "<style scoped>\n",
       "    .dataframe tbody tr th:only-of-type {\n",
       "        vertical-align: middle;\n",
       "    }\n",
       "\n",
       "    .dataframe tbody tr th {\n",
       "        vertical-align: top;\n",
       "    }\n",
       "\n",
       "    .dataframe thead th {\n",
       "        text-align: right;\n",
       "    }\n",
       "</style>\n",
       "<table border=\"1\" class=\"dataframe\">\n",
       "  <thead>\n",
       "    <tr style=\"text-align: right;\">\n",
       "      <th></th>\n",
       "      <th>state</th>\n",
       "      <th>color</th>\n",
       "      <th>food</th>\n",
       "      <th>age</th>\n",
       "      <th>height</th>\n",
       "      <th>score</th>\n",
       "    </tr>\n",
       "  </thead>\n",
       "  <tbody>\n",
       "    <tr>\n",
       "      <th>Penelope</th>\n",
       "      <td>AL</td>\n",
       "      <td>white</td>\n",
       "      <td>Apple</td>\n",
       "      <td>4</td>\n",
       "      <td>80</td>\n",
       "      <td>3.3</td>\n",
       "    </tr>\n",
       "    <tr>\n",
       "      <th>Dean</th>\n",
       "      <td>AK</td>\n",
       "      <td>gray</td>\n",
       "      <td>Cheese</td>\n",
       "      <td>32</td>\n",
       "      <td>180</td>\n",
       "      <td>1.8</td>\n",
       "    </tr>\n",
       "  </tbody>\n",
       "</table>\n",
       "</div>"
      ],
      "text/plain": [
       "         state  color    food age height score\n",
       "Penelope    AL  white   Apple   4     80   3.3\n",
       "Dean        AK   gray  Cheese  32    180   1.8"
      ]
     },
     "execution_count": 14,
     "metadata": {},
     "output_type": "execute_result"
    }
   ],
   "source": [
    "data[3:5]"
   ]
  },
  {
   "cell_type": "code",
   "execution_count": 15,
   "metadata": {
    "colab": {},
    "colab_type": "code",
    "id": "_n1HDxA4UbX_"
   },
   "outputs": [
    {
     "data": {
      "text/plain": [
       "Jane         165\n",
       "Niko          70\n",
       "Aaron        120\n",
       "Penelope      80\n",
       "Dean         180\n",
       "Christina    172\n",
       "Cornelia     150\n",
       "Name: height, dtype: object"
      ]
     },
     "execution_count": 15,
     "metadata": {},
     "output_type": "execute_result"
    }
   ],
   "source": [
    "data.height"
   ]
  },
  {
   "cell_type": "code",
   "execution_count": 16,
   "metadata": {
    "colab": {},
    "colab_type": "code",
    "id": "boXmvy5tVJLf"
   },
   "outputs": [
    {
     "data": {
      "text/html": [
       "<div>\n",
       "<style scoped>\n",
       "    .dataframe tbody tr th:only-of-type {\n",
       "        vertical-align: middle;\n",
       "    }\n",
       "\n",
       "    .dataframe tbody tr th {\n",
       "        vertical-align: top;\n",
       "    }\n",
       "\n",
       "    .dataframe thead th {\n",
       "        text-align: right;\n",
       "    }\n",
       "</style>\n",
       "<table border=\"1\" class=\"dataframe\">\n",
       "  <thead>\n",
       "    <tr style=\"text-align: right;\">\n",
       "      <th></th>\n",
       "      <th>state</th>\n",
       "      <th>color</th>\n",
       "      <th>food</th>\n",
       "      <th>age</th>\n",
       "      <th>height</th>\n",
       "      <th>score</th>\n",
       "    </tr>\n",
       "  </thead>\n",
       "  <tbody>\n",
       "    <tr>\n",
       "      <th>Jane</th>\n",
       "      <td>NY</td>\n",
       "      <td>blue</td>\n",
       "      <td>Steak</td>\n",
       "      <td>30</td>\n",
       "      <td>165</td>\n",
       "      <td>4.6</td>\n",
       "    </tr>\n",
       "    <tr>\n",
       "      <th>Niko</th>\n",
       "      <td>TX</td>\n",
       "      <td>green</td>\n",
       "      <td>Lamb</td>\n",
       "      <td>2</td>\n",
       "      <td>70</td>\n",
       "      <td>8.3</td>\n",
       "    </tr>\n",
       "    <tr>\n",
       "      <th>Aaron</th>\n",
       "      <td>FL</td>\n",
       "      <td>red</td>\n",
       "      <td>Mango</td>\n",
       "      <td>12</td>\n",
       "      <td>120</td>\n",
       "      <td>9</td>\n",
       "    </tr>\n",
       "    <tr>\n",
       "      <th>Penelope</th>\n",
       "      <td>AL</td>\n",
       "      <td>white</td>\n",
       "      <td>Apple</td>\n",
       "      <td>4</td>\n",
       "      <td>80</td>\n",
       "      <td>3.3</td>\n",
       "    </tr>\n",
       "    <tr>\n",
       "      <th>Dean</th>\n",
       "      <td>AK</td>\n",
       "      <td>gray</td>\n",
       "      <td>Cheese</td>\n",
       "      <td>32</td>\n",
       "      <td>180</td>\n",
       "      <td>1.8</td>\n",
       "    </tr>\n",
       "    <tr>\n",
       "      <th>Christina</th>\n",
       "      <td>TX</td>\n",
       "      <td>black</td>\n",
       "      <td>Melon</td>\n",
       "      <td>33</td>\n",
       "      <td>172</td>\n",
       "      <td>9.5</td>\n",
       "    </tr>\n",
       "    <tr>\n",
       "      <th>Cornelia</th>\n",
       "      <td>TX</td>\n",
       "      <td>red</td>\n",
       "      <td>Beans</td>\n",
       "      <td>69</td>\n",
       "      <td>150</td>\n",
       "      <td>2.2</td>\n",
       "    </tr>\n",
       "  </tbody>\n",
       "</table>\n",
       "</div>"
      ],
      "text/plain": [
       "          state  color    food age height score\n",
       "Jane         NY   blue   Steak  30    165   4.6\n",
       "Niko         TX  green    Lamb   2     70   8.3\n",
       "Aaron        FL    red   Mango  12    120     9\n",
       "Penelope     AL  white   Apple   4     80   3.3\n",
       "Dean         AK   gray  Cheese  32    180   1.8\n",
       "Christina    TX  black   Melon  33    172   9.5\n",
       "Cornelia     TX    red   Beans  69    150   2.2"
      ]
     },
     "execution_count": 16,
     "metadata": {},
     "output_type": "execute_result"
    }
   ],
   "source": [
    "data"
   ]
  },
  {
   "cell_type": "code",
   "execution_count": null,
   "metadata": {
    "colab": {},
    "colab_type": "code",
    "id": "SP3e2JaNZZy0"
   },
   "outputs": [],
   "source": [
    "data.loc[[True, True, False, True, False,False, True], [True, False, False, True, True, False]]"
   ]
  },
  {
   "cell_type": "code",
   "execution_count": null,
   "metadata": {
    "colab": {},
    "colab_type": "code",
    "id": "1dtShkasZhz7"
   },
   "outputs": [],
   "source": [
    "so.head(10)"
   ]
  },
  {
   "cell_type": "code",
   "execution_count": null,
   "metadata": {
    "colab": {},
    "colab_type": "code",
    "id": "rSRenvFxhWyM"
   },
   "outputs": [],
   "source": [
    "some = so.head(10)"
   ]
  },
  {
   "cell_type": "code",
   "execution_count": null,
   "metadata": {
    "colab": {},
    "colab_type": "code",
    "id": "AUU1Wfo4hfwr"
   },
   "outputs": [],
   "source": [
    "some.loc[(some['viewcount'] < 5000) & (some['viewcount'] > 1000) & (some['score'] > 1), 'viewcount':'commentcount']"
   ]
  },
  {
   "cell_type": "code",
   "execution_count": null,
   "metadata": {
    "colab": {},
    "colab_type": "code",
    "id": "Y5-KlqZ5hsvU"
   },
   "outputs": [],
   "source": [
    "some.loc[:, 'title':'commentcount']"
   ]
  },
  {
   "cell_type": "code",
   "execution_count": null,
   "metadata": {
    "colab": {},
    "colab_type": "code",
    "id": "EYFTfIbximVY"
   },
   "outputs": [],
   "source": [
    "coins = pd.DataFrame(np.random.randint(0, 2, (100, 10)), \n",
    "                         columns=list('abcdefghij'))"
   ]
  },
  {
   "cell_type": "code",
   "execution_count": null,
   "metadata": {
    "colab": {},
    "colab_type": "code",
    "id": "Z7JC3P7VkWXz"
   },
   "outputs": [],
   "source": [
    "coins.head()"
   ]
  },
  {
   "cell_type": "code",
   "execution_count": null,
   "metadata": {
    "colab": {},
    "colab_type": "code",
    "id": "1HvyrgfckY6x"
   },
   "outputs": [],
   "source": [
    "coins.shape"
   ]
  },
  {
   "cell_type": "code",
   "execution_count": null,
   "metadata": {
    "colab": {},
    "colab_type": "code",
    "id": "2qSD-ELmkdzY"
   },
   "outputs": [],
   "source": [
    "coins.loc[:, coins.mean() > 0.5].head()"
   ]
  },
  {
   "cell_type": "code",
   "execution_count": null,
   "metadata": {
    "colab": {},
    "colab_type": "code",
    "id": "Y8P4CZ2mkk2Y"
   },
   "outputs": [],
   "source": [
    "coins.mean()"
   ]
  },
  {
   "cell_type": "code",
   "execution_count": null,
   "metadata": {
    "colab": {},
    "colab_type": "code",
    "id": "k8EAPIWXlGRJ"
   },
   "outputs": [],
   "source": [
    "some[some['answercount'] > some['score']]"
   ]
  },
  {
   "cell_type": "code",
   "execution_count": null,
   "metadata": {
    "colab": {},
    "colab_type": "code",
    "id": "M90IBS0eotSU"
   },
   "outputs": [],
   "source": [
    "criteria = so['viewcount'] > 100000"
   ]
  },
  {
   "cell_type": "code",
   "execution_count": null,
   "metadata": {
    "colab": {},
    "colab_type": "code",
    "id": "oHtCNPfao_KH"
   },
   "outputs": [],
   "source": [
    "type(criteria)"
   ]
  },
  {
   "cell_type": "code",
   "execution_count": null,
   "metadata": {
    "colab": {},
    "colab_type": "code",
    "id": "U0xCFgRtpCBY"
   },
   "outputs": [],
   "source": [
    "so.iloc[criteria.values].head()"
   ]
  },
  {
   "cell_type": "code",
   "execution_count": null,
   "metadata": {
    "colab": {
     "base_uri": "https://localhost:8080/",
     "height": 266
    },
    "colab_type": "code",
    "id": "1cziJDT3pHDY",
    "outputId": "f2f6c491-8265-4b49-d9a5-ac4344b32447"
   },
   "outputs": [
    {
     "data": {
      "text/html": [
       "<div>\n",
       "<style scoped>\n",
       "    .dataframe tbody tr th:only-of-type {\n",
       "        vertical-align: middle;\n",
       "    }\n",
       "\n",
       "    .dataframe tbody tr th {\n",
       "        vertical-align: top;\n",
       "    }\n",
       "\n",
       "    .dataframe thead th {\n",
       "        text-align: right;\n",
       "    }\n",
       "</style>\n",
       "<table border=\"1\" class=\"dataframe\">\n",
       "  <thead>\n",
       "    <tr style=\"text-align: right;\">\n",
       "      <th></th>\n",
       "      <th>state</th>\n",
       "      <th>color</th>\n",
       "      <th>food</th>\n",
       "      <th>age</th>\n",
       "      <th>height</th>\n",
       "      <th>score</th>\n",
       "    </tr>\n",
       "  </thead>\n",
       "  <tbody>\n",
       "    <tr>\n",
       "      <th>Jane</th>\n",
       "      <td>NY</td>\n",
       "      <td>blue</td>\n",
       "      <td>Steak</td>\n",
       "      <td>30</td>\n",
       "      <td>165</td>\n",
       "      <td>4.6</td>\n",
       "    </tr>\n",
       "    <tr>\n",
       "      <th>Niko</th>\n",
       "      <td>TX</td>\n",
       "      <td>green</td>\n",
       "      <td>Lamb</td>\n",
       "      <td>2</td>\n",
       "      <td>70</td>\n",
       "      <td>8.3</td>\n",
       "    </tr>\n",
       "    <tr>\n",
       "      <th>Aaron</th>\n",
       "      <td>FL</td>\n",
       "      <td>red</td>\n",
       "      <td>Mango</td>\n",
       "      <td>12</td>\n",
       "      <td>120</td>\n",
       "      <td>9</td>\n",
       "    </tr>\n",
       "    <tr>\n",
       "      <th>Penelope</th>\n",
       "      <td>AL</td>\n",
       "      <td>white</td>\n",
       "      <td>Apple</td>\n",
       "      <td>4</td>\n",
       "      <td>80</td>\n",
       "      <td>3.3</td>\n",
       "    </tr>\n",
       "    <tr>\n",
       "      <th>Dean</th>\n",
       "      <td>AK</td>\n",
       "      <td>gray</td>\n",
       "      <td>Cheese</td>\n",
       "      <td>32</td>\n",
       "      <td>180</td>\n",
       "      <td>1.8</td>\n",
       "    </tr>\n",
       "    <tr>\n",
       "      <th>Christina</th>\n",
       "      <td>TX</td>\n",
       "      <td>black</td>\n",
       "      <td>Melon</td>\n",
       "      <td>33</td>\n",
       "      <td>172</td>\n",
       "      <td>9.5</td>\n",
       "    </tr>\n",
       "    <tr>\n",
       "      <th>Cornelia</th>\n",
       "      <td>TX</td>\n",
       "      <td>red</td>\n",
       "      <td>Beans</td>\n",
       "      <td>69</td>\n",
       "      <td>150</td>\n",
       "      <td>2.2</td>\n",
       "    </tr>\n",
       "  </tbody>\n",
       "</table>\n",
       "</div>"
      ],
      "text/plain": [
       "          state  color    food age height score\n",
       "Jane         NY   blue   Steak  30    165   4.6\n",
       "Niko         TX  green    Lamb   2     70   8.3\n",
       "Aaron        FL    red   Mango  12    120     9\n",
       "Penelope     AL  white   Apple   4     80   3.3\n",
       "Dean         AK   gray  Cheese  32    180   1.8\n",
       "Christina    TX  black   Melon  33    172   9.5\n",
       "Cornelia     TX    red   Beans  69    150   2.2"
      ]
     },
     "execution_count": 42,
     "metadata": {
      "tags": []
     },
     "output_type": "execute_result"
    }
   ],
   "source": [
    "data"
   ]
  },
  {
   "cell_type": "code",
   "execution_count": null,
   "metadata": {
    "colab": {},
    "colab_type": "code",
    "id": "GJETXSInrjtC"
   },
   "outputs": [],
   "source": [
    "data['Stuart'] = True"
   ]
  },
  {
   "cell_type": "code",
   "execution_count": null,
   "metadata": {
    "colab": {
     "base_uri": "https://localhost:8080/",
     "height": 266
    },
    "colab_type": "code",
    "id": "x5-m6ooQrsXQ",
    "outputId": "f637cfa5-c00b-400e-f76c-38092287f23a"
   },
   "outputs": [
    {
     "data": {
      "text/html": [
       "<div>\n",
       "<style scoped>\n",
       "    .dataframe tbody tr th:only-of-type {\n",
       "        vertical-align: middle;\n",
       "    }\n",
       "\n",
       "    .dataframe tbody tr th {\n",
       "        vertical-align: top;\n",
       "    }\n",
       "\n",
       "    .dataframe thead th {\n",
       "        text-align: right;\n",
       "    }\n",
       "</style>\n",
       "<table border=\"1\" class=\"dataframe\">\n",
       "  <thead>\n",
       "    <tr style=\"text-align: right;\">\n",
       "      <th></th>\n",
       "      <th>state</th>\n",
       "      <th>color</th>\n",
       "      <th>food</th>\n",
       "      <th>age</th>\n",
       "      <th>height</th>\n",
       "      <th>score</th>\n",
       "      <th>Stuart</th>\n",
       "    </tr>\n",
       "  </thead>\n",
       "  <tbody>\n",
       "    <tr>\n",
       "      <th>Jane</th>\n",
       "      <td>NY</td>\n",
       "      <td>blue</td>\n",
       "      <td>Steak</td>\n",
       "      <td>30</td>\n",
       "      <td>165</td>\n",
       "      <td>4.6</td>\n",
       "      <td>True</td>\n",
       "    </tr>\n",
       "    <tr>\n",
       "      <th>Niko</th>\n",
       "      <td>TX</td>\n",
       "      <td>green</td>\n",
       "      <td>Lamb</td>\n",
       "      <td>2</td>\n",
       "      <td>70</td>\n",
       "      <td>8.3</td>\n",
       "      <td>True</td>\n",
       "    </tr>\n",
       "    <tr>\n",
       "      <th>Aaron</th>\n",
       "      <td>FL</td>\n",
       "      <td>red</td>\n",
       "      <td>Mango</td>\n",
       "      <td>12</td>\n",
       "      <td>120</td>\n",
       "      <td>9</td>\n",
       "      <td>True</td>\n",
       "    </tr>\n",
       "    <tr>\n",
       "      <th>Penelope</th>\n",
       "      <td>AL</td>\n",
       "      <td>white</td>\n",
       "      <td>Apple</td>\n",
       "      <td>4</td>\n",
       "      <td>80</td>\n",
       "      <td>3.3</td>\n",
       "      <td>True</td>\n",
       "    </tr>\n",
       "    <tr>\n",
       "      <th>Dean</th>\n",
       "      <td>AK</td>\n",
       "      <td>gray</td>\n",
       "      <td>Cheese</td>\n",
       "      <td>32</td>\n",
       "      <td>180</td>\n",
       "      <td>1.8</td>\n",
       "      <td>True</td>\n",
       "    </tr>\n",
       "    <tr>\n",
       "      <th>Christina</th>\n",
       "      <td>TX</td>\n",
       "      <td>black</td>\n",
       "      <td>Melon</td>\n",
       "      <td>33</td>\n",
       "      <td>172</td>\n",
       "      <td>9.5</td>\n",
       "      <td>True</td>\n",
       "    </tr>\n",
       "    <tr>\n",
       "      <th>Cornelia</th>\n",
       "      <td>TX</td>\n",
       "      <td>red</td>\n",
       "      <td>Beans</td>\n",
       "      <td>69</td>\n",
       "      <td>150</td>\n",
       "      <td>2.2</td>\n",
       "      <td>True</td>\n",
       "    </tr>\n",
       "  </tbody>\n",
       "</table>\n",
       "</div>"
      ],
      "text/plain": [
       "          state  color    food age height score  Stuart\n",
       "Jane         NY   blue   Steak  30    165   4.6    True\n",
       "Niko         TX  green    Lamb   2     70   8.3    True\n",
       "Aaron        FL    red   Mango  12    120     9    True\n",
       "Penelope     AL  white   Apple   4     80   3.3    True\n",
       "Dean         AK   gray  Cheese  32    180   1.8    True\n",
       "Christina    TX  black   Melon  33    172   9.5    True\n",
       "Cornelia     TX    red   Beans  69    150   2.2    True"
      ]
     },
     "execution_count": 44,
     "metadata": {
      "tags": []
     },
     "output_type": "execute_result"
    }
   ],
   "source": [
    "data"
   ]
  },
  {
   "cell_type": "code",
   "execution_count": null,
   "metadata": {
    "colab": {},
    "colab_type": "code",
    "id": "HrPDQKYFrtG7"
   },
   "outputs": [],
   "source": [
    "data['Stuart'] = 99"
   ]
  },
  {
   "cell_type": "code",
   "execution_count": null,
   "metadata": {
    "colab": {
     "base_uri": "https://localhost:8080/",
     "height": 266
    },
    "colab_type": "code",
    "id": "EapvgVmtr5rh",
    "outputId": "79f95897-dbeb-4fd0-f3ae-d491d25dda83"
   },
   "outputs": [
    {
     "data": {
      "text/html": [
       "<div>\n",
       "<style scoped>\n",
       "    .dataframe tbody tr th:only-of-type {\n",
       "        vertical-align: middle;\n",
       "    }\n",
       "\n",
       "    .dataframe tbody tr th {\n",
       "        vertical-align: top;\n",
       "    }\n",
       "\n",
       "    .dataframe thead th {\n",
       "        text-align: right;\n",
       "    }\n",
       "</style>\n",
       "<table border=\"1\" class=\"dataframe\">\n",
       "  <thead>\n",
       "    <tr style=\"text-align: right;\">\n",
       "      <th></th>\n",
       "      <th>state</th>\n",
       "      <th>color</th>\n",
       "      <th>food</th>\n",
       "      <th>age</th>\n",
       "      <th>height</th>\n",
       "      <th>score</th>\n",
       "      <th>Stuart</th>\n",
       "      <th>Bonus rate</th>\n",
       "    </tr>\n",
       "  </thead>\n",
       "  <tbody>\n",
       "    <tr>\n",
       "      <th>Jane</th>\n",
       "      <td>NY</td>\n",
       "      <td>blue</td>\n",
       "      <td>Steak</td>\n",
       "      <td>30</td>\n",
       "      <td>165</td>\n",
       "      <td>4.6</td>\n",
       "      <td>99</td>\n",
       "      <td>0.2</td>\n",
       "    </tr>\n",
       "    <tr>\n",
       "      <th>Niko</th>\n",
       "      <td>TX</td>\n",
       "      <td>green</td>\n",
       "      <td>Lamb</td>\n",
       "      <td>2</td>\n",
       "      <td>70</td>\n",
       "      <td>8.3</td>\n",
       "      <td>99</td>\n",
       "      <td>0.3</td>\n",
       "    </tr>\n",
       "    <tr>\n",
       "      <th>Aaron</th>\n",
       "      <td>FL</td>\n",
       "      <td>red</td>\n",
       "      <td>Mango</td>\n",
       "      <td>12</td>\n",
       "      <td>120</td>\n",
       "      <td>9</td>\n",
       "      <td>99</td>\n",
       "      <td>0.1</td>\n",
       "    </tr>\n",
       "    <tr>\n",
       "      <th>Penelope</th>\n",
       "      <td>AL</td>\n",
       "      <td>white</td>\n",
       "      <td>Apple</td>\n",
       "      <td>4</td>\n",
       "      <td>80</td>\n",
       "      <td>3.3</td>\n",
       "      <td>99</td>\n",
       "      <td>0.2</td>\n",
       "    </tr>\n",
       "    <tr>\n",
       "      <th>Dean</th>\n",
       "      <td>AK</td>\n",
       "      <td>gray</td>\n",
       "      <td>Cheese</td>\n",
       "      <td>32</td>\n",
       "      <td>180</td>\n",
       "      <td>1.8</td>\n",
       "      <td>99</td>\n",
       "      <td>0.2</td>\n",
       "    </tr>\n",
       "    <tr>\n",
       "      <th>Christina</th>\n",
       "      <td>TX</td>\n",
       "      <td>black</td>\n",
       "      <td>Melon</td>\n",
       "      <td>33</td>\n",
       "      <td>172</td>\n",
       "      <td>9.5</td>\n",
       "      <td>99</td>\n",
       "      <td>0.4</td>\n",
       "    </tr>\n",
       "    <tr>\n",
       "      <th>Cornelia</th>\n",
       "      <td>TX</td>\n",
       "      <td>red</td>\n",
       "      <td>Beans</td>\n",
       "      <td>69</td>\n",
       "      <td>150</td>\n",
       "      <td>2.2</td>\n",
       "      <td>99</td>\n",
       "      <td>0.1</td>\n",
       "    </tr>\n",
       "  </tbody>\n",
       "</table>\n",
       "</div>"
      ],
      "text/plain": [
       "          state  color    food age height score  Stuart  Bonus rate\n",
       "Jane         NY   blue   Steak  30    165   4.6      99         0.2\n",
       "Niko         TX  green    Lamb   2     70   8.3      99         0.3\n",
       "Aaron        FL    red   Mango  12    120     9      99         0.1\n",
       "Penelope     AL  white   Apple   4     80   3.3      99         0.2\n",
       "Dean         AK   gray  Cheese  32    180   1.8      99         0.2\n",
       "Christina    TX  black   Melon  33    172   9.5      99         0.4\n",
       "Cornelia     TX    red   Beans  69    150   2.2      99         0.1"
      ]
     },
     "execution_count": 52,
     "metadata": {
      "tags": []
     },
     "output_type": "execute_result"
    }
   ],
   "source": [
    "data"
   ]
  },
  {
   "cell_type": "code",
   "execution_count": null,
   "metadata": {
    "colab": {},
    "colab_type": "code",
    "id": "6qwFf939sCBz"
   },
   "outputs": [],
   "source": [
    "data['Bonus rate'] = [.2, .3, .1, .2, .2, .4, .1]"
   ]
  },
  {
   "cell_type": "code",
   "execution_count": null,
   "metadata": {
    "colab": {
     "base_uri": "https://localhost:8080/",
     "height": 266
    },
    "colab_type": "code",
    "id": "xCKLI7TTs9Sa",
    "outputId": "c0cf2d88-2f78-4f65-fdee-4b0b664e0e66"
   },
   "outputs": [
    {
     "data": {
      "text/html": [
       "<div>\n",
       "<style scoped>\n",
       "    .dataframe tbody tr th:only-of-type {\n",
       "        vertical-align: middle;\n",
       "    }\n",
       "\n",
       "    .dataframe tbody tr th {\n",
       "        vertical-align: top;\n",
       "    }\n",
       "\n",
       "    .dataframe thead th {\n",
       "        text-align: right;\n",
       "    }\n",
       "</style>\n",
       "<table border=\"1\" class=\"dataframe\">\n",
       "  <thead>\n",
       "    <tr style=\"text-align: right;\">\n",
       "      <th></th>\n",
       "      <th>state</th>\n",
       "      <th>color</th>\n",
       "      <th>food</th>\n",
       "      <th>age</th>\n",
       "      <th>height</th>\n",
       "      <th>score</th>\n",
       "      <th>floor</th>\n",
       "    </tr>\n",
       "  </thead>\n",
       "  <tbody>\n",
       "    <tr>\n",
       "      <th>Jane</th>\n",
       "      <td>NY</td>\n",
       "      <td>blue</td>\n",
       "      <td>Steak</td>\n",
       "      <td>30</td>\n",
       "      <td>165</td>\n",
       "      <td>4.6</td>\n",
       "      <td>4</td>\n",
       "    </tr>\n",
       "    <tr>\n",
       "      <th>Niko</th>\n",
       "      <td>TX</td>\n",
       "      <td>green</td>\n",
       "      <td>Lamb</td>\n",
       "      <td>2</td>\n",
       "      <td>70</td>\n",
       "      <td>8.3</td>\n",
       "      <td>7</td>\n",
       "    </tr>\n",
       "    <tr>\n",
       "      <th>Aaron</th>\n",
       "      <td>FL</td>\n",
       "      <td>red</td>\n",
       "      <td>Mango</td>\n",
       "      <td>12</td>\n",
       "      <td>120</td>\n",
       "      <td>9</td>\n",
       "      <td>9</td>\n",
       "    </tr>\n",
       "    <tr>\n",
       "      <th>Penelope</th>\n",
       "      <td>AL</td>\n",
       "      <td>white</td>\n",
       "      <td>Apple</td>\n",
       "      <td>4</td>\n",
       "      <td>80</td>\n",
       "      <td>3.3</td>\n",
       "      <td>7</td>\n",
       "    </tr>\n",
       "    <tr>\n",
       "      <th>Dean</th>\n",
       "      <td>AK</td>\n",
       "      <td>gray</td>\n",
       "      <td>Cheese</td>\n",
       "      <td>32</td>\n",
       "      <td>180</td>\n",
       "      <td>1.8</td>\n",
       "      <td>8</td>\n",
       "    </tr>\n",
       "    <tr>\n",
       "      <th>Christina</th>\n",
       "      <td>TX</td>\n",
       "      <td>black</td>\n",
       "      <td>Melon</td>\n",
       "      <td>33</td>\n",
       "      <td>172</td>\n",
       "      <td>9.5</td>\n",
       "      <td>5</td>\n",
       "    </tr>\n",
       "    <tr>\n",
       "      <th>Cornelia</th>\n",
       "      <td>TX</td>\n",
       "      <td>red</td>\n",
       "      <td>Beans</td>\n",
       "      <td>69</td>\n",
       "      <td>150</td>\n",
       "      <td>2.2</td>\n",
       "      <td>9</td>\n",
       "    </tr>\n",
       "  </tbody>\n",
       "</table>\n",
       "</div>"
      ],
      "text/plain": [
       "          state  color    food age height score  floor\n",
       "Jane         NY   blue   Steak  30    165   4.6      4\n",
       "Niko         TX  green    Lamb   2     70   8.3      7\n",
       "Aaron        FL    red   Mango  12    120     9      9\n",
       "Penelope     AL  white   Apple   4     80   3.3      7\n",
       "Dean         AK   gray  Cheese  32    180   1.8      8\n",
       "Christina    TX  black   Melon  33    172   9.5      5\n",
       "Cornelia     TX    red   Beans  69    150   2.2      9"
      ]
     },
     "execution_count": 5,
     "metadata": {
      "tags": []
     },
     "output_type": "execute_result"
    }
   ],
   "source": [
    "floor = np.random.randint(low=1, high=10, size=len(data))\n",
    "data['floor'] = floor\n",
    "data"
   ]
  },
  {
   "cell_type": "code",
   "execution_count": null,
   "metadata": {
    "colab": {
     "base_uri": "https://localhost:8080/",
     "height": 235
    },
    "colab_type": "code",
    "id": "7Trz8WcktQRS",
    "outputId": "f8a69501-d32e-4556-8dbb-211cdfbfa28a"
   },
   "outputs": [
    {
     "data": {
      "text/html": [
       "<div>\n",
       "<style scoped>\n",
       "    .dataframe tbody tr th:only-of-type {\n",
       "        vertical-align: middle;\n",
       "    }\n",
       "\n",
       "    .dataframe tbody tr th {\n",
       "        vertical-align: top;\n",
       "    }\n",
       "\n",
       "    .dataframe thead th {\n",
       "        text-align: right;\n",
       "    }\n",
       "</style>\n",
       "<table border=\"1\" class=\"dataframe\">\n",
       "  <thead>\n",
       "    <tr style=\"text-align: right;\">\n",
       "      <th></th>\n",
       "      <th>food</th>\n",
       "      <th>age</th>\n",
       "      <th>height</th>\n",
       "      <th>score</th>\n",
       "    </tr>\n",
       "  </thead>\n",
       "  <tbody>\n",
       "    <tr>\n",
       "      <th>Jane</th>\n",
       "      <td>Steak</td>\n",
       "      <td>30</td>\n",
       "      <td>165</td>\n",
       "      <td>4.6</td>\n",
       "    </tr>\n",
       "    <tr>\n",
       "      <th>Niko</th>\n",
       "      <td>Lamb</td>\n",
       "      <td>2</td>\n",
       "      <td>70</td>\n",
       "      <td>8.3</td>\n",
       "    </tr>\n",
       "    <tr>\n",
       "      <th>Aaron</th>\n",
       "      <td>Mango</td>\n",
       "      <td>12</td>\n",
       "      <td>120</td>\n",
       "      <td>9</td>\n",
       "    </tr>\n",
       "    <tr>\n",
       "      <th>Penelope</th>\n",
       "      <td>Apple</td>\n",
       "      <td>4</td>\n",
       "      <td>80</td>\n",
       "      <td>3.3</td>\n",
       "    </tr>\n",
       "    <tr>\n",
       "      <th>Dean</th>\n",
       "      <td>Cheese</td>\n",
       "      <td>32</td>\n",
       "      <td>180</td>\n",
       "      <td>1.8</td>\n",
       "    </tr>\n",
       "    <tr>\n",
       "      <th>Christina</th>\n",
       "      <td>Melon</td>\n",
       "      <td>33</td>\n",
       "      <td>172</td>\n",
       "      <td>9.5</td>\n",
       "    </tr>\n",
       "  </tbody>\n",
       "</table>\n",
       "</div>"
      ],
      "text/plain": [
       "             food age height score\n",
       "Jane        Steak  30    165   4.6\n",
       "Niko         Lamb   2     70   8.3\n",
       "Aaron       Mango  12    120     9\n",
       "Penelope    Apple   4     80   3.3\n",
       "Dean       Cheese  32    180   1.8\n",
       "Christina   Melon  33    172   9.5"
      ]
     },
     "execution_count": 11,
     "metadata": {
      "tags": []
     },
     "output_type": "execute_result"
    }
   ],
   "source": [
    "data.loc['Jane':'Christina','food':'score']"
   ]
  },
  {
   "cell_type": "code",
   "execution_count": null,
   "metadata": {
    "colab": {
     "base_uri": "https://localhost:8080/",
     "height": 153
    },
    "colab_type": "code",
    "id": "wRWwsDC8iwni",
    "outputId": "5a366521-e78f-4689-8b0a-19788ebf41df"
   },
   "outputs": [
    {
     "data": {
      "text/plain": [
       "Jane          Steak\n",
       "Niko           Lamb\n",
       "Aaron         Mango\n",
       "Penelope      Apple\n",
       "Dean         Cheese\n",
       "Christina     Melon\n",
       "Cornelia      Beans\n",
       "Name: food, dtype: object"
      ]
     },
     "execution_count": 12,
     "metadata": {
      "tags": []
     },
     "output_type": "execute_result"
    }
   ],
   "source": [
    "data['food']"
   ]
  },
  {
   "cell_type": "code",
   "execution_count": null,
   "metadata": {
    "colab": {
     "base_uri": "https://localhost:8080/",
     "height": 68
    },
    "colab_type": "code",
    "id": "r1RvCeDzi4jK",
    "outputId": "704875cc-0eeb-4b6d-ae7c-2a4f6c4cdd82"
   },
   "outputs": [
    {
     "data": {
      "text/plain": [
       "Jane     Steak\n",
       "Dean    Cheese\n",
       "Name: food, dtype: object"
      ]
     },
     "execution_count": 27,
     "metadata": {
      "tags": []
     },
     "output_type": "execute_result"
    }
   ],
   "source": [
    "food[['Jane', 'Dean']]"
   ]
  },
  {
   "cell_type": "code",
   "execution_count": null,
   "metadata": {
    "colab": {},
    "colab_type": "code",
    "id": "kVIJe75UoS_Y"
   },
   "outputs": [],
   "source": [
    "food = data['food']"
   ]
  },
  {
   "cell_type": "code",
   "execution_count": null,
   "metadata": {
    "colab": {
     "base_uri": "https://localhost:8080/",
     "height": 142
    },
    "colab_type": "code",
    "id": "dFIXgx3-pOT7",
    "outputId": "43472539-4e7b-4a3e-dccc-8eba3380a91f"
   },
   "outputs": [
    {
     "data": {
      "text/html": [
       "<div>\n",
       "<style scoped>\n",
       "    .dataframe tbody tr th:only-of-type {\n",
       "        vertical-align: middle;\n",
       "    }\n",
       "\n",
       "    .dataframe tbody tr th {\n",
       "        vertical-align: top;\n",
       "    }\n",
       "\n",
       "    .dataframe thead th {\n",
       "        text-align: right;\n",
       "    }\n",
       "</style>\n",
       "<table border=\"1\" class=\"dataframe\">\n",
       "  <thead>\n",
       "    <tr style=\"text-align: right;\">\n",
       "      <th></th>\n",
       "      <th>state</th>\n",
       "      <th>color</th>\n",
       "      <th>food</th>\n",
       "      <th>age</th>\n",
       "      <th>height</th>\n",
       "      <th>score</th>\n",
       "      <th>floor</th>\n",
       "    </tr>\n",
       "  </thead>\n",
       "  <tbody>\n",
       "    <tr>\n",
       "      <th>Jane</th>\n",
       "      <td>NY</td>\n",
       "      <td>blue</td>\n",
       "      <td>Steak</td>\n",
       "      <td>30</td>\n",
       "      <td>165</td>\n",
       "      <td>4.6</td>\n",
       "      <td>4</td>\n",
       "    </tr>\n",
       "    <tr>\n",
       "      <th>Niko</th>\n",
       "      <td>TX</td>\n",
       "      <td>green</td>\n",
       "      <td>Lamb</td>\n",
       "      <td>2</td>\n",
       "      <td>70</td>\n",
       "      <td>8.3</td>\n",
       "      <td>7</td>\n",
       "    </tr>\n",
       "    <tr>\n",
       "      <th>Aaron</th>\n",
       "      <td>FL</td>\n",
       "      <td>red</td>\n",
       "      <td>Mango</td>\n",
       "      <td>12</td>\n",
       "      <td>120</td>\n",
       "      <td>9</td>\n",
       "      <td>9</td>\n",
       "    </tr>\n",
       "  </tbody>\n",
       "</table>\n",
       "</div>"
      ],
      "text/plain": [
       "      state  color   food age height score  floor\n",
       "Jane     NY   blue  Steak  30    165   4.6      4\n",
       "Niko     TX  green   Lamb   2     70   8.3      7\n",
       "Aaron    FL    red  Mango  12    120     9      9"
      ]
     },
     "execution_count": 22,
     "metadata": {
      "tags": []
     },
     "output_type": "execute_result"
    }
   ],
   "source": [
    "data[0:3]"
   ]
  },
  {
   "cell_type": "code",
   "execution_count": null,
   "metadata": {
    "colab": {
     "base_uri": "https://localhost:8080/",
     "height": 173
    },
    "colab_type": "code",
    "id": "1BYrleEVz9mY",
    "outputId": "2d826595-73f1-4e3d-a38e-9982b7de211e"
   },
   "outputs": [
    {
     "data": {
      "text/html": [
       "<div>\n",
       "<style scoped>\n",
       "    .dataframe tbody tr th:only-of-type {\n",
       "        vertical-align: middle;\n",
       "    }\n",
       "\n",
       "    .dataframe tbody tr th {\n",
       "        vertical-align: top;\n",
       "    }\n",
       "\n",
       "    .dataframe thead th {\n",
       "        text-align: right;\n",
       "    }\n",
       "</style>\n",
       "<table border=\"1\" class=\"dataframe\">\n",
       "  <thead>\n",
       "    <tr style=\"text-align: right;\">\n",
       "      <th></th>\n",
       "      <th>state</th>\n",
       "      <th>color</th>\n",
       "      <th>food</th>\n",
       "      <th>age</th>\n",
       "      <th>height</th>\n",
       "      <th>score</th>\n",
       "      <th>floor</th>\n",
       "    </tr>\n",
       "  </thead>\n",
       "  <tbody>\n",
       "    <tr>\n",
       "      <th>Jane</th>\n",
       "      <td>NY</td>\n",
       "      <td>blue</td>\n",
       "      <td>Steak</td>\n",
       "      <td>30</td>\n",
       "      <td>165</td>\n",
       "      <td>4.6</td>\n",
       "      <td>4</td>\n",
       "    </tr>\n",
       "    <tr>\n",
       "      <th>Dean</th>\n",
       "      <td>AK</td>\n",
       "      <td>gray</td>\n",
       "      <td>Cheese</td>\n",
       "      <td>32</td>\n",
       "      <td>180</td>\n",
       "      <td>1.8</td>\n",
       "      <td>8</td>\n",
       "    </tr>\n",
       "    <tr>\n",
       "      <th>Christina</th>\n",
       "      <td>TX</td>\n",
       "      <td>black</td>\n",
       "      <td>Melon</td>\n",
       "      <td>33</td>\n",
       "      <td>172</td>\n",
       "      <td>9.5</td>\n",
       "      <td>5</td>\n",
       "    </tr>\n",
       "    <tr>\n",
       "      <th>Cornelia</th>\n",
       "      <td>TX</td>\n",
       "      <td>red</td>\n",
       "      <td>Beans</td>\n",
       "      <td>69</td>\n",
       "      <td>150</td>\n",
       "      <td>2.2</td>\n",
       "      <td>9</td>\n",
       "    </tr>\n",
       "  </tbody>\n",
       "</table>\n",
       "</div>"
      ],
      "text/plain": [
       "          state  color    food age height score  floor\n",
       "Jane         NY   blue   Steak  30    165   4.6      4\n",
       "Dean         AK   gray  Cheese  32    180   1.8      8\n",
       "Christina    TX  black   Melon  33    172   9.5      5\n",
       "Cornelia     TX    red   Beans  69    150   2.2      9"
      ]
     },
     "execution_count": 38,
     "metadata": {
      "tags": []
     },
     "output_type": "execute_result"
    }
   ],
   "source": [
    "s = (data['age'] > 10) & (data['height'] > 130)\n",
    "data[s]"
   ]
  },
  {
   "cell_type": "code",
   "execution_count": null,
   "metadata": {
    "colab": {
     "base_uri": "https://localhost:8080/",
     "height": 111
    },
    "colab_type": "code",
    "id": "qnifUkfc5GEb",
    "outputId": "eb459e5a-71b9-430f-de99-402d81e5d6ee"
   },
   "outputs": [
    {
     "data": {
      "text/html": [
       "<div>\n",
       "<style scoped>\n",
       "    .dataframe tbody tr th:only-of-type {\n",
       "        vertical-align: middle;\n",
       "    }\n",
       "\n",
       "    .dataframe tbody tr th {\n",
       "        vertical-align: top;\n",
       "    }\n",
       "\n",
       "    .dataframe thead th {\n",
       "        text-align: right;\n",
       "    }\n",
       "</style>\n",
       "<table border=\"1\" class=\"dataframe\">\n",
       "  <thead>\n",
       "    <tr style=\"text-align: right;\">\n",
       "      <th></th>\n",
       "      <th>food</th>\n",
       "      <th>height</th>\n",
       "    </tr>\n",
       "  </thead>\n",
       "  <tbody>\n",
       "    <tr>\n",
       "      <th>Jane</th>\n",
       "      <td>Steak</td>\n",
       "      <td>165</td>\n",
       "    </tr>\n",
       "    <tr>\n",
       "      <th>Dean</th>\n",
       "      <td>Cheese</td>\n",
       "      <td>180</td>\n",
       "    </tr>\n",
       "  </tbody>\n",
       "</table>\n",
       "</div>"
      ],
      "text/plain": [
       "        food height\n",
       "Jane   Steak    165\n",
       "Dean  Cheese    180"
      ]
     },
     "execution_count": 66,
     "metadata": {
      "tags": []
     },
     "output_type": "execute_result"
    }
   ],
   "source": [
    "rs = (data.index.isin(['Jane', 'Niko', 'Aaron', 'Penelope', 'Dean', ]))\n",
    "rh = (data['height'] > 130)\n",
    "cn = data.columns.isin(['food', 'height'])\n",
    "data.loc[rs & rh, cn]"
   ]
  },
  {
   "cell_type": "code",
   "execution_count": null,
   "metadata": {
    "colab": {
     "base_uri": "https://localhost:8080/",
     "height": 266
    },
    "colab_type": "code",
    "id": "vHdvRly-E4Zf",
    "outputId": "ea3d479f-2629-42b0-af9f-33bcc2fb83ef"
   },
   "outputs": [
    {
     "data": {
      "text/html": [
       "<div>\n",
       "<style scoped>\n",
       "    .dataframe tbody tr th:only-of-type {\n",
       "        vertical-align: middle;\n",
       "    }\n",
       "\n",
       "    .dataframe tbody tr th {\n",
       "        vertical-align: top;\n",
       "    }\n",
       "\n",
       "    .dataframe thead th {\n",
       "        text-align: right;\n",
       "    }\n",
       "</style>\n",
       "<table border=\"1\" class=\"dataframe\">\n",
       "  <thead>\n",
       "    <tr style=\"text-align: right;\">\n",
       "      <th></th>\n",
       "      <th>state</th>\n",
       "      <th>color</th>\n",
       "      <th>food</th>\n",
       "      <th>age</th>\n",
       "      <th>height</th>\n",
       "      <th>score</th>\n",
       "      <th>floor</th>\n",
       "    </tr>\n",
       "  </thead>\n",
       "  <tbody>\n",
       "    <tr>\n",
       "      <th>Jane</th>\n",
       "      <td>NY</td>\n",
       "      <td>blue</td>\n",
       "      <td>Steak</td>\n",
       "      <td>30</td>\n",
       "      <td>165</td>\n",
       "      <td>4.6</td>\n",
       "      <td>4</td>\n",
       "    </tr>\n",
       "    <tr>\n",
       "      <th>Niko</th>\n",
       "      <td>TX</td>\n",
       "      <td>green</td>\n",
       "      <td>Lamb</td>\n",
       "      <td>2</td>\n",
       "      <td>70</td>\n",
       "      <td>8.3</td>\n",
       "      <td>7</td>\n",
       "    </tr>\n",
       "    <tr>\n",
       "      <th>Aaron</th>\n",
       "      <td>FL</td>\n",
       "      <td>red</td>\n",
       "      <td>Mango</td>\n",
       "      <td>12</td>\n",
       "      <td>120</td>\n",
       "      <td>9</td>\n",
       "      <td>9</td>\n",
       "    </tr>\n",
       "    <tr>\n",
       "      <th>Penelope</th>\n",
       "      <td>AL</td>\n",
       "      <td>white</td>\n",
       "      <td>Apple</td>\n",
       "      <td>4</td>\n",
       "      <td>80</td>\n",
       "      <td>3.3</td>\n",
       "      <td>7</td>\n",
       "    </tr>\n",
       "    <tr>\n",
       "      <th>Dean</th>\n",
       "      <td>AK</td>\n",
       "      <td>gray</td>\n",
       "      <td>Cheese</td>\n",
       "      <td>32</td>\n",
       "      <td>180</td>\n",
       "      <td>1.8</td>\n",
       "      <td>8</td>\n",
       "    </tr>\n",
       "    <tr>\n",
       "      <th>Christina</th>\n",
       "      <td>TX</td>\n",
       "      <td>black</td>\n",
       "      <td>Melon</td>\n",
       "      <td>33</td>\n",
       "      <td>172</td>\n",
       "      <td>9.5</td>\n",
       "      <td>5</td>\n",
       "    </tr>\n",
       "    <tr>\n",
       "      <th>Cornelia</th>\n",
       "      <td>TX</td>\n",
       "      <td>red</td>\n",
       "      <td>Beans</td>\n",
       "      <td>69</td>\n",
       "      <td>150</td>\n",
       "      <td>2.2</td>\n",
       "      <td>9</td>\n",
       "    </tr>\n",
       "  </tbody>\n",
       "</table>\n",
       "</div>"
      ],
      "text/plain": [
       "          state  color    food age height score  floor\n",
       "Jane         NY   blue   Steak  30    165   4.6      4\n",
       "Niko         TX  green    Lamb   2     70   8.3      7\n",
       "Aaron        FL    red   Mango  12    120     9      9\n",
       "Penelope     AL  white   Apple   4     80   3.3      7\n",
       "Dean         AK   gray  Cheese  32    180   1.8      8\n",
       "Christina    TX  black   Melon  33    172   9.5      5\n",
       "Cornelia     TX    red   Beans  69    150   2.2      9"
      ]
     },
     "execution_count": 67,
     "metadata": {
      "tags": []
     },
     "output_type": "execute_result"
    }
   ],
   "source": [
    "data"
   ]
  },
  {
   "cell_type": "code",
   "execution_count": null,
   "metadata": {
    "colab": {
     "base_uri": "https://localhost:8080/",
     "height": 85
    },
    "colab_type": "code",
    "id": "zy6JAabjFBGL",
    "outputId": "e047fb00-fa67-47fc-89c1-ea159abd57ed"
   },
   "outputs": [
    {
     "data": {
      "text/plain": [
       "age        26.000000\n",
       "height    133.857143\n",
       "score       5.528571\n",
       "dtype: float64"
      ]
     },
     "execution_count": 71,
     "metadata": {
      "tags": []
     },
     "output_type": "execute_result"
    }
   ],
   "source": [
    "data.loc[:,['age', 'height','score']].mean()"
   ]
  },
  {
   "cell_type": "code",
   "execution_count": null,
   "metadata": {
    "colab": {
     "base_uri": "https://localhost:8080/",
     "height": 51
    },
    "colab_type": "code",
    "id": "HjAu6vt8H2a8",
    "outputId": "2419bfbc-6bec-48d2-fdae-4b23887bbc53"
   },
   "outputs": [
    {
     "data": {
      "text/plain": [
       "array([300, 315, 330, 345, 360, 375, 390, 405, 420, 435, 450, 465, 480,\n",
       "       495, 510, 525, 540, 555, 570, 585])"
      ]
     },
     "execution_count": 13,
     "metadata": {
      "tags": []
     },
     "output_type": "execute_result"
    }
   ],
   "source": [
    "a = np.arange(100, 200, 5)\n",
    "a * 3"
   ]
  },
  {
   "cell_type": "code",
   "execution_count": null,
   "metadata": {
    "colab": {
     "base_uri": "https://localhost:8080/",
     "height": 51
    },
    "colab_type": "code",
    "id": "KHCPFUa703tW",
    "outputId": "8e9b4a99-0016-415d-bd31-fb1ffcb86092"
   },
   "outputs": [
    {
     "data": {
      "text/plain": [
       "array([100, 105, 110, 115, 120, 125, 130, 135, 140, 145, 150, 155, 160,\n",
       "       165, 170, 175, 180, 185, 190, 195])"
      ]
     },
     "execution_count": 14,
     "metadata": {
      "tags": []
     },
     "output_type": "execute_result"
    }
   ],
   "source": [
    "a"
   ]
  },
  {
   "cell_type": "code",
   "execution_count": null,
   "metadata": {
    "colab": {
     "base_uri": "https://localhost:8080/",
     "height": 34
    },
    "colab_type": "code",
    "id": "IiF10PDt7hNs",
    "outputId": "076e1e30-e9b5-4c2f-ad76-74b0b8cb0f58"
   },
   "outputs": [
    {
     "data": {
      "text/plain": [
       "160"
      ]
     },
     "execution_count": 15,
     "metadata": {
      "tags": []
     },
     "output_type": "execute_result"
    }
   ],
   "source": [
    "a.nbytes"
   ]
  },
  {
   "cell_type": "code",
   "execution_count": null,
   "metadata": {
    "colab": {
     "base_uri": "https://localhost:8080/",
     "height": 34
    },
    "colab_type": "code",
    "id": "x-28slgSBYkT",
    "outputId": "aaff523b-d0b3-445d-efb1-5c1f6638389f"
   },
   "outputs": [
    {
     "data": {
      "text/plain": [
       "dtype('int64')"
      ]
     },
     "execution_count": 17,
     "metadata": {
      "tags": []
     },
     "output_type": "execute_result"
    }
   ],
   "source": [
    "a.dtype"
   ]
  },
  {
   "cell_type": "code",
   "execution_count": null,
   "metadata": {
    "colab": {},
    "colab_type": "code",
    "id": "fgxZzrkgBZ73"
   },
   "outputs": [],
   "source": [
    "s=np.full((2,2), 'Hello')"
   ]
  },
  {
   "cell_type": "code",
   "execution_count": null,
   "metadata": {
    "colab": {},
    "colab_type": "code",
    "id": "iDmhF-u_D0Yn"
   },
   "outputs": [],
   "source": [
    "s[1,1]='Michael'"
   ]
  },
  {
   "cell_type": "code",
   "execution_count": null,
   "metadata": {
    "colab": {
     "base_uri": "https://localhost:8080/",
     "height": 51
    },
    "colab_type": "code",
    "id": "M3Mj1LP3D9Re",
    "outputId": "7ee863d7-e997-42f5-a651-6ef701130b7f"
   },
   "outputs": [
    {
     "data": {
      "text/plain": [
       "array([['Hello', 'Hello'],\n",
       "       ['Hello', 'Micha']], dtype='<U5')"
      ]
     },
     "execution_count": 24,
     "metadata": {
      "tags": []
     },
     "output_type": "execute_result"
    }
   ],
   "source": [
    "s"
   ]
  },
  {
   "cell_type": "code",
   "execution_count": null,
   "metadata": {
    "colab": {},
    "colab_type": "code",
    "id": "cldoA6DjEA8i"
   },
   "outputs": [],
   "source": [
    "np.identity?"
   ]
  },
  {
   "cell_type": "code",
   "execution_count": null,
   "metadata": {
    "colab": {},
    "colab_type": "code",
    "id": "itoHaQEhETWj"
   },
   "outputs": [],
   "source": [
    "a = np.array([1, 2, 3])\n"
   ]
  },
  {
   "cell_type": "code",
   "execution_count": null,
   "metadata": {
    "colab": {},
    "colab_type": "code",
    "id": "oiU1oGaoZIwS"
   },
   "outputs": [],
   "source": [
    "a //= 7"
   ]
  },
  {
   "cell_type": "code",
   "execution_count": null,
   "metadata": {
    "colab": {
     "base_uri": "https://localhost:8080/",
     "height": 34
    },
    "colab_type": "code",
    "id": "PMcrr4XuZJeP",
    "outputId": "aa009886-f0c0-4398-f712-6bbd92687ade"
   },
   "outputs": [
    {
     "data": {
      "text/plain": [
       "array([0, 0, 0])"
      ]
     },
     "execution_count": 35,
     "metadata": {
      "tags": []
     },
     "output_type": "execute_result"
    }
   ],
   "source": [
    "a"
   ]
  },
  {
   "cell_type": "code",
   "execution_count": null,
   "metadata": {
    "colab": {
     "base_uri": "https://localhost:8080/",
     "height": 136
    },
    "colab_type": "code",
    "id": "xfuZCdnLZMJG",
    "outputId": "a0721a69-51e5-4c5f-9534-8c94dd395524"
   },
   "outputs": [
    {
     "name": "stdout",
     "output_type": "stream",
     "text": [
      "[[   1    2    3]\n",
      " [  10  100 1000]]\n",
      "[[2 5]\n",
      " [2 5]\n",
      " [2 5]]\n",
      "[[  12   30]\n",
      " [2220 5550]]\n"
     ]
    }
   ],
   "source": [
    " a= np.array([[1, 2, 3], [10, 100, 1000]])\n",
    " b= np.array([[2, 5], [2, 5], [2,5]])\n",
    " print(a)\n",
    " print(b)\n",
    " print(np.matmul(a, b))"
   ]
  },
  {
   "cell_type": "code",
   "execution_count": null,
   "metadata": {
    "colab": {
     "base_uri": "https://localhost:8080/",
     "height": 51
    },
    "colab_type": "code",
    "id": "yk2J4dMya1gU",
    "outputId": "1e0da5f0-54d6-4fb1-c83e-987669ffb306"
   },
   "outputs": [
    {
     "data": {
      "text/plain": [
       "array([[  12,   30],\n",
       "       [2220, 5550]])"
      ]
     },
     "execution_count": 44,
     "metadata": {
      "tags": []
     },
     "output_type": "execute_result"
    }
   ],
   "source": [
    "np.matmul(a, b)"
   ]
  },
  {
   "cell_type": "code",
   "execution_count": null,
   "metadata": {
    "colab": {
     "base_uri": "https://localhost:8080/",
     "height": 51
    },
    "colab_type": "code",
    "id": "C4Ci6isebE-L",
    "outputId": "2b4494da-f6d2-42c2-afef-e4f6b2c8007b"
   },
   "outputs": [
    {
     "data": {
      "text/plain": [
       "array([[   1,    2,    3],\n",
       "       [  10,  100, 1000]])"
      ]
     },
     "execution_count": 45,
     "metadata": {
      "tags": []
     },
     "output_type": "execute_result"
    }
   ],
   "source": [
    "a"
   ]
  },
  {
   "cell_type": "code",
   "execution_count": null,
   "metadata": {
    "colab": {
     "base_uri": "https://localhost:8080/",
     "height": 34
    },
    "colab_type": "code",
    "id": "6HA9Qoo-rzQ2",
    "outputId": "a1d0dab0-7e8d-4e0c-8305-589f520d90ad"
   },
   "outputs": [
    {
     "data": {
      "text/plain": [
       "array([   3, 1000])"
      ]
     },
     "execution_count": 51,
     "metadata": {
      "tags": []
     },
     "output_type": "execute_result"
    }
   ],
   "source": [
    "np.max(a, axis = 1)"
   ]
  },
  {
   "cell_type": "code",
   "execution_count": null,
   "metadata": {
    "colab": {
     "base_uri": "https://localhost:8080/",
     "height": 34
    },
    "colab_type": "code",
    "id": "fda1b6DMr3EK",
    "outputId": "74536e76-40d7-4dcd-b79e-dc946a8ae635"
   },
   "outputs": [
    {
     "data": {
      "text/plain": [
       "array([5, 7])"
      ]
     },
     "execution_count": 55,
     "metadata": {
      "tags": []
     },
     "output_type": "execute_result"
    }
   ],
   "source": [
    "np.max([[5,3,2],[1, 2, 7]], axis=1)"
   ]
  },
  {
   "cell_type": "code",
   "execution_count": null,
   "metadata": {
    "colab": {
     "base_uri": "https://localhost:8080/",
     "height": 51
    },
    "colab_type": "code",
    "id": "PaI2QMXrsQkL",
    "outputId": "8a3d54bb-2387-40f1-858e-2c58d692aec4"
   },
   "outputs": [
    {
     "data": {
      "text/plain": [
       "array([[5, 3, 2],\n",
       "       [1, 2, 7]])"
      ]
     },
     "execution_count": 56,
     "metadata": {
      "tags": []
     },
     "output_type": "execute_result"
    }
   ],
   "source": [
    "b=np.array([[5,3,2],[1, 2, 7]])\n",
    "b"
   ]
  },
  {
   "cell_type": "code",
   "execution_count": null,
   "metadata": {
    "colab": {
     "base_uri": "https://localhost:8080/",
     "height": 136
    },
    "colab_type": "code",
    "id": "i8x_4GQbsmnS",
    "outputId": "5df70c6a-528e-42ff-80b6-5bb4e388c5c0"
   },
   "outputs": [
    {
     "name": "stdout",
     "output_type": "stream",
     "text": [
      "1\n",
      "[1 2 2]\n",
      "[2 1]\n",
      "\n",
      "7\n",
      "[5 3 7]\n",
      "[5 7]\n"
     ]
    }
   ],
   "source": [
    "print(np.min(b))\n",
    "print(np.min(b, axis=0))\n",
    "print(np.min(b, axis=1))\n",
    "print()\n",
    "print(np.max(b))\n",
    "print(np.max(b, axis=0))\n",
    "print(np.max(b, axis=1))\n"
   ]
  },
  {
   "cell_type": "code",
   "execution_count": null,
   "metadata": {
    "colab": {
     "base_uri": "https://localhost:8080/",
     "height": 68
    },
    "colab_type": "code",
    "id": "DSTI4Zwks9cj",
    "outputId": "95122ee8-67dd-4593-f55c-19defaf51c6d"
   },
   "outputs": [
    {
     "data": {
      "text/plain": [
       "array([[1, 2, 3],\n",
       "       [4, 5, 6],\n",
       "       [7, 8, 9]])"
      ]
     },
     "execution_count": 60,
     "metadata": {
      "tags": []
     },
     "output_type": "execute_result"
    }
   ],
   "source": [
    "D = np.arange(1,10).reshape(3,3)\n",
    "D"
   ]
  },
  {
   "cell_type": "code",
   "execution_count": null,
   "metadata": {
    "colab": {
     "base_uri": "https://localhost:8080/",
     "height": 34
    },
    "colab_type": "code",
    "id": "K_RDntCIymQg",
    "outputId": "e2eb5deb-1aaf-4c16-b30c-c8ba73e6cb16"
   },
   "outputs": [
    {
     "data": {
      "text/plain": [
       "array([12, 15, 18])"
      ]
     },
     "execution_count": 62,
     "metadata": {
      "tags": []
     },
     "output_type": "execute_result"
    }
   ],
   "source": [
    "np.sum(D, axis=0)"
   ]
  },
  {
   "cell_type": "code",
   "execution_count": null,
   "metadata": {
    "colab": {
     "base_uri": "https://localhost:8080/",
     "height": 136
    },
    "colab_type": "code",
    "id": "E5VOWlf9yqfs",
    "outputId": "cc6192ac-2e5b-472c-db36-fadb8720e99d"
   },
   "outputs": [
    {
     "name": "stdout",
     "output_type": "stream",
     "text": [
      "[[ 2  4  6  8]\n",
      " [11 23 35 47]]\n",
      "   x   y\n",
      "0  2  11\n",
      "1  4  23\n",
      "2  6  35\n",
      "3  8  47\n"
     ]
    }
   ],
   "source": [
    "import pandas as pd\n",
    "import numpy as np\n",
    "\n",
    "nums = np.array([[2,4,6,8], [11, 23, 35,47]])\n",
    "df = pd.DataFrame({'x': nums[0], 'y': nums[1]})\n",
    "\n",
    "print(nums)\n",
    "print(df)"
   ]
  },
  {
   "cell_type": "code",
   "execution_count": null,
   "metadata": {
    "colab": {
     "base_uri": "https://localhost:8080/",
     "height": 34
    },
    "colab_type": "code",
    "id": "h2gAi1fYNK8u",
    "outputId": "1d215fa8-b673-45fe-c7a1-d3a06a22d00e"
   },
   "outputs": [
    {
     "data": {
      "text/plain": [
       "array([13, 27, 41, 55])"
      ]
     },
     "execution_count": 68,
     "metadata": {
      "tags": []
     },
     "output_type": "execute_result"
    }
   ],
   "source": [
    "nums.sum(axis=0)"
   ]
  },
  {
   "cell_type": "code",
   "execution_count": null,
   "metadata": {
    "colab": {
     "base_uri": "https://localhost:8080/",
     "height": 34
    },
    "colab_type": "code",
    "id": "cui-OysvNT86",
    "outputId": "9feac305-025e-4193-a6ff-c8ce108599d5"
   },
   "outputs": [
    {
     "data": {
      "text/plain": [
       "array([ 20, 116])"
      ]
     },
     "execution_count": 69,
     "metadata": {
      "tags": []
     },
     "output_type": "execute_result"
    }
   ],
   "source": [
    "nums.sum(axis=1)"
   ]
  },
  {
   "cell_type": "code",
   "execution_count": null,
   "metadata": {
    "colab": {
     "base_uri": "https://localhost:8080/",
     "height": 102
    },
    "colab_type": "code",
    "id": "64gDri-FNmci",
    "outputId": "cda69ea5-7327-497f-8fa9-a61ad1a55abd"
   },
   "outputs": [
    {
     "data": {
      "text/plain": [
       "0    13\n",
       "1    27\n",
       "2    41\n",
       "3    55\n",
       "dtype: int64"
      ]
     },
     "execution_count": 73,
     "metadata": {
      "tags": []
     },
     "output_type": "execute_result"
    }
   ],
   "source": [
    "df.sum(axis=1)"
   ]
  },
  {
   "cell_type": "code",
   "execution_count": null,
   "metadata": {
    "colab": {
     "base_uri": "https://localhost:8080/",
     "height": 119
    },
    "colab_type": "code",
    "id": "kIIXsQVYNv4q",
    "outputId": "ac36eb99-1d1c-43df-82c1-f0c5d90b2ffa"
   },
   "outputs": [
    {
     "data": {
      "text/plain": [
       "array([[ 12., -22., -20., -19.,  -3.],\n",
       "       [-23.,  21., -17., -11.,  -1.],\n",
       "       [ -4.,  -5.,  16.,  -9., -14.],\n",
       "       [-10.,  -6., -18.,  15.,  -8.],\n",
       "       [-25.,  -2., -13.,  -7.,  24.],\n",
       "       [-15.,  -4., -10.,  -3.,   6.]])"
      ]
     },
     "execution_count": 12,
     "metadata": {
      "tags": []
     },
     "output_type": "execute_result"
    }
   ],
   "source": [
    "a = np.array([[ 12., -22., -20., -19.,  -3.],\n",
    "       [-23.,  21., -17., -11.,  -1.],\n",
    "       [ -4.,  -5.,  16.,  -9., -14.],\n",
    "       [-10.,  -6., -18.,  15.,  -8.],\n",
    "       [-25.,  -2., -13.,  -7.,  24.],\n",
    "       [-15.,  -4., -10.,  -3.,  6. ]])\n",
    "\n",
    "\n",
    "a"
   ]
  },
  {
   "cell_type": "code",
   "execution_count": null,
   "metadata": {
    "colab": {
     "base_uri": "https://localhost:8080/",
     "height": 34
    },
    "colab_type": "code",
    "id": "RxQQhrdQKH_9",
    "outputId": "6f06acfc-85cf-4106-957e-1b8e6d46eafc"
   },
   "outputs": [
    {
     "data": {
      "text/plain": [
       "array([-65., -18., -62., -34.,   4.])"
      ]
     },
     "execution_count": 13,
     "metadata": {
      "tags": []
     },
     "output_type": "execute_result"
    }
   ],
   "source": [
    "a.sum(axis=0)"
   ]
  },
  {
   "cell_type": "code",
   "execution_count": null,
   "metadata": {
    "colab": {
     "base_uri": "https://localhost:8080/",
     "height": 34
    },
    "colab_type": "code",
    "id": "gW7zvfg3KN0H",
    "outputId": "5ce264cb-769b-49d8-e81d-71dc4286a01f"
   },
   "outputs": [
    {
     "data": {
      "text/plain": [
       "-65.0"
      ]
     },
     "execution_count": 15,
     "metadata": {
      "tags": []
     },
     "output_type": "execute_result"
    }
   ],
   "source": [
    "sum([ 12., -23.,  -4., -10., -25., -15.])"
   ]
  },
  {
   "cell_type": "code",
   "execution_count": null,
   "metadata": {
    "colab": {
     "base_uri": "https://localhost:8080/",
     "height": 102
    },
    "colab_type": "code",
    "id": "bCUzRIs8K66P",
    "outputId": "f5a13f55-0355-4f73-e865-a7cd1681635d"
   },
   "outputs": [
    {
     "name": "stdout",
     "output_type": "stream",
     "text": [
      "volumes: [18158.40553775   628.31853072  2412.74315796 14778.05184249\n",
      " 14957.12262374]\n",
      "total volume 50934.64169265132\n",
      "largest volume: 18158.405537749004\n",
      "first cylinder with largest volume: 0\n"
     ]
    }
   ],
   "source": [
    "'volume of 5 cylinders'\n",
    "\n",
    "lower_limit = 5\n",
    "upper_limit = 25\n",
    "no_of_items = 10\n",
    "np.random.seed(0)\n",
    "values = np.random.randint(lower_limit, upper_limit, no_of_items)\n",
    "no_of_rows = 5\n",
    "no_of_columns = 2\n",
    "containers = values.reshape(no_of_rows, no_of_columns)\n",
    "radius = containers[:,0]\n",
    "height = containers[:,1]\n",
    "\n",
    "volume = np.pi*(radius**2)*height\n",
    "total_volume = volume.sum()\n",
    "print('volumes:',volume)\n",
    "print('total volume', total_volume)\n",
    "\n",
    "max_volume = volume.max()\n",
    "index_of_max_volume = volume.argmax()\n",
    "print('largest volume:', max_volume)\n",
    "print('first cylinder with largest volume:',index_of_max_volume)"
   ]
  },
  {
   "cell_type": "markdown",
   "metadata": {
    "colab_type": "text",
    "id": "kR4AzQjyHKy3"
   },
   "source": [
    "# Article on pandas\n",
    "\n",
    "https://towardsdatascience.com/beginning-to-walk-the-data-science-road-part-2-pandas-dataframe-c3e898499d90"
   ]
  },
  {
   "cell_type": "code",
   "execution_count": null,
   "metadata": {
    "colab": {
     "base_uri": "https://localhost:8080/",
     "height": 204
    },
    "colab_type": "code",
    "id": "uBFNRGrvasji",
    "outputId": "7da51220-e60d-40f3-e831-c83184b25292"
   },
   "outputs": [
    {
     "data": {
      "text/html": [
       "<div>\n",
       "<style scoped>\n",
       "    .dataframe tbody tr th:only-of-type {\n",
       "        vertical-align: middle;\n",
       "    }\n",
       "\n",
       "    .dataframe tbody tr th {\n",
       "        vertical-align: top;\n",
       "    }\n",
       "\n",
       "    .dataframe thead th {\n",
       "        text-align: right;\n",
       "    }\n",
       "</style>\n",
       "<table border=\"1\" class=\"dataframe\">\n",
       "  <thead>\n",
       "    <tr style=\"text-align: right;\">\n",
       "      <th></th>\n",
       "      <th>Date</th>\n",
       "      <th>StartTime</th>\n",
       "      <th>DayOfWeek</th>\n",
       "      <th>GoingTo</th>\n",
       "      <th>Distance</th>\n",
       "      <th>MaxSpeed</th>\n",
       "      <th>AvgSpeed</th>\n",
       "      <th>AvgMovingSpeed</th>\n",
       "      <th>FuelEconomy</th>\n",
       "      <th>TotalTime</th>\n",
       "      <th>MovingTime</th>\n",
       "      <th>Take407All</th>\n",
       "      <th>Comments</th>\n",
       "    </tr>\n",
       "  </thead>\n",
       "  <tbody>\n",
       "    <tr>\n",
       "      <th>0</th>\n",
       "      <td>1/6/2012</td>\n",
       "      <td>16:37</td>\n",
       "      <td>Friday</td>\n",
       "      <td>Home</td>\n",
       "      <td>51.29</td>\n",
       "      <td>127.4</td>\n",
       "      <td>78.3</td>\n",
       "      <td>84.8</td>\n",
       "      <td>NaN</td>\n",
       "      <td>39.3</td>\n",
       "      <td>36.3</td>\n",
       "      <td>No</td>\n",
       "      <td>NaN</td>\n",
       "    </tr>\n",
       "    <tr>\n",
       "      <th>1</th>\n",
       "      <td>1/6/2012</td>\n",
       "      <td>08:20</td>\n",
       "      <td>Friday</td>\n",
       "      <td>GSK</td>\n",
       "      <td>51.63</td>\n",
       "      <td>130.3</td>\n",
       "      <td>81.8</td>\n",
       "      <td>88.9</td>\n",
       "      <td>NaN</td>\n",
       "      <td>37.9</td>\n",
       "      <td>34.9</td>\n",
       "      <td>No</td>\n",
       "      <td>NaN</td>\n",
       "    </tr>\n",
       "    <tr>\n",
       "      <th>2</th>\n",
       "      <td>1/4/2012</td>\n",
       "      <td>16:17</td>\n",
       "      <td>Wednesday</td>\n",
       "      <td>Home</td>\n",
       "      <td>51.27</td>\n",
       "      <td>127.4</td>\n",
       "      <td>82.0</td>\n",
       "      <td>85.8</td>\n",
       "      <td>NaN</td>\n",
       "      <td>37.5</td>\n",
       "      <td>35.9</td>\n",
       "      <td>No</td>\n",
       "      <td>NaN</td>\n",
       "    </tr>\n",
       "    <tr>\n",
       "      <th>3</th>\n",
       "      <td>1/4/2012</td>\n",
       "      <td>07:53</td>\n",
       "      <td>Wednesday</td>\n",
       "      <td>GSK</td>\n",
       "      <td>49.17</td>\n",
       "      <td>132.3</td>\n",
       "      <td>74.2</td>\n",
       "      <td>82.9</td>\n",
       "      <td>NaN</td>\n",
       "      <td>39.8</td>\n",
       "      <td>35.6</td>\n",
       "      <td>No</td>\n",
       "      <td>NaN</td>\n",
       "    </tr>\n",
       "    <tr>\n",
       "      <th>4</th>\n",
       "      <td>1/3/2012</td>\n",
       "      <td>18:57</td>\n",
       "      <td>Tuesday</td>\n",
       "      <td>Home</td>\n",
       "      <td>51.15</td>\n",
       "      <td>136.2</td>\n",
       "      <td>83.4</td>\n",
       "      <td>88.1</td>\n",
       "      <td>NaN</td>\n",
       "      <td>36.8</td>\n",
       "      <td>34.8</td>\n",
       "      <td>No</td>\n",
       "      <td>NaN</td>\n",
       "    </tr>\n",
       "  </tbody>\n",
       "</table>\n",
       "</div>"
      ],
      "text/plain": [
       "       Date StartTime  DayOfWeek  ... MovingTime  Take407All  Comments\n",
       "0  1/6/2012     16:37     Friday  ...       36.3          No       NaN\n",
       "1  1/6/2012     08:20     Friday  ...       34.9          No       NaN\n",
       "2  1/4/2012     16:17  Wednesday  ...       35.9          No       NaN\n",
       "3  1/4/2012     07:53  Wednesday  ...       35.6          No       NaN\n",
       "4  1/3/2012     18:57    Tuesday  ...       34.8          No       NaN\n",
       "\n",
       "[5 rows x 13 columns]"
      ]
     },
     "execution_count": 29,
     "metadata": {
      "tags": []
     },
     "output_type": "execute_result"
    }
   ],
   "source": [
    "import pandas as pd\n",
    "\n",
    "\n",
    "data_link = 'https://openmv.net/file/travel-times.csv'\n",
    "travel_df = pd.read_csv(data_link)\n",
    "travel_df.head()\n"
   ]
  },
  {
   "cell_type": "code",
   "execution_count": null,
   "metadata": {
    "colab": {
     "base_uri": "https://localhost:8080/",
     "height": 323
    },
    "colab_type": "code",
    "id": "GIhzBQqfB70-",
    "outputId": "29b55d7d-dcef-4110-e82a-3c9b73edeb27"
   },
   "outputs": [
    {
     "name": "stdout",
     "output_type": "stream",
     "text": [
      "<class 'pandas.core.frame.DataFrame'>\n",
      "RangeIndex: 205 entries, 0 to 204\n",
      "Data columns (total 13 columns):\n",
      "Date              205 non-null object\n",
      "StartTime         205 non-null object\n",
      "DayOfWeek         205 non-null object\n",
      "GoingTo           205 non-null object\n",
      "Distance          205 non-null float64\n",
      "MaxSpeed          205 non-null float64\n",
      "AvgSpeed          205 non-null float64\n",
      "AvgMovingSpeed    205 non-null float64\n",
      "FuelEconomy       188 non-null object\n",
      "TotalTime         205 non-null float64\n",
      "MovingTime        205 non-null float64\n",
      "Take407All        205 non-null object\n",
      "Comments          24 non-null object\n",
      "dtypes: float64(6), object(7)\n",
      "memory usage: 20.9+ KB\n"
     ]
    }
   ],
   "source": [
    "travel_df.info()"
   ]
  },
  {
   "cell_type": "code",
   "execution_count": null,
   "metadata": {
    "colab": {
     "base_uri": "https://localhost:8080/",
     "height": 306
    },
    "colab_type": "code",
    "id": "a-jtnKEvCN_C",
    "outputId": "922aeef4-84ab-4cb4-fdd2-e6cc4a47ee01"
   },
   "outputs": [
    {
     "name": "stdout",
     "output_type": "stream",
     "text": [
      "<class 'pandas.core.frame.DataFrame'>\n",
      "RangeIndex: 205 entries, 0 to 204\n",
      "Data columns (total 12 columns):\n",
      "Date              205 non-null object\n",
      "StartTime         205 non-null object\n",
      "DayOfWeek         205 non-null object\n",
      "GoingTo           205 non-null object\n",
      "Distance          205 non-null float64\n",
      "MaxSpeed          205 non-null float64\n",
      "AvgSpeed          205 non-null float64\n",
      "AvgMovingSpeed    205 non-null float64\n",
      "FuelEconomy       186 non-null float64\n",
      "TotalTime         205 non-null float64\n",
      "MovingTime        205 non-null float64\n",
      "Take407All        205 non-null object\n",
      "dtypes: float64(7), object(5)\n",
      "memory usage: 19.3+ KB\n"
     ]
    }
   ],
   "source": [
    "# remove comments column as we are not goign to use it\n",
    "travel_df.drop(labels=['Comments'],axis=1,inplace=True)\n",
    "\n",
    "# force the objects in FuelEconomy column to be be converted to numbers if possible (NaN otherwise)\n",
    "travel_df['FuelEconomy'] = pd.to_numeric(travel_df['FuelEconomy'],errors='coerce')\n",
    "travel_df.info()"
   ]
  },
  {
   "cell_type": "code",
   "execution_count": null,
   "metadata": {
    "colab": {
     "base_uri": "https://localhost:8080/",
     "height": 306
    },
    "colab_type": "code",
    "id": "DGhpG2bhClHZ",
    "outputId": "ef545d75-ae56-4aaa-ac06-0a83271f4910"
   },
   "outputs": [
    {
     "name": "stdout",
     "output_type": "stream",
     "text": [
      "<class 'pandas.core.frame.DataFrame'>\n",
      "RangeIndex: 205 entries, 0 to 204\n",
      "Data columns (total 12 columns):\n",
      "Date              205 non-null object\n",
      "StartTime         205 non-null object\n",
      "DayOfWeek         205 non-null object\n",
      "GoingTo           205 non-null object\n",
      "Distance          205 non-null float64\n",
      "MaxSpeed          205 non-null float64\n",
      "AvgSpeed          205 non-null float64\n",
      "AvgMovingSpeed    205 non-null float64\n",
      "FuelEconomy       205 non-null float64\n",
      "TotalTime         205 non-null float64\n",
      "MovingTime        205 non-null float64\n",
      "Take407All        205 non-null object\n",
      "dtypes: float64(7), object(5)\n",
      "memory usage: 19.3+ KB\n"
     ]
    }
   ],
   "source": [
    "# where we have NaN in FuelEconomy column, replace with mean of column\n",
    "travel_df['FuelEconomy'].fillna(travel_df['FuelEconomy'].mean(),inplace=True)\n",
    "travel_df.info()"
   ]
  },
  {
   "cell_type": "code",
   "execution_count": null,
   "metadata": {
    "colab": {
     "base_uri": "https://localhost:8080/",
     "height": 238
    },
    "colab_type": "code",
    "id": "13Giax-yC4HX",
    "outputId": "333f0c74-d63b-4386-8cfe-13d18207975a"
   },
   "outputs": [
    {
     "data": {
      "text/plain": [
       "Date              1/6/2012\n",
       "StartTime            16:37\n",
       "DayOfWeek           Friday\n",
       "GoingTo               Home\n",
       "Distance             51.29\n",
       "MaxSpeed             127.4\n",
       "AvgSpeed              78.3\n",
       "AvgMovingSpeed        84.8\n",
       "FuelEconomy        8.69059\n",
       "TotalTime             39.3\n",
       "MovingTime            36.3\n",
       "Take407All              No\n",
       "Name: 0, dtype: object"
      ]
     },
     "execution_count": 35,
     "metadata": {
      "tags": []
     },
     "output_type": "execute_result"
    }
   ],
   "source": [
    "travel_df.iloc[0]"
   ]
  },
  {
   "cell_type": "code",
   "execution_count": null,
   "metadata": {
    "colab": {
     "base_uri": "https://localhost:8080/",
     "height": 235
    },
    "colab_type": "code",
    "id": "9suWlFmoDXTw",
    "outputId": "c40c7bf8-d09d-4410-a4a0-4fd4434bf287"
   },
   "outputs": [
    {
     "data": {
      "text/html": [
       "<div>\n",
       "<style scoped>\n",
       "    .dataframe tbody tr th:only-of-type {\n",
       "        vertical-align: middle;\n",
       "    }\n",
       "\n",
       "    .dataframe tbody tr th {\n",
       "        vertical-align: top;\n",
       "    }\n",
       "\n",
       "    .dataframe thead th {\n",
       "        text-align: right;\n",
       "    }\n",
       "</style>\n",
       "<table border=\"1\" class=\"dataframe\">\n",
       "  <thead>\n",
       "    <tr style=\"text-align: right;\">\n",
       "      <th></th>\n",
       "      <th></th>\n",
       "      <th>Distance</th>\n",
       "      <th>MaxSpeed</th>\n",
       "      <th>AvgSpeed</th>\n",
       "      <th>AvgMovingSpeed</th>\n",
       "      <th>FuelEconomy</th>\n",
       "      <th>TotalTime</th>\n",
       "      <th>MovingTime</th>\n",
       "    </tr>\n",
       "    <tr>\n",
       "      <th>Date</th>\n",
       "      <th>DayOfWeek</th>\n",
       "      <th></th>\n",
       "      <th></th>\n",
       "      <th></th>\n",
       "      <th></th>\n",
       "      <th></th>\n",
       "      <th></th>\n",
       "      <th></th>\n",
       "    </tr>\n",
       "  </thead>\n",
       "  <tbody>\n",
       "    <tr>\n",
       "      <th>1/2/2012</th>\n",
       "      <th>Monday</th>\n",
       "      <td>100.38</td>\n",
       "      <td>251.5</td>\n",
       "      <td>160.4</td>\n",
       "      <td>173.2</td>\n",
       "      <td>17.381183</td>\n",
       "      <td>75.1</td>\n",
       "      <td>69.6</td>\n",
       "    </tr>\n",
       "    <tr>\n",
       "      <th>1/3/2012</th>\n",
       "      <th>Tuesday</th>\n",
       "      <td>102.95</td>\n",
       "      <td>272.0</td>\n",
       "      <td>167.9</td>\n",
       "      <td>176.9</td>\n",
       "      <td>17.381183</td>\n",
       "      <td>73.6</td>\n",
       "      <td>69.8</td>\n",
       "    </tr>\n",
       "    <tr>\n",
       "      <th>1/4/2012</th>\n",
       "      <th>Wednesday</th>\n",
       "      <td>100.44</td>\n",
       "      <td>259.7</td>\n",
       "      <td>156.2</td>\n",
       "      <td>168.7</td>\n",
       "      <td>17.381183</td>\n",
       "      <td>77.3</td>\n",
       "      <td>71.5</td>\n",
       "    </tr>\n",
       "    <tr>\n",
       "      <th>1/6/2012</th>\n",
       "      <th>Friday</th>\n",
       "      <td>102.92</td>\n",
       "      <td>257.7</td>\n",
       "      <td>160.1</td>\n",
       "      <td>173.7</td>\n",
       "      <td>17.381183</td>\n",
       "      <td>77.2</td>\n",
       "      <td>71.2</td>\n",
       "    </tr>\n",
       "    <tr>\n",
       "      <th>10/11/2011</th>\n",
       "      <th>Tuesday</th>\n",
       "      <td>100.46</td>\n",
       "      <td>265.9</td>\n",
       "      <td>153.0</td>\n",
       "      <td>171.6</td>\n",
       "      <td>15.620000</td>\n",
       "      <td>80.3</td>\n",
       "      <td>71.0</td>\n",
       "    </tr>\n",
       "  </tbody>\n",
       "</table>\n",
       "</div>"
      ],
      "text/plain": [
       "                      Distance  MaxSpeed  ...  TotalTime  MovingTime\n",
       "Date       DayOfWeek                      ...                       \n",
       "1/2/2012   Monday       100.38     251.5  ...       75.1        69.6\n",
       "1/3/2012   Tuesday      102.95     272.0  ...       73.6        69.8\n",
       "1/4/2012   Wednesday    100.44     259.7  ...       77.3        71.5\n",
       "1/6/2012   Friday       102.92     257.7  ...       77.2        71.2\n",
       "10/11/2011 Tuesday      100.46     265.9  ...       80.3        71.0\n",
       "\n",
       "[5 rows x 7 columns]"
      ]
     },
     "execution_count": 38,
     "metadata": {
      "tags": []
     },
     "output_type": "execute_result"
    }
   ],
   "source": [
    "# group the data by date/day-of-week and sume the numeric columns\n",
    "travel_df_by_date = travel_df.groupby(['Date','DayOfWeek'])\n",
    "travel_df_by_date_combined = travel_df_by_date.sum()\n",
    "# but summing some of the columns is wrong, need to correct\n",
    "travel_df_by_date_combined.head()"
   ]
  },
  {
   "cell_type": "code",
   "execution_count": null,
   "metadata": {
    "colab": {
     "base_uri": "https://localhost:8080/",
     "height": 235
    },
    "colab_type": "code",
    "id": "q1L2lIheDojB",
    "outputId": "f45da5b2-510e-42a2-c6b1-29c395f4944f"
   },
   "outputs": [
    {
     "data": {
      "text/html": [
       "<div>\n",
       "<style scoped>\n",
       "    .dataframe tbody tr th:only-of-type {\n",
       "        vertical-align: middle;\n",
       "    }\n",
       "\n",
       "    .dataframe tbody tr th {\n",
       "        vertical-align: top;\n",
       "    }\n",
       "\n",
       "    .dataframe thead th {\n",
       "        text-align: right;\n",
       "    }\n",
       "</style>\n",
       "<table border=\"1\" class=\"dataframe\">\n",
       "  <thead>\n",
       "    <tr style=\"text-align: right;\">\n",
       "      <th></th>\n",
       "      <th></th>\n",
       "      <th>Distance</th>\n",
       "      <th>MaxSpeed</th>\n",
       "      <th>AvgSpeed</th>\n",
       "      <th>AvgMovingSpeed</th>\n",
       "      <th>FuelEconomy</th>\n",
       "      <th>TotalTime</th>\n",
       "      <th>MovingTime</th>\n",
       "    </tr>\n",
       "    <tr>\n",
       "      <th>Date</th>\n",
       "      <th>DayOfWeek</th>\n",
       "      <th></th>\n",
       "      <th></th>\n",
       "      <th></th>\n",
       "      <th></th>\n",
       "      <th></th>\n",
       "      <th></th>\n",
       "      <th></th>\n",
       "    </tr>\n",
       "  </thead>\n",
       "  <tbody>\n",
       "    <tr>\n",
       "      <th>1/2/2012</th>\n",
       "      <th>Monday</th>\n",
       "      <td>100.38</td>\n",
       "      <td>128.3</td>\n",
       "      <td>80.20</td>\n",
       "      <td>86.60</td>\n",
       "      <td>8.690591</td>\n",
       "      <td>75.1</td>\n",
       "      <td>69.6</td>\n",
       "    </tr>\n",
       "    <tr>\n",
       "      <th>1/3/2012</th>\n",
       "      <th>Tuesday</th>\n",
       "      <td>102.95</td>\n",
       "      <td>136.2</td>\n",
       "      <td>83.95</td>\n",
       "      <td>88.45</td>\n",
       "      <td>8.690591</td>\n",
       "      <td>73.6</td>\n",
       "      <td>69.8</td>\n",
       "    </tr>\n",
       "    <tr>\n",
       "      <th>1/4/2012</th>\n",
       "      <th>Wednesday</th>\n",
       "      <td>100.44</td>\n",
       "      <td>132.3</td>\n",
       "      <td>78.10</td>\n",
       "      <td>84.35</td>\n",
       "      <td>8.690591</td>\n",
       "      <td>77.3</td>\n",
       "      <td>71.5</td>\n",
       "    </tr>\n",
       "    <tr>\n",
       "      <th>1/6/2012</th>\n",
       "      <th>Friday</th>\n",
       "      <td>102.92</td>\n",
       "      <td>130.3</td>\n",
       "      <td>80.05</td>\n",
       "      <td>86.85</td>\n",
       "      <td>8.690591</td>\n",
       "      <td>77.2</td>\n",
       "      <td>71.2</td>\n",
       "    </tr>\n",
       "    <tr>\n",
       "      <th>10/11/2011</th>\n",
       "      <th>Tuesday</th>\n",
       "      <td>100.46</td>\n",
       "      <td>135.1</td>\n",
       "      <td>76.50</td>\n",
       "      <td>85.80</td>\n",
       "      <td>7.810000</td>\n",
       "      <td>80.3</td>\n",
       "      <td>71.0</td>\n",
       "    </tr>\n",
       "  </tbody>\n",
       "</table>\n",
       "</div>"
      ],
      "text/plain": [
       "                      Distance  MaxSpeed  ...  TotalTime  MovingTime\n",
       "Date       DayOfWeek                      ...                       \n",
       "1/2/2012   Monday       100.38     128.3  ...       75.1        69.6\n",
       "1/3/2012   Tuesday      102.95     136.2  ...       73.6        69.8\n",
       "1/4/2012   Wednesday    100.44     132.3  ...       77.3        71.5\n",
       "1/6/2012   Friday       102.92     130.3  ...       77.2        71.2\n",
       "10/11/2011 Tuesday      100.46     135.1  ...       80.3        71.0\n",
       "\n",
       "[5 rows x 7 columns]"
      ]
     },
     "execution_count": 39,
     "metadata": {
      "tags": []
     },
     "output_type": "execute_result"
    }
   ],
   "source": [
    "# correcting some of things that should not have been summed\n",
    "travel_df_by_date_combined['MaxSpeed'] = travel_df_by_date['MaxSpeed'].max()\n",
    "travel_df_by_date_combined['AvgSpeed'] = travel_df_by_date['AvgSpeed'].mean()\n",
    "travel_df_by_date_combined['AvgMovingSpeed'] = travel_df_by_date['AvgMovingSpeed'].mean()\n",
    "travel_df_by_date_combined['FuelEconomy'] = travel_df_by_date['FuelEconomy'].mean()\n",
    "travel_df_by_date_combined.head()"
   ]
  },
  {
   "cell_type": "code",
   "execution_count": null,
   "metadata": {
    "colab": {
     "base_uri": "https://localhost:8080/",
     "height": 221
    },
    "colab_type": "code",
    "id": "vWaCthShE3ws",
    "outputId": "5694f995-be47-4631-8f09-ffe365857662"
   },
   "outputs": [
    {
     "name": "stdout",
     "output_type": "stream",
     "text": [
      "<class 'pandas.core.frame.DataFrame'>\n",
      "MultiIndex: 111 entries, (1/2/2012, Monday) to (9/8/2011, Thursday)\n",
      "Data columns (total 7 columns):\n",
      "Distance          111 non-null float64\n",
      "MaxSpeed          111 non-null float64\n",
      "AvgSpeed          111 non-null float64\n",
      "AvgMovingSpeed    111 non-null float64\n",
      "FuelEconomy       111 non-null float64\n",
      "TotalTime         111 non-null float64\n",
      "MovingTime        111 non-null float64\n",
      "dtypes: float64(7)\n",
      "memory usage: 7.3+ KB\n"
     ]
    }
   ],
   "source": [
    "travel_df_by_date_combined.info()"
   ]
  },
  {
   "cell_type": "code",
   "execution_count": null,
   "metadata": {
    "colab": {
     "base_uri": "https://localhost:8080/",
     "height": 235
    },
    "colab_type": "code",
    "id": "2UtvUOj6FBfx",
    "outputId": "716f39ed-9b5c-4890-920c-414cc932efe8"
   },
   "outputs": [
    {
     "data": {
      "text/html": [
       "<div>\n",
       "<style scoped>\n",
       "    .dataframe tbody tr th:only-of-type {\n",
       "        vertical-align: middle;\n",
       "    }\n",
       "\n",
       "    .dataframe tbody tr th {\n",
       "        vertical-align: top;\n",
       "    }\n",
       "\n",
       "    .dataframe thead th {\n",
       "        text-align: right;\n",
       "    }\n",
       "</style>\n",
       "<table border=\"1\" class=\"dataframe\">\n",
       "  <thead>\n",
       "    <tr style=\"text-align: right;\">\n",
       "      <th></th>\n",
       "      <th>index</th>\n",
       "      <th>DayOfWeek</th>\n",
       "      <th>Distance</th>\n",
       "      <th>MaxSpeed</th>\n",
       "      <th>AvgSpeed</th>\n",
       "      <th>AvgMovingSpeed</th>\n",
       "      <th>FuelEconomy</th>\n",
       "      <th>TotalTime</th>\n",
       "      <th>MovingTime</th>\n",
       "    </tr>\n",
       "    <tr>\n",
       "      <th>Date</th>\n",
       "      <th></th>\n",
       "      <th></th>\n",
       "      <th></th>\n",
       "      <th></th>\n",
       "      <th></th>\n",
       "      <th></th>\n",
       "      <th></th>\n",
       "      <th></th>\n",
       "      <th></th>\n",
       "    </tr>\n",
       "  </thead>\n",
       "  <tbody>\n",
       "    <tr>\n",
       "      <th>1/2/2012</th>\n",
       "      <td>0</td>\n",
       "      <td>Monday</td>\n",
       "      <td>100.38</td>\n",
       "      <td>128.3</td>\n",
       "      <td>80.20</td>\n",
       "      <td>86.60</td>\n",
       "      <td>8.690591</td>\n",
       "      <td>75.1</td>\n",
       "      <td>69.6</td>\n",
       "    </tr>\n",
       "    <tr>\n",
       "      <th>1/3/2012</th>\n",
       "      <td>1</td>\n",
       "      <td>Tuesday</td>\n",
       "      <td>102.95</td>\n",
       "      <td>136.2</td>\n",
       "      <td>83.95</td>\n",
       "      <td>88.45</td>\n",
       "      <td>8.690591</td>\n",
       "      <td>73.6</td>\n",
       "      <td>69.8</td>\n",
       "    </tr>\n",
       "    <tr>\n",
       "      <th>1/4/2012</th>\n",
       "      <td>2</td>\n",
       "      <td>Wednesday</td>\n",
       "      <td>100.44</td>\n",
       "      <td>132.3</td>\n",
       "      <td>78.10</td>\n",
       "      <td>84.35</td>\n",
       "      <td>8.690591</td>\n",
       "      <td>77.3</td>\n",
       "      <td>71.5</td>\n",
       "    </tr>\n",
       "    <tr>\n",
       "      <th>1/6/2012</th>\n",
       "      <td>3</td>\n",
       "      <td>Friday</td>\n",
       "      <td>102.92</td>\n",
       "      <td>130.3</td>\n",
       "      <td>80.05</td>\n",
       "      <td>86.85</td>\n",
       "      <td>8.690591</td>\n",
       "      <td>77.2</td>\n",
       "      <td>71.2</td>\n",
       "    </tr>\n",
       "    <tr>\n",
       "      <th>10/11/2011</th>\n",
       "      <td>4</td>\n",
       "      <td>Tuesday</td>\n",
       "      <td>100.46</td>\n",
       "      <td>135.1</td>\n",
       "      <td>76.50</td>\n",
       "      <td>85.80</td>\n",
       "      <td>7.810000</td>\n",
       "      <td>80.3</td>\n",
       "      <td>71.0</td>\n",
       "    </tr>\n",
       "  </tbody>\n",
       "</table>\n",
       "</div>"
      ],
      "text/plain": [
       "            index  DayOfWeek  Distance  ...  FuelEconomy  TotalTime  MovingTime\n",
       "Date                                    ...                                    \n",
       "1/2/2012        0     Monday    100.38  ...     8.690591       75.1        69.6\n",
       "1/3/2012        1    Tuesday    102.95  ...     8.690591       73.6        69.8\n",
       "1/4/2012        2  Wednesday    100.44  ...     8.690591       77.3        71.5\n",
       "1/6/2012        3     Friday    102.92  ...     8.690591       77.2        71.2\n",
       "10/11/2011      4    Tuesday    100.46  ...     7.810000       80.3        71.0\n",
       "\n",
       "[5 rows x 9 columns]"
      ]
     },
     "execution_count": 42,
     "metadata": {
      "tags": []
     },
     "output_type": "execute_result"
    }
   ],
   "source": [
    "# don't want Data & DayOfWeek to be index\n",
    "travel_df_by_date_combined.reset_index(inplace=True)  # go back to default index, Date & DOW become normal cols\n",
    "travel_df_by_date_combined.set_index(['Date'],inplace=True) # set Date as index\n",
    "travel_df_by_date_combined.head()"
   ]
  },
  {
   "cell_type": "code",
   "execution_count": null,
   "metadata": {
    "colab": {
     "base_uri": "https://localhost:8080/",
     "height": 450
    },
    "colab_type": "code",
    "id": "TYXo264FFQH-",
    "outputId": "dcdd25f0-1541-4dd4-d6cc-474c5eb7cfaa"
   },
   "outputs": [
    {
     "data": {
      "text/html": [
       "<div>\n",
       "<style scoped>\n",
       "    .dataframe tbody tr th:only-of-type {\n",
       "        vertical-align: middle;\n",
       "    }\n",
       "\n",
       "    .dataframe tbody tr th {\n",
       "        vertical-align: top;\n",
       "    }\n",
       "\n",
       "    .dataframe thead th {\n",
       "        text-align: right;\n",
       "    }\n",
       "</style>\n",
       "<table border=\"1\" class=\"dataframe\">\n",
       "  <thead>\n",
       "    <tr style=\"text-align: right;\">\n",
       "      <th></th>\n",
       "      <th>DayOfWeek</th>\n",
       "      <th>Distance</th>\n",
       "      <th>MaxSpeed</th>\n",
       "      <th>AvgSpeed</th>\n",
       "      <th>AvgMovingSpeed</th>\n",
       "      <th>FuelEconomy</th>\n",
       "      <th>TotalTime</th>\n",
       "      <th>MovingTime</th>\n",
       "    </tr>\n",
       "    <tr>\n",
       "      <th>Date</th>\n",
       "      <th></th>\n",
       "      <th></th>\n",
       "      <th></th>\n",
       "      <th></th>\n",
       "      <th></th>\n",
       "      <th></th>\n",
       "      <th></th>\n",
       "      <th></th>\n",
       "    </tr>\n",
       "  </thead>\n",
       "  <tbody>\n",
       "    <tr>\n",
       "      <th>1/2/2012</th>\n",
       "      <td>Monday</td>\n",
       "      <td>100.38</td>\n",
       "      <td>128.3</td>\n",
       "      <td>80.20</td>\n",
       "      <td>86.60</td>\n",
       "      <td>8.690591</td>\n",
       "      <td>75.1</td>\n",
       "      <td>69.6</td>\n",
       "    </tr>\n",
       "    <tr>\n",
       "      <th>1/3/2012</th>\n",
       "      <td>Tuesday</td>\n",
       "      <td>102.95</td>\n",
       "      <td>136.2</td>\n",
       "      <td>83.95</td>\n",
       "      <td>88.45</td>\n",
       "      <td>8.690591</td>\n",
       "      <td>73.6</td>\n",
       "      <td>69.8</td>\n",
       "    </tr>\n",
       "    <tr>\n",
       "      <th>1/4/2012</th>\n",
       "      <td>Wednesday</td>\n",
       "      <td>100.44</td>\n",
       "      <td>132.3</td>\n",
       "      <td>78.10</td>\n",
       "      <td>84.35</td>\n",
       "      <td>8.690591</td>\n",
       "      <td>77.3</td>\n",
       "      <td>71.5</td>\n",
       "    </tr>\n",
       "    <tr>\n",
       "      <th>1/6/2012</th>\n",
       "      <td>Friday</td>\n",
       "      <td>102.92</td>\n",
       "      <td>130.3</td>\n",
       "      <td>80.05</td>\n",
       "      <td>86.85</td>\n",
       "      <td>8.690591</td>\n",
       "      <td>77.2</td>\n",
       "      <td>71.2</td>\n",
       "    </tr>\n",
       "    <tr>\n",
       "      <th>10/11/2011</th>\n",
       "      <td>Tuesday</td>\n",
       "      <td>100.46</td>\n",
       "      <td>135.1</td>\n",
       "      <td>76.50</td>\n",
       "      <td>85.80</td>\n",
       "      <td>7.810000</td>\n",
       "      <td>80.3</td>\n",
       "      <td>71.0</td>\n",
       "    </tr>\n",
       "    <tr>\n",
       "      <th>...</th>\n",
       "      <td>...</td>\n",
       "      <td>...</td>\n",
       "      <td>...</td>\n",
       "      <td>...</td>\n",
       "      <td>...</td>\n",
       "      <td>...</td>\n",
       "      <td>...</td>\n",
       "      <td>...</td>\n",
       "    </tr>\n",
       "    <tr>\n",
       "      <th>9/28/2011</th>\n",
       "      <td>Wednesday</td>\n",
       "      <td>101.88</td>\n",
       "      <td>128.8</td>\n",
       "      <td>90.70</td>\n",
       "      <td>93.60</td>\n",
       "      <td>8.930000</td>\n",
       "      <td>68.5</td>\n",
       "      <td>66.4</td>\n",
       "    </tr>\n",
       "    <tr>\n",
       "      <th>9/29/2011</th>\n",
       "      <td>Thursday</td>\n",
       "      <td>102.04</td>\n",
       "      <td>128.4</td>\n",
       "      <td>74.40</td>\n",
       "      <td>79.40</td>\n",
       "      <td>8.930000</td>\n",
       "      <td>83.6</td>\n",
       "      <td>77.9</td>\n",
       "    </tr>\n",
       "    <tr>\n",
       "      <th>9/6/2011</th>\n",
       "      <td>Tuesday</td>\n",
       "      <td>107.24</td>\n",
       "      <td>132.5</td>\n",
       "      <td>95.25</td>\n",
       "      <td>98.15</td>\n",
       "      <td>8.500000</td>\n",
       "      <td>67.6</td>\n",
       "      <td>65.6</td>\n",
       "    </tr>\n",
       "    <tr>\n",
       "      <th>9/7/2011</th>\n",
       "      <td>Wednesday</td>\n",
       "      <td>100.42</td>\n",
       "      <td>132.8</td>\n",
       "      <td>64.00</td>\n",
       "      <td>71.55</td>\n",
       "      <td>8.500000</td>\n",
       "      <td>95.2</td>\n",
       "      <td>84.5</td>\n",
       "    </tr>\n",
       "    <tr>\n",
       "      <th>9/8/2011</th>\n",
       "      <td>Thursday</td>\n",
       "      <td>100.17</td>\n",
       "      <td>137.0</td>\n",
       "      <td>60.20</td>\n",
       "      <td>70.40</td>\n",
       "      <td>8.500000</td>\n",
       "      <td>100.8</td>\n",
       "      <td>86.2</td>\n",
       "    </tr>\n",
       "  </tbody>\n",
       "</table>\n",
       "<p>111 rows × 8 columns</p>\n",
       "</div>"
      ],
      "text/plain": [
       "            DayOfWeek  Distance  MaxSpeed  ...  FuelEconomy  TotalTime  MovingTime\n",
       "Date                                       ...                                    \n",
       "1/2/2012       Monday    100.38     128.3  ...     8.690591       75.1        69.6\n",
       "1/3/2012      Tuesday    102.95     136.2  ...     8.690591       73.6        69.8\n",
       "1/4/2012    Wednesday    100.44     132.3  ...     8.690591       77.3        71.5\n",
       "1/6/2012       Friday    102.92     130.3  ...     8.690591       77.2        71.2\n",
       "10/11/2011    Tuesday    100.46     135.1  ...     7.810000       80.3        71.0\n",
       "...               ...       ...       ...  ...          ...        ...         ...\n",
       "9/28/2011   Wednesday    101.88     128.8  ...     8.930000       68.5        66.4\n",
       "9/29/2011    Thursday    102.04     128.4  ...     8.930000       83.6        77.9\n",
       "9/6/2011      Tuesday    107.24     132.5  ...     8.500000       67.6        65.6\n",
       "9/7/2011    Wednesday    100.42     132.8  ...     8.500000       95.2        84.5\n",
       "9/8/2011     Thursday    100.17     137.0  ...     8.500000      100.8        86.2\n",
       "\n",
       "[111 rows x 8 columns]"
      ]
     },
     "execution_count": 48,
     "metadata": {
      "tags": []
     },
     "output_type": "execute_result"
    }
   ],
   "source": [
    "# seem to have converted numeric index to column, not in article, so let's drop it\n",
    "travel_df_by_date_combined.drop(labels=['index'], axis=1, inplace=True)\n",
    "travel_df_by_date_combined"
   ]
  },
  {
   "cell_type": "code",
   "execution_count": null,
   "metadata": {
    "colab": {
     "base_uri": "https://localhost:8080/",
     "height": 204
    },
    "colab_type": "code",
    "id": "7hn04DWNGDv8",
    "outputId": "8b6f2bff-1874-4b09-980d-b232879f1f4b"
   },
   "outputs": [
    {
     "data": {
      "text/html": [
       "<div>\n",
       "<style scoped>\n",
       "    .dataframe tbody tr th:only-of-type {\n",
       "        vertical-align: middle;\n",
       "    }\n",
       "\n",
       "    .dataframe tbody tr th {\n",
       "        vertical-align: top;\n",
       "    }\n",
       "\n",
       "    .dataframe thead th {\n",
       "        text-align: right;\n",
       "    }\n",
       "</style>\n",
       "<table border=\"1\" class=\"dataframe\">\n",
       "  <thead>\n",
       "    <tr style=\"text-align: right;\">\n",
       "      <th></th>\n",
       "      <th>DayOfWeek</th>\n",
       "      <th>Distance</th>\n",
       "      <th>MaxSpeed</th>\n",
       "      <th>AvgSpeed</th>\n",
       "      <th>AvgMovingSpeed</th>\n",
       "      <th>FuelEconomy</th>\n",
       "      <th>TotalTime</th>\n",
       "      <th>MovingTime</th>\n",
       "    </tr>\n",
       "    <tr>\n",
       "      <th>Date</th>\n",
       "      <th></th>\n",
       "      <th></th>\n",
       "      <th></th>\n",
       "      <th></th>\n",
       "      <th></th>\n",
       "      <th></th>\n",
       "      <th></th>\n",
       "      <th></th>\n",
       "    </tr>\n",
       "  </thead>\n",
       "  <tbody>\n",
       "    <tr>\n",
       "      <th>7/25/2011</th>\n",
       "      <td>Monday</td>\n",
       "      <td>99.37</td>\n",
       "      <td>126.6</td>\n",
       "      <td>66.90</td>\n",
       "      <td>78.60</td>\n",
       "      <td>8.45</td>\n",
       "      <td>96.8</td>\n",
       "      <td>75.9</td>\n",
       "    </tr>\n",
       "    <tr>\n",
       "      <th>7/27/2011</th>\n",
       "      <td>Wednesday</td>\n",
       "      <td>99.80</td>\n",
       "      <td>124.9</td>\n",
       "      <td>69.35</td>\n",
       "      <td>74.85</td>\n",
       "      <td>8.45</td>\n",
       "      <td>86.4</td>\n",
       "      <td>80.2</td>\n",
       "    </tr>\n",
       "    <tr>\n",
       "      <th>7/29/2011</th>\n",
       "      <td>Friday</td>\n",
       "      <td>99.75</td>\n",
       "      <td>135.6</td>\n",
       "      <td>90.45</td>\n",
       "      <td>94.05</td>\n",
       "      <td>8.45</td>\n",
       "      <td>68.4</td>\n",
       "      <td>65.5</td>\n",
       "    </tr>\n",
       "    <tr>\n",
       "      <th>8/26/2011</th>\n",
       "      <td>Friday</td>\n",
       "      <td>99.89</td>\n",
       "      <td>132.7</td>\n",
       "      <td>78.70</td>\n",
       "      <td>85.10</td>\n",
       "      <td>8.54</td>\n",
       "      <td>76.2</td>\n",
       "      <td>70.5</td>\n",
       "    </tr>\n",
       "  </tbody>\n",
       "</table>\n",
       "</div>"
      ],
      "text/plain": [
       "           DayOfWeek  Distance  MaxSpeed  ...  FuelEconomy  TotalTime  MovingTime\n",
       "Date                                      ...                                    \n",
       "7/25/2011     Monday     99.37     126.6  ...         8.45       96.8        75.9\n",
       "7/27/2011  Wednesday     99.80     124.9  ...         8.45       86.4        80.2\n",
       "7/29/2011     Friday     99.75     135.6  ...         8.45       68.4        65.5\n",
       "8/26/2011     Friday     99.89     132.7  ...         8.54       76.2        70.5\n",
       "\n",
       "[4 rows x 8 columns]"
      ]
     },
     "execution_count": 49,
     "metadata": {
      "tags": []
     },
     "output_type": "execute_result"
    }
   ],
   "source": [
    "distance_above_ninety = travel_df_by_date_combined['Distance']>90\n",
    "distance_below_hundred = travel_df_by_date_combined['Distance']<100\n",
    "ninety_to_hundred_df = travel_df_by_date_combined[distance_above_ninety & distance_below_hundred]\n",
    "ninety_to_hundred_df"
   ]
  },
  {
   "cell_type": "code",
   "execution_count": null,
   "metadata": {
    "colab": {
     "base_uri": "https://localhost:8080/",
     "height": 173
    },
    "colab_type": "code",
    "id": "OUwptxhJKfcQ",
    "outputId": "c0cc0b38-ac34-4f70-c4da-c729a645e33d"
   },
   "outputs": [
    {
     "data": {
      "text/html": [
       "<div>\n",
       "<style scoped>\n",
       "    .dataframe tbody tr th:only-of-type {\n",
       "        vertical-align: middle;\n",
       "    }\n",
       "\n",
       "    .dataframe tbody tr th {\n",
       "        vertical-align: top;\n",
       "    }\n",
       "\n",
       "    .dataframe thead th {\n",
       "        text-align: right;\n",
       "    }\n",
       "</style>\n",
       "<table border=\"1\" class=\"dataframe\">\n",
       "  <thead>\n",
       "    <tr style=\"text-align: right;\">\n",
       "      <th></th>\n",
       "      <th>DayOfWeek</th>\n",
       "      <th>Distance</th>\n",
       "      <th>MaxSpeed</th>\n",
       "      <th>AvgSpeed</th>\n",
       "      <th>AvgMovingSpeed</th>\n",
       "      <th>FuelEconomy</th>\n",
       "      <th>TotalTime</th>\n",
       "      <th>MovingTime</th>\n",
       "    </tr>\n",
       "    <tr>\n",
       "      <th>Date</th>\n",
       "      <th></th>\n",
       "      <th></th>\n",
       "      <th></th>\n",
       "      <th></th>\n",
       "      <th></th>\n",
       "      <th></th>\n",
       "      <th></th>\n",
       "      <th></th>\n",
       "    </tr>\n",
       "  </thead>\n",
       "  <tbody>\n",
       "    <tr>\n",
       "      <th>10/21/2011</th>\n",
       "      <td>Friday</td>\n",
       "      <td>50.64</td>\n",
       "      <td>129.0</td>\n",
       "      <td>106.60</td>\n",
       "      <td>112.10</td>\n",
       "      <td>8.97</td>\n",
       "      <td>28.5</td>\n",
       "      <td>27.1</td>\n",
       "    </tr>\n",
       "    <tr>\n",
       "      <th>10/7/2011</th>\n",
       "      <td>Friday</td>\n",
       "      <td>101.70</td>\n",
       "      <td>128.3</td>\n",
       "      <td>91.15</td>\n",
       "      <td>98.05</td>\n",
       "      <td>7.97</td>\n",
       "      <td>68.0</td>\n",
       "      <td>62.8</td>\n",
       "    </tr>\n",
       "    <tr>\n",
       "      <th>7/29/2011</th>\n",
       "      <td>Friday</td>\n",
       "      <td>99.75</td>\n",
       "      <td>135.6</td>\n",
       "      <td>90.45</td>\n",
       "      <td>94.05</td>\n",
       "      <td>8.45</td>\n",
       "      <td>68.4</td>\n",
       "      <td>65.5</td>\n",
       "    </tr>\n",
       "  </tbody>\n",
       "</table>\n",
       "</div>"
      ],
      "text/plain": [
       "           DayOfWeek  Distance  MaxSpeed  ...  FuelEconomy  TotalTime  MovingTime\n",
       "Date                                      ...                                    \n",
       "10/21/2011    Friday     50.64     129.0  ...         8.97       28.5        27.1\n",
       "10/7/2011     Friday    101.70     128.3  ...         7.97       68.0        62.8\n",
       "7/29/2011     Friday     99.75     135.6  ...         8.45       68.4        65.5\n",
       "\n",
       "[3 rows x 8 columns]"
      ]
     },
     "execution_count": 50,
     "metadata": {
      "tags": []
     },
     "output_type": "execute_result"
    }
   ],
   "source": [
    "over_ninety_on_friday = travel_df_by_date_combined[(travel_df_by_date_combined['AvgMovingSpeed']>90) & (travel_df_by_date_combined['DayOfWeek']=='Friday')]\n",
    "over_ninety_on_friday"
   ]
  },
  {
   "cell_type": "code",
   "execution_count": null,
   "metadata": {
    "colab": {
     "base_uri": "https://localhost:8080/",
     "height": 638
    },
    "colab_type": "code",
    "id": "yjBDcLfKLWfV",
    "outputId": "57aabcef-2bd3-42b4-ce45-4b7027738906"
   },
   "outputs": [
    {
     "data": {
      "text/html": [
       "<div>\n",
       "<style scoped>\n",
       "    .dataframe tbody tr th:only-of-type {\n",
       "        vertical-align: middle;\n",
       "    }\n",
       "\n",
       "    .dataframe tbody tr th {\n",
       "        vertical-align: top;\n",
       "    }\n",
       "\n",
       "    .dataframe thead th {\n",
       "        text-align: right;\n",
       "    }\n",
       "</style>\n",
       "<table border=\"1\" class=\"dataframe\">\n",
       "  <thead>\n",
       "    <tr style=\"text-align: right;\">\n",
       "      <th></th>\n",
       "      <th>DayOfWeek</th>\n",
       "      <th>Distance</th>\n",
       "      <th>MaxSpeed</th>\n",
       "      <th>AvgSpeed</th>\n",
       "      <th>AvgMovingSpeed</th>\n",
       "      <th>FuelEconomy</th>\n",
       "      <th>TotalTime</th>\n",
       "      <th>MovingTime</th>\n",
       "    </tr>\n",
       "    <tr>\n",
       "      <th>Date</th>\n",
       "      <th></th>\n",
       "      <th></th>\n",
       "      <th></th>\n",
       "      <th></th>\n",
       "      <th></th>\n",
       "      <th></th>\n",
       "      <th></th>\n",
       "      <th></th>\n",
       "    </tr>\n",
       "  </thead>\n",
       "  <tbody>\n",
       "    <tr>\n",
       "      <th>1/3/2012</th>\n",
       "      <td>Tuesday</td>\n",
       "      <td>102.95</td>\n",
       "      <td>136.2</td>\n",
       "      <td>83.95</td>\n",
       "      <td>88.45</td>\n",
       "      <td>8.690591</td>\n",
       "      <td>73.6</td>\n",
       "      <td>69.8</td>\n",
       "    </tr>\n",
       "    <tr>\n",
       "      <th>10/11/2011</th>\n",
       "      <td>Tuesday</td>\n",
       "      <td>100.46</td>\n",
       "      <td>135.1</td>\n",
       "      <td>76.50</td>\n",
       "      <td>85.80</td>\n",
       "      <td>7.810000</td>\n",
       "      <td>80.3</td>\n",
       "      <td>71.0</td>\n",
       "    </tr>\n",
       "    <tr>\n",
       "      <th>10/17/2011</th>\n",
       "      <td>Monday</td>\n",
       "      <td>101.91</td>\n",
       "      <td>137.1</td>\n",
       "      <td>86.15</td>\n",
       "      <td>91.60</td>\n",
       "      <td>8.750000</td>\n",
       "      <td>71.5</td>\n",
       "      <td>67.4</td>\n",
       "    </tr>\n",
       "    <tr>\n",
       "      <th>10/3/2011</th>\n",
       "      <td>Monday</td>\n",
       "      <td>101.87</td>\n",
       "      <td>127.4</td>\n",
       "      <td>86.15</td>\n",
       "      <td>90.80</td>\n",
       "      <td>7.970000</td>\n",
       "      <td>71.2</td>\n",
       "      <td>67.5</td>\n",
       "    </tr>\n",
       "    <tr>\n",
       "      <th>10/4/2011</th>\n",
       "      <td>Tuesday</td>\n",
       "      <td>101.82</td>\n",
       "      <td>128.8</td>\n",
       "      <td>85.45</td>\n",
       "      <td>91.55</td>\n",
       "      <td>7.970000</td>\n",
       "      <td>72.4</td>\n",
       "      <td>67.1</td>\n",
       "    </tr>\n",
       "    <tr>\n",
       "      <th>10/5/2011</th>\n",
       "      <td>Wednesday</td>\n",
       "      <td>101.90</td>\n",
       "      <td>128.5</td>\n",
       "      <td>86.45</td>\n",
       "      <td>91.75</td>\n",
       "      <td>7.970000</td>\n",
       "      <td>73.7</td>\n",
       "      <td>68.9</td>\n",
       "    </tr>\n",
       "    <tr>\n",
       "      <th>10/6/2011</th>\n",
       "      <td>Thursday</td>\n",
       "      <td>101.92</td>\n",
       "      <td>126.0</td>\n",
       "      <td>55.90</td>\n",
       "      <td>90.05</td>\n",
       "      <td>7.970000</td>\n",
       "      <td>72.8</td>\n",
       "      <td>69.6</td>\n",
       "    </tr>\n",
       "    <tr>\n",
       "      <th>10/7/2011</th>\n",
       "      <td>Friday</td>\n",
       "      <td>101.70</td>\n",
       "      <td>128.3</td>\n",
       "      <td>91.15</td>\n",
       "      <td>98.05</td>\n",
       "      <td>7.970000</td>\n",
       "      <td>68.0</td>\n",
       "      <td>62.8</td>\n",
       "    </tr>\n",
       "    <tr>\n",
       "      <th>12/19/2011</th>\n",
       "      <td>Monday</td>\n",
       "      <td>103.04</td>\n",
       "      <td>137.8</td>\n",
       "      <td>77.00</td>\n",
       "      <td>85.65</td>\n",
       "      <td>8.890000</td>\n",
       "      <td>80.3</td>\n",
       "      <td>72.2</td>\n",
       "    </tr>\n",
       "    <tr>\n",
       "      <th>7/14/2011</th>\n",
       "      <td>Thursday</td>\n",
       "      <td>50.90</td>\n",
       "      <td>123.7</td>\n",
       "      <td>76.20</td>\n",
       "      <td>95.10</td>\n",
       "      <td>7.890000</td>\n",
       "      <td>40.1</td>\n",
       "      <td>32.1</td>\n",
       "    </tr>\n",
       "    <tr>\n",
       "      <th>7/18/2011</th>\n",
       "      <td>Monday</td>\n",
       "      <td>54.52</td>\n",
       "      <td>125.6</td>\n",
       "      <td>49.90</td>\n",
       "      <td>82.40</td>\n",
       "      <td>7.890000</td>\n",
       "      <td>65.5</td>\n",
       "      <td>39.7</td>\n",
       "    </tr>\n",
       "    <tr>\n",
       "      <th>7/19/2011</th>\n",
       "      <td>Tuesday</td>\n",
       "      <td>102.12</td>\n",
       "      <td>126.7</td>\n",
       "      <td>87.25</td>\n",
       "      <td>99.50</td>\n",
       "      <td>7.890000</td>\n",
       "      <td>70.5</td>\n",
       "      <td>61.6</td>\n",
       "    </tr>\n",
       "    <tr>\n",
       "      <th>7/20/2011</th>\n",
       "      <td>Wednesday</td>\n",
       "      <td>101.97</td>\n",
       "      <td>125.8</td>\n",
       "      <td>67.15</td>\n",
       "      <td>79.15</td>\n",
       "      <td>7.890000</td>\n",
       "      <td>93.3</td>\n",
       "      <td>78.5</td>\n",
       "    </tr>\n",
       "    <tr>\n",
       "      <th>7/29/2011</th>\n",
       "      <td>Friday</td>\n",
       "      <td>99.75</td>\n",
       "      <td>135.6</td>\n",
       "      <td>90.45</td>\n",
       "      <td>94.05</td>\n",
       "      <td>8.450000</td>\n",
       "      <td>68.4</td>\n",
       "      <td>65.5</td>\n",
       "    </tr>\n",
       "    <tr>\n",
       "      <th>8/18/2011</th>\n",
       "      <td>Thursday</td>\n",
       "      <td>103.23</td>\n",
       "      <td>137.7</td>\n",
       "      <td>58.90</td>\n",
       "      <td>70.15</td>\n",
       "      <td>8.370000</td>\n",
       "      <td>107.1</td>\n",
       "      <td>89.1</td>\n",
       "    </tr>\n",
       "    <tr>\n",
       "      <th>8/30/2011</th>\n",
       "      <td>Tuesday</td>\n",
       "      <td>100.70</td>\n",
       "      <td>138.0</td>\n",
       "      <td>68.10</td>\n",
       "      <td>75.50</td>\n",
       "      <td>8.500000</td>\n",
       "      <td>88.8</td>\n",
       "      <td>80.2</td>\n",
       "    </tr>\n",
       "    <tr>\n",
       "      <th>8/31/2011</th>\n",
       "      <td>Wednesday</td>\n",
       "      <td>100.22</td>\n",
       "      <td>140.9</td>\n",
       "      <td>68.70</td>\n",
       "      <td>78.40</td>\n",
       "      <td>8.500000</td>\n",
       "      <td>87.6</td>\n",
       "      <td>76.7</td>\n",
       "    </tr>\n",
       "    <tr>\n",
       "      <th>9/8/2011</th>\n",
       "      <td>Thursday</td>\n",
       "      <td>100.17</td>\n",
       "      <td>137.0</td>\n",
       "      <td>60.20</td>\n",
       "      <td>70.40</td>\n",
       "      <td>8.500000</td>\n",
       "      <td>100.8</td>\n",
       "      <td>86.2</td>\n",
       "    </tr>\n",
       "  </tbody>\n",
       "</table>\n",
       "</div>"
      ],
      "text/plain": [
       "            DayOfWeek  Distance  MaxSpeed  ...  FuelEconomy  TotalTime  MovingTime\n",
       "Date                                       ...                                    \n",
       "1/3/2012      Tuesday    102.95     136.2  ...     8.690591       73.6        69.8\n",
       "10/11/2011    Tuesday    100.46     135.1  ...     7.810000       80.3        71.0\n",
       "10/17/2011     Monday    101.91     137.1  ...     8.750000       71.5        67.4\n",
       "10/3/2011      Monday    101.87     127.4  ...     7.970000       71.2        67.5\n",
       "10/4/2011     Tuesday    101.82     128.8  ...     7.970000       72.4        67.1\n",
       "10/5/2011   Wednesday    101.90     128.5  ...     7.970000       73.7        68.9\n",
       "10/6/2011    Thursday    101.92     126.0  ...     7.970000       72.8        69.6\n",
       "10/7/2011      Friday    101.70     128.3  ...     7.970000       68.0        62.8\n",
       "12/19/2011     Monday    103.04     137.8  ...     8.890000       80.3        72.2\n",
       "7/14/2011    Thursday     50.90     123.7  ...     7.890000       40.1        32.1\n",
       "7/18/2011      Monday     54.52     125.6  ...     7.890000       65.5        39.7\n",
       "7/19/2011     Tuesday    102.12     126.7  ...     7.890000       70.5        61.6\n",
       "7/20/2011   Wednesday    101.97     125.8  ...     7.890000       93.3        78.5\n",
       "7/29/2011      Friday     99.75     135.6  ...     8.450000       68.4        65.5\n",
       "8/18/2011    Thursday    103.23     137.7  ...     8.370000      107.1        89.1\n",
       "8/30/2011     Tuesday    100.70     138.0  ...     8.500000       88.8        80.2\n",
       "8/31/2011   Wednesday    100.22     140.9  ...     8.500000       87.6        76.7\n",
       "9/8/2011     Thursday    100.17     137.0  ...     8.500000      100.8        86.2\n",
       "\n",
       "[18 rows x 8 columns]"
      ]
     },
     "execution_count": 51,
     "metadata": {
      "tags": []
     },
     "output_type": "execute_result"
    }
   ],
   "source": [
    "max_speed_over_one_thirty_five_or_fuel_economy_below_eight = travel_df_by_date_combined[(travel_df_by_date_combined['MaxSpeed']>135) | (travel_df_by_date_combined['FuelEconomy']<8)]\n",
    "max_speed_over_one_thirty_five_or_fuel_economy_below_eight"
   ]
  },
  {
   "cell_type": "code",
   "execution_count": null,
   "metadata": {
    "colab": {
     "base_uri": "https://localhost:8080/",
     "height": 235
    },
    "colab_type": "code",
    "id": "6ISG5EGBLjEt",
    "outputId": "70343c99-f1ab-4349-c807-c94ccb7ec0be"
   },
   "outputs": [
    {
     "data": {
      "text/html": [
       "<div>\n",
       "<style scoped>\n",
       "    .dataframe tbody tr th:only-of-type {\n",
       "        vertical-align: middle;\n",
       "    }\n",
       "\n",
       "    .dataframe tbody tr th {\n",
       "        vertical-align: top;\n",
       "    }\n",
       "\n",
       "    .dataframe thead th {\n",
       "        text-align: right;\n",
       "    }\n",
       "</style>\n",
       "<table border=\"1\" class=\"dataframe\">\n",
       "  <thead>\n",
       "    <tr style=\"text-align: right;\">\n",
       "      <th></th>\n",
       "      <th>count</th>\n",
       "      <th>mean</th>\n",
       "      <th>std</th>\n",
       "      <th>min</th>\n",
       "      <th>25%</th>\n",
       "      <th>50%</th>\n",
       "      <th>75%</th>\n",
       "      <th>max</th>\n",
       "    </tr>\n",
       "    <tr>\n",
       "      <th>DayOfWeek</th>\n",
       "      <th></th>\n",
       "      <th></th>\n",
       "      <th></th>\n",
       "      <th></th>\n",
       "      <th></th>\n",
       "      <th></th>\n",
       "      <th></th>\n",
       "      <th></th>\n",
       "    </tr>\n",
       "  </thead>\n",
       "  <tbody>\n",
       "    <tr>\n",
       "      <th>Friday</th>\n",
       "      <td>27.0</td>\n",
       "      <td>87.937037</td>\n",
       "      <td>9.288792</td>\n",
       "      <td>77.1</td>\n",
       "      <td>81.70</td>\n",
       "      <td>86.90</td>\n",
       "      <td>89.95</td>\n",
       "      <td>112.1</td>\n",
       "    </tr>\n",
       "    <tr>\n",
       "      <th>Monday</th>\n",
       "      <td>39.0</td>\n",
       "      <td>81.405128</td>\n",
       "      <td>10.600297</td>\n",
       "      <td>50.3</td>\n",
       "      <td>75.60</td>\n",
       "      <td>82.40</td>\n",
       "      <td>85.80</td>\n",
       "      <td>106.2</td>\n",
       "    </tr>\n",
       "    <tr>\n",
       "      <th>Thursday</th>\n",
       "      <td>44.0</td>\n",
       "      <td>82.809091</td>\n",
       "      <td>10.534082</td>\n",
       "      <td>63.1</td>\n",
       "      <td>77.05</td>\n",
       "      <td>80.85</td>\n",
       "      <td>85.55</td>\n",
       "      <td>111.3</td>\n",
       "    </tr>\n",
       "    <tr>\n",
       "      <th>Tuesday</th>\n",
       "      <td>48.0</td>\n",
       "      <td>80.893750</td>\n",
       "      <td>9.921338</td>\n",
       "      <td>51.5</td>\n",
       "      <td>75.55</td>\n",
       "      <td>81.05</td>\n",
       "      <td>85.65</td>\n",
       "      <td>102.6</td>\n",
       "    </tr>\n",
       "    <tr>\n",
       "      <th>Wednesday</th>\n",
       "      <td>47.0</td>\n",
       "      <td>79.348936</td>\n",
       "      <td>8.801207</td>\n",
       "      <td>65.8</td>\n",
       "      <td>74.10</td>\n",
       "      <td>78.70</td>\n",
       "      <td>81.75</td>\n",
       "      <td>108.0</td>\n",
       "    </tr>\n",
       "  </tbody>\n",
       "</table>\n",
       "</div>"
      ],
      "text/plain": [
       "           count       mean        std   min    25%    50%    75%    max\n",
       "DayOfWeek                                                               \n",
       "Friday      27.0  87.937037   9.288792  77.1  81.70  86.90  89.95  112.1\n",
       "Monday      39.0  81.405128  10.600297  50.3  75.60  82.40  85.80  106.2\n",
       "Thursday    44.0  82.809091  10.534082  63.1  77.05  80.85  85.55  111.3\n",
       "Tuesday     48.0  80.893750   9.921338  51.5  75.55  81.05  85.65  102.6\n",
       "Wednesday   47.0  79.348936   8.801207  65.8  74.10  78.70  81.75  108.0"
      ]
     },
     "execution_count": 52,
     "metadata": {
      "tags": []
     },
     "output_type": "execute_result"
    }
   ],
   "source": [
    "travel_df.groupby(['DayOfWeek'])['AvgMovingSpeed'].describe()"
   ]
  },
  {
   "cell_type": "code",
   "execution_count": null,
   "metadata": {
    "colab": {
     "base_uri": "https://localhost:8080/",
     "height": 255
    },
    "colab_type": "code",
    "id": "i-10VIUSRC6i",
    "outputId": "e86ed69f-6e21-4b96-f1a3-8ad795fcc786"
   },
   "outputs": [
    {
     "data": {
      "text/plain": [
       "<bound method NDFrame.groupby of           Date StartTime  DayOfWeek  ... TotalTime  MovingTime  Take407All\n",
       "0     1/6/2012     16:37     Friday  ...      39.3        36.3          No\n",
       "1     1/6/2012     08:20     Friday  ...      37.9        34.9          No\n",
       "2     1/4/2012     16:17  Wednesday  ...      37.5        35.9          No\n",
       "3     1/4/2012     07:53  Wednesday  ...      39.8        35.6          No\n",
       "4     1/3/2012     18:57    Tuesday  ...      36.8        34.8          No\n",
       "..         ...       ...        ...  ...       ...         ...         ...\n",
       "200  7/18/2011     08:09     Monday  ...      65.5        39.7          No\n",
       "201  7/14/2011     08:03   Thursday  ...      40.1        32.1         Yes\n",
       "202  7/13/2011     17:08  Wednesday  ...      54.2        40.6         Yes\n",
       "203  7/12/2011     17:51    Tuesday  ...      51.9        36.5         Yes\n",
       "204  7/11/2011     16:56     Monday  ...      49.5        33.6         Yes\n",
       "\n",
       "[205 rows x 12 columns]>"
      ]
     },
     "execution_count": 56,
     "metadata": {
      "tags": []
     },
     "output_type": "execute_result"
    }
   ],
   "source": [
    "travel_df.groupby"
   ]
  },
  {
   "cell_type": "code",
   "execution_count": null,
   "metadata": {
    "colab": {},
    "colab_type": "code",
    "id": "yGCJ2zOrRQPa"
   },
   "outputs": [],
   "source": [
    "import matplotlib.pyplot as plt"
   ]
  },
  {
   "cell_type": "code",
   "execution_count": null,
   "metadata": {
    "colab": {},
    "colab_type": "code",
    "id": "oLhZmdJoYeBi"
   },
   "outputs": [],
   "source": [
    "img = plt.imread('https://upload.wikimedia.org/wikipedia/en/thumb/7/7d/Lenna_%28test_image%29.png/220px-Lenna_%28test_image%29.png')"
   ]
  },
  {
   "cell_type": "code",
   "execution_count": null,
   "metadata": {
    "colab": {
     "base_uri": "https://localhost:8080/",
     "height": 269
    },
    "colab_type": "code",
    "id": "zv0DD5HuZHyv",
    "outputId": "f4c70942-6ee3-4061-b782-f92a8d27fad4"
   },
   "outputs": [
    {
     "data": {
      "image/png": "[encoded data removed]",
      "text/plain": [
       "<Figure size 432x288 with 1 Axes>"
      ]
     },
     "metadata": {
      "tags": []
     },
     "output_type": "display_data"
    }
   ],
   "source": [
    "plt.imshow(img)\n",
    "plt.show()"
   ]
  },
  {
   "cell_type": "code",
   "execution_count": null,
   "metadata": {
    "colab": {
     "base_uri": "https://localhost:8080/",
     "height": 286
    },
    "colab_type": "code",
    "id": "GLf7jI-0ZXgd",
    "outputId": "a2503880-9b1f-4a9c-9668-04b19d265672"
   },
   "outputs": [
    {
     "data": {
      "text/plain": [
       "<matplotlib.image.AxesImage at 0x7f4d5079f780>"
      ]
     },
     "execution_count": 89,
     "metadata": {
      "tags": []
     },
     "output_type": "execute_result"
    },
    {
     "data": {
      "image/png": "[encoded data removed]",
      "text/plain": [
       "<Figure size 432x288 with 1 Axes>"
      ]
     },
     "metadata": {
      "tags": []
     },
     "output_type": "display_data"
    }
   ],
   "source": [
    "%matplotlib inline\n",
    "plt.imshow(img)"
   ]
  },
  {
   "cell_type": "code",
   "execution_count": null,
   "metadata": {
    "colab": {
     "base_uri": "https://localhost:8080/",
     "height": 286
    },
    "colab_type": "code",
    "id": "XxzoH9-bZ4IG",
    "outputId": "1a69afea-887b-41a5-d7c0-df883164128c"
   },
   "outputs": [
    {
     "data": {
      "text/plain": [
       "<matplotlib.image.AxesImage at 0x7f4d50b76320>"
      ]
     },
     "execution_count": 69,
     "metadata": {
      "tags": []
     },
     "output_type": "execute_result"
    },
    {
     "data": {
      "image/png": "[encoded data removed]",
      "text/plain": [
       "<Figure size 432x288 with 1 Axes>"
      ]
     },
     "metadata": {
      "tags": []
     },
     "output_type": "display_data"
    }
   ],
   "source": [
    "import numpy as np\n",
    "img_gray = np.copy(img)\n",
    "img_gray[:] = img.mean(axis=-1,keepdims=1)\n",
    "plt.imshow(img_gray)"
   ]
  },
  {
   "cell_type": "code",
   "execution_count": null,
   "metadata": {
    "colab": {
     "base_uri": "https://localhost:8080/",
     "height": 1000
    },
    "colab_type": "code",
    "id": "V8IEHnWSaB_O",
    "outputId": "19de3560-07ff-44ef-c091-e0fcb07cc193"
   },
   "outputs": [
    {
     "data": {
      "text/plain": [
       "(array([   6.,    0.,    0.,    9.,    6.,    9.,    0.,   12.,   24.,\n",
       "          15.,   54.,   27.,   57.,   81.,   69.,   54.,  126.,   93.,\n",
       "         165.,  153.,  159.,  255.,  186.,  255.,  444.,  351.,  618.,\n",
       "         453.,  570.,  984.,  669.,  711., 1293.,  870., 1260.,  828.,\n",
       "         885., 1326.,  804.,  789., 1167.,  684.,  990.,  654.,  585.,\n",
       "         840.,  477.,  417.,  639.,  399.,  396.,  579.,  384.,  534.,\n",
       "         369.,  342.,  474.,  354.,  321.,  579.,  354.,  468.,  294.,\n",
       "         378.,  489.,  429.,  348.,  633.,  405.,  657.,  366.,  396.,\n",
       "         579.,  396.,  357.,  594.,  372.,  579.,  369.,  438.,  672.,\n",
       "         450.,  441.,  723.,  495.,  798.,  552.,  528., 1008.,  729.,\n",
       "         693., 1269.,  873., 1359.,  825.,  903., 1137.,  792.,  774.,\n",
       "         978.,  630.,  615.,  834.,  549.,  780.,  588.,  516.,  771.,\n",
       "         597.,  588.,  864.,  561.,  864.,  588.,  576.,  999.,  726.,\n",
       "         639.,  972.,  750., 1221.,  777.,  888., 1464., 1005.,  993.,\n",
       "        1578., 1176., 1596.,  840.,  849., 1137.,  777.,  762., 1140.,\n",
       "         753., 1311., 1026.,  897., 1485., 1125., 1086., 1554., 1110.,\n",
       "        1581.,  909.,  987., 1452., 1014., 1026., 1641., 1110., 1236.,\n",
       "        1737., 1299., 1668., 1104., 1128., 1401.,  975.,  834., 1260.,\n",
       "         873., 1125.,  615.,  555.,  942.,  561.,  465.,  762.,  585.,\n",
       "         840.,  444.,  528.,  765.,  570.,  540.,  822.,  492.,  666.,\n",
       "         393.,  390.,  477.,  273.,  345.,  429.,  270.,  459.,  228.,\n",
       "         336.,  444.,  369.,  351.,  537.,  267.,  429.,  288.,  279.,\n",
       "         459.,  309.,  327.,  393.,  303.,  339.,  489.,  333.,  552.,\n",
       "         336.,  336.,  666.,  450.,  480.,  699.,  459.,  690.,  378.,\n",
       "         405.,  522.,  294.,  366.,  486.,  285.,  369.,  228.,  195.,\n",
       "         273.,  174.,  144.,  177.,   96.,  159.,   54.,   48.,   84.,\n",
       "          60.,   63.,   60.,   24.,   66.,   30.,   39.,   24.,   18.,\n",
       "          15.,   12.,   12.,   15.,    0.,    3.,    6.,    3.,    0.,\n",
       "           0.,    3.,    3.]),\n",
       " array([0.1267974 , 0.12989877, 0.13300014, 0.13610151, 0.13920288,\n",
       "        0.14230426, 0.14540562, 0.148507  , 0.15160836, 0.15470974,\n",
       "        0.1578111 , 0.16091248, 0.16401385, 0.16711523, 0.17021659,\n",
       "        0.17331797, 0.17641933, 0.17952071, 0.18262208, 0.18572345,\n",
       "        0.18882482, 0.1919262 , 0.19502756, 0.19812894, 0.2012303 ,\n",
       "        0.20433168, 0.20743304, 0.21053442, 0.21363579, 0.21673717,\n",
       "        0.21983853, 0.22293991, 0.22604127, 0.22914265, 0.23224401,\n",
       "        0.2353454 , 0.23844676, 0.24154814, 0.2446495 , 0.24775088,\n",
       "        0.25085226, 0.2539536 , 0.25705498, 0.26015636, 0.26325774,\n",
       "        0.2663591 , 0.26946047, 0.27256185, 0.27566323, 0.27876458,\n",
       "        0.28186595, 0.28496733, 0.2880687 , 0.29117006, 0.29427144,\n",
       "        0.29737282, 0.3004742 , 0.30357555, 0.30667692, 0.3097783 ,\n",
       "        0.31287968, 0.31598103, 0.3190824 , 0.3221838 , 0.32528517,\n",
       "        0.32838652, 0.3314879 , 0.33458927, 0.33769065, 0.340792  ,\n",
       "        0.34389338, 0.34699476, 0.35009614, 0.3531975 , 0.35629886,\n",
       "        0.35940024, 0.36250162, 0.36560297, 0.36870435, 0.37180573,\n",
       "        0.3749071 , 0.37800846, 0.38110983, 0.3842112 , 0.3873126 ,\n",
       "        0.39041394, 0.39351532, 0.3966167 , 0.39971808, 0.40281942,\n",
       "        0.4059208 , 0.40902218, 0.41212356, 0.4152249 , 0.4183263 ,\n",
       "        0.42142767, 0.42452905, 0.4276304 , 0.43073177, 0.43383315,\n",
       "        0.43693453, 0.44003588, 0.44313726, 0.44623864, 0.44934002,\n",
       "        0.45244136, 0.45554274, 0.45864412, 0.4617455 , 0.46484685,\n",
       "        0.46794823, 0.4710496 , 0.474151  , 0.47725233, 0.4803537 ,\n",
       "        0.4834551 , 0.48655647, 0.48965782, 0.4927592 , 0.49586058,\n",
       "        0.49896196, 0.50206333, 0.5051647 , 0.50826603, 0.51136744,\n",
       "        0.5144688 , 0.5175702 , 0.52067155, 0.5237729 , 0.5268743 ,\n",
       "        0.52997565, 0.533077  , 0.5361784 , 0.53927976, 0.54238117,\n",
       "        0.5454825 , 0.54858387, 0.5516853 , 0.5547866 , 0.557888  ,\n",
       "        0.5609894 , 0.5640907 , 0.56719214, 0.5702935 , 0.57339483,\n",
       "        0.57649624, 0.5795976 , 0.58269894, 0.58580035, 0.5889017 ,\n",
       "        0.5920031 , 0.59510446, 0.5982058 , 0.6013072 , 0.60440856,\n",
       "        0.6075099 , 0.6106113 , 0.61371267, 0.6168141 , 0.6199154 ,\n",
       "        0.6230168 , 0.6261182 , 0.62921953, 0.6323209 , 0.6354223 ,\n",
       "        0.63852364, 0.64162505, 0.6447264 , 0.64782774, 0.65092915,\n",
       "        0.6540305 , 0.65713185, 0.66023326, 0.6633346 , 0.666436  ,\n",
       "        0.66953737, 0.6726387 , 0.6757401 , 0.6788415 , 0.6819428 ,\n",
       "        0.6850442 , 0.6881456 , 0.691247  , 0.69434834, 0.6974497 ,\n",
       "        0.7005511 , 0.70365244, 0.7067538 , 0.7098552 , 0.71295655,\n",
       "        0.71605796, 0.7191593 , 0.72226065, 0.72536206, 0.7284634 ,\n",
       "        0.73156476, 0.73466617, 0.7377675 , 0.7408689 , 0.7439703 ,\n",
       "        0.7470716 , 0.75017303, 0.7532744 , 0.75637573, 0.75947714,\n",
       "        0.7625785 , 0.7656799 , 0.76878124, 0.7718826 , 0.774984  ,\n",
       "        0.77808535, 0.7811867 , 0.7842881 , 0.78738946, 0.79049087,\n",
       "        0.7935922 , 0.79669356, 0.799795  , 0.8028963 , 0.80599767,\n",
       "        0.8090991 , 0.8122004 , 0.81530184, 0.8184032 , 0.82150453,\n",
       "        0.82460594, 0.8277073 , 0.83080864, 0.83391005, 0.8370114 ,\n",
       "        0.8401128 , 0.84321415, 0.8463155 , 0.8494169 , 0.85251826,\n",
       "        0.8556196 , 0.858721  , 0.86182237, 0.8649238 , 0.8680251 ,\n",
       "        0.8711265 , 0.8742279 , 0.87732923, 0.8804306 , 0.883532  ,\n",
       "        0.88663334, 0.88973475, 0.8928361 , 0.89593744, 0.89903885,\n",
       "        0.9021402 , 0.90524155, 0.90834296, 0.9114443 , 0.9145457 ,\n",
       "        0.91764706], dtype=float32),\n",
       " <a list of 255 Patch objects>)"
      ]
     },
     "execution_count": 70,
     "metadata": {
      "tags": []
     },
     "output_type": "execute_result"
    },
    {
     "data": {
      "image/png": "[encoded data removed]",
      "text/plain": [
       "<Figure size 432x288 with 1 Axes>"
      ]
     },
     "metadata": {
      "tags": []
     },
     "output_type": "display_data"
    }
   ],
   "source": [
    "pixels = img_gray.reshape(220*220*3)\n",
    "plt.hist(pixels,bins=255)"
   ]
  },
  {
   "cell_type": "code",
   "execution_count": null,
   "metadata": {
    "colab": {
     "base_uri": "https://localhost:8080/",
     "height": 510
    },
    "colab_type": "code",
    "id": "uhMZo5k_anrX",
    "outputId": "850f09d9-37a0-41a5-f799-42e24eaeedc2"
   },
   "outputs": [
    {
     "data": {
      "text/plain": [
       "array([[[0.88235295, 0.5372549 , 0.49803922],\n",
       "        [0.8784314 , 0.5372549 , 0.49803922],\n",
       "        [0.8901961 , 0.5254902 , 0.46666667],\n",
       "        [0.8901961 , 0.5411765 , 0.49019608],\n",
       "        [0.8862745 , 0.5294118 , 0.47843137]],\n",
       "\n",
       "       [[0.88235295, 0.5372549 , 0.49803922],\n",
       "        [0.8784314 , 0.53333336, 0.49803922],\n",
       "        [0.8901961 , 0.5254902 , 0.46666667],\n",
       "        [0.8901961 , 0.5411765 , 0.49019608],\n",
       "        [0.8862745 , 0.5254902 , 0.47843137]],\n",
       "\n",
       "       [[0.8901961 , 0.5372549 , 0.47843137],\n",
       "        [0.8784314 , 0.5254902 , 0.4627451 ],\n",
       "        [0.89411765, 0.52156866, 0.45882353],\n",
       "        [0.8901961 , 0.5254902 , 0.44705883],\n",
       "        [0.8901961 , 0.5254902 , 0.45490196]],\n",
       "\n",
       "       [[0.8784314 , 0.5137255 , 0.43137255],\n",
       "        [0.8784314 , 0.52156866, 0.44705883],\n",
       "        [0.8862745 , 0.5137255 , 0.44705883],\n",
       "        [0.8901961 , 0.52156866, 0.44705883],\n",
       "        [0.88235295, 0.52156866, 0.45490196]],\n",
       "\n",
       "       [[0.8745098 , 0.5137255 , 0.41568628],\n",
       "        [0.8784314 , 0.52156866, 0.43137255],\n",
       "        [0.8901961 , 0.49411765, 0.41960785],\n",
       "        [0.88235295, 0.5058824 , 0.43529412],\n",
       "        [0.88235295, 0.5137255 , 0.43137255]]], dtype=float32)"
      ]
     },
     "execution_count": 82,
     "metadata": {
      "tags": []
     },
     "output_type": "execute_result"
    }
   ],
   "source": [
    "img[:5, :5, :]"
   ]
  },
  {
   "cell_type": "code",
   "execution_count": null,
   "metadata": {
    "colab": {},
    "colab_type": "code",
    "id": "4AO85omUffaB"
   },
   "outputs": [],
   "source": [
    "tmp = img[:5, :5, :].copy()"
   ]
  },
  {
   "cell_type": "code",
   "execution_count": null,
   "metadata": {
    "colab": {
     "base_uri": "https://localhost:8080/",
     "height": 510
    },
    "colab_type": "code",
    "id": "ulL93wNwg0bO",
    "outputId": "f3b9f424-9bda-4034-abb4-b916a2b2b943"
   },
   "outputs": [
    {
     "data": {
      "text/plain": [
       "array([[[0.88235295, 0.5372549 , 0.49803922],\n",
       "        [0.8784314 , 0.5372549 , 0.49803922],\n",
       "        [0.8901961 , 0.5254902 , 0.46666667],\n",
       "        [0.8901961 , 0.5411765 , 0.49019608],\n",
       "        [0.8862745 , 0.5294118 , 0.47843137]],\n",
       "\n",
       "       [[0.88235295, 0.5372549 , 0.49803922],\n",
       "        [0.8784314 , 0.53333336, 0.49803922],\n",
       "        [0.8901961 , 0.5254902 , 0.46666667],\n",
       "        [0.8901961 , 0.5411765 , 0.49019608],\n",
       "        [0.8862745 , 0.5254902 , 0.47843137]],\n",
       "\n",
       "       [[0.8901961 , 0.5372549 , 0.47843137],\n",
       "        [0.8784314 , 0.5254902 , 0.4627451 ],\n",
       "        [0.89411765, 0.52156866, 0.45882353],\n",
       "        [0.8901961 , 0.5254902 , 0.44705883],\n",
       "        [0.8901961 , 0.5254902 , 0.45490196]],\n",
       "\n",
       "       [[0.8784314 , 0.5137255 , 0.43137255],\n",
       "        [0.8784314 , 0.52156866, 0.44705883],\n",
       "        [0.8862745 , 0.5137255 , 0.44705883],\n",
       "        [0.8901961 , 0.52156866, 0.44705883],\n",
       "        [0.88235295, 0.52156866, 0.45490196]],\n",
       "\n",
       "       [[0.8745098 , 0.5137255 , 0.41568628],\n",
       "        [0.8784314 , 0.52156866, 0.43137255],\n",
       "        [0.8901961 , 0.49411765, 0.41960785],\n",
       "        [0.88235295, 0.5058824 , 0.43529412],\n",
       "        [0.88235295, 0.5137255 , 0.43137255]]], dtype=float32)"
      ]
     },
     "execution_count": 94,
     "metadata": {
      "tags": []
     },
     "output_type": "execute_result"
    }
   ],
   "source": [
    "tmp"
   ]
  },
  {
   "cell_type": "code",
   "execution_count": null,
   "metadata": {
    "colab": {
     "base_uri": "https://localhost:8080/",
     "height": 204
    },
    "colab_type": "code",
    "id": "25Fdx17ng1Ls",
    "outputId": "b88c5877-d08b-411e-fb72-d52279339f08"
   },
   "outputs": [
    {
     "name": "stdout",
     "output_type": "stream",
     "text": [
      "[[[0.88235295 0.5372549  0.49803922]\n",
      "  [0.8784314  0.5372549  0.49803922]\n",
      "  [0.8901961  0.5254902  0.46666667]\n",
      "  [0.8901961  0.5411765  0.49019608]\n",
      "  [0.8862745  0.5294118  0.47843137]]]\n",
      "--------------------------------------------------------------------------------\n",
      "[[[0.88549024 0.5341177  0.48627454]\n",
      "  [0.88549024 0.5325491  0.48627454]\n",
      "  [0.8886274  0.52705884 0.46039215]\n",
      "  [0.8831372  0.51843137 0.4454902 ]\n",
      "  [0.8815686  0.5098039  0.42666668]]]\n"
     ]
    }
   ],
   "source": [
    "tmp = img[:5, :5, :].copy()\n",
    "print(tmp[:1,:5,:])\n",
    "tmp[:] = tmp.mean(axis=1)\n",
    "print('-'*80)\n",
    "print(tmp[:1,:5,:])"
   ]
  },
  {
   "cell_type": "code",
   "execution_count": null,
   "metadata": {
    "colab": {
     "base_uri": "https://localhost:8080/",
     "height": 34
    },
    "colab_type": "code",
    "id": "s64ql7SPhAd9",
    "outputId": "78d1a22f-e17b-408e-aa22-884ff19d38b2"
   },
   "outputs": [
    {
     "data": {
      "text/plain": [
       "(5, 5, 3)"
      ]
     },
     "execution_count": 98,
     "metadata": {
      "tags": []
     },
     "output_type": "execute_result"
    }
   ],
   "source": [
    "tmp.shape"
   ]
  },
  {
   "cell_type": "code",
   "execution_count": null,
   "metadata": {
    "colab": {},
    "colab_type": "code",
    "id": "-b4wv73wicS-"
   },
   "outputs": [],
   "source": [
    "import numpy as np\n",
    "\n",
    "nums = np.arange(12).reshape(3,4)"
   ]
  },
  {
   "cell_type": "code",
   "execution_count": null,
   "metadata": {
    "colab": {
     "base_uri": "https://localhost:8080/",
     "height": 68
    },
    "colab_type": "code",
    "id": "N4o_PF4oTOuf",
    "outputId": "f21568bb-1da9-44bc-961a-a4fdd90d3013"
   },
   "outputs": [
    {
     "data": {
      "text/plain": [
       "array([[ 0,  1,  2,  3],\n",
       "       [ 4,  5,  6,  7],\n",
       "       [ 8,  9, 10, 11]])"
      ]
     },
     "execution_count": 2,
     "metadata": {
      "tags": []
     },
     "output_type": "execute_result"
    }
   ],
   "source": [
    "nums"
   ]
  },
  {
   "cell_type": "code",
   "execution_count": null,
   "metadata": {
    "colab": {},
    "colab_type": "code",
    "id": "iWV-CgCOTPWY"
   },
   "outputs": [],
   "source": [
    "facts=np.arange(11, 34, 2).reshape(4,3)"
   ]
  },
  {
   "cell_type": "code",
   "execution_count": null,
   "metadata": {
    "colab": {
     "base_uri": "https://localhost:8080/",
     "height": 85
    },
    "colab_type": "code",
    "id": "2hLVXkaXTfEU",
    "outputId": "a81dd7c0-d1c5-45da-c3e1-6dc80ea0b60e"
   },
   "outputs": [
    {
     "data": {
      "text/plain": [
       "array([[11, 13, 15],\n",
       "       [17, 19, 21],\n",
       "       [23, 25, 27],\n",
       "       [29, 31, 33]])"
      ]
     },
     "execution_count": 9,
     "metadata": {
      "tags": []
     },
     "output_type": "execute_result"
    }
   ],
   "source": [
    "facts"
   ]
  },
  {
   "cell_type": "code",
   "execution_count": null,
   "metadata": {
    "colab": {
     "base_uri": "https://localhost:8080/",
     "height": 68
    },
    "colab_type": "code",
    "id": "ujAp_CDOT7Y-",
    "outputId": "09e592a8-b9b3-4cf2-da0c-c4a761114b6f"
   },
   "outputs": [
    {
     "data": {
      "text/plain": [
       "array([[150, 162, 174],\n",
       "       [470, 514, 558],\n",
       "       [790, 866, 942]])"
      ]
     },
     "execution_count": 12,
     "metadata": {
      "tags": []
     },
     "output_type": "execute_result"
    }
   ],
   "source": [
    "np.matmul(nums, facts)"
   ]
  },
  {
   "cell_type": "code",
   "execution_count": null,
   "metadata": {
    "colab": {},
    "colab_type": "code",
    "id": "nnIgM1SeT-bw"
   },
   "outputs": [],
   "source": [
    "np?"
   ]
  },
  {
   "cell_type": "code",
   "execution_count": null,
   "metadata": {
    "colab": {},
    "colab_type": "code",
    "id": "BjFUljWoUJLu"
   },
   "outputs": [],
   "source": []
  }
 ],
 "metadata": {
  "colab": {
   "collapsed_sections": [],
   "name": "pandas.ipynb",
   "provenance": []
  },
  "kernelspec": {
   "display_name": "Python 3",
   "language": "python",
   "name": "python3"
  },
  "language_info": {
   "codemirror_mode": {
    "name": "ipython",
    "version": 3
   },
   "file_extension": ".py",
   "mimetype": "text/x-python",
   "name": "python",
   "nbconvert_exporter": "python",
   "pygments_lexer": "ipython3",
   "version": "3.8.1"
  }
 },
 "nbformat": 4,
 "nbformat_minor": 4
}
