{
 "cells": [
  {
   "cell_type": "code",
   "execution_count": null,
   "metadata": {},
   "outputs": [],
   "source": [
    "import pandas as pd\n",
    "\n",
    "def dummy():\n",
    "    '''generate dummy data'''\n",
    "\n",
    "    VALUENAMES = [f'val{x:03d}' for x in range(1, 21)]\n",
    "    from random import randint\n",
    "    dummyd = dict()\n",
    "    for lognum in range(1, 30):\n",
    "        log = 'log' + str(lognum)\n",
    "        dummyd[log] = []\n",
    "        valnames = list(VALUENAMES)\n",
    "        for _ in range(randint(4, 10)):\n",
    "            vname = valnames.pop(randint(0, len(valnames) - 1))\n",
    "            dummyd[log].append(f'{vname} {randint(1, 50)}')\n",
    "    return dummyd\n",
    "\n",
    "def makedf(datadict):\n",
    "    # empty df\n",
    "    df = pd.DataFrame()\n",
    "\n",
    "    # Iterate over each entry (log1-49)\n",
    "    for entry in datadict:\n",
    "        # create a series to hold the entry\n",
    "        series = pd.Series(entry)\n",
    "\n",
    "        for string in datadict[entry]:\n",
    "            # split the value and column\n",
    "            col, val = string.split(' ')\n",
    "            # insert the value at the column, in the series\n",
    "            series[col] = val\n",
    "\n",
    "        # convert to dataframe to transpose\n",
    "        new_df = series.to_frame().T\n",
    "        # concat with existing dataframe\n",
    "        df = pd.concat([df, new_df])\n",
    "\n",
    "    return df\n",
    "\n",
    "# Get dummy dictionary\n",
    "datadict = dummy()\n",
    "\n",
    "# create dataframe\n",
    "df = makedf(datadict)\n",
    "\n",
    "# sort columns\n",
    "df.rename(columns = {0:' lognames'}, inplace = True)\n",
    "df = df.reindex(sorted(df.columns), axis='columns')"
   ]
  }
 ],
 "metadata": {
  "kernelspec": {
   "display_name": "Python 2",
   "language": "python",
   "name": "python2"
  },
  "language_info": {
   "codemirror_mode": {
    "name": "ipython",
    "version": 2
   },
   "file_extension": ".py",
   "mimetype": "text/x-python",
   "name": "python",
   "nbconvert_exporter": "python",
   "pygments_lexer": "ipython2",
   "version": "2.7.6"
  }
 },
 "nbformat": 4,
 "nbformat_minor": 0
}
