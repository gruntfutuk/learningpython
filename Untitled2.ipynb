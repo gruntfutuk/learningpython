{
 "cells": [
  {
   "cell_type": "code",
   "execution_count": 1,
   "metadata": {},
   "outputs": [],
   "source": [
    "import pandas as pd\n",
    "\n",
    "data = [{'Stuart': 10, 'Lucy': 8, 'David': 13, 'Alexa': 11,},\n",
    "        {'Stuart': 12, 'Lucy': 11, 'David': 18, 'Alexa': 12, 'Ben': 22,},\n",
    "        {'Stuart': 14, 'Lucy': 15, 'David': 20, 'Alexa': 13,},\n",
    "        {'Stuart': 17, 'Lucy': 19, 'David': 22, 'Alexa': 14, 'Ben': 24},]\n",
    "\n",
    "results = pd.DataFrame(data, index=['first', 'second', 'third', 'fourth'])"
   ]
  },
  {
   "cell_type": "code",
   "execution_count": 2,
   "metadata": {},
   "outputs": [
    {
     "data": {
      "text/html": [
       "<div>\n",
       "<style scoped>\n",
       "    .dataframe tbody tr th:only-of-type {\n",
       "        vertical-align: middle;\n",
       "    }\n",
       "\n",
       "    .dataframe tbody tr th {\n",
       "        vertical-align: top;\n",
       "    }\n",
       "\n",
       "    .dataframe thead th {\n",
       "        text-align: right;\n",
       "    }\n",
       "</style>\n",
       "<table border=\"1\" class=\"dataframe\">\n",
       "  <thead>\n",
       "    <tr style=\"text-align: right;\">\n",
       "      <th></th>\n",
       "      <th>Alexa</th>\n",
       "      <th>Ben</th>\n",
       "      <th>David</th>\n",
       "      <th>Lucy</th>\n",
       "      <th>Stuart</th>\n",
       "    </tr>\n",
       "  </thead>\n",
       "  <tbody>\n",
       "    <tr>\n",
       "      <th>first</th>\n",
       "      <td>11</td>\n",
       "      <td>NaN</td>\n",
       "      <td>13</td>\n",
       "      <td>8</td>\n",
       "      <td>10</td>\n",
       "    </tr>\n",
       "    <tr>\n",
       "      <th>second</th>\n",
       "      <td>12</td>\n",
       "      <td>22.0</td>\n",
       "      <td>18</td>\n",
       "      <td>11</td>\n",
       "      <td>12</td>\n",
       "    </tr>\n",
       "    <tr>\n",
       "      <th>third</th>\n",
       "      <td>13</td>\n",
       "      <td>NaN</td>\n",
       "      <td>20</td>\n",
       "      <td>15</td>\n",
       "      <td>14</td>\n",
       "    </tr>\n",
       "    <tr>\n",
       "      <th>fourth</th>\n",
       "      <td>14</td>\n",
       "      <td>24.0</td>\n",
       "      <td>22</td>\n",
       "      <td>19</td>\n",
       "      <td>17</td>\n",
       "    </tr>\n",
       "  </tbody>\n",
       "</table>\n",
       "</div>"
      ],
      "text/plain": [
       "        Alexa   Ben  David  Lucy  Stuart\n",
       "first      11   NaN     13     8      10\n",
       "second     12  22.0     18    11      12\n",
       "third      13   NaN     20    15      14\n",
       "fourth     14  24.0     22    19      17"
      ]
     },
     "execution_count": 2,
     "metadata": {},
     "output_type": "execute_result"
    }
   ],
   "source": [
    "results"
   ]
  },
  {
   "cell_type": "code",
   "execution_count": 16,
   "metadata": {},
   "outputs": [],
   "source": [
    "    def keywords(wordCounts):       \n",
    "        highest = max(wordCounts.values())\n",
    "        words = []\n",
    "        for word, count in wordCounts.items():\n",
    "            if count == highest:\n",
    "                words.append(word)\n",
    "        return words"
   ]
  },
  {
   "cell_type": "code",
   "execution_count": null,
   "metadata": {},
   "outputs": [],
   "source": [
    "test = {'alpha':10, 'beta':5, 'charlie':12, 'delta':12}\n",
    "max(test.values())"
   ]
  },
  {
   "cell_type": "code",
   "execution_count": 9,
   "metadata": {},
   "outputs": [
    {
     "data": {
      "text/plain": [
       "['yellow', 'hadoop', 'elephant']"
      ]
     },
     "execution_count": 9,
     "metadata": {},
     "output_type": "execute_result"
    }
   ],
   "source": [
    "words"
   ]
  },
  {
   "cell_type": "code",
   "execution_count": 14,
   "metadata": {},
   "outputs": [],
   "source": [
    "    def keywords(wordCounts):\n",
    "        return [word for word, count in wordCounts.items() \n",
    "                if count == max(wordCounts.values())]"
   ]
  },
  {
   "cell_type": "code",
   "execution_count": 17,
   "metadata": {},
   "outputs": [
    {
     "data": {
      "text/plain": [
       "['yellow', 'hadoop', 'elephant']"
      ]
     },
     "execution_count": 17,
     "metadata": {},
     "output_type": "execute_result"
    }
   ],
   "source": [
    "keywords(wordCounts)"
   ]
  },
  {
   "cell_type": "code",
   "execution_count": 20,
   "metadata": {},
   "outputs": [
    {
     "name": "stdout",
     "output_type": "stream",
     "text": [
      "True\n"
     ]
    }
   ],
   "source": [
    "    number = 10\n",
    "    x = 5\n",
    "    z = 7\n",
    "\n",
    "    x_lower = x < number\n",
    "    z_lower = z < number\n",
    "    if x_lower and z_lower:\n",
    "        print(\"True\")\n",
    "    else:\n",
    "        print(\"False\")"
   ]
  },
  {
   "cell_type": "code",
   "execution_count": null,
   "metadata": {},
   "outputs": [],
   "source": []
  }
 ],
 "metadata": {
  "kernelspec": {
   "display_name": "Python 3",
   "language": "python",
   "name": "python3"
  },
  "language_info": {
   "codemirror_mode": {
    "name": "ipython",
    "version": 3
   },
   "file_extension": ".py",
   "mimetype": "text/x-python",
   "name": "python",
   "nbconvert_exporter": "python",
   "pygments_lexer": "ipython3",
   "version": "3.7.1"
  }
 },
 "nbformat": 4,
 "nbformat_minor": 2
}
