{
 "cells": [
  {
   "cell_type": "code",
   "execution_count": 2,
   "metadata": {},
   "outputs": [
    {
     "name": "stdout",
     "output_type": "stream",
     "text": [
      "          \n",
      "          *\n",
      "         * *\n",
      "        * * *\n",
      "       * * * *\n",
      "      * * * * *\n",
      "     * * * * * *\n",
      "    * * * * * * *\n",
      "   * * * * * * * *\n",
      "  * * * * * * * * *\n",
      "          \n",
      "          *\n",
      "         * *\n",
      "        * * *\n",
      "       * * * *\n",
      "      * * * * *\n",
      "     * * * * * *\n",
      "    * * * * * * *\n",
      "   * * * * * * * *\n",
      "  * * * * * * * * *\n",
      "\n",
      "         *           \n",
      "        * *          \n",
      "       * * *         \n",
      "      * * * *        \n",
      "     * * * * *       \n",
      "    * * * * * *      \n",
      "   * * * * * * *     \n",
      "  * * * * * * * *    \n",
      " * * * * * * * * *   \n",
      "* * * * * * * * * *  \n"
     ]
    }
   ],
   "source": [
    "''' Beginner Python exercise to print an Isosceles triangle of asterisks with a user specified number of asterisks\n",
    "\tin the base (reduced by one to odd number if an even number is supplied). There is a space between each asterisk.\n",
    "'''\n",
    "\n",
    "''' one liner - cryptic '''\n",
    "def triangle_in_one():\n",
    "    print(*(\" \" * i + \" *\" * j for j, i in enumerate(range(int((int(input('Base size: ')) + 1) / 2) * 2, 0, -1))), sep=\"\\n\")\n",
    "\n",
    "def triangle(base: int) -> str:\n",
    "    ''' return print string of asterisk triangle of indicated base size '''\n",
    "    if not isinstance(base, int):\n",
    "        raise TypeError(f'{base} not valid - triangle function requires an integer parameter')\n",
    "    if base < 2:\n",
    "        raise ValueError(f'{base} not valid - triangle function requires a positive integer over 1 parameter')\n",
    "    apex = int((base + 1) / 2) * 2\n",
    "    triangle_str = ''\n",
    "    for asterisks, spaces in enumerate(range(apex, 0, -1)):\n",
    "        triangle_str += (f'{\" \" * spaces}{\" *\" * asterisks}\\n')\n",
    "    return triangle_str\n",
    "\n",
    "def triangle_one_better(rows):\n",
    "    return '\\n'.join('{:^{width}}'.format(('* ' * row), width=rows * 2 + 1) for row in range(1, rows + 1))\n",
    "\n",
    "if __name__ == \"__main__\":\n",
    "    triangle_in_one()\n",
    "    base = int(input('Base size for rest of solutions: '))\n",
    "    print(triangle(base))\n",
    "    print(triangle_one_better(base))"
   ]
  },
  {
   "cell_type": "code",
   "execution_count": null,
   "metadata": {},
   "outputs": [],
   "source": []
  }
 ],
 "metadata": {
  "kernelspec": {
   "display_name": "Python 3",
   "language": "python",
   "name": "python3"
  },
  "language_info": {
   "codemirror_mode": {
    "name": "ipython",
    "version": 3
   },
   "file_extension": ".py",
   "mimetype": "text/x-python",
   "name": "python",
   "nbconvert_exporter": "python",
   "pygments_lexer": "ipython3",
   "version": "3.7.0b3"
  }
 },
 "nbformat": 4,
 "nbformat_minor": 2
}
