{
 "cells": [
  {
   "cell_type": "markdown",
   "metadata": {},
   "source": [
    "# Capturing print to a list"
   ],
   "execution_count": null,
   "outputs": []
  },
  {
   "cell_type": "code",
   "execution_count": null,
   "metadata": {
    "jupyter": {
     "source_hidden": true
    }
   },
   "outputs": [],
   "source": [
    "from io import StringIO\n",
    "import sys\n",
    "\n",
    "class Print_capture(list):\n",
    "    def __enter__(self):\n",
    "        self._stdout = sys.stdout\n",
    "        sys.stdout = self._stringio = StringIO()\n",
    "        return self\n",
    "    def __exit__(self, *args):\n",
    "        self.extend(self._stringio.getvalue().splitlines())\n",
    "        del self._stringio\n",
    "        sys.stdout = self._stdout\n",
    "\n",
    "with Print_capture() as print_op:\n",
    "    print(f'Mary had many little lambs: {23 * 4}')\n",
    "    print('Have a nice day')\n",
    "\n",
    "for line in print_op:\n",
    "    print(line)"
   ]
  },
  {
   "cell_type": "markdown",
   "metadata": {},
   "source": [
    "# Classes for beginners"
   ],
   "execution_count": null,
   "outputs": []
  },
  {
   "cell_type": "code",
   "execution_count": null,
   "metadata": {
    "jupyter": {
     "source_hidden": true
    }
   },
   "outputs": [],
   "source": [
    "''' CLASSES for beginners - simple example '''\n",
    "\n",
    "class Room():\n",
    "    def __init__(self, name, height, length, width):\n",
    "        self.name = name\n",
    "        self.height = height\n",
    "        self.length = length\n",
    "        self.width = width\n",
    "\n",
    "    @staticmethod\n",
    "    def mm_to_ft(mm):\n",
    "        return mm * 0.0032808399\n",
    "\n",
    "    @staticmethod\n",
    "    def sqmm_to_sqft(sqmm):\n",
    "        return sqmm * 1.07639e-5\n",
    "\n",
    "    def height_in_ft(self):\n",
    "        return Room.mm_to_ft(self.height)\n",
    "\n",
    "    def width_in_ft(self):\n",
    "        return Room.mm_to_ft(self.width)\n",
    "\n",
    "    def length_in_ft(self):\n",
    "        return Room.mm_to_ft(self.length)\n",
    "\n",
    "    def wall_area(self):\n",
    "        return self.length * 2 * self.height + self.width * 2 * self.height\n",
    "\n",
    "\n",
    "lounge = Room('Lounge', 1300, 4000, 2000)\n",
    "snug = Room('Snug', 1300, 2500, 2000)\n",
    "\n",
    "print(lounge.name, lounge.height, lounge.length, lounge.length)\n",
    "print(snug.name, snug.height, snug.length, snug.length)\n",
    "\n",
    "print(lounge.name, 'length in feet:', lounge.height_in_ft())\n",
    "print(f'{snug.name} wall area: {snug.wall_area()} in sq.mm., ' + \\\n",
    "      f'{snug.sqmm_to_sqft(snug.wall_area()):.2f} in sq.ft.')"
   ]
  },
  {
   "cell_type": "markdown",
   "metadata": {},
   "source": [
    "# Simple menu system using a dictionary"
   ],
   "execution_count": null,
   "outputs": []
  },
  {
   "cell_type": "code",
   "execution_count": null,
   "metadata": {
    "jupyter": {
     "source_hidden": true
    }
   },
   "outputs": [],
   "source": [
    "''' Simple menu system using a dictionary as a case/switch alternative\n",
    "\n",
    "    Dictionary, menu, holds menu options (strings) as keys and a tupl value\n",
    "    holding the description of the option, and the name of the \n",
    "    function to fulfil that option:\n",
    "    \n",
    "        {'<option>': ('<decription>', <function>)}\n",
    "    \n",
    "    All the functions have (*args, **kwargs) for future use.\n",
    "    \n",
    "    A decorator is used to add functionality before and after\n",
    "    each option function, in this case just to print the menu\n",
    "    after a function has completed. This can obviously be used \n",
    "    to offer a much wider range of functionality. The exit menu\n",
    "    option is not decorated.\n",
    "    \n",
    "    The action is a while loop one liner, which gets the option selection\n",
    "    from the user and uses it to look up the corresponding function. If there\n",
    "    is not a match, the default function huh is called, which prints an \n",
    "    error message.\n",
    "    \n",
    "    All of the functions except the exit function return True, for the while \n",
    "    loop to continue.\n",
    "    \n",
    "    '''\n",
    "\n",
    "print('\\n\\nSimple menu example - Python approach to switch/case\\n')\n",
    "\n",
    "menu = {}  # name must exist for definitions\n",
    "\n",
    "def menuprint():\n",
    "    print('\\nMenu options:\\n')\n",
    "    for option, action in menu.items():\n",
    "        print(option, action[0])\n",
    "    print()\n",
    "\n",
    "def menuround(func):\n",
    "    def menuandgo(*args, **kwargs):\n",
    "        func(args, kwargs)\n",
    "        menuprint()\n",
    "        return True\n",
    "    return menuandgo\n",
    "\n",
    "@menuround\n",
    "def one(*args, **kwargs):\n",
    "    print('You chose option 1. Singular choice.')\n",
    "\n",
    "@menuround  \n",
    "def two(*args, **kwargs):\n",
    "    print('You chose option 2. Two\\'s company.')\n",
    "\n",
    "@menuround\n",
    "def three(*args, **kwargs):\n",
    "    print('You chose option 3. Three\\'s a crowd.')\n",
    "\n",
    "def ender(*args, **kwargs):\n",
    "    print('You chose option x. Farewell.')\n",
    "    return False\n",
    "\n",
    "@menuround\n",
    "def huh(*args, **kwargs):\n",
    "    print('Sorry, don\\'t know that option.')\n",
    "    return True\n",
    "\n",
    "# update dictionary with options and corresponding functions\n",
    "menu['1'] = ('One', one)\n",
    "menu['2'] = ('Two', two)\n",
    "menu['3'] = ('Three', three)\n",
    "menu['x'] = ('eXit',ender)\n",
    "\n",
    "menuprint()\n",
    "\n",
    "while menu.get(input('Your choice: ').lower(), ('huh', huh))[1](): pass"
   ]
  },
  {
   "cell_type": "markdown",
   "metadata": {},
   "source": [
    "# Simple pandas"
   ],
   "execution_count": null,
   "outputs": []
  },
  {
   "cell_type": "code",
   "execution_count": null,
   "metadata": {
    "jupyter": {
     "source_hidden": true
    }
   },
   "outputs": [],
   "source": [
    "import pandas as pd\n",
    "\n",
    "df = pd.DataFrame([[\"a, b, c, aa, bb, 2019\"], [\"a, d, 18, gb\"], [\"aa, a, dd, fb, la\"], [\"aa, d, ddaa, b, kbb, l\"]], columns=[\"tags\"])\n",
    "tagSet = {(\"aa\", \"d\"), (\"a\", \"aa\"), (\"a\", \"d\"), (\"a\", \"b\")}\n",
    "\n",
    "for tagTuple in tagSet:\n",
    "    for tag_ in tagTuple:\n",
    "        df[f'{tagTuple}: {tag_}'] = df['tags'].str.count(f\"\\\\b{tag_}\\\\b\")\n",
    "df"
   ]
  },
  {
   "cell_type": "markdown",
   "metadata": {},
   "source": [
    "# Is Prime function"
   ],
   "execution_count": null,
   "outputs": []
  },
  {
   "cell_type": "code",
   "execution_count": null,
   "metadata": {
    "jupyter": {
     "source_hidden": true
    }
   },
   "outputs": [],
   "source": [
    "def is_prime(num):\n",
    "    'if num is a Prime number return True, else False'\n",
    "    if not isinstance(num, int) or num < 0:\n",
    "        raise TypeError(f\"{num} is not a positive whole number\")\n",
    "    if num in (0, 1):\n",
    "        return False\n",
    "    if num % 2 == 0:  # check for even numbers\n",
    "        return num == 2\n",
    "    'check odd number divisors up to square root of num'\n",
    "    for divisor in range(3, int(num ** 0.5) + 1, 2):\n",
    "        if num % divisor == 0:\n",
    "            return False\n",
    "    return True"
   ]
  },
  {
   "cell_type": "markdown",
   "metadata": {},
   "source": [
    "# Function to get a validated number"
   ],
   "execution_count": null,
   "outputs": []
  },
  {
   "cell_type": "code",
   "execution_count": null,
   "metadata": {
    "jupyter": {
     "source_hidden": true
    }
   },
   "outputs": [],
   "source": [
    "def return_num(source):\n",
    "    \"\"\"Convert <source> string to a float or int number and return\n",
    "    \n",
    "    If <source> does not provide string object, return original\n",
    "    If <source> cannot be converted to a float or int, return None\n",
    "    (Return an int rather than a float if viable)\n",
    "    \"\"\"\n",
    "    if not isinstance(source, str):  # if type is not a string, return as is\n",
    "        return source\n",
    "    candidate = None  # default if conversion failed\n",
    "    try:\n",
    "        candidate = float(source)  # try float first\n",
    "        candidate = int(source)    # float worked, try int\n",
    "    except ValueError:\n",
    "        pass  # candidate will be None if float failed, or float if int failed\n",
    "    return candidate\n",
    "\n",
    "tests = \"34.5\", \"4\", \"test\", 23.5, [4, 5, \"six\"]\n",
    "for test in tests:\n",
    "    num = return_num(test)\n",
    "    print(f'Trying {test.__repr__():15} {type(num)}')"
   ]
  },
  {
   "cell_type": "markdown",
   "metadata": {},
   "source": [
    "# rock paper scissors Spock lizard game"
   ],
   "execution_count": null,
   "outputs": []
  },
  {
   "cell_type": "code",
   "execution_count": null,
   "metadata": {
    "jupyter": {
     "source_hidden": true
    }
   },
   "outputs": [],
   "source": [
    "    # rock paper scissors Spock lizard game, rules follow:\n",
    "    '''                                                                                                                    \n",
    "    scissors cuts paper                                                                                                    \n",
    "    paper covers rock                                                                                                      \n",
    "    rock crushes lizard                                                                                                    \n",
    "    lizard poisons Spock                                                                                                   \n",
    "    Spock smashes scissors                                                                                                 \n",
    "    scissors decapitates lizard                                                                                            \n",
    "    lizard eats paper                                                                                                      \n",
    "    paper disproves Spock                                                                                                  \n",
    "    Spock vaporizes rock                                                                                                   \n",
    "    rock crushes scissors                                                                                                  \n",
    "    '''\n",
    "\n",
    "    from random import choice\n",
    "    import readline\n",
    "\n",
    "    RULES = list(map(str.split, __doc__.lower().strip().split('\\n')))\n",
    "    OPTIONS = ({winner for winner, verb, loser in RULES}\n",
    "            | {loser for winner, verb, loser in RULES})\n",
    "    PROMPT = f\"Make your choice from: {', '.join(sorted(OPTIONS))} \\n \" \\\n",
    "                f\"(or press return alone to exit)\\n\" \\\n",
    "                f\" choice: \"\n",
    "\n",
    "    def check(playera, playerb, rules=None):\n",
    "        if not rules:\n",
    "            rules = RULES\n",
    "        for rule in rules:\n",
    "            winner, verb, loser = rule\n",
    "            if (playera, playerb) == (winner, loser):\n",
    "                return playera, ' '.join(rule)\n",
    "            if (playerb, playera) == (winner, loser):\n",
    "                return playerb, ' '.join(rule)\n",
    "\n",
    "    print('\\n\\nWelcome to the game of rock paper scissors Spock lizard\\n\\nThe rules are:\\n')\n",
    "    print(__doc__)\n",
    "    print()\n",
    "    while True:\n",
    "        while True:\n",
    "            player = input(PROMPT).lower()\n",
    "            if not player or player in OPTIONS:\n",
    "                break\n",
    "        if not player:\n",
    "            break\n",
    "        computer = choice(list(OPTIONS))    \n",
    "        try:\n",
    "            winner, rule = check(player, computer)\n",
    "            result = 'You WIN!' if player == winner else 'You Lose!'\n",
    "        except TypeError as e:\n",
    "            result, rule = \"TIED\", 'matched'\n",
    "        print(f'{player} v. {computer} -> {result} \\t{rule}')\n",
    "        print()"
   ]
  },
  {
   "cell_type": "markdown",
   "metadata": {},
   "source": [
    "# Excel file handling with openpyxl"
   ],
   "execution_count": null,
   "outputs": []
  },
  {
   "cell_type": "code",
   "execution_count": null,
   "metadata": {},
   "outputs": [],
   "source": [
    "import openpyxl\n",
    "from openpyxl import Workbook\n",
    "from openpyxl import load_workbook\n",
    "from openpyxl.styles import PatternFill\n",
    "from openpyxl.workbook import Workbook\n",
    "from openpyxl.styles import Font, Fill\n",
    "from openpyxl.styles import colors \n",
    "filepath = \"namesplaces.xlsx\"\n",
    "wb = load_workbook(filepath)\n",
    "filepath = \"namesplaces.xlsx\"\n",
    "wb = load_workbook(filepath)\n",
    "sheet = wb.active\n",
    "for row in range(2, 25):\n",
    "    name = sheet.cell(row=row, column=1)\n",
    "    place = sheet.cell(row=row, column=2)\n",
    "    if name.value == None or place.value == None:\n",
    "        break\n",
    "    print(name.value, place.value)\n",
    "    if name.value[0] == place.value[0]:\n",
    "        name.fill = PatternFill(fill_type='solid', start_color='ff8200', end_color='ff8200')\n",
    "        place.fill = PatternFill(fill_type='solid', start_color='ff8200', end_color='ff8200')\n",
    "wb.save(filepath) "
   ]
  },
  {
   "cell_type": "code",
   "execution_count": null,
   "metadata": {},
   "outputs": [],
   "source": [
    "    from random import randint\n",
    "    from string import ascii_lowercase\n",
    "\n",
    "    data = {letter: randint(1,100) for letter in ascii_lowercase}\n",
    "\n",
    "    candidates = []\n",
    "\n",
    "    for letter, number in data.items():\n",
    "        if number % 2:\n",
    "            candidates.append(letter)\n",
    "\n",
    "    for candidate in candidates:\n",
    "        data.pop(candidate)\n",
    "\n",
    "    print(data)"
   ]
  },
  {
   "cell_type": "markdown",
   "metadata": {},
   "source": [
    "# How to Replace Bash with Python as Your Go-To Command Line Language\n",
    "\n",
    "https://www.freecodecamp.org/news/python-for-system-administration-tutorial/"
   ],
   "execution_count": null,
   "outputs": []
  },
  {
   "cell_type": "markdown",
   "metadata": {},
   "source": [
    "## libraries required typically"
   ],
   "execution_count": null,
   "outputs": []
  },
  {
   "cell_type": "code",
   "execution_count": null,
   "metadata": {},
   "outputs": [],
   "source": [
    "import os\n",
    "import subprocess\n",
    "import shutil\n",
    "from pprint import pprint"
   ]
  },
  {
   "cell_type": "markdown",
   "metadata": {},
   "source": [
    "Get your current working directly\n",
    "This returns a string"
   ],
   "execution_count": null,
   "outputs": []
  },
  {
   "cell_type": "code",
   "execution_count": null,
   "metadata": {},
   "outputs": [],
   "source": [
    "my_cwd = os.getcwd()\n",
    "print(my_cwd)"
   ]
  },
  {
   "cell_type": "markdown",
   "metadata": {},
   "source": [
    "List the contents of a directory\n",
    "This returns a list"
   ],
   "execution_count": null,
   "outputs": []
  },
  {
   "cell_type": "code",
   "execution_count": null,
   "metadata": {
    "collapsed": true,
    "jupyter": {
     "outputs_hidden": true
    }
   },
   "outputs": [],
   "source": [
    "dir_list = os.listdir()\n",
    "for item in dir_list:\n",
    "    print(item)"
   ]
  },
  {
   "cell_type": "markdown",
   "metadata": {},
   "source": [
    "Get the Absolute Path name of a file (file + current working dir)"
   ],
   "execution_count": null,
   "outputs": []
  },
  {
   "cell_type": "code",
   "execution_count": null,
   "metadata": {},
   "outputs": [],
   "source": [
    "os.path.abspath('some-file')"
   ]
  },
  {
   "cell_type": "markdown",
   "metadata": {},
   "source": [
    "Get the basename - returns file"
   ],
   "execution_count": null,
   "outputs": []
  },
  {
   "cell_type": "code",
   "execution_count": null,
   "metadata": {
    "jupyter": {
     "source_hidden": true
    }
   },
   "outputs": [],
   "source": [
    "os.path.basename('/path/to/file')"
   ]
  },
  {
   "cell_type": "markdown",
   "metadata": {},
   "source": [
    "Split a directory path - platform independent"
   ],
   "execution_count": null,
   "outputs": []
  },
  {
   "cell_type": "code",
   "execution_count": null,
   "metadata": {},
   "outputs": [],
   "source": [
    "os.path.split(os.getcwd())"
   ]
  },
  {
   "cell_type": "markdown",
   "metadata": {},
   "source": [
    "Check if a path exists"
   ],
   "execution_count": null,
   "outputs": []
  },
  {
   "cell_type": "code",
   "execution_count": null,
   "metadata": {},
   "outputs": [],
   "source": [
    "os.path.exists('/path/on/filesystem')"
   ]
  },
  {
   "cell_type": "markdown",
   "metadata": {},
   "source": [
    "Check if a path is a symlink"
   ],
   "execution_count": null,
   "outputs": []
  },
  {
   "cell_type": "code",
   "execution_count": null,
   "metadata": {},
   "outputs": [],
   "source": [
    "os.path.islink('test.txt')"
   ]
  },
  {
   "cell_type": "markdown",
   "metadata": {},
   "source": [
    "Copy a directory\n",
    "cp -rf"
   ],
   "execution_count": null,
   "outputs": []
  },
  {
   "cell_type": "code",
   "execution_count": null,
   "metadata": {},
   "outputs": [],
   "source": [
    "shutil.copytree('src', 'dest')"
   ]
  },
  {
   "cell_type": "markdown",
   "metadata": {},
   "source": [
    "Copy a file\n",
    "cp -rf"
   ],
   "execution_count": null,
   "outputs": []
  },
  {
   "cell_type": "code",
   "execution_count": null,
   "metadata": {},
   "outputs": [],
   "source": [
    "shutil.copyfile('test.txt', 'testcopy.txt')"
   ]
  },
  {
   "cell_type": "markdown",
   "metadata": {},
   "source": [
    "Move a directory\n",
    "mv"
   ],
   "execution_count": null,
   "outputs": []
  },
  {
   "cell_type": "code",
   "execution_count": null,
   "metadata": {},
   "outputs": [],
   "source": [
    "shutil.move('oneliners', 'oneliners_moved')"
   ]
  },
  {
   "cell_type": "code",
   "execution_count": null,
   "metadata": {},
   "outputs": [],
   "source": [
    "shutil.move('oneliners_moved', 'oneliners')"
   ]
  },
  {
   "cell_type": "code",
   "execution_count": null,
   "metadata": {},
   "outputs": [],
   "source": [
    "# Run an arbitrary system command\n",
    "command = \"echo 'hello'\"\n",
    "result = subprocess.run(command.split(' '), stdout=subprocess.PIPE, stderr=subprocess.PIPE)\n",
    "#Print the stdout and stderr\n",
    "print(result.stdout)\n",
    "print(result.stderr)"
   ]
  },
  {
   "cell_type": "code",
   "execution_count": null,
   "metadata": {},
   "outputs": [],
   "source": []
  }
 ],
 "metadata": {
  "kernelspec": {
   "display_name": "Python 3",
   "language": "python",
   "name": "python3"
  },
  "language_info": {
   "codemirror_mode": {
    "name": "ipython",
    "version": 3
   },
   "file_extension": ".py",
   "mimetype": "text/x-python",
   "name": "python",
   "nbconvert_exporter": "python",
   "pygments_lexer": "ipython3",
   "version": "3.8.2-final"
  }
 },
 "nbformat": 4,
 "nbformat_minor": 4
}