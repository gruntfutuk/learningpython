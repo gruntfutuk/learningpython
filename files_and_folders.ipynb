{
 "cells": [
  {
   "cell_type": "code",
   "execution_count": null,
   "metadata": {},
   "outputs": [],
   "source": [
    "''' create files and folders '''\n",
    "import os\n",
    "\n",
    "def touch(path):\n",
    "    with open(path, 'a'):\n",
    "        os.utime(path, None)\n",
    "\n",
    "files_and_folders = ['folder1/', 'folder2/', 'filea.txt','folderb/','folder1/folderx/',\n",
    "                        'folder1/foldery/', 'folder1/folderx/filex.png', 'folder2/filez.png',\n",
    "                    'folder1/f2/f3/f4/f5/file6.txt']\n",
    "\n",
    "for path_name in files_and_folders:\n",
    "    base_dir, file_name = os.path.split(path_name)\n",
    "    print(f'pathname: <{path_name}>, base: <{base_dir}>, file: <{file_name}>)')\n",
    "    if base_dir and not os.path.exists(base_dir):\n",
    "        print(f'creating <{base_dir}>')\n",
    "        os.makedirs(base_dir)\n",
    "    if filename and not os.path.exists(path_name):\n",
    "        print(f'creating file: <{path_name}>')\n",
    "        touch(path_name)\n",
    "        "
   ]
  },
  {
   "cell_type": "code",
   "execution_count": null,
   "metadata": {},
   "outputs": [],
   "source": [
    "def search_file(search, filename):\n",
    "    with open(filename, 'r') as source:\n",
    "        for line in source:\n",
    "            if search in line:\n",
    "                yield line\n",
    "\n",
    "for matched_line in search_file('test', 'test.txt'):\n",
    "    print(matched_line)"
   ]
  }
 ],
 "metadata": {
  "kernelspec": {
   "display_name": "Python 3",
   "language": "python",
   "name": "python3"
  },
  "language_info": {
   "codemirror_mode": {
    "name": "ipython",
    "version": 3
   },
   "file_extension": ".py",
   "mimetype": "text/x-python",
   "name": "python",
   "nbconvert_exporter": "python",
   "pygments_lexer": "ipython3",
   "version": "3.7.0"
  }
 },
 "nbformat": 4,
 "nbformat_minor": 2
}
