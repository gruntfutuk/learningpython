{
 "cells": [
  {
   "cell_type": "code",
   "execution_count": null,
   "metadata": {},
   "outputs": [],
   "source": [
    "from IPython.core.display import display, HTML\n",
    "display(HTML(\"<style>.container { width:100% !important; }</style>\"))"
   ]
  },
  {
   "cell_type": "code",
   "execution_count": null,
   "metadata": {},
   "outputs": [],
   "source": [
    "if __name__ == \"__main__\":\n",
    "    scores = []\n",
    "    for _ in range(int(input())):\n",
    "        name = input()\n",
    "        score = float(input())\n",
    "        scores.append([name, score])\n",
    "    next_lowest = list(sorted(set([score for _, score in scores])))[1]\n",
    "    for name, score in scores:\n",
    "        if score == next_lowest:\n",
    "            print(name)"
   ]
  },
  {
   "cell_type": "code",
   "execution_count": null,
   "metadata": {},
   "outputs": [],
   "source": [
    "import pandas as pd\n",
    "\n",
    "source = '1.0,10,2.0,20, 3.3, 45:K60;1.0,5,2.0,10, 3.3, 50:K90;'\n",
    "\n",
    "series = source.split(';')"
   ]
  },
  {
   "cell_type": "code",
   "execution_count": null,
   "metadata": {},
   "outputs": [],
   "source": [
    "import pandas as pd\n",
    "import datetime\n",
    "import pandas.io.data as web\n",
    "import matplotlib.pyplot as plt\n",
    "from matplotlib import style\n",
    "\n",
    "style.use('ggplot')\n",
    "\n",
    "start = datetime.datetime(2010, 1, 1)\n",
    "end = datetime.datetime(2015, 1, 1)\n",
    "\n",
    "df = wed.DataReader(\"XOM\", \"yahoo\", start, end)\n",
    "\n",
    "print(df.head)"
   ]
  },
  {
   "cell_type": "code",
   "execution_count": 79,
   "metadata": {},
   "outputs": [
    {
     "name": "stdout",
     "output_type": "stream",
     "text": [
      "Enter a number: \n",
      "Please enter an integer or decimal number.\n",
      "Enter a number: Test\n",
      "Please enter an integer or decimal number.\n",
      "Enter a number: 2\n",
      "square of 2 is 4\n",
      "Enter a number: 3\n",
      "cube of 3 is 27\n",
      "Enter a number: 4\n",
      "square of 4 is 16\n",
      "Enter a number: 5\n",
      "cube of 5 is 125\n"
     ]
    }
   ],
   "source": [
    "class Number():\n",
    "\n",
    "    def getNumber(self, msg = \"Enter a number: \"):\n",
    "        ''' get numeric input; reject null and non-numeric (float and int) responses;\n",
    "            store as self.number '''\n",
    "        \n",
    "        while True:  # keep going until acceptable input is provided\n",
    "            response = input(msg)\n",
    "            number = None  # needed to check if exception triggered on float or int\n",
    "            if response:  # if user entered something, not just return                try:\n",
    "                    number = float(response)  # see if we can cast to float first\n",
    "                    number = int(response)  # float worked, is integer possible?\n",
    "                except ValueError as e:\n",
    "                    if number:  # int cast failed but float must have worked\n",
    "                        break  # break out of input while loop\n",
    "                else:  # int must have worked\n",
    "                    break  # break out of input while loop\n",
    "            print('Please enter an integer or decimal number.')\n",
    "        \n",
    "        self.number = number  # finally, we store the number, type of int or float\n",
    "\n",
    "class Square(Number):\n",
    "    \n",
    "    def getSquare(self):\n",
    "        ''' return square of self.number - if self.number isn't set, get input '''\n",
    "        if not hasattr(self, 'number') or self.number == None:\n",
    "            super().getNumber()\n",
    "        return self.number * self.number\n",
    "\n",
    "class Cube(Number):\n",
    "    \n",
    "    def getCube(self):\n",
    "        ''' return cube of self.number - if self.number isn't set, get input '''\n",
    "        if not hasattr(self, 'number') or self.number == None:\n",
    "            super().getNumber()\n",
    "        return self.number * self.number * self.number\n",
    "\n",
    "objS = Square()\n",
    "objS.getNumber()\n",
    "print(f'square of {objS.number} is {objS.getSquare()}')\n",
    "objC = Cube()\n",
    "objC.getNumber()\n",
    "print(f'cube of {objC.number} is {objC.getCube()}')\n",
    "\n",
    "objX = Square()\n",
    "x_squared = objX.getSquare()\n",
    "print(f'square of {objX.number} is {x_squared}')\n",
    "objY = Cube()\n",
    "y_cubed = objY.getCube()\n",
    "print(f'cube of {objY.number} is {y_cubed}')"
   ]
  },
  {
   "cell_type": "code",
   "execution_count": 83,
   "metadata": {},
   "outputs": [
    {
     "name": "stdout",
     "output_type": "stream",
     "text": [
      "20 returns 1, 1, 1\n",
      "15.1 returns 1, 1, 1\n",
      "-6.3 returns -1, -1, -1\n",
      "0 returns 1, 1, 0\n",
      "-3 returns -1, -1, -1\n"
     ]
    }
   ],
   "source": [
    "def neg_pos(num):\n",
    "    return -1 if num < 0 else 1\n",
    "\n",
    "sign1 = lambda x: (1, -1)[x < 0] # for -1, or 1 (0 returns 1)\n",
    "sign0 = lambda x: x and (1, -1)[x < 0] # for -1, 0, 1\n",
    "\n",
    "for val in [20, 15.1,  -6.3, 0, -3]:\n",
    "    print(f'{val} returns {neg_pos(val)}, {sign1(val)}, {sign0(val)}')"
   ]
  },
  {
   "cell_type": "code",
   "execution_count": 93,
   "metadata": {},
   "outputs": [
    {
     "name": "stdout",
     "output_type": "stream",
     "text": [
      "False\n",
      "False\n"
     ]
    }
   ],
   "source": [
    "def validate_rows(grid):\n",
    "    flat = [element for row in grid for element in set(row)]\n",
    "    return len(flat) == len(set(flat))\n",
    "\n",
    "grid = [[1, 1, 1], [4, 5, 6], [7, 8, 9], [10, 11, 12]]\n",
    "print(validate_rows(grid))\n",
    "\n",
    "grid = [[1, 2, 3], [4, 10, 7], [7, 8, 9], [10, 11, 12]]\n",
    "print(validate_rows(grid))"
   ]
  },
  {
   "cell_type": "code",
   "execution_count": 144,
   "metadata": {},
   "outputs": [
    {
     "name": "stdout",
     "output_type": "stream",
     "text": [
      "Enter an integer: 1234\n",
      "1 2 3 4 \n",
      "1 2 3 4 \n",
      "1 2 3 4\n"
     ]
    }
   ],
   "source": [
    "import math\n",
    "\n",
    "while True:\n",
    "    try:\n",
    "        response = input('Enter an integer: ')\n",
    "        num = int(response)\n",
    "    except ValueError as e:\n",
    "        print(e)\n",
    "        pass\n",
    "    else:\n",
    "        break\n",
    "    \n",
    "digits = [(num // ( 10**n )) % 10 for n in range(math.ceil(math.log(num, 10)) -1, -1, -1)]\n",
    "nums = [int(c) for c in response]\n",
    "chars = [c for c in response]\n",
    "\n",
    "for digit in digits:\n",
    "    print(f'{digit}', end=' ')\n",
    "print()\n",
    "for num in nums:\n",
    "    print(f'{num}', end = ' ')\n",
    "print()    \n",
    "print(' '.join(chars))"
   ]
  },
  {
   "cell_type": "code",
   "execution_count": null,
   "metadata": {},
   "outputs": [],
   "source": []
  }
 ],
 "metadata": {
  "kernelspec": {
   "display_name": "Python 3",
   "language": "python",
   "name": "python3"
  },
  "language_info": {
   "codemirror_mode": {
    "name": "ipython",
    "version": 3
   },
   "file_extension": ".py",
   "mimetype": "text/x-python",
   "name": "python",
   "nbconvert_exporter": "python",
   "pygments_lexer": "ipython3",
   "version": "3.7.0"
  }
 },
 "nbformat": 4,
 "nbformat_minor": 2
}
