{
 "cells": [
  {
   "cell_type": "code",
   "execution_count": 3,
   "metadata": {},
   "outputs": [],
   "source": [
    "def Nikolaos_Konstantopoulos_tricky(sliding, base):\n",
    "    answers = list()\n",
    "    base_len    = len(base)\n",
    "    sliding_len = len(sliding)\n",
    "    offset = 0\n",
    "    \n",
    "    while base_len <= (sliding_len - offset):\n",
    "        res = 0\n",
    "        for i in range(base_len):\n",
    "            res += base[i] * sliding[i + offset]\n",
    "        answers.append(res)\n",
    "        offset += 1\n",
    "        \n",
    "    return answers\n",
    "\n",
    "def ray_ziemelis_sliding_array(slide, base):\n",
    "    answers = []\n",
    "    for n in range(len(slide) + 1 - len(base)):\n",
    "        result = list(zip(slide[n:], base))\n",
    "        answer = sum([(i[0] * i[1]) for i in result])\n",
    "        answers.append(answer)\n",
    "\n",
    "    return answers"
   ]
  },
  {
   "cell_type": "code",
   "execution_count": 4,
   "metadata": {},
   "outputs": [
    {
     "name": "stdout",
     "output_type": "stream",
     "text": [
      "\n",
      "\n",
      "Testing function Nikolaos_Konstantopoulos_tricky:\n",
      "\n",
      "Passed: [10, 490, 1210, 2330, 3320, 2370, 1190]\n",
      "Passed: [80, 210, 1385, 1285, 1145, 680, 140]\n",
      "\n",
      "\n",
      "Testing function ray_ziemelis_sliding_array:\n",
      "\n",
      "Passed: [10, 490, 1210, 2330, 3320, 2370, 1190]\n",
      "Passed: [80, 210, 1385, 1285, 1145, 680, 140]\n"
     ]
    }
   ],
   "source": [
    "def test_funcs(*funcs):\n",
    "    import traceback\n",
    "    \n",
    "    tests = [(  [-1, 2, -2, 3, 41, 38, 22, 10, -1, 3], \n",
    "                [40, 30, 20, 10],\n",
    "                [10, 490, 1210, 2330, 3320, 2370, 1190] ),\n",
    "             (  [56, -34, 20, -8, 15, 57,16, 13, 2, -5], \n",
    "                [5, 10, 15, 20],\n",
    "                [80, 210, 1385, 1285, 1145, 680, 140] )               \n",
    "            ]\n",
    "    \n",
    "    for func in funcs:\n",
    "        print(f'\\n\\nTesting function {func.__name__}:\\n')\n",
    "        for sliding, base, answers in tests:\n",
    "            result = func(sliding, base)\n",
    "            try:\n",
    "                assert result == answers\n",
    "            except AssertionError:\n",
    "                print(f'FAILED with {result}')\n",
    "                print(f' sliding: {sliding}')\n",
    "                print(f' base: base: {base}')\n",
    "                print(f' expected: {answers}')\n",
    "            else:\n",
    "                print(f'Passed: {result}')\n",
    "\n",
    "''' testing functions '''\n",
    "if __name__ == '__main__':\n",
    "    func_list = [func for name, func in globals().items() \n",
    "                 if callable(func) and name[0:2] not in ('__')\n",
    "                    and name[0:4] not in ('exit', 'quit', 'get_', 'test')]\n",
    "    test_funcs(*func_list)\n",
    "    "
   ]
  },
  {
   "cell_type": "code",
   "execution_count": null,
   "metadata": {},
   "outputs": [],
   "source": []
  },
  {
   "cell_type": "code",
   "execution_count": null,
   "metadata": {},
   "outputs": [],
   "source": []
  }
 ],
 "metadata": {
  "kernelspec": {
   "display_name": "Python 3",
   "language": "python",
   "name": "python3"
  },
  "language_info": {
   "codemirror_mode": {
    "name": "ipython",
    "version": 3
   },
   "file_extension": ".py",
   "mimetype": "text/x-python",
   "name": "python",
   "nbconvert_exporter": "python",
   "pygments_lexer": "ipython3",
   "version": "3.7.1"
  }
 },
 "nbformat": 4,
 "nbformat_minor": 2
}
