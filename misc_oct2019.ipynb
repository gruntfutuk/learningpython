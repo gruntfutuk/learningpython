{
 "cells": [
  {
   "cell_type": "code",
   "execution_count": null,
   "metadata": {},
   "outputs": [],
   "source": [
    "while True:\n",
    "....user_input= input('Please enter number or some text: (return to exit) ').strip()\n",
    "....if user_input:  # if user entered anything ...\n",
    "........kind = 'string'  # default, unless discover otherwise\n",
    "........if user_input.isdigit():  # contains only digits\n",
    "............kind = 'integer'\n",
    "........elif user_input.count('.') == 1:  # contains only 1 decimal point\n",
    "............# extract text before and after decimal point\n",
    "............before, _, after = user_input.partition('.')\n",
    "............# and check each of those contains only digits (or nothing after the .)\n",
    "............if (not before or before.isdigit()) and \\\n",
    "................(not after or after.isdigit()) and \\\n",
    "................user_input != \".\":\n",
    "................kind = 'float'\n",
    "........print(f'You entered a {kind}')\n",
    "....else:\n",
    "........print('bye')\n",
    "........break"
   ]
  },
  {
   "cell_type": "code",
   "execution_count": null,
   "metadata": {},
   "outputs": [],
   "source": []
  },
  {
   "cell_type": "code",
   "execution_count": null,
   "metadata": {},
   "outputs": [],
   "source": [
    "def is_increasing(arr:list, strict:bool=False) -> bool:\n",
    "....'return True if list values rise (no duplicates if strict == True)'\n",
    "....for x, y in zip(arr, arr[1:]):\n",
    "........if not strict and x > y or strict and x >= y:\n",
    "............return False\n",
    "....return True"
   ]
  },
  {
   "cell_type": "code",
   "execution_count": null,
   "metadata": {},
   "outputs": [],
   "source": [
    "is_increasing([4,5,5,6], True)"
   ]
  },
  {
   "cell_type": "code",
   "execution_count": null,
   "metadata": {},
   "outputs": [],
   "source": [
    "with open(\"scoredetails.txt\",\"w\") as file:\n",
    "\n",
    "....date = input(\"Enter the date in DDMMYY: \")\n",
    "\n",
    "....while True:\n",
    "\n",
    "........membership_no = input(\"Enter the MembershipNo: (enter to exit) \")\n",
    "........if not membership_no:\n",
    "............break\n",
    "\n",
    "........while True:\n",
    "............score = input(\"Enter the score: \")\n",
    "............if score.isdigit():\n",
    "................score = int(score)\n",
    "................if 50 <= score <= 99:\n",
    "....................break\n",
    "............print(\"Wrong score please try again.\")\n",
    "\n",
    "........file.write(f'{date}{membership_no}{score}\\n')"
   ]
  },
  {
   "cell_type": "code",
   "execution_count": null,
   "metadata": {},
   "outputs": [],
   "source": [
    "!cat scoredetails.txt"
   ]
  },
  {
   "cell_type": "code",
   "execution_count": null,
   "metadata": {},
   "outputs": [],
   "source": [
    "C = [ 7, 5, 4, 4, 3, 1, -2, -3, -5, -7]\n",
    "print(sum((num for num in C  if num < 0)))"
   ]
  },
  {
   "cell_type": "code",
   "execution_count": null,
   "metadata": {},
   "outputs": [],
   "source": [
    "C = [ 7, 5, 4, 4, 3, 1, -2, -3, -5, -7]\n",
    "\n",
    "limit = len(C)\n",
    "idx = 0\n",
    "total = 0\n",
    "while idx < limit:\n",
    "....num = C[idx]\n",
    "....if num < 0:\n",
    "........total += num\n",
    "....idx += 1\n",
    "print(total)"
   ]
  },
  {
   "cell_type": "code",
   "execution_count": null,
   "metadata": {},
   "outputs": [],
   "source": [
    "def try_me():\n",
    "....inp = int(input('Please enter an odd number greater than 4: '))\n",
    "....a = 1\n",
    "....b=inp-2\n",
    "....converter = ('*'*inp)\n",
    "\n",
    "....for j in range(inp):\n",
    "........print('*'*a)\n",
    "........a += 2\n",
    "........if j > inp/2-2:\n",
    "............break\n",
    "....print(converter)\n",
    "....for a in range(inp):\n",
    "........print('*'*b)\n",
    "........b -=2"
   ]
  },
  {
   "cell_type": "code",
   "execution_count": null,
   "metadata": {},
   "outputs": [],
   "source": [
    "from io import StringIO"
   ]
  },
  {
   "cell_type": "code",
   "execution_count": null,
   "metadata": {},
   "outputs": [],
   "source": [
    "import sys\n",
    "\n",
    "class Print_trap(list):\n",
    "....def __enter__(self):\n",
    "........self._stdout = sys.stdout\n",
    "........sys.stdout = self._stringio = StringIO()\n",
    "........return self\n",
    "....def __exit__(self, *args):\n",
    "........self.extend(self._stringio.getvalue().splitlines())\n",
    "........del self._stringio\n",
    "........sys.stdout = self._stdout\n",
    "\n",
    "........\n",
    "test_funcs = [diamond]\n",
    "tests = 3, 5, 11\n",
    "for test in tests:\n",
    "....with Print_trap() as target:\n",
    "........diamond(int(test/2))\n",
    "....for func in test_funcs:\n",
    "........with Print_trap() as virt_print:\n",
    "............func(int(test/2))....\n",
    "........if virt_print == target:\n",
    "............print('passed', end='')\n",
    "........else:\n",
    "............print('failed', end='')\n",
    "........newline = f'\\n'\n",
    "........print(f\"\\n{newline.join(virt_print)}\\n\")"
   ]
  },
  {
   "cell_type": "code",
   "execution_count": null,
   "metadata": {},
   "outputs": [],
   "source": [
    "with Print_trap() as virt_print:\n",
    "....try_me()"
   ]
  },
  {
   "cell_type": "code",
   "execution_count": null,
   "metadata": {},
   "outputs": [],
   "source": [
    "virt_print"
   ]
  },
  {
   "cell_type": "code",
   "execution_count": null,
   "metadata": {},
   "outputs": [],
   "source": [
    "try_me()"
   ]
  },
  {
   "cell_type": "code",
   "execution_count": null,
   "metadata": {},
   "outputs": [],
   "source": [
    "def diamond(rows):\n",
    "....spaces = \" \" * (rows * 2)\n",
    "....stars = \"* \"\n",
    "....for _ in range(rows):\n",
    "........print(f\"{spaces}{stars}\")\n",
    "........spaces = spaces[2:]\n",
    "........stars += \"* * \"\n",
    "....for _ in range(rows + 1):\n",
    "........print(f\"{spaces}{stars}\")\n",
    "........spaces += \"  \"\n",
    "........stars = stars[4:]\n",
    "........\n",
    "try:\n",
    "....height = int(input('Enter height (>4 and odd): '))\n",
    "....if not height > 4 or not height & 1:\n",
    "........raise ValueError\n",
    "except ValueError:\n",
    "....print('That is not going to work')\n",
    "....height = None\n",
    "................  \n",
    "if height:\n",
    "....diamond(int(height/2))"
   ]
  },
  {
   "cell_type": "code",
   "execution_count": null,
   "metadata": {},
   "outputs": [],
   "source": [
    "target = '''\n",
    "........  * \n",
    "........* * * \n",
    "....  * * * * * \n",
    "....* * * * * * * \n",
    "  * * * * * * * * * \n",
    "* * * * * * * * * * * \n",
    "  * * * * * * * * * \n",
    "....* * * * * * * \n",
    "....  * * * * * \n",
    "........* * * \n",
    "........  * \n",
    "'''"
   ]
  },
  {
   "cell_type": "code",
   "execution_count": null,
   "metadata": {},
   "outputs": [],
   "source": [
    "target_list = target.split('\\n')[1:-1]"
   ]
  },
  {
   "cell_type": "code",
   "execution_count": null,
   "metadata": {},
   "outputs": [],
   "source": [
    "target_list"
   ]
  },
  {
   "cell_type": "code",
   "execution_count": null,
   "metadata": {},
   "outputs": [],
   "source": [
    "C = [ 7, 5, 4, 4, 3, 1, -2, -3, -5, -7]\n",
    "x = 0\n",
    "for c in C: x += c if c < 0 else 0\n",
    "print(x)"
   ]
  },
  {
   "cell_type": "code",
   "execution_count": null,
   "metadata": {},
   "outputs": [],
   "source": [
    "largest = smallest = None\n",
    "while True:\n",
    "....num = input(\"Enter a number: \").lower().strip()\n",
    "....if num == \"done\":\n",
    "........break\n",
    "....if num and (num.isdigit() or (num[0] == \"-\" and num[1:].isdigit())):\n",
    "........num = int(num)\n",
    "........if largest is None or num > largest:\n",
    "............largest = num\n",
    "........if smallest is None or num < smallest:\n",
    "............smallest = num\n",
    "....else:\n",
    "........print('not a number, please try again')\n",
    "print(f'Largest is: {largest}, smallest: {smallest}')"
   ]
  },
  {
   "cell_type": "code",
   "execution_count": null,
   "metadata": {},
   "outputs": [],
   "source": [
    "[(0, 'a'), (2, 'b'), (2, 'b'), (7, 'c')] == [(0, 'a'), (2, 'b'), (2, 'b'), (7, 'c')]"
   ]
  },
  {
   "cell_type": "code",
   "execution_count": null,
   "metadata": {},
   "outputs": [],
   "source": [
    "def slice(source, target):\n",
    "....size_target = len(target)\n",
    "....size_source = len(source)\n",
    "....if size_source < size_target:\n",
    "........raise ValueError('match string longer than source string')\n",
    "....for idx in range(size_source - size_target):\n",
    "........yield source[idx:idx+size_target]\n",
    "\n",
    "target = 'AA'\n",
    "source = 'abdeeAAbAAAbfde'\n",
    "counter = 0\n",
    "for chunk in slice(source, target):\n",
    "....if chunk == target:\n",
    "........counter += 1\n",
    "\n",
    "print(counter)"
   ]
  },
  {
   "cell_type": "code",
   "execution_count": null,
   "metadata": {},
   "outputs": [],
   "source": [
    "with open('delme.txt', 'w') as file:\n",
    "....text = 'hello world'\n",
    "....file.write(text)\n",
    "....\n",
    "content = open(file.name).read()\n",
    "print(content)\n",
    "print(file.closed)"
   ]
  },
  {
   "cell_type": "code",
   "execution_count": null,
   "metadata": {},
   "outputs": [],
   "source": [
    "text"
   ]
  },
  {
   "cell_type": "code",
   "execution_count": null,
   "metadata": {},
   "outputs": [],
   "source": [
    "words = [\"hello\", \"world\", \"spam\", \"eggs\"]\n",
    "counter = 0\n",
    "max_index = len(words) - 1\n",
    "while counter <= max_index:\n",
    "....word = words[counter]\n",
    "....print(word + \"!\")\n",
    "....counter = counter + 1"
   ]
  },
  {
   "cell_type": "code",
   "execution_count": null,
   "metadata": {},
   "outputs": [],
   "source": [
    "words = [\"hello\", \"world\", \"spam\", \"eggs\"]\n",
    "for word in words:\n",
    "....print(f'{word}!')"
   ]
  },
  {
   "cell_type": "code",
   "execution_count": null,
   "metadata": {},
   "outputs": [],
   "source": [
    "num = 10\n",
    "while num > 0:\n",
    "....print(num)\n",
    "....num = num -1"
   ]
  },
  {
   "cell_type": "code",
   "execution_count": null,
   "metadata": {},
   "outputs": [],
   "source": []
  },
  {
   "cell_type": "code",
   "execution_count": null,
   "metadata": {},
   "outputs": [],
   "source": [
    "def print_and_dec_to_1(num):\n",
    "....if num > 0:\n",
    "........print(num)\n",
    "........print_and_dec_to_1(num - 1)\n",
    "....\n",
    "print_and_dec_to_1(10)"
   ]
  },
  {
   "cell_type": "code",
   "execution_count": null,
   "metadata": {},
   "outputs": [],
   "source": [
    "import hashlib\n",
    "import time\n",
    "\n",
    "md5_pass = input(\"md5>\")\n",
    "md5_file_loc = input(\"PW List>\")\n",
    "\n",
    "md5_file = open(f'data/{md5_file_loc}', \"r\")\n",
    "\n",
    "for counter, password in enumerate(md5_file, start=1):\n",
    "....hash_obj_1 = hashlib.md5(password.encode('utf-8'))\n",
    "....hash_obj = hash_obj_1.hexdigest()\n",
    "....print(hash_obj)\n",
    "\n",
    "....if hash_obj == md5_pass:\n",
    "........print(f'\\n[Match found]: \"{password}\"')\n",
    "........break"
   ]
  },
  {
   "cell_type": "code",
   "execution_count": null,
   "metadata": {},
   "outputs": [],
   "source": [
    "for y, x in enumerate(range(ord(\"!\"), ord(\"~\")+1), start=1):\n",
    "....print(chr(x), end=('\\n' if not y % 10 else ' '))"
   ]
  },
  {
   "cell_type": "code",
   "execution_count": null,
   "metadata": {},
   "outputs": [],
   "source": [
    "print('Great taste')\n",
    "size = 10\n",
    "print(f'Count up to {size}')\n",
    "nums = []\n",
    "while len(nums) < size:\n",
    "....try:\n",
    "........nums.append(int(input('Let: ')))\n",
    "....except ValueError:\n",
    "........print('Sorry, not a number, try again.')\n",
    "print(f'{nums}\\n{max(nums)} is Highest Number')"
   ]
  },
  {
   "cell_type": "code",
   "execution_count": null,
   "metadata": {},
   "outputs": [],
   "source": [
    "print('Great taste')\n",
    "size = 10\n",
    "print(f'Count up to {size}')\n",
    "nums = []\n",
    "while len(nums) < size:\n",
    "....try:\n",
    "........nums.append(int(input('Let: ')))\n",
    "....except ValueError:\n",
    "........print('Sorry, not a number, try again.')\n",
    "print(f'{nums}\\n{max(nums)} is Highest Number')"
   ]
  },
  {
   "cell_type": "code",
   "execution_count": null,
   "metadata": {},
   "outputs": [],
   "source": [
    "from random import randint\n",
    "\n",
    "def get_hole_distance():\n",
    "....while True:\n",
    "........try:\n",
    "............hole_distance = int(input(\"How many meters to the hole (between 195 - 250 inclusive)?\"))\n",
    "............if 195 <= hole_distance <= 250:\n",
    "................return hole_distance\n",
    "........except ValueError:\n",
    "............pass\n",
    "........print(\"I'm sorry, you must choose a distance from hole between 195 - 250 inclusive. Please enter again.\")\n",
    "\n",
    "def menu():\n",
    "....print(\"\\n\\nMenu\")\n",
    "....print(\"(I) Instructions\")\n",
    "....print(\"(P) Play\")\n",
    "....print(\"(Q) Quit\")\n",
    "....while True:\n",
    "........selection = input(\"Enter your choice\").upper()\n",
    "........if selection and selection in ('I', 'P', 'Q'):\n",
    "............return selection\n",
    "........print('Sorry, not an available option. Please try again.')\n",
    "\n",
    "def instructions():\n",
    "....print(\"\\n\\nThe Golf Game\\n\\n\")\n",
    "\n",
    "\n",
    "....\n",
    "....\n",
    "....\n",
    "def play(distance, par):\n",
    "....\n",
    "....def status():\n",
    "........print(\"The game distance is \", game_distance, \" as per your request.\")\n",
    "........if shots > par:\n",
    "............print(\"After \", shots, \" hits, the ball is in the hole! Disappointing. You are \", shots - par,\n",
    "................  \" over par.\")\n",
    "........elif shots == par:\n",
    "............print(\"After \", shots, \" hits, the ball is in the hole! And that's par.\")\n",
    "........else:\n",
    "............print(\"After \", shots, \" hits, the ball is in the hole! Congratulations, you are \", par - shots,\n",
    "................  \" under par.\")\n",
    "\n",
    "....def play_a_shot(game_distance, shots, start, fini):\n",
    "........random_distance = randint(start, fini)\n",
    "........game_distance = abs((game_distance) - random_distance)\n",
    "........shots += 1\n",
    "........result = f\"Your shot went {random_distance}m.\\n\" \\\n",
    "................ f\"You are {game_distance}m from the hole, after {shots} shot/s.\"\n",
    "........return result, game_distance, shots....\n",
    "\n",
    "....shots = 0\n",
    "....game_distance = distance\n",
    "....\n",
    "....while game_distance:\n",
    "........status()\n",
    "........print(\"Enter your choice of club to play with: Enter D for Driver   Enter I for Iron   Enter P for Putter   \")\n",
    "........select_club = input(\"Enter your choice\").upper()\n",
    "........if select_club == \"D\":\n",
    "............start, fini = 80, 120  \n",
    "........elif select_club == \"I\":\n",
    "............start, fini = 24, 36\n",
    "........elif select_club == \"P\":\n",
    "............if abs(game_distance) < 10:\n",
    "................start, fini = 1, abs(game_distance)\n",
    "............else:\n",
    "................start, fini = 8, 12\n",
    "........result, game_distance, shots = play_a_shot(game_distance, shots, start, fini)\n",
    "........print(result)\n",
    "   \n",
    "print(\"Welcome to the Golf Game \")\n",
    "\n",
    "distance = get_hole_distance()\n",
    "par = 5\n",
    "....\n",
    "while True:\n",
    "....\n",
    "....selection = menu()\n",
    "....\n",
    "....if selection == \"Q\":\n",
    "........print(\"Thanks for playing\")\n",
    "........break\n",
    "....\n",
    "....elif selection == \"I\":\n",
    "........instructions()\n",
    "\n",
    "....else: # must be option P\n",
    "........play(distance, par)"
   ]
  },
  {
   "cell_type": "code",
   "execution_count": null,
   "metadata": {},
   "outputs": [],
   "source": [
    "print('Great taste')\n",
    "size = 10\n",
    "print(f'Count up to {size}')\n",
    "nums = []\n",
    "while len(nums) < size:\n",
    "....try:\n",
    "........nums.append(int(input('Let: ')))\n",
    "....except ValueError:\n",
    "........print('Sorry, not a number, try again.')\n",
    "print(f'{nums}\\n{max(nums)} is Highest Number')"
   ]
  },
  {
   "cell_type": "code",
   "execution_count": null,
   "metadata": {},
   "outputs": [],
   "source": [
    "highest = 0;high = lambda: max(int(input('> ')), highest)\n",
    "for _ in range(10): highest = high()\n",
    "print(highest) "
   ]
  },
  {
   "cell_type": "code",
   "execution_count": null,
   "metadata": {},
   "outputs": [],
   "source": [
    "t = get_higher(0)"
   ]
  },
  {
   "cell_type": "code",
   "execution_count": null,
   "metadata": {},
   "outputs": [],
   "source": [
    "from random import randint\n",
    "\n",
    "def iffy():\n",
    "....highest = 0\n",
    "....for _ in range(1000):\n",
    "........num = randint(1, 100)\n",
    "........if num > highest:\n",
    "............highest = num\n",
    "....return highest\n",
    "\n",
    "def maxy():\n",
    "....return max(set(randint(1, 100) for _ in range(1000)))\n",
    "\n",
    "%timeit iffy()\n",
    "%timeit maxy()"
   ]
  },
  {
   "cell_type": "code",
   "execution_count": null,
   "metadata": {},
   "outputs": [],
   "source": [
    "from random import choices\n",
    "\n",
    "def insertion_sort(data:list) -> list:\n",
    "....'inplace insertion sort'\n",
    "....for idx in range(1, len(data)):\n",
    "........current = data[idx]\n",
    "........while idx > 0 and data[idx - 1] > current:\n",
    "............data[idx] = data[idx - 1]\n",
    "............idx -= 1\n",
    "............data[idx] = current\n",
    "\n",
    "for _ in range(10):\n",
    "....data = choices(range(1,100), k=20)\n",
    "....print(data)\n",
    "....insertion_sort(data)\n",
    "....print(data)\n",
    "....print()"
   ]
  },
  {
   "cell_type": "code",
   "execution_count": null,
   "metadata": {},
   "outputs": [],
   "source": [
    "insertionSort([2,1])"
   ]
  },
  {
   "cell_type": "code",
   "execution_count": null,
   "metadata": {},
   "outputs": [],
   "source": [
    "nums = []\n",
    "for i in range(0, 10):\n",
    "....for j in range(i, 10 - i):\n",
    "........nums.append(i+j)"
   ]
  },
  {
   "cell_type": "code",
   "execution_count": null,
   "metadata": {},
   "outputs": [],
   "source": [
    "....while True:\n",
    "........age = input(\"Please insert your AGE: \").strip()\n",
    "........if age and age.isdigit():\n",
    "............age = int(age)\n",
    "............if age > 110:\n",
    "................print('Wow, you must be nearly dead!')\n",
    "............elif age > 18:\n",
    "................print(\"You are Adult\")\n",
    "............elif age < 18:\n",
    "................print(\"You are KID\")\n",
    "............elif age == 18:\n",
    "................print(\"You are 18\")\n",
    "............break  # escape from while loop\n",
    "........else:\n",
    "............print(\"Please input your fucking AGE\")"
   ]
  },
  {
   "cell_type": "code",
   "execution_count": null,
   "metadata": {},
   "outputs": [],
   "source": [
    "def check_for_num(source):\n",
    "....'checks if source is a string containing valid number (int or float)'\n",
    "....'returns number of correct type if it is'\n",
    "....'otherwise returns original object'\n",
    "....'NB: simple code solution without using try/except'\n",
    "....\n",
    "....def is_integer(txt, sign=True):  # so can use for integer and parts of float\n",
    "........'check string contains only digit, or if sign is True'\n",
    "........'has an optional + or - sign followed by only digits'\n",
    "........return txt.isdigit() or (sign and txt[0] in (\"-\", \"+\") and txt[1:].isdigit())\n",
    "....\n",
    "....if isinstance(source, str):  # check argument is string type\n",
    "........source = source.strip()  # remove any leading/trailing spaces\n",
    "........if source:  # check we don't have an empty string\n",
    "............if is_integer(source):\n",
    "................source = int(source)\n",
    "............elif source.count('.') == 1:   # check if there is ONE and only ONE decimal point:\n",
    "....................before, point, after = source.partition(\".\")\n",
    "....................if (not before or is_integer(before) or before in (\"+\", \"-\")) and \\\n",
    "....................(not after or is_integer(after, False)):\n",
    "........................source = float(source)\n",
    "........return source\n",
    "....\n",
    "....return source  # return original, which could be int, float, or something that's not a string\n",
    "\n",
    "\n",
    "\n",
    "tests = ['', 'boo', '123', '  -123 ', '4.5', '-0.6', '-.7',\n",
    "........ '  -4.5 ', '+6.', '-.7', 56, -78.9,\n",
    "........ (1, 2), complex(2, 3)\n",
    "........]\n",
    "for test in tests:\n",
    "....result = check_for_num(test)\n",
    "....int_or_float = isinstance(result, (int, float))\n",
    "....print(f'{int_or_float:}\\t{test}, {type(result)}')...."
   ]
  },
  {
   "cell_type": "code",
   "execution_count": null,
   "metadata": {},
   "outputs": [],
   "source": [
    "....print(\"What are your numbers?\")\n",
    "....total = 0\n",
    "....count = 0\n",
    "....while True:\n",
    "........x = input('> (enter done to finish) ').strip().lower()\n",
    "........if x == 'done':\n",
    "............break\n",
    "........num = None\n",
    "........try:\n",
    "............num = float(x)\n",
    "............num = int(x)\n",
    "........except ValueError:\n",
    "............pass\n",
    "........if num:\n",
    "............total += num\n",
    "............count += 1\n",
    "............print(f'Count: {count}\\tTotal: {total}')\n",
    "........else:\n",
    "............print('Invalid entry')\n",
    "\n",
    "....if count > 0:\n",
    "........print(f'Count: {count}\\tTotal: {total}\\tAverage: {total/count}') "
   ]
  },
  {
   "cell_type": "code",
   "execution_count": null,
   "metadata": {},
   "outputs": [],
   "source": [
    "....def bigger_dict(any_dict):  # mutate the passed dictionary\n",
    "........any_dict['alpha'] = 27.2, 13.8, 8.3\n",
    "........any_dict['beta'] = ['apple', 'oranges', 'pears']\n",
    "........any_dict['charlie'] = {78, 46, 92}\n",
    "........# nothing to return, because we mutated the passed dictionary\n",
    "\n",
    "....def output_dict(a_dict):  # print contents of dictionary\n",
    "........for key, value in a_dict.items():\n",
    "............print(f'key: {key}\\t{value}')\n",
    "\n",
    "....something = {}  # create an empty dictionary\n",
    "....bigger_dict(something)\n",
    "....something['zulu'] = {1: 'yuk', 2: 'yak', 3: 'yih'}\n",
    "....output_dict(something)"
   ]
  },
  {
   "cell_type": "code",
   "execution_count": null,
   "metadata": {},
   "outputs": [],
   "source": [
    "from threading import Thread\n",
    "class myClass:\n",
    "...._input = None\n",
    "\n",
    "....def __init__(self):\n",
    "........get_input_thread = Thread(target=self.get_input)\n",
    "........get_input_thread.daemon = True  # Otherwise the thread won't be terminated when the main program terminates.\n",
    "........get_input_thread.start()\n",
    "........get_input_thread.join(timeout=20)\n",
    "\n",
    "........if myClass._input is None:\n",
    "............print(\"No input was given within 20 seconds\")\n",
    "........else:\n",
    "............print(\"Input given was: {}\".format(myClass._input))\n",
    "\n",
    "\n",
    "....@classmethod\n",
    "....def get_input(cls):\n",
    "........cls._input = input(\"\")\n",
    "........return"
   ]
  },
  {
   "cell_type": "code",
   "execution_count": null,
   "metadata": {},
   "outputs": [],
   "source": [
    "def quick_sort(array):\n",
    "if len(array) > 1 :\n",
    "pivot = int( len( array ) -1 )\n",
    "less = [ ] ; more = [ ]\n",
    "# Algorithm sequence to be added here.\n",
    "\n",
    "quick_sort( less ) ; quick_sort( more )\n",
    "\n",
    "print( '\\tLess:' , less , '\\tPivot:' , array[ pivot ] , \\\n",
    "\n",
    "'\\tMore:' , more )\n",
    "\n",
    "array[ : ] = less + [ array[ pivot ] ] + more\n",
    "\n",
    "print( '\\t\\t...Merged:' , array )\n",
    "\n",
    "for element in range( len(array ) ) :\n",
    "\n",
    "value = array[ element ]\n",
    "\n",
    "if element != pivot :\n",
    "\n",
    "if value < array[ pivot ] :\n",
    "\n",
    "less.append( value )\n",
    "\n",
    "else :\n",
    "\n",
    "more.append( value )\n",
    "\n",
    "array = [ 5 , 3 , 1 , 2 , 6 , 4 ]\n",
    "\n",
    "print( 'Quick Sort...\\nArray :' , array )\n",
    "\n",
    "quick_sort( array )\n",
    "\n",
    "print( 'Array :' , array )"
   ]
  },
  {
   "cell_type": "code",
   "execution_count": null,
   "metadata": {},
   "outputs": [],
   "source": [
    "def f(a, L=[ ]):\n",
    "....L.append(a)\n",
    "....print('L id:', id(L))\n",
    "....return L\n",
    "\n",
    "t = f(3)\n",
    "print(t, id(t))\n",
    "s = f(1)\n",
    "print(s, id(s))"
   ]
  },
  {
   "cell_type": "code",
   "execution_count": null,
   "metadata": {},
   "outputs": [],
   "source": [
    "def f(a, L=None):\n",
    "....if not L:\n",
    "........L = []\n",
    "....L.append(a)\n",
    "....print('L id:', id(L))\n",
    "....return L\n",
    "\n",
    "t = f(3)\n",
    "print(t, id(t))\n",
    "s = f(1)\n",
    "print(s, id(s))"
   ]
  },
  {
   "cell_type": "code",
   "execution_count": null,
   "metadata": {},
   "outputs": [],
   "source": [
    "def quick_sort(array):\n",
    "....if len(array) > 1 :\n",
    "........pivot = len(array) -1 \n",
    "........less = [ ] ; more = [ ]\n",
    "........# Algorithm sequence to be added here.\n",
    "........quick_sort( less ) ; quick_sort( more )\n",
    "........print( '\\tLess:' , less , '\\tPivot:' , array[ pivot ] , \\\n",
    "............   '\\tMore:' , more )\n",
    "........array[ : ] = less + [ array[ pivot ] ] + more\n",
    "........print( '\\t\\t...Merged:' , array )\n",
    "........for element in range( len(array ) ) :\n",
    "............value = array[ element ]\n",
    "............if element != pivot :\n",
    "................if value < array[ pivot ] :\n",
    "....................less.append( value )\n",
    "................else :\n",
    "....................more.append( value )\n",
    "array = [ 5 , 3 , 1 , 2 , 6 , 4 ]\n",
    "print( 'Quick Sort...\\nArray :' , array )\n",
    "quick_sort( array )\n",
    "print( 'Array :' , array )"
   ]
  },
  {
   "cell_type": "code",
   "execution_count": null,
   "metadata": {},
   "outputs": [],
   "source": []
  },
  {
   "cell_type": "code",
   "execution_count": null,
   "metadata": {},
   "outputs": [],
   "source": [
    "original = [3, 5, 4, 1, 2, 1, 7, 8, 3, 5]\n",
    "sub_list = list(set(sorted(original[1:-1])))  # ignore 1st and last, sort rest and remove dups\n",
    "for check in original[0], original[-1]:  # check to see if 1st or last in what is left\n",
    "....if check in sub_list:  # found in sub_list so\n",
    "........sub_list.remove(check)  # remove duplicate item\n",
    "finished = original[0:1] + sub_list + original[-1:]  # concatenate first, sorted & de-duped, and last\n",
    "print(finished)"
   ]
  },
  {
   "cell_type": "code",
   "execution_count": null,
   "metadata": {},
   "outputs": [],
   "source": [
    "sub_list"
   ]
  },
  {
   "cell_type": "code",
   "execution_count": null,
   "metadata": {},
   "outputs": [],
   "source": [
    "original"
   ]
  },
  {
   "cell_type": "code",
   "execution_count": null,
   "metadata": {},
   "outputs": [],
   "source": [
    "from random import sample\n",
    "\n",
    "test = sample(1, 100)\n",
    "sum_odds = sum_evens = 0\n",
    "for num in test:\n",
    "....if num % 2 == 0:\n",
    "........sum_evens += num\n",
    "....else:\n",
    "........sum_odds += num\n"
   ]
  },
  {
   "cell_type": "code",
   "execution_count": null,
   "metadata": {},
   "outputs": [],
   "source": [
    "lists = [[\"she\", \"and\",\"he\",\"and\",\"us\",\"she\"],\n",
    "........ [1,2,2,1,1,1,2,1]\n",
    "........]\n",
    "\n",
    "dicts = []\n",
    "\n",
    "for list_ in lists:\n",
    "....dict_ = {}\n",
    "....for item in list_:\n",
    "........if item in dict_:\n",
    "............dict_[item] += 1\n",
    "........else:\n",
    "............dict_[item]= 1\n",
    "....dicts.append(dict_)\n",
    "\n",
    "print(dicts)"
   ]
  },
  {
   "cell_type": "code",
   "execution_count": null,
   "metadata": {},
   "outputs": [],
   "source": [
    "new_dict = {\n",
    "........'rice': 10,\n",
    "........'dal': 15,\n",
    "........'curry': 20\n",
    "....}\n",
    "\n",
    "orderList = ['RicE', 'dAl', 'RICE', 'CuRRy', 'dal']\n",
    "order_items = [item.strip().lower() for item in orderList]\n",
    "bill = 0\n",
    "for item in set(order_items):\n",
    "....bill += new_dict.get(item, 0) * order_items.count(item)\n",
    "print(bill)"
   ]
  },
  {
   "cell_type": "code",
   "execution_count": null,
   "metadata": {},
   "outputs": [],
   "source": [
    "print('Welcome to the Express lane')\n",
    "total = 0\n",
    "for item in 'first', 'second', 'third', 'fourth', 'final':\n",
    "....price = input(f'Enter the {item:6} price: ')\n",
    "....try:\n",
    "........total += float(price)\n",
    "....except ValueError:\n",
    "........print('Invalid price, ignored')\n",
    "sales_tax = total * 0.06\n",
    "print(f'subtotal:  {total: 6.2f}')\n",
    "print(f'sales tax: {sales_tax: 6.2f}')\n",
    "print( '-----------------')\n",
    "print(f'total:.... {total + sales_tax: 6.2f}')"
   ]
  },
  {
   "cell_type": "code",
   "execution_count": null,
   "metadata": {},
   "outputs": [],
   "source": [
    "....games = ['GTA','FIFA','DBZ','Fortnite']\n",
    "....def loop_game(lists):\n",
    "........for listt in lists:\n",
    "............print(listt)\n",
    "\n",
    "....loop_game(games)\n",
    "....new_game = ''\n",
    "....while new_game.strip().lower() != 'quit':\n",
    "........new_game = input(\"Tell me your favourite game, or enter 'quit': \")\n",
    "........if new_game != 'quit':\n",
    "............games.append(new_game)\n",
    "\n",
    "\n",
    "............\n",
    "............loop_game(games)  # otherwise you don't see result"
   ]
  },
  {
   "cell_type": "code",
   "execution_count": null,
   "metadata": {},
   "outputs": [],
   "source": [
    "....def scores_player1(name, score, weapons):\n",
    "\n",
    "\n",
    "........print(f'Name: {name}')\n",
    "........print(f'Score: {score}')\n",
    "........print(f'Weapons: {\", \".join(weapons)}')\n",
    "\n",
    "....player_name_1 = 'Fred'\n",
    "....player_score_1 = 56\n",
    "....player_weapons_1 = ['axe', 'sword', 'poison']\n",
    "............  \n",
    "........  \n",
    "....scores_player1(player_name_1, player_score_1, player_weapons_1)"
   ]
  },
  {
   "cell_type": "code",
   "execution_count": null,
   "metadata": {},
   "outputs": [],
   "source": [
    "....result = 100, '1002', 23.4\n",
    "\n",
    "....endstring = \"\"\n",
    "\n",
    "....'''for numbers in result:\n",
    "........L = int(numbers)  # are you sure numbers is a valid integer?\n",
    "........L = L / 932 - 94\n",
    "........L = chr(L)\n",
    "........endstring = endstring + l  # you mean rather than l\n",
    "....''' \n",
    "....endstring = \"\"\n",
    "....for number in result:\n",
    "........try:\n",
    "............num = int(number)\n",
    "........except ValueError:\n",
    "............print(f'>>{number}<< is NOT valid as an integer')\n",
    "............break  # exit for loop early because of error\n",
    "........letter = chr(int(number) // 932 - 94)  # note the integer division\n",
    "........endstring += endstring + letter"
   ]
  },
  {
   "cell_type": "code",
   "execution_count": null,
   "metadata": {},
   "outputs": [],
   "source": [
    "chr(94)"
   ]
  },
  {
   "cell_type": "code",
   "execution_count": null,
   "metadata": {},
   "outputs": [],
   "source": [
    "int(result[0]) // 932"
   ]
  },
  {
   "cell_type": "code",
   "execution_count": null,
   "metadata": {},
   "outputs": [],
   "source": [
    "1. if X is a negatve number and Y is positive number Add 180 to Answer B.\n",
    "\n",
    "Help guys for now i can do basics in python, i have tried internet i cant find clear answers\n",
    "\n",
    "if X < 0 and Y > 0:\n",
    "....B += 180"
   ]
  },
  {
   "cell_type": "code",
   "execution_count": null,
   "metadata": {},
   "outputs": [],
   "source": [
    "....import getpass\n",
    "....import os\n",
    "....import shutil\n",
    "\n",
    "....#defines file names\n",
    "\n",
    "....efiles = \"encrypted_files.db\"\n",
    "....dfiles = \"decrypted_files.db\"\n",
    "\n",
    "....#defines variables\n",
    "....passwordLoop = True\n",
    "....usernameLoop = True\n",
    "....guestLogin = False\n",
    "....doneSomething = False\n",
    "....numberOfTries = 5\n",
    "....usernameTries = 5\n",
    "\n",
    "....###\n",
    "\n",
    "....def encrypt(sentence):\n",
    "........result = []\n",
    "........for letter in sentence:\n",
    "............result.append(f'{ord(letter) * 932 + 94}')\n",
    "........encrypted_message = ' '.join(result)\n",
    "........print(f\"This is your message!\\n{encrypted_message}\")........\n",
    "........with open(\"encrypted_files.db\", \"a\") as out_file:\n",
    "............out_file.write(encrypted_message)\n",
    "........return encrypted_message\n",
    "\n",
    "....def decrypt(result):\n",
    "........end_string = \"\"\n",
    "........for number in result.split():\n",
    "............num = int(number.strip())\n",
    "............letter_code = (num - 94) // 932\n",
    "............end_string += chr(letter_code)\n",
    "........print(f\"Your decrypted message is: {end_string}\")\n",
    "........with open(\"decrypted_files.db\", \"a\") as out_file:\n",
    "................out_file.write(end_string)\n",
    "........return end_string\n",
    "\n",
    "\n",
    "....while usernameLoop:\n",
    "........print(\"To enter guest mode, type guest.\")\n",
    "........usernameInput = getpass.getpass(\"Enter your username: \")\n",
    "\n",
    "........if(usernameInput == \"guest\"):\n",
    "............print(\"Logged in as Guest. You may decrypt messages, however, you cannot encrypt messages.\")\n",
    "............passwordLoop = False\n",
    "............usernameLoop = False\n",
    "............guestLogin = True\n",
    "\n",
    "........elif(usernameInput == \"bvois\"):\n",
    "............print(\"You have encrypt and decrypt permissions.\")\n",
    "............usernameLoop = False\n",
    "........else:\n",
    "............usernameTries = usernameTries - 1\n",
    "............print(\"That is not a valid username. You have\", usernameTries, \"tries left.\")\n",
    "............if(usernameTries <= 0):\n",
    "................print(\"Locked out.\")\n",
    "................os.remove(efiles)\n",
    "................os.remove(dfiles)\n",
    "................exit()\n",
    "\n",
    "....while passwordLoop:\n",
    "........passwordInput = getpass.getpass(\"Enter your password: \")\n",
    "........if(passwordInput != \"s3curity#4#\"):\n",
    "............numberOfTries = numberOfTries - 1\n",
    "............print(\"Wrong password. You have\", numberOfTries, \"tries left.\")\n",
    "............if(numberOfTries <= 0):\n",
    "................print(\"You are locked out.\")\n",
    "................os.remove(efiles)\n",
    "................os.remove(dfiles)\n",
    "................exit()\n",
    "........else:\n",
    "............print(\"Welcome, Ben.\")\n",
    "............passwordLoop = False\n",
    "\n",
    "....whileLoopControl = True\n",
    "\n",
    "....while guestLogin:\n",
    "............s = input(\"Input a sentence that you want decrypted: \")\n",
    "............decrypt(s)\n",
    "............print(\"This message has not been stored in a file. Please copy it.\")\n",
    "............keepGoingGuestRaw = input(\"Keep going? (y/n): \").strip().lower()\n",
    "............if not keepGoingGuestRaw in (\"y\", \"n\"):\n",
    "................print(\"Error.\")\n",
    "............elif keepGoingGuestRaw == \"y\":\n",
    "................keepGoingGuest = True\n",
    "............else:\n",
    "................exit()\n",
    "\n",
    "....while True:\n",
    "........whatToDo = input(\"What would you like to do? (e/d/l): \").strip().lower()\n",
    "........if whatToDo in ('e', 'd', 'l'):\n",
    "............print(f\"Now entering {whatToDo} mode.\")\n",
    "........else:\n",
    "............print(\"The program crashed. You didn't do anything.\")\n",
    "............continue\n",
    "\n",
    "........if(whatToDo == \"e\"):\n",
    "............s = input(\"Input a sentence that you want encrypted: \")\n",
    "............encrypt(s)\n",
    "\n",
    "........elif whatToDo == \"d\":\n",
    "............s = input(\"Input a sentence that you want decrypted: \")\n",
    "............decrypt(s)\n",
    "\n",
    "........else:\n",
    "............print(\"Exiting\")\n",
    "............break\n",
    "\n",
    "........print()\n",
    "........print(\"Your message has been saved to the relevent file.\")\n",
    "........print(\"Don't forget to move the file into a safe location, otherwise your message will be overwritten.\")"
   ]
  },
  {
   "cell_type": "code",
   "execution_count": null,
   "metadata": {},
   "outputs": [],
   "source": [
    "encrypt('alpha')"
   ]
  },
  {
   "cell_type": "code",
   "execution_count": null,
   "metadata": {},
   "outputs": [],
   "source": [
    "....def encrypt(sentence):\n",
    "........result = []\n",
    "........for letter in sentence:\n",
    "............result.append(f'{ord(letter) * 932 + 94}')\n",
    "........encrypted_message = ' '.join(result)\n",
    "........print(f\"This is your message!\\n{encrypted_message}\")........\n",
    "........with open(\"encrypted_files.db\", \"a\") as out_file:\n",
    "............out_file.write(encrypted_message)\n",
    "........return encrypted_message\n",
    "\n",
    "....def decrypt(result):\n",
    "........end_string = \"\"\n",
    "........for number in result.split():\n",
    "............num = int(number.strip())\n",
    "............letter_code = (num - 94) // 932\n",
    "............end_string += chr(letter_code)\n",
    "........print(f\"Your decrypted message is: {end_string}\")\n",
    "........with open(\"decrypted_files.db\", \"a\") as out_file:\n",
    "................out_file.write(end_string)\n",
    "........return end_string\n",
    "\n",
    "....tests = 'Mary had a little lamb!', 'Over the rainbox 2019', '(&^GHIYRT^HJFLKBLKHFGF HFG^ GHGKG 6)'\n",
    "\n",
    "....for test in tests:\n",
    "........try:\n",
    "............enc = encrypt(test)\n",
    "............dec = decrypt(enc)\n",
    "............assert dec == test, f\"ERROR: {test} -> {enc} -> {dec}\"\n",
    "........except AssertionError as e:\n",
    "............print(e)"
   ]
  },
  {
   "cell_type": "code",
   "execution_count": null,
   "metadata": {},
   "outputs": [],
   "source": []
  },
  {
   "cell_type": "code",
   "execution_count": null,
   "metadata": {},
   "outputs": [],
   "source": [
    "decrypt('90498 100750 104478 97022 90498')"
   ]
  },
  {
   "cell_type": "code",
   "execution_count": null,
   "metadata": {},
   "outputs": [],
   "source": [
    "90498 - 94"
   ]
  },
  {
   "cell_type": "code",
   "execution_count": null,
   "metadata": {},
   "outputs": [],
   "source": [
    "90404 / 932"
   ]
  },
  {
   "cell_type": "code",
   "execution_count": null,
   "metadata": {},
   "outputs": [],
   "source": [
    "!cat encrypted_files.db"
   ]
  },
  {
   "cell_type": "code",
   "execution_count": null,
   "metadata": {},
   "outputs": [],
   "source": [
    "....code_str = input('Enter unicode number: ')\n",
    "....if code_str.isdigit():\n",
    "........code = int(code_str)\n",
    "........if 0 <= code <= 1_114_111:\n",
    "............print(f'Unicode number {code} is character >>{chr(code)}<<')\n",
    "........else:\n",
    "............print(f'Number {code} is not a valid unicode number.')\n",
    "....else:\n",
    "........print(f'{code_str if code_str.strip() else \"blank\"} is not a valid numeric entry for unicode')"
   ]
  },
  {
   "cell_type": "code",
   "execution_count": null,
   "metadata": {},
   "outputs": [],
   "source": [
    "def is_even(num):\n",
    "....return num % 2 == 0\n",
    "\n",
    "num = input('Enter a whole number: ').strip()\n",
    "if num.isdigit() or (num and num[0] == '-' and num[1:].isdigit()):\n",
    "....print(f'{num} is {\"even\" if is_even(int(num)) else \"odd\"}')\n",
    "else:\n",
    "....print('Not a whole number')"
   ]
  },
  {
   "cell_type": "code",
   "execution_count": null,
   "metadata": {},
   "outputs": [],
   "source": [
    "int(' -  1')"
   ]
  },
  {
   "cell_type": "code",
   "execution_count": null,
   "metadata": {},
   "outputs": [],
   "source": [
    "....def format_poem(sentence):\n",
    "........sentence_split = sentence.split(\". \")\n",
    "........return sentence_split\n",
    "\n",
    "....def join_string(some_strings):\n",
    "........string = \"\\n\".join(some_strings)\n",
    "........return string\n",
    "\n",
    "....formatted_poem = format_poem(sentence=\"Beautiful is better than ugly. \"\n",
    "........................ \"Explicit is better than implicit. \"\n",
    "........................ \"Simple is better than complex. \"\n",
    "........................ \"Complex is better than complicated.\")\n",
    "....paragraph = join_string(formatted_poem)\n",
    "....print(paragraph)"
   ]
  },
  {
   "cell_type": "code",
   "execution_count": null,
   "metadata": {},
   "outputs": [],
   "source": [
    "# Pizza restaurant\n",
    "\n",
    "\n",
    "def sum_of_items(in_list):\n",
    "....sum_of = 0.0\n",
    "....for i in in_list:\n",
    "........try:\n",
    "............partial_cost = prices[i]\n",
    "........except:\n",
    "............partial_cost = 0.0\n",
    "........finally:\n",
    "............sum_of += partial_cost\n",
    "....return sum_of\n",
    "\n",
    "\n",
    "# current menu\n",
    "menu = ((\"margharitta\", \"cheese\", \"sauce\"),\n",
    "........(\"peperoni\", \"cheese\", \"sauce\", \"peperoni\"),\n",
    "........(\"fughi\", \"cheese\", \"sauce\", \"mashrooms\"),\n",
    "........(\"frutti di mare\", \"cheese\", \"sauce\", \"calmari\"))\n",
    "\n",
    "# all available toppings\n",
    "toppings = (\"cheese\", \"peperoni\", \"mashrooms\", \"calmari\", \"paprika\", \"chicken\")\n",
    "\n",
    "out_of_stock = (\"calmari\")\n",
    "\n",
    "# pizza toppings price container as dictionary\n",
    "prices = {\n",
    "........'base': 5,\n",
    "........'cheese': 2,\n",
    "........'sauce': .50,\n",
    "........'peperoni': 2.5,\n",
    "........'mashrooms': 1,\n",
    "........'calmari': 2.5,\n",
    "........'paprika': 1.5,\n",
    "........'chicken': 2, }\n",
    "\n",
    "oos = False........ # Out of stock mark\n",
    "too_long = False....# Chosen pizza is not on menu\n",
    "\n",
    "\n",
    "# printing menu\n",
    "print(\"Welcome in our pizzeria!.\\nCheck out our menu:\")\n",
    "\n",
    "for i in menu:\n",
    "....print(str(menu.index(i) + 1) + \".\", i[0].title(), end=\" (\")\n",
    "....menu_tops = i[1:]\n",
    "....for j in menu_tops:\n",
    "........print(j.title(), end=\"\")\n",
    "........if j in out_of_stock:\n",
    "............oos = True\n",
    "........if (menu_tops.index(j) < (len(menu_tops) - 2)):\n",
    "............print(\", \", end=\"\")\n",
    "........elif (menu_tops.index(j) == (len(menu_tops) - 2)):\n",
    "............print(\" and \", end=\"\")\n",
    "....print(\")\", end=\"\")\n",
    "....if oos:\n",
    "........print(\"  Currently out of stock.\")\n",
    "....else:\n",
    "........price_tag = sum_of_items(list(menu_tops)) + prices['base']\n",
    "........print(\"  $\" + str(price_tag) + \"0\")\n",
    "\n",
    "\n",
    "# getting order - stored as ----->> choice\n",
    "print(\"Which one would you like (1 -\", str(len(menu)) + \")?: \", end=\"\")\n",
    "\n",
    "while True:\n",
    "....oos = False\n",
    "....too_long = False\n",
    "\n",
    "....choice = int(input()) - 1\n",
    "....if (choice > len(menu)) or (choice < 0):\n",
    "........print(\"I know.. our menu is too short. We are working on it!\")\n",
    "........print(\"Try one which we can offer:\", end=\"\")\n",
    "........too_long = True\n",
    "....else:\n",
    "........for i in menu[choice][1:]:\n",
    "............if i in out_of_stock:\n",
    "................oos = True\n",
    "................break\n",
    "\n",
    "....if not oos and not too_long:\n",
    "........break\n",
    "....elif oos:\n",
    "........print(\"Sorry.. we can't prepare this one.\")\n",
    "........print(\"We are short on\", i.title())\n",
    "........print(\"Pick different one:\", end=\"\")\n",
    "\n",
    "print(\"Alrighty then! one\", menu[choice][0].title(), \"it is!\")\n",
    "\n",
    "\n",
    "# toppings stored as ----->> added_tops[]\n",
    "print(\"\\nAny adititional toppings for your\", menu[choice][0], \"pizza?\")\n",
    "print(\"All available toppings are here:\")\n",
    "\n",
    "print(\"0. done\")\n",
    "for i in toppings:\n",
    "....print(str(toppings.index(i) + 1) + \".\", i.title(), end=\"\")\n",
    "....if i in out_of_stock:\n",
    "........print(\" (currently unavailable)\", end=\"\")\n",
    "....else:\n",
    "........print(\"  $\" + str(float(prices[i])) + \"0\", end=\"\")\n",
    "....print(\"\")\n",
    "\n",
    "added_tops = []\n",
    "\n",
    "while True:\n",
    "....top_choice = int(input(\"Which topping to add?: \")) - 1\n",
    "....if top_choice == -1:\n",
    "........break\n",
    "....elif (top_choice < -1) or (top_choice > (len(toppings) - 1)):\n",
    "........print(\"Are you sure you put correct topping number? Try Agan.\")\n",
    "....else:\n",
    "........if toppings[top_choice] in out_of_stock:\n",
    "............print(\"Sorryyy... We are out of stock on\",\n",
    "................  toppings[top_choice].title(), \":(\")\n",
    "............print(\"Maybe something different then?\")\n",
    "........else:\n",
    "............added_tops.append(toppings[top_choice])\n",
    "............print(toppings[top_choice].title(), \"added to your pizza.\")\n",
    "............print(\"Anything else?\")\n",
    "\n",
    "\n",
    "# confirmation\n",
    "print(\"Alright! warping it up:\")\n",
    "print(\"Your pizza is:\", menu[choice][0].title())\n",
    "if added_tops:\n",
    "....print(\"with those additional goodies on top:\")\n",
    "....j = 1\n",
    "....for i in added_tops:\n",
    "........print(str(j) + \".\", i.title())\n",
    "........j += 1\n",
    "\n",
    "\n",
    "# suming things up\n",
    "order = ['base']\n",
    "\n",
    "order += list(menu[choice][1:])\n",
    "order += added_tops\n",
    "cost = sum_of_items(order)\n",
    "\n",
    "print(\"\\nThat's $\" + str(cost) + \"0, please.\")\n",
    "del i, j, top_choice, oos, price_tag"
   ]
  },
  {
   "cell_type": "code",
   "execution_count": null,
   "metadata": {},
   "outputs": [],
   "source": [
    "menu = {\"margharitta\": (\"cheese\", \"sauce\"),\n",
    "........\"peperoni\": (\"cheese\", \"sauce\", \"peperoni\"),\n",
    "........\"fughi\": (\"cheese\", \"sauce\", \"mashrooms\"),\n",
    "........\"frutti di mare\": (\"cheese\", \"sauce\", \"calmari\")\n",
    "....   }\n",
    "\n",
    "for idx, (menu_item, toppings) in enumerate(menu.items(), start=1):\n",
    "....print(f'{idx} {menu_item} ({\", \".join(toppings)})')"
   ]
  },
  {
   "cell_type": "code",
   "execution_count": null,
   "metadata": {},
   "outputs": [],
   "source": [
    "....list1 = [\"book1\", \"book2\", \"book3\"]\n",
    "....list2 = [5, 2, 4]\n",
    "\n",
    "....list3 = []\n",
    "....for book, rating in zip(list1, list2):\n",
    "........list3.append((book, rating))\n",
    "....\n"
   ]
  },
  {
   "cell_type": "code",
   "execution_count": null,
   "metadata": {},
   "outputs": [],
   "source": [
    "list3"
   ]
  },
  {
   "cell_type": "code",
   "execution_count": null,
   "metadata": {},
   "outputs": [],
   "source": [
    "[1,2,3].clear() is None"
   ]
  },
  {
   "cell_type": "code",
   "execution_count": null,
   "metadata": {},
   "outputs": [],
   "source": [
    "list.clear?"
   ]
  },
  {
   "cell_type": "code",
   "execution_count": null,
   "metadata": {},
   "outputs": [],
   "source": [
    "a = [1,2,3,4]\n",
    "print(a.clear() == None)"
   ]
  },
  {
   "cell_type": "code",
   "execution_count": null,
   "metadata": {},
   "outputs": [],
   "source": [
    "type(enumerate((1,2,3)))"
   ]
  },
  {
   "cell_type": "code",
   "execution_count": null,
   "metadata": {},
   "outputs": [],
   "source": [
    "....try:\n",
    "........x, y, z = [float(num) for num in input('x, y, z: ').split(',')]\n",
    "....except Vimport cherrypy\n",
    "\n",
    "class HelloWorld(object):\n",
    "....@cherrypy.expose\n",
    "....def index(self):\n",
    "........return \"Hello World!\"\n",
    "\n",
    "cherrypy.quickstart(HelloWorld())alueError:\n",
    "........print('Sorry, but that contained something not understandable')\n",
    "....else:\n",
    "........print(f'({x:4.2}, {y:4.2}, {z:4.2} )')"
   ]
  },
  {
   "cell_type": "code",
   "execution_count": null,
   "metadata": {},
   "outputs": [],
   "source": [
    "import sys\n",
    "\n",
    "try:\n",
    "....fail = int('3.7')\n",
    "except ValueError:\n",
    "....b = sys.exc_info()[0]\n",
    "....print(type(b))\n",
    "....with open(\"name.txt\",\"w\") as Note:\n",
    "........Note.write(f'{b}')"
   ]
  },
  {
   "cell_type": "code",
   "execution_count": null,
   "metadata": {},
   "outputs": [],
   "source": [
    "!cat name.txt"
   ]
  },
  {
   "cell_type": "code",
   "execution_count": null,
   "metadata": {},
   "outputs": [],
   "source": [
    "import os.path\n",
    "import cherrypy\n",
    "\n",
    "def em(text, flag):\n",
    "....if flag:\n",
    "........return f\"<em>{text}</em>\"\n",
    "....else:\n",
    "........return text\n",
    "\n",
    "class FruityPage:\n",
    "\n",
    "....@cherrypy.expose\n",
    "....def index(self):\n",
    "........return '''\n",
    "............<form action=\"fruits\" method=\"GET\">\n",
    "............What things do you like?\n",
    "............<input type=\"text\" name=\"things\" />\n",
    "............<input type=\"submit\" />\n",
    "............</form>'''\n",
    "\n",
    "....@cherrypy.expose\n",
    "....def thingy(self, fruits=None):\n",
    "........if things:\n",
    "............\n",
    "............things = things.strip().split()\n",
    "............table = {key: True if key in things else False for key in stuff}\n",
    "............list_ = []\n",
    "............for text, flag in table:\n",
    "................list += em(text, flag)\n",
    "............return f\"\"\n",
    "........else:\n",
    "............if fruits is None:\n",
    "................return 'Please enter some stuff <a href=\"./\">here</a>.'\n",
    "............else:\n",
    "................return 'No, really, enter some stuff <a href=\"./\">here</a>.'\n",
    "\n",
    "stuff = [[\"apple\", \"ball\", \"dog\"],\n",
    "........ [\"elephant\", \"apple\", \"tiger\"],\n",
    "........ [\"boy\", \"girl\", \"dog\"]]\n",
    "cherrypy.quickstart(FruityPage())"
   ]
  },
  {
   "cell_type": "code",
   "execution_count": null,
   "metadata": {},
   "outputs": [],
   "source": [
    "things_list = ['Apple', 'Pear', \"Orange\"]\n",
    "odds_and_ends = ['Pear', 'Brass', \"gold\"]\n",
    "thingy_table = "
   ]
  },
  {
   "cell_type": "code",
   "execution_count": null,
   "metadata": {},
   "outputs": [],
   "source": [
    "thingy_table"
   ]
  },
  {
   "cell_type": "code",
   "execution_count": null,
   "metadata": {},
   "outputs": [],
   "source": [
    "....table = {'1': 'a', '2': 'b'}\n",
    "....for letter in '11221':\n",
    "........print(table[letter], end='')\n",
    "....print()"
   ]
  },
  {
   "cell_type": "code",
   "execution_count": null,
   "metadata": {},
   "outputs": [],
   "source": [
    "d1 = {1: 2, 3: 4}\n",
    "d2 = {1: 4, 4: 5}"
   ]
  },
  {
   "cell_type": "code",
   "execution_count": null,
   "metadata": {},
   "outputs": [],
   "source": [
    "....counter = 0\n",
    "....while True:\n",
    "........counter += 1\n",
    "........try:\n",
    "............number = float(input(\"Enter a number between 1 and 10: \"))\n",
    "............if 0 < number < 10:\n",
    "................break\n",
    "........except ValueError:\n",
    "............pass\n",
    "........print(\"Error: Did not enter a number between 1 and 10\") \n",
    "....print(f'You entered a valid number in {counter} tries')"
   ]
  },
  {
   "cell_type": "code",
   "execution_count": null,
   "metadata": {},
   "outputs": [],
   "source": [
    "def play():\n",
    "....\n",
    "....def create_biglist(size):\n",
    "........return [f'{i}' for i in range(size)]\n",
    "....\n",
    "....def print_table(table):\n",
    "........row_len = len(table) ** (0.5)\n",
    "........for \n",
    "....length = int(input('Size--> '))\n",
    "....size = length*length\n",
    "....x = 0\n",
    "....count = 0\n",
    "....sneakycount = 0\n",
    "....biglist = create_biglist(size)\n",
    "....print_table(biglist)\n",
    "....\n",
    "....#table\n",
    "....for i in range(0, size, length):\n",
    "........temp=[]\n",
    "........for x in biglist[i: i+length]:\n",
    "............if biglist.index(x)<10:\n",
    "................temp.append(' '+x)\n",
    "............else:\n",
    "................temp.append(x)\n",
    "........print(' '.join(temp))\n",
    "....while count<=size-1 and count!=(-1) :\n",
    "........if count%2==0:\n",
    "............coor=input('X--> ')\n",
    "............for i in range (len(biglist)):\n",
    "....................if biglist[i]==coor:\n",
    "........................biglist[i]='X'\n",
    "............for i in range(0, size, length):\n",
    "................temp=[]\n",
    "................for x in biglist[i: i+length]:\n",
    "....................if biglist.index(x)<10:\n",
    "........................temp.append(' '+x)\n",
    "....................elif biglist.index(x)>9 and x=='X' or x=='O':\n",
    "........................temp.append(' '+x)\n",
    "....................else:\n",
    "........................temp.append(x)\n",
    "................print(' '.join(temp))\n",
    "........if count%2 !=0 and count !=0:\n",
    "............coor=input('O--> ')\n",
    "............for i in range (len(biglist)):\n",
    "....................if biglist[i]==coor:\n",
    "........................biglist[i]='O'\n",
    "............for i in range(0, size, length):\n",
    "................temp=[]\n",
    "................for x in biglist[i: i+length]:\n",
    "....................if biglist.index(x)<10:\n",
    "........................temp.append(' '+x)\n",
    "....................elif biglist.index(x)>9 and x=='X' or x=='O':\n",
    "........................temp.append(' '+x)\n",
    "....................else:\n",
    "........................temp.append(x)\n",
    "................print(' '.join(temp))\n",
    "....#horizonal condition....\n",
    "........for i in range(0,size,length):\n",
    "............temporary=[]\n",
    "............temporary.append(biglist[i: i+length])\n",
    "............x=temporary[0]\n",
    "............if x.count(x[0]) == len(x):\n",
    "................count=(-2)\n",
    "....#vertical condition\n",
    "........for j in range(0,length):   \n",
    "............temporary=[]\n",
    "............for i in range(j,size,length):\n",
    "................temporary.append(biglist[i])\n",
    "................x=temporary[0]\n",
    "............if temporary.count(x) == len(temporary):\n",
    "................count=(-2)\n",
    "....#diagonal condition\n",
    "........for j in range(0,length):   \n",
    "............temporary=[]\n",
    "............for i in range(j,size,length+1):\n",
    "................temporary.append(biglist[i])\n",
    "................x=temporary[0]\n",
    "............if temporary.count(x) == len(temporary):\n",
    "................count=(-2)\n",
    "........count+=1\n",
    "........sneakycount+=1  \n",
    "\n",
    "....if sneakycount%2==0:\n",
    "........print('Winner: O')\n",
    "....if sneakycount%2 !=0 and sneakycount !=0:\n",
    "........print('Winner: X')\n",
    "\n",
    "def play_game(size, plays):\n",
    "....pass\n",
    "....\n",
    "....\n",
    "tests = [6, [(6, 5), (0, 10), (7, 15), (14, 20), (21, 25), (28, 30), (31, 32), (35, 1)],\n",
    "........]\n",
    "\n",
    "for size, (plays) in tests:\n",
    "....play_game(size, plays)\n",
    "\n"
   ]
  },
  {
   "cell_type": "code",
   "execution_count": null,
   "metadata": {},
   "outputs": [],
   "source": [
    "....biglist=[]\n",
    "....length=int(input('Size--> '))\n",
    "....size=length*length\n",
    "....x=0\n",
    "....count=0\n",
    "....sneakycount=0\n",
    "....for i in range(size):\n",
    "........biglist.append(i)\n",
    "....biglist = [str(i) for i in biglist]"
   ]
  },
  {
   "cell_type": "code",
   "execution_count": null,
   "metadata": {},
   "outputs": [],
   "source": [
    "biglist"
   ]
  },
  {
   "cell_type": "code",
   "execution_count": null,
   "metadata": {},
   "outputs": [],
   "source": [
    "[f'{i}' for i in range(6*6)]"
   ]
  },
  {
   "cell_type": "code",
   "execution_count": null,
   "metadata": {},
   "outputs": [],
   "source": [
    "....for i in range(0, 36, 6):\n",
    "........temp=[]\n",
    "........for x in biglist[i: i+length]:\n",
    "............if biglist.index(x)<10:\n",
    "................temp.append(' '+x)\n",
    "............else:\n",
    "................temp.append(x)\n",
    "........print(' '.join(temp))"
   ]
  },
  {
   "cell_type": "code",
   "execution_count": null,
   "metadata": {},
   "outputs": [],
   "source": [
    "....num_values = int(input('How many values? '))\n",
    "\n",
    "....# or, with validation:\n",
    "\n",
    "....while True:\n",
    "........try:\n",
    "............num_values = int(input('How many values? '))\n",
    "............break\n",
    "........except ValueError:\n",
    "............print(\"Please try again\")\n",
    "\n",
    "....values = []  # empty list to store inputs\n",
    "....for counter in range(1, num_values +1):  # count from 1 to num_value inclusive\n",
    "........# you could add validation here as well\n",
    "........# perhaps make the validation a function and use here\n",
    "........# and above\n",
    "........values.append(int(input(f'Enter value {counter}: ')))  # append to list\n",
    "\n",
    "....print(values).... "
   ]
  },
  {
   "cell_type": "code",
   "execution_count": null,
   "metadata": {},
   "outputs": [],
   "source": [
    "from string import ascii_lowercase\n",
    "\n",
    "def checkPangram(s):\n",
    "....source = (char for char in s.lower() if char in ascii_lowercase)\n",
    "....return set(ascii_lowercase) == set(source)\n",
    "\n",
    "def checkPanagram_set(s):\n",
    "....s = { i for i in s.lower() if i.isalpha() }\n",
    "....return len(s) == 26\n",
    "\n",
    "def checkPangram_int(s):\n",
    "....source = set(s).intersection(ascii_lowercase)\n",
    "....return set(ascii_lowercase) == set(source)"
   ]
  },
  {
   "cell_type": "code",
   "execution_count": null,
   "metadata": {},
   "outputs": [],
   "source": [
    "%timeit checkPangram(\"The quick brown fox jumps over the lazy dog\")\n",
    "%timeit checkPangram_int(\"The quick brown fox jumps over the lazy dog\")\n",
    "%timeit checkPanagram_set(\"The quick brown fox jumps over the lazy dog\")\n",
    "\n",
    "%timeit checkPangram(\"The quck brown fox jumps over the lazy dog\")\n",
    "%timeit checkPangram_int(\"The quck brown fox jumps over the lazy dog\")\n",
    "%timeit checkPanagram_set(\"The quck brown fox jumps over the lazy dog\")"
   ]
  },
  {
   "cell_type": "code",
   "execution_count": null,
   "metadata": {},
   "outputs": [],
   "source": [
    "animals_file = open('animals.txt', 'r')\n",
    "verse_file = open('verses.txt', 'w')\n",
    "\n",
    "\n",
    "def main():\n",
    "....for verseNum in range(0, 9):\n",
    "........verseNum = print(verseNum)\n",
    "\n",
    "def variables(verseNum, animal_qty, animal_name, animal_noise):\n",
    "....template = \"Verse: \" + str(verseNum)\n",
    "....template += \"Old MacDonald had a farm\\n\"\n",
    "....template += \"E-I-E-I-O\\n\"\n",
    "....template += \"And on his farm he had {0} {1}'s\\n\"\n",
    "....template += \"E-I-E-I-O\\n\"\n",
    "....template += \"With a {2} {2} here\\n\"\n",
    "....template += \"And a {2} {2} there\\n\"\n",
    "....template += \"Here a {2}, there a {2}\\n\"\n",
    "....template += \"Everywhere a {2} {2}\\n\"\n",
    "....template += \"Old MacDonald had a farm\\n\"\n",
    "....template += \"E-I-E-I-O\\n\"\n",
    "....verse_file.write(template.format(animal_qty, animal_name, animal_noise))\n",
    "\n",
    "for line in animals_file:\n",
    "....animal_list = line.split()\n",
    "....variables(verseNum, animal_list[0], animal_list[1], animal_list[2])\n",
    "\n",
    "verse_file.close()\n",
    "animals_file.close()\n",
    "\n",
    "main()"
   ]
  },
  {
   "cell_type": "code",
   "execution_count": null,
   "metadata": {},
   "outputs": [],
   "source": [
    "from string import Template\n",
    "\n",
    "def variables(verseNum, animal_qty, animal_name, animal_noise):\n",
    "....return text.substitute(verseNum=verseNum, \n",
    "............................   animal_qty=animal_qty, \n",
    "............................   animal_name=animal_name, \n",
    "............................   animal_noise=animal_noise)\n",
    "\n",
    "\n",
    "text = Template(\"\"\"Verse: $verseNum\n",
    "Old MacDonald had a farm\n",
    "E-I-E-I-O\n",
    "And on his farm he had $animal_qty ${animal_name}'s\n",
    "E-I-E-I-O\n",
    "With a $animal_noise $animal_noise here\n",
    "And a $animal_noise $animal_noise there\n",
    "Here a $animal_noise, there a $animal_noise\n",
    "Everywhere a $animal_noise $animal_noise\n",
    "Old MacDonald had a farm\n",
    "E-I-E-I-O\n",
    "\n",
    "\"\"\")\n",
    "\n",
    "with open('animals.txt', 'r') as animals_file, \\\n",
    ".... open('verses5.txt', 'w')  as verse_file:\n",
    "........for verseNum, line in enumerate(animals_file, start=1):\n",
    "............animal_qty, animal_name, animal_noise = line.split()\n",
    "............verse_file.write(variables(verseNum,\n",
    "....................................   animal_qty,\n",
    "....................................   animal_name,\n",
    "....................................   animal_noise))"
   ]
  },
  {
   "cell_type": "code",
   "execution_count": null,
   "metadata": {},
   "outputs": [],
   "source": [
    "....def repr_DNS(dict_):\n",
    "........output = f'{\"Provider\":19} | ips\\n'\n",
    "........for provider, ips in dict_.items():\n",
    "............output += f'{provider:19} | {ips}\\n'\n",
    "........return output\n",
    "\n",
    "....def dict_by_dict():\n",
    "........return dict(zip(providers, ips))\n",
    "\n",
    "....def dict_by_for_zip():\n",
    "........DNS_dictionary = {}\n",
    "........for provider, ip in zip(providers, ips):\n",
    "............DNS_dictionary[provider] = ip\n",
    "........return DNS_dictionary\n",
    "\n",
    "....def dict_by_for_iter():\n",
    "........DNS_dictionary = {}\n",
    "........prov = iter(providers)\n",
    "........ipy = iter(ips)\n",
    "........while True:\n",
    "............try:\n",
    "................DNS_dictionary[next(prov)] = next(ipy)\n",
    "............except StopIteration:\n",
    "................break\n",
    "........return DNS_dictionary\n",
    "........  \n",
    "....providers = [\"Level3\", \"Verisign\", \"Google\", \"Quad9\", \"DNS.WATCH\",\n",
    "....\"Comodo Secure DNS\", \"OpenDNS Home\", \"Norton ConnectSafe\",\n",
    "....\"GreenTeamDNS\", \"SafeDNS\", \"OpenNIC\", \"SmartViper\", \"Dyn\",\n",
    "....\"FreeDNS\", \"Alternate DNS\", \"Yandex.DNS\", \"UncensoredDNS\",\n",
    "....\"Hurricane Electric\", \"puntCAT\", \"Neustar\", \"Cloudflare\",\n",
    "....\"Fourth Estate\"]\n",
    "\n",
    "....ips = [\"209.244.0.3\", \"64.6.64.6\", \"8.8.8.8\", \"9.9.9.9\", \"84.200.69.80\",\n",
    "....\"8.26.56.26\", \"208.67.222.222\", \"199.85.126.10\", \"81.218.119.11\",\n",
    "....\"195.46.39.39\", \"69.195.152.204\", \"208.76.50.50\", \"216.146.35.35\",\n",
    "....\"37.235.1.174\", \"198.101.242.72\", \"77.88.8.8\", \"91.239.100.100\",\n",
    "....\"74.82.42.42\", \"109.69.8.51\", \"156.154.70.1\", \"1.1.1.1\", \"45.77.165.194\"]\n",
    "\n",
    "DNS_1 = dict_by_dict()\n",
    "DNS_2 = dict_by_for_zip()\n",
    "DNS_3 = dict_by_for_iter()\n",
    "\n",
    "DNS_1_repr = repr_DNS(DNS_1)\n",
    "DNS_2_repr = repr_DNS(DNS_2)\n",
    "DNS_3_repr = repr_DNS(DNS_3)\n",
    "\n",
    "print(DNS_1_repr)\n",
    "print(DNS_2_repr)\n",
    "print(DNS_3_repr)"
   ]
  },
  {
   "cell_type": "code",
   "execution_count": null,
   "metadata": {},
   "outputs": [],
   "source": [
    "def mygame():\n",
    "....pass  # put the code for your game here (indented one level)\n",
    "\n",
    "AFFIRM = frozenset({'y', 'yeh', 'yes', 'yup', 'ok'})\n",
    "REJECT = frozenset({'n', 'no', 'nah', 'bye', 'quit', 'q', 'exit'})\n",
    "VALID = AFFIRM.union(REJECT)\n",
    "\n",
    "while True:\n",
    "....mygame()  # calls your game code each time around loop\n",
    "....while True:  # loop to ask player and validate response\n",
    "........again = input('Play again? ').strip().lower()\n",
    "........if again in VALID:\n",
    "............break  # leave the play again loop\n",
    "........print('Sorry, did not understand that. Please try again.')\n",
    "....if again in REJECT:\n",
    "........break # leave the game loop"
   ]
  },
  {
   "cell_type": "code",
   "execution_count": null,
   "metadata": {},
   "outputs": [],
   "source": [
    "import numpy as np\n",
    "\n",
    "array1=np.array([1,2,3])\n",
    "array2=np.array([4,5,6])\n",
    "array3=np.array([1,3,2])"
   ]
  },
  {
   "cell_type": "raw",
   "metadata": {},
   "source": [
    "print(array1 <= array3)"
   ]
  },
  {
   "cell_type": "code",
   "execution_count": null,
   "metadata": {},
   "outputs": [],
   "source": [
    "array4 = array1 < array2"
   ]
  },
  {
   "cell_type": "code",
   "execution_count": null,
   "metadata": {},
   "outputs": [],
   "source": [
    "array4"
   ]
  },
  {
   "cell_type": "code",
   "execution_count": null,
   "metadata": {},
   "outputs": [],
   "source": [
    "array1=np.array([1,8,3])\n",
    "array2=np.array([4,5,6])\n",
    "array3=np.array([1,3,2])\n",
    "test = array1 < array2\n",
    "print(test)\n",
    "if False in (array1 < array2):\n",
    "....print('eek')"
   ]
  },
  {
   "cell_type": "code",
   "execution_count": null,
   "metadata": {},
   "outputs": [],
   "source": [
    "np.array_equal(array1, array2)"
   ]
  },
  {
   "cell_type": "code",
   "execution_count": null,
   "metadata": {},
   "outputs": [],
   "source": [
    "def is_prime(num):\n",
    "....'if num is a Prime number return True, else False'\n",
    "....if not isinstance(num, int) or num < 0:\n",
    "........raise TypeError(f\"{num} is not a positive whole number\")\n",
    "....if num in (0, 1):\n",
    "........return False\n",
    "....if num % 2 == 0:  # check for even numbers\n",
    "........return num == 2\n",
    "....'check odd number divisors up to square root of num'\n",
    "....for divisor in range(3, int(num ** 0.5) + 1, 2):\n",
    "........if num % divisor == 0:\n",
    "............return False\n",
    "....return True"
   ]
  },
  {
   "cell_type": "code",
   "execution_count": null,
   "metadata": {},
   "outputs": [],
   "source": [
    "is_prime(49)"
   ]
  },
  {
   "cell_type": "code",
   "execution_count": null,
   "metadata": {},
   "outputs": [],
   "source": [
    "from random import choices, randint\n",
    "import string\n",
    "\n",
    "class Example():\n",
    "....def __init__(self):\n",
    "........self.num = randint(1, 100)\n",
    "\n",
    "def unique_key(size, instances):\n",
    "....while True:\n",
    "........key = ''.join(choices(string.ascii_lowercase +\n",
    "............................ string.digits, k = size))\n",
    "........if key not in instances:\n",
    "............return key\n",
    "\n",
    "\n",
    "size = 10  # number of instances I require\n",
    "\n",
    "instances = {}\n",
    "for _ in range(size):\n",
    "....instances[unique_key(size, instances)] = Example()\n",
    "\n",
    "for name, instance in instances.items():\n",
    "....print(f'{name}: random number: {instance.num}')"
   ]
  },
  {
   "cell_type": "code",
   "execution_count": null,
   "metadata": {},
   "outputs": [],
   "source": [
    "!python3.7 -m pip install nb_black"
   ]
  },
  {
   "cell_type": "code",
   "execution_count": null,
   "metadata": {},
   "outputs": [],
   "source": [
    "from random import choice, randint\n",
    "from string import ascii_lowercase\n",
    "\n",
    "\n",
    "def create_strs(num=5, low=3, high=6):\n",
    "....\"return list of two-string tuples with <num> elements\"\n",
    "....\"strings formed as per the new_str function\"\n",
    "\n",
    "....def new_str():\n",
    "........\"return string consisting of a lower case letter repeated\"\n",
    "........\"a random number of times (between <low> and <high>)\"\n",
    "........return choice(ascii_lowercase) * randint(low, high)\n",
    "\n",
    "....return [(new_str(), new_str()) for _ in range(randint(5, 10))]\n",
    "\n",
    "\n",
    "def balance(alpha, beta):\n",
    "....\"return string of whichever is longer of <alpha> or <beta>\"\n",
    "....\"that constitutes the substring of the longer part\"\n",
    "....\"(return empty string if same length)\"\n",
    "....len_alpha = len(alpha)\n",
    "....len_beta = len(beta)\n",
    "....if len_alpha < len_beta:\n",
    "........return beta[len_alpha:]\n",
    "....elif len_beta < len_alpha:\n",
    "........return alpha[len_beta:]\n",
    "....else:\n",
    "........return \"\"\n",
    "\n",
    "\n",
    "source = create_strs(20)  # list of 20 tuples of random strings\n",
    "for first, second in source:\n",
    "....merged = \"\".join(\n",
    "........[letter for letter_pair in zip(first, second) for letter in letter_pair]\n",
    "....) + balance(first, second)\n",
    "....print(f\"{merged:12} {len(merged):2}: {len(first)} + {len(second)}\")"
   ]
  },
  {
   "cell_type": "code",
   "execution_count": null,
   "metadata": {},
   "outputs": [],
   "source": [
    "n = int(input(\"size: \"))\n",
    "i = 1\n",
    "o = n // 2\n",
    "o = o * 2\n",
    "o = o + 1\n",
    "for i in range(n):\n",
    "....p = \" \" * o\n",
    "....o -= 1\n",
    "....print(p, end=\"\")\n",
    "....for j in range(i + 1):\n",
    "........print(\"#\", end=\" \")\n",
    "....print()"
   ]
  },
  {
   "cell_type": "code",
   "execution_count": null,
   "metadata": {},
   "outputs": [],
   "source": [
    "while True:\n",
    "....try:\n",
    "........size = int(input(\"size: \"))\n",
    "........if 1 <= size <= 40:\n",
    "............break\n",
    "....except ValueError:\n",
    "........pass\n",
    "....print(\"try again, size needs to be betweem 1 and 40\")\n",
    "\n",
    "padding = \" \" * size\n",
    "fill = \"#\"\n",
    "\n",
    "for _ in range(size):\n",
    "....print(f\"{padding}{fill}\")\n",
    "....padding = padding[1:]\n",
    "....fill += \" #\""
   ]
  },
  {
   "cell_type": "code",
   "execution_count": null,
   "metadata": {},
   "outputs": [],
   "source": [
    "alphabet = \"abcdefghijklmnopqrstuvwxyz\"\n",
    "\n",
    "test_dups = [\n",
    "....\"zzz\",\n",
    "....\"dog\",\n",
    "....\"bookkeeper\",\n",
    "....\"subdermatoglyphic\",\n",
    "....\"subdermatoglyphics\",\n",
    "....\"abcdefghijklmnopqrstuvwxyz\",\n",
    "....\"abcdefghijklmnopqrsuvwxyz\",\n",
    "]\n",
    "\n",
    "test_miss = [\"zzz\", \"subdermatoglyphic\", \"the quick brown fox jumps over the lazy dog\"]\n",
    "\n",
    "\n",
    "def histogram(s):\n",
    "....d = dict()\n",
    "....for c in s:\n",
    "........if c not in d:\n",
    "............d[c] = 1\n",
    "........else:\n",
    "............d[c] += 1\n",
    "....return d\n",
    "\n",
    "\n",
    "# ==================================================================================================================================\n",
    "#............Any code above was provided. Any code below has been written by me.\n",
    "\n",
    "# ==================================================================================================================================\n",
    "def missing_letters(user_str):\n",
    "....\"\"\"\n",
    "........This function takes string as argument and prints out the missing letters.\n",
    "....\"\"\"\n",
    "....ht = histogram(user_str)  # Calling the histogram function as a requirement.\n",
    "....ml = sorted(list(set(alphabet).difference(set(user_str))))\n",
    "....if not ml:\n",
    "........return f\"{user_str} contains all letters.\"\n",
    "....else:\n",
    "........return f'{\"\".join(ml)} {\"is\" if len(ml) == 1 else \"are\"} missing'\n",
    "\n",
    "\n",
    "for test in test_dups:\n",
    "....print(f\"In {test}, {missing_letters(test)}\")\n",
    "#\n",
    "#"
   ]
  },
  {
   "cell_type": "code",
   "execution_count": null,
   "metadata": {},
   "outputs": [],
   "source": [
    "def duplicate_letters(user_str):\n",
    "....\"\"\"\n",
    "........This function takes string as argument and prints out the missing letters.\n",
    "....\"\"\"\n",
    "....ht = histogram(user_str)  # Calling the histogram function as a requirement.\n",
    "....freq = \"\"\n",
    "....for letter, count in ht.items():\n",
    "........if count > 1:\n",
    "............freq += f\"{letter}({count})\"\n",
    "....return freq\n",
    "\n",
    "\n",
    "for test in test_dups:\n",
    "....print(f\"In {test}, {duplicate_letters(test)}\")"
   ]
  },
  {
   "cell_type": "code",
   "execution_count": null,
   "metadata": {},
   "outputs": [],
   "source": [
    "n = int(input(\"enter the number\"))\n",
    "for i in range(0, n):\n",
    "....print(\" \" * (n - 1 - i) + \"* \" * (i + 1))"
   ]
  },
  {
   "cell_type": "code",
   "execution_count": null,
   "metadata": {},
   "outputs": [],
   "source": [
    "my_dict = {\"alpha\": 101, \"beta\": 102, \"charlie\": 103, \"delta\": 104, \"echo\": 105}\n",
    "my_list = [991, 992, 993, 994, 995, 996, 997, 998, 999]\n",
    "for key, replacement in zip(my_dict, my_list[::2]):\n",
    "....my_dict[key] = replacement\n",
    "my_dict"
   ]
  },
  {
   "cell_type": "code",
   "execution_count": null,
   "metadata": {},
   "outputs": [],
   "source": [
    "for g, i in zip(my_list2[::2], range(len(my_list1))):\n",
    "....my_dict.update({list1[i]: g})\n",
    "my_dict"
   ]
  },
  {
   "cell_type": "code",
   "execution_count": null,
   "metadata": {},
   "outputs": [],
   "source": [
    "....def validate(text):\n",
    "........response = text\n",
    "........try:\n",
    "............response = float(text)\n",
    "............response = int(text)\n",
    "........except ValueError:\n",
    "............pass\n",
    "........return response\n",
    "\n",
    "\n",
    "....tests = [\"1\", \"2\", \"4.5\", \"yuk\", \"-5.6\", \"-6\"]\n",
    "\n",
    "....for test in tests:\n",
    "........value = validate(test)\n",
    "........print(f\"{value:4} is {type(value)}\")"
   ]
  },
  {
   "cell_type": "code",
   "execution_count": null,
   "metadata": {},
   "outputs": [],
   "source": [
    "....def sum_digits(num):\n",
    "........total = 0\n",
    "........while num:\n",
    "............total, num = total + num % 10, num // 10\n",
    "........return total\n",
    "\n",
    "\n",
    "....target = int(input(\"Target: \"))\n",
    "....for num in range(100, 1000):\n",
    "........if sum_digits(num) == target:\n",
    "............print(num)"
   ]
  },
  {
   "cell_type": "code",
   "execution_count": null,
   "metadata": {},
   "outputs": [],
   "source": [
    "import re\n",
    "\n",
    "a = input(\"Enter a molecular formular: \")\n",
    "b = re.findall(\"[A-Z][a-z]?|[0-9]+\", a)\n",
    "print(\"Formula:\", a)\n",
    "print(\"Element \\t #\")\n",
    "print(\"=\" * 20)\n",
    "el = [i for i in b if not str(i).isdigit()]\n",
    "num = len(el)\n",
    "for j in range(num):\n",
    "....pos = b.index(el[j])\n",
    "....if pos + 1 < len(b):\n",
    "........if b[pos + 1].isdigit():\n",
    "............num2 = b[pos + 1]\n",
    "........else:\n",
    "............num2 = 1\n",
    "....else:\n",
    "........num2 = 1\n",
    "....print(b[pos], \"\\t\\t\", num2)\n",
    "....print(\"=\" * 20)"
   ]
  },
  {
   "cell_type": "code",
   "execution_count": null,
   "metadata": {},
   "outputs": [],
   "source": [
    "import re\n",
    "\n",
    "a = input(\"Enter a molecular formular: \")\n",
    "b = re.findall(\"[A-Z][a-z]?|[0-9]+\", a)\n",
    "print(\"Formula:\", a)\n",
    "print(\"Element \\t #\")\n",
    "print(\"=\" * 20)\n",
    "el = [i for i in b if not str(i).isdigit()]\n",
    "num = len(el)\n",
    "for thing in el:\n",
    "....pos = b.index(thing)\n",
    "....if pos + 1 < len(b):\n",
    "........if b[pos + 1].isdigit():\n",
    "............num2 = b[pos + 1]\n",
    "........else:\n",
    "............num2 = 1\n",
    "....else:\n",
    "........num2 = 1\n",
    "....print(b[pos], \"\\t\\t\", num2)\n",
    "....print(\"=\" * 20)"
   ]
  },
  {
   "cell_type": "code",
   "execution_count": null,
   "metadata": {},
   "outputs": [],
   "source": [
    "class my_class:\n",
    "....def __init__(self, red=(255, 0, 0), yellow=(255, 255, 0), green=(0, 255, 0)):\n",
    "........self.red = red\n",
    "........self.yellow = yellow\n",
    "........self.green = green\n",
    "\n",
    "....def set_color(self, red, yellow, green):\n",
    "........self.red = red\n",
    "........self.yellow = yellow\n",
    "........self.green = green\n",
    "\n",
    "\n",
    "example = my_class((250, 100, 10))\n",
    "print(example.red, example.yellow, example.green)\n",
    "my_red = 123, 123, 123\n",
    "my_yellow = 244, 0, 100\n",
    "my_green = 150, 100, 0\n",
    "example.set_color(my_red, my_yellow, my_green)\n",
    "print(example.red, example.yellow, example.green)"
   ]
  },
  {
   "cell_type": "code",
   "execution_count": null,
   "metadata": {},
   "outputs": [],
   "source": [
    "def times_table(tables, top):\n",
    "....for x in range(1, tables + 1):\n",
    "........print(f\"{x:2} times table\")\n",
    "........print(\"===============\")\n",
    "........for y in range(1, top + 1):\n",
    "............times = x * y\n",
    "............print(f\"{x:2} x {y:2} = {times:3}\")\n",
    "\n",
    "\n",
    "times_table(4, 6)"
   ]
  },
  {
   "cell_type": "code",
   "execution_count": null,
   "metadata": {},
   "outputs": [],
   "source": [
    "class myClass:\n",
    "....def color(self, color):\n",
    "........colors = {\"red\": (255, 0, 0), \"yellow\": (255, 255, 0), \"green\": (0, 255, 0)}\n",
    "........return colors[color]\n",
    "\n",
    "\n",
    "obj = myClass()\n",
    "print(obj.color(\"red\"))  # output (255, 0, 0)"
   ]
  },
  {
   "cell_type": "code",
   "execution_count": null,
   "metadata": {},
   "outputs": [],
   "source": [
    "obj.color"
   ]
  },
  {
   "cell_type": "code",
   "execution_count": null,
   "metadata": {},
   "outputs": [],
   "source": [
    "from random import choice, randint\n",
    "from string import ascii_lowercase\n",
    "\n",
    "\n",
    "def create_strs(num=5, low=3, high=6):\n",
    "....\"return list of two-string tuples with <num> elements\"\n",
    "....\"strings formed as per the new_str function\"\n",
    "\n",
    "....def new_str():\n",
    "........\"return string consisting of a lower case letter repeated\"\n",
    "........\"a random number of times (between <low> and <high>)\"\n",
    "........return choice(ascii_lowercase) * randint(low, high)\n",
    "\n",
    "....return [(new_str(), new_str()) for _ in range(num)]\n",
    "\n",
    "\n",
    "def balance(alpha, beta):\n",
    "....\"return string of whichever is longer of <alpha> or <beta>\"\n",
    "....\"that constitutes the substring of the longer part\"\n",
    "....\"(return empty string if same length)\"\n",
    "....len_alpha = len(alpha)\n",
    "....len_beta = len(beta)\n",
    "....if len_alpha < len_beta:\n",
    "........return beta[len_alpha:]\n",
    "....elif len_beta < len_alpha:\n",
    "........return alpha[len_beta:]\n",
    "....else:\n",
    "........return \"\"\n",
    "\n",
    "\n",
    "source = create_strs(20)  # list of 20 tuples of random strings\n",
    "\"\"\"for first, second in source:\n",
    "....merged = \"\".join(\n",
    "........[letter for letter_pair in zip(first, second) for letter in letter_pair]\n",
    "....) + balance(first, second)\n",
    "....print(f\"{merged:12} {len(merged):2}: {len(first)} + {len(second)}\")\n",
    "\"\"\"\n",
    "a = [single for pair in create_strs(num=2) for single in pair]\n",
    "a = [\"aaaaaaa\", \"bbbb\", \"ccccccccccc\"]\n",
    "print(a)\n",
    "d = max([len(i) for i in a])\n",
    "for i in range(d):\n",
    "....for j in a:\n",
    "........print(j[i : i + 1], end=\"\")\n",
    "print()"
   ]
  },
  {
   "cell_type": "code",
   "execution_count": null,
   "metadata": {},
   "outputs": [],
   "source": [
    "from difflib import SequenceMatcher\n",
    "\n",
    "def longest_substr(alpha, beta):\n",
    "....seqMatch = SequenceMatcher(None, alpha, beta)\n",
    "....matched = seqMatch.find_longest_match(0, len(alpha), 0, len(alpha))\n",
    "....return alpha[matched.a : matched.a + matched.size] if matched.size != 0 else None"
   ]
  },
  {
   "cell_type": "code",
   "execution_count": null,
   "metadata": {},
   "outputs": [],
   "source": [
    "import unittest\n",
    "\n",
    "\n",
    "def balance(alpha, beta):\n",
    "....\"return string of whichever is longer of <alpha> or <beta>\"\n",
    "....\"that constitutes the substring of the longer part\"\n",
    "....\"(return empty string if same length)\"\n",
    "....len_alpha = len(alpha)\n",
    "....len_beta = len(beta)\n",
    "....if len_alpha < len_beta:\n",
    "........return beta[len_alpha:]\n",
    "....elif len_beta < len_alpha:\n",
    "........return alpha[len_beta:]\n",
    "....else:\n",
    "........return \"\"\n",
    "\n",
    "\n",
    "class TestBalance(unittest.TestCase):\n",
    "....def test_balance(self):\n",
    "........self.assertEqual(balance(\"aaaa\", \"b\"), \"aaa\", \"Should be aaa\")\n",
    "\n",
    "\n",
    "if __name__ == \"__main__\":\n",
    "....unittest.main(argv=[\"first-arg-is-ignored\"], exit=False)"
   ]
  },
  {
   "cell_type": "code",
   "execution_count": null,
   "metadata": {},
   "outputs": [],
   "source": [
    "....def is_4digit(source: str) -> bool:\n",
    "........\"checks <source> string has exactly 4 digit characters\"\n",
    "........\"only; returns True or False accordingly\"\n",
    "........return len(source) == 4 and source.isdigit()"
   ]
  },
  {
   "cell_type": "code",
   "execution_count": null,
   "metadata": {},
   "outputs": [],
   "source": [
    "is_4digit(\"abcd\")"
   ]
  },
  {
   "cell_type": "code",
   "execution_count": null,
   "metadata": {},
   "outputs": [],
   "source": [
    "import numpy as np\n",
    "\n",
    "print(*np.random.random_sample((5,)), sep=\", \")"
   ]
  },
  {
   "cell_type": "code",
   "execution_count": null,
   "metadata": {},
   "outputs": [],
   "source": [
    "!ls *.txt"
   ]
  },
  {
   "cell_type": "code",
   "execution_count": null,
   "metadata": {},
   "outputs": [],
   "source": [
    "!cat poem.txt"
   ]
  },
  {
   "cell_type": "code",
   "execution_count": null,
   "metadata": {},
   "outputs": [],
   "source": [
    "with open(\"poem.txt\") as poem:\n",
    "....text = []\n",
    "....\"\"\"for line in poem:\n",
    "........text.append(line)\"\"\"\n",
    "....text = [word for word in poem.readline()]\n",
    "print(text)"
   ]
  },
  {
   "cell_type": "code",
   "execution_count": null,
   "metadata": {},
   "outputs": [],
   "source": [
    "poem = open('poem.txt')"
   ]
  },
  {
   "cell_type": "code",
   "execution_count": null,
   "metadata": {
    "scrolled": true
   },
   "outputs": [],
   "source": [
    "with open(\"poem.txt\") as poem:\n",
    "....text = []\n",
    "....for line in poem:\n",
    "........text.append(line[:-1])\n",
    "print(text)"
   ]
  },
  {
   "cell_type": "code",
   "execution_count": null,
   "metadata": {},
   "outputs": [],
   "source": [
    "text"
   ]
  },
  {
   "cell_type": "code",
   "execution_count": null,
   "metadata": {},
   "outputs": [],
   "source": [
    "class BankAccount:\n",
    "....def _init_(self):\n",
    "........self.accountNumber = int(input(\"Enter the account number:\"))\n",
    "........self.balance = int(input(\"Enter the amount:\"))\n",
    "\n",
    "....def withdrawl(self):\n",
    "........amo = int(input(\"Enter the amount:\"))\n",
    "........if amo > self.balance:\n",
    "............print(\"you cannot withraw due to insufficient balance\")\n",
    "........else:\n",
    "............self.balance = self.balance - amo\n",
    "............print(\"you withdrew \", amo)\n",
    "............print(\"\\n Available balance \", self.balance, \"$\")\n",
    "\n",
    "....def deposit(self):\n",
    "........amo = int(input(\"Enter the amount:\"))\n",
    "........self.balance = self.balance + amo\n",
    "........print(\"Amount deposited \", amo)\n",
    "........print(\"\\n Available balance \", self.balance, \"$\")\n",
    "\n",
    "....def getBalace(self):\n",
    "........print(\"\\n Available balance \", self.balance, \"$\")\n",
    "\n",
    "\n",
    "class CheckingAccount(BankAccount):\n",
    "....def deductFees(self, fees=5):\n",
    "........self.fees = fees\n",
    "........if self.fees <= self.balance:\n",
    "............self.balance = self.balance - 5\n",
    "............print(\"Fees deducted $5 \\n\")\n",
    "............print(\"\\n Available balance \", self.balance, \"$\")\n",
    "........else:\n",
    "............print(\"\\n Fees can't be deducted due to insufficient balance\")\n",
    "\n",
    "....def checkMinimumBalance(self, minimumBalance=50):\n",
    "........self.minimumBalance = minimumBalance\n",
    "........if self.balance > self.minimumBalance:\n",
    "............print(\"\\n There is enough balance in your account\")\n",
    "............print(\"\\n Available balance \", self.balance, \"$\")\n",
    "........else:\n",
    "............print(\"\\n There is no minimum balance in your account\")\n",
    "............print(\"\\n Minimum balance is 50$\")\n",
    "\n",
    "\n",
    "class SavingAccount(BankAccount):\n",
    "....def addInterest(self, interestRate=2):\n",
    "........self.interestRate = interestRate\n",
    "........interestamo = (self.balance * self.interestRate) / 100\n",
    "........self.balance = self.balance + interestamo\n",
    "........s = CheckingAccount()\n",
    "........while 3:\n",
    "............print(\n",
    "................\"------------------------------------------------------------------\\n\"\n",
    "............)\n",
    "............print(\n",
    "................\" 1.Enter account information\\n 2.Withdraw money\\n 3.Deposit money\\n\\\n",
    "....  4.Know Balance\\n 5.Deduct fees\\n 6.Check minimum balance\\n\\\n",
    "....  7.Add interest\\n 8.Exit\"\n",
    "............)\n",
    "............ch = int(input(\"Enter the choice:\"))\n",
    "\n",
    "............if ch == 1:\n",
    "................s._init_()\n",
    "............elif ch == 2:\n",
    "................s.withdrawl()\n",
    "............elif ch == 3:\n",
    "................s.deposit()\n",
    "............elif ch == 4:\n",
    "................s.getBalace()\n",
    "............elif ch == 5:\n",
    "................s.deductFees()\n",
    "............elif ch == 6:\n",
    "................s.checkMinimumBalance()\n",
    "............elif ch == 7:\n",
    "................s.addInterest()\n",
    "............elif ch == 8:\n",
    "................exit(0)\n",
    "............else:\n",
    "................print(\"Invalid choice\")"
   ]
  },
  {
   "cell_type": "code",
   "execution_count": null,
   "metadata": {},
   "outputs": [],
   "source": [
    "bank = BankAccount()"
   ]
  },
  {
   "cell_type": "code",
   "execution_count": null,
   "metadata": {},
   "outputs": [],
   "source": [
    "bank"
   ]
  },
  {
   "cell_type": "code",
   "execution_count": null,
   "metadata": {},
   "outputs": [],
   "source": [
    "class Fin:\n",
    "....def __init__(self):\n",
    "........self.accountNumber = int(input(\"Enter the account number:\"))\n",
    "........self.balance = int(input(\"Enter the amount:\"))\n",
    "\n",
    "\n",
    "f = Fin()"
   ]
  },
  {
   "cell_type": "code",
   "execution_count": null,
   "metadata": {},
   "outputs": [],
   "source": [
    "vars(f)"
   ]
  },
  {
   "cell_type": "code",
   "execution_count": null,
   "metadata": {},
   "outputs": [],
   "source": [
    "....state = input(\"State in USA you live in: \")\n",
    "....money = input(\"Your income: \")\n",
    "....if state == \"florida\":  # isalpha is redundent test as state == 'florida'\n",
    "........taxf = 0.055 * float(money)\n",
    "........print(\"Taxes you'll have to pay: \" + str(taxf))"
   ]
  },
  {
   "cell_type": "code",
   "execution_count": null,
   "metadata": {},
   "outputs": [],
   "source": [
    "....class Person:\n",
    "........@staticmethod\n",
    "........def foo():\n",
    "............global c\n",
    "............c = 1  # this has nothing to do with the class\n",
    "\n",
    "\n",
    "....class Student:\n",
    "........def __repr__(self):\n",
    "............global c\n",
    "............return f\"Student c: {c}\"\n",
    "\n",
    "\n",
    "....c = 99\n",
    "....print(\"initial c:\", c)\n",
    "....Person.foo()\n",
    "....print(\"post foo c:\", c)\n",
    "....print(Student())"
   ]
  },
  {
   "cell_type": "code",
   "execution_count": null,
   "metadata": {},
   "outputs": [],
   "source": [
    "import re\n",
    "\n",
    "regex = r\"[^[:punct:]]*\"\n",
    "\n",
    "test_str = \"Hello, what's everyone's name?\"\n",
    "\n",
    "matches = re.finditer(regex, test_str, re.MULTILINE)\n",
    "\n",
    "for matchNum, match in enumerate(matches, start=1):\n",
    "\n",
    "....print(\n",
    "........\"Match {matchNum} was found at {start}-{end}: {match}\".format(\n",
    "............matchNum=matchNum, start=match.start(), end=match.end(), match=match.group()\n",
    "........)\n",
    "....)\n",
    "\n",
    "....for groupNum in range(0, len(match.groups())):\n",
    "........groupNum = groupNum + 1\n",
    "\n",
    "........print(\n",
    "............\"Group {groupNum} found at {start}-{end}: {group}\".format(\n",
    "................groupNum=groupNum,\n",
    "................start=match.start(groupNum),\n",
    "................end=match.end(groupNum),\n",
    "................group=match.group(groupNum),\n",
    "............)\n",
    "........)"
   ]
  },
  {
   "cell_type": "code",
   "execution_count": null,
   "metadata": {},
   "outputs": [],
   "source": [
    "matches"
   ]
  },
  {
   "cell_type": "code",
   "execution_count": null,
   "metadata": {},
   "outputs": [],
   "source": [
    "import string\n",
    "\n",
    "print(test_str.translate(str.maketrans(\"\", \"\", string.punctuation)))"
   ]
  },
  {
   "cell_type": "code",
   "execution_count": null,
   "metadata": {},
   "outputs": [],
   "source": [
    "test_str"
   ]
  },
  {
   "cell_type": "code",
   "execution_count": null,
   "metadata": {},
   "outputs": [],
   "source": [
    "MyFile = open(\"poem.txt\", \"r\")\n",
    "MyList = [word for word in MyFile.readline()]\n",
    "MyFile.close()\n",
    "print(MyList)"
   ]
  },
  {
   "cell_type": "code",
   "execution_count": null,
   "metadata": {},
   "outputs": [],
   "source": [
    "import csv\n",
    "\n",
    "with open(\"PetData.csv\") as pet_data:\n",
    "....pet_csv_reader = csv.reader(pet_data, delimiter=\",\")\n",
    "....headers = next(pet_csv_reader)\n",
    "....pets = {}\n",
    "....for name, pet_name, pet_type, age in pet_csv_reader:\n",
    "........if not name in pets:\n",
    "............pets[name] = []\n",
    "........pets[name].append({\"petName\": pet_name, \"type\": pet_type, \"age\": age})"
   ]
  },
  {
   "cell_type": "code",
   "execution_count": null,
   "metadata": {},
   "outputs": [],
   "source": [
    "pets"
   ]
  },
  {
   "cell_type": "code",
   "execution_count": null,
   "metadata": {},
   "outputs": [],
   "source": [
    "x = [2, 2, 2, 4, 4, 5, 6, 7]\n",
    "got_it = set()\n",
    "got_twice = set(n for n in x if n in got_it or got_it.add(n))\n",
    "print(*got_twice, sep=\", \")"
   ]
  },
  {
   "cell_type": "code",
   "execution_count": null,
   "metadata": {},
   "outputs": [],
   "source": [
    "print(*got_twice, sep=\", \")"
   ]
  },
  {
   "cell_type": "code",
   "execution_count": null,
   "metadata": {},
   "outputs": [],
   "source": [
    "type(got_it)"
   ]
  },
  {
   "cell_type": "code",
   "execution_count": null,
   "metadata": {},
   "outputs": [],
   "source": [
    "class Triangle:\n",
    "....def __init__(self, a, b, c):\n",
    "........if not all(\n",
    "............(\n",
    "................isinstance(a, (int, float)),\n",
    "................isinstance(b, (int, float)),\n",
    "................isinstance(c, (int, float)),\n",
    "............)\n",
    "........):\n",
    "............raise TypeError(\"Expected three numbers for lengths of sides of triangle\")\n",
    "........if not ((a + b) > c and (a + c) > b and (b + c) > a):\n",
    "............raise ValueError(\"Supplied lengths cannot form a triangle\")\n",
    "........self.a = a\n",
    "........self.b = b\n",
    "........self.c = c\n",
    "\n",
    "....@property\n",
    "....def perimeter(self):\n",
    "........return self.a + self.b + self.c\n",
    "\n",
    "....@property\n",
    "....def area(self):\n",
    "........s = self.perimeter / 2\n",
    "........return (s * (s - self.a) * (s - self.b) * (s - self.c)) ** 0.5"
   ]
  },
  {
   "cell_type": "code",
   "execution_count": null,
   "metadata": {},
   "outputs": [],
   "source": [
    "tests = (3, 4, 5), (10, 15, 20), (10, 50, 1), (\"Mary\", 5.6, 7.8)\n",
    "for a, b, c in tests:\n",
    "....try:\n",
    "........t = Triangle(a, b, c)\n",
    "....except (ValueError, TypeError) as err_msg:\n",
    "........print(f\"EROR: \\t(test case: {a}, {b}, {c})\")\n",
    "........print(err_msg)\n",
    "....else:\n",
    "........print(f\"{a}, {b}, {c}: perim is: {t.perimeter:.3f}, area is: {t.area:.3f}\")"
   ]
  },
  {
   "cell_type": "code",
   "execution_count": null,
   "metadata": {},
   "outputs": [],
   "source": [
    "....x = int(input())\n",
    "....result = \"\"\n",
    "....while x > 0:\n",
    "........z = x % 2\n",
    "........result = f\"{z:1}\" + result\n",
    "........x //= 2\n",
    "........if x < 1:\n",
    "............break\n",
    "....print(result)"
   ]
  },
  {
   "cell_type": "code",
   "execution_count": null,
   "metadata": {},
   "outputs": [],
   "source": [
    "def charReverse(revWord):\n",
    "....newWord = \"\"\n",
    "....for letter in revWord:\n",
    "........newWord = letter + newWord\n",
    "....return newWord\n",
    "\n",
    "\n",
    "def charReverse_pop(revWord):\n",
    "....revWord = list(revWord)\n",
    "....newWord = []\n",
    "....while revWord:\n",
    "........newWord.append(revWord.pop())\n",
    "....return \"\".join(newWord)\n",
    "\n",
    "\n",
    "def charReverse_idx(revWord):\n",
    "....newWord = \"\"\n",
    "....for idx in range(len(revWord) - 1, -1, -1):\n",
    "........newWord += revWord[idx]\n",
    "....return newWord\n",
    "\n",
    "\n",
    "def charReverse_rec(revWord):\n",
    "....return charReverse_rec(revWord[1:]) + revWord[0] if revWord else revWord\n",
    "\n",
    "\n",
    "print(charReverse(\"Hello\"))\n",
    "print(charReverse_pop(\"Hello\"))\n",
    "print(charReverse_idx(\"Hello\"))\n",
    "print(charReverse_rec(\"Mary had a little lamb, boo hoo\"))"
   ]
  },
  {
   "cell_type": "code",
   "execution_count": null,
   "metadata": {},
   "outputs": [],
   "source": [
    "from ast import literal_eval\n",
    "\n",
    "while True:\n",
    "....try:\n",
    "........list2d = literal_eval(input(\"Enter 2d list: \"))\n",
    "........if not isinstance(list2d, list) or not isinstance(list2d[0], list):\n",
    "............raise TypeError(\"Not a 2d list\")\n",
    "........break\n",
    "....except TypeError as err:\n",
    "........print(err)\n",
    "....except SyntaxError:\n",
    "........print(\"No idea what that was\")\n",
    "....print(\"Try again\")\n",
    "\n",
    "\n",
    "....print(list2d)"
   ]
  },
  {
   "cell_type": "code",
   "execution_count": null,
   "metadata": {},
   "outputs": [],
   "source": [
    "def multiplication(a, b):\n",
    "....def convert_hex_to_dec(hex_):\n",
    "........hex_to_dec = 0\n",
    "........hex_powers = len(hex_) - 1\n",
    "........for idx, digit in enumerate(hex_):\n",
    "............e = ord(digit)\n",
    "............if e > 64:  # is a letter\n",
    "................e -= 55  # A is code 65\n",
    "............else:\n",
    "................e -= 48  # 0 is code 48\n",
    "............hex_to_dec += e * (16 ** (hex_powers - idx))\n",
    "........return hex_to_dec\n",
    "\n",
    "....def convert_dec_to_hex(dec_):\n",
    "........base = \"\"\n",
    "........while dec_ >= 1:\n",
    "............y = str(dec_ % 16)\n",
    "............if dec_ % 16 > 9:\n",
    "................y = chr(ord(str((dec_ % 16) - 10)) + (17))\n",
    "............base = y + base\n",
    "............dec_ = dec_ // 16\n",
    "........return base\n",
    "\n",
    "....r, x = convert_hex_to_dec(a), convert_hex_to_dec(b)\n",
    "\n",
    "....return convert_dec_to_hex(r * x)\n",
    "\n",
    "\n",
    "for tables in range(1, 16):\n",
    "....for rows in range(1, 16):\n",
    "........a, b, c = (\n",
    "............hex(tables)[2:].upper(),\n",
    "............hex(rows)[2:].upper(),\n",
    "............hex(tables * rows)[2:].upper(),\n",
    "........)\n",
    "........test = multiplication(a, b)\n",
    "........try:\n",
    "............assert test == c\n",
    "............print(f\"{a:2} x {b:2} = {test:3}\")\n",
    "........except AssertionError:\n",
    "............print(f\"{a:2} x {b:2} = {test:3} **ERROR** should have been {c:2}\")"
   ]
  },
  {
   "cell_type": "code",
   "execution_count": null,
   "metadata": {},
   "outputs": [],
   "source": [
    "def multiplication(a, b):\n",
    "....def convert_hex_to_dec(hex_):\n",
    "........hex_to_dec = 0\n",
    "........hex_powers = len(hex_) - 1\n",
    "........for idx, digit in enumerate(hex_):\n",
    "............e = ord(digit)\n",
    "............if e > 64:  # is a letter\n",
    "................e -= 55  # A is code 65\n",
    "............else:\n",
    "................e -= 48  # 0 is code 48\n",
    "............hex_to_dec += e * (16 ** (hex_powers - idx))\n",
    "........return hex_to_dec\n",
    "\n",
    "....def convert_dec_to_hex(dec_):\n",
    "........base = \"\"\n",
    "........while dec_ >= 1:\n",
    "............y = str(dec_ % 16)\n",
    "............if dec_ % 16 > 9:\n",
    "................y = chr(ord(str((dec_ % 16) - 10)) + (17))\n",
    "............base = y + base\n",
    "............dec_ = dec_ // 16\n",
    "........return base\n",
    "\n",
    "....r, x = convert_hex_to_dec(a), convert_hex_to_dec(b)\n",
    "\n",
    "....return convert_dec_to_hex(r * x)\n",
    "\n",
    "\n",
    "for tables in range(1, 16):\n",
    "....for rows in range(1, 16):\n",
    "........a, b, c = (\n",
    "............hex(tables)[2:].upper(),\n",
    "............hex(rows)[2:].upper(),\n",
    "............hex(tables * rows)[2:].upper(),\n",
    "........)\n",
    "........test = multiplication(a, b)\n",
    "........try:\n",
    "............assert test == c\n",
    "............print(f\"{a:2} x {b:2} = {test:3}\")\n",
    "........except AssertionError:\n",
    "............print(f\"{a:2} x {b:2} = {test:3} **ERROR** should have been {c:2}\")"
   ]
  },
  {
   "cell_type": "code",
   "execution_count": null,
   "metadata": {},
   "outputs": [],
   "source": [
    "multiplication(\"AF\", \"3\")"
   ]
  },
  {
   "cell_type": "code",
   "execution_count": null,
   "metadata": {},
   "outputs": [],
   "source": [
    "hex(int(\"af\", 16) * int(\"3\", 16))"
   ]
  },
  {
   "cell_type": "code",
   "execution_count": null,
   "metadata": {},
   "outputs": [],
   "source": [
    "def income_tax(income):\n",
    "....if income >= 0 and income <= 9525:\n",
    "........print(income * 0.10)\n",
    "....elif income >= 9526 and income <= 38700:\n",
    "........print(0.12 * (income - 952.50))\n",
    "....elif income >= 38701 and income <= 82500:\n",
    "........print(0.22 * (income - 4453.50))\n",
    "....elif income >= 82501 and income <= 157500:\n",
    "........print(0.24 * (income - 14089.50))\n",
    "....elif income >= 157501 and income <= 200000:\n",
    "........print(0.32 * (income - 32089.50))\n",
    "....elif income >= 200001 and income <= 500000:\n",
    "........print(0.35 * (income - 45689.50))\n",
    "....else:\n",
    "........print(0.37 * (income - 150689.50))"
   ]
  },
  {
   "cell_type": "code",
   "execution_count": null,
   "metadata": {},
   "outputs": [],
   "source": [
    "income_tax(90053)"
   ]
  },
  {
   "cell_type": "code",
   "execution_count": null,
   "metadata": {},
   "outputs": [],
   "source": [
    "print(0.24 * (90053 - 14089.50))"
   ]
  },
  {
   "cell_type": "code",
   "execution_count": null,
   "metadata": {},
   "outputs": [],
   "source": [
    "prof = 15902.22"
   ]
  },
  {
   "cell_type": "code",
   "execution_count": null,
   "metadata": {},
   "outputs": [],
   "source": [
    "15902.22 / 0.24"
   ]
  },
  {
   "cell_type": "code",
   "execution_count": null,
   "metadata": {},
   "outputs": [],
   "source": [
    "band1 = 9525\n",
    "band2 = 38700 - 9526\n",
    "taxb1 = band1 * 0.10\n",
    "taxb2 = band2 * 0.12\n",
    "taxb1 + taxb2"
   ]
  },
  {
   "cell_type": "code",
   "execution_count": null,
   "metadata": {},
   "outputs": [],
   "source": [
    "import matplotlib.pyplot as pl"
   ]
  },
  {
   "cell_type": "code",
   "execution_count": null,
   "metadata": {},
   "outputs": [],
   "source": [
    "import sys\n",
    "\n",
    "print(sys.version)"
   ]
  },
  {
   "cell_type": "code",
   "execution_count": null,
   "metadata": {},
   "outputs": [],
   "source": [
    "\n",
    "\n",
    "!python3.7 --version"
   ]
  },
  {
   "cell_type": "code",
   "execution_count": null,
   "metadata": {},
   "outputs": [],
   "source": [
    "list_name = [\"alpha\", \"beta\", \"charlie\"]\n",
    "print(list_name)\n",
    "list_name.reverse()\n",
    "print(list_name)\n",
    "list_name = list_name[::-1]\n",
    "print(list_name)\n",
    "\n",
    "# produces:"
   ]
  },
  {
   "cell_type": "code",
   "execution_count": null,
   "metadata": {},
   "outputs": [],
   "source": [
    "print (\"Welcome to Your Budget Program\")\n",
    "\n",
    "print ('\\n')\n",
    "\n",
    "\n",
    "userBudget = float( input( \"What is your monthly budget?\"))\n",
    "while userBudget <= 0:\\\n",
    "....  userBudget = int( input('That is not a valid number. Please enter again: '))\n",
    "\n",
    "expenses = 0\n",
    "for day_number in range (1, 31 + 1):\n",
    "....while True:\n",
    "........user_input = float(input(f\"How much did you spend on day {day_number}?\\n> \"))\n",
    "........if user_input < 0:\n",
    "............print(f\"Amount may not be negative. Try again:\")\n",
    "........else:\n",
    "............expenses += user_input\n",
    "............break\n",
    "\n",
    "print ('\\n')....   \n",
    "\n",
    "finalExpenses = expenses\n",
    "underBudget = userBudget - finalExpenses\n",
    "overBudget = finalExpenses - userBudget\n",
    "....\n",
    "\n",
    "if finalExpenses > userBudget:\n",
    "....print( \"You are over your budget by $\" +str(overBudget))\n",
    "elif finalExpenses < userBudget:\n",
    "....print( \"Congratulations. You came in under budget by $\" +str(underBudget))\n",
    "else:\n",
    "....print( \"You used exactly your budget of $\" +str(userBudget))"
   ]
  },
  {
   "cell_type": "code",
   "execution_count": null,
   "metadata": {},
   "outputs": [],
   "source": [
    "import urllib.request\n",
    "import json\n",
    "\n",
    "url = \"http://py4e-data.dr-chuck.net/comments_283088.json\"\n",
    "source = urllib.request.urlopen(url)\n",
    "data = source.read()\n",
    "js = json.loads(data)\n",
    "for key in js:\n",
    "....print(key)"
   ]
  },
  {
   "cell_type": "code",
   "execution_count": null,
   "metadata": {},
   "outputs": [],
   "source": [
    "print(\"******************* Main Menu ***************** \\n 1. Create Roster \\n 2. Create Teams Manually \\n 3. Create Teams Randomly \\n 4. Sort Team Members \\n 5. Delete A Team \\n************************************************\")\n",
    "MenuOption = input(\"Choose a menu input: \")\n",
    "StudentIDLog = {}\n",
    "StudentIDTempLog = {}\n",
    "while True:\n",
    "....if MenuOption == \"1\":\n",
    "........NumberStudents = int(input(\"How many students would you like to enter: \"))\n",
    "........for i in range(NumberStudents):\n",
    "............# Add student names and IDs by splitting, capitalizing and stripping them to a dictionary called StudentIDLog\n",
    "............StudentIDInputs = input(f\"Enter student {i+1}: \")\n",
    "............StudentIDName, StudentIDNumber = StudentIDInputs.split()\n",
    "............StudentIDName.strip().capitalize()\n",
    "............StudentIDNumber.strip()\n",
    "............StudentIDNumber = str(StudentIDNumber)\n",
    "............if (len(StudentIDNumber) == 9):\n",
    "................StudentIDTempLog[StudentIDNumber] = StudentIDName\n",
    "................StudentIDLog.update(StudentIDTempLog)\n",
    "............# if the ID is not 9 digits, it will restart the loop and ask how many students again. The student id log will be cleared.\n",
    "............else:\n",
    "................print(\"The Student ID is not in the correct format. Try again.\")\n",
    "................StudentIDLog = {}\n",
    "................StudentIDTempLog = {}\n",
    "................break\n",
    "........print()\n",
    "........print(\"Current Roster:\")\n",
    "........# print\n",
    "........for StudentNumber, StudentName in StudentIDLog.items():\n",
    "............print(\"%s \\t \\t %s\" % (StudentName, StudentNumber))\n",
    "........print()\n",
    "........print()\n",
    "........print(\"******************* Main Menu ***************** \\n 1. Create Roster \\n 2. Create Teams Manually \\n 3. Create Teams Randomly \\n 4. Sort Team Members \\n 5. Delete A Team \\n************************************************\")\n",
    "........MenuOption = input(\"Choose a menu input: \")\n",
    "....if MenuOption == \"2\":\n",
    "........# Ask for how many teams you want. Divide the amount of members by teams. If there is remainder, let the program only take the inputs for the remainder.\n",
    "........TeamSizeInput = int(input(\"What is the team size: \"))\n",
    "........membercount = 0  # membercount keeps track of\n",
    "........NumberManualTeams = (NumberStudents) / (TeamSizeInput)\n",
    "........NumberManualRemain = NumberStudents % TeamSizeInput\n",
    "........if NumberManualRemain != 0:\n",
    "............NumberManualTeams = (NumberStudents // TeamSizeInput) + 1\n",
    "........else:\n",
    "............NumberManualTeams = NumberStudents / TeamSizeInput\n",
    "........NumberManualTeams = int(NumberManualTeams)\n",
    "........ManualTeamList = [[] for i in range(TeamSizeInput)]\n",
    "........tempMember = []\n",
    "........for i in range(NumberManualTeams):\n",
    "............print(f\"Enter students for team {i+1}:\")\n",
    "............for j in range(TeamSizeInput):\n",
    "................if membercount >= NumberStudents:\n",
    "....................break\n",
    "................else:\n",
    "....................ManualMemberInput = input().splitlines()\n",
    "....................for member in ManualMemberInput:\n",
    "........................for teamlist in ManualTeamList:\n",
    "............................ManualTeamList[teamlist].append(member)\n",
    "........................print(ManualTeamList)"
   ]
  },
  {
   "cell_type": "code",
   "execution_count": null,
   "metadata": {},
   "outputs": [],
   "source": [
    "StudentIDLog"
   ]
  },
  {
   "cell_type": "code",
   "execution_count": null,
   "metadata": {},
   "outputs": [],
   "source": [
    "def get_int(msg=\"Enter a whole number: \", err=\"That was not a whole number, try again.\"):\n",
    "....while True:\n",
    "........try:\n",
    "............number = int(input(msg))\n",
    "............return number\n",
    "........except ValueError:\n",
    "............print(err)\n",
    "\n",
    "\n",
    "nums = []\n",
    "for count in range(1, 6):\n",
    "....nums.append(get_int(f'Enter whole number #{count}: '))\n",
    "\n",
    "print(f'Total = {sum(nums)}')"
   ]
  },
  {
   "cell_type": "code",
   "execution_count": null,
   "metadata": {},
   "outputs": [],
   "source": []
  },
  {
   "cell_type": "code",
   "execution_count": 6,
   "metadata": {},
   "outputs": [
    {
     "name": "stdout",
     "output_type": "stream",
     "text": [
      "Enter whole number #1: \n",
      "That was not a whole number, try again.\n",
      "Enter whole number #1: - 1\n",
      "That was not a whole number, try again.\n",
      "Enter whole number #1: -1\n",
      "Enter whole number #2: 12.3\n",
      "That was not a whole number, try again.\n",
      "Enter whole number #2: -12.4\n",
      "That was not a whole number, try again.\n",
      "Enter whole number #2: -5\n",
      "Enter whole number #3: 1-\n",
      "That was not a whole number, try again.\n",
      "Enter whole number #3: 10\n",
      "Enter whole number #4: +20\n",
      "That was not a whole number, try again.\n",
      "Enter whole number #4: 20\n",
      "Enter whole number #5: 20\n",
      "Total = 44\n"
     ]
    }
   ],
   "source": [
    "def get_int(msg=\"Enter a whole number: \", err=\"That was not a whole number, try again.\"):\n",
    "....while True:\n",
    "........ans = input(msg).strip()\n",
    "........if ans.isdigit() or (ans[:1] == \"-\" and ans[1:].isdigit()):\n",
    "............return int(ans)\n",
    "........print(err)\n",
    "............\n",
    "............\n",
    "nums = []\n",
    "for count in range(1, 6):\n",
    "....nums.append(get_int(f'Enter whole number #{count}: '))\n",
    "\n",
    "print(f'Total = {sum(nums)}')"
   ]
  },
  {
   "cell_type": "code",
   "execution_count": 42,
   "metadata": {},
   "outputs": [
    {
     "name": "stdout",
     "output_type": "stream",
     "text": [
      "\n",
      "\n",
      "Original:\n",
      "     col_0    col_1    col_2    col_3    col_4    col_5\n",
      "0      Bad      Bad  Strange     Good  Strange     Ugly\n",
      "1      Bad     Good     Ugly     Good     Ugly     Ugly\n",
      "2     Ugly  Strange     Good      Bad     Good     Good\n",
      "3      Bad      Bad     Ugly     Ugly      Bad     Ugly\n",
      "4     Good      Bad     Good  Strange      Bad     Ugly\n",
      "5      Bad     Ugly      Bad  Strange     Ugly  Strange\n",
      "6     Good      Bad     Good  Strange  Strange      Bad\n",
      "7     Good      Bad  Strange     Ugly      Bad     Ugly\n",
      "8     Good      Bad  Strange     Good      Bad  Strange\n",
      "9  Strange     Good  Strange     Good     Ugly     Good\n",
      "\n",
      "\n",
      "Altered:\n",
      "     col_0    col_1    col_2    col_3    col_4    col_5\n",
      "0      Bad      Bad  Strange       10  Strange     Ugly\n",
      "1      Bad     Good        0       10        0     Ugly\n",
      "2     Ugly  Strange       10        5       10     Good\n",
      "3      Bad      Bad        0        0        5     Ugly\n",
      "4     Good      Bad       10  Strange        5     Ugly\n",
      "5      Bad     Ugly        5  Strange        0  Strange\n",
      "6     Good      Bad       10  Strange  Strange      Bad\n",
      "7     Good      Bad  Strange        0        5     Ugly\n",
      "8     Good      Bad  Strange       10        5  Strange\n",
      "9  Strange     Good  Strange       10        0     Good\n"
     ]
    }
   ],
   "source": [
    "import pandas as pd\n",
    "from random import choice\n",
    "\n",
    "'some random data'\n",
    "choices = ['Good', 'Bad', 'Ugly', 'Strange']\n",
    "data_array = [[choice(choices) for _ in range(6)] for _ in range(10)]\n",
    "df = pd.DataFrame(data_array, columns=list(f'col_{i}' for i in range(6)))\n",
    "print(f'\\n\\nOriginal:\\n{df}')\n",
    "\n",
    "'replacing some data using a dictionary'\n",
    "replacements = {'Good': 10, 'Bad': 5, 'Ugly':0}\n",
    "df.update(df.loc[:, 'col_2':'col_4'].replace(replacements))\n",
    "print(f'\\n\\nAltered:\\n{df}')"
   ]
  },
  {
   "cell_type": "code",
   "execution_count": 37,
   "metadata": {},
   "outputs": [
    {
     "data": {
      "text/plain": [
       "str"
      ]
     },
     "execution_count": 37,
     "metadata": {},
     "output_type": "execute_result"
    }
   ],
   "source": [
    "type(df.loc[4,'col_6'])"
   ]
  },
  {
   "cell_type": "code",
   "execution_count": 28,
   "metadata": {},
   "outputs": [
    {
     "data": {
      "text/html": [
       "<div>\n",
       "<style scoped>\n",
       "    .dataframe tbody tr th:only-of-type {\n",
       "        vertical-align: middle;\n",
       "    }\n",
       "\n",
       "    .dataframe tbody tr th {\n",
       "        vertical-align: top;\n",
       "    }\n",
       "\n",
       "    .dataframe thead th {\n",
       "        text-align: right;\n",
       "    }\n",
       "</style>\n",
       "<table border=\"1\" class=\"dataframe\">\n",
       "  <thead>\n",
       "    <tr style=\"text-align: right;\">\n",
       "      <th></th>\n",
       "      <th>a</th>\n",
       "      <th>b</th>\n",
       "      <th>c</th>\n",
       "      <th>d</th>\n",
       "    </tr>\n",
       "  </thead>\n",
       "  <tbody>\n",
       "    <tr>\n",
       "      <th>0</th>\n",
       "      <td>Ugly</td>\n",
       "      <td>Ugly</td>\n",
       "      <td>Good</td>\n",
       "      <td>Bad</td>\n",
       "    </tr>\n",
       "    <tr>\n",
       "      <th>1</th>\n",
       "      <td>Ugly</td>\n",
       "      <td>Bad</td>\n",
       "      <td>Ugly</td>\n",
       "      <td>Good</td>\n",
       "    </tr>\n",
       "    <tr>\n",
       "      <th>2</th>\n",
       "      <td>Okay</td>\n",
       "      <td>Good</td>\n",
       "      <td>Ugly</td>\n",
       "      <td>Good</td>\n",
       "    </tr>\n",
       "    <tr>\n",
       "      <th>3</th>\n",
       "      <td>Ugly</td>\n",
       "      <td>Ugly</td>\n",
       "      <td>Good</td>\n",
       "      <td>Bad</td>\n",
       "    </tr>\n",
       "    <tr>\n",
       "      <th>4</th>\n",
       "      <td>Okay</td>\n",
       "      <td>Bad</td>\n",
       "      <td>Okay</td>\n",
       "      <td>Bad</td>\n",
       "    </tr>\n",
       "    <tr>\n",
       "      <th>5</th>\n",
       "      <td>Good</td>\n",
       "      <td>Good</td>\n",
       "      <td>Okay</td>\n",
       "      <td>Ugly</td>\n",
       "    </tr>\n",
       "    <tr>\n",
       "      <th>6</th>\n",
       "      <td>Good</td>\n",
       "      <td>Ugly</td>\n",
       "      <td>Good</td>\n",
       "      <td>Ugly</td>\n",
       "    </tr>\n",
       "    <tr>\n",
       "      <th>7</th>\n",
       "      <td>Okay</td>\n",
       "      <td>Ugly</td>\n",
       "      <td>Ugly</td>\n",
       "      <td>Ugly</td>\n",
       "    </tr>\n",
       "    <tr>\n",
       "      <th>8</th>\n",
       "      <td>Good</td>\n",
       "      <td>Good</td>\n",
       "      <td>Good</td>\n",
       "      <td>Good</td>\n",
       "    </tr>\n",
       "    <tr>\n",
       "      <th>9</th>\n",
       "      <td>Good</td>\n",
       "      <td>Bad</td>\n",
       "      <td>Ugly</td>\n",
       "      <td>Good</td>\n",
       "    </tr>\n",
       "  </tbody>\n",
       "</table>\n",
       "</div>"
      ],
      "text/plain": [
       "      a     b     c     d\n",
       "0  Ugly  Ugly  Good   Bad\n",
       "1  Ugly   Bad  Ugly  Good\n",
       "2  Okay  Good  Ugly  Good\n",
       "3  Ugly  Ugly  Good   Bad\n",
       "4  Okay   Bad  Okay   Bad\n",
       "5  Good  Good  Okay  Ugly\n",
       "6  Good  Ugly  Good  Ugly\n",
       "7  Okay  Ugly  Ugly  Ugly\n",
       "8  Good  Good  Good  Good\n",
       "9  Good   Bad  Ugly  Good"
      ]
     },
     "execution_count": 28,
     "metadata": {},
     "output_type": "execute_result"
    }
   ],
   "source": [
    "df"
   ]
  },
  {
   "cell_type": "code",
   "execution_count": 20,
   "metadata": {},
   "outputs": [
    {
     "data": {
      "text/html": [
       "<div>\n",
       "<style scoped>\n",
       "    .dataframe tbody tr th:only-of-type {\n",
       "        vertical-align: middle;\n",
       "    }\n",
       "\n",
       "    .dataframe tbody tr th {\n",
       "        vertical-align: top;\n",
       "    }\n",
       "\n",
       "    .dataframe thead th {\n",
       "        text-align: right;\n",
       "    }\n",
       "</style>\n",
       "<table border=\"1\" class=\"dataframe\">\n",
       "  <thead>\n",
       "    <tr style=\"text-align: right;\">\n",
       "      <th></th>\n",
       "      <th>a</th>\n",
       "      <th>c</th>\n",
       "    </tr>\n",
       "  </thead>\n",
       "  <tbody>\n",
       "    <tr>\n",
       "      <th>0</th>\n",
       "      <td>Okay</td>\n",
       "      <td>Okay</td>\n",
       "    </tr>\n",
       "    <tr>\n",
       "      <th>1</th>\n",
       "      <td>Okay</td>\n",
       "      <td>Good</td>\n",
       "    </tr>\n",
       "    <tr>\n",
       "      <th>2</th>\n",
       "      <td>Okay</td>\n",
       "      <td>Okay</td>\n",
       "    </tr>\n",
       "    <tr>\n",
       "      <th>3</th>\n",
       "      <td>Good</td>\n",
       "      <td>Okay</td>\n",
       "    </tr>\n",
       "    <tr>\n",
       "      <th>4</th>\n",
       "      <td>Ugly</td>\n",
       "      <td>Good</td>\n",
       "    </tr>\n",
       "    <tr>\n",
       "      <th>5</th>\n",
       "      <td>Good</td>\n",
       "      <td>Good</td>\n",
       "    </tr>\n",
       "    <tr>\n",
       "      <th>6</th>\n",
       "      <td>Ugly</td>\n",
       "      <td>Okay</td>\n",
       "    </tr>\n",
       "    <tr>\n",
       "      <th>7</th>\n",
       "      <td>Okay</td>\n",
       "      <td>Good</td>\n",
       "    </tr>\n",
       "    <tr>\n",
       "      <th>8</th>\n",
       "      <td>Good</td>\n",
       "      <td>Ugly</td>\n",
       "    </tr>\n",
       "    <tr>\n",
       "      <th>9</th>\n",
       "      <td>Good</td>\n",
       "      <td>Ugly</td>\n",
       "    </tr>\n",
       "  </tbody>\n",
       "</table>\n",
       "</div>"
      ],
      "text/plain": [
       "      a     c\n",
       "0  Okay  Okay\n",
       "1  Okay  Good\n",
       "2  Okay  Okay\n",
       "3  Good  Okay\n",
       "4  Ugly  Good\n",
       "5  Good  Good\n",
       "6  Ugly  Okay\n",
       "7  Okay  Good\n",
       "8  Good  Ugly\n",
       "9  Good  Ugly"
      ]
     },
     "execution_count": 20,
     "metadata": {},
     "output_type": "execute_result"
    }
   ],
   "source": [
    "df2"
   ]
  },
  {
   "cell_type": "code",
   "execution_count": 44,
   "metadata": {},
   "outputs": [
    {
     "name": "stdout",
     "output_type": "stream",
     "text": [
      "consonant T\n",
      "consonant h\n",
      "vowel e\n",
      "consonant  \n",
      "consonant l\n",
      "vowel a\n",
      "consonant z\n",
      "consonant y\n",
      "consonant  \n",
      "consonant d\n",
      "vowel o\n",
      "consonant g\n"
     ]
    }
   ],
   "source": [
    "vowels = ['a', 'e', 'i', 'o', 'u']\n",
    "test = \"The lazy dog\"\n",
    "for letter in test:\n",
    "....if letter in vowels:\n",
    "........print('vowel', letter)\n",
    "....else:\n",
    "........print('consonant', letter)"
   ]
  },
  {
   "cell_type": "code",
   "execution_count": 46,
   "metadata": {},
   "outputs": [
    {
     "ename": "SyntaxError",
     "evalue": "invalid syntax (<ipython-input-46-55109efef94d>, line 1)",
     "output_type": "error",
     "traceback": [
      "\u001b[0;36m  File \u001b[0;32m\"<ipython-input-46-55109efef94d>\"\u001b[0;36m, line \u001b[0;32m1\u001b[0m\n\u001b[0;31m    while num:= input() != 'EXIT' :\u001b[0m\n\u001b[0m              ^\u001b[0m\n\u001b[0;31mSyntaxError\u001b[0m\u001b[0;31m:\u001b[0m invalid syntax\n"
     ]
    }
   ],
   "source": [
    "while num:= input() != 'EXIT' :\n",
    "....print( 'Invalid input' if not num.isdigit() else \"ODD\" if int(num)%2 else \"EVEN\" )"
   ]
  },
  {
   "cell_type": "code",
   "execution_count": 50,
   "metadata": {},
   "outputs": [
    {
     "name": "stdout",
     "output_type": "stream",
     "text": [
      "Num? \n",
      "Invalid input\n",
      "Num? 5\n",
      "ODD\n",
      "Num? 6\n",
      "EVEN\n",
      "Num? -9\n",
      "ODD\n",
      "Num? -8\n",
      "EVEN\n",
      "Num? EXIT\n"
     ]
    }
   ],
   "source": [
    "while True:\n",
    "....num = input('Num? ')\n",
    "....if num == 'EXIT':\n",
    "........break\n",
    "....print('Invalid input'if not (num.isdigit() \n",
    "............or (num[:1]=='-' and num[1:].isdigit())) \n",
    "............else \"ODD\" if int(num)%2 else \"EVEN\" )"
   ]
  },
  {
   "cell_type": "code",
   "execution_count": 60,
   "metadata": {},
   "outputs": [
    {
     "name": "stdout",
     "output_type": "stream",
     "text": [
      "1st\n",
      "2nd\n",
      "3rd\n",
      "4th\n",
      "5th\n",
      "6th\n",
      "7th\n",
      "8th\n",
      "9th\n"
     ]
    }
   ],
   "source": [
    "endings = {1: 'st', 2: 'nd', 3: 'rd'}\n",
    "numbers = [1, 2, 3, 4, 5, 6, 7, 8, 9]\n",
    "for number in numbers:\n",
    "....print(f\"{number}{endings.get(number, 'th')}\")"
   ]
  },
  {
   "cell_type": "code",
   "execution_count": 58,
   "metadata": {},
   "outputs": [
    {
     "data": {
      "text/plain": [
       "'th'"
      ]
     },
     "execution_count": 58,
     "metadata": {},
     "output_type": "execute_result"
    }
   ],
   "source": [
    "number = 9 \n",
    "endings = {1: 'st', 2: 'nd', 3: 'rd'}\n",
    "endings.get(number, 'th')"
   ]
  },
  {
   "cell_type": "code",
   "execution_count": 61,
   "metadata": {},
   "outputs": [
    {
     "data": {
      "text/plain": [
       "['__add__',\n",
       " '__class__',\n",
       " '__delattr__',\n",
       " '__dir__',\n",
       " '__doc__',\n",
       " '__eq__',\n",
       " '__format__',\n",
       " '__ge__',\n",
       " '__getattribute__',\n",
       " '__gt__',\n",
       " '__hash__',\n",
       " '__init__',\n",
       " '__init_subclass__',\n",
       " '__le__',\n",
       " '__lt__',\n",
       " '__ne__',\n",
       " '__new__',\n",
       " '__radd__',\n",
       " '__reduce__',\n",
       " '__reduce_ex__',\n",
       " '__repr__',\n",
       " '__rsub__',\n",
       " '__setattr__',\n",
       " '__sizeof__',\n",
       " '__str__',\n",
       " '__sub__',\n",
       " '__subclasshook__',\n",
       " 'ctime',\n",
       " 'day',\n",
       " 'fromisoformat',\n",
       " 'fromordinal',\n",
       " 'fromtimestamp',\n",
       " 'isocalendar',\n",
       " 'isoformat',\n",
       " 'isoweekday',\n",
       " 'max',\n",
       " 'min',\n",
       " 'month',\n",
       " 'replace',\n",
       " 'resolution',\n",
       " 'strftime',\n",
       " 'timetuple',\n",
       " 'today',\n",
       " 'toordinal',\n",
       " 'weekday',\n",
       " 'year']"
      ]
     },
     "execution_count": 61,
     "metadata": {},
     "output_type": "execute_result"
    }
   ],
   "source": [
    "from datetime import date\n",
    "\n",
    "dir(date)"
   ]
  },
  {
   "cell_type": "code",
   "execution_count": 63,
   "metadata": {},
   "outputs": [],
   "source": [
    "import numpy as np\n",
    "\n",
    "student = np.dtype([('name', 'S20')])"
   ]
  },
  {
   "cell_type": "code",
   "execution_count": 64,
   "metadata": {},
   "outputs": [],
   "source": [
    "a = np.array([('Fred')], dtype = student)"
   ]
  },
  {
   "cell_type": "code",
   "execution_count": 65,
   "metadata": {},
   "outputs": [
    {
     "data": {
      "text/plain": [
       "array([(b'Fred',)], dtype=[('name', 'S20')])"
      ]
     },
     "execution_count": 65,
     "metadata": {},
     "output_type": "execute_result"
    }
   ],
   "source": [
    "a"
   ]
  },
  {
   "cell_type": "code",
   "execution_count": 68,
   "metadata": {},
   "outputs": [
    {
     "data": {
      "text/plain": [
       "'Fred'"
      ]
     },
     "execution_count": 68,
     "metadata": {},
     "output_type": "execute_result"
    }
   ],
   "source": [
    "a[0][0].decode('UTF-8')"
   ]
  },
  {
   "cell_type": "code",
   "execution_count": 70,
   "metadata": {},
   "outputs": [
    {
     "name": "stdout",
     "output_type": "stream",
     "text": [
      "b'Fred'\n"
     ]
    }
   ],
   "source": [
    "print(f'{a[0][0]}')"
   ]
  },
  {
   "cell_type": "code",
   "execution_count": 93,
   "metadata": {},
   "outputs": [
    {
     "name": "stdout",
     "output_type": "stream",
     "text": [
      "Enter data: \n",
      "Incorrect number of items. Try again.\n",
      "Enter data: test\n",
      "Wrong kind of data. Try again\n",
      "Enter data: 123 456\n",
      "Incorrect number of items. Try again.\n",
      "Enter data: 123\n",
      "Two whole numbers, with space between: 123 4.56\n",
      "Wrong kind of data. Try again\n",
      "Two whole numbers, with space between: 123 456\n",
      "Two decimal numbers, with space between: 12.3 45.6\n",
      "Four words: Mary had a lamb\n",
      "[123]\n",
      "[123, 456]\n",
      "[12.3, 45.6]\n",
      "['Mary', 'had', 'a', 'lamb']\n",
      "\n"
     ]
    }
   ],
   "source": [
    "def get_input(msg='Enter data: ', items=1, type_=int):\n",
    "....'prompt user for input and return list of #<items> correctly'\n",
    "....'typed items - reprompt user if any errors'\n",
    "....\n",
    "....def check_types(source, type_):\n",
    "........'cast each item in <source> list to type <type_>'\n",
    "........'and return new list, or empty list if any errors'\n",
    "........if type_ == str: return source\n",
    "........try:\n",
    "............return [type_(item) for item in source]\n",
    "........except ValueError:\n",
    "............return None\n",
    "........\n",
    "....while True:\n",
    "........answer = input(msg).split()\n",
    "........if len(answer) == items:\n",
    "............responses = check_types(answer, type_)\n",
    "............if responses:\n",
    "................return responses\n",
    "............else:\n",
    "................print(\"Wrong kind of data. Try again\")\n",
    "........else:\n",
    "............print(\"Incorrect number of items. Try again.\")\n",
    "........\n",
    "one_i = get_input()\n",
    "two_i = get_input(\"Two whole numbers, with space between: \", 2)\n",
    "two_d = get_input(\"Two decimal numbers, with space between: \",2, float)\n",
    "four_s = get_input(\"Four words: \", 4, str)\n",
    "print(f'{one_i}\\n{two_i}\\n{two_d}\\n{four_s}\\n')"
   ]
  },
  {
   "cell_type": "code",
   "execution_count": 84,
   "metadata": {},
   "outputs": [
    {
     "name": "stdout",
     "output_type": "stream",
     "text": [
      "[100] [23, 25] [45.6, 76.3]\n"
     ]
    }
   ],
   "source": [
    "print(one, two, three)"
   ]
  },
  {
   "cell_type": "code",
   "execution_count": 80,
   "metadata": {},
   "outputs": [
    {
     "data": {
      "text/plain": [
       "[2, 3]"
      ]
     },
     "execution_count": 80,
     "metadata": {},
     "output_type": "execute_result"
    }
   ],
   "source": [
    "two"
   ]
  },
  {
   "cell_type": "code",
   "execution_count": 81,
   "metadata": {},
   "outputs": [
    {
     "data": {
      "text/plain": [
       "[2.3, 4.5]"
      ]
     },
     "execution_count": 81,
     "metadata": {},
     "output_type": "execute_result"
    }
   ],
   "source": [
    "three"
   ]
  },
  {
   "cell_type": "code",
   "execution_count": 94,
   "metadata": {},
   "outputs": [
    {
     "data": {
      "text/plain": [
       "[0, 1, 2, 'a', 'b', 5]"
      ]
     },
     "execution_count": 94,
     "metadata": {},
     "output_type": "execute_result"
    }
   ],
   "source": [
    "foo = [0, 1, 2, 3, 4, 5]\n",
    "foo[3:5] = [\"a\", \"b\"]\n",
    "foo"
   ]
  },
  {
   "cell_type": "code",
   "execution_count": 95,
   "metadata": {},
   "outputs": [],
   "source": [
    "str.isalpha?"
   ]
  },
  {
   "cell_type": "code",
   "execution_count": 103,
   "metadata": {},
   "outputs": [
    {
     "name": "stdout",
     "output_type": "stream",
     "text": [
      "Mary had many little lambs: 92\n",
      "Have a nice day\n"
     ]
    }
   ],
   "source": [
    "from io import StringIO\n",
    "import sys\n",
    "\n",
    "class Print_capture(list):\n",
    "....def __enter__(self):\n",
    "........self._stdout = sys.stdout\n",
    "........sys.stdout = self._stringio = StringIO()\n",
    "........return self\n",
    "....def __exit__(self, *args):\n",
    "........self.extend(self._stringio.getvalue().splitlines())\n",
    "........del self._stringio\n",
    "........sys.stdout = self._stdout\n",
    "\n",
    "with Print_capture() as print_op:\n",
    "....print(f'Mary had many little lambs: {23 * 4}')\n",
    "....print('Have a nice day')\n",
    "\n",
    "for line in print_op:\n",
    "....print(line)"
   ]
  },
  {
   "cell_type": "code",
   "execution_count": 104,
   "metadata": {},
   "outputs": [
    {
     "name": "stdout",
     "output_type": "stream",
     "text": [
      "Mary had many little lambs: 92\n",
      "Have a nice day\n",
      "done\n",
      "['inner']\n"
     ]
    }
   ],
   "source": [
    "with Print_capture() as p1:\n",
    "....print(f'Mary had many little lambs: {23 * 4}')\n",
    "....print('Have a nice day')\n",
    "....with Print_capture() as p2:\n",
    "........print('inner')\n",
    "....print('done')\n",
    "\n",
    "for line in p1:\n",
    "\n",
    "....\n",
    "....\n",
    "....print(line)\n",
    "print(p2)\n",
    "...."
   ]
  },
  {
   "cell_type": "code",
   "execution_count": 242,
   "metadata": {},
   "outputs": [],
   "source": [
    "def categories():\n",
    "....return {cat[0]: cat \n",
    "............for data in books.values() \n",
    "............for cat in data['categories']}\n",
    "\n",
    "def cat_filter(cats):\n",
    "....return set((cat for cat_initial, cat \n",
    "................in book_categories.items() \n",
    "................if cat_initial in set(cats)))\n",
    "\n",
    "def recommend_books(max_price, target_cats):\n",
    "....if not set(target_cats).issubset(set(book_categories)):\n",
    "........raise ValueError(f'{target_cats} contains an invalid category code')\n",
    "....cats_f = cat_filter(target_cats)\n",
    "....return \"\\n \".join(f\"\\t{book}\" for book, data in books.items() \n",
    "....................  if (data['price'] <= max_price \n",
    "........................  and cats_f == set(data['categories'])))\n",
    "\n",
    "books = {\"Harry Potter\": {'price': 8, 'categories': [\"fantasy\", \"romance\"]},\n",
    "........ \"IT\": {'price': 11, 'categories': [\"horror\", \"fantasy\"]},\n",
    "........ \"Star Wars\": {'price': 22, 'categories': [\"scifi\", \"romance\", \"fantasy\"]},\n",
    "........ \"Lord of the Rings\": {'price': 30, 'categories': ['fantasy']},\n",
    "........ \"Wuthering Heights\": {'price': 2, 'categories': ['romance']},\n",
    "........ \"Do Androids Dream Of Electric Sheep\": {'price': 2, 'categories': ['scifi']},\n",
    "........ \"Alpha\": {'price': 2, 'categories': ['alpha']},\n",
    "........ \"AlphaBeta\": {'price': 2, 'categories': ['alpha', 'beta']},\n",
    "........ \"AlphaBetaCharlie\": {'price': 2, 'categories': ['alpha', 'beta', 'charlie']},\n",
    "........ \"Alpha2\": {'price': 2, 'categories': ['alpha']},\n",
    "........ \"AlphaBeta2\": {'price': 2, 'categories': ['beta','alpha']},\n",
    "........}\n",
    "book_categories = categories()"
   ]
  },
  {
   "cell_type": "code",
   "execution_count": 243,
   "metadata": {},
   "outputs": [
    {
     "name": "stdout",
     "output_type": "stream",
     "text": [
      "\n",
      "Books <= £50 in categories: fantasy:\n",
      "\tLord of the Rings\n",
      "\n",
      "Books <= £50 in categories: fantasy, romance:\n",
      "\tHarry Potter\n",
      "\n",
      "Books <= £50 in categories: horror, fantasy:\n",
      "\tIT\n",
      "\n",
      "Books <= £10 in categories: romance:\n",
      "\tWuthering Heights\n",
      "\n",
      "Books <= £20 in categories: fantasy, romance:\n",
      "\tHarry Potter\n",
      "\n",
      "Books <= £30 in categories: scifi, romance, fantasy:\n",
      "\tStar Wars\n",
      "\n",
      "Books <= £30 in categories: horror:\n",
      "\tNo recommendations\n",
      "\n",
      "Books <= £15 in categories: horror, fantasy:\n",
      "\tIT\n",
      "\n",
      "Books <= £40 in categories: scifi:\n",
      "\tDo Androids Dream Of Electric Sheep\n",
      "\n",
      "Books <= £50 in categories: horror, romance, fantasy:\n",
      "\tNo recommendations\n",
      "\n",
      "Books <= £50 in categories: horror, scifi:\n",
      "\tNo recommendations\n",
      "\n",
      "Books <= £50 in categories: scifi:\n",
      "\tDo Androids Dream Of Electric Sheep\n",
      "\n",
      "Books <= £50 in categories: alpha:\n",
      "\tAlpha\n",
      " \tAlpha2\n",
      "\n",
      "Books <= £50 in categories: alpha, beta:\n",
      "\tAlphaBeta\n",
      " \tAlphaBeta2\n",
      "\n",
      "Books <= £50 in categories: alpha, beta, charlie:\n",
      "\tAlphaBetaCharlie\n",
      "\n",
      "Books <= £50 in categories: alpha:\n",
      "\tAlpha\n",
      " \tAlpha2\n"
     ]
    }
   ],
   "source": [
    "tests = (50, 'f'), (50, 'fr'), (50, 'hf'), \\\n",
    "........(10, 'r'), (20, 'fr'), (30, 'srf'), \\\n",
    "........(30, 'h'), (15, 'hf'), (40, 's'), \\\n",
    "........(50, 'hrf'), (50, 'hs'), (50, 's'), \\\n",
    "........(50, 'a'), (50, 'ab'), (50, 'abc'), (50, 'a'), \n",
    "for max_price, cats in tests:\n",
    "....recommendations = recommend_books(max_price, cats)\n",
    "....print(f'\\nBooks <= £{max_price} in categories: '\n",
    "........  f'{\", \".join(book_categories.get(initial, \"Unknown\") for initial in cats)}:')\n",
    "....if recommendations:\n",
    "........print(recommendations)\n",
    "....else:\n",
    "........print('\\tNo recommendations')"
   ]
  },
  {
   "cell_type": "code",
   "execution_count": null,
   "metadata": {},
   "outputs": [],
   "source": []
  }
 ],
 "metadata": {
  "kernelspec": {
   "display_name": "Python 3",
   "language": "python",
   "name": "python3"
  },
  "language_info": {
   "codemirror_mode": {
    "name": "ipython",
    "version": 3
   },
   "file_extension": ".py",
   "mimetype": "text/x-python",
   "name": "python",
   "nbconvert_exporter": "python",
   "pygments_lexer": "ipython3",
   "version": "3.7.4"
  }
 },
 "nbformat": 4,
 "nbformat_minor": 4
}
