{
 "cells": [
  {
   "cell_type": "code",
   "execution_count": null,
   "metadata": {},
   "outputs": [],
   "source": [
    "''' menu using a dictionary '''\n",
    "\n",
    "def menu(options):\n",
    "    print('\\n'+'\\n'.join([f'{key}: {opt[0]}' for key, opt in options.items()]))\n",
    "    while True:\n",
    "        choice = input('Choice: ').strip().lower()\n",
    "        if choice in options: break\n",
    "        print(f'{choice} is not an available option')\n",
    "    return menu_options[choice][1]\n",
    "\n",
    "def one():\n",
    "    print('\\ndoing one')\n",
    "    return True\n",
    "\n",
    "def two():\n",
    "    print('\\ndoing two')\n",
    "    return True\n",
    "    \n",
    "def quit():\n",
    "    print('\\nquitting ...')\n",
    "    return False\n",
    "\n",
    "menu_options = {'1': ('one thing', one),\n",
    "                '2': ('second thing', two), \n",
    "                'q': ('quit', quit)}\n",
    "\n",
    "while menu(menu_options)(): pass"
   ]
  }
 ],
 "metadata": {
  "kernelspec": {
   "display_name": "Python 3",
   "language": "python",
   "name": "python3"
  },
  "language_info": {
   "codemirror_mode": {
    "name": "ipython",
    "version": 3
   },
   "file_extension": ".py",
   "mimetype": "text/x-python",
   "name": "python",
   "nbconvert_exporter": "python",
   "pygments_lexer": "ipython3",
   "version": "3.7.0"
  }
 },
 "nbformat": 4,
 "nbformat_minor": 2
}
