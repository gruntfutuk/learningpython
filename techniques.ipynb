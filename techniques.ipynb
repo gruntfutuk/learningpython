{
 "cells": [
  {
   "cell_type": "code",
   "execution_count": null,
   "metadata": {},
   "outputs": [],
   "source": [
    "from multipledispatch import dispatch\n",
    "\n",
    "@dispatch(int, int)\n",
    "def add(x, y):\n",
    "    return x + y\n",
    "\n",
    "@dispatch(str, str)\n",
    "def add(x, y):\n",
    "    return str(int(x) + int(y))\n",
    "\n",
    "@dispatch(int, int, str, str)\n",
    "def add(x, y, a, b):\n",
    "    return x + y + int(a) + int(b)\n",
    "\n",
    "ans1 = add(5, 11)\n",
    "ans2 = add('3', '9')\n",
    "ans3 = add(2, 3, '4', '5')\n",
    "\n",
    "print(ans1, type(ans1))\n",
    "print(ans2, type(ans2))\n",
    "print(ans3, type(ans3))"
   ]
  },
  {
   "cell_type": "code",
   "execution_count": null,
   "metadata": {},
   "outputs": [],
   "source": [
    "from functools import reduce\n",
    "\n",
    "def Mark_Geyser_pack_numbers(nums_list):\n",
    "    return reduce(lambda acc, v: acc << 8 |v, nums_list[::-1])\n",
    "\n",
    "''' test data:\n",
    "        list of tuples each contain list of integers and expected answer '''\n",
    "tests = [([24, 85, 0], 21784),\n",
    "         ([235, 129, 57], 3768811),\n",
    "         ([1, 2, 3], 197121),\n",
    "         ([56, 13, 111], 7277880)\n",
    "        ]\n",
    "\n",
    "for test_list, answer in tests:\n",
    "    result = Mark_Geyser_pack_numbers(test_list)\n",
    "    try:\n",
    "        assert  result == answer\n",
    "    except AssertionError:\n",
    "        print(f'** ERROR ** Expected {answer} for {test_list}, got {result} ')\n",
    "    else:\n",
    "        print(f'{test_list} gives {result}')"
   ]
  },
  {
   "cell_type": "code",
   "execution_count": null,
   "metadata": {},
   "outputs": [],
   "source": [
    "for x in lambda acc, v: acc << 8 | v, [1, 2, 3][::1]:\n",
    "    print(x)"
   ]
  },
  {
   "cell_type": "code",
   "execution_count": null,
   "metadata": {},
   "outputs": [],
   "source": [
    "from itertools import groupby\n",
    "\n",
    "source = 'aaabbcccda'\n",
    "compact = ''\n",
    "for letter, letters in groupby(source):\n",
    "    compact += f'{letter}{len([*letters])}'\n",
    "print(compact)"
   ]
  }
 ],
 "metadata": {
  "kernelspec": {
   "display_name": "Python 3",
   "language": "python",
   "name": "python3"
  },
  "language_info": {
   "codemirror_mode": {
    "name": "ipython",
    "version": 3
   },
   "file_extension": ".py",
   "mimetype": "text/x-python",
   "name": "python",
   "nbconvert_exporter": "python",
   "pygments_lexer": "ipython3",
   "version": "3.7.0"
  }
 },
 "nbformat": 4,
 "nbformat_minor": 2
}
