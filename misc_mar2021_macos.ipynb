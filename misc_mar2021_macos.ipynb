{
 "metadata": {
  "language_info": {
   "codemirror_mode": {
    "name": "ipython",
    "version": 3
   },
   "file_extension": ".py",
   "mimetype": "text/x-python",
   "name": "python",
   "nbconvert_exporter": "python",
   "pygments_lexer": "ipython3",
   "version": "3.9.2-final"
  },
  "orig_nbformat": 2,
  "kernelspec": {
   "name": "python3",
   "display_name": "Python 3",
   "language": "python"
  }
 },
 "nbformat": 4,
 "nbformat_minor": 2,
 "cells": [
  {
   "cell_type": "code",
   "execution_count": 10,
   "metadata": {},
   "outputs": [],
   "source": [
    "    def what_season(month:str, day:int):\n",
    "        month = month.title()\n",
    "        if month not in MONTHS:\n",
    "            raise ValueError(f'Month {month} not recognised')\n",
    "        pos = MONTHS.index(month)\n",
    "        curr_season = list(season_changes.keys())[-1]  # assume last season of year\n",
    "        for season, (change_month, change_date) in season_changes.items():\n",
    "            change_pos = MONTHS.index(change_month)\n",
    "            if pos < change_pos or (pos == change_pos and day < change_date):\n",
    "                break  # date is before next season change\n",
    "            curr_season = season\n",
    "        return curr_season\n",
    "\n",
    "    seasons = \"\"\"# - Spring starts March 20.\n",
    "    # - Summer starts June 21.\n",
    "    # - Fall starts September 22.\n",
    "    # - Winter starts December 21.\"\"\"\n",
    "    season_changes = {}\n",
    "    for season in seasons.split('\\n'):\n",
    "        name, _, month, day = season[4:-1].split()\n",
    "        season_changes[name] = (month, int(day))\n",
    "\n",
    "    MONTHS = 'January', 'February', 'March', 'April', \\\n",
    "            'May', 'June', 'July', 'August', \\\n",
    "            'September', 'October', 'November', 'December'"
   ]
  },
  {
   "cell_type": "code",
   "execution_count": 1,
   "metadata": {},
   "outputs": [
    {
     "output_type": "stream",
     "name": "stdout",
     "text": [
      "\"The quick, brown fox jumps over the lazy dog!\" is a pangram\n\"Sphinx of black quartz, judge my vow.\" is a pangram\n\"Glib jocks quiz nymph to vex dwarf.\" is a pangram\n\"A bird in the hand is worth two in the bush.\" is not a pangram\n"
     ]
    }
   ],
   "source": [
    "\"\"\" check for pangrams \"\"\"\n",
    "\n",
    "import re, string\n",
    "\n",
    "tests = (\"The quick, brown fox jumps over the lazy dog!\",\n",
    "        \"Sphinx of black quartz, judge my vow.\",\n",
    "        \"Glib jocks quiz nymph to vex dwarf.\",\n",
    "        \"A bird in the hand is worth two in the bush.\",\n",
    "        )\n",
    "base = set(string.ascii_lowercase)\n",
    "\n",
    "for test in tests:\n",
    "    pangram = re.sub(r'[^A-Za-z0-9]+', '', test.lower())\n",
    "    print(f\"\"\"\"{test}\" is {'' if base == set(pangram) else 'not '}a pangram\"\"\")"
   ]
  },
  {
   "cell_type": "code",
   "execution_count": null,
   "metadata": {},
   "outputs": [],
   "source": []
  }
 ]
}