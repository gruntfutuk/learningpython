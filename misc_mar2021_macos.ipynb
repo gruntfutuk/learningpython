{
 "metadata": {
  "language_info": {
   "codemirror_mode": {
    "name": "ipython",
    "version": 3
   },
   "file_extension": ".py",
   "mimetype": "text/x-python",
   "name": "python",
   "nbconvert_exporter": "python",
   "pygments_lexer": "ipython3",
   "version": "3.9.2-final"
  },
  "orig_nbformat": 2,
  "kernelspec": {
   "name": "python3",
   "display_name": "Python 3",
   "language": "python"
  }
 },
 "nbformat": 4,
 "nbformat_minor": 2,
 "cells": [
  {
   "cell_type": "code",
   "execution_count": 10,
   "metadata": {},
   "outputs": [],
   "source": [
    "    def what_season(month:str, day:int):\n",
    "        month = month.title()\n",
    "        if month not in MONTHS:\n",
    "            raise ValueError(f'Month {month} not recognised')\n",
    "        pos = MONTHS.index(month)\n",
    "        curr_season = list(season_changes.keys())[-1]  # assume last season of year\n",
    "        for season, (change_month, change_date) in season_changes.items():\n",
    "            change_pos = MONTHS.index(change_month)\n",
    "            if pos < change_pos or (pos == change_pos and day < change_date):\n",
    "                break  # date is before next season change\n",
    "            curr_season = season\n",
    "        return curr_season\n",
    "\n",
    "    seasons = \"\"\"# - Spring starts March 20.\n",
    "    # - Summer starts June 21.\n",
    "    # - Fall starts September 22.\n",
    "    # - Winter starts December 21.\"\"\"\n",
    "    season_changes = {}\n",
    "    for season in seasons.split('\\n'):\n",
    "        name, _, month, day = season[4:-1].split()\n",
    "        season_changes[name] = (month, int(day))\n",
    "\n",
    "    MONTHS = 'January', 'February', 'March', 'April', \\\n",
    "            'May', 'June', 'July', 'August', \\\n",
    "            'September', 'October', 'November', 'December'"
   ]
  },
  {
   "cell_type": "code",
   "execution_count": 14,
   "metadata": {},
   "outputs": [
    {
     "output_type": "execute_result",
     "data": {
      "text/plain": [
       "'Spring'"
      ]
     },
     "metadata": {},
     "execution_count": 14
    }
   ],
   "source": [
    "what_season('march', 30)"
   ]
  },
  {
   "cell_type": "code",
   "execution_count": 18,
   "metadata": {},
   "outputs": [
    {
     "output_type": "stream",
     "name": "stdout",
     "text": [
      "fiver range(2, 5), el 5, low 0 high None\nhigh 2, low 0, mid 1\nmid=  1,fiver range(2, 5), el 5, low 2 high 2\nhigh 2, low 2, mid 2\nmid=  2,fiver range(2, 5), el 5, low 3 high 2\n5 is not found in the list\n"
     ]
    }
   ],
   "source": [
    "def item_search(fiver, element, lowest = 0, highest = None):\n",
    "    print(f'fiver {fiver}, el {element}, low {lowest} high {highest}')\n",
    "    if highest == None:\n",
    "       highest = len(fiver)-1\n",
    "        \n",
    "    if lowest > highest:\n",
    "        return False\n",
    "    \n",
    "    mid = (lowest + highest)//2\n",
    "    \n",
    "    print(f'high {highest}, low {lowest}, mid {mid}')\n",
    "    print(\"mid= \",mid,end=',')\n",
    "\n",
    "    if element == fiver[mid]:\n",
    "        return True\n",
    "    elif element > fiver[mid]:\n",
    "        return item_search(fiver, element, lowest = (mid+1), highest = highest)\n",
    "    else:\n",
    "        return item_search(fiver, element, lowest = lowest, highest = (mid-1))\n",
    "\n",
    "numbers = range(2,5,1)\n",
    "hidden_key = 5\n",
    "if (item_search( numbers, hidden_key, 0)):\n",
    "    print(hidden_key, \"is in the list\")\n",
    "else:\n",
    "    print(hidden_key, \"is not found in the list\")"
   ]
  },
  {
   "cell_type": "code",
   "execution_count": 16,
   "metadata": {},
   "outputs": [
    {
     "output_type": "execute_result",
     "data": {
      "text/plain": [
       "range(2, 5)"
      ]
     },
     "metadata": {},
     "execution_count": 16
    }
   ],
   "source": [
    "numbers"
   ]
  },
  {
   "cell_type": "code",
   "execution_count": 21,
   "metadata": {},
   "outputs": [
    {
     "output_type": "execute_result",
     "data": {
      "text/plain": [
       "23"
      ]
     },
     "metadata": {},
     "execution_count": 21
    }
   ],
   "source": [
    "len(range(2,25))"
   ]
  },
  {
   "cell_type": "code",
   "execution_count": 23,
   "metadata": {},
   "outputs": [
    {
     "output_type": "stream",
     "name": "stdout",
     "text": [
      "140361868593904 140361868593904 140361868593904\n140361868593904 140361868593904 140361868593904\n140361868593904 140361826168496 140361868593904\n"
     ]
    }
   ],
   "source": [
    "    username = 'blah'\n",
    "    def1 = username\n",
    "    def2 = username\n",
    "    print(id(username), id(def1), id(def2))\n",
    "    def2 = def1\n",
    "    print(id(username), id(def1), id(def2))\n",
    "    def2 = 'blah'\n",
    "    def1 = 'boo'\n",
    "    print(id(username), id(def1), id(def2))"
   ]
  },
  {
   "cell_type": "code",
   "execution_count": 26,
   "metadata": {},
   "outputs": [
    {
     "output_type": "stream",
     "name": "stdout",
     "text": [
      "[2, 8, 3, 9, 4, 7]\n[9, 8, 7, 4, 3, 2]\n"
     ]
    }
   ],
   "source": [
    "    def integer_list():\n",
    "        integers = []\n",
    "        while True:\n",
    "            integer = int(input('Enter an integer number (enter -1 to stop):'))\n",
    "            if integer != -1:\n",
    "                integers.append(integer)\n",
    "            else:\n",
    "                print(integers)\n",
    "                break\n",
    "        return integers\n",
    "\n",
    "    def last_digit(x):\n",
    "        return x % 10\n",
    "\n",
    "    def descending_list():\n",
    "        integers = integer_list()\n",
    "        integers.sort(key = last_digit, reverse = True)\n",
    "        print(integers)\n",
    "\n",
    "\n",
    "    descending_list()"
   ]
  },
  {
   "cell_type": "code",
   "execution_count": 56,
   "metadata": {},
   "outputs": [
    {
     "output_type": "stream",
     "name": "stdout",
     "text": [
      "222333444555666777788899991234567890\n"
     ]
    }
   ],
   "source": [
    "        tel = {'A': '2', 'B': '2', 'C': '2',\n",
    "            'D': '3', 'E': '3', 'F': '3',\n",
    "            'G': '4', 'H': '4', 'I': '4',\n",
    "            'J': '5', 'K': '5', 'L': '5',\n",
    "            'M': '6', 'N': '6', 'O': '6',\n",
    "            'P': '7', 'Q': '7', 'R': '7', 'S': '7',\n",
    "            'T': '8', 'U': '8', 'V': '8',\n",
    "            'W': '9', 'X': '9', 'Y': '9', 'Z': '9'}\n",
    "\n",
    "        while True:\n",
    "            phone_number = input('Please enter a phone number or press <ENTER> to exit: ').upper()\n",
    "            if not phone_number:\n",
    "                break\n",
    "            translated_number = [tel.get(digit, digit) for digit in phone_number]\n",
    "            print(*translated_number, sep=\"\")"
   ]
  },
  {
   "cell_type": "code",
   "execution_count": 24,
   "metadata": {},
   "outputs": [
    {
     "output_type": "stream",
     "name": "stdout",
     "text": [
      "[6]\n[6, 9]\n[6, 30, 300]\n[5, 6]\n[14, 9]\n[3000, 18, 30, 300]\n"
     ]
    }
   ],
   "source": [
    "def sum_nums(*args):\n",
    "    \"\"\"return total of nums or list of totals of lists/tuples/nums\"\"\"\n",
    "    results = []\n",
    "    tots = -1\n",
    "    for arg in args:\n",
    "        if isinstance(arg, (list, tuple)):\n",
    "            results.append(sum(arg))\n",
    "        else:\n",
    "            if tots < 0:\n",
    "                tots = len(results)\n",
    "                results.append(arg)\n",
    "            else:\n",
    "                results[tots] += arg\n",
    "    \n",
    "    return results\n",
    "\n",
    "print(sum_nums(1,2,3))\n",
    "print(sum_nums(1,2,3, [4, 5]))\n",
    "print(sum_nums((1,2,3), (10, 20), [100, 200]))\n",
    "print(sum_nums([5], 1,2,3))\n",
    "print(sum_nums(1,2,3, [4, 5], 8))\n",
    "print(sum_nums((1000, 2000), 5, (10, 20), 6, [100, 200], 7))"
   ]
  },
  {
   "cell_type": "code",
   "execution_count": 27,
   "metadata": {},
   "outputs": [
    {
     "output_type": "stream",
     "name": "stdout",
     "text": [
      "Greetings\n"
     ]
    }
   ],
   "source": [
    "    def test(spam):\n",
    "        if spam == '1':\n",
    "            print('Hello')\n",
    "        elif spam == '2':\n",
    "            print('Howdy')\n",
    "        else:\n",
    "            print('Greetings')\n",
    "\n",
    "    response = input('Enter choice: ')\n",
    "    test(response)"
   ]
  },
  {
   "cell_type": "code",
   "execution_count": 38,
   "metadata": {},
   "outputs": [],
   "source": [
    "    def hurray (num2):\n",
    "        string = \"hurray\"\n",
    "        start = 0\n",
    "        power = 0\n",
    "        for num in range(start, num2+1):\n",
    "            while num > 2 ** power:\n",
    "                power += 1\n",
    "            if num == 2 ** power:\n",
    "                print(string, end='')\n",
    "            else:\n",
    "                print(f'{num}', end='')\n",
    "        print()"
   ]
  },
  {
   "cell_type": "code",
   "execution_count": 39,
   "metadata": {},
   "outputs": [
    {
     "output_type": "stream",
     "name": "stdout",
     "text": [
      "0hurrayhurray3hurray567hurray9101112131415hurray171819202122232425262728293031hurray33343536373839404142434445464748495051525354555657585960616263hurray65666768\n"
     ]
    }
   ],
   "source": [
    "hurray(68)"
   ]
  },
  {
   "cell_type": "code",
   "execution_count": null,
   "metadata": {},
   "outputs": [],
   "source": []
  }
 ]
}