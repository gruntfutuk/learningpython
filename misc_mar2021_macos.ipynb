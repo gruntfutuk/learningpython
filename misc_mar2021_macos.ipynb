{
 "metadata": {
  "language_info": {
   "codemirror_mode": {
    "name": "ipython",
    "version": 3
   },
   "file_extension": ".py",
   "mimetype": "text/x-python",
   "name": "python",
   "nbconvert_exporter": "python",
   "pygments_lexer": "ipython3",
   "version": "3.9.2-final"
  },
  "orig_nbformat": 2,
  "kernelspec": {
   "name": "python3",
   "display_name": "Python 3",
   "language": "python"
  }
 },
 "nbformat": 4,
 "nbformat_minor": 2,
 "cells": [
  {
   "cell_type": "code",
   "execution_count": 1,
   "metadata": {},
   "outputs": [
    {
     "output_type": "stream",
     "name": "stdout",
     "text": [
      "Python version:  3.9.2 (v3.9.2:1a79785e3e, Feb 19 2021, 09:06:10) \n[Clang 6.0 (clang-600.0.57)]\nPython version info:  sys.version_info(major=3, minor=9, micro=2, releaselevel='final', serial=0)\nPython version info[0]:  3\nPython version info[1]:  9\nPython version info[2]:  2\nPython version info[3]:  final\nPython version info[4]:  0\n"
     ]
    }
   ],
   "source": [
    "import sys\n",
    "\n",
    "# printing version info\n",
    "print(\"Python version: \", sys.version)\n",
    "print(\"Python version info: \", sys.version_info)\n",
    "\n",
    "print(\"Python version info[0]: \", sys.version_info[0])\n",
    "print(\"Python version info[1]: \", sys.version_info[1])\n",
    "print(\"Python version info[2]: \", sys.version_info[2])\n",
    "print(\"Python version info[3]: \", sys.version_info[3])\n",
    "print(\"Python version info[4]: \", sys.version_info[4])"
   ]
  },
  {
   "cell_type": "code",
   "execution_count": null,
   "metadata": {},
   "outputs": [],
   "source": []
  }
 ]
}