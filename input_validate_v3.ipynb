{
 "cells": [
  {
   "cell_type": "code",
   "execution_count": 174,
   "metadata": {},
   "outputs": [],
   "source": [
    "''' Input validation function v3 - requires Python 3.6 or higher '''\n",
    "\n",
    "# provide human readable descriptions of types supported by validation function\n",
    "TYPE_LABELS = {int: \"integer number\", \n",
    "               float: \"floating point number\",\n",
    "               str: \"string of characters\"}\n",
    "\n",
    "def int_validate(value: int, int_range = None, negative_ok: bool = True):\n",
    "    ''' Checks if integer value is within acceptable ranges, returns True/False and error message\n",
    "    \n",
    "        value: integer value to be validated\n",
    "        int_range: single integer where value >= specified integer\n",
    "        int_range: tuple or list of two integers where first <= value <= second \n",
    "        int_range: tuple or list of tuples or lists each as above\n",
    "        negative_ok: False overides any negative ranges\n",
    "        returns: tuple(valid:bool, err_msg: str = '')\n",
    "    '''\n",
    "    \n",
    "    def int_validate_range(value: int, int_range):\n",
    "        ''' return True if value is inside of int_range tuple/list start, finish range\n",
    "        \n",
    "            value: integer value to be validated\n",
    "            int_range: tuple or list of two integers where first <= value <= second \n",
    "            returns: tuple(valid:bool, err_msg: str = '')\n",
    "        '''\n",
    "        if not (isinstance(int_range, list) or isinstance(int_range, tuple)):\n",
    "            raise ValueError(f'Range specifier is not a tuple or list: {int_range}.')\n",
    "        if not len(int_range) == 2:\n",
    "            raise ValueError(f'Range specifier is not a pair {int_range}.')\n",
    "        if not(isinstance(int_range[0], int) and isinstance(int_range[1], int)):\n",
    "            raise ValueError(f'Range specifier does not contain single pair of integers {int_range}.')\n",
    "        if int_range[0] > int_range[1]:\n",
    "            raise ValueError(f'Range specifier finish is lower than start {int_range}.')\n",
    "        return int_range[0] <= value <= int_range[1]\n",
    "    \n",
    "    valid = True\n",
    "    err_msg = ''\n",
    "    \n",
    "    if not negative_ok and value < 0:\n",
    "        valid = False\n",
    "        err_msg = 'Integer must not be negative.'\n",
    "    \n",
    "    elif isinstance(int_range, int):  # int_range can just be one integer, where value >=\n",
    "        if value < int_range:\n",
    "            valid = False\n",
    "            err_msg = f'Integer must be greater than or equal to {int_range}.'\n",
    "    \n",
    "    elif isinstance(int_range, list) or isinstance(int_range, tuple):\n",
    "        if len(int_range) == 2 and isinstance(int_range[0], int) and isinstance(int_range[0], int):\n",
    "            if not int_validate_range(value, (int_range[0], int_range[1])):\n",
    "                valid = False\n",
    "                err_msg = f'Integer must be within specified range(s): {int_range}.'\n",
    "        else:  # assume we have list or tuple of one or more pairs of range start, fini integers\n",
    "            for current_range in int_range:\n",
    "                if int_validate_range(value, current_range):\n",
    "                    break\n",
    "            else:  # didn't find any valid range for the value\n",
    "                valid = False\n",
    "                err_msg = f'Integer must be within specified range(s): {int_range}.'\n",
    "    \n",
    "    return valid, err_msg\n",
    "\n",
    "\n",
    "def get_input(msg = '', type_req = int, int_range = None, \n",
    "              negative_ok = True, \n",
    "              blank_ok = False, \n",
    "              cont = False, cont_qty = None, inc_count = False\n",
    "             ):\n",
    "    ''' prompt user for input with msg and return appropriately cast value\n",
    "    \n",
    "        msg: optional string message to output as input prompt (optional ± used with inc_count)\n",
    "        typ_req: input type required, options are int, float, str\n",
    "        int_range: single integer where value >= specified integer\n",
    "        int_range: tuple or list of two integers where first <= value <= second \n",
    "        int_range: tuple or list of tuples or lists each as above\n",
    "        negative_ok: False overides any negative ranges\n",
    "        blank_ok: indicated empty input is acceptable, returns empty string or None\n",
    "        cont: requires list of type_req returned, can be empty if blank_ok, unlimited if no cont_qty\n",
    "        cont_qty: requires list of this quantity of type_req entries in list, cont not required\n",
    "        inc_count: add input num to prompt (use ± in msg to delimit before and after text)\n",
    "        returns: valid input or list of inputs of the require type, or None or \"\" if blank_ok    \n",
    "    '''\n",
    "    \n",
    "    if not type_req in TYPE_LABELS:\n",
    "        raise TypeError(\"Unknown input type requested by calling code.\")\n",
    "    \n",
    "    if not type_req is int and int_range:\n",
    "        raise TypeError('Specified an integer range but not asked for an integer input.')\n",
    "        \n",
    "    if cont_qty and not(isinstance(cont_qty, int) and cont_qty > 0):\n",
    "        raise TypeError(f'Specified a list of {type_req} but quantity specified, {cont_qty}, not valid')\n",
    "    \n",
    "    if not cont and cont_qty:\n",
    "        cont = True\n",
    "    \n",
    "    if cont:\n",
    "        inputs = []\n",
    "    \n",
    "    prompt = msg\n",
    "    deliminator = '±'\n",
    "    while True:\n",
    "        while True:  # get valid input loop\n",
    "            if cont and inc_count:\n",
    "                before, delim , after = msg.partition(deliminator)\n",
    "                if not delim:\n",
    "                    after = ' '\n",
    "                prompt = f'{before}{len(inputs) + 1}{after}'\n",
    "            response = input(prompt)\n",
    "\n",
    "            if not response and (blank_ok or cont):\n",
    "                if type_req is str:\n",
    "                    value = ''\n",
    "                else:\n",
    "                    value = None\n",
    "                break\n",
    "\n",
    "            if response:\n",
    "                try:\n",
    "                    value = type_req(response)\n",
    "                except ValueError as e:\n",
    "                    err_msg = f'{TYPE_LABELS[type_req]} input required.'\n",
    "                else:\n",
    "                    valid = True\n",
    "                    if type_req is int:\n",
    "                        valid, err_msg = int_validate(value, int_range, negative_ok)\n",
    "                    if valid:\n",
    "                        break\n",
    "\n",
    "            else:\n",
    "                err_msg = f'Non-empty {TYPE_LABELS[type_req]} input required.'\n",
    "\n",
    "            print(err_msg + ' Please try again.')\n",
    "            \n",
    "        if not cont:  # only wanted one input\n",
    "            break\n",
    "        \n",
    "        if response:\n",
    "            inputs.append(value)\n",
    "            if (cont_qty and len(inputs) == cont_qty):\n",
    "                break\n",
    "        \n",
    "        elif (inputs or blank_ok) and not cont_qty:\n",
    "            break\n",
    "            \n",
    "        else:\n",
    "            print(f'{TYPE_LABELS[type_req]} input required.')\n",
    "    \n",
    "    return inputs if cont else value"
   ]
  },
  {
   "cell_type": "code",
   "execution_count": 175,
   "metadata": {},
   "outputs": [
    {
     "name": "stdout",
     "output_type": "stream",
     "text": [
      "? \n",
      "Non-empty integer number input required. Please try again.\n",
      "? Test\n",
      "integer number input required. Please try again.\n",
      "? 10\n"
     ]
    },
    {
     "data": {
      "text/plain": [
       "10"
      ]
     },
     "execution_count": 175,
     "metadata": {},
     "output_type": "execute_result"
    }
   ],
   "source": [
    "get_input('? ')"
   ]
  },
  {
   "cell_type": "code",
   "execution_count": 176,
   "metadata": {},
   "outputs": [
    {
     "name": "stdout",
     "output_type": "stream",
     "text": [
      "Name 1 of 5: Wendy\n",
      "Name 2 of 5: Helen\n",
      "Name 3 of 5: \n",
      "string of characters input required.\n",
      "Name 3 of 5: Bob\n",
      "Name 4 of 5: Leslie\n",
      "Name 5 of 5: Sam\n"
     ]
    },
    {
     "data": {
      "text/plain": [
       "['Wendy', 'Helen', 'Bob', 'Leslie', 'Sam']"
      ]
     },
     "execution_count": 176,
     "metadata": {},
     "output_type": "execute_result"
    }
   ],
   "source": [
    "get_input('Name ± of 5: ', type_req = str, cont_qty = 5, inc_count = True)"
   ]
  },
  {
   "cell_type": "code",
   "execution_count": 172,
   "metadata": {},
   "outputs": [
    {
     "name": "stdout",
     "output_type": "stream",
     "text": [
      "Length: \n",
      "Non-empty floating point number input required. Please try again.\n",
      "Length: Test\n",
      "floating point number input required. Please try again.\n",
      "Length: 56.4\n"
     ]
    },
    {
     "data": {
      "text/plain": [
       "56.4"
      ]
     },
     "execution_count": 172,
     "metadata": {},
     "output_type": "execute_result"
    }
   ],
   "source": [
    "get_input('Length: ', type_req = float)"
   ]
  },
  {
   "cell_type": "code",
   "execution_count": 177,
   "metadata": {},
   "outputs": [
    {
     "name": "stdout",
     "output_type": "stream",
     "text": [
      "Quantity required: 1 1\n",
      "Integer must be within specified range(s): [5, 10]. Please try again.\n",
      "Quantity required: 1 \n",
      "integer number input required.\n",
      "Quantity required: 1 Test\n",
      "integer number input required. Please try again.\n",
      "Quantity required: 1 10\n",
      "Quantity required: 2 5\n",
      "Quantity required: 3 6\n",
      "Quantity required: 4 10\n",
      "Quantity required: 5 10\n",
      "Quantity required: 6 9\n",
      "Quantity required: 7 8\n",
      "Quantity required: 8 7\n",
      "Quantity required: 9 6\n",
      "Quantity required: 10 \n"
     ]
    },
    {
     "data": {
      "text/plain": [
       "[10, 5, 6, 10, 10, 9, 8, 7, 6]"
      ]
     },
     "execution_count": 177,
     "metadata": {},
     "output_type": "execute_result"
    }
   ],
   "source": [
    "get_input('Quantity required: ', cont = True, int_range = [5, 10], inc_count = True)"
   ]
  },
  {
   "cell_type": "code",
   "execution_count": 181,
   "metadata": {},
   "outputs": [
    {
     "name": "stdout",
     "output_type": "stream",
     "text": [
      "Sensor name: (enter to exit) Basement\n",
      "Basement measurement 1 in mm: 50\n",
      "Integer must be within specified range(s): [(-100, 10), (1, 10), (100, 1000)]. Please try again.\n",
      "Basement measurement 1 in mm: 5\n",
      "Basement measurement 2 in mm: -75\n",
      "Basement measurement 3 in mm: 125\n",
      "Sensor name: (enter to exit) Garden\n",
      "Garden measurement 1 in mm: 400\n",
      "Garden measurement 2 in mm: -100\n",
      "Garden measurement 3 in mm: 800\n",
      "Sensor name: (enter to exit) Road\n",
      "Road measurement 1 in mm: 500\n",
      "Road measurement 2 in mm: -90\n",
      "Road measurement 3 in mm: 1000\n",
      "Sensor name: (enter to exit) \n",
      "{'Basement': [5, -75, 125], 'Garden': [400, -100, 800], 'Road': [500, -90, 1000]}\n"
     ]
    }
   ],
   "source": [
    "sensors = {}\n",
    "while True:\n",
    "    name = get_input('Sensor name: (enter to exit) ', type_req = str, blank_ok = True)\n",
    "    if not name:\n",
    "        break\n",
    "    if name not in sensors:\n",
    "        sensors[name] = get_input(f'{name} measurement ± in mm: ',\n",
    "                                cont_qty = 3, inc_count = True,\n",
    "                                int_range = [ (-100, 10), (1, 10), (100, 1000) ]\n",
    "                                 )\n",
    "    else:\n",
    "        print('Sorry, than name has been used already')\n",
    "print(sensors)"
   ]
  },
  {
   "cell_type": "code",
   "execution_count": null,
   "metadata": {},
   "outputs": [],
   "source": []
  }
 ],
 "metadata": {
  "kernelspec": {
   "display_name": "Python 3",
   "language": "python",
   "name": "python3"
  },
  "language_info": {
   "codemirror_mode": {
    "name": "ipython",
    "version": 3
   },
   "file_extension": ".py",
   "mimetype": "text/x-python",
   "name": "python",
   "nbconvert_exporter": "python",
   "pygments_lexer": "ipython3",
   "version": "3.7.0"
  }
 },
 "nbformat": 4,
 "nbformat_minor": 2
}
