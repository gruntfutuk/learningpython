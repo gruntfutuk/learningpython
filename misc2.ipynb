{
 "cells": [
  {
   "cell_type": "code",
   "execution_count": null,
   "metadata": {},
   "outputs": [],
   "source": [
    "import pandas as pd"
   ]
  },
  {
   "cell_type": "code",
   "execution_count": null,
   "metadata": {},
   "outputs": [],
   "source": [
    "pd.from"
   ]
  },
  {
   "cell_type": "code",
   "execution_count": null,
   "metadata": {},
   "outputs": [],
   "source": [
    "for i in range(1, (teamMembers + 1)): # We have created a for loop within the IF statement for \"Create a Project\". This allows the user to insert as many team members as desired.\n",
    "        membName = input(\"Enter the name of team member {}: \".format(i))\n",
    "      if membName.isalpha() == False:\n",
    "        input(\"Invalid member name. Please enter your team member name: \")\n",
    "      return"
   ]
  },
  {
   "cell_type": "code",
   "execution_count": null,
   "metadata": {},
   "outputs": [],
   "source": [
    "    def get_names_of_team_members(teamMembers):\n",
    "        memb_names = []\n",
    "        for memb_num in range(1, teamMembers + 1):\n",
    "            while True:\n",
    "                memb_name = input(f'Enter the name of team member {memb_num:2}: ')\n",
    "                if memb_name.isalpha():\n",
    "                    break\n",
    "                print('Sorry. That is not an acceptable name. Please try again.')\n",
    "            memb_names.append(memb_name)\n",
    "        return memb_names\n",
    "\n",
    "    print(get_names_of_team_members(6))  # just testing"
   ]
  },
  {
   "cell_type": "code",
   "execution_count": null,
   "metadata": {},
   "outputs": [],
   "source": [
    "def two_lengt_run(list):\n",
    "    i = 0\n",
    "    p = []\n",
    "    g = 0\n",
    "    a = False\n",
    "    length = len(list)\n",
    "    while i in range(0,length):\n",
    "      if int(list[i]) == int(list[i+1]):\n",
    "            a = True\n",
    "            g = g + 1\n",
    "      elif int(list[i]) != int(list[i+1]):\n",
    "            a = False\n",
    "      if a == False:\n",
    "        p.append(g + 1)\n",
    "        g = 0\n",
    "      if i != length:\n",
    "        break\n",
    "    i = i + 1\n",
    "    print(max(p))\n",
    "\n",
    "list = input('Enter a list of characters separated ').strip().split(\" \")\n",
    "two_lengt_run(list)"
   ]
  },
  {
   "cell_type": "code",
   "execution_count": null,
   "metadata": {},
   "outputs": [],
   "source": [
    "import random\n",
    "\n",
    "# ERRORS\n",
    "INVALID_INPUT = 'Invalid input, type either 1 or 2.'\n",
    "INVALID_CHOICE = 'Invalid choice. You can only choose rock, paper or scissors!'\n",
    "\n",
    "results = {'computers_score': 0, 'players_score': 0, 'tie': 0}\n",
    "options = ['rock', 'paper', 'scissors']\n",
    "\n",
    "\n",
    "def menu():\n",
    "    \"\"\"\n",
    "    After every game the player can choose\n",
    "    to continue playing the game or quit\n",
    "    :return: the integer 1, 2 or an error message\n",
    "    \"\"\"\n",
    "    try:\n",
    "        choice = int(input('Type 1 to play the game, 2 to quit: '))\n",
    "        if choice in [1, 2]:\n",
    "            return choice\n",
    "        else:\n",
    "            return INVALID_INPUT\n",
    "    except ValueError:\n",
    "        return INVALID_INPUT\n",
    "\n",
    "\n",
    "def rock_paper_scissors(computers_move, players_move):\n",
    "    \"\"\"\n",
    "    Determine the result of the game.\n",
    "    If there is a winner increase their score\n",
    "    otherwise its a tie\n",
    "    :return: None\n",
    "    \"\"\"\n",
    "    global options\n",
    "\n",
    "    if computers_move == players_move:\n",
    "        results['tie'] += 1\n",
    "    else:\n",
    "        if 'paper' in [computers_move, players_move]:\n",
    "            if options.index(computers_move) > options.index(players_move):\n",
    "                results['computers_score'] += 1\n",
    "            else:\n",
    "                results['players_score'] += 1\n",
    "        else:\n",
    "            if players_move == 'rock':\n",
    "                results['players_score'] += 1\n",
    "            else:\n",
    "                results['computers_score'] += 1\n",
    "\n",
    "    return None\n",
    "\n",
    "\n",
    "def game():\n",
    "    \"\"\"\n",
    "    This is the main function of the game.\n",
    "    The player can play as much games as he/she wants.\n",
    "    :return: If the player quits the game the results are displayed\n",
    "    \"\"\"\n",
    "    print('The game started...')\n",
    "    new_game = menu()\n",
    "\n",
    "    while new_game is 1:\n",
    "        computers_move = random.choice(options)\n",
    "        players_move = input('Choose \\'rock\\', \\'paper\\' or \\'scissors\\': ')\n",
    "\n",
    "        if players_move in options:\n",
    "            rock_paper_scissors(computers_move, players_move)\n",
    "            print(f'Computer: {computers_move}\\nPlayer: {players_move}\\n')\n",
    "        else:\n",
    "            print(INVALID_CHOICE, '\\n')\n",
    "\n",
    "        new_game = menu()\n",
    "\n",
    "    if new_game is 2:\n",
    "        return f\"\\nResults\\nYou played {sum(results.values())} game(s).\" \\\n",
    "               f\"\\n{', '.join([f'{k}: {v}' for k, v in results.items()])}\"\n",
    "\n",
    "    return new_game\n",
    "\n",
    "\n",
    "print(game())"
   ]
  },
  {
   "cell_type": "code",
   "execution_count": null,
   "metadata": {},
   "outputs": [],
   "source": [
    "    def choice(player):\n",
    "        while True:\n",
    "            x_or_o = input (f\"{player}, what's your choice from X and O? \").upper()\n",
    "            if x_or_o in ['X', 'O']:\n",
    "                print(f'{player} choose {x_or_o}.')\n",
    "                return x_or_o\n",
    "            print(f'{x_or_o} is not a valid choice. Please try again.')\n",
    "\n",
    "    player1 = choice('Player 1')\n",
    "    plater2 = choice('Player 2')"
   ]
  },
  {
   "cell_type": "code",
   "execution_count": null,
   "metadata": {},
   "outputs": [],
   "source": [
    "    def find_2nd_occurrence(table, target):\n",
    "        ''' find & return key in <table> with 2nd occurrence of <target> '''\n",
    "        found_first = False\n",
    "        for key, value in table.items():\n",
    "            if value == target:\n",
    "                if found_first:\n",
    "                    return key\n",
    "                found_first = True\n",
    "\n",
    "    print(find_2nd_occurrence({1: 2, 2: 2, 3: 3, 4: 3}, 4))"
   ]
  },
  {
   "cell_type": "code",
   "execution_count": null,
   "metadata": {},
   "outputs": [],
   "source": [
    "    SUITS = 1, 2, 3, 4\n",
    "    VALUES = tuple(range(1, 14))\n",
    "\n",
    "    def make_deck(highcard):\n",
    "\n",
    "        if not (1 <= highcard <=13):\n",
    "            raise ValueError('Out of range for card value')\n",
    "\n",
    "        new_deck = []\n",
    "        for suit in SUITS:\n",
    "            for face in VALUES[:highcard]:\n",
    "                new_deck.append(f'{suit}{face:0>2}')\n",
    "        return new_deck\n",
    "\n",
    "    print(make_deck(4))\n",
    "    print(make_deck(13))"
   ]
  },
  {
   "cell_type": "code",
   "execution_count": null,
   "metadata": {},
   "outputs": [],
   "source": [
    "    SUITS = 1, 2, 3, 4\n",
    "    VALUES = tuple(range(1, 14))\n",
    "\n",
    "    def make_deck(highcard):\n",
    "\n",
    "        if not (1 <= highcard <=13):\n",
    "            raise ValueError('Out of range for card value')\n",
    "\n",
    "        return [f'{suit}{face:0>2}' for suit in SUITS for face in VALUES[:highcard]]\n",
    "\n",
    "    print(make_deck(4))\n",
    "    print(make_deck(13))"
   ]
  },
  {
   "cell_type": "code",
   "execution_count": null,
   "metadata": {},
   "outputs": [],
   "source": [
    "    SUITS = \"C\", 'H', 'D', 'S'\n",
    "    VALUES = 1, 2, 3, 4, 5, 6, 7, 8, 9, 'J', 'Q', 'K'\n",
    "\n",
    "    def make_deck(highcard):\n",
    "\n",
    "        if not (1 <= highcard <=13):\n",
    "            raise ValueError('Out of range for card value')\n",
    "\n",
    "        return [f'{suit}{face:0>2}' for suit in SUITS for face in VALUES[:highcard]]\n",
    "\n",
    "    print(make_deck(4))\n",
    "    print(make_deck(13))"
   ]
  },
  {
   "cell_type": "code",
   "execution_count": null,
   "metadata": {},
   "outputs": [],
   "source": [
    "    def mean(lst):\n",
    "        number = sum(lst) / float(len(lst))\n",
    "        return round(number, 2)\n",
    "\n",
    "    class Test():\n",
    "\n",
    "        test_count = 0\n",
    "\n",
    "        def assert_equals(result, target):\n",
    "            Test.test_count += 1\n",
    "            try:\n",
    "                assert result == target, f'test {Test.test_count:3} fail'\n",
    "                print(f'test {Test.test_count:3} pass')\n",
    "            except AssertionError as e:\n",
    "                print(e)\n",
    "\n",
    "    Test.assert_equals((mean([1, 0, 4, 5, 2, 4, 1, 2, 3, 3, 3])), 2.55)\n",
    "    Test.assert_equals((mean([324, 543, 654, 9876])), 2849.25)\n",
    "    Test.assert_equals((mean([0, 0, 0, 0])), 0.00)\n",
    "    Test.assert_equals((mean([30, 40, 20, 100, 30])), 44.00)\n",
    "    Test.assert_equals((mean([1, 1, 1, 0])), 0.75)\n",
    "    Test.assert_equals((mean([1, 1, 0, 1, 2, 1, 1, 1, 0, 0])), 0.80)\n",
    "    Test.assert_equals((mean([10000])), 10000.00)"
   ]
  },
  {
   "cell_type": "code",
   "execution_count": null,
   "metadata": {},
   "outputs": [],
   "source": [
    "import openpyxl \n",
    "import os\n",
    "\n",
    "\n",
    "#newdir = os.chdir(\"april\")\n",
    "#cwd = os.getcwd()\n",
    "\n",
    "book = openpyxl.Workbook()\n",
    "book.create_sheet('morning', 0)\n",
    "book.create_sheet('noon', 1)\n",
    "book.create_sheet('evening', 2)\n",
    "book.save(\"output.xlsx\")\n",
    "\n",
    "    for filename in os.listdir():\n",
    "        if filename.endswith(\".xlsx\") and filename != \"output.xlsx\":\n",
    "            wb = openpyxl.load_workbook(filename, data_only=True)\n",
    "            for sheet in wb:\n",
    "                L = [sheet['A4'].value, sheet['C3'].value, sheet['D3'].value, sheet['E3']]\n",
    "                book[sheet.title]['A4'].value = sheet['A4'].value\n",
    "            book.save(\"output.xlsx\")"
   ]
  },
  {
   "cell_type": "code",
   "execution_count": null,
   "metadata": {},
   "outputs": [],
   "source": [
    "dir(sheet)"
   ]
  },
  {
   "cell_type": "code",
   "execution_count": null,
   "metadata": {},
   "outputs": [],
   "source": [
    "sheet.sheet_properties"
   ]
  },
  {
   "cell_type": "code",
   "execution_count": null,
   "metadata": {},
   "outputs": [],
   "source": [
    "sheet.title"
   ]
  },
  {
   "cell_type": "code",
   "execution_count": null,
   "metadata": {},
   "outputs": [],
   "source": [
    "ws['morning']"
   ]
  },
  {
   "cell_type": "code",
   "execution_count": null,
   "metadata": {},
   "outputs": [],
   "source": [
    "def menu():\n",
    "    print('1. Add a contact')\n",
    "    print('2. Show the list of contacts')\n",
    "    print('3. Search for a name in the list')\n",
    "    print('4. Modify a contact')\n",
    "    print('5. Delete a contact from the list')\n",
    "    print('6. Quit')\n",
    "    print()\n",
    "    choice = input(\"Choice Menu: \")\n",
    "    return choice\n",
    "\n",
    "def add_contact():\n",
    "    another = 'y'\n",
    "    while another in ['y', 'Y']:\n",
    "        with open('contacts.txt', 'a') as contacts_file:\n",
    "            print('Enter the following contact info: ')\n",
    "            name = input('Name: ')\n",
    "            email = input('E-Mail: ')\n",
    "            phone = input('Phone: ')\n",
    "            contacts_file.write(name + '\\n')\n",
    "            contacts_file.write(email + '\\n')\n",
    "            contacts_file.write(phone + '\\n')\n",
    "        print('Would you like to enter another contact?')\n",
    "        another = input('y = yes, n = No: ')\n",
    "\n",
    "def show_list():\n",
    "    with open('contacts.txt', 'r') as contacts_file:\n",
    "        while True:\n",
    "            try:\n",
    "                name = next(contacts_file)\n",
    "                email = next(contacts_file)\n",
    "                phone = next(contacts_file)\n",
    "            except:\n",
    "                break\n",
    "            print(f'{name[:-1]:_<15} {email[:-1]:_<15} {phone[:-1]:_<10}')\n",
    "\n",
    "\n",
    "while True:\n",
    "    choice = menu()\n",
    "    if choice == \"6\":\n",
    "        break\n",
    "    if choice == \"1\":\n",
    "        add_contact()\n",
    "    elif choice == \"2\":\n",
    "        show_list()\n",
    "    else:\n",
    "        print('Sorry, that option not currently available')\n"
   ]
  },
  {
   "cell_type": "code",
   "execution_count": null,
   "metadata": {},
   "outputs": [],
   "source": [
    "!cat contacts.txt"
   ]
  },
  {
   "cell_type": "code",
   "execution_count": null,
   "metadata": {},
   "outputs": [],
   "source": [
    "    from random import randrange\n",
    "    from collections import Counter\n",
    "    myList = [randrange(1, 10) for _ in range(101)]\n",
    "    frequencies = Counter(myList)\n",
    "    highest = max(frequencies.values())\n",
    "    print(f\"{', '.join([str(k) for k, v in frequencies.items() if v==highest])} appeared {highest} times.\")"
   ]
  },
  {
   "cell_type": "code",
   "execution_count": null,
   "metadata": {},
   "outputs": [],
   "source": [
    "highest\n",
    "frequencies"
   ]
  },
  {
   "cell_type": "code",
   "execution_count": null,
   "metadata": {},
   "outputs": [],
   "source": [
    "sorted_d = sorted(d.items(), key=lambda x: x[1])\n",
    "# equivalent version\n",
    "# sorted_d = sorted(d.items(), key=lambda (k,v): v)"
   ]
  },
  {
   "cell_type": "code",
   "execution_count": 1,
   "metadata": {},
   "outputs": [],
   "source": [
    "from __future__ import print_function\n",
    "from ipywidgets import interact, interactive, fixed, interact_manual\n",
    "import ipywidgets as widgets"
   ]
  },
  {
   "cell_type": "code",
   "execution_count": 2,
   "metadata": {},
   "outputs": [],
   "source": [
    "def f(x):\n",
    "    return x*2"
   ]
  },
  {
   "cell_type": "code",
   "execution_count": 3,
   "metadata": {},
   "outputs": [
    {
     "data": {
      "application/vnd.jupyter.widget-view+json": {
       "model_id": "44db9bb626964752952ec39a2eba857a",
       "version_major": 2,
       "version_minor": 0
      },
      "text/plain": [
       "interactive(children=(Text(value='Hi there!', description='x'), Output()), _dom_classes=('widget-interact',))"
      ]
     },
     "metadata": {},
     "output_type": "display_data"
    }
   ],
   "source": [
    "interact(f, x='Hi there!');"
   ]
  },
  {
   "cell_type": "code",
   "execution_count": 4,
   "metadata": {},
   "outputs": [
    {
     "data": {
      "application/vnd.jupyter.widget-view+json": {
       "model_id": "c6431b53341144fbb0ea01bb5c769fcf",
       "version_major": 2,
       "version_minor": 0
      },
      "text/plain": [
       "interactive(children=(Checkbox(value=True, description='x'), FloatSlider(value=1.0, description='y', max=3.0, …"
      ]
     },
     "metadata": {},
     "output_type": "display_data"
    }
   ],
   "source": [
    "@interact(x=True, y=1.0)\n",
    "def g(x, y):\n",
    "    return (x, y)"
   ]
  },
  {
   "cell_type": "code",
   "execution_count": 5,
   "metadata": {},
   "outputs": [],
   "source": [
    "from IPython.display import display\n",
    "def f(a, b):\n",
    "    display(a + b)\n",
    "    return a+b"
   ]
  },
  {
   "cell_type": "code",
   "execution_count": 6,
   "metadata": {},
   "outputs": [],
   "source": [
    "w = interactive(f, a=10, b=20)"
   ]
  },
  {
   "cell_type": "code",
   "execution_count": 7,
   "metadata": {},
   "outputs": [
    {
     "data": {
      "application/vnd.jupyter.widget-view+json": {
       "model_id": "d0152b0e9c71478ca72b566b2c093fa4",
       "version_major": 2,
       "version_minor": 0
      },
      "text/plain": [
       "interactive(children=(IntSlider(value=10, description='a', max=30, min=-10), IntSlider(value=20, description='…"
      ]
     },
     "metadata": {},
     "output_type": "display_data"
    }
   ],
   "source": [
    "display(w)"
   ]
  },
  {
   "cell_type": "code",
   "execution_count": 8,
   "metadata": {},
   "outputs": [],
   "source": [
    "def slow_function(i):\n",
    "    print(int(i),list(x for x in range(int(i)) if\n",
    "                str(x)==str(x)[::-1] and\n",
    "                str(x**2)==str(x**2)[::-1]))\n",
    "    return"
   ]
  },
  {
   "cell_type": "code",
   "execution_count": 9,
   "metadata": {},
   "outputs": [
    {
     "name": "stdout",
     "output_type": "stream",
     "text": [
      "1000000 [0, 1, 2, 3, 11, 22, 101, 111, 121, 202, 212, 1001, 1111, 2002, 10001, 10101, 10201, 11011, 11111, 11211, 20002, 20102, 100001, 101101, 110011, 111111, 200002]\n",
      "CPU times: user 580 ms, sys: 2.07 ms, total: 582 ms\n",
      "Wall time: 581 ms\n"
     ]
    }
   ],
   "source": [
    "%%time\n",
    "slow_function(1e6)"
   ]
  },
  {
   "cell_type": "code",
   "execution_count": 10,
   "metadata": {},
   "outputs": [
    {
     "data": {
      "application/vnd.jupyter.widget-view+json": {
       "model_id": "66151e7865bb4386ad65b7f367dd7e4f",
       "version_major": 2,
       "version_minor": 0
      },
      "text/plain": [
       "interactive(children=(FloatSlider(value=100000.0, description='i', max=10000000.0, min=100000.0, step=100000.0…"
      ]
     },
     "metadata": {},
     "output_type": "display_data"
    }
   ],
   "source": [
    "from ipywidgets import FloatSlider\n",
    "interact(slow_function,i=FloatSlider(min=1e5, max=1e7, step=1e5));"
   ]
  },
  {
   "cell_type": "code",
   "execution_count": 11,
   "metadata": {},
   "outputs": [
    {
     "data": {
      "application/vnd.jupyter.widget-view+json": {
       "model_id": "978ed559bd7c4f76b1e6cded3e2f2e92",
       "version_major": 2,
       "version_minor": 0
      },
      "text/plain": [
       "HBox(children=(IntSlider(value=0), IntSlider(value=0), IntSlider(value=0)))"
      ]
     },
     "metadata": {},
     "output_type": "display_data"
    },
    {
     "data": {
      "application/vnd.jupyter.widget-view+json": {
       "model_id": "a8c5fc9aab6b479eb1bd08e9e19bc29b",
       "version_major": 2,
       "version_minor": 0
      },
      "text/plain": [
       "Output()"
      ]
     },
     "metadata": {},
     "output_type": "display_data"
    }
   ],
   "source": [
    "a = widgets.IntSlider()\n",
    "b = widgets.IntSlider()\n",
    "c = widgets.IntSlider()\n",
    "ui = widgets.HBox([a, b, c])\n",
    "def f(a, b, c):\n",
    "    print((a, b, c))\n",
    "\n",
    "out = widgets.interactive_output(f, {'a': a, 'b': b, 'c': c})\n",
    "\n",
    "display(ui, out)"
   ]
  },
  {
   "cell_type": "code",
   "execution_count": 29,
   "metadata": {},
   "outputs": [
    {
     "data": {
      "application/vnd.jupyter.widget-view+json": {
       "model_id": "4fb96f258ae344c0a0861c009770ed73",
       "version_major": 2,
       "version_minor": 0
      },
      "text/plain": [
       "interactive(children=(FloatSlider(value=0.0, description='m', max=2.0, min=-2.0), FloatSlider(value=0.0, descr…"
      ]
     },
     "metadata": {},
     "output_type": "display_data"
    }
   ],
   "source": [
    "%matplotlib inline\n",
    "from ipywidgets import interactive\n",
    "import matplotlib.pyplot as plt\n",
    "import numpy as np\n",
    "\n",
    "def f(m, b):\n",
    "    plt.figure(2)\n",
    "    x = np.linspace(-10, 10, num=1000)\n",
    "    plt.plot(x, m * x + b)\n",
    "    plt.ylim(-5, 5)\n",
    "    plt.show()\n",
    "\n",
    "interactive_plot = interactive(f, m=(-2.0, 2.0), b=(-3, 3, 0.5))\n",
    "output = interactive_plot.children[-1]\n",
    "output.layout.height = '350px'\n",
    "interactive_plot"
   ]
  },
  {
   "cell_type": "code",
   "execution_count": null,
   "metadata": {},
   "outputs": [],
   "source": [
    "import csv\n",
    "\n",
    "    with open ('HydroRAINFALL.csv', 'a') as csvfile:\n",
    "        date = print(input('What is the date of the latest measurement? (DD/MM/YYYY)'))\n",
    "        measurement = print(input('What was the latest measurement? (mm)'))\n",
    "        with open('HydroInfo.csv' , 'a') as csvfile:\n",
    "            date = (date)  # huh?\n",
    "            writerow = csvfile.writerow(csvfile,delimiter=',')\n",
    "            writerow(date + \" : \" )\n",
    "            writerow(measurement)\n",
    "            writerow('\\n')\n",
    "\n",
    "    with open('HydroInfo.csv' , 'a') as csvfile:\n",
    "        lineList = csvfile.readlines()\n",
    "        for line in sorted(lineList):\n",
    "            print(line.rstrip());\n",
    "        print(row)"
   ]
  }
 ],
 "metadata": {
  "kernelspec": {
   "display_name": "Python 3",
   "language": "python",
   "name": "python3"
  },
  "language_info": {
   "codemirror_mode": {
    "name": "ipython",
    "version": 3
   },
   "file_extension": ".py",
   "mimetype": "text/x-python",
   "name": "python",
   "nbconvert_exporter": "python",
   "pygments_lexer": "ipython3",
   "version": "3.7.0"
  }
 },
 "nbformat": 4,
 "nbformat_minor": 2
}
